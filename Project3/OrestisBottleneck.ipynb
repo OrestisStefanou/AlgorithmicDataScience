{
  "nbformat": 4,
  "nbformat_minor": 0,
  "metadata": {
    "accelerator": "GPU",
    "colab": {
      "name": "OrestisBottleneck.ipynb",
      "provenance": [],
      "collapsed_sections": []
    },
    "kernelspec": {
      "display_name": "Python 3",
      "language": "python",
      "name": "python3"
    },
    "language_info": {
      "codemirror_mode": {
        "name": "ipython",
        "version": 3
      },
      "file_extension": ".py",
      "mimetype": "text/x-python",
      "name": "python",
      "nbconvert_exporter": "python",
      "pygments_lexer": "ipython3",
      "version": "3.8.5"
    }
  },
  "cells": [
    {
      "cell_type": "code",
      "metadata": {
        "colab": {
          "base_uri": "https://localhost:8080/"
        },
        "id": "7XMhec7aVCrG",
        "outputId": "7a3d478e-ad22-4aa5-f5e1-f21cf1fcb1ba"
      },
      "source": [
        "from google.colab import drive\n",
        "drive.mount('/content/drive')\n",
        "import keras\n",
        "from matplotlib import pyplot as plt\n",
        "import numpy as np\n",
        "import gzip\n",
        "%matplotlib inline\n",
        "from keras.models import Model\n",
        "from keras.optimizers import RMSprop\n",
        "from keras.layers import Input,Dense,Flatten,Dropout,merge,Reshape,Conv2D,MaxPooling2D,UpSampling2D,Conv2DTranspose\n",
        "from keras.layers.normalization import BatchNormalization\n",
        "from keras.models import Model,Sequential\n",
        "from keras.callbacks import ModelCheckpoint\n",
        "from keras.optimizers import Adadelta, RMSprop,SGD,Adam\n",
        "from keras import regularizers\n",
        "from keras import backend as K\n",
        "from keras.utils import to_categorical\n",
        "import struct as st\n"
      ],
      "execution_count": 1,
      "outputs": [
        {
          "output_type": "stream",
          "text": [
            "Mounted at /content/drive\n"
          ],
          "name": "stdout"
        }
      ]
    },
    {
      "cell_type": "code",
      "metadata": {
        "id": "JlOHefKYV6mq"
      },
      "source": [
        "def read_data(filename):\n",
        "    file = gzip.open(filename,'rb')\n",
        "    file.seek(0)\n",
        "    magic_number = st.unpack('>4B',file.read(4)) # read magic number\n",
        "    number_of_images = st.unpack('>I',file.read(4))[0] # read number of images\n",
        "    number_of_rows = st.unpack('>I',file.read(4))[0] #read number of rows\n",
        "    number_of_columns = st.unpack('>I',file.read(4))[0] #read number of column\n",
        "    with gzip.open(filename) as file_stream:\n",
        "        file_stream.read(16)\n",
        "        buf = file_stream.read(number_of_rows * number_of_columns * number_of_images)\n",
        "        data = np.frombuffer(buf, dtype=np.uint8).astype(np.float32)\n",
        "        data = data.reshape(number_of_images, number_of_rows,number_of_columns)\n",
        "        return data"
      ],
      "execution_count": 2,
      "outputs": []
    },
    {
      "cell_type": "code",
      "metadata": {
        "id": "vo_tZY7CV9I2"
      },
      "source": [
        "train_data = read_data('/content/train-images-idx3-ubyte.gz')\n",
        "test_data = read_data('/content/t10k-images-idx3-ubyte.gz')"
      ],
      "execution_count": 3,
      "outputs": []
    },
    {
      "cell_type": "code",
      "metadata": {
        "id": "KNNj-GLKWAPS"
      },
      "source": [
        "def read_labels(filename):\n",
        "    file = gzip.open(filename,'rb')\n",
        "    file.seek(0)\n",
        "    magic_number = st.unpack('>4B',file.read(4)) # read magic number\n",
        "    number_of_iteams = st.unpack('>I',file.read(4))[0] # read number of images\n",
        "    with gzip.open(filename) as file_stream:\n",
        "        file_stream.read(8)\n",
        "        buf = file_stream.read(number_of_iteams)\n",
        "        labels = np.frombuffer(buf, dtype=np.uint8).astype(np.int64)\n",
        "        return labels"
      ],
      "execution_count": 4,
      "outputs": []
    },
    {
      "cell_type": "code",
      "metadata": {
        "id": "C6NIQSXoWC8U"
      },
      "source": [
        "train_labels = read_labels('/content/train-labels-idx1-ubyte.gz')\n",
        "test_labels = read_labels('/content/t10k-labels-idx1-ubyte.gz')"
      ],
      "execution_count": 5,
      "outputs": []
    },
    {
      "cell_type": "code",
      "metadata": {
        "id": "F61oe_qagSol"
      },
      "source": [
        "# Create dictionary of target classes\n",
        "label_dict = {\n",
        " 0: '0',\n",
        " 1: '1',\n",
        " 2: '2',\n",
        " 3: '3',\n",
        " 4: '4',\n",
        " 5: '5',\n",
        " 6: '6',\n",
        " 7: '7',\n",
        " 8: '8',\n",
        " 9: '9',\n",
        "}"
      ],
      "execution_count": 6,
      "outputs": []
    },
    {
      "cell_type": "code",
      "metadata": {
        "colab": {
          "base_uri": "https://localhost:8080/"
        },
        "id": "sgKN3Nb_gWHG",
        "outputId": "3a3da91d-85d3-4430-8c40-39eabe047d05"
      },
      "source": [
        "train_data = train_data.reshape(-1, 28,28, 1)\n",
        "test_data = test_data.reshape(-1, 28,28, 1)\n",
        "train_data.shape, test_data.shape"
      ],
      "execution_count": 7,
      "outputs": [
        {
          "output_type": "execute_result",
          "data": {
            "text/plain": [
              "((60000, 28, 28, 1), (10000, 28, 28, 1))"
            ]
          },
          "metadata": {
            "tags": []
          },
          "execution_count": 7
        }
      ]
    },
    {
      "cell_type": "code",
      "metadata": {
        "id": "AdtTiViwgZVq"
      },
      "source": [
        "train_data = train_data / np.max(train_data)\n",
        "test_data = test_data / np.max(test_data)"
      ],
      "execution_count": 8,
      "outputs": []
    },
    {
      "cell_type": "code",
      "metadata": {
        "id": "ihw7P9wdgcsh"
      },
      "source": [
        "from sklearn.model_selection import train_test_split\n",
        "train_X,valid_X,train_ground,valid_ground = train_test_split(train_data,\n",
        "                                                             train_data,\n",
        "                                                             test_size=0.2,\n",
        "                                                             random_state=13)"
      ],
      "execution_count": 9,
      "outputs": []
    },
    {
      "cell_type": "code",
      "metadata": {
        "id": "F-z-mIq7ggB1"
      },
      "source": [
        "batch_size = 128\n",
        "epochs = 25\n",
        "inChannel = 1\n",
        "x, y = 28, 28\n",
        "input_img = Input(shape = (x, y, inChannel))\n",
        "num_classes = 10\n",
        "n_inputs = train_data.shape[1]"
      ],
      "execution_count": 11,
      "outputs": []
    },
    {
      "cell_type": "code",
      "metadata": {
        "id": "3M0CND16gihF"
      },
      "source": [
        "\n",
        "\n",
        "#encoder\n",
        "conv1 = Conv2D(32, (2, 2), activation='relu', padding='valid',strides=2)(input_img) # 14 x 14 x 32\n",
        "conv2 = Conv2D(64, (2, 2), activation='relu', padding='valid',strides=2)(conv1) # 7 x 7 x 64\n",
        "conv3 = Conv2D(128, (2, 2), activation='relu', padding='valid',strides=2)(conv2) # 3 x 3 x 128\n",
        "\n",
        "# bottleneck\n",
        "n_bottleneck = 1\n",
        "bottleneck = Dense(n_bottleneck)(conv2)\n",
        "\n",
        "flatten = Flatten()(conv3)\n",
        "encoded = Dense(int(10), activation='relu')(flatten)\n",
        "decoded = Dense(units = 3*3*128, activation='relu')(encoded)\n",
        "reshape = Reshape(target_shape = (3,3,128))(decoded)  # 3 x 3 x 128\n",
        "\n",
        "\n",
        "#decoder\n",
        "conv4 = Conv2DTranspose(64, (3, 3), activation='relu', padding='valid',strides=2)(reshape) # 7 x 7 x 64\n",
        "conv5 = Conv2DTranspose(32, (2, 2), activation='relu', padding='valid',strides=2)(conv4) # 14 x 14 x 32\n",
        "conv6 = Conv2DTranspose(1, (2, 2), activation='sigmoid', padding='valid',strides=2)(conv5) # 28 x 28 x 1\n",
        "\n",
        "\n",
        "decoded = conv6"
      ],
      "execution_count": 12,
      "outputs": []
    },
    {
      "cell_type": "code",
      "metadata": {
        "id": "zlYIxF0vh0Fl"
      },
      "source": [
        "autoencoder = Model(input_img, decoded)\n",
        "autoencoder.compile(loss='mean_squared_error', optimizer = RMSprop())"
      ],
      "execution_count": 13,
      "outputs": []
    },
    {
      "cell_type": "code",
      "metadata": {
        "id": "X-n2bZS86_LB"
      },
      "source": [
        ""
      ],
      "execution_count": null,
      "outputs": []
    },
    {
      "cell_type": "code",
      "metadata": {
        "colab": {
          "base_uri": "https://localhost:8080/",
          "height": 1000
        },
        "id": "3IOualMXitaB",
        "outputId": "cc7b942b-08b1-471d-a0e5-52e65af1be68"
      },
      "source": [
        "autoencoder.summary()\n",
        "\n",
        "from IPython.display import SVG\n",
        "from keras.utils.vis_utils import model_to_dot\n",
        "\n",
        "SVG(model_to_dot(autoencoder,show_shapes=True,dpi=65).create(prog='dot', format='svg'))"
      ],
      "execution_count": 14,
      "outputs": [
        {
          "output_type": "stream",
          "text": [
            "Model: \"model\"\n",
            "_________________________________________________________________\n",
            "Layer (type)                 Output Shape              Param #   \n",
            "=================================================================\n",
            "input_2 (InputLayer)         [(None, 28, 28, 1)]       0         \n",
            "_________________________________________________________________\n",
            "conv2d (Conv2D)              (None, 14, 14, 32)        160       \n",
            "_________________________________________________________________\n",
            "conv2d_1 (Conv2D)            (None, 7, 7, 64)          8256      \n",
            "_________________________________________________________________\n",
            "conv2d_2 (Conv2D)            (None, 3, 3, 128)         32896     \n",
            "_________________________________________________________________\n",
            "flatten (Flatten)            (None, 1152)              0         \n",
            "_________________________________________________________________\n",
            "dense_1 (Dense)              (None, 10)                11530     \n",
            "_________________________________________________________________\n",
            "dense_2 (Dense)              (None, 1152)              12672     \n",
            "_________________________________________________________________\n",
            "reshape (Reshape)            (None, 3, 3, 128)         0         \n",
            "_________________________________________________________________\n",
            "conv2d_transpose (Conv2DTran (None, 7, 7, 64)          73792     \n",
            "_________________________________________________________________\n",
            "conv2d_transpose_1 (Conv2DTr (None, 14, 14, 32)        8224      \n",
            "_________________________________________________________________\n",
            "conv2d_transpose_2 (Conv2DTr (None, 28, 28, 1)         129       \n",
            "=================================================================\n",
            "Total params: 147,659\n",
            "Trainable params: 147,659\n",
            "Non-trainable params: 0\n",
            "_________________________________________________________________\n"
          ],
          "name": "stdout"
        },
        {
          "output_type": "execute_result",
          "data": {
            "text/plain": [
              "<IPython.core.display.SVG object>"
            ],
            "image/svg+xml": "<svg height=\"799pt\" viewBox=\"0.00 0.00 442.00 885.00\" width=\"399pt\" xmlns=\"http://www.w3.org/2000/svg\" xmlns:xlink=\"http://www.w3.org/1999/xlink\">\n<g class=\"graph\" id=\"graph0\" transform=\"scale(.9028 .9028) rotate(0) translate(4 881)\">\n<title>G</title>\n<polygon fill=\"#ffffff\" points=\"-4,4 -4,-881 438,-881 438,4 -4,4\" stroke=\"transparent\"/>\n<!-- 140473567337832 -->\n<g class=\"node\" id=\"node1\">\n<title>140473567337832</title>\n<polygon fill=\"none\" points=\"58.5,-830.5 58.5,-876.5 375.5,-876.5 375.5,-830.5 58.5,-830.5\" stroke=\"#000000\"/>\n<text fill=\"#000000\" font-family=\"Times,serif\" font-size=\"14.00\" text-anchor=\"middle\" x=\"125\" y=\"-849.8\">input_2: InputLayer</text>\n<polyline fill=\"none\" points=\"191.5,-830.5 191.5,-876.5 \" stroke=\"#000000\"/>\n<text fill=\"#000000\" font-family=\"Times,serif\" font-size=\"14.00\" text-anchor=\"middle\" x=\"220.5\" y=\"-861.3\">input:</text>\n<polyline fill=\"none\" points=\"191.5,-853.5 249.5,-853.5 \" stroke=\"#000000\"/>\n<text fill=\"#000000\" font-family=\"Times,serif\" font-size=\"14.00\" text-anchor=\"middle\" x=\"220.5\" y=\"-838.3\">output:</text>\n<polyline fill=\"none\" points=\"249.5,-830.5 249.5,-876.5 \" stroke=\"#000000\"/>\n<text fill=\"#000000\" font-family=\"Times,serif\" font-size=\"14.00\" text-anchor=\"middle\" x=\"312.5\" y=\"-861.3\">[(None, 28, 28, 1)]</text>\n<polyline fill=\"none\" points=\"249.5,-853.5 375.5,-853.5 \" stroke=\"#000000\"/>\n<text fill=\"#000000\" font-family=\"Times,serif\" font-size=\"14.00\" text-anchor=\"middle\" x=\"312.5\" y=\"-838.3\">[(None, 28, 28, 1)]</text>\n</g>\n<!-- 140473558711656 -->\n<g class=\"node\" id=\"node2\">\n<title>140473558711656</title>\n<polygon fill=\"none\" points=\"66.5,-747.5 66.5,-793.5 367.5,-793.5 367.5,-747.5 66.5,-747.5\" stroke=\"#000000\"/>\n<text fill=\"#000000\" font-family=\"Times,serif\" font-size=\"14.00\" text-anchor=\"middle\" x=\"125.5\" y=\"-766.8\">conv2d: Conv2D</text>\n<polyline fill=\"none\" points=\"184.5,-747.5 184.5,-793.5 \" stroke=\"#000000\"/>\n<text fill=\"#000000\" font-family=\"Times,serif\" font-size=\"14.00\" text-anchor=\"middle\" x=\"213.5\" y=\"-778.3\">input:</text>\n<polyline fill=\"none\" points=\"184.5,-770.5 242.5,-770.5 \" stroke=\"#000000\"/>\n<text fill=\"#000000\" font-family=\"Times,serif\" font-size=\"14.00\" text-anchor=\"middle\" x=\"213.5\" y=\"-755.3\">output:</text>\n<polyline fill=\"none\" points=\"242.5,-747.5 242.5,-793.5 \" stroke=\"#000000\"/>\n<text fill=\"#000000\" font-family=\"Times,serif\" font-size=\"14.00\" text-anchor=\"middle\" x=\"305\" y=\"-778.3\">(None, 28, 28, 1)</text>\n<polyline fill=\"none\" points=\"242.5,-770.5 367.5,-770.5 \" stroke=\"#000000\"/>\n<text fill=\"#000000\" font-family=\"Times,serif\" font-size=\"14.00\" text-anchor=\"middle\" x=\"305\" y=\"-755.3\">(None, 14, 14, 32)</text>\n</g>\n<!-- 140473567337832&#45;&gt;140473558711656 -->\n<g class=\"edge\" id=\"edge1\">\n<title>140473567337832-&gt;140473558711656</title>\n<path d=\"M217,-830.3799C217,-822.1745 217,-812.7679 217,-803.8786\" fill=\"none\" stroke=\"#000000\"/>\n<polygon fill=\"#000000\" points=\"220.5001,-803.784 217,-793.784 213.5001,-803.784 220.5001,-803.784\" stroke=\"#000000\"/>\n</g>\n<!-- 140473558669184 -->\n<g class=\"node\" id=\"node3\">\n<title>140473558669184</title>\n<polygon fill=\"none\" points=\"59,-664.5 59,-710.5 375,-710.5 375,-664.5 59,-664.5\" stroke=\"#000000\"/>\n<text fill=\"#000000\" font-family=\"Times,serif\" font-size=\"14.00\" text-anchor=\"middle\" x=\"125.5\" y=\"-683.8\">conv2d_1: Conv2D</text>\n<polyline fill=\"none\" points=\"192,-664.5 192,-710.5 \" stroke=\"#000000\"/>\n<text fill=\"#000000\" font-family=\"Times,serif\" font-size=\"14.00\" text-anchor=\"middle\" x=\"221\" y=\"-695.3\">input:</text>\n<polyline fill=\"none\" points=\"192,-687.5 250,-687.5 \" stroke=\"#000000\"/>\n<text fill=\"#000000\" font-family=\"Times,serif\" font-size=\"14.00\" text-anchor=\"middle\" x=\"221\" y=\"-672.3\">output:</text>\n<polyline fill=\"none\" points=\"250,-664.5 250,-710.5 \" stroke=\"#000000\"/>\n<text fill=\"#000000\" font-family=\"Times,serif\" font-size=\"14.00\" text-anchor=\"middle\" x=\"312.5\" y=\"-695.3\">(None, 14, 14, 32)</text>\n<polyline fill=\"none\" points=\"250,-687.5 375,-687.5 \" stroke=\"#000000\"/>\n<text fill=\"#000000\" font-family=\"Times,serif\" font-size=\"14.00\" text-anchor=\"middle\" x=\"312.5\" y=\"-672.3\">(None, 7, 7, 64)</text>\n</g>\n<!-- 140473558711656&#45;&gt;140473558669184 -->\n<g class=\"edge\" id=\"edge2\">\n<title>140473558711656-&gt;140473558669184</title>\n<path d=\"M217,-747.3799C217,-739.1745 217,-729.7679 217,-720.8786\" fill=\"none\" stroke=\"#000000\"/>\n<polygon fill=\"#000000\" points=\"220.5001,-720.784 217,-710.784 213.5001,-720.784 220.5001,-720.784\" stroke=\"#000000\"/>\n</g>\n<!-- 140473558433688 -->\n<g class=\"node\" id=\"node4\">\n<title>140473558433688</title>\n<polygon fill=\"none\" points=\"63,-581.5 63,-627.5 371,-627.5 371,-581.5 63,-581.5\" stroke=\"#000000\"/>\n<text fill=\"#000000\" font-family=\"Times,serif\" font-size=\"14.00\" text-anchor=\"middle\" x=\"129.5\" y=\"-600.8\">conv2d_2: Conv2D</text>\n<polyline fill=\"none\" points=\"196,-581.5 196,-627.5 \" stroke=\"#000000\"/>\n<text fill=\"#000000\" font-family=\"Times,serif\" font-size=\"14.00\" text-anchor=\"middle\" x=\"225\" y=\"-612.3\">input:</text>\n<polyline fill=\"none\" points=\"196,-604.5 254,-604.5 \" stroke=\"#000000\"/>\n<text fill=\"#000000\" font-family=\"Times,serif\" font-size=\"14.00\" text-anchor=\"middle\" x=\"225\" y=\"-589.3\">output:</text>\n<polyline fill=\"none\" points=\"254,-581.5 254,-627.5 \" stroke=\"#000000\"/>\n<text fill=\"#000000\" font-family=\"Times,serif\" font-size=\"14.00\" text-anchor=\"middle\" x=\"312.5\" y=\"-612.3\">(None, 7, 7, 64)</text>\n<polyline fill=\"none\" points=\"254,-604.5 371,-604.5 \" stroke=\"#000000\"/>\n<text fill=\"#000000\" font-family=\"Times,serif\" font-size=\"14.00\" text-anchor=\"middle\" x=\"312.5\" y=\"-589.3\">(None, 3, 3, 128)</text>\n</g>\n<!-- 140473558669184&#45;&gt;140473558433688 -->\n<g class=\"edge\" id=\"edge3\">\n<title>140473558669184-&gt;140473558433688</title>\n<path d=\"M217,-664.3799C217,-656.1745 217,-646.7679 217,-637.8786\" fill=\"none\" stroke=\"#000000\"/>\n<polygon fill=\"#000000\" points=\"220.5001,-637.784 217,-627.784 213.5001,-637.784 220.5001,-637.784\" stroke=\"#000000\"/>\n</g>\n<!-- 140473558529864 -->\n<g class=\"node\" id=\"node5\">\n<title>140473558529864</title>\n<polygon fill=\"none\" points=\"80.5,-498.5 80.5,-544.5 353.5,-544.5 353.5,-498.5 80.5,-498.5\" stroke=\"#000000\"/>\n<text fill=\"#000000\" font-family=\"Times,serif\" font-size=\"14.00\" text-anchor=\"middle\" x=\"129.5\" y=\"-517.8\">flatten: Flatten</text>\n<polyline fill=\"none\" points=\"178.5,-498.5 178.5,-544.5 \" stroke=\"#000000\"/>\n<text fill=\"#000000\" font-family=\"Times,serif\" font-size=\"14.00\" text-anchor=\"middle\" x=\"207.5\" y=\"-529.3\">input:</text>\n<polyline fill=\"none\" points=\"178.5,-521.5 236.5,-521.5 \" stroke=\"#000000\"/>\n<text fill=\"#000000\" font-family=\"Times,serif\" font-size=\"14.00\" text-anchor=\"middle\" x=\"207.5\" y=\"-506.3\">output:</text>\n<polyline fill=\"none\" points=\"236.5,-498.5 236.5,-544.5 \" stroke=\"#000000\"/>\n<text fill=\"#000000\" font-family=\"Times,serif\" font-size=\"14.00\" text-anchor=\"middle\" x=\"295\" y=\"-529.3\">(None, 3, 3, 128)</text>\n<polyline fill=\"none\" points=\"236.5,-521.5 353.5,-521.5 \" stroke=\"#000000\"/>\n<text fill=\"#000000\" font-family=\"Times,serif\" font-size=\"14.00\" text-anchor=\"middle\" x=\"295\" y=\"-506.3\">(None, 1152)</text>\n</g>\n<!-- 140473558433688&#45;&gt;140473558529864 -->\n<g class=\"edge\" id=\"edge4\">\n<title>140473558433688-&gt;140473558529864</title>\n<path d=\"M217,-581.3799C217,-573.1745 217,-563.7679 217,-554.8786\" fill=\"none\" stroke=\"#000000\"/>\n<polygon fill=\"#000000\" points=\"220.5001,-554.784 217,-544.784 213.5001,-554.784 220.5001,-554.784\" stroke=\"#000000\"/>\n</g>\n<!-- 140473353231832 -->\n<g class=\"node\" id=\"node6\">\n<title>140473353231832</title>\n<polygon fill=\"none\" points=\"87.5,-415.5 87.5,-461.5 346.5,-461.5 346.5,-415.5 87.5,-415.5\" stroke=\"#000000\"/>\n<text fill=\"#000000\" font-family=\"Times,serif\" font-size=\"14.00\" text-anchor=\"middle\" x=\"141\" y=\"-434.8\">dense_1: Dense</text>\n<polyline fill=\"none\" points=\"194.5,-415.5 194.5,-461.5 \" stroke=\"#000000\"/>\n<text fill=\"#000000\" font-family=\"Times,serif\" font-size=\"14.00\" text-anchor=\"middle\" x=\"223.5\" y=\"-446.3\">input:</text>\n<polyline fill=\"none\" points=\"194.5,-438.5 252.5,-438.5 \" stroke=\"#000000\"/>\n<text fill=\"#000000\" font-family=\"Times,serif\" font-size=\"14.00\" text-anchor=\"middle\" x=\"223.5\" y=\"-423.3\">output:</text>\n<polyline fill=\"none\" points=\"252.5,-415.5 252.5,-461.5 \" stroke=\"#000000\"/>\n<text fill=\"#000000\" font-family=\"Times,serif\" font-size=\"14.00\" text-anchor=\"middle\" x=\"299.5\" y=\"-446.3\">(None, 1152)</text>\n<polyline fill=\"none\" points=\"252.5,-438.5 346.5,-438.5 \" stroke=\"#000000\"/>\n<text fill=\"#000000\" font-family=\"Times,serif\" font-size=\"14.00\" text-anchor=\"middle\" x=\"299.5\" y=\"-423.3\">(None, 10)</text>\n</g>\n<!-- 140473558529864&#45;&gt;140473353231832 -->\n<g class=\"edge\" id=\"edge5\">\n<title>140473558529864-&gt;140473353231832</title>\n<path d=\"M217,-498.3799C217,-490.1745 217,-480.7679 217,-471.8786\" fill=\"none\" stroke=\"#000000\"/>\n<polygon fill=\"#000000\" points=\"220.5001,-471.784 217,-461.784 213.5001,-471.784 220.5001,-471.784\" stroke=\"#000000\"/>\n</g>\n<!-- 140473353229200 -->\n<g class=\"node\" id=\"node7\">\n<title>140473353229200</title>\n<polygon fill=\"none\" points=\"87.5,-332.5 87.5,-378.5 346.5,-378.5 346.5,-332.5 87.5,-332.5\" stroke=\"#000000\"/>\n<text fill=\"#000000\" font-family=\"Times,serif\" font-size=\"14.00\" text-anchor=\"middle\" x=\"141\" y=\"-351.8\">dense_2: Dense</text>\n<polyline fill=\"none\" points=\"194.5,-332.5 194.5,-378.5 \" stroke=\"#000000\"/>\n<text fill=\"#000000\" font-family=\"Times,serif\" font-size=\"14.00\" text-anchor=\"middle\" x=\"223.5\" y=\"-363.3\">input:</text>\n<polyline fill=\"none\" points=\"194.5,-355.5 252.5,-355.5 \" stroke=\"#000000\"/>\n<text fill=\"#000000\" font-family=\"Times,serif\" font-size=\"14.00\" text-anchor=\"middle\" x=\"223.5\" y=\"-340.3\">output:</text>\n<polyline fill=\"none\" points=\"252.5,-332.5 252.5,-378.5 \" stroke=\"#000000\"/>\n<text fill=\"#000000\" font-family=\"Times,serif\" font-size=\"14.00\" text-anchor=\"middle\" x=\"299.5\" y=\"-363.3\">(None, 10)</text>\n<polyline fill=\"none\" points=\"252.5,-355.5 346.5,-355.5 \" stroke=\"#000000\"/>\n<text fill=\"#000000\" font-family=\"Times,serif\" font-size=\"14.00\" text-anchor=\"middle\" x=\"299.5\" y=\"-340.3\">(None, 1152)</text>\n</g>\n<!-- 140473353231832&#45;&gt;140473353229200 -->\n<g class=\"edge\" id=\"edge6\">\n<title>140473353231832-&gt;140473353229200</title>\n<path d=\"M217,-415.3799C217,-407.1745 217,-397.7679 217,-388.8786\" fill=\"none\" stroke=\"#000000\"/>\n<polygon fill=\"#000000\" points=\"220.5001,-388.784 217,-378.784 213.5001,-388.784 220.5001,-388.784\" stroke=\"#000000\"/>\n</g>\n<!-- 140473353230712 -->\n<g class=\"node\" id=\"node8\">\n<title>140473353230712</title>\n<polygon fill=\"none\" points=\"72,-249.5 72,-295.5 362,-295.5 362,-249.5 72,-249.5\" stroke=\"#000000\"/>\n<text fill=\"#000000\" font-family=\"Times,serif\" font-size=\"14.00\" text-anchor=\"middle\" x=\"129.5\" y=\"-268.8\">reshape: Reshape</text>\n<polyline fill=\"none\" points=\"187,-249.5 187,-295.5 \" stroke=\"#000000\"/>\n<text fill=\"#000000\" font-family=\"Times,serif\" font-size=\"14.00\" text-anchor=\"middle\" x=\"216\" y=\"-280.3\">input:</text>\n<polyline fill=\"none\" points=\"187,-272.5 245,-272.5 \" stroke=\"#000000\"/>\n<text fill=\"#000000\" font-family=\"Times,serif\" font-size=\"14.00\" text-anchor=\"middle\" x=\"216\" y=\"-257.3\">output:</text>\n<polyline fill=\"none\" points=\"245,-249.5 245,-295.5 \" stroke=\"#000000\"/>\n<text fill=\"#000000\" font-family=\"Times,serif\" font-size=\"14.00\" text-anchor=\"middle\" x=\"303.5\" y=\"-280.3\">(None, 1152)</text>\n<polyline fill=\"none\" points=\"245,-272.5 362,-272.5 \" stroke=\"#000000\"/>\n<text fill=\"#000000\" font-family=\"Times,serif\" font-size=\"14.00\" text-anchor=\"middle\" x=\"303.5\" y=\"-257.3\">(None, 3, 3, 128)</text>\n</g>\n<!-- 140473353229200&#45;&gt;140473353230712 -->\n<g class=\"edge\" id=\"edge7\">\n<title>140473353229200-&gt;140473353230712</title>\n<path d=\"M217,-332.3799C217,-324.1745 217,-314.7679 217,-305.8786\" fill=\"none\" stroke=\"#000000\"/>\n<polygon fill=\"#000000\" points=\"220.5001,-305.784 217,-295.784 213.5001,-305.784 220.5001,-305.784\" stroke=\"#000000\"/>\n</g>\n<!-- 140473558432512 -->\n<g class=\"node\" id=\"node9\">\n<title>140473558432512</title>\n<polygon fill=\"none\" points=\"11.5,-166.5 11.5,-212.5 422.5,-212.5 422.5,-166.5 11.5,-166.5\" stroke=\"#000000\"/>\n<text fill=\"#000000\" font-family=\"Times,serif\" font-size=\"14.00\" text-anchor=\"middle\" x=\"129.5\" y=\"-185.8\">conv2d_transpose: Conv2DTranspose</text>\n<polyline fill=\"none\" points=\"247.5,-166.5 247.5,-212.5 \" stroke=\"#000000\"/>\n<text fill=\"#000000\" font-family=\"Times,serif\" font-size=\"14.00\" text-anchor=\"middle\" x=\"276.5\" y=\"-197.3\">input:</text>\n<polyline fill=\"none\" points=\"247.5,-189.5 305.5,-189.5 \" stroke=\"#000000\"/>\n<text fill=\"#000000\" font-family=\"Times,serif\" font-size=\"14.00\" text-anchor=\"middle\" x=\"276.5\" y=\"-174.3\">output:</text>\n<polyline fill=\"none\" points=\"305.5,-166.5 305.5,-212.5 \" stroke=\"#000000\"/>\n<text fill=\"#000000\" font-family=\"Times,serif\" font-size=\"14.00\" text-anchor=\"middle\" x=\"364\" y=\"-197.3\">(None, 3, 3, 128)</text>\n<polyline fill=\"none\" points=\"305.5,-189.5 422.5,-189.5 \" stroke=\"#000000\"/>\n<text fill=\"#000000\" font-family=\"Times,serif\" font-size=\"14.00\" text-anchor=\"middle\" x=\"364\" y=\"-174.3\">(None, 7, 7, 64)</text>\n</g>\n<!-- 140473353230712&#45;&gt;140473558432512 -->\n<g class=\"edge\" id=\"edge8\">\n<title>140473353230712-&gt;140473558432512</title>\n<path d=\"M217,-249.3799C217,-241.1745 217,-231.7679 217,-222.8786\" fill=\"none\" stroke=\"#000000\"/>\n<polygon fill=\"#000000\" points=\"220.5001,-222.784 217,-212.784 213.5001,-222.784 220.5001,-222.784\" stroke=\"#000000\"/>\n</g>\n<!-- 140473558668736 -->\n<g class=\"node\" id=\"node10\">\n<title>140473558668736</title>\n<polygon fill=\"none\" points=\"0,-83.5 0,-129.5 434,-129.5 434,-83.5 0,-83.5\" stroke=\"#000000\"/>\n<text fill=\"#000000\" font-family=\"Times,serif\" font-size=\"14.00\" text-anchor=\"middle\" x=\"125.5\" y=\"-102.8\">conv2d_transpose_1: Conv2DTranspose</text>\n<polyline fill=\"none\" points=\"251,-83.5 251,-129.5 \" stroke=\"#000000\"/>\n<text fill=\"#000000\" font-family=\"Times,serif\" font-size=\"14.00\" text-anchor=\"middle\" x=\"280\" y=\"-114.3\">input:</text>\n<polyline fill=\"none\" points=\"251,-106.5 309,-106.5 \" stroke=\"#000000\"/>\n<text fill=\"#000000\" font-family=\"Times,serif\" font-size=\"14.00\" text-anchor=\"middle\" x=\"280\" y=\"-91.3\">output:</text>\n<polyline fill=\"none\" points=\"309,-83.5 309,-129.5 \" stroke=\"#000000\"/>\n<text fill=\"#000000\" font-family=\"Times,serif\" font-size=\"14.00\" text-anchor=\"middle\" x=\"371.5\" y=\"-114.3\">(None, 7, 7, 64)</text>\n<polyline fill=\"none\" points=\"309,-106.5 434,-106.5 \" stroke=\"#000000\"/>\n<text fill=\"#000000\" font-family=\"Times,serif\" font-size=\"14.00\" text-anchor=\"middle\" x=\"371.5\" y=\"-91.3\">(None, 14, 14, 32)</text>\n</g>\n<!-- 140473558432512&#45;&gt;140473558668736 -->\n<g class=\"edge\" id=\"edge9\">\n<title>140473558432512-&gt;140473558668736</title>\n<path d=\"M217,-166.3799C217,-158.1745 217,-148.7679 217,-139.8786\" fill=\"none\" stroke=\"#000000\"/>\n<polygon fill=\"#000000\" points=\"220.5001,-139.784 217,-129.784 213.5001,-139.784 220.5001,-139.784\" stroke=\"#000000\"/>\n</g>\n<!-- 140473353263872 -->\n<g class=\"node\" id=\"node11\">\n<title>140473353263872</title>\n<polygon fill=\"none\" points=\"0,-.5 0,-46.5 434,-46.5 434,-.5 0,-.5\" stroke=\"#000000\"/>\n<text fill=\"#000000\" font-family=\"Times,serif\" font-size=\"14.00\" text-anchor=\"middle\" x=\"125.5\" y=\"-19.8\">conv2d_transpose_2: Conv2DTranspose</text>\n<polyline fill=\"none\" points=\"251,-.5 251,-46.5 \" stroke=\"#000000\"/>\n<text fill=\"#000000\" font-family=\"Times,serif\" font-size=\"14.00\" text-anchor=\"middle\" x=\"280\" y=\"-31.3\">input:</text>\n<polyline fill=\"none\" points=\"251,-23.5 309,-23.5 \" stroke=\"#000000\"/>\n<text fill=\"#000000\" font-family=\"Times,serif\" font-size=\"14.00\" text-anchor=\"middle\" x=\"280\" y=\"-8.3\">output:</text>\n<polyline fill=\"none\" points=\"309,-.5 309,-46.5 \" stroke=\"#000000\"/>\n<text fill=\"#000000\" font-family=\"Times,serif\" font-size=\"14.00\" text-anchor=\"middle\" x=\"371.5\" y=\"-31.3\">(None, 14, 14, 32)</text>\n<polyline fill=\"none\" points=\"309,-23.5 434,-23.5 \" stroke=\"#000000\"/>\n<text fill=\"#000000\" font-family=\"Times,serif\" font-size=\"14.00\" text-anchor=\"middle\" x=\"371.5\" y=\"-8.3\">(None, 28, 28, 1)</text>\n</g>\n<!-- 140473558668736&#45;&gt;140473353263872 -->\n<g class=\"edge\" id=\"edge10\">\n<title>140473558668736-&gt;140473353263872</title>\n<path d=\"M217,-83.3799C217,-75.1745 217,-65.7679 217,-56.8786\" fill=\"none\" stroke=\"#000000\"/>\n<polygon fill=\"#000000\" points=\"220.5001,-56.784 217,-46.784 213.5001,-56.784 220.5001,-56.784\" stroke=\"#000000\"/>\n</g>\n</g>\n</svg>"
          },
          "metadata": {
            "tags": []
          },
          "execution_count": 14
        }
      ]
    },
    {
      "cell_type": "code",
      "metadata": {
        "colab": {
          "base_uri": "https://localhost:8080/"
        },
        "id": "wHG5dAdGh33P",
        "outputId": "96019b20-5be8-4e46-d5b2-199aac5c8693"
      },
      "source": [
        "autoencoder_train = autoencoder.fit(train_X, train_ground, batch_size=batch_size,epochs=epochs,verbose=1,validation_data=(valid_X, valid_ground))"
      ],
      "execution_count": 15,
      "outputs": [
        {
          "output_type": "stream",
          "text": [
            "Epoch 1/25\n",
            "375/375 [==============================] - 10s 6ms/step - loss: 0.0803 - val_loss: 0.0372\n",
            "Epoch 2/25\n",
            "375/375 [==============================] - 2s 5ms/step - loss: 0.0328 - val_loss: 0.0272\n",
            "Epoch 3/25\n",
            "375/375 [==============================] - 2s 5ms/step - loss: 0.0263 - val_loss: 0.0232\n",
            "Epoch 4/25\n",
            "375/375 [==============================] - 2s 5ms/step - loss: 0.0235 - val_loss: 0.0225\n",
            "Epoch 5/25\n",
            "375/375 [==============================] - 2s 5ms/step - loss: 0.0218 - val_loss: 0.0205\n",
            "Epoch 6/25\n",
            "375/375 [==============================] - 2s 5ms/step - loss: 0.0207 - val_loss: 0.0201\n",
            "Epoch 7/25\n",
            "375/375 [==============================] - 2s 5ms/step - loss: 0.0197 - val_loss: 0.0193\n",
            "Epoch 8/25\n",
            "375/375 [==============================] - 2s 5ms/step - loss: 0.0190 - val_loss: 0.0188\n",
            "Epoch 9/25\n",
            "375/375 [==============================] - 2s 5ms/step - loss: 0.0185 - val_loss: 0.0178\n",
            "Epoch 10/25\n",
            "375/375 [==============================] - 2s 5ms/step - loss: 0.0179 - val_loss: 0.0180\n",
            "Epoch 11/25\n",
            "375/375 [==============================] - 2s 5ms/step - loss: 0.0177 - val_loss: 0.0169\n",
            "Epoch 12/25\n",
            "375/375 [==============================] - 2s 5ms/step - loss: 0.0172 - val_loss: 0.0172\n",
            "Epoch 13/25\n",
            "375/375 [==============================] - 2s 5ms/step - loss: 0.0170 - val_loss: 0.0172\n",
            "Epoch 14/25\n",
            "375/375 [==============================] - 2s 5ms/step - loss: 0.0167 - val_loss: 0.0165\n",
            "Epoch 15/25\n",
            "375/375 [==============================] - 2s 5ms/step - loss: 0.0165 - val_loss: 0.0164\n",
            "Epoch 16/25\n",
            "375/375 [==============================] - 2s 5ms/step - loss: 0.0161 - val_loss: 0.0163\n",
            "Epoch 17/25\n",
            "375/375 [==============================] - 2s 5ms/step - loss: 0.0161 - val_loss: 0.0159\n",
            "Epoch 18/25\n",
            "375/375 [==============================] - 2s 5ms/step - loss: 0.0158 - val_loss: 0.0165\n",
            "Epoch 19/25\n",
            "375/375 [==============================] - 2s 5ms/step - loss: 0.0156 - val_loss: 0.0162\n",
            "Epoch 20/25\n",
            "375/375 [==============================] - 2s 5ms/step - loss: 0.0155 - val_loss: 0.0155\n",
            "Epoch 21/25\n",
            "375/375 [==============================] - 2s 5ms/step - loss: 0.0153 - val_loss: 0.0166\n",
            "Epoch 22/25\n",
            "375/375 [==============================] - 2s 5ms/step - loss: 0.0152 - val_loss: 0.0161\n",
            "Epoch 23/25\n",
            "375/375 [==============================] - 2s 5ms/step - loss: 0.0151 - val_loss: 0.0154\n",
            "Epoch 24/25\n",
            "375/375 [==============================] - 2s 5ms/step - loss: 0.0149 - val_loss: 0.0156\n",
            "Epoch 25/25\n",
            "375/375 [==============================] - 2s 5ms/step - loss: 0.0148 - val_loss: 0.0153\n"
          ],
          "name": "stdout"
        }
      ]
    },
    {
      "cell_type": "code",
      "metadata": {
        "id": "Hx-p74w0nnhi"
      },
      "source": [
        "# define an encoder model (without the decoder)\n",
        "encoder = Model(inputs=input_img, outputs=bottleneck)"
      ],
      "execution_count": 45,
      "outputs": []
    },
    {
      "cell_type": "code",
      "metadata": {
        "id": "ybsYl838jOFM"
      },
      "source": [
        "# encode the train data\n",
        "X_train_encode = encoder.predict(train_data)\n",
        "X_test_encode = encoder.predict(test_data)"
      ],
      "execution_count": 46,
      "outputs": []
    },
    {
      "cell_type": "code",
      "metadata": {
        "colab": {
          "base_uri": "https://localhost:8080/"
        },
        "id": "5q4Y14fpjUfq",
        "outputId": "43362e86-8457-45ad-c36b-9386f55b5ada"
      },
      "source": [
        "print(X_train_encode.shape)\n",
        "print(X_test_encode.shape)\n",
        "print(train_data.shape)"
      ],
      "execution_count": 47,
      "outputs": [
        {
          "output_type": "stream",
          "text": [
            "(60000, 7, 7, 1)\n",
            "(10000, 7, 7, 1)\n",
            "(60000, 28, 28, 1)\n"
          ],
          "name": "stdout"
        }
      ]
    },
    {
      "cell_type": "code",
      "metadata": {
        "colab": {
          "base_uri": "https://localhost:8080/"
        },
        "id": "XHGC46dXE7Jt",
        "outputId": "d250f47e-a49f-494b-ea7c-5fb9fa3fee2f"
      },
      "source": [
        "print(train_labels[:10])"
      ],
      "execution_count": 48,
      "outputs": [
        {
          "output_type": "stream",
          "text": [
            "[5 0 4 1 9 2 1 3 1 4]\n"
          ],
          "name": "stdout"
        }
      ]
    },
    {
      "cell_type": "code",
      "metadata": {
        "colab": {
          "base_uri": "https://localhost:8080/"
        },
        "id": "h3HN2fwHjYMM",
        "outputId": "64f4fa5b-fe24-4486-d078-fffcb605a0bf"
      },
      "source": [
        "print(X_train_encode[10][1])\n",
        "print('---------------------')\n",
        "print(X_train_encode[20][1])"
      ],
      "execution_count": 49,
      "outputs": [
        {
          "output_type": "stream",
          "text": [
            "[[-0.06880365]\n",
            " [-0.06880365]\n",
            " [-0.31675482]\n",
            " [ 0.19345757]\n",
            " [ 0.9693545 ]\n",
            " [-0.06880365]\n",
            " [-0.06880365]]\n",
            "---------------------\n",
            "[[-0.20490414]\n",
            " [ 0.5944595 ]\n",
            " [-0.06880365]\n",
            " [-0.06880365]\n",
            " [-0.69145834]\n",
            " [-0.03574254]\n",
            " [-0.06880365]]\n"
          ],
          "name": "stdout"
        }
      ]
    },
    {
      "cell_type": "code",
      "metadata": {
        "id": "DJm87YLtv0y-"
      },
      "source": [
        "def normalize(x):\n",
        "    return (25500*(x - np.min(x))/np.ptp(x)).astype(int)"
      ],
      "execution_count": 50,
      "outputs": []
    },
    {
      "cell_type": "code",
      "metadata": {
        "colab": {
          "base_uri": "https://localhost:8080/"
        },
        "id": "E1TWQYrdwhWn",
        "outputId": "14aa693d-5404-4b9d-bc88-7d3282a53ce2"
      },
      "source": [
        "print(normalize(X_train_encode[10][1]))\n",
        "print('---------------------')\n",
        "print(normalize(X_train_encode[20][1]))"
      ],
      "execution_count": 52,
      "outputs": [
        {
          "output_type": "stream",
          "text": [
            "[[ 4916]\n",
            " [ 4916]\n",
            " [    0]\n",
            " [10116]\n",
            " [25500]\n",
            " [ 4916]\n",
            " [ 4916]]\n",
            "---------------------\n",
            "[[ 9648]\n",
            " [25500]\n",
            " [12347]\n",
            " [12347]\n",
            " [    0]\n",
            " [13002]\n",
            " [12347]]\n"
          ],
          "name": "stdout"
        }
      ]
    },
    {
      "cell_type": "markdown",
      "metadata": {
        "id": "xxNPngYtkUv1"
      },
      "source": [
        "Na filaksoume tis nees eikones se file gia na tis diavasoume meso tis c++"
      ]
    },
    {
      "cell_type": "code",
      "metadata": {
        "id": "-r2GSl_k7sh2"
      },
      "source": [
        "\n",
        "def saveNewImages(compressedImgs,filename):\n",
        "  f = open(filename,\"w\")\n",
        "  #The first line will contain the number of images\n",
        "  f.write(str(len(compressedImgs)) + \"\\n\")\n",
        "  #The second line will contain the number of rows\n",
        "  f.write(str(len(compressedImgs[0])) + \"\\n\")\n",
        "  #The third line will contain the number of columns\n",
        "  f.write(str(len(compressedImgs[0][0])) + \"\\n\")\n",
        "  #For the rest of the file each line contains the pixels of an image\n",
        "  #seperated by spaces\n",
        "  for image in compressedImgs:\n",
        "    for row in image:\n",
        "      for pixel in row:\n",
        "        strPixel = str(pixel)\n",
        "        strPixel = strPixel.strip('[')\n",
        "        strPixel = strPixel.strip(']')\n",
        "        f.write(strPixel + \" \")\n",
        "    f.write(\"\\n\")\n",
        "  f.close()\n",
        "saveNewImages(normalize(X_train_encode),\"trainCompressed\")\n",
        "saveNewImages(normalize(X_test_encode),\"testCompressed\")"
      ],
      "execution_count": 53,
      "outputs": []
    },
    {
      "cell_type": "code",
      "metadata": {
        "id": "hHH2hXWHFXXb"
      },
      "source": [
        "def saveLabels(labels,filename):\n",
        "  f = open(filename,\"w\")\n",
        "  #First line will contain the number of labels\n",
        "  f.write(str(len(labels)) + \"\\n\")\n",
        "  #For the rest of the file each line contains the label of the image\n",
        "  for label in labels:\n",
        "    f.write(str(label) + \"\\n\")\n",
        "  f.close()\n",
        "\n",
        "saveLabels(train_labels,\"trainLabels\")\n",
        "saveLabels(test_labels,\"testLabels\")"
      ],
      "execution_count": null,
      "outputs": []
    }
  ]
}