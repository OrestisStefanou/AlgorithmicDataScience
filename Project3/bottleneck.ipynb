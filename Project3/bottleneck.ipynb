{
  "nbformat": 4,
  "nbformat_minor": 0,
  "metadata": {
    "accelerator": "GPU",
    "colab": {
      "name": "bottleneck.ipynb",
      "provenance": [],
      "collapsed_sections": []
    },
    "kernelspec": {
      "display_name": "Python 3",
      "language": "python",
      "name": "python3"
    },
    "language_info": {
      "codemirror_mode": {
        "name": "ipython",
        "version": 3
      },
      "file_extension": ".py",
      "mimetype": "text/x-python",
      "name": "python",
      "nbconvert_exporter": "python",
      "pygments_lexer": "ipython3",
      "version": "3.8.5"
    }
  },
  "cells": [
    {
      "cell_type": "code",
      "metadata": {
        "colab": {
          "base_uri": "https://localhost:8080/"
        },
        "id": "7XMhec7aVCrG",
        "outputId": "89aec9df-422f-470b-8277-ff3ff8426163"
      },
      "source": [
        "from google.colab import drive\n",
        "drive.mount('/content/drive')\n",
        "import keras\n",
        "from matplotlib import pyplot as plt\n",
        "import numpy as np\n",
        "import gzip\n",
        "%matplotlib inline\n",
        "from keras.models import Model\n",
        "from keras.optimizers import RMSprop\n",
        "from keras.layers import Input,Dense,Flatten,Dropout,merge,Reshape,Conv2D,MaxPooling2D,UpSampling2D,Conv2DTranspose\n",
        "from keras.layers.normalization import BatchNormalization\n",
        "from keras.models import Model,Sequential\n",
        "from keras.callbacks import ModelCheckpoint\n",
        "from keras.optimizers import Adadelta, RMSprop,SGD,Adam\n",
        "from keras import regularizers\n",
        "from keras import backend as K\n",
        "from keras.utils import to_categorical\n",
        "import struct as st\n"
      ],
      "execution_count": 1,
      "outputs": [
        {
          "output_type": "stream",
          "text": [
            "Mounted at /content/drive\n"
          ],
          "name": "stdout"
        }
      ]
    },
    {
      "cell_type": "code",
      "metadata": {
        "id": "JlOHefKYV6mq"
      },
      "source": [
        "def read_data(filename):\n",
        "    file = gzip.open(filename,'rb')\n",
        "    file.seek(0)\n",
        "    magic_number = st.unpack('>4B',file.read(4)) # read magic number\n",
        "    number_of_images = st.unpack('>I',file.read(4))[0] # read number of images\n",
        "    number_of_rows = st.unpack('>I',file.read(4))[0] #read number of rows\n",
        "    number_of_columns = st.unpack('>I',file.read(4))[0] #read number of column\n",
        "    with gzip.open(filename) as file_stream:\n",
        "        file_stream.read(16)\n",
        "        buf = file_stream.read(number_of_rows * number_of_columns * number_of_images)\n",
        "        data = np.frombuffer(buf, dtype=np.uint8).astype(np.float32)\n",
        "        data = data.reshape(number_of_images, number_of_rows,number_of_columns)\n",
        "        return data"
      ],
      "execution_count": 2,
      "outputs": []
    },
    {
      "cell_type": "code",
      "metadata": {
        "id": "vo_tZY7CV9I2"
      },
      "source": [
        "train_data = read_data('/content/train-images-idx3-ubyte.gz')\n",
        "test_data = read_data('/content/t10k-images-idx3-ubyte.gz')"
      ],
      "execution_count": 3,
      "outputs": []
    },
    {
      "cell_type": "code",
      "metadata": {
        "id": "KNNj-GLKWAPS"
      },
      "source": [
        "def read_labels(filename):\n",
        "    file = gzip.open(filename,'rb')\n",
        "    file.seek(0)\n",
        "    magic_number = st.unpack('>4B',file.read(4)) # read magic number\n",
        "    number_of_iteams = st.unpack('>I',file.read(4))[0] # read number of images\n",
        "    with gzip.open(filename) as file_stream:\n",
        "        file_stream.read(8)\n",
        "        buf = file_stream.read(number_of_iteams)\n",
        "        labels = np.frombuffer(buf, dtype=np.uint8).astype(np.int64)\n",
        "        return labels"
      ],
      "execution_count": 4,
      "outputs": []
    },
    {
      "cell_type": "code",
      "metadata": {
        "id": "C6NIQSXoWC8U"
      },
      "source": [
        "train_labels = read_labels('/content/train-labels-idx1-ubyte.gz')\n",
        "test_labels = read_labels('/content/t10k-labels-idx1-ubyte.gz')"
      ],
      "execution_count": 5,
      "outputs": []
    },
    {
      "cell_type": "code",
      "metadata": {
        "id": "F61oe_qagSol"
      },
      "source": [
        "# Create dictionary of target classes\n",
        "label_dict = {\n",
        " 0: '0',\n",
        " 1: '1',\n",
        " 2: '2',\n",
        " 3: '3',\n",
        " 4: '4',\n",
        " 5: '5',\n",
        " 6: '6',\n",
        " 7: '7',\n",
        " 8: '8',\n",
        " 9: '9',\n",
        "}"
      ],
      "execution_count": 6,
      "outputs": []
    },
    {
      "cell_type": "code",
      "metadata": {
        "colab": {
          "base_uri": "https://localhost:8080/"
        },
        "id": "sgKN3Nb_gWHG",
        "outputId": "dcdc3db7-44fa-4388-f29d-de4b58f2edb3"
      },
      "source": [
        "train_data = train_data.reshape(-1, 28,28, 1)\n",
        "test_data = test_data.reshape(-1, 28,28, 1)\n",
        "train_data.shape, test_data.shape"
      ],
      "execution_count": 7,
      "outputs": [
        {
          "output_type": "execute_result",
          "data": {
            "text/plain": [
              "((60000, 28, 28, 1), (10000, 28, 28, 1))"
            ]
          },
          "metadata": {
            "tags": []
          },
          "execution_count": 7
        }
      ]
    },
    {
      "cell_type": "code",
      "metadata": {
        "id": "AdtTiViwgZVq"
      },
      "source": [
        "train_data = train_data / np.max(train_data)\n",
        "test_data = test_data / np.max(test_data)"
      ],
      "execution_count": 8,
      "outputs": []
    },
    {
      "cell_type": "code",
      "metadata": {
        "id": "ihw7P9wdgcsh"
      },
      "source": [
        "from sklearn.model_selection import train_test_split\n",
        "train_X,valid_X,train_ground,valid_ground = train_test_split(train_data,\n",
        "                                                             train_data,\n",
        "                                                             test_size=0.2,\n",
        "                                                             random_state=13)"
      ],
      "execution_count": 9,
      "outputs": []
    },
    {
      "cell_type": "code",
      "metadata": {
        "id": "F-z-mIq7ggB1"
      },
      "source": [
        "batch_size = 128\n",
        "epochs = 25\n",
        "inChannel = 1\n",
        "x, y = 28, 28\n",
        "input_img = Input(shape = (x, y, inChannel))\n",
        "num_classes = 10\n",
        "n_inputs = train_data.shape[1]"
      ],
      "execution_count": 10,
      "outputs": []
    },
    {
      "cell_type": "code",
      "metadata": {
        "id": "3M0CND16gihF"
      },
      "source": [
        "\n",
        "\n",
        "#encoder\n",
        "conv1 = Conv2D(32, (15, 15), activation='softmax', padding='valid')(input_img) #28 x 28 x 32\n",
        "conv2 = Conv2D(64, (8, 8), activation='softmax', padding='valid')(conv1) #14 x 14 x 64\n",
        "conv3 = Conv2D(128, (5, 5), activation='softmax', padding='valid')(conv2) #14 x 14 x 64\n",
        "\n",
        "\n",
        "flatten = Flatten()(conv3)\n",
        "encoded = Dense(int(10), activation='relu')(flatten)\n",
        "decoded = Dense(units = 3*3*128, activation='sigmoid')(encoded)\n",
        "reshape = Reshape(target_shape = (3,3,128))(decoded)\n",
        "# bottleneck\n",
        "n_bottleneck = 1\n",
        "bottleneck = Dense(n_bottleneck)(reshape)\n",
        "\n",
        "\n",
        "#decoder\n",
        "conv4 = Conv2DTranspose(64, (5, 5), activation='softmax', padding='valid')(reshape)\n",
        "conv5 = Conv2DTranspose(32, (8, 8), activation='softmax', padding='valid')(conv4)\n",
        "conv6 = Conv2DTranspose(1, (15, 15), activation='sigmoid', padding='valid')(conv5)\n",
        "\n",
        "\n",
        "decoded = conv6"
      ],
      "execution_count": 11,
      "outputs": []
    },
    {
      "cell_type": "code",
      "metadata": {
        "id": "zlYIxF0vh0Fl"
      },
      "source": [
        "autoencoder = Model(input_img, decoded)\n",
        "autoencoder.compile(loss='mean_squared_error', optimizer = RMSprop())"
      ],
      "execution_count": 12,
      "outputs": []
    },
    {
      "cell_type": "code",
      "metadata": {
        "id": "X-n2bZS86_LB"
      },
      "source": [
        ""
      ],
      "execution_count": null,
      "outputs": []
    },
    {
      "cell_type": "code",
      "metadata": {
        "colab": {
          "base_uri": "https://localhost:8080/",
          "height": 1000
        },
        "id": "3IOualMXitaB",
        "outputId": "711f7650-b518-462e-fbca-04e100797858"
      },
      "source": [
        "autoencoder.summary()\n",
        "\n",
        "from IPython.display import SVG\n",
        "from keras.utils.vis_utils import model_to_dot\n",
        "\n",
        "SVG(model_to_dot(autoencoder,show_shapes=True,dpi=65).create(prog='dot', format='svg'))"
      ],
      "execution_count": 13,
      "outputs": [
        {
          "output_type": "stream",
          "text": [
            "Model: \"model\"\n",
            "_________________________________________________________________\n",
            "Layer (type)                 Output Shape              Param #   \n",
            "=================================================================\n",
            "input_1 (InputLayer)         [(None, 28, 28, 1)]       0         \n",
            "_________________________________________________________________\n",
            "conv2d (Conv2D)              (None, 14, 14, 32)        7232      \n",
            "_________________________________________________________________\n",
            "conv2d_1 (Conv2D)            (None, 7, 7, 64)          131136    \n",
            "_________________________________________________________________\n",
            "conv2d_2 (Conv2D)            (None, 3, 3, 128)         204928    \n",
            "_________________________________________________________________\n",
            "flatten (Flatten)            (None, 1152)              0         \n",
            "_________________________________________________________________\n",
            "dense (Dense)                (None, 10)                11530     \n",
            "_________________________________________________________________\n",
            "dense_1 (Dense)              (None, 1152)              12672     \n",
            "_________________________________________________________________\n",
            "reshape (Reshape)            (None, 3, 3, 128)         0         \n",
            "_________________________________________________________________\n",
            "conv2d_transpose (Conv2DTran (None, 7, 7, 64)          204864    \n",
            "_________________________________________________________________\n",
            "conv2d_transpose_1 (Conv2DTr (None, 14, 14, 32)        131104    \n",
            "_________________________________________________________________\n",
            "conv2d_transpose_2 (Conv2DTr (None, 28, 28, 1)         7201      \n",
            "=================================================================\n",
            "Total params: 710,667\n",
            "Trainable params: 710,667\n",
            "Non-trainable params: 0\n",
            "_________________________________________________________________\n"
          ],
          "name": "stdout"
        },
        {
          "output_type": "execute_result",
          "data": {
            "text/plain": [
              "<IPython.core.display.SVG object>"
            ],
            "image/svg+xml": "<svg height=\"799pt\" viewBox=\"0.00 0.00 442.00 885.00\" width=\"399pt\" xmlns=\"http://www.w3.org/2000/svg\" xmlns:xlink=\"http://www.w3.org/1999/xlink\">\n<g class=\"graph\" id=\"graph0\" transform=\"scale(.9028 .9028) rotate(0) translate(4 881)\">\n<title>G</title>\n<polygon fill=\"#ffffff\" points=\"-4,4 -4,-881 438,-881 438,4 -4,4\" stroke=\"transparent\"/>\n<!-- 140367036291616 -->\n<g class=\"node\" id=\"node1\">\n<title>140367036291616</title>\n<polygon fill=\"none\" points=\"58.5,-830.5 58.5,-876.5 375.5,-876.5 375.5,-830.5 58.5,-830.5\" stroke=\"#000000\"/>\n<text fill=\"#000000\" font-family=\"Times,serif\" font-size=\"14.00\" text-anchor=\"middle\" x=\"125\" y=\"-849.8\">input_1: InputLayer</text>\n<polyline fill=\"none\" points=\"191.5,-830.5 191.5,-876.5 \" stroke=\"#000000\"/>\n<text fill=\"#000000\" font-family=\"Times,serif\" font-size=\"14.00\" text-anchor=\"middle\" x=\"220.5\" y=\"-861.3\">input:</text>\n<polyline fill=\"none\" points=\"191.5,-853.5 249.5,-853.5 \" stroke=\"#000000\"/>\n<text fill=\"#000000\" font-family=\"Times,serif\" font-size=\"14.00\" text-anchor=\"middle\" x=\"220.5\" y=\"-838.3\">output:</text>\n<polyline fill=\"none\" points=\"249.5,-830.5 249.5,-876.5 \" stroke=\"#000000\"/>\n<text fill=\"#000000\" font-family=\"Times,serif\" font-size=\"14.00\" text-anchor=\"middle\" x=\"312.5\" y=\"-861.3\">[(None, 28, 28, 1)]</text>\n<polyline fill=\"none\" points=\"249.5,-853.5 375.5,-853.5 \" stroke=\"#000000\"/>\n<text fill=\"#000000\" font-family=\"Times,serif\" font-size=\"14.00\" text-anchor=\"middle\" x=\"312.5\" y=\"-838.3\">[(None, 28, 28, 1)]</text>\n</g>\n<!-- 140367022761968 -->\n<g class=\"node\" id=\"node2\">\n<title>140367022761968</title>\n<polygon fill=\"none\" points=\"66.5,-747.5 66.5,-793.5 367.5,-793.5 367.5,-747.5 66.5,-747.5\" stroke=\"#000000\"/>\n<text fill=\"#000000\" font-family=\"Times,serif\" font-size=\"14.00\" text-anchor=\"middle\" x=\"125.5\" y=\"-766.8\">conv2d: Conv2D</text>\n<polyline fill=\"none\" points=\"184.5,-747.5 184.5,-793.5 \" stroke=\"#000000\"/>\n<text fill=\"#000000\" font-family=\"Times,serif\" font-size=\"14.00\" text-anchor=\"middle\" x=\"213.5\" y=\"-778.3\">input:</text>\n<polyline fill=\"none\" points=\"184.5,-770.5 242.5,-770.5 \" stroke=\"#000000\"/>\n<text fill=\"#000000\" font-family=\"Times,serif\" font-size=\"14.00\" text-anchor=\"middle\" x=\"213.5\" y=\"-755.3\">output:</text>\n<polyline fill=\"none\" points=\"242.5,-747.5 242.5,-793.5 \" stroke=\"#000000\"/>\n<text fill=\"#000000\" font-family=\"Times,serif\" font-size=\"14.00\" text-anchor=\"middle\" x=\"305\" y=\"-778.3\">(None, 28, 28, 1)</text>\n<polyline fill=\"none\" points=\"242.5,-770.5 367.5,-770.5 \" stroke=\"#000000\"/>\n<text fill=\"#000000\" font-family=\"Times,serif\" font-size=\"14.00\" text-anchor=\"middle\" x=\"305\" y=\"-755.3\">(None, 14, 14, 32)</text>\n</g>\n<!-- 140367036291616&#45;&gt;140367022761968 -->\n<g class=\"edge\" id=\"edge1\">\n<title>140367036291616-&gt;140367022761968</title>\n<path d=\"M217,-830.3799C217,-822.1745 217,-812.7679 217,-803.8786\" fill=\"none\" stroke=\"#000000\"/>\n<polygon fill=\"#000000\" points=\"220.5001,-803.784 217,-793.784 213.5001,-803.784 220.5001,-803.784\" stroke=\"#000000\"/>\n</g>\n<!-- 140367022403992 -->\n<g class=\"node\" id=\"node3\">\n<title>140367022403992</title>\n<polygon fill=\"none\" points=\"59,-664.5 59,-710.5 375,-710.5 375,-664.5 59,-664.5\" stroke=\"#000000\"/>\n<text fill=\"#000000\" font-family=\"Times,serif\" font-size=\"14.00\" text-anchor=\"middle\" x=\"125.5\" y=\"-683.8\">conv2d_1: Conv2D</text>\n<polyline fill=\"none\" points=\"192,-664.5 192,-710.5 \" stroke=\"#000000\"/>\n<text fill=\"#000000\" font-family=\"Times,serif\" font-size=\"14.00\" text-anchor=\"middle\" x=\"221\" y=\"-695.3\">input:</text>\n<polyline fill=\"none\" points=\"192,-687.5 250,-687.5 \" stroke=\"#000000\"/>\n<text fill=\"#000000\" font-family=\"Times,serif\" font-size=\"14.00\" text-anchor=\"middle\" x=\"221\" y=\"-672.3\">output:</text>\n<polyline fill=\"none\" points=\"250,-664.5 250,-710.5 \" stroke=\"#000000\"/>\n<text fill=\"#000000\" font-family=\"Times,serif\" font-size=\"14.00\" text-anchor=\"middle\" x=\"312.5\" y=\"-695.3\">(None, 14, 14, 32)</text>\n<polyline fill=\"none\" points=\"250,-687.5 375,-687.5 \" stroke=\"#000000\"/>\n<text fill=\"#000000\" font-family=\"Times,serif\" font-size=\"14.00\" text-anchor=\"middle\" x=\"312.5\" y=\"-672.3\">(None, 7, 7, 64)</text>\n</g>\n<!-- 140367022761968&#45;&gt;140367022403992 -->\n<g class=\"edge\" id=\"edge2\">\n<title>140367022761968-&gt;140367022403992</title>\n<path d=\"M217,-747.3799C217,-739.1745 217,-729.7679 217,-720.8786\" fill=\"none\" stroke=\"#000000\"/>\n<polygon fill=\"#000000\" points=\"220.5001,-720.784 217,-710.784 213.5001,-720.784 220.5001,-720.784\" stroke=\"#000000\"/>\n</g>\n<!-- 140367022591896 -->\n<g class=\"node\" id=\"node4\">\n<title>140367022591896</title>\n<polygon fill=\"none\" points=\"63,-581.5 63,-627.5 371,-627.5 371,-581.5 63,-581.5\" stroke=\"#000000\"/>\n<text fill=\"#000000\" font-family=\"Times,serif\" font-size=\"14.00\" text-anchor=\"middle\" x=\"129.5\" y=\"-600.8\">conv2d_2: Conv2D</text>\n<polyline fill=\"none\" points=\"196,-581.5 196,-627.5 \" stroke=\"#000000\"/>\n<text fill=\"#000000\" font-family=\"Times,serif\" font-size=\"14.00\" text-anchor=\"middle\" x=\"225\" y=\"-612.3\">input:</text>\n<polyline fill=\"none\" points=\"196,-604.5 254,-604.5 \" stroke=\"#000000\"/>\n<text fill=\"#000000\" font-family=\"Times,serif\" font-size=\"14.00\" text-anchor=\"middle\" x=\"225\" y=\"-589.3\">output:</text>\n<polyline fill=\"none\" points=\"254,-581.5 254,-627.5 \" stroke=\"#000000\"/>\n<text fill=\"#000000\" font-family=\"Times,serif\" font-size=\"14.00\" text-anchor=\"middle\" x=\"312.5\" y=\"-612.3\">(None, 7, 7, 64)</text>\n<polyline fill=\"none\" points=\"254,-604.5 371,-604.5 \" stroke=\"#000000\"/>\n<text fill=\"#000000\" font-family=\"Times,serif\" font-size=\"14.00\" text-anchor=\"middle\" x=\"312.5\" y=\"-589.3\">(None, 3, 3, 128)</text>\n</g>\n<!-- 140367022403992&#45;&gt;140367022591896 -->\n<g class=\"edge\" id=\"edge3\">\n<title>140367022403992-&gt;140367022591896</title>\n<path d=\"M217,-664.3799C217,-656.1745 217,-646.7679 217,-637.8786\" fill=\"none\" stroke=\"#000000\"/>\n<polygon fill=\"#000000\" points=\"220.5001,-637.784 217,-627.784 213.5001,-637.784 220.5001,-637.784\" stroke=\"#000000\"/>\n</g>\n<!-- 140367022636224 -->\n<g class=\"node\" id=\"node5\">\n<title>140367022636224</title>\n<polygon fill=\"none\" points=\"80.5,-498.5 80.5,-544.5 353.5,-544.5 353.5,-498.5 80.5,-498.5\" stroke=\"#000000\"/>\n<text fill=\"#000000\" font-family=\"Times,serif\" font-size=\"14.00\" text-anchor=\"middle\" x=\"129.5\" y=\"-517.8\">flatten: Flatten</text>\n<polyline fill=\"none\" points=\"178.5,-498.5 178.5,-544.5 \" stroke=\"#000000\"/>\n<text fill=\"#000000\" font-family=\"Times,serif\" font-size=\"14.00\" text-anchor=\"middle\" x=\"207.5\" y=\"-529.3\">input:</text>\n<polyline fill=\"none\" points=\"178.5,-521.5 236.5,-521.5 \" stroke=\"#000000\"/>\n<text fill=\"#000000\" font-family=\"Times,serif\" font-size=\"14.00\" text-anchor=\"middle\" x=\"207.5\" y=\"-506.3\">output:</text>\n<polyline fill=\"none\" points=\"236.5,-498.5 236.5,-544.5 \" stroke=\"#000000\"/>\n<text fill=\"#000000\" font-family=\"Times,serif\" font-size=\"14.00\" text-anchor=\"middle\" x=\"295\" y=\"-529.3\">(None, 3, 3, 128)</text>\n<polyline fill=\"none\" points=\"236.5,-521.5 353.5,-521.5 \" stroke=\"#000000\"/>\n<text fill=\"#000000\" font-family=\"Times,serif\" font-size=\"14.00\" text-anchor=\"middle\" x=\"295\" y=\"-506.3\">(None, 1152)</text>\n</g>\n<!-- 140367022591896&#45;&gt;140367022636224 -->\n<g class=\"edge\" id=\"edge4\">\n<title>140367022591896-&gt;140367022636224</title>\n<path d=\"M217,-581.3799C217,-573.1745 217,-563.7679 217,-554.8786\" fill=\"none\" stroke=\"#000000\"/>\n<polygon fill=\"#000000\" points=\"220.5001,-554.784 217,-544.784 213.5001,-554.784 220.5001,-554.784\" stroke=\"#000000\"/>\n</g>\n<!-- 140365543961880 -->\n<g class=\"node\" id=\"node6\">\n<title>140365543961880</title>\n<polygon fill=\"none\" points=\"95,-415.5 95,-461.5 339,-461.5 339,-415.5 95,-415.5\" stroke=\"#000000\"/>\n<text fill=\"#000000\" font-family=\"Times,serif\" font-size=\"14.00\" text-anchor=\"middle\" x=\"141\" y=\"-434.8\">dense: Dense</text>\n<polyline fill=\"none\" points=\"187,-415.5 187,-461.5 \" stroke=\"#000000\"/>\n<text fill=\"#000000\" font-family=\"Times,serif\" font-size=\"14.00\" text-anchor=\"middle\" x=\"216\" y=\"-446.3\">input:</text>\n<polyline fill=\"none\" points=\"187,-438.5 245,-438.5 \" stroke=\"#000000\"/>\n<text fill=\"#000000\" font-family=\"Times,serif\" font-size=\"14.00\" text-anchor=\"middle\" x=\"216\" y=\"-423.3\">output:</text>\n<polyline fill=\"none\" points=\"245,-415.5 245,-461.5 \" stroke=\"#000000\"/>\n<text fill=\"#000000\" font-family=\"Times,serif\" font-size=\"14.00\" text-anchor=\"middle\" x=\"292\" y=\"-446.3\">(None, 1152)</text>\n<polyline fill=\"none\" points=\"245,-438.5 339,-438.5 \" stroke=\"#000000\"/>\n<text fill=\"#000000\" font-family=\"Times,serif\" font-size=\"14.00\" text-anchor=\"middle\" x=\"292\" y=\"-423.3\">(None, 10)</text>\n</g>\n<!-- 140367022636224&#45;&gt;140365543961880 -->\n<g class=\"edge\" id=\"edge5\">\n<title>140367022636224-&gt;140365543961880</title>\n<path d=\"M217,-498.3799C217,-490.1745 217,-480.7679 217,-471.8786\" fill=\"none\" stroke=\"#000000\"/>\n<polygon fill=\"#000000\" points=\"220.5001,-471.784 217,-461.784 213.5001,-471.784 220.5001,-471.784\" stroke=\"#000000\"/>\n</g>\n<!-- 140367022633928 -->\n<g class=\"node\" id=\"node7\">\n<title>140367022633928</title>\n<polygon fill=\"none\" points=\"87.5,-332.5 87.5,-378.5 346.5,-378.5 346.5,-332.5 87.5,-332.5\" stroke=\"#000000\"/>\n<text fill=\"#000000\" font-family=\"Times,serif\" font-size=\"14.00\" text-anchor=\"middle\" x=\"141\" y=\"-351.8\">dense_1: Dense</text>\n<polyline fill=\"none\" points=\"194.5,-332.5 194.5,-378.5 \" stroke=\"#000000\"/>\n<text fill=\"#000000\" font-family=\"Times,serif\" font-size=\"14.00\" text-anchor=\"middle\" x=\"223.5\" y=\"-363.3\">input:</text>\n<polyline fill=\"none\" points=\"194.5,-355.5 252.5,-355.5 \" stroke=\"#000000\"/>\n<text fill=\"#000000\" font-family=\"Times,serif\" font-size=\"14.00\" text-anchor=\"middle\" x=\"223.5\" y=\"-340.3\">output:</text>\n<polyline fill=\"none\" points=\"252.5,-332.5 252.5,-378.5 \" stroke=\"#000000\"/>\n<text fill=\"#000000\" font-family=\"Times,serif\" font-size=\"14.00\" text-anchor=\"middle\" x=\"299.5\" y=\"-363.3\">(None, 10)</text>\n<polyline fill=\"none\" points=\"252.5,-355.5 346.5,-355.5 \" stroke=\"#000000\"/>\n<text fill=\"#000000\" font-family=\"Times,serif\" font-size=\"14.00\" text-anchor=\"middle\" x=\"299.5\" y=\"-340.3\">(None, 1152)</text>\n</g>\n<!-- 140365543961880&#45;&gt;140367022633928 -->\n<g class=\"edge\" id=\"edge6\">\n<title>140365543961880-&gt;140367022633928</title>\n<path d=\"M217,-415.3799C217,-407.1745 217,-397.7679 217,-388.8786\" fill=\"none\" stroke=\"#000000\"/>\n<polygon fill=\"#000000\" points=\"220.5001,-388.784 217,-378.784 213.5001,-388.784 220.5001,-388.784\" stroke=\"#000000\"/>\n</g>\n<!-- 140367022634040 -->\n<g class=\"node\" id=\"node8\">\n<title>140367022634040</title>\n<polygon fill=\"none\" points=\"72,-249.5 72,-295.5 362,-295.5 362,-249.5 72,-249.5\" stroke=\"#000000\"/>\n<text fill=\"#000000\" font-family=\"Times,serif\" font-size=\"14.00\" text-anchor=\"middle\" x=\"129.5\" y=\"-268.8\">reshape: Reshape</text>\n<polyline fill=\"none\" points=\"187,-249.5 187,-295.5 \" stroke=\"#000000\"/>\n<text fill=\"#000000\" font-family=\"Times,serif\" font-size=\"14.00\" text-anchor=\"middle\" x=\"216\" y=\"-280.3\">input:</text>\n<polyline fill=\"none\" points=\"187,-272.5 245,-272.5 \" stroke=\"#000000\"/>\n<text fill=\"#000000\" font-family=\"Times,serif\" font-size=\"14.00\" text-anchor=\"middle\" x=\"216\" y=\"-257.3\">output:</text>\n<polyline fill=\"none\" points=\"245,-249.5 245,-295.5 \" stroke=\"#000000\"/>\n<text fill=\"#000000\" font-family=\"Times,serif\" font-size=\"14.00\" text-anchor=\"middle\" x=\"303.5\" y=\"-280.3\">(None, 1152)</text>\n<polyline fill=\"none\" points=\"245,-272.5 362,-272.5 \" stroke=\"#000000\"/>\n<text fill=\"#000000\" font-family=\"Times,serif\" font-size=\"14.00\" text-anchor=\"middle\" x=\"303.5\" y=\"-257.3\">(None, 3, 3, 128)</text>\n</g>\n<!-- 140367022633928&#45;&gt;140367022634040 -->\n<g class=\"edge\" id=\"edge7\">\n<title>140367022633928-&gt;140367022634040</title>\n<path d=\"M217,-332.3799C217,-324.1745 217,-314.7679 217,-305.8786\" fill=\"none\" stroke=\"#000000\"/>\n<polygon fill=\"#000000\" points=\"220.5001,-305.784 217,-295.784 213.5001,-305.784 220.5001,-305.784\" stroke=\"#000000\"/>\n</g>\n<!-- 140367022622256 -->\n<g class=\"node\" id=\"node9\">\n<title>140367022622256</title>\n<polygon fill=\"none\" points=\"11.5,-166.5 11.5,-212.5 422.5,-212.5 422.5,-166.5 11.5,-166.5\" stroke=\"#000000\"/>\n<text fill=\"#000000\" font-family=\"Times,serif\" font-size=\"14.00\" text-anchor=\"middle\" x=\"129.5\" y=\"-185.8\">conv2d_transpose: Conv2DTranspose</text>\n<polyline fill=\"none\" points=\"247.5,-166.5 247.5,-212.5 \" stroke=\"#000000\"/>\n<text fill=\"#000000\" font-family=\"Times,serif\" font-size=\"14.00\" text-anchor=\"middle\" x=\"276.5\" y=\"-197.3\">input:</text>\n<polyline fill=\"none\" points=\"247.5,-189.5 305.5,-189.5 \" stroke=\"#000000\"/>\n<text fill=\"#000000\" font-family=\"Times,serif\" font-size=\"14.00\" text-anchor=\"middle\" x=\"276.5\" y=\"-174.3\">output:</text>\n<polyline fill=\"none\" points=\"305.5,-166.5 305.5,-212.5 \" stroke=\"#000000\"/>\n<text fill=\"#000000\" font-family=\"Times,serif\" font-size=\"14.00\" text-anchor=\"middle\" x=\"364\" y=\"-197.3\">(None, 3, 3, 128)</text>\n<polyline fill=\"none\" points=\"305.5,-189.5 422.5,-189.5 \" stroke=\"#000000\"/>\n<text fill=\"#000000\" font-family=\"Times,serif\" font-size=\"14.00\" text-anchor=\"middle\" x=\"364\" y=\"-174.3\">(None, 7, 7, 64)</text>\n</g>\n<!-- 140367022634040&#45;&gt;140367022622256 -->\n<g class=\"edge\" id=\"edge8\">\n<title>140367022634040-&gt;140367022622256</title>\n<path d=\"M217,-249.3799C217,-241.1745 217,-231.7679 217,-222.8786\" fill=\"none\" stroke=\"#000000\"/>\n<polygon fill=\"#000000\" points=\"220.5001,-222.784 217,-212.784 213.5001,-222.784 220.5001,-222.784\" stroke=\"#000000\"/>\n</g>\n<!-- 140365544034032 -->\n<g class=\"node\" id=\"node10\">\n<title>140365544034032</title>\n<polygon fill=\"none\" points=\"0,-83.5 0,-129.5 434,-129.5 434,-83.5 0,-83.5\" stroke=\"#000000\"/>\n<text fill=\"#000000\" font-family=\"Times,serif\" font-size=\"14.00\" text-anchor=\"middle\" x=\"125.5\" y=\"-102.8\">conv2d_transpose_1: Conv2DTranspose</text>\n<polyline fill=\"none\" points=\"251,-83.5 251,-129.5 \" stroke=\"#000000\"/>\n<text fill=\"#000000\" font-family=\"Times,serif\" font-size=\"14.00\" text-anchor=\"middle\" x=\"280\" y=\"-114.3\">input:</text>\n<polyline fill=\"none\" points=\"251,-106.5 309,-106.5 \" stroke=\"#000000\"/>\n<text fill=\"#000000\" font-family=\"Times,serif\" font-size=\"14.00\" text-anchor=\"middle\" x=\"280\" y=\"-91.3\">output:</text>\n<polyline fill=\"none\" points=\"309,-83.5 309,-129.5 \" stroke=\"#000000\"/>\n<text fill=\"#000000\" font-family=\"Times,serif\" font-size=\"14.00\" text-anchor=\"middle\" x=\"371.5\" y=\"-114.3\">(None, 7, 7, 64)</text>\n<polyline fill=\"none\" points=\"309,-106.5 434,-106.5 \" stroke=\"#000000\"/>\n<text fill=\"#000000\" font-family=\"Times,serif\" font-size=\"14.00\" text-anchor=\"middle\" x=\"371.5\" y=\"-91.3\">(None, 14, 14, 32)</text>\n</g>\n<!-- 140367022622256&#45;&gt;140365544034032 -->\n<g class=\"edge\" id=\"edge9\">\n<title>140367022622256-&gt;140365544034032</title>\n<path d=\"M217,-166.3799C217,-158.1745 217,-148.7679 217,-139.8786\" fill=\"none\" stroke=\"#000000\"/>\n<polygon fill=\"#000000\" points=\"220.5001,-139.784 217,-129.784 213.5001,-139.784 220.5001,-139.784\" stroke=\"#000000\"/>\n</g>\n<!-- 140365544111744 -->\n<g class=\"node\" id=\"node11\">\n<title>140365544111744</title>\n<polygon fill=\"none\" points=\"0,-.5 0,-46.5 434,-46.5 434,-.5 0,-.5\" stroke=\"#000000\"/>\n<text fill=\"#000000\" font-family=\"Times,serif\" font-size=\"14.00\" text-anchor=\"middle\" x=\"125.5\" y=\"-19.8\">conv2d_transpose_2: Conv2DTranspose</text>\n<polyline fill=\"none\" points=\"251,-.5 251,-46.5 \" stroke=\"#000000\"/>\n<text fill=\"#000000\" font-family=\"Times,serif\" font-size=\"14.00\" text-anchor=\"middle\" x=\"280\" y=\"-31.3\">input:</text>\n<polyline fill=\"none\" points=\"251,-23.5 309,-23.5 \" stroke=\"#000000\"/>\n<text fill=\"#000000\" font-family=\"Times,serif\" font-size=\"14.00\" text-anchor=\"middle\" x=\"280\" y=\"-8.3\">output:</text>\n<polyline fill=\"none\" points=\"309,-.5 309,-46.5 \" stroke=\"#000000\"/>\n<text fill=\"#000000\" font-family=\"Times,serif\" font-size=\"14.00\" text-anchor=\"middle\" x=\"371.5\" y=\"-31.3\">(None, 14, 14, 32)</text>\n<polyline fill=\"none\" points=\"309,-23.5 434,-23.5 \" stroke=\"#000000\"/>\n<text fill=\"#000000\" font-family=\"Times,serif\" font-size=\"14.00\" text-anchor=\"middle\" x=\"371.5\" y=\"-8.3\">(None, 28, 28, 1)</text>\n</g>\n<!-- 140365544034032&#45;&gt;140365544111744 -->\n<g class=\"edge\" id=\"edge10\">\n<title>140365544034032-&gt;140365544111744</title>\n<path d=\"M217,-83.3799C217,-75.1745 217,-65.7679 217,-56.8786\" fill=\"none\" stroke=\"#000000\"/>\n<polygon fill=\"#000000\" points=\"220.5001,-56.784 217,-46.784 213.5001,-56.784 220.5001,-56.784\" stroke=\"#000000\"/>\n</g>\n</g>\n</svg>"
          },
          "metadata": {
            "tags": []
          },
          "execution_count": 13
        }
      ]
    },
    {
      "cell_type": "code",
      "metadata": {
        "colab": {
          "base_uri": "https://localhost:8080/"
        },
        "id": "wHG5dAdGh33P",
        "outputId": "d0d9b13d-a86f-4cf9-ebf7-dae924b7dddb"
      },
      "source": [
        "autoencoder_train = autoencoder.fit(train_X, train_ground, batch_size=batch_size,epochs=epochs,verbose=1,validation_data=(valid_X, valid_ground))"
      ],
      "execution_count": 14,
      "outputs": [
        {
          "output_type": "stream",
          "text": [
            "Epoch 1/25\n",
            "375/375 [==============================] - 12s 12ms/step - loss: 0.1194 - val_loss: 0.0707\n",
            "Epoch 2/25\n",
            "375/375 [==============================] - 4s 11ms/step - loss: 0.0696 - val_loss: 0.0682\n",
            "Epoch 3/25\n",
            "375/375 [==============================] - 4s 11ms/step - loss: 0.0678 - val_loss: 0.0678\n",
            "Epoch 4/25\n",
            "375/375 [==============================] - 4s 11ms/step - loss: 0.0675 - val_loss: 0.0677\n",
            "Epoch 5/25\n",
            "375/375 [==============================] - 4s 11ms/step - loss: 0.0675 - val_loss: 0.0676\n",
            "Epoch 6/25\n",
            "375/375 [==============================] - 4s 11ms/step - loss: 0.0675 - val_loss: 0.0676\n",
            "Epoch 7/25\n",
            "375/375 [==============================] - 4s 11ms/step - loss: 0.0674 - val_loss: 0.0676\n",
            "Epoch 8/25\n",
            "375/375 [==============================] - 4s 11ms/step - loss: 0.0675 - val_loss: 0.0677\n",
            "Epoch 9/25\n",
            "375/375 [==============================] - 4s 12ms/step - loss: 0.0675 - val_loss: 0.0675\n",
            "Epoch 10/25\n",
            "375/375 [==============================] - 4s 11ms/step - loss: 0.0674 - val_loss: 0.0675\n",
            "Epoch 11/25\n",
            "375/375 [==============================] - 4s 11ms/step - loss: 0.0674 - val_loss: 0.0675\n",
            "Epoch 12/25\n",
            "375/375 [==============================] - 4s 11ms/step - loss: 0.0673 - val_loss: 0.0675\n",
            "Epoch 13/25\n",
            "375/375 [==============================] - 4s 11ms/step - loss: 0.0673 - val_loss: 0.0675\n",
            "Epoch 14/25\n",
            "375/375 [==============================] - 4s 11ms/step - loss: 0.0674 - val_loss: 0.0676\n",
            "Epoch 15/25\n",
            "375/375 [==============================] - 4s 11ms/step - loss: 0.0674 - val_loss: 0.0676\n",
            "Epoch 16/25\n",
            "375/375 [==============================] - 4s 11ms/step - loss: 0.0674 - val_loss: 0.0675\n",
            "Epoch 17/25\n",
            "375/375 [==============================] - 4s 11ms/step - loss: 0.0673 - val_loss: 0.0675\n",
            "Epoch 18/25\n",
            "375/375 [==============================] - 4s 11ms/step - loss: 0.0674 - val_loss: 0.0675\n",
            "Epoch 19/25\n",
            "375/375 [==============================] - 4s 11ms/step - loss: 0.0673 - val_loss: 0.0675\n",
            "Epoch 20/25\n",
            "375/375 [==============================] - 4s 11ms/step - loss: 0.0671 - val_loss: 0.0675\n",
            "Epoch 21/25\n",
            "375/375 [==============================] - 4s 11ms/step - loss: 0.0673 - val_loss: 0.0675\n",
            "Epoch 22/25\n",
            "375/375 [==============================] - 4s 11ms/step - loss: 0.0672 - val_loss: 0.0675\n",
            "Epoch 23/25\n",
            "375/375 [==============================] - 4s 11ms/step - loss: 0.0673 - val_loss: 0.0675\n",
            "Epoch 24/25\n",
            "375/375 [==============================] - 4s 12ms/step - loss: 0.0672 - val_loss: 0.0675\n",
            "Epoch 25/25\n",
            "375/375 [==============================] - 4s 12ms/step - loss: 0.0672 - val_loss: 0.0675\n"
          ],
          "name": "stdout"
        }
      ]
    },
    {
      "cell_type": "code",
      "metadata": {
        "id": "Hx-p74w0nnhi"
      },
      "source": [
        "# define an encoder model (without the decoder)\n",
        "encoder = Model(inputs=input_img, outputs=bottleneck)"
      ],
      "execution_count": 15,
      "outputs": []
    },
    {
      "cell_type": "code",
      "metadata": {
        "id": "ybsYl838jOFM"
      },
      "source": [
        "# encode the train data\n",
        "X_train_encode = encoder.predict(train_X)"
      ],
      "execution_count": 16,
      "outputs": []
    },
    {
      "cell_type": "code",
      "metadata": {
        "colab": {
          "base_uri": "https://localhost:8080/"
        },
        "id": "5q4Y14fpjUfq",
        "outputId": "813b9366-1489-499e-c7ac-3968dc373ad3"
      },
      "source": [
        "print(X_train_encode.shape)\n",
        "print(len(X_train_encode[0]))\n",
        "print(X_train_encode[10])"
      ],
      "execution_count": 18,
      "outputs": [
        {
          "output_type": "stream",
          "text": [
            "(48000, 3, 3, 1)\n",
            "3\n",
            "[[[-0.78050107]\n",
            "  [-0.77323276]\n",
            "  [-0.79456586]]\n",
            "\n",
            " [[-0.7646573 ]\n",
            "  [-0.7669594 ]\n",
            "  [-0.7704884 ]]\n",
            "\n",
            " [[-0.79407215]\n",
            "  [-0.76139915]\n",
            "  [-0.7807726 ]]]\n"
          ],
          "name": "stdout"
        }
      ]
    },
    {
      "cell_type": "code",
      "metadata": {
        "colab": {
          "base_uri": "https://localhost:8080/"
        },
        "id": "h3HN2fwHjYMM",
        "outputId": "942f7fc7-3947-4284-eb44-1275b2da166b"
      },
      "source": [
        "print(len(train_X[10]))\n",
        "print(train_X.shape)"
      ],
      "execution_count": 19,
      "outputs": [
        {
          "output_type": "stream",
          "text": [
            "28\n",
            "(48000, 28, 28, 1)\n"
          ],
          "name": "stdout"
        }
      ]
    },
    {
      "cell_type": "markdown",
      "metadata": {
        "id": "xxNPngYtkUv1"
      },
      "source": [
        "Na filaksoume tis nees eikones se file gia na tis diavasoume meso tis c++"
      ]
    },
    {
      "cell_type": "code",
      "metadata": {
        "id": "-r2GSl_k7sh2"
      },
      "source": [
        "\n",
        "def saveNewImages(compressedImgs):\n",
        "  f = open(\"compressedImgs\",\"w\")\n",
        "  #The first line will contain the number of images\n",
        "  f.write(str(len(compressedImgs)) + \"\\n\")\n",
        "  #The second line will contain the number of rows\n",
        "  f.write(str(len(compressedImgs[0])) + \"\\n\")\n",
        "  #The third line will contain the number of columns\n",
        "  f.write(str(len(compressedImgs[0][0])) + \"\\n\")\n",
        "  #For the rest of the file each line contains the pixels of an image\n",
        "  #seperated by spaces\n",
        "  for image in compressedImgs:\n",
        "    for row in image:\n",
        "      for pixel in row:\n",
        "        strPixel = str(pixel)\n",
        "        strPixel = strPixel.strip('[')\n",
        "        strPixel = strPixel.strip(']')\n",
        "        f.write(strPixel + \" \")\n",
        "    f.write(\"\\n\")\n",
        "  f.close()\n",
        "\n",
        "saveNewImages(X_train_encode)"
      ],
      "execution_count": 20,
      "outputs": []
    }
  ]
}