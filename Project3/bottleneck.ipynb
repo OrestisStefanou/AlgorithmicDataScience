{
  "nbformat": 4,
  "nbformat_minor": 0,
  "metadata": {
    "accelerator": "GPU",
    "colab": {
      "name": "New Autoencoder Architecutre.ipynb",
      "provenance": [],
      "collapsed_sections": []
    },
    "kernelspec": {
      "display_name": "Python 3",
      "language": "python",
      "name": "python3"
    },
    "language_info": {
      "codemirror_mode": {
        "name": "ipython",
        "version": 3
      },
      "file_extension": ".py",
      "mimetype": "text/x-python",
      "name": "python",
      "nbconvert_exporter": "python",
      "pygments_lexer": "ipython3",
      "version": "3.8.5"
    }
  },
  "cells": [
    {
      "cell_type": "code",
      "metadata": {
        "colab": {
          "base_uri": "https://localhost:8080/"
        },
        "id": "7XMhec7aVCrG",
        "outputId": "ae26a622-fc86-4d24-f56f-3fc214fa7977"
      },
      "source": [
        "from google.colab import drive\n",
        "drive.mount('/content/drive')\n",
        "import keras\n",
        "from matplotlib import pyplot as plt\n",
        "import numpy as np\n",
        "import gzip\n",
        "%matplotlib inline\n",
        "from keras.models import Model\n",
        "from keras.optimizers import RMSprop\n",
        "from keras.layers import Input,Dense,Flatten,Dropout,merge,Reshape,Conv2D,MaxPooling2D,UpSampling2D,Conv2DTranspose\n",
        "from keras.layers.normalization import BatchNormalization\n",
        "from keras.models import Model,Sequential\n",
        "from keras.callbacks import ModelCheckpoint\n",
        "from keras.optimizers import Adadelta, RMSprop,SGD,Adam\n",
        "from keras import regularizers\n",
        "from keras import backend as K\n",
        "from keras.utils import to_categorical\n",
        "import struct as st\n"
      ],
      "execution_count": 2,
      "outputs": [
        {
          "output_type": "stream",
          "text": [
            "Mounted at /content/drive\n"
          ],
          "name": "stdout"
        }
      ]
    },
    {
      "cell_type": "code",
      "metadata": {
        "id": "JlOHefKYV6mq"
      },
      "source": [
        "def read_data(filename):\n",
        "    file = gzip.open(filename,'rb')\n",
        "    file.seek(0)\n",
        "    magic_number = st.unpack('>4B',file.read(4)) # read magic number\n",
        "    number_of_images = st.unpack('>I',file.read(4))[0] # read number of images\n",
        "    number_of_rows = st.unpack('>I',file.read(4))[0] #read number of rows\n",
        "    number_of_columns = st.unpack('>I',file.read(4))[0] #read number of column\n",
        "    with gzip.open(filename) as file_stream:\n",
        "        file_stream.read(16)\n",
        "        buf = file_stream.read(number_of_rows * number_of_columns * number_of_images)\n",
        "        data = np.frombuffer(buf, dtype=np.uint8).astype(np.float32)\n",
        "        data = data.reshape(number_of_images, number_of_rows,number_of_columns)\n",
        "        return data"
      ],
      "execution_count": 3,
      "outputs": []
    },
    {
      "cell_type": "code",
      "metadata": {
        "id": "vo_tZY7CV9I2"
      },
      "source": [
        "train_data = read_data('/content/train-images-idx3-ubyte.gz')\n",
        "test_data = read_data('/content/t10k-images-idx3-ubyte.gz')"
      ],
      "execution_count": 4,
      "outputs": []
    },
    {
      "cell_type": "code",
      "metadata": {
        "id": "KNNj-GLKWAPS"
      },
      "source": [
        "def read_labels(filename):\n",
        "    file = gzip.open(filename,'rb')\n",
        "    file.seek(0)\n",
        "    magic_number = st.unpack('>4B',file.read(4)) # read magic number\n",
        "    number_of_iteams = st.unpack('>I',file.read(4))[0] # read number of images\n",
        "    with gzip.open(filename) as file_stream:\n",
        "        file_stream.read(8)\n",
        "        buf = file_stream.read(number_of_iteams)\n",
        "        labels = np.frombuffer(buf, dtype=np.uint8).astype(np.int64)\n",
        "        return labels"
      ],
      "execution_count": 5,
      "outputs": []
    },
    {
      "cell_type": "code",
      "metadata": {
        "id": "C6NIQSXoWC8U"
      },
      "source": [
        "train_labels = read_labels('/content/train-labels-idx1-ubyte.gz')\n",
        "test_labels = read_labels('/content/t10k-labels-idx1-ubyte.gz')"
      ],
      "execution_count": 6,
      "outputs": []
    },
    {
      "cell_type": "code",
      "metadata": {
        "id": "F61oe_qagSol"
      },
      "source": [
        "# Create dictionary of target classes\n",
        "label_dict = {\n",
        " 0: '0',\n",
        " 1: '1',\n",
        " 2: '2',\n",
        " 3: '3',\n",
        " 4: '4',\n",
        " 5: '5',\n",
        " 6: '6',\n",
        " 7: '7',\n",
        " 8: '8',\n",
        " 9: '9',\n",
        "}"
      ],
      "execution_count": 7,
      "outputs": []
    },
    {
      "cell_type": "code",
      "metadata": {
        "colab": {
          "base_uri": "https://localhost:8080/"
        },
        "id": "sgKN3Nb_gWHG",
        "outputId": "9f7ee925-8c79-41b0-b850-2121fe1b99d1"
      },
      "source": [
        "train_data = train_data.reshape(-1, 28,28, 1)\n",
        "test_data = test_data.reshape(-1, 28,28, 1)\n",
        "train_data.shape, test_data.shape"
      ],
      "execution_count": 8,
      "outputs": [
        {
          "output_type": "execute_result",
          "data": {
            "text/plain": [
              "((60000, 28, 28, 1), (10000, 28, 28, 1))"
            ]
          },
          "metadata": {
            "tags": []
          },
          "execution_count": 8
        }
      ]
    },
    {
      "cell_type": "code",
      "metadata": {
        "id": "AdtTiViwgZVq"
      },
      "source": [
        "train_data = train_data / np.max(train_data)\n",
        "test_data = test_data / np.max(test_data)"
      ],
      "execution_count": 9,
      "outputs": []
    },
    {
      "cell_type": "code",
      "metadata": {
        "id": "ihw7P9wdgcsh"
      },
      "source": [
        "from sklearn.model_selection import train_test_split\n",
        "train_X,valid_X,train_ground,valid_ground = train_test_split(train_data,\n",
        "                                                             train_data,\n",
        "                                                             test_size=0.2,\n",
        "                                                             random_state=13)"
      ],
      "execution_count": 10,
      "outputs": []
    },
    {
      "cell_type": "code",
      "metadata": {
        "id": "F-z-mIq7ggB1"
      },
      "source": [
        "batch_size = 128\n",
        "epochs = 25\n",
        "inChannel = 1\n",
        "x, y = 28, 28\n",
        "input_img = Input(shape = (x, y, inChannel))\n",
        "num_classes = 10\n",
        "n_inputs = train_data.shape[1]"
      ],
      "execution_count": 11,
      "outputs": []
    },
    {
      "cell_type": "code",
      "metadata": {
        "id": "3M0CND16gihF"
      },
      "source": [
        "\n",
        "\n",
        "#encoder\n",
        "conv1 = Conv2D(32, (15, 15), activation='softmax', padding='valid')(input_img) #28 x 28 x 32\n",
        "conv2 = Conv2D(64, (8, 8), activation='softmax', padding='valid')(conv1) #14 x 14 x 64\n",
        "conv3 = Conv2D(128, (5, 5), activation='softmax', padding='valid')(conv2) #14 x 14 x 64\n",
        "\n",
        "\n",
        "flatten = Flatten()(conv3)\n",
        "encoded = Dense(int(10), activation='relu')(flatten)\n",
        "decoded = Dense(units = 3*3*128, activation='sigmoid')(encoded)\n",
        "reshape = Reshape(target_shape = (3,3,128))(decoded)\n",
        "# bottleneck\n",
        "n_bottleneck = 1\n",
        "bottleneck = Dense(n_bottleneck)(reshape)\n",
        "\n",
        "\n",
        "#decoder\n",
        "conv4 = Conv2DTranspose(64, (5, 5), activation='softmax', padding='valid')(reshape)\n",
        "conv5 = Conv2DTranspose(32, (8, 8), activation='softmax', padding='valid')(conv4)\n",
        "conv6 = Conv2DTranspose(1, (15, 15), activation='softmax', padding='valid')(conv5)\n",
        "\n",
        "\n",
        "decoded = conv6"
      ],
      "execution_count": 17,
      "outputs": []
    },
    {
      "cell_type": "code",
      "metadata": {
        "id": "zlYIxF0vh0Fl"
      },
      "source": [
        "autoencoder = Model(input_img, decoded)\n",
        "autoencoder.compile(loss='mean_squared_error', optimizer = RMSprop())"
      ],
      "execution_count": 18,
      "outputs": []
    },
    {
      "cell_type": "code",
      "metadata": {
        "id": "X-n2bZS86_LB"
      },
      "source": [
        ""
      ],
      "execution_count": null,
      "outputs": []
    },
    {
      "cell_type": "code",
      "metadata": {
        "colab": {
          "base_uri": "https://localhost:8080/",
          "height": 1000
        },
        "id": "3IOualMXitaB",
        "outputId": "028ac363-ea5b-4412-aa02-f223c5160ffc"
      },
      "source": [
        "autoencoder.summary()\n",
        "\n",
        "from IPython.display import SVG\n",
        "from keras.utils.vis_utils import model_to_dot\n",
        "\n",
        "SVG(model_to_dot(autoencoder,show_shapes=True,dpi=65).create(prog='dot', format='svg'))"
      ],
      "execution_count": 19,
      "outputs": [
        {
          "output_type": "stream",
          "text": [
            "Model: \"model_1\"\n",
            "_________________________________________________________________\n",
            "Layer (type)                 Output Shape              Param #   \n",
            "=================================================================\n",
            "input_1 (InputLayer)         [(None, 28, 28, 1)]       0         \n",
            "_________________________________________________________________\n",
            "conv2d_3 (Conv2D)            (None, 14, 14, 32)        7232      \n",
            "_________________________________________________________________\n",
            "conv2d_4 (Conv2D)            (None, 7, 7, 64)          131136    \n",
            "_________________________________________________________________\n",
            "conv2d_5 (Conv2D)            (None, 3, 3, 128)         204928    \n",
            "_________________________________________________________________\n",
            "flatten_1 (Flatten)          (None, 1152)              0         \n",
            "_________________________________________________________________\n",
            "dense_2 (Dense)              (None, 10)                11530     \n",
            "_________________________________________________________________\n",
            "dense_3 (Dense)              (None, 1152)              12672     \n",
            "_________________________________________________________________\n",
            "reshape_1 (Reshape)          (None, 3, 3, 128)         0         \n",
            "_________________________________________________________________\n",
            "conv2d_transpose_3 (Conv2DTr (None, 7, 7, 64)          204864    \n",
            "_________________________________________________________________\n",
            "conv2d_transpose_4 (Conv2DTr (None, 14, 14, 32)        131104    \n",
            "_________________________________________________________________\n",
            "conv2d_transpose_5 (Conv2DTr (None, 28, 28, 1)         7201      \n",
            "=================================================================\n",
            "Total params: 710,667\n",
            "Trainable params: 710,667\n",
            "Non-trainable params: 0\n",
            "_________________________________________________________________\n"
          ],
          "name": "stdout"
        },
        {
          "output_type": "execute_result",
          "data": {
            "text/plain": [
              "<IPython.core.display.SVG object>"
            ],
            "image/svg+xml": "<svg height=\"799pt\" viewBox=\"0.00 0.00 442.00 885.00\" width=\"399pt\" xmlns=\"http://www.w3.org/2000/svg\" xmlns:xlink=\"http://www.w3.org/1999/xlink\">\n<g class=\"graph\" id=\"graph0\" transform=\"scale(.9028 .9028) rotate(0) translate(4 881)\">\n<title>G</title>\n<polygon fill=\"#ffffff\" points=\"-4,4 -4,-881 438,-881 438,4 -4,4\" stroke=\"transparent\"/>\n<!-- 140336229801768 -->\n<g class=\"node\" id=\"node1\">\n<title>140336229801768</title>\n<polygon fill=\"none\" points=\"58.5,-830.5 58.5,-876.5 375.5,-876.5 375.5,-830.5 58.5,-830.5\" stroke=\"#000000\"/>\n<text fill=\"#000000\" font-family=\"Times,serif\" font-size=\"14.00\" text-anchor=\"middle\" x=\"125\" y=\"-849.8\">input_1: InputLayer</text>\n<polyline fill=\"none\" points=\"191.5,-830.5 191.5,-876.5 \" stroke=\"#000000\"/>\n<text fill=\"#000000\" font-family=\"Times,serif\" font-size=\"14.00\" text-anchor=\"middle\" x=\"220.5\" y=\"-861.3\">input:</text>\n<polyline fill=\"none\" points=\"191.5,-853.5 249.5,-853.5 \" stroke=\"#000000\"/>\n<text fill=\"#000000\" font-family=\"Times,serif\" font-size=\"14.00\" text-anchor=\"middle\" x=\"220.5\" y=\"-838.3\">output:</text>\n<polyline fill=\"none\" points=\"249.5,-830.5 249.5,-876.5 \" stroke=\"#000000\"/>\n<text fill=\"#000000\" font-family=\"Times,serif\" font-size=\"14.00\" text-anchor=\"middle\" x=\"312.5\" y=\"-861.3\">[(None, 28, 28, 1)]</text>\n<polyline fill=\"none\" points=\"249.5,-853.5 375.5,-853.5 \" stroke=\"#000000\"/>\n<text fill=\"#000000\" font-family=\"Times,serif\" font-size=\"14.00\" text-anchor=\"middle\" x=\"312.5\" y=\"-838.3\">[(None, 28, 28, 1)]</text>\n</g>\n<!-- 140334737069616 -->\n<g class=\"node\" id=\"node2\">\n<title>140334737069616</title>\n<polygon fill=\"none\" points=\"59,-747.5 59,-793.5 375,-793.5 375,-747.5 59,-747.5\" stroke=\"#000000\"/>\n<text fill=\"#000000\" font-family=\"Times,serif\" font-size=\"14.00\" text-anchor=\"middle\" x=\"125.5\" y=\"-766.8\">conv2d_3: Conv2D</text>\n<polyline fill=\"none\" points=\"192,-747.5 192,-793.5 \" stroke=\"#000000\"/>\n<text fill=\"#000000\" font-family=\"Times,serif\" font-size=\"14.00\" text-anchor=\"middle\" x=\"221\" y=\"-778.3\">input:</text>\n<polyline fill=\"none\" points=\"192,-770.5 250,-770.5 \" stroke=\"#000000\"/>\n<text fill=\"#000000\" font-family=\"Times,serif\" font-size=\"14.00\" text-anchor=\"middle\" x=\"221\" y=\"-755.3\">output:</text>\n<polyline fill=\"none\" points=\"250,-747.5 250,-793.5 \" stroke=\"#000000\"/>\n<text fill=\"#000000\" font-family=\"Times,serif\" font-size=\"14.00\" text-anchor=\"middle\" x=\"312.5\" y=\"-778.3\">(None, 28, 28, 1)</text>\n<polyline fill=\"none\" points=\"250,-770.5 375,-770.5 \" stroke=\"#000000\"/>\n<text fill=\"#000000\" font-family=\"Times,serif\" font-size=\"14.00\" text-anchor=\"middle\" x=\"312.5\" y=\"-755.3\">(None, 14, 14, 32)</text>\n</g>\n<!-- 140336229801768&#45;&gt;140334737069616 -->\n<g class=\"edge\" id=\"edge1\">\n<title>140336229801768-&gt;140334737069616</title>\n<path d=\"M217,-830.3799C217,-822.1745 217,-812.7679 217,-803.8786\" fill=\"none\" stroke=\"#000000\"/>\n<polygon fill=\"#000000\" points=\"220.5001,-803.784 217,-793.784 213.5001,-803.784 220.5001,-803.784\" stroke=\"#000000\"/>\n</g>\n<!-- 140335910799120 -->\n<g class=\"node\" id=\"node3\">\n<title>140335910799120</title>\n<polygon fill=\"none\" points=\"59,-664.5 59,-710.5 375,-710.5 375,-664.5 59,-664.5\" stroke=\"#000000\"/>\n<text fill=\"#000000\" font-family=\"Times,serif\" font-size=\"14.00\" text-anchor=\"middle\" x=\"125.5\" y=\"-683.8\">conv2d_4: Conv2D</text>\n<polyline fill=\"none\" points=\"192,-664.5 192,-710.5 \" stroke=\"#000000\"/>\n<text fill=\"#000000\" font-family=\"Times,serif\" font-size=\"14.00\" text-anchor=\"middle\" x=\"221\" y=\"-695.3\">input:</text>\n<polyline fill=\"none\" points=\"192,-687.5 250,-687.5 \" stroke=\"#000000\"/>\n<text fill=\"#000000\" font-family=\"Times,serif\" font-size=\"14.00\" text-anchor=\"middle\" x=\"221\" y=\"-672.3\">output:</text>\n<polyline fill=\"none\" points=\"250,-664.5 250,-710.5 \" stroke=\"#000000\"/>\n<text fill=\"#000000\" font-family=\"Times,serif\" font-size=\"14.00\" text-anchor=\"middle\" x=\"312.5\" y=\"-695.3\">(None, 14, 14, 32)</text>\n<polyline fill=\"none\" points=\"250,-687.5 375,-687.5 \" stroke=\"#000000\"/>\n<text fill=\"#000000\" font-family=\"Times,serif\" font-size=\"14.00\" text-anchor=\"middle\" x=\"312.5\" y=\"-672.3\">(None, 7, 7, 64)</text>\n</g>\n<!-- 140334737069616&#45;&gt;140335910799120 -->\n<g class=\"edge\" id=\"edge2\">\n<title>140334737069616-&gt;140335910799120</title>\n<path d=\"M217,-747.3799C217,-739.1745 217,-729.7679 217,-720.8786\" fill=\"none\" stroke=\"#000000\"/>\n<polygon fill=\"#000000\" points=\"220.5001,-720.784 217,-710.784 213.5001,-720.784 220.5001,-720.784\" stroke=\"#000000\"/>\n</g>\n<!-- 140335910799176 -->\n<g class=\"node\" id=\"node4\">\n<title>140335910799176</title>\n<polygon fill=\"none\" points=\"63,-581.5 63,-627.5 371,-627.5 371,-581.5 63,-581.5\" stroke=\"#000000\"/>\n<text fill=\"#000000\" font-family=\"Times,serif\" font-size=\"14.00\" text-anchor=\"middle\" x=\"129.5\" y=\"-600.8\">conv2d_5: Conv2D</text>\n<polyline fill=\"none\" points=\"196,-581.5 196,-627.5 \" stroke=\"#000000\"/>\n<text fill=\"#000000\" font-family=\"Times,serif\" font-size=\"14.00\" text-anchor=\"middle\" x=\"225\" y=\"-612.3\">input:</text>\n<polyline fill=\"none\" points=\"196,-604.5 254,-604.5 \" stroke=\"#000000\"/>\n<text fill=\"#000000\" font-family=\"Times,serif\" font-size=\"14.00\" text-anchor=\"middle\" x=\"225\" y=\"-589.3\">output:</text>\n<polyline fill=\"none\" points=\"254,-581.5 254,-627.5 \" stroke=\"#000000\"/>\n<text fill=\"#000000\" font-family=\"Times,serif\" font-size=\"14.00\" text-anchor=\"middle\" x=\"312.5\" y=\"-612.3\">(None, 7, 7, 64)</text>\n<polyline fill=\"none\" points=\"254,-604.5 371,-604.5 \" stroke=\"#000000\"/>\n<text fill=\"#000000\" font-family=\"Times,serif\" font-size=\"14.00\" text-anchor=\"middle\" x=\"312.5\" y=\"-589.3\">(None, 3, 3, 128)</text>\n</g>\n<!-- 140335910799120&#45;&gt;140335910799176 -->\n<g class=\"edge\" id=\"edge3\">\n<title>140335910799120-&gt;140335910799176</title>\n<path d=\"M217,-664.3799C217,-656.1745 217,-646.7679 217,-637.8786\" fill=\"none\" stroke=\"#000000\"/>\n<polygon fill=\"#000000\" points=\"220.5001,-637.784 217,-627.784 213.5001,-637.784 220.5001,-637.784\" stroke=\"#000000\"/>\n</g>\n<!-- 140335909850528 -->\n<g class=\"node\" id=\"node5\">\n<title>140335909850528</title>\n<polygon fill=\"none\" points=\"73,-498.5 73,-544.5 361,-544.5 361,-498.5 73,-498.5\" stroke=\"#000000\"/>\n<text fill=\"#000000\" font-family=\"Times,serif\" font-size=\"14.00\" text-anchor=\"middle\" x=\"129.5\" y=\"-517.8\">flatten_1: Flatten</text>\n<polyline fill=\"none\" points=\"186,-498.5 186,-544.5 \" stroke=\"#000000\"/>\n<text fill=\"#000000\" font-family=\"Times,serif\" font-size=\"14.00\" text-anchor=\"middle\" x=\"215\" y=\"-529.3\">input:</text>\n<polyline fill=\"none\" points=\"186,-521.5 244,-521.5 \" stroke=\"#000000\"/>\n<text fill=\"#000000\" font-family=\"Times,serif\" font-size=\"14.00\" text-anchor=\"middle\" x=\"215\" y=\"-506.3\">output:</text>\n<polyline fill=\"none\" points=\"244,-498.5 244,-544.5 \" stroke=\"#000000\"/>\n<text fill=\"#000000\" font-family=\"Times,serif\" font-size=\"14.00\" text-anchor=\"middle\" x=\"302.5\" y=\"-529.3\">(None, 3, 3, 128)</text>\n<polyline fill=\"none\" points=\"244,-521.5 361,-521.5 \" stroke=\"#000000\"/>\n<text fill=\"#000000\" font-family=\"Times,serif\" font-size=\"14.00\" text-anchor=\"middle\" x=\"302.5\" y=\"-506.3\">(None, 1152)</text>\n</g>\n<!-- 140335910799176&#45;&gt;140335909850528 -->\n<g class=\"edge\" id=\"edge4\">\n<title>140335910799176-&gt;140335909850528</title>\n<path d=\"M217,-581.3799C217,-573.1745 217,-563.7679 217,-554.8786\" fill=\"none\" stroke=\"#000000\"/>\n<polygon fill=\"#000000\" points=\"220.5001,-554.784 217,-544.784 213.5001,-554.784 220.5001,-554.784\" stroke=\"#000000\"/>\n</g>\n<!-- 140335909986488 -->\n<g class=\"node\" id=\"node6\">\n<title>140335909986488</title>\n<polygon fill=\"none\" points=\"87.5,-415.5 87.5,-461.5 346.5,-461.5 346.5,-415.5 87.5,-415.5\" stroke=\"#000000\"/>\n<text fill=\"#000000\" font-family=\"Times,serif\" font-size=\"14.00\" text-anchor=\"middle\" x=\"141\" y=\"-434.8\">dense_2: Dense</text>\n<polyline fill=\"none\" points=\"194.5,-415.5 194.5,-461.5 \" stroke=\"#000000\"/>\n<text fill=\"#000000\" font-family=\"Times,serif\" font-size=\"14.00\" text-anchor=\"middle\" x=\"223.5\" y=\"-446.3\">input:</text>\n<polyline fill=\"none\" points=\"194.5,-438.5 252.5,-438.5 \" stroke=\"#000000\"/>\n<text fill=\"#000000\" font-family=\"Times,serif\" font-size=\"14.00\" text-anchor=\"middle\" x=\"223.5\" y=\"-423.3\">output:</text>\n<polyline fill=\"none\" points=\"252.5,-415.5 252.5,-461.5 \" stroke=\"#000000\"/>\n<text fill=\"#000000\" font-family=\"Times,serif\" font-size=\"14.00\" text-anchor=\"middle\" x=\"299.5\" y=\"-446.3\">(None, 1152)</text>\n<polyline fill=\"none\" points=\"252.5,-438.5 346.5,-438.5 \" stroke=\"#000000\"/>\n<text fill=\"#000000\" font-family=\"Times,serif\" font-size=\"14.00\" text-anchor=\"middle\" x=\"299.5\" y=\"-423.3\">(None, 10)</text>\n</g>\n<!-- 140335909850528&#45;&gt;140335909986488 -->\n<g class=\"edge\" id=\"edge5\">\n<title>140335909850528-&gt;140335909986488</title>\n<path d=\"M217,-498.3799C217,-490.1745 217,-480.7679 217,-471.8786\" fill=\"none\" stroke=\"#000000\"/>\n<polygon fill=\"#000000\" points=\"220.5001,-471.784 217,-461.784 213.5001,-471.784 220.5001,-471.784\" stroke=\"#000000\"/>\n</g>\n<!-- 140335910259680 -->\n<g class=\"node\" id=\"node7\">\n<title>140335910259680</title>\n<polygon fill=\"none\" points=\"87.5,-332.5 87.5,-378.5 346.5,-378.5 346.5,-332.5 87.5,-332.5\" stroke=\"#000000\"/>\n<text fill=\"#000000\" font-family=\"Times,serif\" font-size=\"14.00\" text-anchor=\"middle\" x=\"141\" y=\"-351.8\">dense_3: Dense</text>\n<polyline fill=\"none\" points=\"194.5,-332.5 194.5,-378.5 \" stroke=\"#000000\"/>\n<text fill=\"#000000\" font-family=\"Times,serif\" font-size=\"14.00\" text-anchor=\"middle\" x=\"223.5\" y=\"-363.3\">input:</text>\n<polyline fill=\"none\" points=\"194.5,-355.5 252.5,-355.5 \" stroke=\"#000000\"/>\n<text fill=\"#000000\" font-family=\"Times,serif\" font-size=\"14.00\" text-anchor=\"middle\" x=\"223.5\" y=\"-340.3\">output:</text>\n<polyline fill=\"none\" points=\"252.5,-332.5 252.5,-378.5 \" stroke=\"#000000\"/>\n<text fill=\"#000000\" font-family=\"Times,serif\" font-size=\"14.00\" text-anchor=\"middle\" x=\"299.5\" y=\"-363.3\">(None, 10)</text>\n<polyline fill=\"none\" points=\"252.5,-355.5 346.5,-355.5 \" stroke=\"#000000\"/>\n<text fill=\"#000000\" font-family=\"Times,serif\" font-size=\"14.00\" text-anchor=\"middle\" x=\"299.5\" y=\"-340.3\">(None, 1152)</text>\n</g>\n<!-- 140335909986488&#45;&gt;140335910259680 -->\n<g class=\"edge\" id=\"edge6\">\n<title>140335909986488-&gt;140335910259680</title>\n<path d=\"M217,-415.3799C217,-407.1745 217,-397.7679 217,-388.8786\" fill=\"none\" stroke=\"#000000\"/>\n<polygon fill=\"#000000\" points=\"220.5001,-388.784 217,-378.784 213.5001,-388.784 220.5001,-388.784\" stroke=\"#000000\"/>\n</g>\n<!-- 140335910598976 -->\n<g class=\"node\" id=\"node8\">\n<title>140335910598976</title>\n<polygon fill=\"none\" points=\"64.5,-249.5 64.5,-295.5 369.5,-295.5 369.5,-249.5 64.5,-249.5\" stroke=\"#000000\"/>\n<text fill=\"#000000\" font-family=\"Times,serif\" font-size=\"14.00\" text-anchor=\"middle\" x=\"129.5\" y=\"-268.8\">reshape_1: Reshape</text>\n<polyline fill=\"none\" points=\"194.5,-249.5 194.5,-295.5 \" stroke=\"#000000\"/>\n<text fill=\"#000000\" font-family=\"Times,serif\" font-size=\"14.00\" text-anchor=\"middle\" x=\"223.5\" y=\"-280.3\">input:</text>\n<polyline fill=\"none\" points=\"194.5,-272.5 252.5,-272.5 \" stroke=\"#000000\"/>\n<text fill=\"#000000\" font-family=\"Times,serif\" font-size=\"14.00\" text-anchor=\"middle\" x=\"223.5\" y=\"-257.3\">output:</text>\n<polyline fill=\"none\" points=\"252.5,-249.5 252.5,-295.5 \" stroke=\"#000000\"/>\n<text fill=\"#000000\" font-family=\"Times,serif\" font-size=\"14.00\" text-anchor=\"middle\" x=\"311\" y=\"-280.3\">(None, 1152)</text>\n<polyline fill=\"none\" points=\"252.5,-272.5 369.5,-272.5 \" stroke=\"#000000\"/>\n<text fill=\"#000000\" font-family=\"Times,serif\" font-size=\"14.00\" text-anchor=\"middle\" x=\"311\" y=\"-257.3\">(None, 3, 3, 128)</text>\n</g>\n<!-- 140335910259680&#45;&gt;140335910598976 -->\n<g class=\"edge\" id=\"edge7\">\n<title>140335910259680-&gt;140335910598976</title>\n<path d=\"M217,-332.3799C217,-324.1745 217,-314.7679 217,-305.8786\" fill=\"none\" stroke=\"#000000\"/>\n<polygon fill=\"#000000\" points=\"220.5001,-305.784 217,-295.784 213.5001,-305.784 220.5001,-305.784\" stroke=\"#000000\"/>\n</g>\n<!-- 140335910741216 -->\n<g class=\"node\" id=\"node9\">\n<title>140335910741216</title>\n<polygon fill=\"none\" points=\"4,-166.5 4,-212.5 430,-212.5 430,-166.5 4,-166.5\" stroke=\"#000000\"/>\n<text fill=\"#000000\" font-family=\"Times,serif\" font-size=\"14.00\" text-anchor=\"middle\" x=\"129.5\" y=\"-185.8\">conv2d_transpose_3: Conv2DTranspose</text>\n<polyline fill=\"none\" points=\"255,-166.5 255,-212.5 \" stroke=\"#000000\"/>\n<text fill=\"#000000\" font-family=\"Times,serif\" font-size=\"14.00\" text-anchor=\"middle\" x=\"284\" y=\"-197.3\">input:</text>\n<polyline fill=\"none\" points=\"255,-189.5 313,-189.5 \" stroke=\"#000000\"/>\n<text fill=\"#000000\" font-family=\"Times,serif\" font-size=\"14.00\" text-anchor=\"middle\" x=\"284\" y=\"-174.3\">output:</text>\n<polyline fill=\"none\" points=\"313,-166.5 313,-212.5 \" stroke=\"#000000\"/>\n<text fill=\"#000000\" font-family=\"Times,serif\" font-size=\"14.00\" text-anchor=\"middle\" x=\"371.5\" y=\"-197.3\">(None, 3, 3, 128)</text>\n<polyline fill=\"none\" points=\"313,-189.5 430,-189.5 \" stroke=\"#000000\"/>\n<text fill=\"#000000\" font-family=\"Times,serif\" font-size=\"14.00\" text-anchor=\"middle\" x=\"371.5\" y=\"-174.3\">(None, 7, 7, 64)</text>\n</g>\n<!-- 140335910598976&#45;&gt;140335910741216 -->\n<g class=\"edge\" id=\"edge8\">\n<title>140335910598976-&gt;140335910741216</title>\n<path d=\"M217,-249.3799C217,-241.1745 217,-231.7679 217,-222.8786\" fill=\"none\" stroke=\"#000000\"/>\n<polygon fill=\"#000000\" points=\"220.5001,-222.784 217,-212.784 213.5001,-222.784 220.5001,-222.784\" stroke=\"#000000\"/>\n</g>\n<!-- 140335909986432 -->\n<g class=\"node\" id=\"node10\">\n<title>140335909986432</title>\n<polygon fill=\"none\" points=\"0,-83.5 0,-129.5 434,-129.5 434,-83.5 0,-83.5\" stroke=\"#000000\"/>\n<text fill=\"#000000\" font-family=\"Times,serif\" font-size=\"14.00\" text-anchor=\"middle\" x=\"125.5\" y=\"-102.8\">conv2d_transpose_4: Conv2DTranspose</text>\n<polyline fill=\"none\" points=\"251,-83.5 251,-129.5 \" stroke=\"#000000\"/>\n<text fill=\"#000000\" font-family=\"Times,serif\" font-size=\"14.00\" text-anchor=\"middle\" x=\"280\" y=\"-114.3\">input:</text>\n<polyline fill=\"none\" points=\"251,-106.5 309,-106.5 \" stroke=\"#000000\"/>\n<text fill=\"#000000\" font-family=\"Times,serif\" font-size=\"14.00\" text-anchor=\"middle\" x=\"280\" y=\"-91.3\">output:</text>\n<polyline fill=\"none\" points=\"309,-83.5 309,-129.5 \" stroke=\"#000000\"/>\n<text fill=\"#000000\" font-family=\"Times,serif\" font-size=\"14.00\" text-anchor=\"middle\" x=\"371.5\" y=\"-114.3\">(None, 7, 7, 64)</text>\n<polyline fill=\"none\" points=\"309,-106.5 434,-106.5 \" stroke=\"#000000\"/>\n<text fill=\"#000000\" font-family=\"Times,serif\" font-size=\"14.00\" text-anchor=\"middle\" x=\"371.5\" y=\"-91.3\">(None, 14, 14, 32)</text>\n</g>\n<!-- 140335910741216&#45;&gt;140335909986432 -->\n<g class=\"edge\" id=\"edge9\">\n<title>140335910741216-&gt;140335909986432</title>\n<path d=\"M217,-166.3799C217,-158.1745 217,-148.7679 217,-139.8786\" fill=\"none\" stroke=\"#000000\"/>\n<polygon fill=\"#000000\" points=\"220.5001,-139.784 217,-129.784 213.5001,-139.784 220.5001,-139.784\" stroke=\"#000000\"/>\n</g>\n<!-- 140336213631888 -->\n<g class=\"node\" id=\"node11\">\n<title>140336213631888</title>\n<polygon fill=\"none\" points=\"0,-.5 0,-46.5 434,-46.5 434,-.5 0,-.5\" stroke=\"#000000\"/>\n<text fill=\"#000000\" font-family=\"Times,serif\" font-size=\"14.00\" text-anchor=\"middle\" x=\"125.5\" y=\"-19.8\">conv2d_transpose_5: Conv2DTranspose</text>\n<polyline fill=\"none\" points=\"251,-.5 251,-46.5 \" stroke=\"#000000\"/>\n<text fill=\"#000000\" font-family=\"Times,serif\" font-size=\"14.00\" text-anchor=\"middle\" x=\"280\" y=\"-31.3\">input:</text>\n<polyline fill=\"none\" points=\"251,-23.5 309,-23.5 \" stroke=\"#000000\"/>\n<text fill=\"#000000\" font-family=\"Times,serif\" font-size=\"14.00\" text-anchor=\"middle\" x=\"280\" y=\"-8.3\">output:</text>\n<polyline fill=\"none\" points=\"309,-.5 309,-46.5 \" stroke=\"#000000\"/>\n<text fill=\"#000000\" font-family=\"Times,serif\" font-size=\"14.00\" text-anchor=\"middle\" x=\"371.5\" y=\"-31.3\">(None, 14, 14, 32)</text>\n<polyline fill=\"none\" points=\"309,-23.5 434,-23.5 \" stroke=\"#000000\"/>\n<text fill=\"#000000\" font-family=\"Times,serif\" font-size=\"14.00\" text-anchor=\"middle\" x=\"371.5\" y=\"-8.3\">(None, 28, 28, 1)</text>\n</g>\n<!-- 140335909986432&#45;&gt;140336213631888 -->\n<g class=\"edge\" id=\"edge10\">\n<title>140335909986432-&gt;140336213631888</title>\n<path d=\"M217,-83.3799C217,-75.1745 217,-65.7679 217,-56.8786\" fill=\"none\" stroke=\"#000000\"/>\n<polygon fill=\"#000000\" points=\"220.5001,-56.784 217,-46.784 213.5001,-56.784 220.5001,-56.784\" stroke=\"#000000\"/>\n</g>\n</g>\n</svg>"
          },
          "metadata": {
            "tags": []
          },
          "execution_count": 19
        }
      ]
    },
    {
      "cell_type": "code",
      "metadata": {
        "id": "wHG5dAdGh33P",
        "colab": {
          "base_uri": "https://localhost:8080/"
        },
        "outputId": "bd1aff20-f1f4-464a-8105-5685ad1a1c4a"
      },
      "source": [
        "autoencoder_train = autoencoder.fit(train_X, train_ground, batch_size=batch_size,epochs=epochs,verbose=1,validation_data=(valid_X, valid_ground))"
      ],
      "execution_count": 20,
      "outputs": [
        {
          "output_type": "stream",
          "text": [
            "Epoch 1/25\n",
            "375/375 [==============================] - 5s 12ms/step - loss: 0.8504 - val_loss: 0.8503\n",
            "Epoch 2/25\n",
            "375/375 [==============================] - 4s 11ms/step - loss: 0.8511 - val_loss: 0.8503\n",
            "Epoch 3/25\n",
            "375/375 [==============================] - 4s 11ms/step - loss: 0.8507 - val_loss: 0.8503\n",
            "Epoch 4/25\n",
            "375/375 [==============================] - 4s 11ms/step - loss: 0.8512 - val_loss: 0.8503\n",
            "Epoch 5/25\n",
            "375/375 [==============================] - 4s 11ms/step - loss: 0.8512 - val_loss: 0.8503\n",
            "Epoch 6/25\n",
            "375/375 [==============================] - 4s 11ms/step - loss: 0.8508 - val_loss: 0.8503\n",
            "Epoch 7/25\n",
            "375/375 [==============================] - 4s 11ms/step - loss: 0.8510 - val_loss: 0.8503\n",
            "Epoch 8/25\n",
            "375/375 [==============================] - 4s 11ms/step - loss: 0.8509 - val_loss: 0.8503\n",
            "Epoch 9/25\n",
            "375/375 [==============================] - 4s 11ms/step - loss: 0.8507 - val_loss: 0.8503\n",
            "Epoch 10/25\n",
            "375/375 [==============================] - 4s 11ms/step - loss: 0.8505 - val_loss: 0.8503\n",
            "Epoch 11/25\n",
            "375/375 [==============================] - 4s 11ms/step - loss: 0.8505 - val_loss: 0.8503\n",
            "Epoch 12/25\n",
            "375/375 [==============================] - 4s 12ms/step - loss: 0.8513 - val_loss: 0.8503\n",
            "Epoch 13/25\n",
            "375/375 [==============================] - 4s 11ms/step - loss: 0.8509 - val_loss: 0.8503\n",
            "Epoch 14/25\n",
            "375/375 [==============================] - 4s 11ms/step - loss: 0.8512 - val_loss: 0.8503\n",
            "Epoch 15/25\n",
            "375/375 [==============================] - 4s 11ms/step - loss: 0.8512 - val_loss: 0.8503\n",
            "Epoch 16/25\n",
            "375/375 [==============================] - 4s 11ms/step - loss: 0.8512 - val_loss: 0.8503\n",
            "Epoch 17/25\n",
            "375/375 [==============================] - 4s 11ms/step - loss: 0.8511 - val_loss: 0.8503\n",
            "Epoch 18/25\n",
            "375/375 [==============================] - 4s 11ms/step - loss: 0.8507 - val_loss: 0.8503\n",
            "Epoch 19/25\n",
            "375/375 [==============================] - 4s 11ms/step - loss: 0.8507 - val_loss: 0.8503\n",
            "Epoch 20/25\n",
            "375/375 [==============================] - 4s 11ms/step - loss: 0.8510 - val_loss: 0.8503\n",
            "Epoch 21/25\n",
            "375/375 [==============================] - 4s 11ms/step - loss: 0.8507 - val_loss: 0.8503\n",
            "Epoch 22/25\n",
            "375/375 [==============================] - 4s 11ms/step - loss: 0.8506 - val_loss: 0.8503\n",
            "Epoch 23/25\n",
            "375/375 [==============================] - 4s 11ms/step - loss: 0.8512 - val_loss: 0.8503\n",
            "Epoch 24/25\n",
            "375/375 [==============================] - 4s 11ms/step - loss: 0.8513 - val_loss: 0.8503\n",
            "Epoch 25/25\n",
            "375/375 [==============================] - 4s 11ms/step - loss: 0.8510 - val_loss: 0.8503\n"
          ],
          "name": "stdout"
        }
      ]
    },
    {
      "cell_type": "code",
      "metadata": {
        "id": "Hx-p74w0nnhi"
      },
      "source": [
        "# define an encoder model (without the decoder)\n",
        "encoder = Model(inputs=input_img, outputs=bottleneck)"
      ],
      "execution_count": 21,
      "outputs": []
    },
    {
      "cell_type": "code",
      "metadata": {
        "id": "ybsYl838jOFM"
      },
      "source": [
        "# encode the train data\n",
        "X_train_encode = encoder.predict(train_X)"
      ],
      "execution_count": 22,
      "outputs": []
    },
    {
      "cell_type": "code",
      "metadata": {
        "colab": {
          "base_uri": "https://localhost:8080/"
        },
        "id": "5q4Y14fpjUfq",
        "outputId": "a902d2f6-dc1b-4b85-88ce-4a92398713d5"
      },
      "source": [
        "print(X_train_encode.shape)\n",
        "print(len(X_train_encode[0]))\n",
        "print(X_train_encode[10])"
      ],
      "execution_count": 36,
      "outputs": [
        {
          "output_type": "stream",
          "text": [
            "(48000, 3, 3, 1)\n",
            "3\n",
            "[[[-0.5528191 ]\n",
            "  [-0.5530171 ]\n",
            "  [-0.5523901 ]]\n",
            "\n",
            " [[-0.55233043]\n",
            "  [-0.5514923 ]\n",
            "  [-0.5520641 ]]\n",
            "\n",
            " [[-0.5519095 ]\n",
            "  [-0.5524341 ]\n",
            "  [-0.552415  ]]]\n"
          ],
          "name": "stdout"
        }
      ]
    },
    {
      "cell_type": "code",
      "metadata": {
        "colab": {
          "base_uri": "https://localhost:8080/"
        },
        "id": "h3HN2fwHjYMM",
        "outputId": "e4f2121a-c2c0-4f50-c903-7cccf435b480"
      },
      "source": [
        "print(len(train_X[10]))\n",
        "print(train_X.shape)"
      ],
      "execution_count": 27,
      "outputs": [
        {
          "output_type": "stream",
          "text": [
            "28\n",
            "(48000, 28, 28, 1)\n"
          ],
          "name": "stdout"
        }
      ]
    },
    {
      "cell_type": "markdown",
      "metadata": {
        "id": "xxNPngYtkUv1"
      },
      "source": [
        "Na filaksoume tis nees eikones se file gia na tis diavasoume meso tis c++"
      ]
    },
    {
      "cell_type": "code",
      "metadata": {
        "colab": {
          "base_uri": "https://localhost:8080/"
        },
        "id": "-r2GSl_k7sh2",
        "outputId": "7daf9713-801e-43de-8757-0febf767bfc4"
      },
      "source": [
        "\n",
        "def saveNewImages(compressedImgs):\n",
        "  f = open(\"compressedImgs\",\"w\")\n",
        "  #The first line will contain the number of images\n",
        "  f.write(str(len(compressedImgs)) + \"\\n\")\n",
        "  #The second line will contain the number of rows\n",
        "  f.write(str(len(compressedImgs[0])) + \"\\n\")\n",
        "  #The third line will contain the number of columns\n",
        "  f.write(str(len(compressedImgs[0][0])) + \"\\n\")\n",
        "  #For the rest of the file each line contains the pixels of an image\n",
        "  #seperated by spaces\n",
        "  for image in compressedImgs:\n",
        "    for row in image:\n",
        "      for pixel in row:\n",
        "        strPixel = str(pixel)\n",
        "        strPixel = strPixel.strip('[')\n",
        "        strPixel = strPixel.strip(']')\n",
        "        f.write(strPixel + \" \")\n",
        "    f.write(\"\\n\")\n",
        "  f.close()\n",
        "\n",
        "saveNewImages(X_train_encode)"
      ],
      "execution_count": 39,
      "outputs": [
        {
          "output_type": "stream",
          "text": [
            "[-0.5528191]\n",
            "[-0.5530171]\n",
            "[-0.5523901]\n",
            "[-0.55233043]\n",
            "[-0.5514923]\n",
            "[-0.5520641]\n",
            "[-0.5519095]\n",
            "[-0.5524341]\n",
            "[-0.552415]\n"
          ],
          "name": "stdout"
        }
      ]
    }
  ]
}