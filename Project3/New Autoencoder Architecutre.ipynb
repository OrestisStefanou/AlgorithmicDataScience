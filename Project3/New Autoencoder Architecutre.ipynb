{
 "cells": [
  {
   "cell_type": "code",
   "execution_count": 1,
   "metadata": {
    "colab": {
     "base_uri": "https://localhost:8080/"
    },
    "id": "7XMhec7aVCrG",
    "outputId": "619f30ca-7b1d-442a-b404-e29985d191b1"
   },
   "outputs": [],
   "source": [
    "import keras\n",
    "from matplotlib import pyplot as plt\n",
    "import numpy as np\n",
    "import gzip\n",
    "%matplotlib inline\n",
    "from keras.models import Model\n",
    "from keras.optimizers import RMSprop\n",
    "from keras.layers import Input,Dense,Flatten,Dropout,merge,Reshape,Conv2D,MaxPooling2D,UpSampling2D,Conv2DTranspose\n",
    "from keras.layers.normalization import BatchNormalization\n",
    "from keras.models import Model,Sequential\n",
    "from keras.callbacks import ModelCheckpoint\n",
    "from keras.optimizers import Adadelta, RMSprop,SGD,Adam\n",
    "from keras import regularizers\n",
    "from keras import backend as K\n",
    "from keras.utils import to_categorical\n",
    "import struct as st\n"
   ]
  },
  {
   "cell_type": "code",
   "execution_count": 2,
   "metadata": {
    "id": "JlOHefKYV6mq"
   },
   "outputs": [],
   "source": [
    "def read_data(filename):\n",
    "    file = gzip.open(filename,'rb')\n",
    "    file.seek(0)\n",
    "    magic_number = st.unpack('>4B',file.read(4)) # read magic number\n",
    "    number_of_images = st.unpack('>I',file.read(4))[0] # read number of images\n",
    "    number_of_rows = st.unpack('>I',file.read(4))[0] #read number of rows\n",
    "    number_of_columns = st.unpack('>I',file.read(4))[0] #read number of column\n",
    "    with gzip.open(filename) as file_stream:\n",
    "        file_stream.read(16)\n",
    "        buf = file_stream.read(number_of_rows * number_of_columns * number_of_images)\n",
    "        data = np.frombuffer(buf, dtype=np.uint8).astype(np.float32)\n",
    "        data = data.reshape(number_of_images, number_of_rows,number_of_columns)\n",
    "        return data"
   ]
  },
  {
   "cell_type": "code",
   "execution_count": 3,
   "metadata": {
    "id": "vo_tZY7CV9I2"
   },
   "outputs": [],
   "source": [
    "train_data = read_data('/home/leonidas/Dropbox/Πληροφορική και Τηλεποικινωνίες ΕΚΠΑ/Ανάπτυξη Λογισμικού για Αλγοριθμικά Προβλήματα/AlgorithmicDataScience/Project3/train-images-idx3-ubyte.gz')\n",
    "test_data = read_data('/home/leonidas/Dropbox/Πληροφορική και Τηλεποικινωνίες ΕΚΠΑ/Ανάπτυξη Λογισμικού για Αλγοριθμικά Προβλήματα/AlgorithmicDataScience/Project3/t10k-images-idx3-ubyte.gz')"
   ]
  },
  {
   "cell_type": "code",
   "execution_count": 4,
   "metadata": {
    "id": "KNNj-GLKWAPS"
   },
   "outputs": [],
   "source": [
    "def read_labels(filename):\n",
    "    file = gzip.open(filename,'rb')\n",
    "    file.seek(0)\n",
    "    magic_number = st.unpack('>4B',file.read(4)) # read magic number\n",
    "    number_of_iteams = st.unpack('>I',file.read(4))[0] # read number of images\n",
    "    with gzip.open(filename) as file_stream:\n",
    "        file_stream.read(8)\n",
    "        buf = file_stream.read(number_of_iteams)\n",
    "        labels = np.frombuffer(buf, dtype=np.uint8).astype(np.int64)\n",
    "        return labels"
   ]
  },
  {
   "cell_type": "code",
   "execution_count": 5,
   "metadata": {
    "id": "C6NIQSXoWC8U"
   },
   "outputs": [],
   "source": [
    "train_labels = read_labels('/home/leonidas/Dropbox/Πληροφορική και Τηλεποικινωνίες ΕΚΠΑ/Ανάπτυξη Λογισμικού για Αλγοριθμικά Προβλήματα/AlgorithmicDataScience/Project3/train-labels-idx1-ubyte.gz')\n",
    "test_labels = read_labels('/home/leonidas/Dropbox/Πληροφορική και Τηλεποικινωνίες ΕΚΠΑ/Ανάπτυξη Λογισμικού για Αλγοριθμικά Προβλήματα/AlgorithmicDataScience/Project3/t10k-labels-idx1-ubyte.gz')"
   ]
  },
  {
   "cell_type": "code",
   "execution_count": 6,
   "metadata": {
    "id": "F61oe_qagSol"
   },
   "outputs": [],
   "source": [
    "# Create dictionary of target classes\n",
    "label_dict = {\n",
    " 0: '0',\n",
    " 1: '1',\n",
    " 2: '2',\n",
    " 3: '3',\n",
    " 4: '4',\n",
    " 5: '5',\n",
    " 6: '6',\n",
    " 7: '7',\n",
    " 8: '8',\n",
    " 9: '9',\n",
    "}"
   ]
  },
  {
   "cell_type": "code",
   "execution_count": 7,
   "metadata": {
    "colab": {
     "base_uri": "https://localhost:8080/"
    },
    "id": "sgKN3Nb_gWHG",
    "outputId": "6920a6da-02ac-42b6-963b-1bc7465d26e1"
   },
   "outputs": [
    {
     "data": {
      "text/plain": [
       "((60000, 28, 28, 1), (10000, 28, 28, 1))"
      ]
     },
     "execution_count": 7,
     "metadata": {},
     "output_type": "execute_result"
    }
   ],
   "source": [
    "train_data = train_data.reshape(-1, 28,28, 1)\n",
    "test_data = test_data.reshape(-1, 28,28, 1)\n",
    "train_data.shape, test_data.shape"
   ]
  },
  {
   "cell_type": "code",
   "execution_count": 8,
   "metadata": {
    "id": "AdtTiViwgZVq"
   },
   "outputs": [],
   "source": [
    "train_data = train_data / np.max(train_data)\n",
    "test_data = test_data / np.max(test_data)"
   ]
  },
  {
   "cell_type": "code",
   "execution_count": 9,
   "metadata": {
    "id": "ihw7P9wdgcsh"
   },
   "outputs": [],
   "source": [
    "from sklearn.model_selection import train_test_split\n",
    "train_X,valid_X,train_ground,valid_ground = train_test_split(train_data,\n",
    "                                                             train_data,\n",
    "                                                             test_size=0.2,\n",
    "                                                             random_state=13)"
   ]
  },
  {
   "cell_type": "code",
   "execution_count": 10,
   "metadata": {
    "id": "F-z-mIq7ggB1"
   },
   "outputs": [],
   "source": [
    "batch_size = 128\n",
    "epochs = 25\n",
    "inChannel = 1\n",
    "x, y = 28, 28\n",
    "input_img = Input(shape = (x, y, inChannel))\n",
    "num_classes = 10\n",
    "n_inputs = train_data.shape[1]"
   ]
  },
  {
   "cell_type": "code",
   "execution_count": 11,
   "metadata": {
    "id": "3M0CND16gihF"
   },
   "outputs": [],
   "source": [
    "\n",
    "\n",
    "#encoder\n",
    "conv1 = Conv2D(32, (15, 15), activation='softmax', padding='valid')(input_img) #28 x 28 x 32\n",
    "conv2 = Conv2D(64, (8, 8), activation='softmax', padding='valid')(conv1) #14 x 14 x 64\n",
    "conv3 = Conv2D(128, (5, 5), activation='softmax', padding='valid')(conv2) #14 x 14 x 64\n",
    "\n",
    "\n",
    "flatten = Flatten()(conv3)\n",
    "encoded = Dense(int(10), activation='relu')(flatten)\n",
    "decoded = Dense(units = 3*3*128, activation='sigmoid')(encoded)\n",
    "reshape = Reshape(target_shape = (3,3,128))(decoded)\n",
    "\n",
    "\n",
    "#decoder\n",
    "conv4 = Conv2DTranspose(64, (5, 5), activation='softmax', padding='valid')(reshape)\n",
    "conv5 = Conv2DTranspose(32, (8, 8), activation='softmax', padding='valid')(conv4)\n",
    "conv6 = Conv2DTranspose(1, (15, 15), activation='softmax', padding='valid')(conv5)\n",
    "\n",
    "\n",
    "decoded = conv6"
   ]
  },
  {
   "cell_type": "code",
   "execution_count": 12,
   "metadata": {
    "id": "zlYIxF0vh0Fl"
   },
   "outputs": [],
   "source": [
    "autoencoder = Model(input_img, decoded)\n",
    "autoencoder.compile(loss='mean_squared_error', optimizer = RMSprop())"
   ]
  },
  {
   "cell_type": "code",
   "execution_count": null,
   "metadata": {
    "id": "X-n2bZS86_LB"
   },
   "outputs": [],
   "source": []
  },
  {
   "cell_type": "code",
   "execution_count": 13,
   "metadata": {
    "colab": {
     "base_uri": "https://localhost:8080/",
     "height": 1000
    },
    "id": "3IOualMXitaB",
    "outputId": "b24e8a56-7fec-47dc-be98-d62f28bdb9b1"
   },
   "outputs": [
    {
     "name": "stdout",
     "output_type": "stream",
     "text": [
      "Model: \"model\"\n",
      "_________________________________________________________________\n",
      "Layer (type)                 Output Shape              Param #   \n",
      "=================================================================\n",
      "input_1 (InputLayer)         [(None, 28, 28, 1)]       0         \n",
      "_________________________________________________________________\n",
      "conv2d (Conv2D)              (None, 14, 14, 32)        7232      \n",
      "_________________________________________________________________\n",
      "conv2d_1 (Conv2D)            (None, 7, 7, 64)          131136    \n",
      "_________________________________________________________________\n",
      "conv2d_2 (Conv2D)            (None, 3, 3, 128)         204928    \n",
      "_________________________________________________________________\n",
      "flatten (Flatten)            (None, 1152)              0         \n",
      "_________________________________________________________________\n",
      "dense (Dense)                (None, 10)                11530     \n",
      "_________________________________________________________________\n",
      "dense_1 (Dense)              (None, 1152)              12672     \n",
      "_________________________________________________________________\n",
      "reshape (Reshape)            (None, 3, 3, 128)         0         \n",
      "_________________________________________________________________\n",
      "conv2d_transpose (Conv2DTran (None, 7, 7, 64)          204864    \n",
      "_________________________________________________________________\n",
      "conv2d_transpose_1 (Conv2DTr (None, 14, 14, 32)        131104    \n",
      "_________________________________________________________________\n",
      "conv2d_transpose_2 (Conv2DTr (None, 28, 28, 1)         7201      \n",
      "=================================================================\n",
      "Total params: 710,667\n",
      "Trainable params: 710,667\n",
      "Non-trainable params: 0\n",
      "_________________________________________________________________\n"
     ]
    },
    {
     "data": {
      "image/svg+xml": [
       "<svg xmlns=\"http://www.w3.org/2000/svg\" xmlns:xlink=\"http://www.w3.org/1999/xlink\" width=\"443pt\" height=\"799pt\" viewBox=\"0.00 0.00 491.00 885.00\">\n",
       "<g id=\"graph0\" class=\"graph\" transform=\"scale(0.902778 0.902778) rotate(0) translate(4 881)\">\n",
       "<title>G</title>\n",
       "<polygon fill=\"white\" stroke=\"none\" points=\"-4,4 -4,-881 487,-881 487,4 -4,4\"/>\n",
       "<!-- 140203968537072 -->\n",
       "<g id=\"node1\" class=\"node\"><title>140203968537072</title>\n",
       "<polygon fill=\"none\" stroke=\"black\" points=\"70,-830.5 70,-876.5 413,-876.5 413,-830.5 70,-830.5\"/>\n",
       "<text text-anchor=\"middle\" x=\"149\" y=\"-849.8\" font-family=\"Times,serif\" font-size=\"14.00\">input_1: InputLayer</text>\n",
       "<polyline fill=\"none\" stroke=\"black\" points=\"228,-830.5 228,-876.5 \"/>\n",
       "<text text-anchor=\"middle\" x=\"262\" y=\"-861.3\" font-family=\"Times,serif\" font-size=\"14.00\">input:</text>\n",
       "<polyline fill=\"none\" stroke=\"black\" points=\"228,-853.5 296,-853.5 \"/>\n",
       "<text text-anchor=\"middle\" x=\"262\" y=\"-838.3\" font-family=\"Times,serif\" font-size=\"14.00\">output:</text>\n",
       "<polyline fill=\"none\" stroke=\"black\" points=\"296,-830.5 296,-876.5 \"/>\n",
       "<text text-anchor=\"middle\" x=\"354.5\" y=\"-861.3\" font-family=\"Times,serif\" font-size=\"14.00\">[(?, 28, 28, 1)]</text>\n",
       "<polyline fill=\"none\" stroke=\"black\" points=\"296,-853.5 413,-853.5 \"/>\n",
       "<text text-anchor=\"middle\" x=\"354.5\" y=\"-838.3\" font-family=\"Times,serif\" font-size=\"14.00\">[(?, 28, 28, 1)]</text>\n",
       "</g>\n",
       "<!-- 140203959949440 -->\n",
       "<g id=\"node2\" class=\"node\"><title>140203959949440</title>\n",
       "<polygon fill=\"none\" stroke=\"black\" points=\"83,-747.5 83,-793.5 400,-793.5 400,-747.5 83,-747.5\"/>\n",
       "<text text-anchor=\"middle\" x=\"149.5\" y=\"-766.8\" font-family=\"Times,serif\" font-size=\"14.00\">conv2d: Conv2D</text>\n",
       "<polyline fill=\"none\" stroke=\"black\" points=\"216,-747.5 216,-793.5 \"/>\n",
       "<text text-anchor=\"middle\" x=\"250\" y=\"-778.3\" font-family=\"Times,serif\" font-size=\"14.00\">input:</text>\n",
       "<polyline fill=\"none\" stroke=\"black\" points=\"216,-770.5 284,-770.5 \"/>\n",
       "<text text-anchor=\"middle\" x=\"250\" y=\"-755.3\" font-family=\"Times,serif\" font-size=\"14.00\">output:</text>\n",
       "<polyline fill=\"none\" stroke=\"black\" points=\"284,-747.5 284,-793.5 \"/>\n",
       "<text text-anchor=\"middle\" x=\"342\" y=\"-778.3\" font-family=\"Times,serif\" font-size=\"14.00\">(?, 28, 28, 1)</text>\n",
       "<polyline fill=\"none\" stroke=\"black\" points=\"284,-770.5 400,-770.5 \"/>\n",
       "<text text-anchor=\"middle\" x=\"342\" y=\"-755.3\" font-family=\"Times,serif\" font-size=\"14.00\">(?, 14, 14, 32)</text>\n",
       "</g>\n",
       "<!-- 140203968537072&#45;&gt;140203959949440 -->\n",
       "<g id=\"edge1\" class=\"edge\"><title>140203968537072-&gt;140203959949440</title>\n",
       "<path fill=\"none\" stroke=\"black\" d=\"M241.5,-830.366C241.5,-822.152 241.5,-812.658 241.5,-803.725\"/>\n",
       "<polygon fill=\"black\" stroke=\"black\" points=\"245,-803.607 241.5,-793.607 238,-803.607 245,-803.607\"/>\n",
       "</g>\n",
       "<!-- 140203959951024 -->\n",
       "<g id=\"node3\" class=\"node\"><title>140203959951024</title>\n",
       "<polygon fill=\"none\" stroke=\"black\" points=\"75,-664.5 75,-710.5 408,-710.5 408,-664.5 75,-664.5\"/>\n",
       "<text text-anchor=\"middle\" x=\"149.5\" y=\"-683.8\" font-family=\"Times,serif\" font-size=\"14.00\">conv2d_1: Conv2D</text>\n",
       "<polyline fill=\"none\" stroke=\"black\" points=\"224,-664.5 224,-710.5 \"/>\n",
       "<text text-anchor=\"middle\" x=\"258\" y=\"-695.3\" font-family=\"Times,serif\" font-size=\"14.00\">input:</text>\n",
       "<polyline fill=\"none\" stroke=\"black\" points=\"224,-687.5 292,-687.5 \"/>\n",
       "<text text-anchor=\"middle\" x=\"258\" y=\"-672.3\" font-family=\"Times,serif\" font-size=\"14.00\">output:</text>\n",
       "<polyline fill=\"none\" stroke=\"black\" points=\"292,-664.5 292,-710.5 \"/>\n",
       "<text text-anchor=\"middle\" x=\"350\" y=\"-695.3\" font-family=\"Times,serif\" font-size=\"14.00\">(?, 14, 14, 32)</text>\n",
       "<polyline fill=\"none\" stroke=\"black\" points=\"292,-687.5 408,-687.5 \"/>\n",
       "<text text-anchor=\"middle\" x=\"350\" y=\"-672.3\" font-family=\"Times,serif\" font-size=\"14.00\">(?, 7, 7, 64)</text>\n",
       "</g>\n",
       "<!-- 140203959949440&#45;&gt;140203959951024 -->\n",
       "<g id=\"edge2\" class=\"edge\"><title>140203959949440-&gt;140203959951024</title>\n",
       "<path fill=\"none\" stroke=\"black\" d=\"M241.5,-747.366C241.5,-739.152 241.5,-729.658 241.5,-720.725\"/>\n",
       "<polygon fill=\"black\" stroke=\"black\" points=\"245,-720.607 241.5,-710.607 238,-720.607 245,-720.607\"/>\n",
       "</g>\n",
       "<!-- 140203959951216 -->\n",
       "<g id=\"node4\" class=\"node\"><title>140203959951216</title>\n",
       "<polygon fill=\"none\" stroke=\"black\" points=\"79.5,-581.5 79.5,-627.5 403.5,-627.5 403.5,-581.5 79.5,-581.5\"/>\n",
       "<text text-anchor=\"middle\" x=\"154\" y=\"-600.8\" font-family=\"Times,serif\" font-size=\"14.00\">conv2d_2: Conv2D</text>\n",
       "<polyline fill=\"none\" stroke=\"black\" points=\"228.5,-581.5 228.5,-627.5 \"/>\n",
       "<text text-anchor=\"middle\" x=\"262.5\" y=\"-612.3\" font-family=\"Times,serif\" font-size=\"14.00\">input:</text>\n",
       "<polyline fill=\"none\" stroke=\"black\" points=\"228.5,-604.5 296.5,-604.5 \"/>\n",
       "<text text-anchor=\"middle\" x=\"262.5\" y=\"-589.3\" font-family=\"Times,serif\" font-size=\"14.00\">output:</text>\n",
       "<polyline fill=\"none\" stroke=\"black\" points=\"296.5,-581.5 296.5,-627.5 \"/>\n",
       "<text text-anchor=\"middle\" x=\"350\" y=\"-612.3\" font-family=\"Times,serif\" font-size=\"14.00\">(?, 7, 7, 64)</text>\n",
       "<polyline fill=\"none\" stroke=\"black\" points=\"296.5,-604.5 403.5,-604.5 \"/>\n",
       "<text text-anchor=\"middle\" x=\"350\" y=\"-589.3\" font-family=\"Times,serif\" font-size=\"14.00\">(?, 3, 3, 128)</text>\n",
       "</g>\n",
       "<!-- 140203959951024&#45;&gt;140203959951216 -->\n",
       "<g id=\"edge3\" class=\"edge\"><title>140203959951024-&gt;140203959951216</title>\n",
       "<path fill=\"none\" stroke=\"black\" d=\"M241.5,-664.366C241.5,-656.152 241.5,-646.658 241.5,-637.725\"/>\n",
       "<polygon fill=\"black\" stroke=\"black\" points=\"245,-637.607 241.5,-627.607 238,-637.607 245,-637.607\"/>\n",
       "</g>\n",
       "<!-- 140203959949200 -->\n",
       "<g id=\"node5\" class=\"node\"><title>140203959949200</title>\n",
       "<polygon fill=\"none\" stroke=\"black\" points=\"92,-498.5 92,-544.5 391,-544.5 391,-498.5 92,-498.5\"/>\n",
       "<text text-anchor=\"middle\" x=\"154\" y=\"-517.8\" font-family=\"Times,serif\" font-size=\"14.00\">flatten: Flatten</text>\n",
       "<polyline fill=\"none\" stroke=\"black\" points=\"216,-498.5 216,-544.5 \"/>\n",
       "<text text-anchor=\"middle\" x=\"250\" y=\"-529.3\" font-family=\"Times,serif\" font-size=\"14.00\">input:</text>\n",
       "<polyline fill=\"none\" stroke=\"black\" points=\"216,-521.5 284,-521.5 \"/>\n",
       "<text text-anchor=\"middle\" x=\"250\" y=\"-506.3\" font-family=\"Times,serif\" font-size=\"14.00\">output:</text>\n",
       "<polyline fill=\"none\" stroke=\"black\" points=\"284,-498.5 284,-544.5 \"/>\n",
       "<text text-anchor=\"middle\" x=\"337.5\" y=\"-529.3\" font-family=\"Times,serif\" font-size=\"14.00\">(?, 3, 3, 128)</text>\n",
       "<polyline fill=\"none\" stroke=\"black\" points=\"284,-521.5 391,-521.5 \"/>\n",
       "<text text-anchor=\"middle\" x=\"337.5\" y=\"-506.3\" font-family=\"Times,serif\" font-size=\"14.00\">(?, 1152)</text>\n",
       "</g>\n",
       "<!-- 140203959951216&#45;&gt;140203959949200 -->\n",
       "<g id=\"edge4\" class=\"edge\"><title>140203959951216-&gt;140203959949200</title>\n",
       "<path fill=\"none\" stroke=\"black\" d=\"M241.5,-581.366C241.5,-573.152 241.5,-563.658 241.5,-554.725\"/>\n",
       "<polygon fill=\"black\" stroke=\"black\" points=\"245,-554.607 241.5,-544.607 238,-554.607 245,-554.607\"/>\n",
       "</g>\n",
       "<!-- 140205725643728 -->\n",
       "<g id=\"node6\" class=\"node\"><title>140205725643728</title>\n",
       "<polygon fill=\"none\" stroke=\"black\" points=\"111.5,-415.5 111.5,-461.5 371.5,-461.5 371.5,-415.5 111.5,-415.5\"/>\n",
       "<text text-anchor=\"middle\" x=\"167.5\" y=\"-434.8\" font-family=\"Times,serif\" font-size=\"14.00\">dense: Dense</text>\n",
       "<polyline fill=\"none\" stroke=\"black\" points=\"223.5,-415.5 223.5,-461.5 \"/>\n",
       "<text text-anchor=\"middle\" x=\"257.5\" y=\"-446.3\" font-family=\"Times,serif\" font-size=\"14.00\">input:</text>\n",
       "<polyline fill=\"none\" stroke=\"black\" points=\"223.5,-438.5 291.5,-438.5 \"/>\n",
       "<text text-anchor=\"middle\" x=\"257.5\" y=\"-423.3\" font-family=\"Times,serif\" font-size=\"14.00\">output:</text>\n",
       "<polyline fill=\"none\" stroke=\"black\" points=\"291.5,-415.5 291.5,-461.5 \"/>\n",
       "<text text-anchor=\"middle\" x=\"331.5\" y=\"-446.3\" font-family=\"Times,serif\" font-size=\"14.00\">(?, 1152)</text>\n",
       "<polyline fill=\"none\" stroke=\"black\" points=\"291.5,-438.5 371.5,-438.5 \"/>\n",
       "<text text-anchor=\"middle\" x=\"331.5\" y=\"-423.3\" font-family=\"Times,serif\" font-size=\"14.00\">(?, 10)</text>\n",
       "</g>\n",
       "<!-- 140203959949200&#45;&gt;140205725643728 -->\n",
       "<g id=\"edge5\" class=\"edge\"><title>140203959949200-&gt;140205725643728</title>\n",
       "<path fill=\"none\" stroke=\"black\" d=\"M241.5,-498.366C241.5,-490.152 241.5,-480.658 241.5,-471.725\"/>\n",
       "<polygon fill=\"black\" stroke=\"black\" points=\"245,-471.607 241.5,-461.607 238,-471.607 245,-471.607\"/>\n",
       "</g>\n",
       "<!-- 140203959684640 -->\n",
       "<g id=\"node7\" class=\"node\"><title>140203959684640</title>\n",
       "<polygon fill=\"none\" stroke=\"black\" points=\"103.5,-332.5 103.5,-378.5 379.5,-378.5 379.5,-332.5 103.5,-332.5\"/>\n",
       "<text text-anchor=\"middle\" x=\"167.5\" y=\"-351.8\" font-family=\"Times,serif\" font-size=\"14.00\">dense_1: Dense</text>\n",
       "<polyline fill=\"none\" stroke=\"black\" points=\"231.5,-332.5 231.5,-378.5 \"/>\n",
       "<text text-anchor=\"middle\" x=\"265.5\" y=\"-363.3\" font-family=\"Times,serif\" font-size=\"14.00\">input:</text>\n",
       "<polyline fill=\"none\" stroke=\"black\" points=\"231.5,-355.5 299.5,-355.5 \"/>\n",
       "<text text-anchor=\"middle\" x=\"265.5\" y=\"-340.3\" font-family=\"Times,serif\" font-size=\"14.00\">output:</text>\n",
       "<polyline fill=\"none\" stroke=\"black\" points=\"299.5,-332.5 299.5,-378.5 \"/>\n",
       "<text text-anchor=\"middle\" x=\"339.5\" y=\"-363.3\" font-family=\"Times,serif\" font-size=\"14.00\">(?, 10)</text>\n",
       "<polyline fill=\"none\" stroke=\"black\" points=\"299.5,-355.5 379.5,-355.5 \"/>\n",
       "<text text-anchor=\"middle\" x=\"339.5\" y=\"-340.3\" font-family=\"Times,serif\" font-size=\"14.00\">(?, 1152)</text>\n",
       "</g>\n",
       "<!-- 140205725643728&#45;&gt;140203959684640 -->\n",
       "<g id=\"edge6\" class=\"edge\"><title>140205725643728-&gt;140203959684640</title>\n",
       "<path fill=\"none\" stroke=\"black\" d=\"M241.5,-415.366C241.5,-407.152 241.5,-397.658 241.5,-388.725\"/>\n",
       "<polygon fill=\"black\" stroke=\"black\" points=\"245,-388.607 241.5,-378.607 238,-388.607 245,-388.607\"/>\n",
       "</g>\n",
       "<!-- 140203760696624 -->\n",
       "<g id=\"node8\" class=\"node\"><title>140203760696624</title>\n",
       "<polygon fill=\"none\" stroke=\"black\" points=\"82.5,-249.5 82.5,-295.5 400.5,-295.5 400.5,-249.5 82.5,-249.5\"/>\n",
       "<text text-anchor=\"middle\" x=\"154\" y=\"-268.8\" font-family=\"Times,serif\" font-size=\"14.00\">reshape: Reshape</text>\n",
       "<polyline fill=\"none\" stroke=\"black\" points=\"225.5,-249.5 225.5,-295.5 \"/>\n",
       "<text text-anchor=\"middle\" x=\"259.5\" y=\"-280.3\" font-family=\"Times,serif\" font-size=\"14.00\">input:</text>\n",
       "<polyline fill=\"none\" stroke=\"black\" points=\"225.5,-272.5 293.5,-272.5 \"/>\n",
       "<text text-anchor=\"middle\" x=\"259.5\" y=\"-257.3\" font-family=\"Times,serif\" font-size=\"14.00\">output:</text>\n",
       "<polyline fill=\"none\" stroke=\"black\" points=\"293.5,-249.5 293.5,-295.5 \"/>\n",
       "<text text-anchor=\"middle\" x=\"347\" y=\"-280.3\" font-family=\"Times,serif\" font-size=\"14.00\">(?, 1152)</text>\n",
       "<polyline fill=\"none\" stroke=\"black\" points=\"293.5,-272.5 400.5,-272.5 \"/>\n",
       "<text text-anchor=\"middle\" x=\"347\" y=\"-257.3\" font-family=\"Times,serif\" font-size=\"14.00\">(?, 3, 3, 128)</text>\n",
       "</g>\n",
       "<!-- 140203959684640&#45;&gt;140203760696624 -->\n",
       "<g id=\"edge7\" class=\"edge\"><title>140203959684640-&gt;140203760696624</title>\n",
       "<path fill=\"none\" stroke=\"black\" d=\"M241.5,-332.366C241.5,-324.152 241.5,-314.658 241.5,-305.725\"/>\n",
       "<polygon fill=\"black\" stroke=\"black\" points=\"245,-305.607 241.5,-295.607 238,-305.607 245,-305.607\"/>\n",
       "</g>\n",
       "<!-- 140203760695952 -->\n",
       "<g id=\"node9\" class=\"node\"><title>140203760695952</title>\n",
       "<polygon fill=\"none\" stroke=\"black\" points=\"12,-166.5 12,-212.5 471,-212.5 471,-166.5 12,-166.5\"/>\n",
       "<text text-anchor=\"middle\" x=\"154\" y=\"-185.8\" font-family=\"Times,serif\" font-size=\"14.00\">conv2d_transpose: Conv2DTranspose</text>\n",
       "<polyline fill=\"none\" stroke=\"black\" points=\"296,-166.5 296,-212.5 \"/>\n",
       "<text text-anchor=\"middle\" x=\"330\" y=\"-197.3\" font-family=\"Times,serif\" font-size=\"14.00\">input:</text>\n",
       "<polyline fill=\"none\" stroke=\"black\" points=\"296,-189.5 364,-189.5 \"/>\n",
       "<text text-anchor=\"middle\" x=\"330\" y=\"-174.3\" font-family=\"Times,serif\" font-size=\"14.00\">output:</text>\n",
       "<polyline fill=\"none\" stroke=\"black\" points=\"364,-166.5 364,-212.5 \"/>\n",
       "<text text-anchor=\"middle\" x=\"417.5\" y=\"-197.3\" font-family=\"Times,serif\" font-size=\"14.00\">(?, 3, 3, 128)</text>\n",
       "<polyline fill=\"none\" stroke=\"black\" points=\"364,-189.5 471,-189.5 \"/>\n",
       "<text text-anchor=\"middle\" x=\"417.5\" y=\"-174.3\" font-family=\"Times,serif\" font-size=\"14.00\">(?, 7, 7, 64)</text>\n",
       "</g>\n",
       "<!-- 140203760696624&#45;&gt;140203760695952 -->\n",
       "<g id=\"edge8\" class=\"edge\"><title>140203760696624-&gt;140203760695952</title>\n",
       "<path fill=\"none\" stroke=\"black\" d=\"M241.5,-249.366C241.5,-241.152 241.5,-231.658 241.5,-222.725\"/>\n",
       "<polygon fill=\"black\" stroke=\"black\" points=\"245,-222.607 241.5,-212.607 238,-222.607 245,-222.607\"/>\n",
       "</g>\n",
       "<!-- 140203760799856 -->\n",
       "<g id=\"node10\" class=\"node\"><title>140203760799856</title>\n",
       "<polygon fill=\"none\" stroke=\"black\" points=\"0,-83.5 0,-129.5 483,-129.5 483,-83.5 0,-83.5\"/>\n",
       "<text text-anchor=\"middle\" x=\"149.5\" y=\"-102.8\" font-family=\"Times,serif\" font-size=\"14.00\">conv2d_transpose_1: Conv2DTranspose</text>\n",
       "<polyline fill=\"none\" stroke=\"black\" points=\"299,-83.5 299,-129.5 \"/>\n",
       "<text text-anchor=\"middle\" x=\"333\" y=\"-114.3\" font-family=\"Times,serif\" font-size=\"14.00\">input:</text>\n",
       "<polyline fill=\"none\" stroke=\"black\" points=\"299,-106.5 367,-106.5 \"/>\n",
       "<text text-anchor=\"middle\" x=\"333\" y=\"-91.3\" font-family=\"Times,serif\" font-size=\"14.00\">output:</text>\n",
       "<polyline fill=\"none\" stroke=\"black\" points=\"367,-83.5 367,-129.5 \"/>\n",
       "<text text-anchor=\"middle\" x=\"425\" y=\"-114.3\" font-family=\"Times,serif\" font-size=\"14.00\">(?, 7, 7, 64)</text>\n",
       "<polyline fill=\"none\" stroke=\"black\" points=\"367,-106.5 483,-106.5 \"/>\n",
       "<text text-anchor=\"middle\" x=\"425\" y=\"-91.3\" font-family=\"Times,serif\" font-size=\"14.00\">(?, 14, 14, 32)</text>\n",
       "</g>\n",
       "<!-- 140203760695952&#45;&gt;140203760799856 -->\n",
       "<g id=\"edge9\" class=\"edge\"><title>140203760695952-&gt;140203760799856</title>\n",
       "<path fill=\"none\" stroke=\"black\" d=\"M241.5,-166.366C241.5,-158.152 241.5,-148.658 241.5,-139.725\"/>\n",
       "<polygon fill=\"black\" stroke=\"black\" points=\"245,-139.607 241.5,-129.607 238,-139.607 245,-139.607\"/>\n",
       "</g>\n",
       "<!-- 140203760389520 -->\n",
       "<g id=\"node11\" class=\"node\"><title>140203760389520</title>\n",
       "<polygon fill=\"none\" stroke=\"black\" points=\"0,-0.5 0,-46.5 483,-46.5 483,-0.5 0,-0.5\"/>\n",
       "<text text-anchor=\"middle\" x=\"149.5\" y=\"-19.8\" font-family=\"Times,serif\" font-size=\"14.00\">conv2d_transpose_2: Conv2DTranspose</text>\n",
       "<polyline fill=\"none\" stroke=\"black\" points=\"299,-0.5 299,-46.5 \"/>\n",
       "<text text-anchor=\"middle\" x=\"333\" y=\"-31.3\" font-family=\"Times,serif\" font-size=\"14.00\">input:</text>\n",
       "<polyline fill=\"none\" stroke=\"black\" points=\"299,-23.5 367,-23.5 \"/>\n",
       "<text text-anchor=\"middle\" x=\"333\" y=\"-8.3\" font-family=\"Times,serif\" font-size=\"14.00\">output:</text>\n",
       "<polyline fill=\"none\" stroke=\"black\" points=\"367,-0.5 367,-46.5 \"/>\n",
       "<text text-anchor=\"middle\" x=\"425\" y=\"-31.3\" font-family=\"Times,serif\" font-size=\"14.00\">(?, 14, 14, 32)</text>\n",
       "<polyline fill=\"none\" stroke=\"black\" points=\"367,-23.5 483,-23.5 \"/>\n",
       "<text text-anchor=\"middle\" x=\"425\" y=\"-8.3\" font-family=\"Times,serif\" font-size=\"14.00\">(?, 28, 28, 1)</text>\n",
       "</g>\n",
       "<!-- 140203760799856&#45;&gt;140203760389520 -->\n",
       "<g id=\"edge10\" class=\"edge\"><title>140203760799856-&gt;140203760389520</title>\n",
       "<path fill=\"none\" stroke=\"black\" d=\"M241.5,-83.3664C241.5,-75.1516 241.5,-65.6579 241.5,-56.7252\"/>\n",
       "<polygon fill=\"black\" stroke=\"black\" points=\"245,-56.6068 241.5,-46.6068 238,-56.6069 245,-56.6068\"/>\n",
       "</g>\n",
       "</g>\n",
       "</svg>"
      ],
      "text/plain": [
       "<IPython.core.display.SVG object>"
      ]
     },
     "execution_count": 13,
     "metadata": {},
     "output_type": "execute_result"
    }
   ],
   "source": [
    "autoencoder.summary()\n",
    "\n",
    "from IPython.display import SVG\n",
    "from keras.utils.vis_utils import model_to_dot\n",
    "\n",
    "SVG(model_to_dot(autoencoder,show_shapes=True,dpi=65).create(prog='dot', format='svg'))"
   ]
  },
  {
   "cell_type": "code",
   "execution_count": 14,
   "metadata": {
    "id": "wHG5dAdGh33P"
   },
   "outputs": [
    {
     "name": "stdout",
     "output_type": "stream",
     "text": [
      "Epoch 1/25\n"
     ]
    },
    {
     "ename": "KeyboardInterrupt",
     "evalue": "",
     "output_type": "error",
     "traceback": [
      "\u001b[0;31m---------------------------------------------------------------------------\u001b[0m",
      "\u001b[0;31mKeyboardInterrupt\u001b[0m                         Traceback (most recent call last)",
      "\u001b[0;32m<ipython-input-14-a29505c4b436>\u001b[0m in \u001b[0;36m<module>\u001b[0;34m\u001b[0m\n\u001b[0;32m----> 1\u001b[0;31m \u001b[0mautoencoder_train\u001b[0m \u001b[0;34m=\u001b[0m \u001b[0mautoencoder\u001b[0m\u001b[0;34m.\u001b[0m\u001b[0mfit\u001b[0m\u001b[0;34m(\u001b[0m\u001b[0mtrain_X\u001b[0m\u001b[0;34m,\u001b[0m \u001b[0mtrain_ground\u001b[0m\u001b[0;34m,\u001b[0m \u001b[0mbatch_size\u001b[0m\u001b[0;34m=\u001b[0m\u001b[0mbatch_size\u001b[0m\u001b[0;34m,\u001b[0m\u001b[0mepochs\u001b[0m\u001b[0;34m=\u001b[0m\u001b[0mepochs\u001b[0m\u001b[0;34m,\u001b[0m\u001b[0mverbose\u001b[0m\u001b[0;34m=\u001b[0m\u001b[0;36m1\u001b[0m\u001b[0;34m,\u001b[0m\u001b[0mvalidation_data\u001b[0m\u001b[0;34m=\u001b[0m\u001b[0;34m(\u001b[0m\u001b[0mvalid_X\u001b[0m\u001b[0;34m,\u001b[0m \u001b[0mvalid_ground\u001b[0m\u001b[0;34m)\u001b[0m\u001b[0;34m)\u001b[0m\u001b[0;34m\u001b[0m\u001b[0;34m\u001b[0m\u001b[0m\n\u001b[0m",
      "\u001b[0;32m~/anaconda3/lib/python3.8/site-packages/tensorflow/python/keras/engine/training.py\u001b[0m in \u001b[0;36m_method_wrapper\u001b[0;34m(self, *args, **kwargs)\u001b[0m\n\u001b[1;32m     64\u001b[0m   \u001b[0;32mdef\u001b[0m \u001b[0m_method_wrapper\u001b[0m\u001b[0;34m(\u001b[0m\u001b[0mself\u001b[0m\u001b[0;34m,\u001b[0m \u001b[0;34m*\u001b[0m\u001b[0margs\u001b[0m\u001b[0;34m,\u001b[0m \u001b[0;34m**\u001b[0m\u001b[0mkwargs\u001b[0m\u001b[0;34m)\u001b[0m\u001b[0;34m:\u001b[0m\u001b[0;34m\u001b[0m\u001b[0;34m\u001b[0m\u001b[0m\n\u001b[1;32m     65\u001b[0m     \u001b[0;32mif\u001b[0m \u001b[0;32mnot\u001b[0m \u001b[0mself\u001b[0m\u001b[0;34m.\u001b[0m\u001b[0m_in_multi_worker_mode\u001b[0m\u001b[0;34m(\u001b[0m\u001b[0;34m)\u001b[0m\u001b[0;34m:\u001b[0m  \u001b[0;31m# pylint: disable=protected-access\u001b[0m\u001b[0;34m\u001b[0m\u001b[0;34m\u001b[0m\u001b[0m\n\u001b[0;32m---> 66\u001b[0;31m       \u001b[0;32mreturn\u001b[0m \u001b[0mmethod\u001b[0m\u001b[0;34m(\u001b[0m\u001b[0mself\u001b[0m\u001b[0;34m,\u001b[0m \u001b[0;34m*\u001b[0m\u001b[0margs\u001b[0m\u001b[0;34m,\u001b[0m \u001b[0;34m**\u001b[0m\u001b[0mkwargs\u001b[0m\u001b[0;34m)\u001b[0m\u001b[0;34m\u001b[0m\u001b[0;34m\u001b[0m\u001b[0m\n\u001b[0m\u001b[1;32m     67\u001b[0m \u001b[0;34m\u001b[0m\u001b[0m\n\u001b[1;32m     68\u001b[0m     \u001b[0;31m# Running inside `run_distribute_coordinator` already.\u001b[0m\u001b[0;34m\u001b[0m\u001b[0;34m\u001b[0m\u001b[0;34m\u001b[0m\u001b[0m\n",
      "\u001b[0;32m~/anaconda3/lib/python3.8/site-packages/tensorflow/python/keras/engine/training.py\u001b[0m in \u001b[0;36mfit\u001b[0;34m(self, x, y, batch_size, epochs, verbose, callbacks, validation_split, validation_data, shuffle, class_weight, sample_weight, initial_epoch, steps_per_epoch, validation_steps, validation_batch_size, validation_freq, max_queue_size, workers, use_multiprocessing)\u001b[0m\n\u001b[1;32m    846\u001b[0m                 batch_size=batch_size):\n\u001b[1;32m    847\u001b[0m               \u001b[0mcallbacks\u001b[0m\u001b[0;34m.\u001b[0m\u001b[0mon_train_batch_begin\u001b[0m\u001b[0;34m(\u001b[0m\u001b[0mstep\u001b[0m\u001b[0;34m)\u001b[0m\u001b[0;34m\u001b[0m\u001b[0;34m\u001b[0m\u001b[0m\n\u001b[0;32m--> 848\u001b[0;31m               \u001b[0mtmp_logs\u001b[0m \u001b[0;34m=\u001b[0m \u001b[0mtrain_function\u001b[0m\u001b[0;34m(\u001b[0m\u001b[0miterator\u001b[0m\u001b[0;34m)\u001b[0m\u001b[0;34m\u001b[0m\u001b[0;34m\u001b[0m\u001b[0m\n\u001b[0m\u001b[1;32m    849\u001b[0m               \u001b[0;31m# Catch OutOfRangeError for Datasets of unknown size.\u001b[0m\u001b[0;34m\u001b[0m\u001b[0;34m\u001b[0m\u001b[0;34m\u001b[0m\u001b[0m\n\u001b[1;32m    850\u001b[0m               \u001b[0;31m# This blocks until the batch has finished executing.\u001b[0m\u001b[0;34m\u001b[0m\u001b[0;34m\u001b[0m\u001b[0;34m\u001b[0m\u001b[0m\n",
      "\u001b[0;32m~/anaconda3/lib/python3.8/site-packages/tensorflow/python/eager/def_function.py\u001b[0m in \u001b[0;36m__call__\u001b[0;34m(self, *args, **kwds)\u001b[0m\n\u001b[1;32m    578\u001b[0m         \u001b[0mxla_context\u001b[0m\u001b[0;34m.\u001b[0m\u001b[0mExit\u001b[0m\u001b[0;34m(\u001b[0m\u001b[0;34m)\u001b[0m\u001b[0;34m\u001b[0m\u001b[0;34m\u001b[0m\u001b[0m\n\u001b[1;32m    579\u001b[0m     \u001b[0;32melse\u001b[0m\u001b[0;34m:\u001b[0m\u001b[0;34m\u001b[0m\u001b[0;34m\u001b[0m\u001b[0m\n\u001b[0;32m--> 580\u001b[0;31m       \u001b[0mresult\u001b[0m \u001b[0;34m=\u001b[0m \u001b[0mself\u001b[0m\u001b[0;34m.\u001b[0m\u001b[0m_call\u001b[0m\u001b[0;34m(\u001b[0m\u001b[0;34m*\u001b[0m\u001b[0margs\u001b[0m\u001b[0;34m,\u001b[0m \u001b[0;34m**\u001b[0m\u001b[0mkwds\u001b[0m\u001b[0;34m)\u001b[0m\u001b[0;34m\u001b[0m\u001b[0;34m\u001b[0m\u001b[0m\n\u001b[0m\u001b[1;32m    581\u001b[0m \u001b[0;34m\u001b[0m\u001b[0m\n\u001b[1;32m    582\u001b[0m     \u001b[0;32mif\u001b[0m \u001b[0mtracing_count\u001b[0m \u001b[0;34m==\u001b[0m \u001b[0mself\u001b[0m\u001b[0;34m.\u001b[0m\u001b[0m_get_tracing_count\u001b[0m\u001b[0;34m(\u001b[0m\u001b[0;34m)\u001b[0m\u001b[0;34m:\u001b[0m\u001b[0;34m\u001b[0m\u001b[0;34m\u001b[0m\u001b[0m\n",
      "\u001b[0;32m~/anaconda3/lib/python3.8/site-packages/tensorflow/python/eager/def_function.py\u001b[0m in \u001b[0;36m_call\u001b[0;34m(self, *args, **kwds)\u001b[0m\n\u001b[1;32m    642\u001b[0m         \u001b[0;31m# Lifting succeeded, so variables are initialized and we can run the\u001b[0m\u001b[0;34m\u001b[0m\u001b[0;34m\u001b[0m\u001b[0;34m\u001b[0m\u001b[0m\n\u001b[1;32m    643\u001b[0m         \u001b[0;31m# stateless function.\u001b[0m\u001b[0;34m\u001b[0m\u001b[0;34m\u001b[0m\u001b[0;34m\u001b[0m\u001b[0m\n\u001b[0;32m--> 644\u001b[0;31m         \u001b[0;32mreturn\u001b[0m \u001b[0mself\u001b[0m\u001b[0;34m.\u001b[0m\u001b[0m_stateless_fn\u001b[0m\u001b[0;34m(\u001b[0m\u001b[0;34m*\u001b[0m\u001b[0margs\u001b[0m\u001b[0;34m,\u001b[0m \u001b[0;34m**\u001b[0m\u001b[0mkwds\u001b[0m\u001b[0;34m)\u001b[0m\u001b[0;34m\u001b[0m\u001b[0;34m\u001b[0m\u001b[0m\n\u001b[0m\u001b[1;32m    645\u001b[0m     \u001b[0;32melse\u001b[0m\u001b[0;34m:\u001b[0m\u001b[0;34m\u001b[0m\u001b[0;34m\u001b[0m\u001b[0m\n\u001b[1;32m    646\u001b[0m       \u001b[0mcanon_args\u001b[0m\u001b[0;34m,\u001b[0m \u001b[0mcanon_kwds\u001b[0m \u001b[0;34m=\u001b[0m\u001b[0;31m \u001b[0m\u001b[0;31m\\\u001b[0m\u001b[0;34m\u001b[0m\u001b[0;34m\u001b[0m\u001b[0m\n",
      "\u001b[0;32m~/anaconda3/lib/python3.8/site-packages/tensorflow/python/eager/function.py\u001b[0m in \u001b[0;36m__call__\u001b[0;34m(self, *args, **kwargs)\u001b[0m\n\u001b[1;32m   2418\u001b[0m     \u001b[0;32mwith\u001b[0m \u001b[0mself\u001b[0m\u001b[0;34m.\u001b[0m\u001b[0m_lock\u001b[0m\u001b[0;34m:\u001b[0m\u001b[0;34m\u001b[0m\u001b[0;34m\u001b[0m\u001b[0m\n\u001b[1;32m   2419\u001b[0m       \u001b[0mgraph_function\u001b[0m\u001b[0;34m,\u001b[0m \u001b[0margs\u001b[0m\u001b[0;34m,\u001b[0m \u001b[0mkwargs\u001b[0m \u001b[0;34m=\u001b[0m \u001b[0mself\u001b[0m\u001b[0;34m.\u001b[0m\u001b[0m_maybe_define_function\u001b[0m\u001b[0;34m(\u001b[0m\u001b[0margs\u001b[0m\u001b[0;34m,\u001b[0m \u001b[0mkwargs\u001b[0m\u001b[0;34m)\u001b[0m\u001b[0;34m\u001b[0m\u001b[0;34m\u001b[0m\u001b[0m\n\u001b[0;32m-> 2420\u001b[0;31m     \u001b[0;32mreturn\u001b[0m \u001b[0mgraph_function\u001b[0m\u001b[0;34m.\u001b[0m\u001b[0m_filtered_call\u001b[0m\u001b[0;34m(\u001b[0m\u001b[0margs\u001b[0m\u001b[0;34m,\u001b[0m \u001b[0mkwargs\u001b[0m\u001b[0;34m)\u001b[0m  \u001b[0;31m# pylint: disable=protected-access\u001b[0m\u001b[0;34m\u001b[0m\u001b[0;34m\u001b[0m\u001b[0m\n\u001b[0m\u001b[1;32m   2421\u001b[0m \u001b[0;34m\u001b[0m\u001b[0m\n\u001b[1;32m   2422\u001b[0m   \u001b[0;34m@\u001b[0m\u001b[0mproperty\u001b[0m\u001b[0;34m\u001b[0m\u001b[0;34m\u001b[0m\u001b[0m\n",
      "\u001b[0;32m~/anaconda3/lib/python3.8/site-packages/tensorflow/python/eager/function.py\u001b[0m in \u001b[0;36m_filtered_call\u001b[0;34m(self, args, kwargs)\u001b[0m\n\u001b[1;32m   1659\u001b[0m       \u001b[0;31m`\u001b[0m\u001b[0margs\u001b[0m\u001b[0;31m`\u001b[0m \u001b[0;32mand\u001b[0m\u001b[0;31m \u001b[0m\u001b[0;31m`\u001b[0m\u001b[0mkwargs\u001b[0m\u001b[0;31m`\u001b[0m\u001b[0;34m.\u001b[0m\u001b[0;34m\u001b[0m\u001b[0;34m\u001b[0m\u001b[0m\n\u001b[1;32m   1660\u001b[0m     \"\"\"\n\u001b[0;32m-> 1661\u001b[0;31m     return self._call_flat(\n\u001b[0m\u001b[1;32m   1662\u001b[0m         (t for t in nest.flatten((args, kwargs), expand_composites=True)\n\u001b[1;32m   1663\u001b[0m          if isinstance(t, (ops.Tensor,\n",
      "\u001b[0;32m~/anaconda3/lib/python3.8/site-packages/tensorflow/python/eager/function.py\u001b[0m in \u001b[0;36m_call_flat\u001b[0;34m(self, args, captured_inputs, cancellation_manager)\u001b[0m\n\u001b[1;32m   1743\u001b[0m         and executing_eagerly):\n\u001b[1;32m   1744\u001b[0m       \u001b[0;31m# No tape is watching; skip to running the function.\u001b[0m\u001b[0;34m\u001b[0m\u001b[0;34m\u001b[0m\u001b[0;34m\u001b[0m\u001b[0m\n\u001b[0;32m-> 1745\u001b[0;31m       return self._build_call_outputs(self._inference_function.call(\n\u001b[0m\u001b[1;32m   1746\u001b[0m           ctx, args, cancellation_manager=cancellation_manager))\n\u001b[1;32m   1747\u001b[0m     forward_backward = self._select_forward_and_backward_functions(\n",
      "\u001b[0;32m~/anaconda3/lib/python3.8/site-packages/tensorflow/python/eager/function.py\u001b[0m in \u001b[0;36mcall\u001b[0;34m(self, ctx, args, cancellation_manager)\u001b[0m\n\u001b[1;32m    591\u001b[0m       \u001b[0;32mwith\u001b[0m \u001b[0m_InterpolateFunctionError\u001b[0m\u001b[0;34m(\u001b[0m\u001b[0mself\u001b[0m\u001b[0;34m)\u001b[0m\u001b[0;34m:\u001b[0m\u001b[0;34m\u001b[0m\u001b[0;34m\u001b[0m\u001b[0m\n\u001b[1;32m    592\u001b[0m         \u001b[0;32mif\u001b[0m \u001b[0mcancellation_manager\u001b[0m \u001b[0;32mis\u001b[0m \u001b[0;32mNone\u001b[0m\u001b[0;34m:\u001b[0m\u001b[0;34m\u001b[0m\u001b[0;34m\u001b[0m\u001b[0m\n\u001b[0;32m--> 593\u001b[0;31m           outputs = execute.execute(\n\u001b[0m\u001b[1;32m    594\u001b[0m               \u001b[0mstr\u001b[0m\u001b[0;34m(\u001b[0m\u001b[0mself\u001b[0m\u001b[0;34m.\u001b[0m\u001b[0msignature\u001b[0m\u001b[0;34m.\u001b[0m\u001b[0mname\u001b[0m\u001b[0;34m)\u001b[0m\u001b[0;34m,\u001b[0m\u001b[0;34m\u001b[0m\u001b[0;34m\u001b[0m\u001b[0m\n\u001b[1;32m    595\u001b[0m               \u001b[0mnum_outputs\u001b[0m\u001b[0;34m=\u001b[0m\u001b[0mself\u001b[0m\u001b[0;34m.\u001b[0m\u001b[0m_num_outputs\u001b[0m\u001b[0;34m,\u001b[0m\u001b[0;34m\u001b[0m\u001b[0;34m\u001b[0m\u001b[0m\n",
      "\u001b[0;32m~/anaconda3/lib/python3.8/site-packages/tensorflow/python/eager/execute.py\u001b[0m in \u001b[0;36mquick_execute\u001b[0;34m(op_name, num_outputs, inputs, attrs, ctx, name)\u001b[0m\n\u001b[1;32m     57\u001b[0m   \u001b[0;32mtry\u001b[0m\u001b[0;34m:\u001b[0m\u001b[0;34m\u001b[0m\u001b[0;34m\u001b[0m\u001b[0m\n\u001b[1;32m     58\u001b[0m     \u001b[0mctx\u001b[0m\u001b[0;34m.\u001b[0m\u001b[0mensure_initialized\u001b[0m\u001b[0;34m(\u001b[0m\u001b[0;34m)\u001b[0m\u001b[0;34m\u001b[0m\u001b[0;34m\u001b[0m\u001b[0m\n\u001b[0;32m---> 59\u001b[0;31m     tensors = pywrap_tfe.TFE_Py_Execute(ctx._handle, device_name, op_name,\n\u001b[0m\u001b[1;32m     60\u001b[0m                                         inputs, attrs, num_outputs)\n\u001b[1;32m     61\u001b[0m   \u001b[0;32mexcept\u001b[0m \u001b[0mcore\u001b[0m\u001b[0;34m.\u001b[0m\u001b[0m_NotOkStatusException\u001b[0m \u001b[0;32mas\u001b[0m \u001b[0me\u001b[0m\u001b[0;34m:\u001b[0m\u001b[0;34m\u001b[0m\u001b[0;34m\u001b[0m\u001b[0m\n",
      "\u001b[0;31mKeyboardInterrupt\u001b[0m: "
     ]
    }
   ],
   "source": [
    "autoencoder_train = autoencoder.fit(train_X, train_ground, batch_size=batch_size,epochs=epochs,verbose=1,validation_data=(valid_X, valid_ground))"
   ]
  },
  {
   "cell_type": "code",
   "execution_count": null,
   "metadata": {
    "id": "Hx-p74w0nnhi"
   },
   "outputs": [],
   "source": [
    "# define an encoder model (without the decoder)\n",
    "encoder = Model(inputs=input_img, outputs=bottleneck)"
   ]
  },
  {
   "cell_type": "code",
   "execution_count": null,
   "metadata": {
    "id": "ybsYl838jOFM"
   },
   "outputs": [],
   "source": [
    "# encode the train data\n",
    "X_train_encode = encoder.predict(train_X)"
   ]
  },
  {
   "cell_type": "code",
   "execution_count": null,
   "metadata": {
    "colab": {
     "base_uri": "https://localhost:8080/"
    },
    "id": "5q4Y14fpjUfq",
    "outputId": "b428be28-3080-43a9-f100-225ad0651782"
   },
   "outputs": [
    {
     "name": "stdout",
     "output_type": "stream",
     "text": [
      "7\n"
     ]
    }
   ],
   "source": [
    "print(len(X_train_encode[10]))"
   ]
  },
  {
   "cell_type": "code",
   "execution_count": null,
   "metadata": {
    "colab": {
     "base_uri": "https://localhost:8080/"
    },
    "id": "h3HN2fwHjYMM",
    "outputId": "9b7844cf-e1e7-4f34-86c0-fe2764ade17c"
   },
   "outputs": [
    {
     "name": "stdout",
     "output_type": "stream",
     "text": [
      "28\n"
     ]
    }
   ],
   "source": [
    "print(len(train_X[10]))"
   ]
  },
  {
   "cell_type": "markdown",
   "metadata": {
    "id": "xxNPngYtkUv1"
   },
   "source": [
    "Na filaksoume tis nees eikones se file gia na tis diavasoume meso tis c++"
   ]
  }
 ],
 "metadata": {
  "accelerator": "GPU",
  "colab": {
   "collapsed_sections": [],
   "name": "bottleneck.ipynb",
   "provenance": []
  },
  "kernelspec": {
   "display_name": "Python 3",
   "language": "python",
   "name": "python3"
  },
  "language_info": {
   "codemirror_mode": {
    "name": "ipython",
    "version": 3
   },
   "file_extension": ".py",
   "mimetype": "text/x-python",
   "name": "python",
   "nbconvert_exporter": "python",
   "pygments_lexer": "ipython3",
   "version": "3.8.5"
  }
 },
 "nbformat": 4,
 "nbformat_minor": 1
}
