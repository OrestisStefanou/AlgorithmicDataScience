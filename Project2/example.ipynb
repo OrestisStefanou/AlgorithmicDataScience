{
 "cells": [
  {
   "cell_type": "markdown",
   "metadata": {},
   "source": [
    "We'll start simple, with a single fully-connected neural layer as encoder and as decoder:"
   ]
  },
  {
   "cell_type": "code",
   "execution_count": 1,
   "metadata": {},
   "outputs": [],
   "source": [
    "import keras\n",
    "from keras import layers\n",
    "\n",
    "# This is the size of our encoded representations\n",
    "encoding_dim = 32  # 32 floats -> compression of factor 24.5, assuming the input is 784 floats\n",
    "\n",
    "# This is our input image\n",
    "input_img = keras.Input(shape=(784,))\n",
    "# \"encoded\" is the encoded representation of the input\n",
    "encoded = layers.Dense(encoding_dim, activation='relu')(input_img)\n",
    "# \"decoded\" is the lossy reconstruction of the input\n",
    "decoded = layers.Dense(784, activation='sigmoid')(encoded)\n",
    "\n",
    "# This model maps an input to its reconstruction\n",
    "autoencoder = keras.Model(input_img, decoded)\n"
   ]
  },
  {
   "cell_type": "markdown",
   "metadata": {},
   "source": [
    "Let's also create a separate encoder model:"
   ]
  },
  {
   "cell_type": "code",
   "execution_count": 2,
   "metadata": {},
   "outputs": [],
   "source": [
    "# This model maps an input to its encoded representation\n",
    "encoder = keras.Model(input_img, encoded)"
   ]
  },
  {
   "cell_type": "markdown",
   "metadata": {},
   "source": [
    "As well as the decoder model:"
   ]
  },
  {
   "cell_type": "code",
   "execution_count": 3,
   "metadata": {},
   "outputs": [],
   "source": [
    "# This is our encoded (32-dimensional) input\n",
    "encoded_input = keras.Input(shape=(encoding_dim,))\n",
    "# Retrieve the last layer of the autoencoder model\n",
    "decoder_layer = autoencoder.layers[-1]\n",
    "# Create the decoder model\n",
    "decoder = keras.Model(encoded_input, decoder_layer(encoded_input))"
   ]
  },
  {
   "cell_type": "markdown",
   "metadata": {},
   "source": [
    "Now let's train our autoencoder to reconstruct MNIST digits.\n",
    "\n",
    "First, we'll configure our model to use a per-pixel binary crossentropy loss, and the Adam optimizer:"
   ]
  },
  {
   "cell_type": "code",
   "execution_count": 4,
   "metadata": {},
   "outputs": [],
   "source": [
    "autoencoder.compile(optimizer='adam', loss='binary_crossentropy')"
   ]
  },
  {
   "cell_type": "markdown",
   "metadata": {},
   "source": [
    "Let's prepare our input data. We're using MNIST digits, and we're discarding the labels (since we're only interested in encoding/decoding the input images)."
   ]
  },
  {
   "cell_type": "code",
   "execution_count": 5,
   "metadata": {},
   "outputs": [
    {
     "name": "stdout",
     "output_type": "stream",
     "text": [
      "Downloading data from https://storage.googleapis.com/tensorflow/tf-keras-datasets/mnist.npz\n",
      "11493376/11490434 [==============================] - 12s 1us/step\n"
     ]
    }
   ],
   "source": [
    "from keras.datasets import mnist\n",
    "import numpy as np\n",
    "(x_train, _), (x_test, _) = mnist.load_data()"
   ]
  },
  {
   "cell_type": "markdown",
   "metadata": {},
   "source": [
    "We will normalize all values between 0 and 1 and we will flatten the 28x28 images into vectors of size 784."
   ]
  },
  {
   "cell_type": "code",
   "execution_count": 6,
   "metadata": {},
   "outputs": [
    {
     "name": "stdout",
     "output_type": "stream",
     "text": [
      "(60000, 784)\n",
      "(10000, 784)\n"
     ]
    }
   ],
   "source": [
    "x_train = x_train.astype('float32') / 255.\n",
    "x_test = x_test.astype('float32') / 255.\n",
    "x_train = x_train.reshape((len(x_train), np.prod(x_train.shape[1:])))\n",
    "x_test = x_test.reshape((len(x_test), np.prod(x_test.shape[1:])))\n",
    "print(x_train.shape)\n",
    "print(x_test.shape)"
   ]
  },
  {
   "cell_type": "markdown",
   "metadata": {},
   "source": [
    "Now let's train our autoencoder for 50 epochs:"
   ]
  },
  {
   "cell_type": "code",
   "execution_count": 7,
   "metadata": {},
   "outputs": [
    {
     "name": "stdout",
     "output_type": "stream",
     "text": [
      "Epoch 1/50\n",
      "235/235 [==============================] - 5s 21ms/step - loss: 0.2738 - val_loss: 0.1845\n",
      "Epoch 2/50\n",
      "235/235 [==============================] - 4s 17ms/step - loss: 0.1684 - val_loss: 0.1529\n",
      "Epoch 3/50\n",
      "235/235 [==============================] - 5s 21ms/step - loss: 0.1437 - val_loss: 0.1330\n",
      "Epoch 4/50\n",
      "235/235 [==============================] - 6s 24ms/step - loss: 0.1276 - val_loss: 0.1203\n",
      "Epoch 5/50\n",
      "235/235 [==============================] - 5s 22ms/step - loss: 0.1172 - val_loss: 0.1118\n",
      "Epoch 6/50\n",
      "235/235 [==============================] - 6s 25ms/step - loss: 0.1100 - val_loss: 0.1057\n",
      "Epoch 7/50\n",
      "235/235 [==============================] - 7s 30ms/step - loss: 0.1048 - val_loss: 0.1015\n",
      "Epoch 8/50\n",
      "235/235 [==============================] - 7s 28ms/step - loss: 0.1011 - val_loss: 0.0983\n",
      "Epoch 9/50\n",
      "235/235 [==============================] - 5s 22ms/step - loss: 0.0986 - val_loss: 0.0963\n",
      "Epoch 10/50\n",
      "235/235 [==============================] - 6s 26ms/step - loss: 0.0969 - val_loss: 0.0950\n",
      "Epoch 11/50\n",
      "235/235 [==============================] - 6s 27ms/step - loss: 0.0958 - val_loss: 0.0940\n",
      "Epoch 12/50\n",
      "235/235 [==============================] - 6s 26ms/step - loss: 0.0951 - val_loss: 0.0935\n",
      "Epoch 13/50\n",
      "235/235 [==============================] - 6s 27ms/step - loss: 0.0947 - val_loss: 0.0932\n",
      "Epoch 14/50\n",
      "235/235 [==============================] - 6s 24ms/step - loss: 0.0943 - val_loss: 0.0929\n",
      "Epoch 15/50\n",
      "235/235 [==============================] - 6s 24ms/step - loss: 0.0941 - val_loss: 0.0926\n",
      "Epoch 16/50\n",
      "235/235 [==============================] - 5s 23ms/step - loss: 0.0939 - val_loss: 0.0925\n",
      "Epoch 17/50\n",
      "235/235 [==============================] - 6s 26ms/step - loss: 0.0937 - val_loss: 0.0924\n",
      "Epoch 18/50\n",
      "235/235 [==============================] - 5s 23ms/step - loss: 0.0936 - val_loss: 0.0923\n",
      "Epoch 19/50\n",
      "235/235 [==============================] - 5s 19ms/step - loss: 0.0935 - val_loss: 0.0921\n",
      "Epoch 20/50\n",
      "235/235 [==============================] - 5s 20ms/step - loss: 0.0934 - val_loss: 0.0921\n",
      "Epoch 21/50\n",
      "235/235 [==============================] - 5s 22ms/step - loss: 0.0933 - val_loss: 0.0920\n",
      "Epoch 22/50\n",
      "235/235 [==============================] - 5s 20ms/step - loss: 0.0933 - val_loss: 0.0920\n",
      "Epoch 23/50\n",
      "235/235 [==============================] - 5s 20ms/step - loss: 0.0932 - val_loss: 0.0920\n",
      "Epoch 24/50\n",
      "235/235 [==============================] - 6s 24ms/step - loss: 0.0931 - val_loss: 0.0918\n",
      "Epoch 25/50\n",
      "235/235 [==============================] - 4s 18ms/step - loss: 0.0931 - val_loss: 0.0918\n",
      "Epoch 26/50\n",
      "235/235 [==============================] - 4s 19ms/step - loss: 0.0931 - val_loss: 0.0918\n",
      "Epoch 27/50\n",
      "235/235 [==============================] - 5s 21ms/step - loss: 0.0930 - val_loss: 0.0918\n",
      "Epoch 28/50\n",
      "235/235 [==============================] - 5s 21ms/step - loss: 0.0930 - val_loss: 0.0918\n",
      "Epoch 29/50\n",
      "235/235 [==============================] - 5s 22ms/step - loss: 0.0929 - val_loss: 0.0917\n",
      "Epoch 30/50\n",
      "235/235 [==============================] - 6s 25ms/step - loss: 0.0929 - val_loss: 0.0916\n",
      "Epoch 31/50\n",
      "235/235 [==============================] - 6s 26ms/step - loss: 0.0929 - val_loss: 0.0916\n",
      "Epoch 32/50\n",
      "235/235 [==============================] - 6s 26ms/step - loss: 0.0928 - val_loss: 0.0916\n",
      "Epoch 33/50\n",
      "235/235 [==============================] - 6s 25ms/step - loss: 0.0928 - val_loss: 0.0916\n",
      "Epoch 34/50\n",
      "235/235 [==============================] - 5s 21ms/step - loss: 0.0928 - val_loss: 0.0916\n",
      "Epoch 35/50\n",
      "235/235 [==============================] - 5s 20ms/step - loss: 0.0928 - val_loss: 0.0917\n",
      "Epoch 36/50\n",
      "235/235 [==============================] - 5s 19ms/step - loss: 0.0927 - val_loss: 0.0916\n",
      "Epoch 37/50\n",
      "235/235 [==============================] - 5s 23ms/step - loss: 0.0927 - val_loss: 0.0915\n",
      "Epoch 38/50\n",
      "235/235 [==============================] - 4s 19ms/step - loss: 0.0927 - val_loss: 0.0915\n",
      "Epoch 39/50\n",
      "235/235 [==============================] - 5s 21ms/step - loss: 0.0927 - val_loss: 0.0915\n",
      "Epoch 40/50\n",
      "235/235 [==============================] - 4s 19ms/step - loss: 0.0927 - val_loss: 0.0916\n",
      "Epoch 41/50\n",
      "235/235 [==============================] - 4s 17ms/step - loss: 0.0927 - val_loss: 0.0915\n",
      "Epoch 42/50\n",
      "235/235 [==============================] - 4s 17ms/step - loss: 0.0927 - val_loss: 0.0915\n",
      "Epoch 43/50\n",
      "235/235 [==============================] - 4s 18ms/step - loss: 0.0927 - val_loss: 0.0915\n",
      "Epoch 44/50\n",
      "235/235 [==============================] - 4s 16ms/step - loss: 0.0926 - val_loss: 0.0915\n",
      "Epoch 45/50\n",
      "235/235 [==============================] - 5s 20ms/step - loss: 0.0926 - val_loss: 0.0914\n",
      "Epoch 46/50\n",
      "235/235 [==============================] - 6s 24ms/step - loss: 0.0926 - val_loss: 0.0915\n",
      "Epoch 47/50\n",
      "235/235 [==============================] - 6s 24ms/step - loss: 0.0926 - val_loss: 0.0914\n",
      "Epoch 48/50\n",
      "235/235 [==============================] - 5s 19ms/step - loss: 0.0926 - val_loss: 0.0915\n",
      "Epoch 49/50\n",
      "235/235 [==============================] - 5s 19ms/step - loss: 0.0926 - val_loss: 0.0914\n",
      "Epoch 50/50\n",
      "235/235 [==============================] - 4s 19ms/step - loss: 0.0926 - val_loss: 0.0914\n"
     ]
    },
    {
     "data": {
      "text/plain": [
       "<tensorflow.python.keras.callbacks.History at 0x7fa75416c790>"
      ]
     },
     "execution_count": 7,
     "metadata": {},
     "output_type": "execute_result"
    }
   ],
   "source": [
    "autoencoder.fit(x_train, x_train,\n",
    "                epochs=50,\n",
    "                batch_size=256,\n",
    "                shuffle=True,\n",
    "                validation_data=(x_test, x_test))"
   ]
  },
  {
   "cell_type": "markdown",
   "metadata": {},
   "source": [
    "After 50 epochs, the autoencoder seems to reach a stable train/validation loss value of about 0.09. We can try to visualize the reconstructed inputs and the encoded representations. We will use Matplotlib."
   ]
  },
  {
   "cell_type": "code",
   "execution_count": 8,
   "metadata": {},
   "outputs": [],
   "source": [
    "# Encode and decode some digits\n",
    "# Note that we take them from the *test* set\n",
    "encoded_imgs = encoder.predict(x_test)\n",
    "decoded_imgs = decoder.predict(encoded_imgs)"
   ]
  },
  {
   "cell_type": "code",
   "execution_count": 9,
   "metadata": {},
   "outputs": [
    {
     "data": {
      "image/png": "[encoded data removed]",
      "text/plain": [
       "<Figure size 1440x288 with 20 Axes>"
      ]
     },
     "metadata": {
      "needs_background": "light"
     },
     "output_type": "display_data"
    }
   ],
   "source": [
    "import matplotlib.pyplot as plt\n",
    "\n",
    "n = 10  # How many digits we will display\n",
    "plt.figure(figsize=(20, 4))\n",
    "for i in range(n):\n",
    "    # Display original\n",
    "    ax = plt.subplot(2, n, i + 1)\n",
    "    plt.imshow(x_test[i].reshape(28, 28))\n",
    "    plt.gray()\n",
    "    ax.get_xaxis().set_visible(False)\n",
    "    ax.get_yaxis().set_visible(False)\n",
    "\n",
    "    # Display reconstruction\n",
    "    ax = plt.subplot(2, n, i + 1 + n)\n",
    "    plt.imshow(decoded_imgs[i].reshape(28, 28))\n",
    "    plt.gray()\n",
    "    ax.get_xaxis().set_visible(False)\n",
    "    ax.get_yaxis().set_visible(False)\n",
    "plt.show()\n"
   ]
  },
  {
   "cell_type": "markdown",
   "metadata": {},
   "source": [
    "Deep autoencoder"
   ]
  },
  {
   "cell_type": "code",
   "execution_count": 11,
   "metadata": {},
   "outputs": [
    {
     "name": "stdout",
     "output_type": "stream",
     "text": [
      "Epoch 1/100\n",
      "235/235 [==============================] - 6s 27ms/step - loss: 0.2432 - val_loss: 0.1673\n",
      "Epoch 2/100\n",
      "235/235 [==============================] - 6s 27ms/step - loss: 0.1502 - val_loss: 0.1357\n",
      "Epoch 3/100\n",
      "235/235 [==============================] - 6s 27ms/step - loss: 0.1304 - val_loss: 0.1237\n",
      "Epoch 4/100\n",
      "235/235 [==============================] - 7s 28ms/step - loss: 0.1205 - val_loss: 0.1153\n",
      "Epoch 5/100\n",
      "235/235 [==============================] - 6s 26ms/step - loss: 0.1139 - val_loss: 0.1100\n",
      "Epoch 6/100\n",
      "235/235 [==============================] - 7s 29ms/step - loss: 0.1093 - val_loss: 0.1062\n",
      "Epoch 7/100\n",
      "235/235 [==============================] - 6s 27ms/step - loss: 0.1060 - val_loss: 0.1032\n",
      "Epoch 8/100\n",
      "235/235 [==============================] - 7s 29ms/step - loss: 0.1035 - val_loss: 0.1013\n",
      "Epoch 9/100\n",
      "235/235 [==============================] - 7s 28ms/step - loss: 0.1016 - val_loss: 0.0994\n",
      "Epoch 10/100\n",
      "235/235 [==============================] - 7s 30ms/step - loss: 0.1001 - val_loss: 0.0983\n",
      "Epoch 11/100\n",
      "235/235 [==============================] - 9s 37ms/step - loss: 0.0988 - val_loss: 0.0972\n",
      "Epoch 12/100\n",
      "235/235 [==============================] - 8s 33ms/step - loss: 0.0976 - val_loss: 0.0960\n",
      "Epoch 13/100\n",
      "235/235 [==============================] - 8s 34ms/step - loss: 0.0965 - val_loss: 0.0950\n",
      "Epoch 14/100\n",
      "235/235 [==============================] - 8s 33ms/step - loss: 0.0954 - val_loss: 0.0943\n",
      "Epoch 15/100\n",
      "235/235 [==============================] - 7s 30ms/step - loss: 0.0946 - val_loss: 0.0933\n",
      "Epoch 16/100\n",
      "235/235 [==============================] - 8s 34ms/step - loss: 0.0938 - val_loss: 0.0927\n",
      "Epoch 17/100\n",
      "235/235 [==============================] - 8s 35ms/step - loss: 0.0931 - val_loss: 0.0919\n",
      "Epoch 18/100\n",
      "235/235 [==============================] - 7s 30ms/step - loss: 0.0925 - val_loss: 0.0915\n",
      "Epoch 19/100\n",
      "235/235 [==============================] - 8s 33ms/step - loss: 0.0919 - val_loss: 0.0908\n",
      "Epoch 20/100\n",
      "235/235 [==============================] - 7s 31ms/step - loss: 0.0914 - val_loss: 0.0903\n",
      "Epoch 21/100\n",
      "235/235 [==============================] - 7s 32ms/step - loss: 0.0909 - val_loss: 0.0899\n",
      "Epoch 22/100\n",
      "235/235 [==============================] - 8s 35ms/step - loss: 0.0904 - val_loss: 0.0893\n",
      "Epoch 23/100\n",
      "235/235 [==============================] - 7s 31ms/step - loss: 0.0898 - val_loss: 0.0890\n",
      "Epoch 24/100\n",
      "235/235 [==============================] - 8s 34ms/step - loss: 0.0893 - val_loss: 0.0882\n",
      "Epoch 25/100\n",
      "235/235 [==============================] - 8s 32ms/step - loss: 0.0888 - val_loss: 0.0880\n",
      "Epoch 26/100\n",
      "235/235 [==============================] - 8s 35ms/step - loss: 0.0884 - val_loss: 0.0875\n",
      "Epoch 27/100\n",
      "235/235 [==============================] - 9s 37ms/step - loss: 0.0880 - val_loss: 0.0871\n",
      "Epoch 28/100\n",
      "235/235 [==============================] - 8s 33ms/step - loss: 0.0876 - val_loss: 0.0871\n",
      "Epoch 29/100\n",
      "235/235 [==============================] - 9s 39ms/step - loss: 0.0874 - val_loss: 0.0864\n",
      "Epoch 30/100\n",
      "235/235 [==============================] - 7s 31ms/step - loss: 0.0870 - val_loss: 0.0863\n",
      "Epoch 31/100\n",
      "235/235 [==============================] - 8s 35ms/step - loss: 0.0868 - val_loss: 0.0861\n",
      "Epoch 32/100\n",
      "235/235 [==============================] - 8s 33ms/step - loss: 0.0865 - val_loss: 0.0859\n",
      "Epoch 33/100\n",
      "235/235 [==============================] - 8s 33ms/step - loss: 0.0863 - val_loss: 0.0856\n",
      "Epoch 34/100\n",
      "235/235 [==============================] - 8s 33ms/step - loss: 0.0861 - val_loss: 0.0855\n",
      "Epoch 35/100\n",
      "235/235 [==============================] - 7s 31ms/step - loss: 0.0859 - val_loss: 0.0856\n",
      "Epoch 36/100\n",
      "235/235 [==============================] - 7s 32ms/step - loss: 0.0858 - val_loss: 0.0851\n",
      "Epoch 37/100\n",
      "235/235 [==============================] - 7s 31ms/step - loss: 0.0855 - val_loss: 0.0851\n",
      "Epoch 38/100\n",
      "235/235 [==============================] - 8s 36ms/step - loss: 0.0854 - val_loss: 0.0847\n",
      "Epoch 39/100\n",
      "235/235 [==============================] - 7s 31ms/step - loss: 0.0852 - val_loss: 0.0846\n",
      "Epoch 40/100\n",
      "235/235 [==============================] - 8s 33ms/step - loss: 0.0851 - val_loss: 0.0845\n",
      "Epoch 41/100\n",
      "235/235 [==============================] - 7s 30ms/step - loss: 0.0850 - val_loss: 0.0845\n",
      "Epoch 42/100\n",
      "235/235 [==============================] - 7s 32ms/step - loss: 0.0849 - val_loss: 0.0845\n",
      "Epoch 43/100\n",
      "235/235 [==============================] - 7s 30ms/step - loss: 0.0847 - val_loss: 0.0841\n",
      "Epoch 44/100\n",
      "235/235 [==============================] - 7s 31ms/step - loss: 0.0846 - val_loss: 0.0841\n",
      "Epoch 45/100\n",
      "235/235 [==============================] - 7s 31ms/step - loss: 0.0845 - val_loss: 0.0848\n",
      "Epoch 46/100\n",
      "235/235 [==============================] - 8s 36ms/step - loss: 0.0845 - val_loss: 0.0842\n",
      "Epoch 47/100\n",
      "235/235 [==============================] - 8s 35ms/step - loss: 0.0843 - val_loss: 0.0840\n",
      "Epoch 48/100\n",
      "235/235 [==============================] - 8s 34ms/step - loss: 0.0843 - val_loss: 0.0839\n",
      "Epoch 49/100\n",
      "235/235 [==============================] - 8s 33ms/step - loss: 0.0842 - val_loss: 0.0839\n",
      "Epoch 50/100\n",
      "235/235 [==============================] - 7s 30ms/step - loss: 0.0841 - val_loss: 0.0837\n",
      "Epoch 51/100\n",
      "235/235 [==============================] - 7s 30ms/step - loss: 0.0840 - val_loss: 0.0835\n",
      "Epoch 52/100\n",
      "235/235 [==============================] - 8s 33ms/step - loss: 0.0839 - val_loss: 0.0834\n",
      "Epoch 53/100\n",
      "235/235 [==============================] - 7s 29ms/step - loss: 0.0838 - val_loss: 0.0833\n",
      "Epoch 54/100\n",
      "235/235 [==============================] - 7s 30ms/step - loss: 0.0838 - val_loss: 0.0833\n",
      "Epoch 55/100\n",
      "235/235 [==============================] - 6s 27ms/step - loss: 0.0837 - val_loss: 0.0834\n",
      "Epoch 56/100\n",
      "235/235 [==============================] - 7s 30ms/step - loss: 0.0836 - val_loss: 0.0834\n",
      "Epoch 57/100\n",
      "235/235 [==============================] - 7s 30ms/step - loss: 0.0835 - val_loss: 0.0832\n",
      "Epoch 58/100\n",
      "235/235 [==============================] - 7s 29ms/step - loss: 0.0835 - val_loss: 0.0831\n",
      "Epoch 59/100\n",
      "235/235 [==============================] - 7s 30ms/step - loss: 0.0834 - val_loss: 0.0830\n",
      "Epoch 60/100\n",
      "235/235 [==============================] - 7s 31ms/step - loss: 0.0834 - val_loss: 0.0832\n",
      "Epoch 61/100\n",
      "235/235 [==============================] - 7s 31ms/step - loss: 0.0834 - val_loss: 0.0832\n",
      "Epoch 62/100\n",
      "235/235 [==============================] - 7s 28ms/step - loss: 0.0833 - val_loss: 0.0830\n",
      "Epoch 63/100\n",
      "235/235 [==============================] - 7s 29ms/step - loss: 0.0832 - val_loss: 0.0829\n",
      "Epoch 64/100\n",
      "235/235 [==============================] - 7s 31ms/step - loss: 0.0832 - val_loss: 0.0828\n",
      "Epoch 65/100\n",
      "235/235 [==============================] - 7s 30ms/step - loss: 0.0831 - val_loss: 0.0828\n",
      "Epoch 66/100\n",
      "235/235 [==============================] - 7s 31ms/step - loss: 0.0831 - val_loss: 0.0827\n",
      "Epoch 67/100\n",
      "235/235 [==============================] - 7s 32ms/step - loss: 0.0830 - val_loss: 0.0828\n",
      "Epoch 68/100\n",
      "235/235 [==============================] - 8s 33ms/step - loss: 0.0830 - val_loss: 0.0826\n",
      "Epoch 69/100\n",
      "235/235 [==============================] - 10s 42ms/step - loss: 0.0829 - val_loss: 0.0824\n",
      "Epoch 70/100\n",
      "235/235 [==============================] - 8s 32ms/step - loss: 0.0829 - val_loss: 0.0826\n",
      "Epoch 71/100\n",
      "235/235 [==============================] - 9s 37ms/step - loss: 0.0828 - val_loss: 0.0823\n",
      "Epoch 72/100\n",
      "235/235 [==============================] - 7s 31ms/step - loss: 0.0828 - val_loss: 0.0824\n",
      "Epoch 73/100\n",
      "235/235 [==============================] - 8s 32ms/step - loss: 0.0827 - val_loss: 0.0823\n",
      "Epoch 74/100\n",
      "235/235 [==============================] - 8s 32ms/step - loss: 0.0827 - val_loss: 0.0824\n",
      "Epoch 75/100\n",
      "235/235 [==============================] - 8s 36ms/step - loss: 0.0827 - val_loss: 0.0823\n",
      "Epoch 76/100\n",
      "235/235 [==============================] - 8s 33ms/step - loss: 0.0826 - val_loss: 0.0822\n",
      "Epoch 77/100\n",
      "235/235 [==============================] - 8s 33ms/step - loss: 0.0826 - val_loss: 0.0823\n",
      "Epoch 78/100\n",
      "235/235 [==============================] - 8s 35ms/step - loss: 0.0826 - val_loss: 0.0824\n",
      "Epoch 79/100\n",
      "235/235 [==============================] - 7s 32ms/step - loss: 0.0825 - val_loss: 0.0822\n",
      "Epoch 80/100\n",
      "235/235 [==============================] - 6s 27ms/step - loss: 0.0825 - val_loss: 0.0824\n",
      "Epoch 81/100\n",
      "235/235 [==============================] - 7s 28ms/step - loss: 0.0825 - val_loss: 0.0821\n",
      "Epoch 82/100\n",
      "235/235 [==============================] - 7s 29ms/step - loss: 0.0825 - val_loss: 0.0822\n",
      "Epoch 83/100\n",
      "235/235 [==============================] - 6s 26ms/step - loss: 0.0824 - val_loss: 0.0822\n",
      "Epoch 84/100\n",
      "235/235 [==============================] - 7s 29ms/step - loss: 0.0823 - val_loss: 0.0820\n",
      "Epoch 85/100\n",
      "235/235 [==============================] - 6s 26ms/step - loss: 0.0823 - val_loss: 0.0820\n",
      "Epoch 86/100\n",
      "235/235 [==============================] - 7s 29ms/step - loss: 0.0823 - val_loss: 0.0821\n",
      "Epoch 87/100\n",
      "235/235 [==============================] - 7s 29ms/step - loss: 0.0823 - val_loss: 0.0820\n",
      "Epoch 88/100\n",
      "235/235 [==============================] - 6s 26ms/step - loss: 0.0823 - val_loss: 0.0820\n",
      "Epoch 89/100\n",
      "235/235 [==============================] - 6s 26ms/step - loss: 0.0822 - val_loss: 0.0820\n",
      "Epoch 90/100\n",
      "235/235 [==============================] - 7s 32ms/step - loss: 0.0822 - val_loss: 0.0824\n",
      "Epoch 91/100\n",
      "235/235 [==============================] - 7s 29ms/step - loss: 0.0822 - val_loss: 0.0819\n",
      "Epoch 92/100\n",
      "235/235 [==============================] - 6s 28ms/step - loss: 0.0821 - val_loss: 0.0818\n",
      "Epoch 93/100\n",
      "235/235 [==============================] - 7s 28ms/step - loss: 0.0821 - val_loss: 0.0817\n",
      "Epoch 94/100\n",
      "235/235 [==============================] - 6s 27ms/step - loss: 0.0821 - val_loss: 0.0818\n",
      "Epoch 95/100\n",
      "235/235 [==============================] - 7s 29ms/step - loss: 0.0821 - val_loss: 0.0818\n",
      "Epoch 96/100\n",
      "235/235 [==============================] - 7s 30ms/step - loss: 0.0820 - val_loss: 0.0821\n",
      "Epoch 97/100\n",
      "235/235 [==============================] - 8s 36ms/step - loss: 0.0820 - val_loss: 0.0817\n",
      "Epoch 98/100\n",
      "235/235 [==============================] - 8s 33ms/step - loss: 0.0820 - val_loss: 0.0820\n",
      "Epoch 99/100\n",
      "235/235 [==============================] - 8s 35ms/step - loss: 0.0820 - val_loss: 0.0817\n",
      "Epoch 100/100\n",
      "235/235 [==============================] - 10s 44ms/step - loss: 0.0819 - val_loss: 0.0816\n"
     ]
    },
    {
     "data": {
      "text/plain": [
       "<tensorflow.python.keras.callbacks.History at 0x7fa6bd2bbc10>"
      ]
     },
     "execution_count": 11,
     "metadata": {},
     "output_type": "execute_result"
    }
   ],
   "source": [
    "input_img = keras.Input(shape=(784,))\n",
    "encoded = layers.Dense(128, activation='relu')(input_img)\n",
    "encoded = layers.Dense(64, activation='relu')(encoded)\n",
    "encoded = layers.Dense(32, activation='relu')(encoded)\n",
    "\n",
    "decoded = layers.Dense(64, activation='relu')(encoded)\n",
    "decoded = layers.Dense(128, activation='relu')(decoded)\n",
    "decoded = layers.Dense(784, activation='sigmoid')(decoded)\n",
    "\n",
    "autoencoder = keras.Model(input_img, decoded)\n",
    "autoencoder.compile(optimizer='adam', loss='binary_crossentropy')\n",
    "\n",
    "autoencoder.fit(x_train, x_train,\n",
    "                epochs=100,\n",
    "                batch_size=256,\n",
    "                shuffle=True,\n",
    "                validation_data=(x_test, x_test))\n"
   ]
  },
  {
   "cell_type": "code",
   "execution_count": 12,
   "metadata": {},
   "outputs": [
    {
     "data": {
      "image/png": "[encoded data removed]",
      "text/plain": [
       "<Figure size 1440x288 with 20 Axes>"
      ]
     },
     "metadata": {
      "needs_background": "light"
     },
     "output_type": "display_data"
    }
   ],
   "source": [
    "n = 10  # How many digits we will display\n",
    "plt.figure(figsize=(20, 4))\n",
    "for i in range(n):\n",
    "    # Display original\n",
    "    ax = plt.subplot(2, n, i + 1)\n",
    "    plt.imshow(x_test[i].reshape(28, 28))\n",
    "    plt.gray()\n",
    "    ax.get_xaxis().set_visible(False)\n",
    "    ax.get_yaxis().set_visible(False)\n",
    "\n",
    "    # Display reconstruction\n",
    "    ax = plt.subplot(2, n, i + 1 + n)\n",
    "    plt.imshow(decoded_imgs[i].reshape(28, 28))\n",
    "    plt.gray()\n",
    "    ax.get_xaxis().set_visible(False)\n",
    "    ax.get_yaxis().set_visible(False)\n",
    "plt.show()"
   ]
  },
  {
   "cell_type": "markdown",
   "metadata": {},
   "source": [
    "## Convolutional autoencoder"
   ]
  },
  {
   "cell_type": "code",
   "execution_count": 1,
   "metadata": {},
   "outputs": [],
   "source": [
    "import keras\n",
    "from keras import layers\n",
    "\n",
    "input_img = keras.Input(shape=(28, 28, 1))\n",
    "\n",
    "x = layers.Conv2D(16, (3, 3), activation='relu', padding='same')(input_img)\n",
    "x = layers.MaxPooling2D((2, 2), padding='same')(x)\n",
    "x = layers.Conv2D(8, (3, 3), activation='relu', padding='same')(x)\n",
    "x = layers.MaxPooling2D((2, 2), padding='same')(x)\n",
    "x = layers.Conv2D(8, (3, 3), activation='relu', padding='same')(x)\n",
    "encoded = layers.MaxPooling2D((2, 2), padding='same')(x)\n",
    "\n",
    "# at this point the representation is (4, 4, 8) i.e. 128-dimensional\n",
    "\n",
    "x = layers.Conv2D(8, (3, 3), activation='relu', padding='same')(encoded)\n",
    "x = layers.UpSampling2D((2, 2))(x)\n",
    "x = layers.Conv2D(8, (3, 3), activation='relu', padding='same')(x)\n",
    "x = layers.UpSampling2D((2, 2))(x)\n",
    "x = layers.Conv2D(16, (3, 3), activation='relu')(x)\n",
    "x = layers.UpSampling2D((2, 2))(x)\n",
    "decoded = layers.Conv2D(1, (3, 3), activation='sigmoid', padding='same')(x)\n",
    "\n",
    "autoencoder = keras.Model(input_img, decoded)\n",
    "autoencoder.compile(optimizer='adam', loss='binary_crossentropy')\n"
   ]
  },
  {
   "cell_type": "markdown",
   "metadata": {},
   "source": [
    "To train it, we will use the original MNIST digits with shape (samples, 3, 28, 28), and we will just normalize pixel values between 0 and 1."
   ]
  },
  {
   "cell_type": "code",
   "execution_count": 2,
   "metadata": {},
   "outputs": [],
   "source": [
    "from keras.datasets import mnist\n",
    "import numpy as np\n",
    "\n",
    "(x_train, _), (x_test, _) = mnist.load_data()\n",
    "\n",
    "x_train = x_train.astype('float32') / 255.\n",
    "x_test = x_test.astype('float32') / 255.\n",
    "x_train = np.reshape(x_train, (len(x_train), 28, 28, 1))\n",
    "x_test = np.reshape(x_test, (len(x_test), 28, 28, 1))"
   ]
  },
  {
   "cell_type": "markdown",
   "metadata": {},
   "source": [
    "Let's train this model for 50 epochs."
   ]
  },
  {
   "cell_type": "markdown",
   "metadata": {},
   "source": [
    "First, let's open up a terminal and start a TensorBoard server that will read logs stored at /tmp/autoencoder.\n",
    "Execute this command tensorboard --logdir=/tmp/autoencoder"
   ]
  },
  {
   "cell_type": "markdown",
   "metadata": {},
   "source": [
    "Then let's train our model. In the callbacks list we pass an instance of the TensorBoard callback. After every epoch, this callback will write logs to /tmp/autoencoder, which can be read by our TensorBoard server."
   ]
  },
  {
   "cell_type": "code",
   "execution_count": 3,
   "metadata": {},
   "outputs": [
    {
     "name": "stdout",
     "output_type": "stream",
     "text": [
      "Epoch 1/50\n",
      "469/469 [==============================] - 85s 182ms/step - loss: 0.2143 - val_loss: 0.1517\n",
      "Epoch 2/50\n",
      "469/469 [==============================] - 88s 188ms/step - loss: 0.1393 - val_loss: 0.1295\n",
      "Epoch 3/50\n",
      "469/469 [==============================] - 82s 175ms/step - loss: 0.1262 - val_loss: 0.1216\n",
      "Epoch 4/50\n",
      "469/469 [==============================] - 88s 188ms/step - loss: 0.1204 - val_loss: 0.1168\n",
      "Epoch 5/50\n",
      "469/469 [==============================] - 83s 176ms/step - loss: 0.1164 - val_loss: 0.1139\n",
      "Epoch 6/50\n",
      "469/469 [==============================] - 86s 184ms/step - loss: 0.1134 - val_loss: 0.1112\n",
      "Epoch 7/50\n",
      "469/469 [==============================] - 81s 173ms/step - loss: 0.1114 - val_loss: 0.1094\n",
      "Epoch 8/50\n",
      "469/469 [==============================] - 98s 208ms/step - loss: 0.1097 - val_loss: 0.1079\n",
      "Epoch 9/50\n",
      "469/469 [==============================] - 96s 205ms/step - loss: 0.1083 - val_loss: 0.1066\n",
      "Epoch 10/50\n",
      "469/469 [==============================] - 93s 199ms/step - loss: 0.1071 - val_loss: 0.1052\n",
      "Epoch 11/50\n",
      "469/469 [==============================] - 84s 180ms/step - loss: 0.1060 - val_loss: 0.1042\n",
      "Epoch 12/50\n",
      "469/469 [==============================] - 87s 184ms/step - loss: 0.1051 - val_loss: 0.1039\n",
      "Epoch 13/50\n",
      "469/469 [==============================] - 85s 181ms/step - loss: 0.1042 - val_loss: 0.1029\n",
      "Epoch 14/50\n",
      "469/469 [==============================] - 81s 173ms/step - loss: 0.1033 - val_loss: 0.1015\n",
      "Epoch 15/50\n",
      "469/469 [==============================] - 89s 190ms/step - loss: 0.1026 - val_loss: 0.1009\n",
      "Epoch 16/50\n",
      "469/469 [==============================] - 88s 187ms/step - loss: 0.1019 - val_loss: 0.1001\n",
      "Epoch 17/50\n",
      "469/469 [==============================] - 77s 164ms/step - loss: 0.1013 - val_loss: 0.0998\n",
      "Epoch 18/50\n",
      "469/469 [==============================] - 85s 181ms/step - loss: 0.1007 - val_loss: 0.0994\n",
      "Epoch 19/50\n",
      "469/469 [==============================] - 83s 178ms/step - loss: 0.1002 - val_loss: 0.0985\n",
      "Epoch 20/50\n",
      "469/469 [==============================] - 86s 184ms/step - loss: 0.0997 - val_loss: 0.0988\n",
      "Epoch 21/50\n",
      "469/469 [==============================] - 86s 184ms/step - loss: 0.0992 - val_loss: 0.0982\n",
      "Epoch 22/50\n",
      "469/469 [==============================] - 81s 173ms/step - loss: 0.0988 - val_loss: 0.0973\n",
      "Epoch 23/50\n",
      "469/469 [==============================] - 73s 157ms/step - loss: 0.0984 - val_loss: 0.0969\n",
      "Epoch 24/50\n",
      "469/469 [==============================] - 91s 193ms/step - loss: 0.0980 - val_loss: 0.0967\n",
      "Epoch 25/50\n",
      "469/469 [==============================] - 85s 181ms/step - loss: 0.0977 - val_loss: 0.0962\n",
      "Epoch 26/50\n",
      "469/469 [==============================] - 87s 186ms/step - loss: 0.0973 - val_loss: 0.0958\n",
      "Epoch 27/50\n",
      "469/469 [==============================] - 89s 189ms/step - loss: 0.0969 - val_loss: 0.0959\n",
      "Epoch 28/50\n",
      "469/469 [==============================] - 87s 185ms/step - loss: 0.0966 - val_loss: 0.0955\n",
      "Epoch 29/50\n",
      "469/469 [==============================] - 88s 187ms/step - loss: 0.0963 - val_loss: 0.0950\n",
      "Epoch 30/50\n",
      "469/469 [==============================] - 88s 187ms/step - loss: 0.0960 - val_loss: 0.0951\n",
      "Epoch 31/50\n",
      "469/469 [==============================] - 89s 190ms/step - loss: 0.0957 - val_loss: 0.0963\n",
      "Epoch 32/50\n",
      "469/469 [==============================] - 88s 187ms/step - loss: 0.0954 - val_loss: 0.0944\n",
      "Epoch 33/50\n",
      "469/469 [==============================] - 88s 187ms/step - loss: 0.0952 - val_loss: 0.0937\n",
      "Epoch 34/50\n",
      "469/469 [==============================] - 90s 192ms/step - loss: 0.0949 - val_loss: 0.0936\n",
      "Epoch 35/50\n",
      "469/469 [==============================] - 85s 181ms/step - loss: 0.0947 - val_loss: 0.0936\n",
      "Epoch 36/50\n",
      "469/469 [==============================] - 89s 189ms/step - loss: 0.0944 - val_loss: 0.0930\n",
      "Epoch 37/50\n",
      "469/469 [==============================] - 86s 184ms/step - loss: 0.0942 - val_loss: 0.0928\n",
      "Epoch 38/50\n",
      "469/469 [==============================] - 84s 180ms/step - loss: 0.0940 - val_loss: 0.0930\n",
      "Epoch 39/50\n",
      "469/469 [==============================] - 86s 183ms/step - loss: 0.0938 - val_loss: 0.0923\n",
      "Epoch 40/50\n",
      "469/469 [==============================] - 87s 186ms/step - loss: 0.0936 - val_loss: 0.0928\n",
      "Epoch 41/50\n",
      "469/469 [==============================] - 83s 176ms/step - loss: 0.0934 - val_loss: 0.0919\n",
      "Epoch 42/50\n",
      "469/469 [==============================] - 87s 184ms/step - loss: 0.0932 - val_loss: 0.0921\n",
      "Epoch 43/50\n",
      "469/469 [==============================] - 82s 176ms/step - loss: 0.0930 - val_loss: 0.0922\n",
      "Epoch 44/50\n",
      "469/469 [==============================] - 84s 180ms/step - loss: 0.0928 - val_loss: 0.0917\n",
      "Epoch 45/50\n",
      "469/469 [==============================] - 84s 179ms/step - loss: 0.0927 - val_loss: 0.0915\n",
      "Epoch 46/50\n",
      "469/469 [==============================] - 84s 179ms/step - loss: 0.0926 - val_loss: 0.0914\n",
      "Epoch 47/50\n",
      "469/469 [==============================] - 86s 183ms/step - loss: 0.0924 - val_loss: 0.0916\n",
      "Epoch 48/50\n",
      "469/469 [==============================] - 88s 187ms/step - loss: 0.0923 - val_loss: 0.0913\n",
      "Epoch 49/50\n",
      "469/469 [==============================] - 88s 188ms/step - loss: 0.0922 - val_loss: 0.0912\n",
      "Epoch 50/50\n",
      "469/469 [==============================] - 89s 191ms/step - loss: 0.0921 - val_loss: 0.0909\n"
     ]
    },
    {
     "data": {
      "text/plain": [
       "<tensorflow.python.keras.callbacks.History at 0x7f73384bb3d0>"
      ]
     },
     "execution_count": 3,
     "metadata": {},
     "output_type": "execute_result"
    }
   ],
   "source": [
    "from keras.callbacks import TensorBoard\n",
    "\n",
    "autoencoder.fit(x_train, x_train,\n",
    "                epochs=50,\n",
    "                batch_size=128,\n",
    "                shuffle=True,\n",
    "                validation_data=(x_test, x_test),\n",
    "                callbacks=[TensorBoard(log_dir='/tmp/autoencoder')])\n"
   ]
  },
  {
   "attachments": {},
   "cell_type": "markdown",
   "metadata": {},
   "source": [
    "Save the model"
   ]
  },
  {
   "cell_type": "code",
   "execution_count": 5,
   "metadata": {},
   "outputs": [
    {
     "name": "stdout",
     "output_type": "stream",
     "text": [
      "INFO:tensorflow:Assets written to: /home/orestis/Desktop/autoencoder/assets\n"
     ]
    }
   ],
   "source": [
    "autoencoder.save('/home/orestis/Desktop/autoencoder')"
   ]
  },
  {
   "cell_type": "markdown",
   "metadata": {},
   "source": [
    "Let's take a look at the reconstructed digits:"
   ]
  },
  {
   "cell_type": "code",
   "execution_count": 6,
   "metadata": {},
   "outputs": [
    {
     "data": {
      "image/png": "[encoded data removed]",
      "text/plain": [
       "<Figure size 1440x288 with 20 Axes>"
      ]
     },
     "metadata": {
      "needs_background": "light"
     },
     "output_type": "display_data"
    }
   ],
   "source": [
    "import matplotlib.pyplot as plt\n",
    "decoded_imgs = autoencoder.predict(x_test)\n",
    "\n",
    "n = 10\n",
    "plt.figure(figsize=(20, 4))\n",
    "for i in range(1, n + 1):\n",
    "    # Display original\n",
    "    ax = plt.subplot(2, n, i)\n",
    "    plt.imshow(x_test[i].reshape(28, 28))\n",
    "    plt.gray()\n",
    "    ax.get_xaxis().set_visible(False)\n",
    "    ax.get_yaxis().set_visible(False)\n",
    "\n",
    "    # Display reconstruction\n",
    "    ax = plt.subplot(2, n, i + n)\n",
    "    plt.imshow(decoded_imgs[i].reshape(28, 28))\n",
    "    plt.gray()\n",
    "    ax.get_xaxis().set_visible(False)\n",
    "    ax.get_yaxis().set_visible(False)\n",
    "plt.show()\n"
   ]
  },
  {
   "cell_type": "markdown",
   "metadata": {},
   "source": [
    "Let's put our convolutional autoencoder to work on an image denoising problem. It's simple: we will train the autoencoder to map noisy digits images to clean digits images.\n",
    "\n",
    "Here's how we will generate synthetic noisy digits: we just apply a gaussian noise matrix and clip the images between 0 and 1."
   ]
  },
  {
   "cell_type": "code",
   "execution_count": 7,
   "metadata": {},
   "outputs": [],
   "source": [
    "(x_train, _), (x_test, _) = mnist.load_data()\n",
    "\n",
    "x_train = x_train.astype('float32') / 255.\n",
    "x_test = x_test.astype('float32') / 255.\n",
    "x_train = np.reshape(x_train, (len(x_train), 28, 28, 1))\n",
    "x_test = np.reshape(x_test, (len(x_test), 28, 28, 1))\n",
    "\n",
    "noise_factor = 0.5\n",
    "x_train_noisy = x_train + noise_factor * np.random.normal(loc=0.0, scale=1.0, size=x_train.shape) \n",
    "x_test_noisy = x_test + noise_factor * np.random.normal(loc=0.0, scale=1.0, size=x_test.shape) \n",
    "\n",
    "x_train_noisy = np.clip(x_train_noisy, 0., 1.)\n",
    "x_test_noisy = np.clip(x_test_noisy, 0., 1.)"
   ]
  },
  {
   "cell_type": "markdown",
   "metadata": {},
   "source": [
    "Here's what the noisy digits look like:"
   ]
  },
  {
   "cell_type": "code",
   "execution_count": 8,
   "metadata": {},
   "outputs": [
    {
     "data": {
      "image/png": "[encoded data removed]",
      "text/plain": [
       "<Figure size 1440x144 with 10 Axes>"
      ]
     },
     "metadata": {
      "needs_background": "light"
     },
     "output_type": "display_data"
    }
   ],
   "source": [
    "n = 10\n",
    "plt.figure(figsize=(20, 2))\n",
    "for i in range(1, n + 1):\n",
    "    ax = plt.subplot(1, n, i)\n",
    "    plt.imshow(x_test_noisy[i].reshape(28, 28))\n",
    "    plt.gray()\n",
    "    ax.get_xaxis().set_visible(False)\n",
    "    ax.get_yaxis().set_visible(False)\n",
    "plt.show()"
   ]
  },
  {
   "cell_type": "markdown",
   "metadata": {},
   "source": [
    "Compared to the previous convolutional autoencoder, in order to improve the quality of the reconstructed, we'll use a slightly different model with more filters per layer:"
   ]
  },
  {
   "cell_type": "code",
   "execution_count": null,
   "metadata": {},
   "outputs": [],
   "source": [
    "input_img = keras.Input(shape=(28, 28, 1))\n",
    "\n",
    "x = layers.Conv2D(32, (3, 3), activation='relu', padding='same')(input_img)\n",
    "x = layers.MaxPooling2D((2, 2), padding='same')(x)\n",
    "x = layers.Conv2D(32, (3, 3), activation='relu', padding='same')(x)\n",
    "encoded = layers.MaxPooling2D((2, 2), padding='same')(x)\n",
    "\n",
    "# At this point the representation is (7, 7, 32)\n",
    "\n",
    "x = layers.Conv2D(32, (3, 3), activation='relu', padding='same')(encoded)\n",
    "x = layers.UpSampling2D((2, 2))(x)\n",
    "x = layers.Conv2D(32, (3, 3), activation='relu', padding='same')(x)\n",
    "x = layers.UpSampling2D((2, 2))(x)\n",
    "decoded = layers.Conv2D(1, (3, 3), activation='sigmoid', padding='same')(x)\n",
    "\n",
    "autoencoder = keras.Model(input_img, decoded)\n",
    "autoencoder.compile(optimizer='adam', loss='binary_crossentropy')\n",
    "\n",
    "\n",
    "autoencoder.fit(x_train_noisy, x_train,\n",
    "                epochs=100,\n",
    "                batch_size=128,\n",
    "                shuffle=True,\n",
    "                validation_data=(x_test_noisy, x_test),\n",
    "                callbacks=[TensorBoard(log_dir='/tmp/tb', histogram_freq=0, write_graph=False)])\n"
   ]
  }
 ],
 "metadata": {
  "kernelspec": {
   "display_name": "Python 3",
   "language": "python",
   "name": "python3"
  },
  "language_info": {
   "codemirror_mode": {
    "name": "ipython",
    "version": 3
   },
   "file_extension": ".py",
   "mimetype": "text/x-python",
   "name": "python",
   "nbconvert_exporter": "python",
   "pygments_lexer": "ipython3",
   "version": "3.8.3"
  }
 },
 "nbformat": 4,
 "nbformat_minor": 4
}
