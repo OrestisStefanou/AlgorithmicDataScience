{
  "nbformat": 4,
  "nbformat_minor": 0,
  "metadata": {
    "kernelspec": {
      "display_name": "Python 3",
      "language": "python",
      "name": "python3"
    },
    "language_info": {
      "codemirror_mode": {
        "name": "ipython",
        "version": 3
      },
      "file_extension": ".py",
      "mimetype": "text/x-python",
      "name": "python",
      "nbconvert_exporter": "python",
      "pygments_lexer": "ipython3",
      "version": "3.8.3"
    },
    "colab": {
      "name": "Untitled1.ipynb",
      "provenance": [],
      "toc_visible": true
    },
    "accelerator": "GPU"
  },
  "cells": [
    {
      "cell_type": "markdown",
      "metadata": {
        "id": "rs7PuA8iHro0"
      },
      "source": [
        "# Autoencoder as a Classifier using Fashion-MNIST Dataset"
      ]
    },
    {
      "cell_type": "markdown",
      "metadata": {
        "id": "-l7o39HTHro4"
      },
      "source": [
        "## Tous kodikes en tous etrexa giati itan na pari para polli ora.Apoti ekatalava en oti zita stin ergasia pano kato.To dataset en polla paromoio ara en nomizo na xriasti na allaksoume je polla "
      ]
    },
    {
      "cell_type": "markdown",
      "metadata": {
        "id": "P58-O9moHro7"
      },
      "source": [
        "Import necessary libraries"
      ]
    },
    {
      "cell_type": "code",
      "metadata": {
        "id": "J3gbZdYNHro9",
        "outputId": "3ab4fd14-4800-452c-f9fd-0edbd9de29c3",
        "colab": {
          "base_uri": "https://localhost:8080/"
        }
      },
      "source": [
        "from google.colab import drive\n",
        "drive.mount('/content/drive')\n",
        "import keras\n",
        "from matplotlib import pyplot as plt\n",
        "import numpy as np\n",
        "import gzip\n",
        "%matplotlib inline\n",
        "from keras.models import Model\n",
        "from keras.optimizers import RMSprop\n",
        "from keras.layers import Input,Dense,Flatten,Dropout,merge,Reshape,Conv2D,MaxPooling2D,UpSampling2D,Conv2DTranspose\n",
        "from keras.layers.normalization import BatchNormalization\n",
        "from keras.models import Model,Sequential\n",
        "from keras.callbacks import ModelCheckpoint\n",
        "from keras.optimizers import Adadelta, RMSprop,SGD,Adam\n",
        "from keras import regularizers\n",
        "from keras import backend as K\n",
        "from keras.utils import to_categorical"
      ],
      "execution_count": 1,
      "outputs": [
        {
          "output_type": "stream",
          "text": [
            "Mounted at /content/drive\n"
          ],
          "name": "stdout"
        }
      ]
    },
    {
      "cell_type": "markdown",
      "metadata": {
        "id": "PyuxiNYMHrpO"
      },
      "source": [
        "Function to read the data"
      ]
    },
    {
      "cell_type": "code",
      "metadata": {
        "id": "_sKptFtmHrpQ"
      },
      "source": [
        "def extract_data(filename, num_images):\n",
        "    with gzip.open(filename) as bytestream:\n",
        "        bytestream.read(16)\n",
        "        buf = bytestream.read(28 * 28 * num_images)\n",
        "        data = np.frombuffer(buf, dtype=np.uint8).astype(np.float32)\n",
        "        data = data.reshape(num_images, 28,28)\n",
        "        return data\n"
      ],
      "execution_count": 2,
      "outputs": []
    },
    {
      "cell_type": "code",
      "metadata": {
        "id": "gTYuUPDeHrpY"
      },
      "source": [
        "train_data = extract_data('/content/train-images-idx3-ubyte.gz',60000)\n",
        "test_data = extract_data('/content/t10k-images-idx3-ubyte.gz', 10000)"
      ],
      "execution_count": 3,
      "outputs": []
    },
    {
      "cell_type": "markdown",
      "metadata": {
        "id": "NZtzdxg1Hrph"
      },
      "source": [
        "Function to read labels"
      ]
    },
    {
      "cell_type": "code",
      "metadata": {
        "id": "v05ZippzHrpi"
      },
      "source": [
        "def extract_labels(filename, num_images):\n",
        "    with gzip.open(filename) as bytestream:\n",
        "        bytestream.read(8)\n",
        "        buf = bytestream.read(1 * num_images)\n",
        "        labels = np.frombuffer(buf, dtype=np.uint8).astype(np.int64)\n",
        "        return labels"
      ],
      "execution_count": 4,
      "outputs": []
    },
    {
      "cell_type": "code",
      "metadata": {
        "id": "OFRwx93NHrpq"
      },
      "source": [
        "train_labels = extract_labels('/content/train-labels-idx1-ubyte.gz',60000)\n",
        "test_labels = extract_labels('/content/t10k-labels-idx1-ubyte.gz',10000)"
      ],
      "execution_count": 5,
      "outputs": []
    },
    {
      "cell_type": "markdown",
      "metadata": {
        "id": "ghiZiXaZHrpz"
      },
      "source": [
        "Data Exploration\n",
        "\n",
        "Let's now analyze how images in the dataset look like and also see the dimension of the images with the help of the NumPy array attribute .shape:"
      ]
    },
    {
      "cell_type": "code",
      "metadata": {
        "id": "yH-uVRUoHrp1",
        "outputId": "9dbb679b-8d57-4bc4-a366-49ea74d4ff35",
        "colab": {
          "base_uri": "https://localhost:8080/"
        }
      },
      "source": [
        "# Shapes of training set\n",
        "print(\"Training set (images) shape: {shape}\".format(shape=train_data.shape))\n",
        "\n",
        "# Shapes of test set\n",
        "print(\"Test set (images) shape: {shape}\".format(shape=test_data.shape))"
      ],
      "execution_count": 6,
      "outputs": [
        {
          "output_type": "stream",
          "text": [
            "Training set (images) shape: (60000, 28, 28)\n",
            "Test set (images) shape: (10000, 28, 28)\n"
          ],
          "name": "stdout"
        }
      ]
    },
    {
      "cell_type": "markdown",
      "metadata": {
        "id": "dWhd5zBXHrp9"
      },
      "source": [
        "From the above output, you can see that the training data has a shape of 60000 x 28 x 28 since there are 60,000 training samples each of 28 x 28 dimensional matrix. Similarly, the test data has a shape of 10000 x 28 x 28 since there are 10,000 testing samples.\n",
        "\n",
        "Note that in the task of reconstructing using convolutional autoencoder you won't need training and testing labels. Your training images will both act as the input as well as the ground truth similar to the labels you have in classification task.\n",
        "\n",
        "But for the classification task you will also need your labels along with the images which you will be doing later on in the tutorial. Even though the task at hand will only be dealing with the training and testing images. However, for exploration purposes, which might give you a better intuition about the data, you'll make use of the labels.\n",
        "\n",
        "Let's create a dictionary that will have class names with their corresponding categorical class labels:"
      ]
    },
    {
      "cell_type": "code",
      "metadata": {
        "id": "SC8HjN3hHrp_"
      },
      "source": [
        "# Create dictionary of target classes\n",
        "label_dict = {\n",
        " 0: '0',\n",
        " 1: '1',\n",
        " 2: '2',\n",
        " 3: '3',\n",
        " 4: '4',\n",
        " 5: '5',\n",
        " 6: '6',\n",
        " 7: '7',\n",
        " 8: '8',\n",
        " 9: '9',\n",
        "}"
      ],
      "execution_count": 7,
      "outputs": []
    },
    {
      "cell_type": "markdown",
      "metadata": {
        "id": "CoS6JSU3HrqE"
      },
      "source": [
        "Now, let's take a look at a couple of the images in your dataset:"
      ]
    },
    {
      "cell_type": "code",
      "metadata": {
        "id": "t6_Gv88UHrqF",
        "outputId": "982273fc-4236-47e9-9251-63cdefa80d33",
        "colab": {
          "base_uri": "https://localhost:8080/",
          "height": 208
        }
      },
      "source": [
        "plt.figure(figsize=[5,5])\n",
        "\n",
        "# Display the first image in training data\n",
        "plt.subplot(121)\n",
        "curr_img = np.reshape(train_data[10], (28,28))\n",
        "curr_lbl = train_labels[10]\n",
        "plt.imshow(curr_img, cmap='gray')\n",
        "plt.title(\"(Label: \" + str(label_dict[curr_lbl]) + \")\")\n",
        "\n",
        "# Display the first image in testing data\n",
        "plt.subplot(122)\n",
        "curr_img = np.reshape(test_data[10], (28,28))\n",
        "curr_lbl = test_labels[10]\n",
        "plt.imshow(curr_img, cmap='gray')\n",
        "plt.title(\"(Label: \" + str(label_dict[curr_lbl]) + \")\")\n"
      ],
      "execution_count": 8,
      "outputs": [
        {
          "output_type": "execute_result",
          "data": {
            "text/plain": [
              "Text(0.5, 1.0, '(Label: 0)')"
            ]
          },
          "metadata": {
            "tags": []
          },
          "execution_count": 8
        },
        {
          "output_type": "display_data",
          "data": {
            "image/png": "[encoded data removed]",
            "text/plain": [
              "<Figure size 360x360 with 2 Axes>"
            ]
          },
          "metadata": {
            "tags": [],
            "needs_background": "light"
          }
        }
      ]
    },
    {
      "cell_type": "markdown",
      "metadata": {
        "id": "_LvxONdVHrqN"
      },
      "source": [
        "Data Preprocessing\n",
        "\n",
        "The images of the dataset are indeed grayscale images with pixel values ranging from 0 to 255 with a dimension of 28 x 28, so before we feed the data into the model, it is very important to preprocess it. You'll first convert each 28 x 28 image of train and test set into a matrix of size 28 x 28 x 1, which you can feed into the network:"
      ]
    },
    {
      "cell_type": "code",
      "metadata": {
        "id": "k8WvDha0HrqO",
        "outputId": "0e8f7ddb-d4fd-4ecd-a279-0841391f0b9e",
        "colab": {
          "base_uri": "https://localhost:8080/"
        }
      },
      "source": [
        "train_data = train_data.reshape(-1, 28,28, 1)\n",
        "test_data = test_data.reshape(-1, 28,28, 1)\n",
        "train_data.shape, test_data.shape"
      ],
      "execution_count": 9,
      "outputs": [
        {
          "output_type": "execute_result",
          "data": {
            "text/plain": [
              "((60000, 28, 28, 1), (10000, 28, 28, 1))"
            ]
          },
          "metadata": {
            "tags": []
          },
          "execution_count": 9
        }
      ]
    },
    {
      "cell_type": "markdown",
      "metadata": {
        "id": "K1zNEOnHHrqU"
      },
      "source": [
        "Next, rescale the training and testing data with the maximum pixel value of the training and testing data:"
      ]
    },
    {
      "cell_type": "code",
      "metadata": {
        "id": "pm_-jJ1uHrqV"
      },
      "source": [
        "train_data = train_data / np.max(train_data)\n",
        "test_data = test_data / np.max(test_data)"
      ],
      "execution_count": 10,
      "outputs": []
    },
    {
      "cell_type": "markdown",
      "metadata": {
        "id": "IQhp-e22Hrqb"
      },
      "source": [
        "After all of this, it's important to partition the data. In order for our model to generalize well, you split the training data into two parts: a training and a validation set. You will train your model on 80% of the data and validate it on 20% of the remaining training data.\n",
        "\n",
        "This will also help you in reducing the chances of overfitting, as you will be validating your model on data it would not have seen in the training phase.\n",
        "\n",
        "You can use the train_test_split module of scikit-learn to divide the data properly:\n",
        "\n"
      ]
    },
    {
      "cell_type": "code",
      "metadata": {
        "id": "xpef6L4jHrqc"
      },
      "source": [
        "from sklearn.model_selection import train_test_split\n",
        "train_X,valid_X,train_ground,valid_ground = train_test_split(train_data,\n",
        "                                                             train_data,\n",
        "                                                             test_size=0.2,\n",
        "                                                             random_state=13)"
      ],
      "execution_count": 11,
      "outputs": []
    },
    {
      "cell_type": "markdown",
      "metadata": {
        "id": "a92LKL-EHrqk"
      },
      "source": [
        "Note: You will be using the above data splitting twice, once for the task of reconstructing using convolutional autoencoder for which you don't need training and testing labels. That's why you will pass the training images twice. Your training images will both act as the input as well as the ground truth similar to the labels you have in the classification task.\n",
        "\n",
        "But for the classification task, you will also pass your labels along with the images which you will be doing later on in the tutorial.\n",
        "\n",
        "Now you are all set to define the network and feed the data into the network. So without any further ado, let's jump to the next step!"
      ]
    },
    {
      "cell_type": "markdown",
      "metadata": {
        "id": "ItdH2aMAHrql"
      },
      "source": [
        "## The Convolutional Autoencoder"
      ]
    },
    {
      "cell_type": "markdown",
      "metadata": {
        "id": "inSDc0D_Hrqm"
      },
      "source": [
        "The images are of size 28 x 28 x 1 or a 30976-dimensional vector. You convert the image matrix to an array, rescale it between 0 and 1, reshape it so that it's of size 28 x 28 x 1, and feed this as an input to the network.\n",
        "\n",
        "Also, you will use a batch size of 128 using a higher batch size of 256 or 512 is also preferable it all depends on the system you train your model. It contributes heavily in determining the learning parameters and affects the prediction accuracy."
      ]
    },
    {
      "cell_type": "code",
      "metadata": {
        "id": "AVk7XldTHrqm"
      },
      "source": [
        "batch_size = 128\n",
        "epochs = 50\n",
        "inChannel = 1\n",
        "x, y = 28, 28\n",
        "input_img = Input(shape = (x, y, inChannel))\n",
        "num_classes = 10"
      ],
      "execution_count": 12,
      "outputs": []
    },
    {
      "cell_type": "markdown",
      "metadata": {
        "id": "mla3RAtsHrqs"
      },
      "source": [
        "As you might already know well before, the autoencoder is divided into two parts: there's an encoder and a decoder.\n",
        "\n",
        "Encoder: It has 4 Convolution blocks, each block has a convolution layer followed by a batch normalization layer. Max-pooling layer is used after the first and second convolution blocks.\n",
        "\n",
        "    The first convolution block will have 32 filters of size 3 x 3, followed by a downsampling (max-pooling) layer,\n",
        "    The second block will have 64 filters of size 3 x 3, followed by another downsampling layer,\n",
        "    The third block of encoder will have 128 filters of size 3 x 3,\n",
        "    The fourth block of encoder will have 256 filters of size 3 x 3.\n",
        "\n",
        "Decoder: It has 3 Convolution blocks, each block has a convolution layer followed by a batch normalization layer. Upsampling layer is used after the second and third convolution blocks.\n",
        "\n",
        "    The first block will have 128 filters of size 3 x 3,\n",
        "    The second block will have 64 filters of size 3 x 3 followed by another upsampling layer,\n",
        "    The third block will have 32 filters of size 3 x 3 followed by another upsampling layer,\n",
        "    The final layer of encoder will have 1 filter of size 3 x 3 which will reconstruct back the input having a single channel.\n",
        "\n",
        "The max-pooling layer will downsample the input by two times each time you use it, while the upsampling layer will upsample the input by two times each time it is used.\n",
        "\n",
        "Note: The number of filters, the filter size, the number of layers, number of epochs you train your model, are all hyperparameters and should be decided based on your own intuition, you are free to try new experiments by tweaking with these hyperparameters and measure the performance of your model. And that is how you will slowly learn the art of deep learning!\n",
        "\n",
        "Let's create separate encoder and decoder functions since you will be using encoder weights later on for classification purpose!"
      ]
    },
    {
      "cell_type": "code",
      "metadata": {
        "id": "N_20Us2MHrqt"
      },
      "source": [
        "def encoder(input_img):\n",
        "    #encoder\n",
        "    #input = 28 x 28 x 1 (wide and thin)\n",
        "    conv1 = Conv2D(32, (3, 3), activation='softmax', padding='same')(input_img) #28 x 28 x 32\n",
        "    conv1 = BatchNormalization()(conv1)\n",
        "    conv1 = Conv2D(32, (3, 3), activation='softmax', padding='same')(conv1)\n",
        "    conv1 = BatchNormalization()(conv1)\n",
        "    pool1 = MaxPooling2D(pool_size=(2, 2))(conv1) #14 x 14 x 32\n",
        "    conv2 = Conv2D(64, (3, 3), activation='softmax', padding='same')(pool1) #14 x 14 x 64\n",
        "    conv2 = BatchNormalization()(conv2)\n",
        "    conv2 = Conv2D(64, (3, 3), activation='softmax', padding='same')(conv2)\n",
        "    conv2 = BatchNormalization()(conv2)\n",
        "    pool2 = MaxPooling2D(pool_size=(2, 2))(conv2) #7 x 7 x 64\n",
        "    conv3 = Conv2D(128, (3, 3), activation='softmax', padding='same')(pool2) #7 x 7 x 128 (small and thick)\n",
        "    conv3 = BatchNormalization()(conv3)\n",
        "    conv3 = Conv2D(128, (3, 3), activation='softmax', padding='same')(conv3)\n",
        "    conv3 = BatchNormalization()(conv3)\n",
        "    conv4 = Conv2D(256, (3, 3), activation='softmax', padding='same')(conv3) #7 x 7 x 256 (small and thick)\n",
        "    conv4 = BatchNormalization()(conv4)\n",
        "    conv4 = Conv2D(256, (3, 3), activation='softmax', padding='same')(conv4)\n",
        "    conv4 = BatchNormalization()(conv4)\n",
        "    return conv4\n",
        "\n",
        "def decoder(conv4):    \n",
        "    #decoder\n",
        "    conv5 = Conv2D(256, (3, 3), activation='softmax', padding='same')(conv4) #7 x 7 x 128\n",
        "    conv5 = BatchNormalization()(conv5)\n",
        "    conv5 = Conv2D(256, (3, 3), activation='softmax', padding='same')(conv5)\n",
        "    conv5 = BatchNormalization()(conv5)\n",
        "    conv6 = Conv2D(128, (3, 3), activation='softmax', padding='same')(conv5) #7 x 7 x 64\n",
        "    conv6 = BatchNormalization()(conv6)\n",
        "    conv6 = Conv2D(128, (3, 3), activation='softmax', padding='same')(conv6)\n",
        "    conv6 = BatchNormalization()(conv6)\n",
        "    up1 = UpSampling2D((2,2))(conv6) #14 x 14 x 64\n",
        "    conv7 = Conv2D(64, (3, 3), activation='softmax', padding='same')(up1) # 14 x 14 x 32\n",
        "    conv7 = BatchNormalization()(conv7)\n",
        "    conv7 = Conv2D(64, (3, 3), activation='softmax', padding='same')(conv7)\n",
        "    conv7 = BatchNormalization()(conv7)\n",
        "    \n",
        "    up2 = UpSampling2D((2,2))(conv7) # 28 x 28 x 32\n",
        "    decoded = Conv2D(1, (3, 3), activation='sigmoid', padding='same')(up2) # 28 x 28 x 1\n",
        "    return decoded"
      ],
      "execution_count": null,
      "outputs": []
    },
    {
      "cell_type": "code",
      "metadata": {
        "id": "iTGFAJTNexNv"
      },
      "source": [
        "def encoder(input_img):\n",
        "    #encoder\n",
        "    #input = 28 x 28 x 1 (wide and thin)\n",
        "    conv1 = Conv2D(32, (3, 3), activation='softmax', padding='same')(input_img) #28 x 28 x 32\n",
        "    conv1 = BatchNormalization()(conv1)\n",
        "    conv1 = Conv2D(32, (3, 3), activation='softmax', padding='same')(conv1)\n",
        "    conv1 = BatchNormalization()(conv1)\n",
        "    pool1 = MaxPooling2D(pool_size=(2, 2))(conv1) #14 x 14 x 32\n",
        "    conv2 = Conv2D(64, (3, 3), activation='softmax', padding='same')(pool1) #14 x 14 x 64\n",
        "    conv2 = BatchNormalization()(conv2)\n",
        "    conv2 = Conv2D(64, (3, 3), activation='softmax', padding='same')(conv2)\n",
        "    conv2 = BatchNormalization()(conv2)\n",
        "    pool2 = MaxPooling2D(pool_size=(2, 2))(conv2) #7 x 7 x 64\n",
        "    conv3 = Conv2D(128, (3, 3), activation='softmax', padding='same')(pool2) #7 x 7 x 128 (small and thick)\n",
        "    conv3 = BatchNormalization()(conv3)\n",
        "    conv3 = Conv2D(128, (3, 3), activation='softmax', padding='same')(conv3)\n",
        "    conv3 = BatchNormalization()(conv3)\n",
        "    conv4 = Conv2D(256, (3, 3), activation='softmax', padding='same')(conv3) #7 x 7 x 256 (small and thick)\n",
        "    conv4 = BatchNormalization()(conv4)\n",
        "    conv4 = Conv2D(256, (3, 3), activation='softmax', padding='same')(conv4)\n",
        "    conv4 = BatchNormalization()(conv4)\n",
        "    return conv4\n",
        "\n",
        "def decoder(conv4):    \n",
        "    #decoder\n",
        "    conv5 = Conv2D(256, (3, 3), activation='softmax', padding='same')(conv4) #7 x 7 x 128\n",
        "    conv5 = BatchNormalization()(conv5)\n",
        "    conv5 = Conv2D(256, (3, 3), activation='softmax', padding='same')(conv5)\n",
        "    conv5 = BatchNormalization()(conv5)\n",
        "    conv6 = Conv2D(128, (3, 3), activation='softmax', padding='same')(conv5) #7 x 7 x 64\n",
        "    conv6 = BatchNormalization()(conv6)\n",
        "    conv6 = Conv2D(128, (3, 3), activation='softmax', padding='same')(conv6)\n",
        "    conv6 = BatchNormalization()(conv6)\n",
        "    up1 = UpSampling2D((2,2))(conv6) #14 x 14 x 64\n",
        "    conv7 = Conv2D(64, (3, 3), activation='softmax', padding='same')(up1) # 14 x 14 x 32\n",
        "    conv7 = BatchNormalization()(conv7)\n",
        "    conv7 = Conv2D(64, (3, 3), activation='softmax', padding='same')(conv7)\n",
        "    conv7 = BatchNormalization()(conv7)\n",
        "    conv8 = Conv2D(32, (3, 3), activation='softmax', padding='same')(up1) # 14 x 14 x 32\n",
        "    conv8 = BatchNormalization()(conv8)\n",
        "    conv8 = Conv2D(32, (3, 3), activation='softmax', padding='same')(conv8)\n",
        "    conv8 = BatchNormalization()(conv8)\n",
        "    up2 = UpSampling2D((2,2))(conv8) # 28 x 28 x 32\n",
        "    decoded = Conv2D(1, (3, 3), activation='sigmoid', padding='same')(up2) # 28 x 28 x 1\n",
        "    return decoded"
      ],
      "execution_count": 13,
      "outputs": []
    },
    {
      "cell_type": "markdown",
      "metadata": {
        "id": "yHqPp80FHrqy"
      },
      "source": [
        "After the model is created, you have to compile it using the optimizer to be RMSProp.\n",
        "\n",
        "Note that you also have to specify the loss type via the argument loss. In this case, that's the mean squared error, since the loss after every batch will be computed between the batch of predicted output and the ground truth using mean squared error pixel by pixel:"
      ]
    },
    {
      "cell_type": "code",
      "metadata": {
        "id": "OQ9tnEf0Hrqz"
      },
      "source": [
        "autoencoder = Model(input_img, decoder(encoder(input_img)))\n",
        "autoencoder.compile(loss='mean_squared_error', optimizer = RMSprop())"
      ],
      "execution_count": 14,
      "outputs": []
    },
    {
      "cell_type": "markdown",
      "metadata": {
        "id": "m1hdlUsKHrq4"
      },
      "source": [
        "Let's visualize the layers that you created in the above step by using the summary function. This will show a number of parameters (weights and biases) in each layer and also the total parameters in your model."
      ]
    },
    {
      "cell_type": "code",
      "metadata": {
        "id": "Y8sd-XndHrq5",
        "outputId": "13e1ea14-a281-49de-cbaf-12609ffc30d3",
        "colab": {
          "base_uri": "https://localhost:8080/"
        }
      },
      "source": [
        "autoencoder.summary()"
      ],
      "execution_count": 15,
      "outputs": [
        {
          "output_type": "stream",
          "text": [
            "Model: \"functional_1\"\n",
            "_________________________________________________________________\n",
            "Layer (type)                 Output Shape              Param #   \n",
            "=================================================================\n",
            "input_1 (InputLayer)         [(None, 28, 28, 1)]       0         \n",
            "_________________________________________________________________\n",
            "conv2d (Conv2D)              (None, 28, 28, 32)        320       \n",
            "_________________________________________________________________\n",
            "batch_normalization (BatchNo (None, 28, 28, 32)        128       \n",
            "_________________________________________________________________\n",
            "conv2d_1 (Conv2D)            (None, 28, 28, 32)        9248      \n",
            "_________________________________________________________________\n",
            "batch_normalization_1 (Batch (None, 28, 28, 32)        128       \n",
            "_________________________________________________________________\n",
            "max_pooling2d (MaxPooling2D) (None, 14, 14, 32)        0         \n",
            "_________________________________________________________________\n",
            "conv2d_2 (Conv2D)            (None, 14, 14, 64)        18496     \n",
            "_________________________________________________________________\n",
            "batch_normalization_2 (Batch (None, 14, 14, 64)        256       \n",
            "_________________________________________________________________\n",
            "conv2d_3 (Conv2D)            (None, 14, 14, 64)        36928     \n",
            "_________________________________________________________________\n",
            "batch_normalization_3 (Batch (None, 14, 14, 64)        256       \n",
            "_________________________________________________________________\n",
            "max_pooling2d_1 (MaxPooling2 (None, 7, 7, 64)          0         \n",
            "_________________________________________________________________\n",
            "conv2d_4 (Conv2D)            (None, 7, 7, 128)         73856     \n",
            "_________________________________________________________________\n",
            "batch_normalization_4 (Batch (None, 7, 7, 128)         512       \n",
            "_________________________________________________________________\n",
            "conv2d_5 (Conv2D)            (None, 7, 7, 128)         147584    \n",
            "_________________________________________________________________\n",
            "batch_normalization_5 (Batch (None, 7, 7, 128)         512       \n",
            "_________________________________________________________________\n",
            "conv2d_6 (Conv2D)            (None, 7, 7, 256)         295168    \n",
            "_________________________________________________________________\n",
            "batch_normalization_6 (Batch (None, 7, 7, 256)         1024      \n",
            "_________________________________________________________________\n",
            "conv2d_7 (Conv2D)            (None, 7, 7, 256)         590080    \n",
            "_________________________________________________________________\n",
            "batch_normalization_7 (Batch (None, 7, 7, 256)         1024      \n",
            "_________________________________________________________________\n",
            "conv2d_8 (Conv2D)            (None, 7, 7, 256)         590080    \n",
            "_________________________________________________________________\n",
            "batch_normalization_8 (Batch (None, 7, 7, 256)         1024      \n",
            "_________________________________________________________________\n",
            "conv2d_9 (Conv2D)            (None, 7, 7, 256)         590080    \n",
            "_________________________________________________________________\n",
            "batch_normalization_9 (Batch (None, 7, 7, 256)         1024      \n",
            "_________________________________________________________________\n",
            "conv2d_10 (Conv2D)           (None, 7, 7, 128)         295040    \n",
            "_________________________________________________________________\n",
            "batch_normalization_10 (Batc (None, 7, 7, 128)         512       \n",
            "_________________________________________________________________\n",
            "conv2d_11 (Conv2D)           (None, 7, 7, 128)         147584    \n",
            "_________________________________________________________________\n",
            "batch_normalization_11 (Batc (None, 7, 7, 128)         512       \n",
            "_________________________________________________________________\n",
            "up_sampling2d (UpSampling2D) (None, 14, 14, 128)       0         \n",
            "_________________________________________________________________\n",
            "conv2d_14 (Conv2D)           (None, 14, 14, 32)        36896     \n",
            "_________________________________________________________________\n",
            "batch_normalization_14 (Batc (None, 14, 14, 32)        128       \n",
            "_________________________________________________________________\n",
            "conv2d_15 (Conv2D)           (None, 14, 14, 32)        9248      \n",
            "_________________________________________________________________\n",
            "batch_normalization_15 (Batc (None, 14, 14, 32)        128       \n",
            "_________________________________________________________________\n",
            "up_sampling2d_1 (UpSampling2 (None, 28, 28, 32)        0         \n",
            "_________________________________________________________________\n",
            "conv2d_16 (Conv2D)           (None, 28, 28, 1)         289       \n",
            "=================================================================\n",
            "Total params: 2,848,065\n",
            "Trainable params: 2,844,481\n",
            "Non-trainable params: 3,584\n",
            "_________________________________________________________________\n"
          ],
          "name": "stdout"
        }
      ]
    },
    {
      "cell_type": "markdown",
      "metadata": {
        "id": "IIdLZ53JHrq_"
      },
      "source": [
        "It's finally time to train the model with Keras' fit() function! The model trains for 200 epochs. The fit() function will return a history object; By storing the result of this function in autoencoder_train, you can use it later to plot the loss function plot between training and validation which will help you to analyze your model's performance visually."
      ]
    },
    {
      "cell_type": "code",
      "metadata": {
        "id": "tscKaXx8HrrA",
        "outputId": "6a8b3887-2cf3-4cf4-f651-03af40d322d8",
        "colab": {
          "base_uri": "https://localhost:8080/"
        }
      },
      "source": [
        "autoencoder_train = autoencoder.fit(train_X, train_ground, batch_size=batch_size,epochs=epochs,verbose=1,validation_data=(valid_X, valid_ground))"
      ],
      "execution_count": 16,
      "outputs": [
        {
          "output_type": "stream",
          "text": [
            "Epoch 1/50\n",
            "  1/375 [..............................] - ETA: 0s - loss: 0.2317WARNING:tensorflow:Callbacks method `on_train_batch_end` is slow compared to the batch time (batch time: 0.0146s vs `on_train_batch_end` time: 0.0337s). Check your callbacks.\n",
            "375/375 [==============================] - 20s 54ms/step - loss: 0.0544 - val_loss: 0.1069\n",
            "Epoch 2/50\n",
            "375/375 [==============================] - 20s 53ms/step - loss: 0.0162 - val_loss: 0.0808\n",
            "Epoch 3/50\n",
            "375/375 [==============================] - 20s 54ms/step - loss: 0.0088 - val_loss: 0.0110\n",
            "Epoch 4/50\n",
            "375/375 [==============================] - 21s 56ms/step - loss: 0.0062 - val_loss: 0.0064\n",
            "Epoch 5/50\n",
            "375/375 [==============================] - 21s 55ms/step - loss: 0.0050 - val_loss: 0.0058\n",
            "Epoch 6/50\n",
            "375/375 [==============================] - 21s 55ms/step - loss: 0.0042 - val_loss: 0.0043\n",
            "Epoch 7/50\n",
            "375/375 [==============================] - 21s 55ms/step - loss: 0.0037 - val_loss: 0.0042\n",
            "Epoch 8/50\n",
            "375/375 [==============================] - 21s 55ms/step - loss: 0.0034 - val_loss: 0.0034\n",
            "Epoch 9/50\n",
            "375/375 [==============================] - 21s 55ms/step - loss: 0.0030 - val_loss: 0.0030\n",
            "Epoch 10/50\n",
            "375/375 [==============================] - 21s 55ms/step - loss: 0.0028 - val_loss: 0.0027\n",
            "Epoch 11/50\n",
            "375/375 [==============================] - 21s 55ms/step - loss: 0.0026 - val_loss: 0.0050\n",
            "Epoch 12/50\n",
            "375/375 [==============================] - 21s 55ms/step - loss: 0.0025 - val_loss: 0.0030\n",
            "Epoch 13/50\n",
            "375/375 [==============================] - 21s 56ms/step - loss: 0.0023 - val_loss: 0.0022\n",
            "Epoch 14/50\n",
            "375/375 [==============================] - 21s 55ms/step - loss: 0.0022 - val_loss: 0.0021\n",
            "Epoch 15/50\n",
            "375/375 [==============================] - 21s 55ms/step - loss: 0.0021 - val_loss: 0.0022\n",
            "Epoch 16/50\n",
            "375/375 [==============================] - 21s 56ms/step - loss: 0.0020 - val_loss: 0.0021\n",
            "Epoch 17/50\n",
            "375/375 [==============================] - 21s 56ms/step - loss: 0.0019 - val_loss: 0.0022\n",
            "Epoch 18/50\n",
            "375/375 [==============================] - 21s 55ms/step - loss: 0.0019 - val_loss: 0.0020\n",
            "Epoch 19/50\n",
            "375/375 [==============================] - 21s 55ms/step - loss: 0.0018 - val_loss: 0.0019\n",
            "Epoch 20/50\n",
            "375/375 [==============================] - 21s 56ms/step - loss: 0.0018 - val_loss: 0.0017\n",
            "Epoch 21/50\n",
            "375/375 [==============================] - 21s 55ms/step - loss: 0.0017 - val_loss: 0.0016\n",
            "Epoch 22/50\n",
            "375/375 [==============================] - 21s 55ms/step - loss: 0.0017 - val_loss: 0.0018\n",
            "Epoch 23/50\n",
            "375/375 [==============================] - 21s 55ms/step - loss: 0.0016 - val_loss: 0.0021\n",
            "Epoch 24/50\n",
            "375/375 [==============================] - 21s 56ms/step - loss: 0.0016 - val_loss: 0.0016\n",
            "Epoch 25/50\n",
            "375/375 [==============================] - 21s 56ms/step - loss: 0.0015 - val_loss: 0.0018\n",
            "Epoch 26/50\n",
            "375/375 [==============================] - 21s 56ms/step - loss: 0.0015 - val_loss: 0.0016\n",
            "Epoch 27/50\n",
            "375/375 [==============================] - 21s 56ms/step - loss: 0.0015 - val_loss: 0.0016\n",
            "Epoch 28/50\n",
            "375/375 [==============================] - 21s 56ms/step - loss: 0.0014 - val_loss: 0.0014\n",
            "Epoch 29/50\n",
            "375/375 [==============================] - 21s 55ms/step - loss: 0.0014 - val_loss: 0.0015\n",
            "Epoch 30/50\n",
            "375/375 [==============================] - 21s 56ms/step - loss: 0.0014 - val_loss: 0.0015\n",
            "Epoch 31/50\n",
            "375/375 [==============================] - 21s 55ms/step - loss: 0.0013 - val_loss: 0.0013\n",
            "Epoch 32/50\n",
            "375/375 [==============================] - 21s 55ms/step - loss: 0.0013 - val_loss: 0.0018\n",
            "Epoch 33/50\n",
            "375/375 [==============================] - 21s 55ms/step - loss: 0.0013 - val_loss: 0.0013\n",
            "Epoch 34/50\n",
            "375/375 [==============================] - 21s 55ms/step - loss: 0.0013 - val_loss: 0.0013\n",
            "Epoch 35/50\n",
            "375/375 [==============================] - 21s 55ms/step - loss: 0.0012 - val_loss: 0.0013\n",
            "Epoch 36/50\n",
            "375/375 [==============================] - 21s 55ms/step - loss: 0.0012 - val_loss: 0.0015\n",
            "Epoch 37/50\n",
            "375/375 [==============================] - 21s 55ms/step - loss: 0.0012 - val_loss: 0.0015\n",
            "Epoch 38/50\n",
            "375/375 [==============================] - 21s 55ms/step - loss: 0.0012 - val_loss: 0.0012\n",
            "Epoch 39/50\n",
            "375/375 [==============================] - 21s 55ms/step - loss: 0.0012 - val_loss: 0.0012\n",
            "Epoch 40/50\n",
            "375/375 [==============================] - 21s 55ms/step - loss: 0.0011 - val_loss: 0.0013\n",
            "Epoch 41/50\n",
            "375/375 [==============================] - 21s 55ms/step - loss: 0.0011 - val_loss: 0.0014\n",
            "Epoch 42/50\n",
            "375/375 [==============================] - 21s 55ms/step - loss: 0.0011 - val_loss: 0.0013\n",
            "Epoch 43/50\n",
            "375/375 [==============================] - 21s 55ms/step - loss: 0.0011 - val_loss: 0.0012\n",
            "Epoch 44/50\n",
            "375/375 [==============================] - 21s 55ms/step - loss: 0.0011 - val_loss: 0.0012\n",
            "Epoch 45/50\n",
            "375/375 [==============================] - 21s 55ms/step - loss: 0.0011 - val_loss: 0.0013\n",
            "Epoch 46/50\n",
            "375/375 [==============================] - 21s 55ms/step - loss: 0.0010 - val_loss: 0.0012\n",
            "Epoch 47/50\n",
            "375/375 [==============================] - 21s 55ms/step - loss: 0.0010 - val_loss: 0.0011\n",
            "Epoch 48/50\n",
            "375/375 [==============================] - 21s 55ms/step - loss: 0.0010 - val_loss: 0.0012\n",
            "Epoch 49/50\n",
            "375/375 [==============================] - 21s 55ms/step - loss: 0.0010 - val_loss: 0.0012\n",
            "Epoch 50/50\n",
            "375/375 [==============================] - 21s 55ms/step - loss: 9.8848e-04 - val_loss: 0.0011\n"
          ],
          "name": "stdout"
        }
      ]
    },
    {
      "cell_type": "markdown",
      "metadata": {
        "id": "JU1d7hHFHrrF"
      },
      "source": [
        "Now, let's plot the loss plot between training and validation data to visualize the model performance."
      ]
    },
    {
      "cell_type": "code",
      "metadata": {
        "id": "PQVQXgNOHrrG",
        "outputId": "c4734b7b-1e08-49f6-d60a-0d7eeb080226",
        "colab": {
          "base_uri": "https://localhost:8080/",
          "height": 281
        }
      },
      "source": [
        "loss = autoencoder_train.history['loss']\n",
        "val_loss = autoencoder_train.history['val_loss']\n",
        "epochs = range(50)\n",
        "plt.figure()\n",
        "plt.plot(epochs, loss, 'bo', label='Training loss')\n",
        "plt.plot(epochs, val_loss, 'b', label='Validation loss')\n",
        "plt.title('Training and validation loss')\n",
        "plt.legend()\n",
        "plt.show()"
      ],
      "execution_count": 17,
      "outputs": [
        {
          "output_type": "display_data",
          "data": {
            "image/png": "[encoded data removed]",
            "text/plain": [
              "<Figure size 432x288 with 1 Axes>"
            ]
          },
          "metadata": {
            "tags": [],
            "needs_background": "light"
          }
        }
      ]
    },
    {
      "cell_type": "markdown",
      "metadata": {
        "id": "E3lFxRdsHrrL"
      },
      "source": [
        "Save the Model\n",
        "\n",
        "Since you will need the encoder weights in your classification task, first let's save the complete autoencoder weights. You will learn how you can extract the encoder weights soon."
      ]
    },
    {
      "cell_type": "code",
      "metadata": {
        "id": "ZN7P1EyUHrrM"
      },
      "source": [
        "autoencoder.save_weights('autoencoder.h5')"
      ],
      "execution_count": 18,
      "outputs": []
    },
    {
      "cell_type": "markdown",
      "metadata": {
        "id": "FKFBe6EJHrrR"
      },
      "source": [
        "Segmenting the fashion mnist images\n",
        "\n",
        "Now you will be using the trained autoencoder's head, i.e., the encoder part and will be loading the weights of the autoencoder you just now trained but only in the encoder part of the model.\n",
        "\n",
        "You will add a few dense or fully connected layers to the encoder to classify fashion mnist images.\n",
        "\n",
        "    Let's first convert the labels into one-hot encoding vectors.\n",
        "\n",
        "    For those of you who do not know about one-hot encoding:\n",
        "\n",
        "    In one-hot encoding, you convert the categorical data into a vector of numbers. The reason why you convert the categorical data in one hot encoding is that machine learning algorithms cannot work with categorical data directly. You generate one boolean column for each category or class. Only one of these columns could take on the value 1 for each sample. Hence, the term one-hot encoding.\n",
        "\n",
        "    For your problem statement, the one hot encoding will be a row vector, and for each image, it will have a dimension of 1 x 10. The important thing to note here is that the vector consists of all zeros except for the class that it represents, and for that, it is 1.\n",
        "\n",
        "    So let's convert the labels into one-hot encoding vectors:"
      ]
    },
    {
      "cell_type": "code",
      "metadata": {
        "id": "3if_TZrhHrrW",
        "outputId": "f037e90e-8474-4cd0-c167-386d6316d000",
        "colab": {
          "base_uri": "https://localhost:8080/"
        }
      },
      "source": [
        "# Change the labels from categorical to one-hot encoding\n",
        "train_Y_one_hot = to_categorical(train_labels)\n",
        "test_Y_one_hot = to_categorical(test_labels)\n",
        "\n",
        "# Display the change for category label using one-hot encoding\n",
        "print('Original label:', train_labels[0])\n",
        "print('After conversion to one-hot:', train_Y_one_hot[0])\n"
      ],
      "execution_count": 19,
      "outputs": [
        {
          "output_type": "stream",
          "text": [
            "Original label: 5\n",
            "After conversion to one-hot: [0. 0. 0. 0. 0. 1. 0. 0. 0. 0.]\n"
          ],
          "name": "stdout"
        }
      ]
    },
    {
      "cell_type": "markdown",
      "metadata": {
        "id": "wn1R8PqjHrrb"
      },
      "source": [
        "This last step is a crucial one which you all have done before as well which is splitting the data into training and validation in the autoencoder training phase. So let's quickly do that step for classification as well. Note that you will use the same random state that you used before and also this time you will pass your labels as well that you just now converted into a one-hot encoding vector."
      ]
    },
    {
      "cell_type": "code",
      "metadata": {
        "id": "pwtoRDCmHrrc"
      },
      "source": [
        "train_X,valid_X,train_label,valid_label = train_test_split(train_data,train_Y_one_hot,test_size=0.2,random_state=13)"
      ],
      "execution_count": 20,
      "outputs": []
    },
    {
      "cell_type": "markdown",
      "metadata": {
        "id": "h8TZAddzHrrh"
      },
      "source": [
        "Now, let's define the classification model. Remember that you will be using the exact same encoder part as you used in the autoencoder architecture."
      ]
    },
    {
      "cell_type": "markdown",
      "metadata": {
        "id": "2aSdELMpHrri"
      },
      "source": [
        "Let's define the fully connected layers that you will be stacking up with the encoder function."
      ]
    },
    {
      "cell_type": "code",
      "metadata": {
        "id": "dLI5BFbpHrrj"
      },
      "source": [
        "def fc(enco):\n",
        "    flat = Flatten()(enco)\n",
        "    den = Dense(128, activation='relu')(flat)\n",
        "    out = Dense(num_classes, activation='softmax')(den)\n",
        "    return out"
      ],
      "execution_count": 21,
      "outputs": []
    },
    {
      "cell_type": "code",
      "metadata": {
        "id": "SxoBnwaHHrrn"
      },
      "source": [
        "encode = encoder(input_img)\n",
        "full_model = Model(input_img,fc(encode))\n",
        "\n",
        "for l1,l2 in zip(full_model.layers[:19],autoencoder.layers[0:19]):\n",
        "    l1.set_weights(l2.get_weights())"
      ],
      "execution_count": 22,
      "outputs": []
    },
    {
      "cell_type": "markdown",
      "metadata": {
        "id": "_PoZ5IYgHrrs"
      },
      "source": [
        "Note: The next step is pretty important. In order to be sure whether the weights of the encoder part of the autoencoder are similar to the weights you loaded to the encoder function of the classification model, you should always print any one of the same layers weights of both the models. If they are not similar, then there is no use in using the autoencoder classification strategy.\n",
        "\n",
        "Let's print first layer weights of both the models."
      ]
    },
    {
      "cell_type": "code",
      "metadata": {
        "id": "bt1ShGlPHrru",
        "outputId": "93ed10ae-10cb-4508-8baa-32feb46f3474",
        "colab": {
          "base_uri": "https://localhost:8080/"
        }
      },
      "source": [
        "autoencoder.get_weights()[0][1]"
      ],
      "execution_count": 23,
      "outputs": [
        {
          "output_type": "execute_result",
          "data": {
            "text/plain": [
              "array([[[ 0.10030662,  0.14408767, -0.18418685, -0.12103267,\n",
              "          0.11402343, -0.09211909,  0.05720856,  0.10474403,\n",
              "          0.09174339,  0.08183333,  0.11281944,  0.09508934,\n",
              "         -0.0202808 , -0.153699  , -0.17192288, -0.08246537,\n",
              "         -0.06110215,  0.00191131, -0.09489539, -0.23531395,\n",
              "         -0.15206139,  0.00695599,  0.03335456,  0.14157675,\n",
              "          0.08152024, -0.01993972,  0.03894357, -0.10355362,\n",
              "         -0.07772499,  0.03992429, -0.081973  ,  0.08117367]],\n",
              "\n",
              "       [[ 0.1390766 ,  0.44183406, -0.05470438, -0.02191919,\n",
              "         -0.01855418, -0.1265447 ,  0.20891204, -0.08654606,\n",
              "          0.09425019,  0.18238367, -0.18192314, -0.01167918,\n",
              "         -0.00502864,  0.1835405 , -0.14795405,  0.0023315 ,\n",
              "         -0.1180941 ,  0.11179401,  0.13641047, -0.16818158,\n",
              "         -0.00488878,  0.04383244,  0.1070331 , -0.17653954,\n",
              "          0.07336783,  0.04879885, -0.04311353, -0.08328187,\n",
              "          0.07253083,  0.07797199, -0.05897338, -0.21438102]],\n",
              "\n",
              "       [[-0.1697521 ,  0.27873808,  0.20824483, -0.1360882 ,\n",
              "         -0.1207082 ,  0.14363758,  0.1299314 , -0.10125829,\n",
              "         -0.1495605 , -0.03926564,  0.09721543, -0.13360089,\n",
              "          0.05133096, -0.01426856, -0.10664175, -0.3051164 ,\n",
              "          0.15725091,  0.06109058, -0.10770907,  0.16408366,\n",
              "          0.14188287, -0.04278142,  0.02856595, -0.00838511,\n",
              "          0.09159979,  0.06460294,  0.06157388, -0.23021716,\n",
              "          0.04384357, -0.06680958,  0.02015716,  0.07884401]]],\n",
              "      dtype=float32)"
            ]
          },
          "metadata": {
            "tags": []
          },
          "execution_count": 23
        }
      ]
    },
    {
      "cell_type": "code",
      "metadata": {
        "id": "khhne4sjHrrz",
        "outputId": "b2393b6a-5627-4323-8ddb-bbe01588fbdf",
        "colab": {
          "base_uri": "https://localhost:8080/"
        }
      },
      "source": [
        "full_model.get_weights()[0][1]"
      ],
      "execution_count": 24,
      "outputs": [
        {
          "output_type": "execute_result",
          "data": {
            "text/plain": [
              "array([[[ 0.10030662,  0.14408767, -0.18418685, -0.12103267,\n",
              "          0.11402343, -0.09211909,  0.05720856,  0.10474403,\n",
              "          0.09174339,  0.08183333,  0.11281944,  0.09508934,\n",
              "         -0.0202808 , -0.153699  , -0.17192288, -0.08246537,\n",
              "         -0.06110215,  0.00191131, -0.09489539, -0.23531395,\n",
              "         -0.15206139,  0.00695599,  0.03335456,  0.14157675,\n",
              "          0.08152024, -0.01993972,  0.03894357, -0.10355362,\n",
              "         -0.07772499,  0.03992429, -0.081973  ,  0.08117367]],\n",
              "\n",
              "       [[ 0.1390766 ,  0.44183406, -0.05470438, -0.02191919,\n",
              "         -0.01855418, -0.1265447 ,  0.20891204, -0.08654606,\n",
              "          0.09425019,  0.18238367, -0.18192314, -0.01167918,\n",
              "         -0.00502864,  0.1835405 , -0.14795405,  0.0023315 ,\n",
              "         -0.1180941 ,  0.11179401,  0.13641047, -0.16818158,\n",
              "         -0.00488878,  0.04383244,  0.1070331 , -0.17653954,\n",
              "          0.07336783,  0.04879885, -0.04311353, -0.08328187,\n",
              "          0.07253083,  0.07797199, -0.05897338, -0.21438102]],\n",
              "\n",
              "       [[-0.1697521 ,  0.27873808,  0.20824483, -0.1360882 ,\n",
              "         -0.1207082 ,  0.14363758,  0.1299314 , -0.10125829,\n",
              "         -0.1495605 , -0.03926564,  0.09721543, -0.13360089,\n",
              "          0.05133096, -0.01426856, -0.10664175, -0.3051164 ,\n",
              "          0.15725091,  0.06109058, -0.10770907,  0.16408366,\n",
              "          0.14188287, -0.04278142,  0.02856595, -0.00838511,\n",
              "          0.09159979,  0.06460294,  0.06157388, -0.23021716,\n",
              "          0.04384357, -0.06680958,  0.02015716,  0.07884401]]],\n",
              "      dtype=float32)"
            ]
          },
          "metadata": {
            "tags": []
          },
          "execution_count": 24
        }
      ]
    },
    {
      "cell_type": "markdown",
      "metadata": {
        "id": "X7nyf3mzHrr3"
      },
      "source": [
        "Voila! Both the arrays look exactly similar. So, without any further ado, let's compile the model and start the training.\n",
        "\n",
        "Next, you will make the encoder part i.e.the first nineteen layers of the model trainable false. Since the encoder part is already trained, you do not need to train it. You will only be training the Fully Connected part."
      ]
    },
    {
      "cell_type": "code",
      "metadata": {
        "id": "IQLzExNwHrr5"
      },
      "source": [
        "for layer in full_model.layers[0:19]:\n",
        "    layer.trainable = False\n"
      ],
      "execution_count": 25,
      "outputs": []
    },
    {
      "cell_type": "markdown",
      "metadata": {
        "id": "ksKSr2kcHrr-"
      },
      "source": [
        "Let's compile the model!"
      ]
    },
    {
      "cell_type": "code",
      "metadata": {
        "id": "PpeRquzjHrr_"
      },
      "source": [
        "full_model.compile(loss=keras.losses.categorical_crossentropy, optimizer=keras.optimizers.Adam(),metrics=['accuracy'])"
      ],
      "execution_count": 26,
      "outputs": []
    },
    {
      "cell_type": "markdown",
      "metadata": {
        "id": "_JagbFbNHrsE"
      },
      "source": [
        "Let's print the summary of the model as well. There should be non-trainable parameters as well since you made the first fifteen layers of the model non-trainable."
      ]
    },
    {
      "cell_type": "code",
      "metadata": {
        "id": "9eSKY9wgHrsE",
        "outputId": "fd7fa042-ecee-4d90-dc84-fee949b81e30",
        "colab": {
          "base_uri": "https://localhost:8080/"
        }
      },
      "source": [
        "full_model.summary()"
      ],
      "execution_count": 27,
      "outputs": [
        {
          "output_type": "stream",
          "text": [
            "Model: \"functional_3\"\n",
            "_________________________________________________________________\n",
            "Layer (type)                 Output Shape              Param #   \n",
            "=================================================================\n",
            "input_1 (InputLayer)         [(None, 28, 28, 1)]       0         \n",
            "_________________________________________________________________\n",
            "conv2d_17 (Conv2D)           (None, 28, 28, 32)        320       \n",
            "_________________________________________________________________\n",
            "batch_normalization_16 (Batc (None, 28, 28, 32)        128       \n",
            "_________________________________________________________________\n",
            "conv2d_18 (Conv2D)           (None, 28, 28, 32)        9248      \n",
            "_________________________________________________________________\n",
            "batch_normalization_17 (Batc (None, 28, 28, 32)        128       \n",
            "_________________________________________________________________\n",
            "max_pooling2d_2 (MaxPooling2 (None, 14, 14, 32)        0         \n",
            "_________________________________________________________________\n",
            "conv2d_19 (Conv2D)           (None, 14, 14, 64)        18496     \n",
            "_________________________________________________________________\n",
            "batch_normalization_18 (Batc (None, 14, 14, 64)        256       \n",
            "_________________________________________________________________\n",
            "conv2d_20 (Conv2D)           (None, 14, 14, 64)        36928     \n",
            "_________________________________________________________________\n",
            "batch_normalization_19 (Batc (None, 14, 14, 64)        256       \n",
            "_________________________________________________________________\n",
            "max_pooling2d_3 (MaxPooling2 (None, 7, 7, 64)          0         \n",
            "_________________________________________________________________\n",
            "conv2d_21 (Conv2D)           (None, 7, 7, 128)         73856     \n",
            "_________________________________________________________________\n",
            "batch_normalization_20 (Batc (None, 7, 7, 128)         512       \n",
            "_________________________________________________________________\n",
            "conv2d_22 (Conv2D)           (None, 7, 7, 128)         147584    \n",
            "_________________________________________________________________\n",
            "batch_normalization_21 (Batc (None, 7, 7, 128)         512       \n",
            "_________________________________________________________________\n",
            "conv2d_23 (Conv2D)           (None, 7, 7, 256)         295168    \n",
            "_________________________________________________________________\n",
            "batch_normalization_22 (Batc (None, 7, 7, 256)         1024      \n",
            "_________________________________________________________________\n",
            "conv2d_24 (Conv2D)           (None, 7, 7, 256)         590080    \n",
            "_________________________________________________________________\n",
            "batch_normalization_23 (Batc (None, 7, 7, 256)         1024      \n",
            "_________________________________________________________________\n",
            "flatten (Flatten)            (None, 12544)             0         \n",
            "_________________________________________________________________\n",
            "dense (Dense)                (None, 128)               1605760   \n",
            "_________________________________________________________________\n",
            "dense_1 (Dense)              (None, 10)                1290      \n",
            "=================================================================\n",
            "Total params: 2,782,570\n",
            "Trainable params: 1,607,050\n",
            "Non-trainable params: 1,175,520\n",
            "_________________________________________________________________\n"
          ],
          "name": "stdout"
        }
      ]
    },
    {
      "cell_type": "markdown",
      "metadata": {
        "id": "bVw-nVCWHrsK"
      },
      "source": [
        "Train the Model\n",
        "\n",
        "It's finally time to train the model with Keras' fit() function! The model trains for 10 epochs. The fit() function will return a history object; By storing the result of this function in fashion_train, you can use it later to plot the accuracy and loss function plots between training and validation which will help you to analyze your model's performance visually.\n",
        "\n"
      ]
    },
    {
      "cell_type": "code",
      "metadata": {
        "id": "5fEExuSjHrsL",
        "outputId": "39551e39-d216-4b8e-e583-9919b50a8172",
        "colab": {
          "base_uri": "https://localhost:8080/"
        }
      },
      "source": [
        "classify_train = full_model.fit(train_X, train_label, batch_size=128,epochs=50,verbose=1,validation_data=(valid_X, valid_label))"
      ],
      "execution_count": 31,
      "outputs": [
        {
          "output_type": "stream",
          "text": [
            "Epoch 1/50\n",
            "  1/375 [..............................] - ETA: 6s - loss: 0.0122 - accuracy: 0.9922WARNING:tensorflow:Callbacks method `on_train_batch_end` is slow compared to the batch time (batch time: 0.0106s vs `on_train_batch_end` time: 0.0310s). Check your callbacks.\n",
            "375/375 [==============================] - 12s 33ms/step - loss: 0.0404 - accuracy: 0.9935 - val_loss: 0.2946 - val_accuracy: 0.9767\n",
            "Epoch 2/50\n",
            "375/375 [==============================] - 12s 33ms/step - loss: 0.0211 - accuracy: 0.9959 - val_loss: 0.2726 - val_accuracy: 0.9744\n",
            "Epoch 3/50\n",
            "375/375 [==============================] - 12s 33ms/step - loss: 0.0224 - accuracy: 0.9958 - val_loss: 0.2037 - val_accuracy: 0.9812\n",
            "Epoch 4/50\n",
            "375/375 [==============================] - 12s 33ms/step - loss: 0.0112 - accuracy: 0.9978 - val_loss: 0.1750 - val_accuracy: 0.9818\n",
            "Epoch 5/50\n",
            "375/375 [==============================] - 12s 33ms/step - loss: 0.0079 - accuracy: 0.9980 - val_loss: 0.2296 - val_accuracy: 0.9756\n",
            "Epoch 6/50\n",
            "375/375 [==============================] - 12s 33ms/step - loss: 0.0154 - accuracy: 0.9966 - val_loss: 0.1400 - val_accuracy: 0.9816\n",
            "Epoch 7/50\n",
            "375/375 [==============================] - 12s 32ms/step - loss: 0.0105 - accuracy: 0.9974 - val_loss: 0.2611 - val_accuracy: 0.9816\n",
            "Epoch 8/50\n",
            "375/375 [==============================] - 12s 33ms/step - loss: 0.0145 - accuracy: 0.9969 - val_loss: 0.1473 - val_accuracy: 0.9839\n",
            "Epoch 9/50\n",
            "375/375 [==============================] - 12s 33ms/step - loss: 0.0091 - accuracy: 0.9980 - val_loss: 0.1639 - val_accuracy: 0.9818\n",
            "Epoch 10/50\n",
            "375/375 [==============================] - 12s 33ms/step - loss: 0.0124 - accuracy: 0.9972 - val_loss: 0.4732 - val_accuracy: 0.9523\n",
            "Epoch 11/50\n",
            "375/375 [==============================] - 12s 33ms/step - loss: 0.0102 - accuracy: 0.9977 - val_loss: 0.1872 - val_accuracy: 0.9820\n",
            "Epoch 12/50\n",
            "375/375 [==============================] - 12s 33ms/step - loss: 0.0092 - accuracy: 0.9979 - val_loss: 0.1669 - val_accuracy: 0.9833\n",
            "Epoch 13/50\n",
            "375/375 [==============================] - 12s 33ms/step - loss: 0.0064 - accuracy: 0.9983 - val_loss: 0.1744 - val_accuracy: 0.9810\n",
            "Epoch 14/50\n",
            "375/375 [==============================] - 12s 33ms/step - loss: 0.0142 - accuracy: 0.9968 - val_loss: 0.1932 - val_accuracy: 0.9806\n",
            "Epoch 15/50\n",
            "375/375 [==============================] - 12s 33ms/step - loss: 0.0088 - accuracy: 0.9977 - val_loss: 0.1123 - val_accuracy: 0.9837\n",
            "Epoch 16/50\n",
            "375/375 [==============================] - 12s 33ms/step - loss: 0.0047 - accuracy: 0.9986 - val_loss: 0.2810 - val_accuracy: 0.9722\n",
            "Epoch 17/50\n",
            "375/375 [==============================] - 12s 33ms/step - loss: 0.0088 - accuracy: 0.9976 - val_loss: 0.2192 - val_accuracy: 0.9782\n",
            "Epoch 18/50\n",
            "375/375 [==============================] - 12s 33ms/step - loss: 0.0092 - accuracy: 0.9981 - val_loss: 0.1124 - val_accuracy: 0.9866\n",
            "Epoch 19/50\n",
            "375/375 [==============================] - 12s 33ms/step - loss: 0.0048 - accuracy: 0.9988 - val_loss: 0.1309 - val_accuracy: 0.9859\n",
            "Epoch 20/50\n",
            "375/375 [==============================] - 12s 33ms/step - loss: 0.0089 - accuracy: 0.9978 - val_loss: 0.1910 - val_accuracy: 0.9829\n",
            "Epoch 21/50\n",
            "375/375 [==============================] - 12s 33ms/step - loss: 0.0115 - accuracy: 0.9974 - val_loss: 0.1477 - val_accuracy: 0.9823\n",
            "Epoch 22/50\n",
            "375/375 [==============================] - 12s 33ms/step - loss: 0.0072 - accuracy: 0.9982 - val_loss: 0.1450 - val_accuracy: 0.9850\n",
            "Epoch 23/50\n",
            "375/375 [==============================] - 12s 33ms/step - loss: 0.0063 - accuracy: 0.9985 - val_loss: 0.1444 - val_accuracy: 0.9826\n",
            "Epoch 24/50\n",
            "375/375 [==============================] - 12s 33ms/step - loss: 0.0070 - accuracy: 0.9984 - val_loss: 0.2125 - val_accuracy: 0.9748\n",
            "Epoch 25/50\n",
            "375/375 [==============================] - 12s 33ms/step - loss: 0.0046 - accuracy: 0.9990 - val_loss: 0.1169 - val_accuracy: 0.9852\n",
            "Epoch 26/50\n",
            "375/375 [==============================] - 12s 33ms/step - loss: 0.0018 - accuracy: 0.9996 - val_loss: 0.1537 - val_accuracy: 0.9852\n",
            "Epoch 27/50\n",
            "375/375 [==============================] - 12s 33ms/step - loss: 0.0103 - accuracy: 0.9976 - val_loss: 0.2136 - val_accuracy: 0.9848\n",
            "Epoch 28/50\n",
            "375/375 [==============================] - 12s 33ms/step - loss: 0.0110 - accuracy: 0.9976 - val_loss: 0.1651 - val_accuracy: 0.9783\n",
            "Epoch 29/50\n",
            "375/375 [==============================] - 12s 33ms/step - loss: 0.0071 - accuracy: 0.9984 - val_loss: 0.1489 - val_accuracy: 0.9856\n",
            "Epoch 30/50\n",
            "375/375 [==============================] - 12s 33ms/step - loss: 0.0088 - accuracy: 0.9983 - val_loss: 0.2201 - val_accuracy: 0.9774\n",
            "Epoch 31/50\n",
            "375/375 [==============================] - 12s 33ms/step - loss: 0.0050 - accuracy: 0.9987 - val_loss: 0.1425 - val_accuracy: 0.9859\n",
            "Epoch 32/50\n",
            "375/375 [==============================] - 12s 33ms/step - loss: 0.0054 - accuracy: 0.9986 - val_loss: 0.1460 - val_accuracy: 0.9845\n",
            "Epoch 33/50\n",
            "375/375 [==============================] - 12s 33ms/step - loss: 0.0081 - accuracy: 0.9980 - val_loss: 0.1476 - val_accuracy: 0.9854\n",
            "Epoch 34/50\n",
            "375/375 [==============================] - 12s 33ms/step - loss: 0.0049 - accuracy: 0.9987 - val_loss: 0.1540 - val_accuracy: 0.9867\n",
            "Epoch 35/50\n",
            "375/375 [==============================] - 12s 33ms/step - loss: 0.0044 - accuracy: 0.9989 - val_loss: 0.1159 - val_accuracy: 0.9837\n",
            "Epoch 36/50\n",
            "375/375 [==============================] - 12s 33ms/step - loss: 0.0063 - accuracy: 0.9984 - val_loss: 0.1285 - val_accuracy: 0.9860\n",
            "Epoch 37/50\n",
            "375/375 [==============================] - 12s 33ms/step - loss: 0.0062 - accuracy: 0.9985 - val_loss: 0.1476 - val_accuracy: 0.9840\n",
            "Epoch 38/50\n",
            "375/375 [==============================] - 12s 33ms/step - loss: 0.0033 - accuracy: 0.9993 - val_loss: 0.1115 - val_accuracy: 0.9869\n",
            "Epoch 39/50\n",
            "375/375 [==============================] - 12s 33ms/step - loss: 0.0034 - accuracy: 0.9990 - val_loss: 0.1650 - val_accuracy: 0.9848\n",
            "Epoch 40/50\n",
            "375/375 [==============================] - 12s 33ms/step - loss: 0.0106 - accuracy: 0.9978 - val_loss: 0.2147 - val_accuracy: 0.9791\n",
            "Epoch 41/50\n",
            "375/375 [==============================] - 12s 33ms/step - loss: 0.0021 - accuracy: 0.9992 - val_loss: 0.1856 - val_accuracy: 0.9840\n",
            "Epoch 42/50\n",
            "375/375 [==============================] - 12s 33ms/step - loss: 0.0054 - accuracy: 0.9988 - val_loss: 0.1744 - val_accuracy: 0.9823\n",
            "Epoch 43/50\n",
            "375/375 [==============================] - 12s 33ms/step - loss: 0.0089 - accuracy: 0.9983 - val_loss: 0.1173 - val_accuracy: 0.9866\n",
            "Epoch 44/50\n",
            "375/375 [==============================] - 12s 33ms/step - loss: 0.0027 - accuracy: 0.9994 - val_loss: 0.1843 - val_accuracy: 0.9832\n",
            "Epoch 45/50\n",
            "375/375 [==============================] - 12s 33ms/step - loss: 0.0041 - accuracy: 0.9991 - val_loss: 0.1543 - val_accuracy: 0.9864\n",
            "Epoch 46/50\n",
            "375/375 [==============================] - 12s 33ms/step - loss: 0.0069 - accuracy: 0.9985 - val_loss: 0.1223 - val_accuracy: 0.9850\n",
            "Epoch 47/50\n",
            "375/375 [==============================] - 12s 33ms/step - loss: 0.0025 - accuracy: 0.9992 - val_loss: 0.1190 - val_accuracy: 0.9853\n",
            "Epoch 48/50\n",
            "375/375 [==============================] - 12s 33ms/step - loss: 0.0064 - accuracy: 0.9988 - val_loss: 0.1415 - val_accuracy: 0.9872\n",
            "Epoch 49/50\n",
            "375/375 [==============================] - 12s 33ms/step - loss: 0.0039 - accuracy: 0.9989 - val_loss: 0.1577 - val_accuracy: 0.9863\n",
            "Epoch 50/50\n",
            "375/375 [==============================] - 12s 33ms/step - loss: 0.0038 - accuracy: 0.9989 - val_loss: 0.2126 - val_accuracy: 0.9790\n"
          ],
          "name": "stdout"
        }
      ]
    },
    {
      "cell_type": "markdown",
      "metadata": {
        "id": "O8L_moCuHrsP"
      },
      "source": [
        "Let's save the classification model"
      ]
    },
    {
      "cell_type": "code",
      "metadata": {
        "id": "BQLBeJ-DHrsQ"
      },
      "source": [
        "full_model.save_weights('autoencoder_classification.h5')"
      ],
      "execution_count": 32,
      "outputs": []
    },
    {
      "cell_type": "markdown",
      "metadata": {
        "id": "Kueq_f5zHrsV"
      },
      "source": [
        " Next, you will re-train the model by making the first nineteen layers trainable as True instead of keeping them False! So, let's quickly do that."
      ]
    },
    {
      "cell_type": "code",
      "metadata": {
        "id": "3mz-aEouHrsW"
      },
      "source": [
        "for layer in full_model.layers[0:19]:\n",
        "    layer.trainable = True\n",
        "\n",
        "    full_model.compile(loss=keras.losses.categorical_crossentropy, optimizer=keras.optimizers.Adam(),metrics=['accuracy'])"
      ],
      "execution_count": 33,
      "outputs": []
    },
    {
      "cell_type": "markdown",
      "metadata": {
        "id": "tDKfJI_MHrsb"
      },
      "source": [
        "Now let's train the entire model for one last time!"
      ]
    },
    {
      "cell_type": "code",
      "metadata": {
        "id": "I0-oHVnSHrsc",
        "outputId": "ad4417e7-8e46-4b35-a2f0-fea8c15e7e42",
        "colab": {
          "base_uri": "https://localhost:8080/"
        }
      },
      "source": [
        "classify_train = full_model.fit(train_X, train_label, batch_size=128,epochs=50,verbose=1,validation_data=(valid_X, valid_label))"
      ],
      "execution_count": 34,
      "outputs": [
        {
          "output_type": "stream",
          "text": [
            "Epoch 1/50\n",
            "  1/375 [..............................] - ETA: 12s - loss: 5.7461e-07 - accuracy: 1.0000WARNING:tensorflow:Callbacks method `on_train_batch_end` is slow compared to the batch time (batch time: 0.0083s vs `on_train_batch_end` time: 0.0319s). Check your callbacks.\n",
            "375/375 [==============================] - 13s 33ms/step - loss: 0.0049 - accuracy: 0.9989 - val_loss: 0.2530 - val_accuracy: 0.9805\n",
            "Epoch 2/50\n",
            "375/375 [==============================] - 12s 33ms/step - loss: 0.0037 - accuracy: 0.9993 - val_loss: 0.1625 - val_accuracy: 0.9877\n",
            "Epoch 3/50\n",
            "375/375 [==============================] - 12s 33ms/step - loss: 0.0068 - accuracy: 0.9987 - val_loss: 0.2879 - val_accuracy: 0.9758\n",
            "Epoch 4/50\n",
            "375/375 [==============================] - 12s 33ms/step - loss: 0.0055 - accuracy: 0.9988 - val_loss: 0.1210 - val_accuracy: 0.9875\n",
            "Epoch 5/50\n",
            "375/375 [==============================] - 12s 32ms/step - loss: 0.0028 - accuracy: 0.9994 - val_loss: 0.0984 - val_accuracy: 0.9848\n",
            "Epoch 6/50\n",
            "375/375 [==============================] - 12s 32ms/step - loss: 0.0072 - accuracy: 0.9985 - val_loss: 0.1574 - val_accuracy: 0.9850\n",
            "Epoch 7/50\n",
            "375/375 [==============================] - 12s 33ms/step - loss: 0.0019 - accuracy: 0.9994 - val_loss: 0.3484 - val_accuracy: 0.9573\n",
            "Epoch 8/50\n",
            "375/375 [==============================] - 12s 33ms/step - loss: 0.0066 - accuracy: 0.9987 - val_loss: 0.1419 - val_accuracy: 0.9864\n",
            "Epoch 9/50\n",
            "375/375 [==============================] - 12s 33ms/step - loss: 0.0030 - accuracy: 0.9993 - val_loss: 0.2106 - val_accuracy: 0.9851\n",
            "Epoch 10/50\n",
            "375/375 [==============================] - 12s 33ms/step - loss: 0.0051 - accuracy: 0.9989 - val_loss: 0.1531 - val_accuracy: 0.9849\n",
            "Epoch 11/50\n",
            "375/375 [==============================] - 12s 33ms/step - loss: 0.0046 - accuracy: 0.9991 - val_loss: 0.1943 - val_accuracy: 0.9798\n",
            "Epoch 12/50\n",
            "375/375 [==============================] - 12s 33ms/step - loss: 0.0033 - accuracy: 0.9992 - val_loss: 0.1685 - val_accuracy: 0.9847\n",
            "Epoch 13/50\n",
            "375/375 [==============================] - 12s 33ms/step - loss: 0.0035 - accuracy: 0.9993 - val_loss: 0.2264 - val_accuracy: 0.9832\n",
            "Epoch 14/50\n",
            "375/375 [==============================] - 12s 33ms/step - loss: 0.0024 - accuracy: 0.9994 - val_loss: 0.1394 - val_accuracy: 0.9827\n",
            "Epoch 15/50\n",
            "375/375 [==============================] - 12s 33ms/step - loss: 0.0034 - accuracy: 0.9990 - val_loss: 0.1255 - val_accuracy: 0.9887\n",
            "Epoch 16/50\n",
            "375/375 [==============================] - 12s 33ms/step - loss: 0.0044 - accuracy: 0.9988 - val_loss: 0.3844 - val_accuracy: 0.9729\n",
            "Epoch 17/50\n",
            "375/375 [==============================] - 12s 33ms/step - loss: 0.0030 - accuracy: 0.9994 - val_loss: 0.1520 - val_accuracy: 0.9858\n",
            "Epoch 18/50\n",
            "375/375 [==============================] - 12s 33ms/step - loss: 0.0049 - accuracy: 0.9989 - val_loss: 0.3653 - val_accuracy: 0.9614\n",
            "Epoch 19/50\n",
            "375/375 [==============================] - 12s 33ms/step - loss: 0.0059 - accuracy: 0.9990 - val_loss: 0.1820 - val_accuracy: 0.9865\n",
            "Epoch 20/50\n",
            "375/375 [==============================] - 12s 33ms/step - loss: 0.0039 - accuracy: 0.9992 - val_loss: 0.1423 - val_accuracy: 0.9866\n",
            "Epoch 21/50\n",
            "375/375 [==============================] - 12s 33ms/step - loss: 0.0016 - accuracy: 0.9996 - val_loss: 0.1385 - val_accuracy: 0.9877\n",
            "Epoch 22/50\n",
            "375/375 [==============================] - 12s 33ms/step - loss: 0.0035 - accuracy: 0.9994 - val_loss: 0.1291 - val_accuracy: 0.9877\n",
            "Epoch 23/50\n",
            "375/375 [==============================] - 12s 33ms/step - loss: 0.0054 - accuracy: 0.9990 - val_loss: 0.1146 - val_accuracy: 0.9884\n",
            "Epoch 24/50\n",
            "375/375 [==============================] - 12s 33ms/step - loss: 7.9383e-04 - accuracy: 0.9998 - val_loss: 0.1161 - val_accuracy: 0.9898\n",
            "Epoch 25/50\n",
            "375/375 [==============================] - 12s 33ms/step - loss: 0.0015 - accuracy: 0.9997 - val_loss: 0.1485 - val_accuracy: 0.9822\n",
            "Epoch 26/50\n",
            "375/375 [==============================] - 12s 33ms/step - loss: 0.0023 - accuracy: 0.9994 - val_loss: 0.1858 - val_accuracy: 0.9845\n",
            "Epoch 27/50\n",
            "375/375 [==============================] - 12s 33ms/step - loss: 0.0055 - accuracy: 0.9991 - val_loss: 0.2279 - val_accuracy: 0.9759\n",
            "Epoch 28/50\n",
            "375/375 [==============================] - 12s 33ms/step - loss: 0.0051 - accuracy: 0.9989 - val_loss: 0.1455 - val_accuracy: 0.9858\n",
            "Epoch 29/50\n",
            "375/375 [==============================] - 12s 33ms/step - loss: 0.0024 - accuracy: 0.9995 - val_loss: 0.1537 - val_accuracy: 0.9885\n",
            "Epoch 30/50\n",
            "375/375 [==============================] - 12s 33ms/step - loss: 0.0034 - accuracy: 0.9994 - val_loss: 0.2170 - val_accuracy: 0.9828\n",
            "Epoch 31/50\n",
            "375/375 [==============================] - 12s 33ms/step - loss: 0.0032 - accuracy: 0.9994 - val_loss: 0.1727 - val_accuracy: 0.9849\n",
            "Epoch 32/50\n",
            "375/375 [==============================] - 12s 33ms/step - loss: 0.0023 - accuracy: 0.9994 - val_loss: 0.1373 - val_accuracy: 0.9879\n",
            "Epoch 33/50\n",
            "375/375 [==============================] - 12s 33ms/step - loss: 0.0032 - accuracy: 0.9995 - val_loss: 0.2585 - val_accuracy: 0.9820\n",
            "Epoch 34/50\n",
            "375/375 [==============================] - 12s 33ms/step - loss: 0.0062 - accuracy: 0.9989 - val_loss: 0.2066 - val_accuracy: 0.9848\n",
            "Epoch 35/50\n",
            "375/375 [==============================] - 12s 33ms/step - loss: 0.0034 - accuracy: 0.9994 - val_loss: 0.1486 - val_accuracy: 0.9876\n",
            "Epoch 36/50\n",
            "375/375 [==============================] - 12s 33ms/step - loss: 0.0037 - accuracy: 0.9991 - val_loss: 0.1729 - val_accuracy: 0.9871\n",
            "Epoch 37/50\n",
            "375/375 [==============================] - 12s 33ms/step - loss: 0.0029 - accuracy: 0.9994 - val_loss: 0.2137 - val_accuracy: 0.9842\n",
            "Epoch 38/50\n",
            "375/375 [==============================] - 12s 33ms/step - loss: 0.0032 - accuracy: 0.9993 - val_loss: 0.5092 - val_accuracy: 0.9569\n",
            "Epoch 39/50\n",
            "375/375 [==============================] - 12s 33ms/step - loss: 0.0016 - accuracy: 0.9996 - val_loss: 0.1634 - val_accuracy: 0.9862\n",
            "Epoch 40/50\n",
            "375/375 [==============================] - 12s 33ms/step - loss: 0.0026 - accuracy: 0.9993 - val_loss: 0.2348 - val_accuracy: 0.9845\n",
            "Epoch 41/50\n",
            "375/375 [==============================] - 12s 33ms/step - loss: 0.0057 - accuracy: 0.9992 - val_loss: 0.1881 - val_accuracy: 0.9888\n",
            "Epoch 42/50\n",
            "375/375 [==============================] - 12s 33ms/step - loss: 0.0017 - accuracy: 0.9995 - val_loss: 0.1666 - val_accuracy: 0.9887\n",
            "Epoch 43/50\n",
            "375/375 [==============================] - 12s 33ms/step - loss: 8.1808e-04 - accuracy: 0.9997 - val_loss: 0.1617 - val_accuracy: 0.9897\n",
            "Epoch 44/50\n",
            "375/375 [==============================] - 12s 33ms/step - loss: 0.0018 - accuracy: 0.9996 - val_loss: 0.2062 - val_accuracy: 0.9836\n",
            "Epoch 45/50\n",
            "375/375 [==============================] - 12s 33ms/step - loss: 0.0054 - accuracy: 0.9991 - val_loss: 0.2390 - val_accuracy: 0.9752\n",
            "Epoch 46/50\n",
            "375/375 [==============================] - 12s 33ms/step - loss: 0.0023 - accuracy: 0.9994 - val_loss: 0.1818 - val_accuracy: 0.9773\n",
            "Epoch 47/50\n",
            "375/375 [==============================] - 12s 33ms/step - loss: 0.0022 - accuracy: 0.9994 - val_loss: 0.2058 - val_accuracy: 0.9866\n",
            "Epoch 48/50\n",
            "375/375 [==============================] - 12s 33ms/step - loss: 0.0076 - accuracy: 0.9990 - val_loss: 0.1208 - val_accuracy: 0.9864\n",
            "Epoch 49/50\n",
            "375/375 [==============================] - 12s 33ms/step - loss: 0.0020 - accuracy: 0.9996 - val_loss: 0.1884 - val_accuracy: 0.9852\n",
            "Epoch 50/50\n",
            "375/375 [==============================] - 12s 33ms/step - loss: 0.0016 - accuracy: 0.9996 - val_loss: 0.3381 - val_accuracy: 0.9757\n"
          ],
          "name": "stdout"
        }
      ]
    },
    {
      "cell_type": "markdown",
      "metadata": {
        "id": "-poynZU_Hrsf"
      },
      "source": [
        "Let's save the model for one last time."
      ]
    },
    {
      "cell_type": "code",
      "metadata": {
        "id": "EIvW4OFZHrsg"
      },
      "source": [
        "full_model.save_weights('classification_complete.h5')"
      ],
      "execution_count": 35,
      "outputs": []
    },
    {
      "cell_type": "markdown",
      "metadata": {
        "id": "9_nWWyGLHrsj"
      },
      "source": [
        "Let's put your model evaluation into perspective and plot the accuracy and loss plots between training and validation data:"
      ]
    },
    {
      "cell_type": "code",
      "metadata": {
        "id": "2DYrgPw6Hrsk",
        "outputId": "4b36f9c9-f7d2-4635-c5b8-343daa6ebe8b",
        "colab": {
          "base_uri": "https://localhost:8080/",
          "height": 545
        }
      },
      "source": [
        "accuracy = classify_train.history['accuracy']\n",
        "val_accuracy = classify_train.history['val_accuracy']\n",
        "loss = classify_train.history['loss']\n",
        "val_loss = classify_train.history['val_loss']\n",
        "epochs = range(len(accuracy))\n",
        "plt.plot(epochs, accuracy, 'bo', label='Training accuracy')\n",
        "plt.plot(epochs, val_accuracy, 'b', label='Validation accuracy')\n",
        "plt.title('Training and validation accuracy')\n",
        "plt.legend()\n",
        "plt.figure()\n",
        "plt.plot(epochs, loss, 'bo', label='Training loss')\n",
        "plt.plot(epochs, val_loss, 'b', label='Validation loss')\n",
        "plt.title('Training and validation loss')\n",
        "plt.legend()\n",
        "plt.show()"
      ],
      "execution_count": 36,
      "outputs": [
        {
          "output_type": "display_data",
          "data": {
            "image/png": "[encoded data removed]",
            "text/plain": [
              "<Figure size 432x288 with 1 Axes>"
            ]
          },
          "metadata": {
            "tags": [],
            "needs_background": "light"
          }
        },
        {
          "output_type": "display_data",
          "data": {
            "image/png": "[encoded data removed]",
            "text/plain": [
              "<Figure size 432x288 with 1 Axes>"
            ]
          },
          "metadata": {
            "tags": [],
            "needs_background": "light"
          }
        }
      ]
    },
    {
      "cell_type": "markdown",
      "metadata": {
        "id": "2GA78iVoHrsn"
      },
      "source": [
        "Model Evaluation on the Test Set\n",
        "\n",
        "Finally, let's also evaluate your model on test data and see how it performs!\n",
        "\n"
      ]
    },
    {
      "cell_type": "code",
      "metadata": {
        "id": "QwRhYdbBHrsp",
        "outputId": "ea4876ab-ce73-4bbc-eecc-8ac8355a2a61",
        "colab": {
          "base_uri": "https://localhost:8080/"
        }
      },
      "source": [
        "test_eval = full_model.evaluate(test_data, test_Y_one_hot, verbose=0)\n",
        "\n",
        "print('Test loss:', test_eval[0])\n",
        "print('Test accuracy:', test_eval[1])"
      ],
      "execution_count": 37,
      "outputs": [
        {
          "output_type": "stream",
          "text": [
            "Test loss: 0.2817145884037018\n",
            "Test accuracy: 0.9775000214576721\n"
          ],
          "name": "stdout"
        }
      ]
    },
    {
      "cell_type": "markdown",
      "metadata": {
        "id": "qw2K9zMjHrs-"
      },
      "source": [
        "Predict Labels"
      ]
    },
    {
      "cell_type": "code",
      "metadata": {
        "id": "dLBzyUKoHrs-"
      },
      "source": [
        "predicted_classes = full_model.predict(test_data)"
      ],
      "execution_count": 38,
      "outputs": []
    },
    {
      "cell_type": "markdown",
      "metadata": {
        "id": "fNNTN7muHrtB"
      },
      "source": [
        "Since the predictions you get are floating point values, it will not be feasible to compare the predicted labels with true test labels. So, you will round off the output which will convert the float values into an integer. Further, you will use np.argmax() to select the index number which has a higher value in a row.\n",
        "\n",
        "For example, let's assume a prediction for one test image to be [0 1 0 0 0 0 0 0 0 0], the output for this should be a class label 1.\n",
        "\n"
      ]
    },
    {
      "cell_type": "code",
      "metadata": {
        "id": "CqoMjnpAHrtC",
        "outputId": "4186ab5e-48a2-4b7d-ba8c-eca39503343d",
        "colab": {
          "base_uri": "https://localhost:8080/"
        }
      },
      "source": [
        "predicted_classes = np.argmax(np.round(predicted_classes),axis=1)\n",
        "predicted_classes.shape, test_labels.shape"
      ],
      "execution_count": 39,
      "outputs": [
        {
          "output_type": "execute_result",
          "data": {
            "text/plain": [
              "((10000,), (10000,))"
            ]
          },
          "metadata": {
            "tags": []
          },
          "execution_count": 39
        }
      ]
    },
    {
      "cell_type": "code",
      "metadata": {
        "id": "M1tGqD-xHrtF",
        "outputId": "344a496c-d7cb-400c-8446-9c9f494d40b5",
        "colab": {
          "base_uri": "https://localhost:8080/",
          "height": 314
        }
      },
      "source": [
        "correct = np.where(predicted_classes==test_labels)[0]\n",
        "print (\"Found %d correct labels\" % len(correct))\n",
        "for i, correct in enumerate(correct[:9]):\n",
        "    plt.subplot(3,3,i+1)\n",
        "    plt.imshow(test_data[correct].reshape(28,28), cmap='gray', interpolation='none')\n",
        "    plt.title(\"Predicted {}, Class {}\".format(predicted_classes[correct], test_labels[correct]))\n",
        "    plt.tight_layout()"
      ],
      "execution_count": 40,
      "outputs": [
        {
          "output_type": "stream",
          "text": [
            "Found 9775 correct labels\n"
          ],
          "name": "stdout"
        },
        {
          "output_type": "display_data",
          "data": {
            "image/png": "[encoded data removed]",
            "text/plain": [
              "<Figure size 432x288 with 9 Axes>"
            ]
          },
          "metadata": {
            "tags": [],
            "needs_background": "light"
          }
        }
      ]
    },
    {
      "cell_type": "code",
      "metadata": {
        "id": "tswuHUydHrtI",
        "outputId": "8f85eac5-ffdf-4f58-fd21-185c415f928c",
        "colab": {
          "base_uri": "https://localhost:8080/",
          "height": 314
        }
      },
      "source": [
        "incorrect = np.where(predicted_classes!=test_labels)[0]\n",
        "print (\"Found %d incorrect labels\" % len(incorrect))\n",
        "for i, incorrect in enumerate(incorrect[:9]):\n",
        "    plt.subplot(3,3,i+1)\n",
        "    plt.imshow(test_data[incorrect].reshape(28,28), cmap='gray', interpolation='none')\n",
        "    plt.title(\"Predicted {}, Class {}\".format(predicted_classes[incorrect], test_labels[incorrect]))\n",
        "    plt.tight_layout()"
      ],
      "execution_count": 41,
      "outputs": [
        {
          "output_type": "stream",
          "text": [
            "Found 225 incorrect labels\n"
          ],
          "name": "stdout"
        },
        {
          "output_type": "display_data",
          "data": {
            "image/png": "[encoded data removed]",
            "text/plain": [
              "<Figure size 432x288 with 9 Axes>"
            ]
          },
          "metadata": {
            "tags": [],
            "needs_background": "light"
          }
        }
      ]
    },
    {
      "cell_type": "markdown",
      "metadata": {
        "id": "r81zYC8nHrtM"
      },
      "source": [
        "Classification Report\n",
        "\n",
        "Classification report will help you in identifying the misclassified classes in more detail. You will be able to observe for which class the model performed bad out of the given ten classes.\n",
        "\n"
      ]
    },
    {
      "cell_type": "code",
      "metadata": {
        "id": "EdTA7VA4HrtN",
        "outputId": "82ab9f3c-4cde-4223-d1fd-ab18728d075b",
        "colab": {
          "base_uri": "https://localhost:8080/"
        }
      },
      "source": [
        "from sklearn.metrics import classification_report\n",
        "target_names = [\"Class {}\".format(i) for i in range(num_classes)]\n",
        "print(classification_report(test_labels, predicted_classes, target_names=target_names))"
      ],
      "execution_count": 42,
      "outputs": [
        {
          "output_type": "stream",
          "text": [
            "              precision    recall  f1-score   support\n",
            "\n",
            "     Class 0       0.99      0.99      0.99       980\n",
            "     Class 1       1.00      0.96      0.98      1135\n",
            "     Class 2       0.96      1.00      0.98      1032\n",
            "     Class 3       0.99      0.99      0.99      1010\n",
            "     Class 4       0.97      0.98      0.98       982\n",
            "     Class 5       0.96      0.98      0.97       892\n",
            "     Class 6       0.99      0.97      0.98       958\n",
            "     Class 7       0.99      0.96      0.97      1028\n",
            "     Class 8       0.94      0.99      0.97       974\n",
            "     Class 9       0.98      0.96      0.97      1009\n",
            "\n",
            "    accuracy                           0.98     10000\n",
            "   macro avg       0.98      0.98      0.98     10000\n",
            "weighted avg       0.98      0.98      0.98     10000\n",
            "\n"
          ],
          "name": "stdout"
        }
      ]
    },
    {
      "cell_type": "code",
      "metadata": {
        "id": "Fp5dMAR2HrtQ"
      },
      "source": [
        ""
      ],
      "execution_count": null,
      "outputs": []
    }
  ]
}