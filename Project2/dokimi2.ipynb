{
  "nbformat": 4,
  "nbformat_minor": 0,
  "metadata": {
    "kernelspec": {
      "display_name": "Python 3",
      "language": "python",
      "name": "python3"
    },
    "language_info": {
      "codemirror_mode": {
        "name": "ipython",
        "version": 3
      },
      "file_extension": ".py",
      "mimetype": "text/x-python",
      "name": "python",
      "nbconvert_exporter": "python",
      "pygments_lexer": "ipython3",
      "version": "3.8.3"
    },
    "colab": {
      "name": "Untitled1.ipynb",
      "provenance": [],
      "toc_visible": true
    },
    "accelerator": "GPU"
  },
  "cells": [
    {
      "cell_type": "markdown",
      "metadata": {
        "id": "rs7PuA8iHro0"
      },
      "source": [
        "# Autoencoder as a Classifier using Fashion-MNIST Dataset"
      ]
    },
    {
      "cell_type": "markdown",
      "metadata": {
        "id": "-l7o39HTHro4"
      },
      "source": [
        "## Tous kodikes en tous etrexa giati itan na pari para polli ora.Apoti ekatalava en oti zita stin ergasia pano kato.To dataset en polla paromoio ara en nomizo na xriasti na allaksoume je polla "
      ]
    },
    {
      "cell_type": "markdown",
      "metadata": {
        "id": "P58-O9moHro7"
      },
      "source": [
        "Import necessary libraries"
      ]
    },
    {
      "cell_type": "code",
      "metadata": {
        "id": "J3gbZdYNHro9",
        "outputId": "2a8e0aff-1b64-41f4-be5f-e1ca12b6126e",
        "colab": {
          "base_uri": "https://localhost:8080/"
        }
      },
      "source": [
        "from google.colab import drive\n",
        "drive.mount('/content/drive')\n",
        "import keras\n",
        "from matplotlib import pyplot as plt\n",
        "import numpy as np\n",
        "import gzip\n",
        "%matplotlib inline\n",
        "from keras.models import Model\n",
        "from keras.optimizers import RMSprop\n",
        "from keras.layers import Input,Dense,Flatten,Dropout,merge,Reshape,Conv2D,MaxPooling2D,UpSampling2D,Conv2DTranspose\n",
        "from keras.layers.normalization import BatchNormalization\n",
        "from keras.models import Model,Sequential\n",
        "from keras.callbacks import ModelCheckpoint\n",
        "from keras.optimizers import Adadelta, RMSprop,SGD,Adam\n",
        "from keras import regularizers\n",
        "from keras import backend as K\n",
        "from keras.utils import to_categorical"
      ],
      "execution_count": 2,
      "outputs": [
        {
          "output_type": "stream",
          "text": [
            "Drive already mounted at /content/drive; to attempt to forcibly remount, call drive.mount(\"/content/drive\", force_remount=True).\n"
          ],
          "name": "stdout"
        }
      ]
    },
    {
      "cell_type": "markdown",
      "metadata": {
        "id": "PyuxiNYMHrpO"
      },
      "source": [
        "Function to read the data"
      ]
    },
    {
      "cell_type": "code",
      "metadata": {
        "id": "_sKptFtmHrpQ"
      },
      "source": [
        "def extract_data(filename, num_images):\n",
        "    with gzip.open(filename) as bytestream:\n",
        "        bytestream.read(16)\n",
        "        buf = bytestream.read(28 * 28 * num_images)\n",
        "        data = np.frombuffer(buf, dtype=np.uint8).astype(np.float32)\n",
        "        data = data.reshape(num_images, 28,28)\n",
        "        return data\n"
      ],
      "execution_count": 3,
      "outputs": []
    },
    {
      "cell_type": "code",
      "metadata": {
        "id": "gTYuUPDeHrpY"
      },
      "source": [
        "train_data = extract_data('/content/train-images-idx3-ubyte.gz',60000)\n",
        "test_data = extract_data('/content/t10k-images-idx3-ubyte.gz', 10000)"
      ],
      "execution_count": 5,
      "outputs": []
    },
    {
      "cell_type": "markdown",
      "metadata": {
        "id": "NZtzdxg1Hrph"
      },
      "source": [
        "Function to read labels"
      ]
    },
    {
      "cell_type": "code",
      "metadata": {
        "id": "v05ZippzHrpi"
      },
      "source": [
        "def extract_labels(filename, num_images):\n",
        "    with gzip.open(filename) as bytestream:\n",
        "        bytestream.read(8)\n",
        "        buf = bytestream.read(1 * num_images)\n",
        "        labels = np.frombuffer(buf, dtype=np.uint8).astype(np.int64)\n",
        "        return labels"
      ],
      "execution_count": 6,
      "outputs": []
    },
    {
      "cell_type": "code",
      "metadata": {
        "id": "OFRwx93NHrpq"
      },
      "source": [
        "train_labels = extract_labels('/content/train-labels-idx1-ubyte.gz',60000)\n",
        "test_labels = extract_labels('/content/t10k-labels-idx1-ubyte.gz',10000)"
      ],
      "execution_count": 8,
      "outputs": []
    },
    {
      "cell_type": "markdown",
      "metadata": {
        "id": "ghiZiXaZHrpz"
      },
      "source": [
        "Data Exploration\n",
        "\n",
        "Let's now analyze how images in the dataset look like and also see the dimension of the images with the help of the NumPy array attribute .shape:"
      ]
    },
    {
      "cell_type": "code",
      "metadata": {
        "id": "yH-uVRUoHrp1",
        "outputId": "9cf3588e-bcc8-4eff-f9c6-5ff7a5ab4906",
        "colab": {
          "base_uri": "https://localhost:8080/"
        }
      },
      "source": [
        "# Shapes of training set\n",
        "print(\"Training set (images) shape: {shape}\".format(shape=train_data.shape))\n",
        "\n",
        "# Shapes of test set\n",
        "print(\"Test set (images) shape: {shape}\".format(shape=test_data.shape))"
      ],
      "execution_count": 9,
      "outputs": [
        {
          "output_type": "stream",
          "text": [
            "Training set (images) shape: (60000, 28, 28)\n",
            "Test set (images) shape: (10000, 28, 28)\n"
          ],
          "name": "stdout"
        }
      ]
    },
    {
      "cell_type": "markdown",
      "metadata": {
        "id": "dWhd5zBXHrp9"
      },
      "source": [
        "From the above output, you can see that the training data has a shape of 60000 x 28 x 28 since there are 60,000 training samples each of 28 x 28 dimensional matrix. Similarly, the test data has a shape of 10000 x 28 x 28 since there are 10,000 testing samples.\n",
        "\n",
        "Note that in the task of reconstructing using convolutional autoencoder you won't need training and testing labels. Your training images will both act as the input as well as the ground truth similar to the labels you have in classification task.\n",
        "\n",
        "But for the classification task you will also need your labels along with the images which you will be doing later on in the tutorial. Even though the task at hand will only be dealing with the training and testing images. However, for exploration purposes, which might give you a better intuition about the data, you'll make use of the labels.\n",
        "\n",
        "Let's create a dictionary that will have class names with their corresponding categorical class labels:"
      ]
    },
    {
      "cell_type": "code",
      "metadata": {
        "id": "SC8HjN3hHrp_"
      },
      "source": [
        "# Create dictionary of target classes\n",
        "label_dict = {\n",
        " 0: '0',\n",
        " 1: '1',\n",
        " 2: '2',\n",
        " 3: '3',\n",
        " 4: '4',\n",
        " 5: '5',\n",
        " 6: '6',\n",
        " 7: '7',\n",
        " 8: '8',\n",
        " 9: '9',\n",
        "}"
      ],
      "execution_count": 10,
      "outputs": []
    },
    {
      "cell_type": "markdown",
      "metadata": {
        "id": "CoS6JSU3HrqE"
      },
      "source": [
        "Now, let's take a look at a couple of the images in your dataset:"
      ]
    },
    {
      "cell_type": "code",
      "metadata": {
        "id": "t6_Gv88UHrqF",
        "outputId": "cc3fd3d2-f2c5-42d5-afa6-2ec838d19251",
        "colab": {
          "base_uri": "https://localhost:8080/",
          "height": 208
        }
      },
      "source": [
        "plt.figure(figsize=[5,5])\n",
        "\n",
        "# Display the first image in training data\n",
        "plt.subplot(121)\n",
        "curr_img = np.reshape(train_data[10], (28,28))\n",
        "curr_lbl = train_labels[10]\n",
        "plt.imshow(curr_img, cmap='gray')\n",
        "plt.title(\"(Label: \" + str(label_dict[curr_lbl]) + \")\")\n",
        "\n",
        "# Display the first image in testing data\n",
        "plt.subplot(122)\n",
        "curr_img = np.reshape(test_data[10], (28,28))\n",
        "curr_lbl = test_labels[10]\n",
        "plt.imshow(curr_img, cmap='gray')\n",
        "plt.title(\"(Label: \" + str(label_dict[curr_lbl]) + \")\")\n"
      ],
      "execution_count": 11,
      "outputs": [
        {
          "output_type": "execute_result",
          "data": {
            "text/plain": [
              "Text(0.5, 1.0, '(Label: 0)')"
            ]
          },
          "metadata": {
            "tags": []
          },
          "execution_count": 11
        },
        {
          "output_type": "display_data",
          "data": {
            "image/png": "[encoded data removed]",
            "text/plain": [
              "<Figure size 360x360 with 2 Axes>"
            ]
          },
          "metadata": {
            "tags": [],
            "needs_background": "light"
          }
        }
      ]
    },
    {
      "cell_type": "markdown",
      "metadata": {
        "id": "_LvxONdVHrqN"
      },
      "source": [
        "Data Preprocessing\n",
        "\n",
        "The images of the dataset are indeed grayscale images with pixel values ranging from 0 to 255 with a dimension of 28 x 28, so before we feed the data into the model, it is very important to preprocess it. You'll first convert each 28 x 28 image of train and test set into a matrix of size 28 x 28 x 1, which you can feed into the network:"
      ]
    },
    {
      "cell_type": "code",
      "metadata": {
        "id": "k8WvDha0HrqO",
        "outputId": "a4ef5b27-eec7-4857-fcbe-664eefe85f9b",
        "colab": {
          "base_uri": "https://localhost:8080/"
        }
      },
      "source": [
        "train_data = train_data.reshape(-1, 28,28, 1)\n",
        "test_data = test_data.reshape(-1, 28,28, 1)\n",
        "train_data.shape, test_data.shape"
      ],
      "execution_count": 12,
      "outputs": [
        {
          "output_type": "execute_result",
          "data": {
            "text/plain": [
              "((60000, 28, 28, 1), (10000, 28, 28, 1))"
            ]
          },
          "metadata": {
            "tags": []
          },
          "execution_count": 12
        }
      ]
    },
    {
      "cell_type": "markdown",
      "metadata": {
        "id": "K1zNEOnHHrqU"
      },
      "source": [
        "Next, rescale the training and testing data with the maximum pixel value of the training and testing data:"
      ]
    },
    {
      "cell_type": "code",
      "metadata": {
        "id": "pm_-jJ1uHrqV"
      },
      "source": [
        "train_data = train_data / np.max(train_data)\n",
        "test_data = test_data / np.max(test_data)"
      ],
      "execution_count": 13,
      "outputs": []
    },
    {
      "cell_type": "markdown",
      "metadata": {
        "id": "IQhp-e22Hrqb"
      },
      "source": [
        "After all of this, it's important to partition the data. In order for our model to generalize well, you split the training data into two parts: a training and a validation set. You will train your model on 80% of the data and validate it on 20% of the remaining training data.\n",
        "\n",
        "This will also help you in reducing the chances of overfitting, as you will be validating your model on data it would not have seen in the training phase.\n",
        "\n",
        "You can use the train_test_split module of scikit-learn to divide the data properly:\n",
        "\n"
      ]
    },
    {
      "cell_type": "code",
      "metadata": {
        "id": "xpef6L4jHrqc"
      },
      "source": [
        "from sklearn.model_selection import train_test_split\n",
        "train_X,valid_X,train_ground,valid_ground = train_test_split(train_data,\n",
        "                                                             train_data,\n",
        "                                                             test_size=0.2,\n",
        "                                                             random_state=13)"
      ],
      "execution_count": 14,
      "outputs": []
    },
    {
      "cell_type": "markdown",
      "metadata": {
        "id": "a92LKL-EHrqk"
      },
      "source": [
        "Note: You will be using the above data splitting twice, once for the task of reconstructing using convolutional autoencoder for which you don't need training and testing labels. That's why you will pass the training images twice. Your training images will both act as the input as well as the ground truth similar to the labels you have in the classification task.\n",
        "\n",
        "But for the classification task, you will also pass your labels along with the images which you will be doing later on in the tutorial.\n",
        "\n",
        "Now you are all set to define the network and feed the data into the network. So without any further ado, let's jump to the next step!"
      ]
    },
    {
      "cell_type": "markdown",
      "metadata": {
        "id": "ItdH2aMAHrql"
      },
      "source": [
        "## The Convolutional Autoencoder"
      ]
    },
    {
      "cell_type": "markdown",
      "metadata": {
        "id": "inSDc0D_Hrqm"
      },
      "source": [
        "The images are of size 28 x 28 x 1 or a 30976-dimensional vector. You convert the image matrix to an array, rescale it between 0 and 1, reshape it so that it's of size 28 x 28 x 1, and feed this as an input to the network.\n",
        "\n",
        "Also, you will use a batch size of 128 using a higher batch size of 256 or 512 is also preferable it all depends on the system you train your model. It contributes heavily in determining the learning parameters and affects the prediction accuracy."
      ]
    },
    {
      "cell_type": "code",
      "metadata": {
        "id": "AVk7XldTHrqm"
      },
      "source": [
        "batch_size = 64\n",
        "epochs = 50\n",
        "inChannel = 1\n",
        "x, y = 28, 28\n",
        "input_img = Input(shape = (x, y, inChannel))\n",
        "num_classes = 10"
      ],
      "execution_count": 43,
      "outputs": []
    },
    {
      "cell_type": "markdown",
      "metadata": {
        "id": "mla3RAtsHrqs"
      },
      "source": [
        "As you might already know well before, the autoencoder is divided into two parts: there's an encoder and a decoder.\n",
        "\n",
        "Encoder: It has 4 Convolution blocks, each block has a convolution layer followed by a batch normalization layer. Max-pooling layer is used after the first and second convolution blocks.\n",
        "\n",
        "    The first convolution block will have 32 filters of size 3 x 3, followed by a downsampling (max-pooling) layer,\n",
        "    The second block will have 64 filters of size 3 x 3, followed by another downsampling layer,\n",
        "    The third block of encoder will have 128 filters of size 3 x 3,\n",
        "    The fourth block of encoder will have 256 filters of size 3 x 3.\n",
        "\n",
        "Decoder: It has 3 Convolution blocks, each block has a convolution layer followed by a batch normalization layer. Upsampling layer is used after the second and third convolution blocks.\n",
        "\n",
        "    The first block will have 128 filters of size 3 x 3,\n",
        "    The second block will have 64 filters of size 3 x 3 followed by another upsampling layer,\n",
        "    The third block will have 32 filters of size 3 x 3 followed by another upsampling layer,\n",
        "    The final layer of encoder will have 1 filter of size 3 x 3 which will reconstruct back the input having a single channel.\n",
        "\n",
        "The max-pooling layer will downsample the input by two times each time you use it, while the upsampling layer will upsample the input by two times each time it is used.\n",
        "\n",
        "Note: The number of filters, the filter size, the number of layers, number of epochs you train your model, are all hyperparameters and should be decided based on your own intuition, you are free to try new experiments by tweaking with these hyperparameters and measure the performance of your model. And that is how you will slowly learn the art of deep learning!\n",
        "\n",
        "Let's create separate encoder and decoder functions since you will be using encoder weights later on for classification purpose!"
      ]
    },
    {
      "cell_type": "code",
      "metadata": {
        "id": "N_20Us2MHrqt"
      },
      "source": [
        "def encoder(input_img):\n",
        "    #encoder\n",
        "    #input = 28 x 28 x 1 (wide and thin)\n",
        "    conv1 = Conv2D(32, (3, 3), activation='relu', padding='same')(input_img) #28 x 28 x 32\n",
        "    conv1 = BatchNormalization()(conv1)\n",
        "    conv1 = Conv2D(32, (3, 3), activation='relu', padding='same')(conv1)\n",
        "    conv1 = BatchNormalization()(conv1)\n",
        "    pool1 = MaxPooling2D(pool_size=(2, 2))(conv1) #14 x 14 x 32\n",
        "    conv2 = Conv2D(64, (3, 3), activation='relu', padding='same')(pool1) #14 x 14 x 64\n",
        "    conv2 = BatchNormalization()(conv2)\n",
        "    conv2 = Conv2D(64, (3, 3), activation='relu', padding='same')(conv2)\n",
        "    conv2 = BatchNormalization()(conv2)\n",
        "    pool2 = MaxPooling2D(pool_size=(2, 2))(conv2) #7 x 7 x 64\n",
        "    conv3 = Conv2D(128, (3, 3), activation='relu', padding='same')(pool2) #7 x 7 x 128 (small and thick)\n",
        "    conv3 = BatchNormalization()(conv3)\n",
        "    conv3 = Conv2D(128, (3, 3), activation='relu', padding='same')(conv3)\n",
        "    conv3 = BatchNormalization()(conv3)\n",
        "    conv4 = Conv2D(256, (3, 3), activation='relu', padding='same')(conv3) #7 x 7 x 256 (small and thick)\n",
        "    conv4 = BatchNormalization()(conv4)\n",
        "    conv4 = Conv2D(256, (3, 3), activation='relu', padding='same')(conv4)\n",
        "    conv4 = BatchNormalization()(conv4)\n",
        "    return conv4\n",
        "\n",
        "def decoder(conv4):    \n",
        "    #decoder\n",
        "    conv5 = Conv2D(256, (3, 3), activation='relu', padding='same')(conv4) #7 x 7 x 128\n",
        "    conv5 = BatchNormalization()(conv5)\n",
        "    conv5 = Conv2D(256, (3, 3), activation='relu', padding='same')(conv5)\n",
        "    conv5 = BatchNormalization()(conv5)\n",
        "    conv6 = Conv2D(128, (3, 3), activation='relu', padding='same')(conv5) #7 x 7 x 64\n",
        "    conv6 = BatchNormalization()(conv6)\n",
        "    conv6 = Conv2D(128, (3, 3), activation='relu', padding='same')(conv6)\n",
        "    conv6 = BatchNormalization()(conv6)\n",
        "    up1 = UpSampling2D((2,2))(conv6) #14 x 14 x 64\n",
        "    conv7 = Conv2D(64, (3, 3), activation='relu', padding='same')(up1) # 14 x 14 x 32\n",
        "    conv7 = BatchNormalization()(conv7)\n",
        "    conv7 = Conv2D(64, (3, 3), activation='relu', padding='same')(conv7)\n",
        "    conv7 = BatchNormalization()(conv7)\n",
        "    \n",
        "    up2 = UpSampling2D((2,2))(conv7) # 28 x 28 x 32\n",
        "    decoded = Conv2D(1, (3, 3), activation='sigmoid', padding='same')(up2) # 28 x 28 x 1\n",
        "    return decoded"
      ],
      "execution_count": 16,
      "outputs": []
    },
    {
      "cell_type": "code",
      "metadata": {
        "id": "iTGFAJTNexNv"
      },
      "source": [
        "def encoder(input_img):\n",
        "    #encoder\n",
        "    #input = 28 x 28 x 1 (wide and thin)\n",
        "    conv1 = Conv2D(32, (3, 3), activation='relu', padding='same')(input_img) #28 x 28 x 32\n",
        "    conv1 = BatchNormalization()(conv1)\n",
        "    conv1 = Conv2D(32, (3, 3), activation='relu', padding='same')(conv1)\n",
        "    conv1 = BatchNormalization()(conv1)\n",
        "    pool1 = MaxPooling2D(pool_size=(2, 2))(conv1) #14 x 14 x 32\n",
        "    conv2 = Conv2D(64, (3, 3), activation='relu', padding='same')(pool1) #14 x 14 x 64\n",
        "    conv2 = BatchNormalization()(conv2)\n",
        "    conv2 = Conv2D(64, (3, 3), activation='relu', padding='same')(conv2)\n",
        "    conv2 = BatchNormalization()(conv2)\n",
        "    pool2 = MaxPooling2D(pool_size=(2, 2))(conv2) #7 x 7 x 64\n",
        "    conv3 = Conv2D(128, (3, 3), activation='relu', padding='same')(pool2) #7 x 7 x 128 (small and thick)\n",
        "    conv3 = BatchNormalization()(conv3)\n",
        "    conv3 = Conv2D(128, (3, 3), activation='relu', padding='same')(conv3)\n",
        "    conv3 = BatchNormalization()(conv3)\n",
        "    conv4 = Conv2D(256, (3, 3), activation='relu', padding='same')(conv3) #7 x 7 x 256 (small and thick)\n",
        "    conv4 = BatchNormalization()(conv4)\n",
        "    conv4 = Conv2D(256, (3, 3), activation='relu', padding='same')(conv4)\n",
        "    conv4 = BatchNormalization()(conv4)\n",
        "    return conv4\n",
        "\n",
        "def decoder(conv4):    \n",
        "    #decoder\n",
        "    conv5 = Conv2D(256, (3, 3), activation='relu', padding='same')(conv4) #7 x 7 x 128\n",
        "    conv5 = BatchNormalization()(conv5)\n",
        "    conv5 = Conv2D(256, (3, 3), activation='relu', padding='same')(conv5)\n",
        "    conv5 = BatchNormalization()(conv5)\n",
        "    conv6 = Conv2D(128, (3, 3), activation='relu', padding='same')(conv5) #7 x 7 x 64\n",
        "    conv6 = BatchNormalization()(conv6)\n",
        "    conv6 = Conv2D(128, (3, 3), activation='relu', padding='same')(conv6)\n",
        "    conv6 = BatchNormalization()(conv6)\n",
        "    up1 = UpSampling2D((2,2))(conv6) #14 x 14 x 64\n",
        "    conv7 = Conv2D(64, (3, 3), activation='relu', padding='same')(up1) # 14 x 14 x 32\n",
        "    conv7 = BatchNormalization()(conv7)\n",
        "    conv7 = Conv2D(64, (3, 3), activation='relu', padding='same')(conv7)\n",
        "    conv7 = BatchNormalization()(conv7)\n",
        "    conv8 = Conv2D(32, (3, 3), activation='relu', padding='same')(up1) # 14 x 14 x 32\n",
        "    conv8 = BatchNormalization()(conv8)\n",
        "    conv8 = Conv2D(32, (3, 3), activation='relu', padding='same')(conv8)\n",
        "    conv8 = BatchNormalization()(conv8)\n",
        "    up2 = UpSampling2D((2,2))(conv8) # 28 x 28 x 32\n",
        "    decoded = Conv2D(1, (3, 3), activation='sigmoid', padding='same')(up2) # 28 x 28 x 1\n",
        "    return decoded"
      ],
      "execution_count": 44,
      "outputs": []
    },
    {
      "cell_type": "markdown",
      "metadata": {
        "id": "yHqPp80FHrqy"
      },
      "source": [
        "After the model is created, you have to compile it using the optimizer to be RMSProp.\n",
        "\n",
        "Note that you also have to specify the loss type via the argument loss. In this case, that's the mean squared error, since the loss after every batch will be computed between the batch of predicted output and the ground truth using mean squared error pixel by pixel:"
      ]
    },
    {
      "cell_type": "code",
      "metadata": {
        "id": "OQ9tnEf0Hrqz"
      },
      "source": [
        "autoencoder = Model(input_img, decoder(encoder(input_img)))\n",
        "autoencoder.compile(loss='mean_squared_error', optimizer = RMSprop())"
      ],
      "execution_count": 45,
      "outputs": []
    },
    {
      "cell_type": "markdown",
      "metadata": {
        "id": "m1hdlUsKHrq4"
      },
      "source": [
        "Let's visualize the layers that you created in the above step by using the summary function. This will show a number of parameters (weights and biases) in each layer and also the total parameters in your model."
      ]
    },
    {
      "cell_type": "code",
      "metadata": {
        "id": "Y8sd-XndHrq5",
        "outputId": "192c1184-ed86-4ebb-d0bc-fdba0da35ac4",
        "colab": {
          "base_uri": "https://localhost:8080/"
        }
      },
      "source": [
        "autoencoder.summary()"
      ],
      "execution_count": 46,
      "outputs": [
        {
          "output_type": "stream",
          "text": [
            "Model: \"functional_5\"\n",
            "_________________________________________________________________\n",
            "Layer (type)                 Output Shape              Param #   \n",
            "=================================================================\n",
            "input_2 (InputLayer)         [(None, 28, 28, 1)]       0         \n",
            "_________________________________________________________________\n",
            "conv2d_23 (Conv2D)           (None, 28, 28, 32)        320       \n",
            "_________________________________________________________________\n",
            "batch_normalization_22 (Batc (None, 28, 28, 32)        128       \n",
            "_________________________________________________________________\n",
            "conv2d_24 (Conv2D)           (None, 28, 28, 32)        9248      \n",
            "_________________________________________________________________\n",
            "batch_normalization_23 (Batc (None, 28, 28, 32)        128       \n",
            "_________________________________________________________________\n",
            "max_pooling2d_4 (MaxPooling2 (None, 14, 14, 32)        0         \n",
            "_________________________________________________________________\n",
            "conv2d_25 (Conv2D)           (None, 14, 14, 64)        18496     \n",
            "_________________________________________________________________\n",
            "batch_normalization_24 (Batc (None, 14, 14, 64)        256       \n",
            "_________________________________________________________________\n",
            "conv2d_26 (Conv2D)           (None, 14, 14, 64)        36928     \n",
            "_________________________________________________________________\n",
            "batch_normalization_25 (Batc (None, 14, 14, 64)        256       \n",
            "_________________________________________________________________\n",
            "max_pooling2d_5 (MaxPooling2 (None, 7, 7, 64)          0         \n",
            "_________________________________________________________________\n",
            "conv2d_27 (Conv2D)           (None, 7, 7, 128)         73856     \n",
            "_________________________________________________________________\n",
            "batch_normalization_26 (Batc (None, 7, 7, 128)         512       \n",
            "_________________________________________________________________\n",
            "conv2d_28 (Conv2D)           (None, 7, 7, 128)         147584    \n",
            "_________________________________________________________________\n",
            "batch_normalization_27 (Batc (None, 7, 7, 128)         512       \n",
            "_________________________________________________________________\n",
            "conv2d_29 (Conv2D)           (None, 7, 7, 256)         295168    \n",
            "_________________________________________________________________\n",
            "batch_normalization_28 (Batc (None, 7, 7, 256)         1024      \n",
            "_________________________________________________________________\n",
            "conv2d_30 (Conv2D)           (None, 7, 7, 256)         590080    \n",
            "_________________________________________________________________\n",
            "batch_normalization_29 (Batc (None, 7, 7, 256)         1024      \n",
            "_________________________________________________________________\n",
            "conv2d_31 (Conv2D)           (None, 7, 7, 256)         590080    \n",
            "_________________________________________________________________\n",
            "batch_normalization_30 (Batc (None, 7, 7, 256)         1024      \n",
            "_________________________________________________________________\n",
            "conv2d_32 (Conv2D)           (None, 7, 7, 256)         590080    \n",
            "_________________________________________________________________\n",
            "batch_normalization_31 (Batc (None, 7, 7, 256)         1024      \n",
            "_________________________________________________________________\n",
            "conv2d_33 (Conv2D)           (None, 7, 7, 128)         295040    \n",
            "_________________________________________________________________\n",
            "batch_normalization_32 (Batc (None, 7, 7, 128)         512       \n",
            "_________________________________________________________________\n",
            "conv2d_34 (Conv2D)           (None, 7, 7, 128)         147584    \n",
            "_________________________________________________________________\n",
            "batch_normalization_33 (Batc (None, 7, 7, 128)         512       \n",
            "_________________________________________________________________\n",
            "up_sampling2d_2 (UpSampling2 (None, 14, 14, 128)       0         \n",
            "_________________________________________________________________\n",
            "conv2d_37 (Conv2D)           (None, 14, 14, 32)        36896     \n",
            "_________________________________________________________________\n",
            "batch_normalization_36 (Batc (None, 14, 14, 32)        128       \n",
            "_________________________________________________________________\n",
            "conv2d_38 (Conv2D)           (None, 14, 14, 32)        9248      \n",
            "_________________________________________________________________\n",
            "batch_normalization_37 (Batc (None, 14, 14, 32)        128       \n",
            "_________________________________________________________________\n",
            "up_sampling2d_3 (UpSampling2 (None, 28, 28, 32)        0         \n",
            "_________________________________________________________________\n",
            "conv2d_39 (Conv2D)           (None, 28, 28, 1)         289       \n",
            "=================================================================\n",
            "Total params: 2,848,065\n",
            "Trainable params: 2,844,481\n",
            "Non-trainable params: 3,584\n",
            "_________________________________________________________________\n"
          ],
          "name": "stdout"
        }
      ]
    },
    {
      "cell_type": "markdown",
      "metadata": {
        "id": "IIdLZ53JHrq_"
      },
      "source": [
        "It's finally time to train the model with Keras' fit() function! The model trains for 200 epochs. The fit() function will return a history object; By storing the result of this function in autoencoder_train, you can use it later to plot the loss function plot between training and validation which will help you to analyze your model's performance visually."
      ]
    },
    {
      "cell_type": "code",
      "metadata": {
        "id": "tscKaXx8HrrA",
        "outputId": "7e0d667a-15f7-464f-e610-d374d91c67a2",
        "colab": {
          "base_uri": "https://localhost:8080/"
        }
      },
      "source": [
        "autoencoder_train = autoencoder.fit(train_X, train_ground, batch_size=batch_size,epochs=epochs,verbose=1,validation_data=(valid_X, valid_ground))"
      ],
      "execution_count": 47,
      "outputs": [
        {
          "output_type": "stream",
          "text": [
            "Epoch 1/50\n",
            "750/750 [==============================] - 15s 21ms/step - loss: 0.0194 - val_loss: 0.0125\n",
            "Epoch 2/50\n",
            "750/750 [==============================] - 15s 21ms/step - loss: 0.0048 - val_loss: 0.0046\n",
            "Epoch 3/50\n",
            "750/750 [==============================] - 15s 21ms/step - loss: 0.0034 - val_loss: 0.0038\n",
            "Epoch 4/50\n",
            "750/750 [==============================] - 16s 21ms/step - loss: 0.0027 - val_loss: 0.0035\n",
            "Epoch 5/50\n",
            "750/750 [==============================] - 16s 22ms/step - loss: 0.0023 - val_loss: 0.0030\n",
            "Epoch 6/50\n",
            "750/750 [==============================] - 16s 22ms/step - loss: 0.0021 - val_loss: 0.0022\n",
            "Epoch 7/50\n",
            "750/750 [==============================] - 16s 21ms/step - loss: 0.0019 - val_loss: 0.0020\n",
            "Epoch 8/50\n",
            "750/750 [==============================] - 16s 21ms/step - loss: 0.0017 - val_loss: 0.0020\n",
            "Epoch 9/50\n",
            "750/750 [==============================] - 16s 21ms/step - loss: 0.0016 - val_loss: 0.0024\n",
            "Epoch 10/50\n",
            "750/750 [==============================] - 16s 21ms/step - loss: 0.0015 - val_loss: 0.0025\n",
            "Epoch 11/50\n",
            "750/750 [==============================] - 16s 21ms/step - loss: 0.0014 - val_loss: 0.0014\n",
            "Epoch 12/50\n",
            "750/750 [==============================] - 16s 21ms/step - loss: 0.0013 - val_loss: 0.0015\n",
            "Epoch 13/50\n",
            "750/750 [==============================] - 16s 21ms/step - loss: 0.0013 - val_loss: 0.0014\n",
            "Epoch 14/50\n",
            "750/750 [==============================] - 16s 21ms/step - loss: 0.0012 - val_loss: 0.0015\n",
            "Epoch 15/50\n",
            "750/750 [==============================] - 16s 21ms/step - loss: 0.0012 - val_loss: 0.0016\n",
            "Epoch 16/50\n",
            "750/750 [==============================] - 16s 21ms/step - loss: 0.0011 - val_loss: 0.0012\n",
            "Epoch 17/50\n",
            "750/750 [==============================] - 16s 21ms/step - loss: 0.0011 - val_loss: 0.0012\n",
            "Epoch 18/50\n",
            "750/750 [==============================] - 16s 21ms/step - loss: 0.0011 - val_loss: 0.0012\n",
            "Epoch 19/50\n",
            "750/750 [==============================] - 16s 21ms/step - loss: 0.0010 - val_loss: 0.0011\n",
            "Epoch 20/50\n",
            "750/750 [==============================] - 16s 21ms/step - loss: 0.0010 - val_loss: 0.0011\n",
            "Epoch 21/50\n",
            "750/750 [==============================] - 16s 21ms/step - loss: 9.8489e-04 - val_loss: 0.0013\n",
            "Epoch 22/50\n",
            "750/750 [==============================] - 16s 21ms/step - loss: 9.5021e-04 - val_loss: 0.0012\n",
            "Epoch 23/50\n",
            "750/750 [==============================] - 16s 21ms/step - loss: 9.3258e-04 - val_loss: 0.0011\n",
            "Epoch 24/50\n",
            "750/750 [==============================] - 16s 21ms/step - loss: 9.0519e-04 - val_loss: 0.0011\n",
            "Epoch 25/50\n",
            "750/750 [==============================] - 16s 21ms/step - loss: 8.8654e-04 - val_loss: 0.0014\n",
            "Epoch 26/50\n",
            "750/750 [==============================] - 16s 21ms/step - loss: 8.6403e-04 - val_loss: 0.0014\n",
            "Epoch 27/50\n",
            "750/750 [==============================] - 16s 21ms/step - loss: 8.4593e-04 - val_loss: 0.0010\n",
            "Epoch 28/50\n",
            "750/750 [==============================] - 16s 21ms/step - loss: 8.2937e-04 - val_loss: 0.0010\n",
            "Epoch 29/50\n",
            "750/750 [==============================] - 16s 21ms/step - loss: 8.0851e-04 - val_loss: 0.0011\n",
            "Epoch 30/50\n",
            "750/750 [==============================] - 16s 21ms/step - loss: 7.8998e-04 - val_loss: 0.0011\n",
            "Epoch 31/50\n",
            "750/750 [==============================] - 16s 21ms/step - loss: 7.7337e-04 - val_loss: 9.8688e-04\n",
            "Epoch 32/50\n",
            "750/750 [==============================] - 16s 21ms/step - loss: 7.6246e-04 - val_loss: 0.0010\n",
            "Epoch 33/50\n",
            "750/750 [==============================] - 16s 21ms/step - loss: 7.4682e-04 - val_loss: 9.3072e-04\n",
            "Epoch 34/50\n",
            "750/750 [==============================] - 16s 21ms/step - loss: 7.2808e-04 - val_loss: 0.0012\n",
            "Epoch 35/50\n",
            "750/750 [==============================] - 16s 21ms/step - loss: 7.1643e-04 - val_loss: 0.0012\n",
            "Epoch 36/50\n",
            "750/750 [==============================] - 16s 21ms/step - loss: 7.0568e-04 - val_loss: 9.2193e-04\n",
            "Epoch 37/50\n",
            "750/750 [==============================] - 16s 21ms/step - loss: 6.9799e-04 - val_loss: 0.0011\n",
            "Epoch 38/50\n",
            "750/750 [==============================] - 16s 21ms/step - loss: 6.8293e-04 - val_loss: 8.9375e-04\n",
            "Epoch 39/50\n",
            "750/750 [==============================] - 16s 21ms/step - loss: 6.7060e-04 - val_loss: 0.0011\n",
            "Epoch 40/50\n",
            "750/750 [==============================] - 16s 21ms/step - loss: 6.5802e-04 - val_loss: 9.5007e-04\n",
            "Epoch 41/50\n",
            "750/750 [==============================] - 16s 21ms/step - loss: 6.4889e-04 - val_loss: 9.4480e-04\n",
            "Epoch 42/50\n",
            "750/750 [==============================] - 16s 21ms/step - loss: 6.3880e-04 - val_loss: 9.0744e-04\n",
            "Epoch 43/50\n",
            "750/750 [==============================] - 16s 21ms/step - loss: 6.2628e-04 - val_loss: 9.0367e-04\n",
            "Epoch 44/50\n",
            "750/750 [==============================] - 16s 21ms/step - loss: 6.1925e-04 - val_loss: 9.0178e-04\n",
            "Epoch 45/50\n",
            "750/750 [==============================] - 16s 21ms/step - loss: 6.0825e-04 - val_loss: 9.3515e-04\n",
            "Epoch 46/50\n",
            "750/750 [==============================] - 16s 21ms/step - loss: 6.0164e-04 - val_loss: 9.8680e-04\n",
            "Epoch 47/50\n",
            "750/750 [==============================] - 16s 21ms/step - loss: 5.9329e-04 - val_loss: 9.2364e-04\n",
            "Epoch 48/50\n",
            "750/750 [==============================] - 16s 21ms/step - loss: 5.8559e-04 - val_loss: 8.1968e-04\n",
            "Epoch 49/50\n",
            "750/750 [==============================] - 16s 21ms/step - loss: 5.7787e-04 - val_loss: 8.7333e-04\n",
            "Epoch 50/50\n",
            "750/750 [==============================] - 16s 21ms/step - loss: 5.6993e-04 - val_loss: 8.4287e-04\n"
          ],
          "name": "stdout"
        }
      ]
    },
    {
      "cell_type": "markdown",
      "metadata": {
        "id": "JU1d7hHFHrrF"
      },
      "source": [
        "Now, let's plot the loss plot between training and validation data to visualize the model performance."
      ]
    },
    {
      "cell_type": "code",
      "metadata": {
        "id": "PQVQXgNOHrrG",
        "outputId": "cbc87587-9fdf-4212-d0ea-a41933cbb669",
        "colab": {
          "base_uri": "https://localhost:8080/",
          "height": 281
        }
      },
      "source": [
        "loss = autoencoder_train.history['loss']\n",
        "val_loss = autoencoder_train.history['val_loss']\n",
        "epochs = range(50)\n",
        "plt.figure()\n",
        "plt.plot(epochs, loss, 'bo', label='Training loss')\n",
        "plt.plot(epochs, val_loss, 'b', label='Validation loss')\n",
        "plt.title('Training and validation loss')\n",
        "plt.legend()\n",
        "plt.show()"
      ],
      "execution_count": 48,
      "outputs": [
        {
          "output_type": "display_data",
          "data": {
            "image/png": "[encoded data removed]",
            "text/plain": [
              "<Figure size 432x288 with 1 Axes>"
            ]
          },
          "metadata": {
            "tags": [],
            "needs_background": "light"
          }
        }
      ]
    },
    {
      "cell_type": "markdown",
      "metadata": {
        "id": "E3lFxRdsHrrL"
      },
      "source": [
        "Save the Model\n",
        "\n",
        "Since you will need the encoder weights in your classification task, first let's save the complete autoencoder weights. You will learn how you can extract the encoder weights soon."
      ]
    },
    {
      "cell_type": "code",
      "metadata": {
        "id": "ZN7P1EyUHrrM"
      },
      "source": [
        "autoencoder.save_weights('autoencoder.h5')"
      ],
      "execution_count": 49,
      "outputs": []
    },
    {
      "cell_type": "markdown",
      "metadata": {
        "id": "FKFBe6EJHrrR"
      },
      "source": [
        "Segmenting the fashion mnist images\n",
        "\n",
        "Now you will be using the trained autoencoder's head, i.e., the encoder part and will be loading the weights of the autoencoder you just now trained but only in the encoder part of the model.\n",
        "\n",
        "You will add a few dense or fully connected layers to the encoder to classify fashion mnist images.\n",
        "\n",
        "    Let's first convert the labels into one-hot encoding vectors.\n",
        "\n",
        "    For those of you who do not know about one-hot encoding:\n",
        "\n",
        "    In one-hot encoding, you convert the categorical data into a vector of numbers. The reason why you convert the categorical data in one hot encoding is that machine learning algorithms cannot work with categorical data directly. You generate one boolean column for each category or class. Only one of these columns could take on the value 1 for each sample. Hence, the term one-hot encoding.\n",
        "\n",
        "    For your problem statement, the one hot encoding will be a row vector, and for each image, it will have a dimension of 1 x 10. The important thing to note here is that the vector consists of all zeros except for the class that it represents, and for that, it is 1.\n",
        "\n",
        "    So let's convert the labels into one-hot encoding vectors:"
      ]
    },
    {
      "cell_type": "code",
      "metadata": {
        "id": "3if_TZrhHrrW",
        "outputId": "a9ba106e-7d69-4e07-c13c-20ea4f75c34e",
        "colab": {
          "base_uri": "https://localhost:8080/"
        }
      },
      "source": [
        "# Change the labels from categorical to one-hot encoding\n",
        "train_Y_one_hot = to_categorical(train_labels)\n",
        "test_Y_one_hot = to_categorical(test_labels)\n",
        "\n",
        "# Display the change for category label using one-hot encoding\n",
        "print('Original label:', train_labels[0])\n",
        "print('After conversion to one-hot:', train_Y_one_hot[0])\n"
      ],
      "execution_count": 50,
      "outputs": [
        {
          "output_type": "stream",
          "text": [
            "Original label: 5\n",
            "After conversion to one-hot: [0. 0. 0. 0. 0. 1. 0. 0. 0. 0.]\n"
          ],
          "name": "stdout"
        }
      ]
    },
    {
      "cell_type": "markdown",
      "metadata": {
        "id": "wn1R8PqjHrrb"
      },
      "source": [
        "This last step is a crucial one which you all have done before as well which is splitting the data into training and validation in the autoencoder training phase. So let's quickly do that step for classification as well. Note that you will use the same random state that you used before and also this time you will pass your labels as well that you just now converted into a one-hot encoding vector."
      ]
    },
    {
      "cell_type": "code",
      "metadata": {
        "id": "pwtoRDCmHrrc"
      },
      "source": [
        "train_X,valid_X,train_label,valid_label = train_test_split(train_data,train_Y_one_hot,test_size=0.2,random_state=13)"
      ],
      "execution_count": 51,
      "outputs": []
    },
    {
      "cell_type": "markdown",
      "metadata": {
        "id": "h8TZAddzHrrh"
      },
      "source": [
        "Now, let's define the classification model. Remember that you will be using the exact same encoder part as you used in the autoencoder architecture."
      ]
    },
    {
      "cell_type": "markdown",
      "metadata": {
        "id": "2aSdELMpHrri"
      },
      "source": [
        "Let's define the fully connected layers that you will be stacking up with the encoder function."
      ]
    },
    {
      "cell_type": "code",
      "metadata": {
        "id": "dLI5BFbpHrrj"
      },
      "source": [
        "def fc(enco):\n",
        "    flat = Flatten()(enco)\n",
        "    den = Dense(128, activation='relu')(flat)\n",
        "    out = Dense(num_classes, activation='softmax')(den)\n",
        "    return out"
      ],
      "execution_count": 52,
      "outputs": []
    },
    {
      "cell_type": "code",
      "metadata": {
        "id": "SxoBnwaHHrrn"
      },
      "source": [
        "encode = encoder(input_img)\n",
        "full_model = Model(input_img,fc(encode))\n",
        "\n",
        "for l1,l2 in zip(full_model.layers[:19],autoencoder.layers[0:19]):\n",
        "    l1.set_weights(l2.get_weights())"
      ],
      "execution_count": 53,
      "outputs": []
    },
    {
      "cell_type": "markdown",
      "metadata": {
        "id": "_PoZ5IYgHrrs"
      },
      "source": [
        "Note: The next step is pretty important. In order to be sure whether the weights of the encoder part of the autoencoder are similar to the weights you loaded to the encoder function of the classification model, you should always print any one of the same layers weights of both the models. If they are not similar, then there is no use in using the autoencoder classification strategy.\n",
        "\n",
        "Let's print first layer weights of both the models."
      ]
    },
    {
      "cell_type": "code",
      "metadata": {
        "id": "bt1ShGlPHrru",
        "outputId": "38204fdd-d0d3-4ad9-c656-03cef5165f9a",
        "colab": {
          "base_uri": "https://localhost:8080/"
        }
      },
      "source": [
        "autoencoder.get_weights()[0][1]"
      ],
      "execution_count": 54,
      "outputs": [
        {
          "output_type": "execute_result",
          "data": {
            "text/plain": [
              "array([[[ 0.00291381,  0.06622736,  0.14887714, -0.07646749,\n",
              "          0.166239  ,  0.43064728, -0.30094555, -0.21422039,\n",
              "         -0.43986422, -0.34554306, -0.14577365,  0.06117329,\n",
              "          0.3716731 , -0.13446558, -0.25553563,  0.19630578,\n",
              "         -0.05344449, -0.14077848, -0.507151  ,  0.00347194,\n",
              "         -0.22582461, -0.18376563,  0.17417587,  0.4730516 ,\n",
              "         -0.1800256 ,  0.29083738, -0.1856886 , -0.10147985,\n",
              "         -0.04849286,  0.39221418,  0.09458909,  0.33184537]],\n",
              "\n",
              "       [[-0.07723062,  0.37538704, -0.5715378 , -0.0403895 ,\n",
              "         -0.13035056,  0.16243546, -0.36530742, -0.07980088,\n",
              "         -0.217516  , -0.25051546, -0.0321228 ,  0.35992116,\n",
              "          0.14674982,  0.10315208, -0.1600764 , -0.2801438 ,\n",
              "          0.16326804, -0.1725497 , -0.65068847, -0.17152588,\n",
              "          0.12135918, -0.18716931,  0.35045478, -0.20494023,\n",
              "         -0.24088795,  0.09192833, -0.30810916, -0.21934555,\n",
              "          0.2691421 , -0.3882152 ,  0.08861321,  0.17760557]],\n",
              "\n",
              "       [[ 0.28290695,  0.30934608,  0.1268047 ,  0.00486138,\n",
              "         -0.13566786, -0.23840456, -0.13880174, -0.03168076,\n",
              "          0.19898   , -0.22585246,  0.33286706, -0.17691167,\n",
              "         -0.13994832,  0.23507765,  0.1149065 , -0.0295135 ,\n",
              "          0.0165809 , -0.3169072 , -0.26786155, -0.29704127,\n",
              "          0.2513999 , -0.02724124, -0.19676067, -0.11910663,\n",
              "          0.0768192 , -0.20239934,  0.465539  , -0.16543303,\n",
              "          0.14366828,  0.13007365, -0.17705773, -0.8185655 ]]],\n",
              "      dtype=float32)"
            ]
          },
          "metadata": {
            "tags": []
          },
          "execution_count": 54
        }
      ]
    },
    {
      "cell_type": "code",
      "metadata": {
        "id": "khhne4sjHrrz",
        "outputId": "a87cc2fd-6253-4649-a562-0369b2c60ed9",
        "colab": {
          "base_uri": "https://localhost:8080/"
        }
      },
      "source": [
        "full_model.get_weights()[0][1]"
      ],
      "execution_count": 55,
      "outputs": [
        {
          "output_type": "execute_result",
          "data": {
            "text/plain": [
              "array([[[ 0.00291381,  0.06622736,  0.14887714, -0.07646749,\n",
              "          0.166239  ,  0.43064728, -0.30094555, -0.21422039,\n",
              "         -0.43986422, -0.34554306, -0.14577365,  0.06117329,\n",
              "          0.3716731 , -0.13446558, -0.25553563,  0.19630578,\n",
              "         -0.05344449, -0.14077848, -0.507151  ,  0.00347194,\n",
              "         -0.22582461, -0.18376563,  0.17417587,  0.4730516 ,\n",
              "         -0.1800256 ,  0.29083738, -0.1856886 , -0.10147985,\n",
              "         -0.04849286,  0.39221418,  0.09458909,  0.33184537]],\n",
              "\n",
              "       [[-0.07723062,  0.37538704, -0.5715378 , -0.0403895 ,\n",
              "         -0.13035056,  0.16243546, -0.36530742, -0.07980088,\n",
              "         -0.217516  , -0.25051546, -0.0321228 ,  0.35992116,\n",
              "          0.14674982,  0.10315208, -0.1600764 , -0.2801438 ,\n",
              "          0.16326804, -0.1725497 , -0.65068847, -0.17152588,\n",
              "          0.12135918, -0.18716931,  0.35045478, -0.20494023,\n",
              "         -0.24088795,  0.09192833, -0.30810916, -0.21934555,\n",
              "          0.2691421 , -0.3882152 ,  0.08861321,  0.17760557]],\n",
              "\n",
              "       [[ 0.28290695,  0.30934608,  0.1268047 ,  0.00486138,\n",
              "         -0.13566786, -0.23840456, -0.13880174, -0.03168076,\n",
              "          0.19898   , -0.22585246,  0.33286706, -0.17691167,\n",
              "         -0.13994832,  0.23507765,  0.1149065 , -0.0295135 ,\n",
              "          0.0165809 , -0.3169072 , -0.26786155, -0.29704127,\n",
              "          0.2513999 , -0.02724124, -0.19676067, -0.11910663,\n",
              "          0.0768192 , -0.20239934,  0.465539  , -0.16543303,\n",
              "          0.14366828,  0.13007365, -0.17705773, -0.8185655 ]]],\n",
              "      dtype=float32)"
            ]
          },
          "metadata": {
            "tags": []
          },
          "execution_count": 55
        }
      ]
    },
    {
      "cell_type": "markdown",
      "metadata": {
        "id": "X7nyf3mzHrr3"
      },
      "source": [
        "Voila! Both the arrays look exactly similar. So, without any further ado, let's compile the model and start the training.\n",
        "\n",
        "Next, you will make the encoder part i.e.the first nineteen layers of the model trainable false. Since the encoder part is already trained, you do not need to train it. You will only be training the Fully Connected part."
      ]
    },
    {
      "cell_type": "code",
      "metadata": {
        "id": "IQLzExNwHrr5"
      },
      "source": [
        "for layer in full_model.layers[0:19]:\n",
        "    layer.trainable = False\n"
      ],
      "execution_count": 56,
      "outputs": []
    },
    {
      "cell_type": "markdown",
      "metadata": {
        "id": "ksKSr2kcHrr-"
      },
      "source": [
        "Let's compile the model!"
      ]
    },
    {
      "cell_type": "code",
      "metadata": {
        "id": "PpeRquzjHrr_"
      },
      "source": [
        "full_model.compile(loss=keras.losses.categorical_crossentropy, optimizer=keras.optimizers.Adam(),metrics=['accuracy'])"
      ],
      "execution_count": 57,
      "outputs": []
    },
    {
      "cell_type": "markdown",
      "metadata": {
        "id": "_JagbFbNHrsE"
      },
      "source": [
        "Let's print the summary of the model as well. There should be non-trainable parameters as well since you made the first fifteen layers of the model non-trainable."
      ]
    },
    {
      "cell_type": "code",
      "metadata": {
        "id": "9eSKY9wgHrsE",
        "outputId": "f7ff74a1-9de7-4964-ddb9-881b26ba214f",
        "colab": {
          "base_uri": "https://localhost:8080/"
        }
      },
      "source": [
        "full_model.summary()"
      ],
      "execution_count": 58,
      "outputs": [
        {
          "output_type": "stream",
          "text": [
            "Model: \"functional_7\"\n",
            "_________________________________________________________________\n",
            "Layer (type)                 Output Shape              Param #   \n",
            "=================================================================\n",
            "input_2 (InputLayer)         [(None, 28, 28, 1)]       0         \n",
            "_________________________________________________________________\n",
            "conv2d_40 (Conv2D)           (None, 28, 28, 32)        320       \n",
            "_________________________________________________________________\n",
            "batch_normalization_38 (Batc (None, 28, 28, 32)        128       \n",
            "_________________________________________________________________\n",
            "conv2d_41 (Conv2D)           (None, 28, 28, 32)        9248      \n",
            "_________________________________________________________________\n",
            "batch_normalization_39 (Batc (None, 28, 28, 32)        128       \n",
            "_________________________________________________________________\n",
            "max_pooling2d_6 (MaxPooling2 (None, 14, 14, 32)        0         \n",
            "_________________________________________________________________\n",
            "conv2d_42 (Conv2D)           (None, 14, 14, 64)        18496     \n",
            "_________________________________________________________________\n",
            "batch_normalization_40 (Batc (None, 14, 14, 64)        256       \n",
            "_________________________________________________________________\n",
            "conv2d_43 (Conv2D)           (None, 14, 14, 64)        36928     \n",
            "_________________________________________________________________\n",
            "batch_normalization_41 (Batc (None, 14, 14, 64)        256       \n",
            "_________________________________________________________________\n",
            "max_pooling2d_7 (MaxPooling2 (None, 7, 7, 64)          0         \n",
            "_________________________________________________________________\n",
            "conv2d_44 (Conv2D)           (None, 7, 7, 128)         73856     \n",
            "_________________________________________________________________\n",
            "batch_normalization_42 (Batc (None, 7, 7, 128)         512       \n",
            "_________________________________________________________________\n",
            "conv2d_45 (Conv2D)           (None, 7, 7, 128)         147584    \n",
            "_________________________________________________________________\n",
            "batch_normalization_43 (Batc (None, 7, 7, 128)         512       \n",
            "_________________________________________________________________\n",
            "conv2d_46 (Conv2D)           (None, 7, 7, 256)         295168    \n",
            "_________________________________________________________________\n",
            "batch_normalization_44 (Batc (None, 7, 7, 256)         1024      \n",
            "_________________________________________________________________\n",
            "conv2d_47 (Conv2D)           (None, 7, 7, 256)         590080    \n",
            "_________________________________________________________________\n",
            "batch_normalization_45 (Batc (None, 7, 7, 256)         1024      \n",
            "_________________________________________________________________\n",
            "flatten_1 (Flatten)          (None, 12544)             0         \n",
            "_________________________________________________________________\n",
            "dense_2 (Dense)              (None, 128)               1605760   \n",
            "_________________________________________________________________\n",
            "dense_3 (Dense)              (None, 10)                1290      \n",
            "=================================================================\n",
            "Total params: 2,782,570\n",
            "Trainable params: 1,607,050\n",
            "Non-trainable params: 1,175,520\n",
            "_________________________________________________________________\n"
          ],
          "name": "stdout"
        }
      ]
    },
    {
      "cell_type": "markdown",
      "metadata": {
        "id": "bVw-nVCWHrsK"
      },
      "source": [
        "Train the Model\n",
        "\n",
        "It's finally time to train the model with Keras' fit() function! The model trains for 10 epochs. The fit() function will return a history object; By storing the result of this function in fashion_train, you can use it later to plot the accuracy and loss function plots between training and validation which will help you to analyze your model's performance visually.\n",
        "\n"
      ]
    },
    {
      "cell_type": "code",
      "metadata": {
        "id": "5fEExuSjHrsL",
        "outputId": "184a678a-9b75-47ea-9398-b8ed81751262",
        "colab": {
          "base_uri": "https://localhost:8080/"
        }
      },
      "source": [
        "classify_train = full_model.fit(train_X, train_label, batch_size=64,epochs=50,verbose=1,validation_data=(valid_X, valid_label))"
      ],
      "execution_count": 59,
      "outputs": [
        {
          "output_type": "stream",
          "text": [
            "Epoch 1/50\n",
            "750/750 [==============================] - 4s 6ms/step - loss: 0.2312 - accuracy: 0.9348 - val_loss: 0.1307 - val_accuracy: 0.9636\n",
            "Epoch 2/50\n",
            "750/750 [==============================] - 4s 5ms/step - loss: 0.0765 - accuracy: 0.9767 - val_loss: 0.1343 - val_accuracy: 0.9661\n",
            "Epoch 3/50\n",
            "750/750 [==============================] - 4s 5ms/step - loss: 0.0533 - accuracy: 0.9837 - val_loss: 0.1231 - val_accuracy: 0.9700\n",
            "Epoch 4/50\n",
            "750/750 [==============================] - 4s 5ms/step - loss: 0.0412 - accuracy: 0.9871 - val_loss: 0.1841 - val_accuracy: 0.9653\n",
            "Epoch 5/50\n",
            "750/750 [==============================] - 4s 6ms/step - loss: 0.0461 - accuracy: 0.9861 - val_loss: 0.1471 - val_accuracy: 0.9700\n",
            "Epoch 6/50\n",
            "750/750 [==============================] - 4s 6ms/step - loss: 0.0371 - accuracy: 0.9891 - val_loss: 0.1649 - val_accuracy: 0.9706\n",
            "Epoch 7/50\n",
            "750/750 [==============================] - 4s 5ms/step - loss: 0.0263 - accuracy: 0.9918 - val_loss: 0.1621 - val_accuracy: 0.9742\n",
            "Epoch 8/50\n",
            "750/750 [==============================] - 4s 5ms/step - loss: 0.0295 - accuracy: 0.9916 - val_loss: 0.1916 - val_accuracy: 0.9702\n",
            "Epoch 9/50\n",
            "750/750 [==============================] - 4s 5ms/step - loss: 0.0277 - accuracy: 0.9923 - val_loss: 0.2156 - val_accuracy: 0.9709\n",
            "Epoch 10/50\n",
            "750/750 [==============================] - 4s 5ms/step - loss: 0.0270 - accuracy: 0.9925 - val_loss: 0.1962 - val_accuracy: 0.9733\n",
            "Epoch 11/50\n",
            "750/750 [==============================] - 4s 5ms/step - loss: 0.0179 - accuracy: 0.9946 - val_loss: 0.1830 - val_accuracy: 0.9735\n",
            "Epoch 12/50\n",
            "750/750 [==============================] - 4s 5ms/step - loss: 0.0226 - accuracy: 0.9939 - val_loss: 0.2076 - val_accuracy: 0.9711\n",
            "Epoch 13/50\n",
            "750/750 [==============================] - 4s 5ms/step - loss: 0.0337 - accuracy: 0.9934 - val_loss: 0.2454 - val_accuracy: 0.9710\n",
            "Epoch 14/50\n",
            "750/750 [==============================] - 4s 5ms/step - loss: 0.0224 - accuracy: 0.9942 - val_loss: 0.2326 - val_accuracy: 0.9757\n",
            "Epoch 15/50\n",
            "750/750 [==============================] - 4s 5ms/step - loss: 0.0155 - accuracy: 0.9961 - val_loss: 0.2294 - val_accuracy: 0.9747\n",
            "Epoch 16/50\n",
            "750/750 [==============================] - 4s 5ms/step - loss: 0.0209 - accuracy: 0.9948 - val_loss: 0.2399 - val_accuracy: 0.9748\n",
            "Epoch 17/50\n",
            "750/750 [==============================] - 4s 5ms/step - loss: 0.0212 - accuracy: 0.9952 - val_loss: 0.3134 - val_accuracy: 0.9720\n",
            "Epoch 18/50\n",
            "750/750 [==============================] - 4s 5ms/step - loss: 0.0223 - accuracy: 0.9951 - val_loss: 0.2782 - val_accuracy: 0.9747\n",
            "Epoch 19/50\n",
            "750/750 [==============================] - 4s 5ms/step - loss: 0.0144 - accuracy: 0.9966 - val_loss: 0.2583 - val_accuracy: 0.9734\n",
            "Epoch 20/50\n",
            "750/750 [==============================] - 4s 5ms/step - loss: 0.0167 - accuracy: 0.9962 - val_loss: 0.2897 - val_accuracy: 0.9743\n",
            "Epoch 21/50\n",
            "750/750 [==============================] - 4s 5ms/step - loss: 0.0142 - accuracy: 0.9970 - val_loss: 0.2985 - val_accuracy: 0.9718\n",
            "Epoch 22/50\n",
            "750/750 [==============================] - 4s 5ms/step - loss: 0.0210 - accuracy: 0.9958 - val_loss: 0.3366 - val_accuracy: 0.9737\n",
            "Epoch 23/50\n",
            "750/750 [==============================] - 4s 5ms/step - loss: 0.0134 - accuracy: 0.9971 - val_loss: 0.3587 - val_accuracy: 0.9707\n",
            "Epoch 24/50\n",
            "750/750 [==============================] - 4s 5ms/step - loss: 0.0124 - accuracy: 0.9974 - val_loss: 0.3216 - val_accuracy: 0.9728\n",
            "Epoch 25/50\n",
            "750/750 [==============================] - 4s 5ms/step - loss: 0.0158 - accuracy: 0.9967 - val_loss: 0.3404 - val_accuracy: 0.9735\n",
            "Epoch 26/50\n",
            "750/750 [==============================] - 4s 5ms/step - loss: 0.0154 - accuracy: 0.9967 - val_loss: 0.3403 - val_accuracy: 0.9755\n",
            "Epoch 27/50\n",
            "750/750 [==============================] - 4s 5ms/step - loss: 0.0129 - accuracy: 0.9975 - val_loss: 0.4279 - val_accuracy: 0.9708\n",
            "Epoch 28/50\n",
            "750/750 [==============================] - 4s 5ms/step - loss: 0.0130 - accuracy: 0.9971 - val_loss: 0.4157 - val_accuracy: 0.9740\n",
            "Epoch 29/50\n",
            "750/750 [==============================] - 4s 5ms/step - loss: 0.0173 - accuracy: 0.9964 - val_loss: 0.3895 - val_accuracy: 0.9731\n",
            "Epoch 30/50\n",
            "750/750 [==============================] - 4s 5ms/step - loss: 0.0103 - accuracy: 0.9976 - val_loss: 0.4252 - val_accuracy: 0.9729\n",
            "Epoch 31/50\n",
            "750/750 [==============================] - 4s 5ms/step - loss: 0.0122 - accuracy: 0.9980 - val_loss: 0.4417 - val_accuracy: 0.9754\n",
            "Epoch 32/50\n",
            "750/750 [==============================] - 4s 5ms/step - loss: 0.0172 - accuracy: 0.9970 - val_loss: 0.3853 - val_accuracy: 0.9753\n",
            "Epoch 33/50\n",
            "750/750 [==============================] - 4s 5ms/step - loss: 0.0123 - accuracy: 0.9978 - val_loss: 0.4145 - val_accuracy: 0.9761\n",
            "Epoch 34/50\n",
            "750/750 [==============================] - 4s 5ms/step - loss: 0.0111 - accuracy: 0.9979 - val_loss: 0.4237 - val_accuracy: 0.9742\n",
            "Epoch 35/50\n",
            "750/750 [==============================] - 4s 5ms/step - loss: 0.0128 - accuracy: 0.9978 - val_loss: 0.3994 - val_accuracy: 0.9757\n",
            "Epoch 36/50\n",
            "750/750 [==============================] - 4s 5ms/step - loss: 0.0095 - accuracy: 0.9983 - val_loss: 0.4241 - val_accuracy: 0.9744\n",
            "Epoch 37/50\n",
            "750/750 [==============================] - 4s 5ms/step - loss: 0.0125 - accuracy: 0.9978 - val_loss: 0.4509 - val_accuracy: 0.9762\n",
            "Epoch 38/50\n",
            "750/750 [==============================] - 4s 5ms/step - loss: 0.0121 - accuracy: 0.9979 - val_loss: 0.4717 - val_accuracy: 0.9734\n",
            "Epoch 39/50\n",
            "750/750 [==============================] - 4s 6ms/step - loss: 0.0138 - accuracy: 0.9978 - val_loss: 0.5133 - val_accuracy: 0.9728\n",
            "Epoch 40/50\n",
            "750/750 [==============================] - 4s 6ms/step - loss: 0.0169 - accuracy: 0.9974 - val_loss: 0.4986 - val_accuracy: 0.9742\n",
            "Epoch 41/50\n",
            "750/750 [==============================] - 4s 5ms/step - loss: 0.0088 - accuracy: 0.9985 - val_loss: 0.4472 - val_accuracy: 0.9772\n",
            "Epoch 42/50\n",
            "750/750 [==============================] - 4s 5ms/step - loss: 0.0095 - accuracy: 0.9986 - val_loss: 0.4865 - val_accuracy: 0.9754\n",
            "Epoch 43/50\n",
            "750/750 [==============================] - 4s 5ms/step - loss: 0.0117 - accuracy: 0.9983 - val_loss: 0.4836 - val_accuracy: 0.9754\n",
            "Epoch 44/50\n",
            "750/750 [==============================] - 4s 5ms/step - loss: 0.0078 - accuracy: 0.9985 - val_loss: 0.5136 - val_accuracy: 0.9755\n",
            "Epoch 45/50\n",
            "750/750 [==============================] - 4s 5ms/step - loss: 0.0144 - accuracy: 0.9978 - val_loss: 0.5035 - val_accuracy: 0.9762\n",
            "Epoch 46/50\n",
            "750/750 [==============================] - 4s 5ms/step - loss: 0.0202 - accuracy: 0.9972 - val_loss: 0.5210 - val_accuracy: 0.9748\n",
            "Epoch 47/50\n",
            "750/750 [==============================] - 4s 5ms/step - loss: 0.0100 - accuracy: 0.9984 - val_loss: 0.5262 - val_accuracy: 0.9759\n",
            "Epoch 48/50\n",
            "750/750 [==============================] - 4s 5ms/step - loss: 0.0132 - accuracy: 0.9984 - val_loss: 0.5288 - val_accuracy: 0.9751\n",
            "Epoch 49/50\n",
            "750/750 [==============================] - 4s 5ms/step - loss: 0.0162 - accuracy: 0.9980 - val_loss: 0.5531 - val_accuracy: 0.9747\n",
            "Epoch 50/50\n",
            "750/750 [==============================] - 4s 5ms/step - loss: 0.0116 - accuracy: 0.9981 - val_loss: 0.5549 - val_accuracy: 0.9742\n"
          ],
          "name": "stdout"
        }
      ]
    },
    {
      "cell_type": "markdown",
      "metadata": {
        "id": "O8L_moCuHrsP"
      },
      "source": [
        "Let's save the classification model"
      ]
    },
    {
      "cell_type": "code",
      "metadata": {
        "id": "BQLBeJ-DHrsQ"
      },
      "source": [
        "full_model.save_weights('autoencoder_classification.h5')"
      ],
      "execution_count": 60,
      "outputs": []
    },
    {
      "cell_type": "markdown",
      "metadata": {
        "id": "Kueq_f5zHrsV"
      },
      "source": [
        " Next, you will re-train the model by making the first nineteen layers trainable as True instead of keeping them False! So, let's quickly do that."
      ]
    },
    {
      "cell_type": "code",
      "metadata": {
        "id": "3mz-aEouHrsW"
      },
      "source": [
        "for layer in full_model.layers[0:19]:\n",
        "    layer.trainable = True\n",
        "\n",
        "    full_model.compile(loss=keras.losses.categorical_crossentropy, optimizer=keras.optimizers.Adam(),metrics=['accuracy'])"
      ],
      "execution_count": 61,
      "outputs": []
    },
    {
      "cell_type": "markdown",
      "metadata": {
        "id": "tDKfJI_MHrsb"
      },
      "source": [
        "Now let's train the entire model for one last time!"
      ]
    },
    {
      "cell_type": "code",
      "metadata": {
        "id": "I0-oHVnSHrsc",
        "outputId": "cf61fd5b-8be6-4e9c-a027-902366818fd6",
        "colab": {
          "base_uri": "https://localhost:8080/"
        }
      },
      "source": [
        "classify_train = full_model.fit(train_X, train_label, batch_size=64,epochs=50,verbose=1,validation_data=(valid_X, valid_label))"
      ],
      "execution_count": 62,
      "outputs": [
        {
          "output_type": "stream",
          "text": [
            "Epoch 1/50\n",
            "  1/750 [..............................] - ETA: 7s - loss: 2.8613e-04 - accuracy: 1.0000WARNING:tensorflow:Callbacks method `on_train_batch_end` is slow compared to the batch time (batch time: 0.0048s vs `on_train_batch_end` time: 0.0103s). Check your callbacks.\n",
            "750/750 [==============================] - 9s 12ms/step - loss: 0.1141 - accuracy: 0.9905 - val_loss: 0.5940 - val_accuracy: 0.9697\n",
            "Epoch 2/50\n",
            "750/750 [==============================] - 9s 12ms/step - loss: 0.0619 - accuracy: 0.9937 - val_loss: 0.4635 - val_accuracy: 0.9772\n",
            "Epoch 3/50\n",
            "750/750 [==============================] - 9s 12ms/step - loss: 0.0525 - accuracy: 0.9943 - val_loss: 0.4547 - val_accuracy: 0.9782\n",
            "Epoch 4/50\n",
            "750/750 [==============================] - 9s 12ms/step - loss: 0.0489 - accuracy: 0.9940 - val_loss: 0.3589 - val_accuracy: 0.9797\n",
            "Epoch 5/50\n",
            "750/750 [==============================] - 9s 12ms/step - loss: 0.0342 - accuracy: 0.9954 - val_loss: 0.3879 - val_accuracy: 0.9767\n",
            "Epoch 6/50\n",
            "750/750 [==============================] - 9s 12ms/step - loss: 0.0377 - accuracy: 0.9949 - val_loss: 0.3548 - val_accuracy: 0.9760\n",
            "Epoch 7/50\n",
            "750/750 [==============================] - 9s 11ms/step - loss: 0.0293 - accuracy: 0.9956 - val_loss: 0.3507 - val_accuracy: 0.9795\n",
            "Epoch 8/50\n",
            "750/750 [==============================] - 9s 11ms/step - loss: 0.0348 - accuracy: 0.9949 - val_loss: 0.2659 - val_accuracy: 0.9825\n",
            "Epoch 9/50\n",
            "750/750 [==============================] - 9s 11ms/step - loss: 0.0285 - accuracy: 0.9955 - val_loss: 0.2247 - val_accuracy: 0.9803\n",
            "Epoch 10/50\n",
            "750/750 [==============================] - 9s 11ms/step - loss: 0.0292 - accuracy: 0.9959 - val_loss: 0.2764 - val_accuracy: 0.9800\n",
            "Epoch 11/50\n",
            "750/750 [==============================] - 9s 12ms/step - loss: 0.0228 - accuracy: 0.9965 - val_loss: 0.2428 - val_accuracy: 0.9837\n",
            "Epoch 12/50\n",
            "750/750 [==============================] - 9s 12ms/step - loss: 0.0192 - accuracy: 0.9966 - val_loss: 0.2459 - val_accuracy: 0.9815\n",
            "Epoch 13/50\n",
            "750/750 [==============================] - 9s 12ms/step - loss: 0.0194 - accuracy: 0.9967 - val_loss: 0.1963 - val_accuracy: 0.9832\n",
            "Epoch 14/50\n",
            "750/750 [==============================] - 9s 12ms/step - loss: 0.0235 - accuracy: 0.9960 - val_loss: 0.2362 - val_accuracy: 0.9822\n",
            "Epoch 15/50\n",
            "750/750 [==============================] - 9s 12ms/step - loss: 0.0266 - accuracy: 0.9955 - val_loss: 0.2555 - val_accuracy: 0.9800\n",
            "Epoch 16/50\n",
            "750/750 [==============================] - 9s 12ms/step - loss: 0.0156 - accuracy: 0.9972 - val_loss: 0.2383 - val_accuracy: 0.9828\n",
            "Epoch 17/50\n",
            "750/750 [==============================] - 9s 11ms/step - loss: 0.0165 - accuracy: 0.9973 - val_loss: 0.2369 - val_accuracy: 0.9822\n",
            "Epoch 18/50\n",
            "750/750 [==============================] - 9s 11ms/step - loss: 0.0140 - accuracy: 0.9973 - val_loss: 0.1764 - val_accuracy: 0.9833\n",
            "Epoch 19/50\n",
            "750/750 [==============================] - 9s 11ms/step - loss: 0.0141 - accuracy: 0.9973 - val_loss: 0.1886 - val_accuracy: 0.9848\n",
            "Epoch 20/50\n",
            "750/750 [==============================] - 9s 12ms/step - loss: 0.0130 - accuracy: 0.9973 - val_loss: 0.2216 - val_accuracy: 0.9827\n",
            "Epoch 21/50\n",
            "750/750 [==============================] - 9s 12ms/step - loss: 0.0182 - accuracy: 0.9968 - val_loss: 0.1362 - val_accuracy: 0.9859\n",
            "Epoch 22/50\n",
            "750/750 [==============================] - 9s 12ms/step - loss: 0.0062 - accuracy: 0.9984 - val_loss: 0.1801 - val_accuracy: 0.9852\n",
            "Epoch 23/50\n",
            "750/750 [==============================] - 9s 12ms/step - loss: 0.0153 - accuracy: 0.9976 - val_loss: 0.1659 - val_accuracy: 0.9848\n",
            "Epoch 24/50\n",
            "750/750 [==============================] - 9s 12ms/step - loss: 0.0129 - accuracy: 0.9977 - val_loss: 0.1867 - val_accuracy: 0.9860\n",
            "Epoch 25/50\n",
            "750/750 [==============================] - 9s 12ms/step - loss: 0.0148 - accuracy: 0.9975 - val_loss: 0.1898 - val_accuracy: 0.9845\n",
            "Epoch 26/50\n",
            "750/750 [==============================] - 9s 12ms/step - loss: 0.0066 - accuracy: 0.9984 - val_loss: 0.1853 - val_accuracy: 0.9861\n",
            "Epoch 27/50\n",
            "750/750 [==============================] - 9s 12ms/step - loss: 0.0128 - accuracy: 0.9976 - val_loss: 0.1659 - val_accuracy: 0.9857\n",
            "Epoch 28/50\n",
            "750/750 [==============================] - 9s 12ms/step - loss: 0.0122 - accuracy: 0.9981 - val_loss: 0.1767 - val_accuracy: 0.9861\n",
            "Epoch 29/50\n",
            "750/750 [==============================] - 9s 12ms/step - loss: 0.0121 - accuracy: 0.9980 - val_loss: 0.1604 - val_accuracy: 0.9847\n",
            "Epoch 30/50\n",
            "750/750 [==============================] - 9s 11ms/step - loss: 0.0091 - accuracy: 0.9981 - val_loss: 0.1997 - val_accuracy: 0.9852\n",
            "Epoch 31/50\n",
            "750/750 [==============================] - 9s 12ms/step - loss: 0.0080 - accuracy: 0.9983 - val_loss: 0.1884 - val_accuracy: 0.9852\n",
            "Epoch 32/50\n",
            "750/750 [==============================] - 9s 12ms/step - loss: 0.0074 - accuracy: 0.9985 - val_loss: 0.1556 - val_accuracy: 0.9894\n",
            "Epoch 33/50\n",
            "750/750 [==============================] - 9s 12ms/step - loss: 0.0077 - accuracy: 0.9987 - val_loss: 0.1422 - val_accuracy: 0.9878\n",
            "Epoch 34/50\n",
            "750/750 [==============================] - 9s 12ms/step - loss: 0.0108 - accuracy: 0.9979 - val_loss: 0.1422 - val_accuracy: 0.9887\n",
            "Epoch 35/50\n",
            "750/750 [==============================] - 9s 12ms/step - loss: 0.0085 - accuracy: 0.9985 - val_loss: 0.1482 - val_accuracy: 0.9893\n",
            "Epoch 36/50\n",
            "750/750 [==============================] - 9s 12ms/step - loss: 0.0113 - accuracy: 0.9981 - val_loss: 0.2102 - val_accuracy: 0.9844\n",
            "Epoch 37/50\n",
            "750/750 [==============================] - 9s 12ms/step - loss: 0.0070 - accuracy: 0.9985 - val_loss: 0.1617 - val_accuracy: 0.9886\n",
            "Epoch 38/50\n",
            "750/750 [==============================] - 9s 12ms/step - loss: 0.0055 - accuracy: 0.9990 - val_loss: 0.1871 - val_accuracy: 0.9848\n",
            "Epoch 39/50\n",
            "750/750 [==============================] - 9s 12ms/step - loss: 0.0070 - accuracy: 0.9986 - val_loss: 0.1274 - val_accuracy: 0.9885\n",
            "Epoch 40/50\n",
            "750/750 [==============================] - 9s 11ms/step - loss: 0.0039 - accuracy: 0.9992 - val_loss: 0.1851 - val_accuracy: 0.9836\n",
            "Epoch 41/50\n",
            "750/750 [==============================] - 9s 12ms/step - loss: 0.0084 - accuracy: 0.9985 - val_loss: 0.1608 - val_accuracy: 0.9881\n",
            "Epoch 42/50\n",
            "750/750 [==============================] - 9s 11ms/step - loss: 0.0069 - accuracy: 0.9985 - val_loss: 0.1837 - val_accuracy: 0.9868\n",
            "Epoch 43/50\n",
            "750/750 [==============================] - 9s 12ms/step - loss: 0.0089 - accuracy: 0.9985 - val_loss: 0.2024 - val_accuracy: 0.9837\n",
            "Epoch 44/50\n",
            "750/750 [==============================] - 9s 11ms/step - loss: 0.0057 - accuracy: 0.9988 - val_loss: 0.1774 - val_accuracy: 0.9870\n",
            "Epoch 45/50\n",
            "750/750 [==============================] - 9s 12ms/step - loss: 0.0042 - accuracy: 0.9991 - val_loss: 0.1457 - val_accuracy: 0.9868\n",
            "Epoch 46/50\n",
            "750/750 [==============================] - 9s 11ms/step - loss: 0.0055 - accuracy: 0.9989 - val_loss: 0.1820 - val_accuracy: 0.9886\n",
            "Epoch 47/50\n",
            "750/750 [==============================] - 9s 11ms/step - loss: 0.0120 - accuracy: 0.9980 - val_loss: 0.1439 - val_accuracy: 0.9877\n",
            "Epoch 48/50\n",
            "750/750 [==============================] - 9s 12ms/step - loss: 0.0030 - accuracy: 0.9993 - val_loss: 0.1188 - val_accuracy: 0.9897\n",
            "Epoch 49/50\n",
            "750/750 [==============================] - 9s 12ms/step - loss: 0.0031 - accuracy: 0.9994 - val_loss: 0.1349 - val_accuracy: 0.9894\n",
            "Epoch 50/50\n",
            "750/750 [==============================] - 9s 11ms/step - loss: 0.0021 - accuracy: 0.9994 - val_loss: 0.1371 - val_accuracy: 0.9903\n"
          ],
          "name": "stdout"
        }
      ]
    },
    {
      "cell_type": "markdown",
      "metadata": {
        "id": "-poynZU_Hrsf"
      },
      "source": [
        "Let's save the model for one last time."
      ]
    },
    {
      "cell_type": "code",
      "metadata": {
        "id": "EIvW4OFZHrsg"
      },
      "source": [
        "full_model.save_weights('classification_complete.h5')"
      ],
      "execution_count": 63,
      "outputs": []
    },
    {
      "cell_type": "markdown",
      "metadata": {
        "id": "9_nWWyGLHrsj"
      },
      "source": [
        "Let's put your model evaluation into perspective and plot the accuracy and loss plots between training and validation data:"
      ]
    },
    {
      "cell_type": "code",
      "metadata": {
        "id": "2DYrgPw6Hrsk",
        "outputId": "956f29fd-9e8a-4e40-bb6f-04d6a4d1c397",
        "colab": {
          "base_uri": "https://localhost:8080/",
          "height": 545
        }
      },
      "source": [
        "accuracy = classify_train.history['accuracy']\n",
        "val_accuracy = classify_train.history['val_accuracy']\n",
        "loss = classify_train.history['loss']\n",
        "val_loss = classify_train.history['val_loss']\n",
        "epochs = range(len(accuracy))\n",
        "plt.plot(epochs, accuracy, 'bo', label='Training accuracy')\n",
        "plt.plot(epochs, val_accuracy, 'b', label='Validation accuracy')\n",
        "plt.title('Training and validation accuracy')\n",
        "plt.legend()\n",
        "plt.figure()\n",
        "plt.plot(epochs, loss, 'bo', label='Training loss')\n",
        "plt.plot(epochs, val_loss, 'b', label='Validation loss')\n",
        "plt.title('Training and validation loss')\n",
        "plt.legend()\n",
        "plt.show()"
      ],
      "execution_count": 64,
      "outputs": [
        {
          "output_type": "display_data",
          "data": {
            "image/png": "[encoded data removed]",
            "text/plain": [
              "<Figure size 432x288 with 1 Axes>"
            ]
          },
          "metadata": {
            "tags": [],
            "needs_background": "light"
          }
        },
        {
          "output_type": "display_data",
          "data": {
            "image/png": "[encoded data removed]",
            "text/plain": [
              "<Figure size 432x288 with 1 Axes>"
            ]
          },
          "metadata": {
            "tags": [],
            "needs_background": "light"
          }
        }
      ]
    },
    {
      "cell_type": "markdown",
      "metadata": {
        "id": "2GA78iVoHrsn"
      },
      "source": [
        "Model Evaluation on the Test Set\n",
        "\n",
        "Finally, let's also evaluate your model on test data and see how it performs!\n",
        "\n"
      ]
    },
    {
      "cell_type": "code",
      "metadata": {
        "id": "QwRhYdbBHrsp",
        "outputId": "408def36-6cae-4109-c73a-479796047926",
        "colab": {
          "base_uri": "https://localhost:8080/"
        }
      },
      "source": [
        "test_eval = full_model.evaluate(test_data, test_Y_one_hot, verbose=0)\n",
        "\n",
        "print('Test loss:', test_eval[0])\n",
        "print('Test accuracy:', test_eval[1])"
      ],
      "execution_count": 65,
      "outputs": [
        {
          "output_type": "stream",
          "text": [
            "Test loss: 0.11367981880903244\n",
            "Test accuracy: 0.9894000291824341\n"
          ],
          "name": "stdout"
        }
      ]
    },
    {
      "cell_type": "markdown",
      "metadata": {
        "id": "qw2K9zMjHrs-"
      },
      "source": [
        "Predict Labels"
      ]
    },
    {
      "cell_type": "code",
      "metadata": {
        "id": "dLBzyUKoHrs-"
      },
      "source": [
        "predicted_classes = full_model.predict(test_data)"
      ],
      "execution_count": 66,
      "outputs": []
    },
    {
      "cell_type": "markdown",
      "metadata": {
        "id": "fNNTN7muHrtB"
      },
      "source": [
        "Since the predictions you get are floating point values, it will not be feasible to compare the predicted labels with true test labels. So, you will round off the output which will convert the float values into an integer. Further, you will use np.argmax() to select the index number which has a higher value in a row.\n",
        "\n",
        "For example, let's assume a prediction for one test image to be [0 1 0 0 0 0 0 0 0 0], the output for this should be a class label 1.\n",
        "\n"
      ]
    },
    {
      "cell_type": "code",
      "metadata": {
        "id": "CqoMjnpAHrtC",
        "outputId": "940a1360-0c99-49c6-f2ff-fed63523f21f",
        "colab": {
          "base_uri": "https://localhost:8080/"
        }
      },
      "source": [
        "predicted_classes = np.argmax(np.round(predicted_classes),axis=1)\n",
        "predicted_classes.shape, test_labels.shape"
      ],
      "execution_count": 67,
      "outputs": [
        {
          "output_type": "execute_result",
          "data": {
            "text/plain": [
              "((10000,), (10000,))"
            ]
          },
          "metadata": {
            "tags": []
          },
          "execution_count": 67
        }
      ]
    },
    {
      "cell_type": "code",
      "metadata": {
        "id": "M1tGqD-xHrtF",
        "outputId": "8b33095d-047b-434a-cc3a-c94b346503af",
        "colab": {
          "base_uri": "https://localhost:8080/",
          "height": 314
        }
      },
      "source": [
        "correct = np.where(predicted_classes==test_labels)[0]\n",
        "print (\"Found %d correct labels\" % len(correct))\n",
        "for i, correct in enumerate(correct[:9]):\n",
        "    plt.subplot(3,3,i+1)\n",
        "    plt.imshow(test_data[correct].reshape(28,28), cmap='gray', interpolation='none')\n",
        "    plt.title(\"Predicted {}, Class {}\".format(predicted_classes[correct], test_labels[correct]))\n",
        "    plt.tight_layout()"
      ],
      "execution_count": 68,
      "outputs": [
        {
          "output_type": "stream",
          "text": [
            "Found 9895 correct labels\n"
          ],
          "name": "stdout"
        },
        {
          "output_type": "display_data",
          "data": {
            "image/png": "[encoded data removed]",
            "text/plain": [
              "<Figure size 432x288 with 9 Axes>"
            ]
          },
          "metadata": {
            "tags": [],
            "needs_background": "light"
          }
        }
      ]
    },
    {
      "cell_type": "code",
      "metadata": {
        "id": "tswuHUydHrtI",
        "outputId": "7aa28bf2-b257-4bbe-900b-53f76310422d",
        "colab": {
          "base_uri": "https://localhost:8080/",
          "height": 314
        }
      },
      "source": [
        "incorrect = np.where(predicted_classes!=test_labels)[0]\n",
        "print (\"Found %d incorrect labels\" % len(incorrect))\n",
        "for i, incorrect in enumerate(incorrect[:9]):\n",
        "    plt.subplot(3,3,i+1)\n",
        "    plt.imshow(test_data[incorrect].reshape(28,28), cmap='gray', interpolation='none')\n",
        "    plt.title(\"Predicted {}, Class {}\".format(predicted_classes[incorrect], test_labels[incorrect]))\n",
        "    plt.tight_layout()"
      ],
      "execution_count": 69,
      "outputs": [
        {
          "output_type": "stream",
          "text": [
            "Found 105 incorrect labels\n"
          ],
          "name": "stdout"
        },
        {
          "output_type": "display_data",
          "data": {
            "image/png": "[encoded data removed]",
            "text/plain": [
              "<Figure size 432x288 with 9 Axes>"
            ]
          },
          "metadata": {
            "tags": [],
            "needs_background": "light"
          }
        }
      ]
    },
    {
      "cell_type": "markdown",
      "metadata": {
        "id": "r81zYC8nHrtM"
      },
      "source": [
        "Classification Report\n",
        "\n",
        "Classification report will help you in identifying the misclassified classes in more detail. You will be able to observe for which class the model performed bad out of the given ten classes.\n",
        "\n"
      ]
    },
    {
      "cell_type": "code",
      "metadata": {
        "id": "EdTA7VA4HrtN",
        "outputId": "345e2ea9-2f91-48e7-ade9-5030f33698ed",
        "colab": {
          "base_uri": "https://localhost:8080/"
        }
      },
      "source": [
        "from sklearn.metrics import classification_report\n",
        "target_names = [\"Class {}\".format(i) for i in range(num_classes)]\n",
        "print(classification_report(test_labels, predicted_classes, target_names=target_names))"
      ],
      "execution_count": 70,
      "outputs": [
        {
          "output_type": "stream",
          "text": [
            "              precision    recall  f1-score   support\n",
            "\n",
            "     Class 0       0.99      0.99      0.99       980\n",
            "     Class 1       1.00      1.00      1.00      1135\n",
            "     Class 2       0.99      0.99      0.99      1032\n",
            "     Class 3       0.99      0.99      0.99      1010\n",
            "     Class 4       0.98      0.99      0.99       982\n",
            "     Class 5       0.99      0.99      0.99       892\n",
            "     Class 6       0.99      0.99      0.99       958\n",
            "     Class 7       0.99      0.99      0.99      1028\n",
            "     Class 8       1.00      0.99      0.99       974\n",
            "     Class 9       0.99      0.97      0.98      1009\n",
            "\n",
            "    accuracy                           0.99     10000\n",
            "   macro avg       0.99      0.99      0.99     10000\n",
            "weighted avg       0.99      0.99      0.99     10000\n",
            "\n"
          ],
          "name": "stdout"
        }
      ]
    },
    {
      "cell_type": "code",
      "metadata": {
        "id": "Fp5dMAR2HrtQ"
      },
      "source": [
        ""
      ],
      "execution_count": null,
      "outputs": []
    }
  ]
}