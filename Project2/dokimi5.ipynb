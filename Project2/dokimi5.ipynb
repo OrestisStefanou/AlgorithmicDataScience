{
  "nbformat": 4,
  "nbformat_minor": 0,
  "metadata": {
    "kernelspec": {
      "display_name": "Python 3",
      "language": "python",
      "name": "python3"
    },
    "language_info": {
      "codemirror_mode": {
        "name": "ipython",
        "version": 3
      },
      "file_extension": ".py",
      "mimetype": "text/x-python",
      "name": "python",
      "nbconvert_exporter": "python",
      "pygments_lexer": "ipython3",
      "version": "3.8.3"
    },
    "colab": {
      "name": "Untitled1.ipynb",
      "provenance": [],
      "toc_visible": true
    },
    "accelerator": "GPU"
  },
  "cells": [
    {
      "cell_type": "markdown",
      "metadata": {
        "id": "rs7PuA8iHro0"
      },
      "source": [
        "# Autoencoder as a Classifier using Fashion-MNIST Dataset"
      ]
    },
    {
      "cell_type": "markdown",
      "metadata": {
        "id": "-l7o39HTHro4"
      },
      "source": [
        "## Tous kodikes en tous etrexa giati itan na pari para polli ora.Apoti ekatalava en oti zita stin ergasia pano kato.To dataset en polla paromoio ara en nomizo na xriasti na allaksoume je polla "
      ]
    },
    {
      "cell_type": "markdown",
      "metadata": {
        "id": "P58-O9moHro7"
      },
      "source": [
        "Import necessary libraries"
      ]
    },
    {
      "cell_type": "code",
      "metadata": {
        "id": "J3gbZdYNHro9",
        "outputId": "3ab4fd14-4800-452c-f9fd-0edbd9de29c3",
        "colab": {
          "base_uri": "https://localhost:8080/"
        }
      },
      "source": [
        "from google.colab import drive\n",
        "drive.mount('/content/drive')\n",
        "import keras\n",
        "from matplotlib import pyplot as plt\n",
        "import numpy as np\n",
        "import gzip\n",
        "%matplotlib inline\n",
        "from keras.models import Model\n",
        "from keras.optimizers import RMSprop\n",
        "from keras.layers import Input,Dense,Flatten,Dropout,merge,Reshape,Conv2D,MaxPooling2D,UpSampling2D,Conv2DTranspose\n",
        "from keras.layers.normalization import BatchNormalization\n",
        "from keras.models import Model,Sequential\n",
        "from keras.callbacks import ModelCheckpoint\n",
        "from keras.optimizers import Adadelta, RMSprop,SGD,Adam\n",
        "from keras import regularizers\n",
        "from keras import backend as K\n",
        "from keras.utils import to_categorical"
      ],
      "execution_count": 1,
      "outputs": [
        {
          "output_type": "stream",
          "text": [
            "Mounted at /content/drive\n"
          ],
          "name": "stdout"
        }
      ]
    },
    {
      "cell_type": "markdown",
      "metadata": {
        "id": "PyuxiNYMHrpO"
      },
      "source": [
        "Function to read the data"
      ]
    },
    {
      "cell_type": "code",
      "metadata": {
        "id": "_sKptFtmHrpQ"
      },
      "source": [
        "def extract_data(filename, num_images):\n",
        "    with gzip.open(filename) as bytestream:\n",
        "        bytestream.read(16)\n",
        "        buf = bytestream.read(28 * 28 * num_images)\n",
        "        data = np.frombuffer(buf, dtype=np.uint8).astype(np.float32)\n",
        "        data = data.reshape(num_images, 28,28)\n",
        "        return data\n"
      ],
      "execution_count": 2,
      "outputs": []
    },
    {
      "cell_type": "code",
      "metadata": {
        "id": "gTYuUPDeHrpY"
      },
      "source": [
        "train_data = extract_data('/content/train-images-idx3-ubyte.gz',60000)\n",
        "test_data = extract_data('/content/t10k-images-idx3-ubyte.gz', 10000)"
      ],
      "execution_count": 3,
      "outputs": []
    },
    {
      "cell_type": "markdown",
      "metadata": {
        "id": "NZtzdxg1Hrph"
      },
      "source": [
        "Function to read labels"
      ]
    },
    {
      "cell_type": "code",
      "metadata": {
        "id": "v05ZippzHrpi"
      },
      "source": [
        "def extract_labels(filename, num_images):\n",
        "    with gzip.open(filename) as bytestream:\n",
        "        bytestream.read(8)\n",
        "        buf = bytestream.read(1 * num_images)\n",
        "        labels = np.frombuffer(buf, dtype=np.uint8).astype(np.int64)\n",
        "        return labels"
      ],
      "execution_count": 4,
      "outputs": []
    },
    {
      "cell_type": "code",
      "metadata": {
        "id": "OFRwx93NHrpq"
      },
      "source": [
        "train_labels = extract_labels('/content/train-labels-idx1-ubyte.gz',60000)\n",
        "test_labels = extract_labels('/content/t10k-labels-idx1-ubyte.gz',10000)"
      ],
      "execution_count": 5,
      "outputs": []
    },
    {
      "cell_type": "markdown",
      "metadata": {
        "id": "ghiZiXaZHrpz"
      },
      "source": [
        "Data Exploration\n",
        "\n",
        "Let's now analyze how images in the dataset look like and also see the dimension of the images with the help of the NumPy array attribute .shape:"
      ]
    },
    {
      "cell_type": "code",
      "metadata": {
        "id": "yH-uVRUoHrp1",
        "outputId": "9dbb679b-8d57-4bc4-a366-49ea74d4ff35",
        "colab": {
          "base_uri": "https://localhost:8080/"
        }
      },
      "source": [
        "# Shapes of training set\n",
        "print(\"Training set (images) shape: {shape}\".format(shape=train_data.shape))\n",
        "\n",
        "# Shapes of test set\n",
        "print(\"Test set (images) shape: {shape}\".format(shape=test_data.shape))"
      ],
      "execution_count": 6,
      "outputs": [
        {
          "output_type": "stream",
          "text": [
            "Training set (images) shape: (60000, 28, 28)\n",
            "Test set (images) shape: (10000, 28, 28)\n"
          ],
          "name": "stdout"
        }
      ]
    },
    {
      "cell_type": "markdown",
      "metadata": {
        "id": "dWhd5zBXHrp9"
      },
      "source": [
        "From the above output, you can see that the training data has a shape of 60000 x 28 x 28 since there are 60,000 training samples each of 28 x 28 dimensional matrix. Similarly, the test data has a shape of 10000 x 28 x 28 since there are 10,000 testing samples.\n",
        "\n",
        "Note that in the task of reconstructing using convolutional autoencoder you won't need training and testing labels. Your training images will both act as the input as well as the ground truth similar to the labels you have in classification task.\n",
        "\n",
        "But for the classification task you will also need your labels along with the images which you will be doing later on in the tutorial. Even though the task at hand will only be dealing with the training and testing images. However, for exploration purposes, which might give you a better intuition about the data, you'll make use of the labels.\n",
        "\n",
        "Let's create a dictionary that will have class names with their corresponding categorical class labels:"
      ]
    },
    {
      "cell_type": "code",
      "metadata": {
        "id": "SC8HjN3hHrp_"
      },
      "source": [
        "# Create dictionary of target classes\n",
        "label_dict = {\n",
        " 0: '0',\n",
        " 1: '1',\n",
        " 2: '2',\n",
        " 3: '3',\n",
        " 4: '4',\n",
        " 5: '5',\n",
        " 6: '6',\n",
        " 7: '7',\n",
        " 8: '8',\n",
        " 9: '9',\n",
        "}"
      ],
      "execution_count": 7,
      "outputs": []
    },
    {
      "cell_type": "markdown",
      "metadata": {
        "id": "CoS6JSU3HrqE"
      },
      "source": [
        "Now, let's take a look at a couple of the images in your dataset:"
      ]
    },
    {
      "cell_type": "code",
      "metadata": {
        "id": "t6_Gv88UHrqF",
        "outputId": "982273fc-4236-47e9-9251-63cdefa80d33",
        "colab": {
          "base_uri": "https://localhost:8080/",
          "height": 208
        }
      },
      "source": [
        "plt.figure(figsize=[5,5])\n",
        "\n",
        "# Display the first image in training data\n",
        "plt.subplot(121)\n",
        "curr_img = np.reshape(train_data[10], (28,28))\n",
        "curr_lbl = train_labels[10]\n",
        "plt.imshow(curr_img, cmap='gray')\n",
        "plt.title(\"(Label: \" + str(label_dict[curr_lbl]) + \")\")\n",
        "\n",
        "# Display the first image in testing data\n",
        "plt.subplot(122)\n",
        "curr_img = np.reshape(test_data[10], (28,28))\n",
        "curr_lbl = test_labels[10]\n",
        "plt.imshow(curr_img, cmap='gray')\n",
        "plt.title(\"(Label: \" + str(label_dict[curr_lbl]) + \")\")\n"
      ],
      "execution_count": 8,
      "outputs": [
        {
          "output_type": "execute_result",
          "data": {
            "text/plain": [
              "Text(0.5, 1.0, '(Label: 0)')"
            ]
          },
          "metadata": {
            "tags": []
          },
          "execution_count": 8
        },
        {
          "output_type": "display_data",
          "data": {
            "image/png": "[encoded data removed]",
            "text/plain": [
              "<Figure size 360x360 with 2 Axes>"
            ]
          },
          "metadata": {
            "tags": [],
            "needs_background": "light"
          }
        }
      ]
    },
    {
      "cell_type": "markdown",
      "metadata": {
        "id": "_LvxONdVHrqN"
      },
      "source": [
        "Data Preprocessing\n",
        "\n",
        "The images of the dataset are indeed grayscale images with pixel values ranging from 0 to 255 with a dimension of 28 x 28, so before we feed the data into the model, it is very important to preprocess it. You'll first convert each 28 x 28 image of train and test set into a matrix of size 28 x 28 x 1, which you can feed into the network:"
      ]
    },
    {
      "cell_type": "code",
      "metadata": {
        "id": "k8WvDha0HrqO",
        "outputId": "0e8f7ddb-d4fd-4ecd-a279-0841391f0b9e",
        "colab": {
          "base_uri": "https://localhost:8080/"
        }
      },
      "source": [
        "train_data = train_data.reshape(-1, 28,28, 1)\n",
        "test_data = test_data.reshape(-1, 28,28, 1)\n",
        "train_data.shape, test_data.shape"
      ],
      "execution_count": 9,
      "outputs": [
        {
          "output_type": "execute_result",
          "data": {
            "text/plain": [
              "((60000, 28, 28, 1), (10000, 28, 28, 1))"
            ]
          },
          "metadata": {
            "tags": []
          },
          "execution_count": 9
        }
      ]
    },
    {
      "cell_type": "markdown",
      "metadata": {
        "id": "K1zNEOnHHrqU"
      },
      "source": [
        "Next, rescale the training and testing data with the maximum pixel value of the training and testing data:"
      ]
    },
    {
      "cell_type": "code",
      "metadata": {
        "id": "pm_-jJ1uHrqV"
      },
      "source": [
        "train_data = train_data / np.max(train_data)\n",
        "test_data = test_data / np.max(test_data)"
      ],
      "execution_count": 10,
      "outputs": []
    },
    {
      "cell_type": "markdown",
      "metadata": {
        "id": "IQhp-e22Hrqb"
      },
      "source": [
        "After all of this, it's important to partition the data. In order for our model to generalize well, you split the training data into two parts: a training and a validation set. You will train your model on 80% of the data and validate it on 20% of the remaining training data.\n",
        "\n",
        "This will also help you in reducing the chances of overfitting, as you will be validating your model on data it would not have seen in the training phase.\n",
        "\n",
        "You can use the train_test_split module of scikit-learn to divide the data properly:\n",
        "\n"
      ]
    },
    {
      "cell_type": "code",
      "metadata": {
        "id": "xpef6L4jHrqc"
      },
      "source": [
        "from sklearn.model_selection import train_test_split\n",
        "train_X,valid_X,train_ground,valid_ground = train_test_split(train_data,\n",
        "                                                             train_data,\n",
        "                                                             test_size=0.2,\n",
        "                                                             random_state=13)"
      ],
      "execution_count": 11,
      "outputs": []
    },
    {
      "cell_type": "markdown",
      "metadata": {
        "id": "a92LKL-EHrqk"
      },
      "source": [
        "Note: You will be using the above data splitting twice, once for the task of reconstructing using convolutional autoencoder for which you don't need training and testing labels. That's why you will pass the training images twice. Your training images will both act as the input as well as the ground truth similar to the labels you have in the classification task.\n",
        "\n",
        "But for the classification task, you will also pass your labels along with the images which you will be doing later on in the tutorial.\n",
        "\n",
        "Now you are all set to define the network and feed the data into the network. So without any further ado, let's jump to the next step!"
      ]
    },
    {
      "cell_type": "markdown",
      "metadata": {
        "id": "ItdH2aMAHrql"
      },
      "source": [
        "## The Convolutional Autoencoder"
      ]
    },
    {
      "cell_type": "markdown",
      "metadata": {
        "id": "inSDc0D_Hrqm"
      },
      "source": [
        "The images are of size 28 x 28 x 1 or a 30976-dimensional vector. You convert the image matrix to an array, rescale it between 0 and 1, reshape it so that it's of size 28 x 28 x 1, and feed this as an input to the network.\n",
        "\n",
        "Also, you will use a batch size of 128 using a higher batch size of 256 or 512 is also preferable it all depends on the system you train your model. It contributes heavily in determining the learning parameters and affects the prediction accuracy."
      ]
    },
    {
      "cell_type": "code",
      "metadata": {
        "id": "AVk7XldTHrqm"
      },
      "source": [
        "batch_size = 256\n",
        "epochs = 50\n",
        "inChannel = 1\n",
        "x, y = 28, 28\n",
        "input_img = Input(shape = (x, y, inChannel))\n",
        "num_classes = 10"
      ],
      "execution_count": 43,
      "outputs": []
    },
    {
      "cell_type": "markdown",
      "metadata": {
        "id": "mla3RAtsHrqs"
      },
      "source": [
        "As you might already know well before, the autoencoder is divided into two parts: there's an encoder and a decoder.\n",
        "\n",
        "Encoder: It has 4 Convolution blocks, each block has a convolution layer followed by a batch normalization layer. Max-pooling layer is used after the first and second convolution blocks.\n",
        "\n",
        "    The first convolution block will have 32 filters of size 3 x 3, followed by a downsampling (max-pooling) layer,\n",
        "    The second block will have 64 filters of size 3 x 3, followed by another downsampling layer,\n",
        "    The third block of encoder will have 128 filters of size 3 x 3,\n",
        "    The fourth block of encoder will have 256 filters of size 3 x 3.\n",
        "\n",
        "Decoder: It has 3 Convolution blocks, each block has a convolution layer followed by a batch normalization layer. Upsampling layer is used after the second and third convolution blocks.\n",
        "\n",
        "    The first block will have 128 filters of size 3 x 3,\n",
        "    The second block will have 64 filters of size 3 x 3 followed by another upsampling layer,\n",
        "    The third block will have 32 filters of size 3 x 3 followed by another upsampling layer,\n",
        "    The final layer of encoder will have 1 filter of size 3 x 3 which will reconstruct back the input having a single channel.\n",
        "\n",
        "The max-pooling layer will downsample the input by two times each time you use it, while the upsampling layer will upsample the input by two times each time it is used.\n",
        "\n",
        "Note: The number of filters, the filter size, the number of layers, number of epochs you train your model, are all hyperparameters and should be decided based on your own intuition, you are free to try new experiments by tweaking with these hyperparameters and measure the performance of your model. And that is how you will slowly learn the art of deep learning!\n",
        "\n",
        "Let's create separate encoder and decoder functions since you will be using encoder weights later on for classification purpose!"
      ]
    },
    {
      "cell_type": "code",
      "metadata": {
        "id": "N_20Us2MHrqt"
      },
      "source": [
        "def encoder(input_img):\n",
        "    #encoder\n",
        "    #input = 28 x 28 x 1 (wide and thin)\n",
        "    conv1 = Conv2D(32, (3, 3), activation='softmax', padding='same')(input_img) #28 x 28 x 32\n",
        "    conv1 = BatchNormalization()(conv1)\n",
        "    conv1 = Conv2D(32, (3, 3), activation='softmax', padding='same')(conv1)\n",
        "    conv1 = BatchNormalization()(conv1)\n",
        "    pool1 = MaxPooling2D(pool_size=(2, 2))(conv1) #14 x 14 x 32\n",
        "    conv2 = Conv2D(64, (3, 3), activation='softmax', padding='same')(pool1) #14 x 14 x 64\n",
        "    conv2 = BatchNormalization()(conv2)\n",
        "    conv2 = Conv2D(64, (3, 3), activation='softmax', padding='same')(conv2)\n",
        "    conv2 = BatchNormalization()(conv2)\n",
        "    pool2 = MaxPooling2D(pool_size=(2, 2))(conv2) #7 x 7 x 64\n",
        "    conv3 = Conv2D(128, (3, 3), activation='softmax', padding='same')(pool2) #7 x 7 x 128 (small and thick)\n",
        "    conv3 = BatchNormalization()(conv3)\n",
        "    conv3 = Conv2D(128, (3, 3), activation='softmax', padding='same')(conv3)\n",
        "    conv3 = BatchNormalization()(conv3)\n",
        "    conv4 = Conv2D(256, (3, 3), activation='softmax', padding='same')(conv3) #7 x 7 x 256 (small and thick)\n",
        "    conv4 = BatchNormalization()(conv4)\n",
        "    conv4 = Conv2D(256, (3, 3), activation='softmax', padding='same')(conv4)\n",
        "    conv4 = BatchNormalization()(conv4)\n",
        "    return conv4\n",
        "\n",
        "def decoder(conv4):    \n",
        "    #decoder\n",
        "    conv5 = Conv2D(256, (3, 3), activation='softmax', padding='same')(conv4) #7 x 7 x 128\n",
        "    conv5 = BatchNormalization()(conv5)\n",
        "    conv5 = Conv2D(256, (3, 3), activation='softmax', padding='same')(conv5)\n",
        "    conv5 = BatchNormalization()(conv5)\n",
        "    conv6 = Conv2D(128, (3, 3), activation='softmax', padding='same')(conv5) #7 x 7 x 64\n",
        "    conv6 = BatchNormalization()(conv6)\n",
        "    conv6 = Conv2D(128, (3, 3), activation='softmax', padding='same')(conv6)\n",
        "    conv6 = BatchNormalization()(conv6)\n",
        "    up1 = UpSampling2D((2,2))(conv6) #14 x 14 x 64\n",
        "    conv7 = Conv2D(64, (3, 3), activation='softmax', padding='same')(up1) # 14 x 14 x 32\n",
        "    conv7 = BatchNormalization()(conv7)\n",
        "    conv7 = Conv2D(64, (3, 3), activation='softmax', padding='same')(conv7)\n",
        "    conv7 = BatchNormalization()(conv7)\n",
        "    \n",
        "    up2 = UpSampling2D((2,2))(conv7) # 28 x 28 x 32\n",
        "    decoded = Conv2D(1, (3, 3), activation='sigmoid', padding='same')(up2) # 28 x 28 x 1\n",
        "    return decoded"
      ],
      "execution_count": null,
      "outputs": []
    },
    {
      "cell_type": "code",
      "metadata": {
        "id": "iTGFAJTNexNv"
      },
      "source": [
        "def encoder(input_img):\n",
        "    #encoder\n",
        "    #input = 28 x 28 x 1 (wide and thin)\n",
        "    conv1 = Conv2D(32, (3, 3), activation='softmax', padding='same')(input_img) #28 x 28 x 32\n",
        "    conv1 = BatchNormalization()(conv1)\n",
        "    conv1 = Conv2D(32, (3, 3), activation='softmax', padding='same')(conv1)\n",
        "    conv1 = BatchNormalization()(conv1)\n",
        "    pool1 = MaxPooling2D(pool_size=(2, 2))(conv1) #14 x 14 x 32\n",
        "    conv2 = Conv2D(64, (3, 3), activation='softmax', padding='same')(pool1) #14 x 14 x 64\n",
        "    conv2 = BatchNormalization()(conv2)\n",
        "    conv2 = Conv2D(64, (3, 3), activation='softmax', padding='same')(conv2)\n",
        "    conv2 = BatchNormalization()(conv2)\n",
        "    pool2 = MaxPooling2D(pool_size=(2, 2))(conv2) #7 x 7 x 64\n",
        "    conv3 = Conv2D(128, (3, 3), activation='softmax', padding='same')(pool2) #7 x 7 x 128 (small and thick)\n",
        "    conv3 = BatchNormalization()(conv3)\n",
        "    conv3 = Conv2D(128, (3, 3), activation='softmax', padding='same')(conv3)\n",
        "    conv3 = BatchNormalization()(conv3)\n",
        "    conv4 = Conv2D(256, (3, 3), activation='softmax', padding='same')(conv3) #7 x 7 x 256 (small and thick)\n",
        "    conv4 = BatchNormalization()(conv4)\n",
        "    conv4 = Conv2D(256, (3, 3), activation='softmax', padding='same')(conv4)\n",
        "    conv4 = BatchNormalization()(conv4)\n",
        "    return conv4\n",
        "\n",
        "def decoder(conv4):    \n",
        "    #decoder\n",
        "    conv5 = Conv2D(256, (3, 3), activation='softmax', padding='same')(conv4) #7 x 7 x 128\n",
        "    conv5 = BatchNormalization()(conv5)\n",
        "    conv5 = Conv2D(256, (3, 3), activation='softmax', padding='same')(conv5)\n",
        "    conv5 = BatchNormalization()(conv5)\n",
        "    conv6 = Conv2D(128, (3, 3), activation='softmax', padding='same')(conv5) #7 x 7 x 64\n",
        "    conv6 = BatchNormalization()(conv6)\n",
        "    conv6 = Conv2D(128, (3, 3), activation='softmax', padding='same')(conv6)\n",
        "    conv6 = BatchNormalization()(conv6)\n",
        "    up1 = UpSampling2D((2,2))(conv6) #14 x 14 x 64\n",
        "    conv7 = Conv2D(64, (3, 3), activation='softmax', padding='same')(up1) # 14 x 14 x 32\n",
        "    conv7 = BatchNormalization()(conv7)\n",
        "    conv7 = Conv2D(64, (3, 3), activation='softmax', padding='same')(conv7)\n",
        "    conv7 = BatchNormalization()(conv7)\n",
        "    conv8 = Conv2D(32, (3, 3), activation='softmax', padding='same')(up1) # 14 x 14 x 32\n",
        "    conv8 = BatchNormalization()(conv8)\n",
        "    conv8 = Conv2D(32, (3, 3), activation='softmax', padding='same')(conv8)\n",
        "    conv8 = BatchNormalization()(conv8)\n",
        "    up2 = UpSampling2D((2,2))(conv8) # 28 x 28 x 32\n",
        "    decoded = Conv2D(1, (3, 3), activation='sigmoid', padding='same')(up2) # 28 x 28 x 1\n",
        "    return decoded"
      ],
      "execution_count": 44,
      "outputs": []
    },
    {
      "cell_type": "markdown",
      "metadata": {
        "id": "yHqPp80FHrqy"
      },
      "source": [
        "After the model is created, you have to compile it using the optimizer to be RMSProp.\n",
        "\n",
        "Note that you also have to specify the loss type via the argument loss. In this case, that's the mean squared error, since the loss after every batch will be computed between the batch of predicted output and the ground truth using mean squared error pixel by pixel:"
      ]
    },
    {
      "cell_type": "code",
      "metadata": {
        "id": "OQ9tnEf0Hrqz"
      },
      "source": [
        "autoencoder = Model(input_img, decoder(encoder(input_img)))\n",
        "autoencoder.compile(loss='mean_squared_error', optimizer = RMSprop())"
      ],
      "execution_count": 45,
      "outputs": []
    },
    {
      "cell_type": "markdown",
      "metadata": {
        "id": "m1hdlUsKHrq4"
      },
      "source": [
        "Let's visualize the layers that you created in the above step by using the summary function. This will show a number of parameters (weights and biases) in each layer and also the total parameters in your model."
      ]
    },
    {
      "cell_type": "code",
      "metadata": {
        "id": "Y8sd-XndHrq5",
        "outputId": "fefbe40c-f3c8-40fb-9961-eb5836e83d5e",
        "colab": {
          "base_uri": "https://localhost:8080/"
        }
      },
      "source": [
        "autoencoder.summary()"
      ],
      "execution_count": 46,
      "outputs": [
        {
          "output_type": "stream",
          "text": [
            "Model: \"functional_5\"\n",
            "_________________________________________________________________\n",
            "Layer (type)                 Output Shape              Param #   \n",
            "=================================================================\n",
            "input_2 (InputLayer)         [(None, 28, 28, 1)]       0         \n",
            "_________________________________________________________________\n",
            "conv2d_25 (Conv2D)           (None, 28, 28, 32)        320       \n",
            "_________________________________________________________________\n",
            "batch_normalization_24 (Batc (None, 28, 28, 32)        128       \n",
            "_________________________________________________________________\n",
            "conv2d_26 (Conv2D)           (None, 28, 28, 32)        9248      \n",
            "_________________________________________________________________\n",
            "batch_normalization_25 (Batc (None, 28, 28, 32)        128       \n",
            "_________________________________________________________________\n",
            "max_pooling2d_4 (MaxPooling2 (None, 14, 14, 32)        0         \n",
            "_________________________________________________________________\n",
            "conv2d_27 (Conv2D)           (None, 14, 14, 64)        18496     \n",
            "_________________________________________________________________\n",
            "batch_normalization_26 (Batc (None, 14, 14, 64)        256       \n",
            "_________________________________________________________________\n",
            "conv2d_28 (Conv2D)           (None, 14, 14, 64)        36928     \n",
            "_________________________________________________________________\n",
            "batch_normalization_27 (Batc (None, 14, 14, 64)        256       \n",
            "_________________________________________________________________\n",
            "max_pooling2d_5 (MaxPooling2 (None, 7, 7, 64)          0         \n",
            "_________________________________________________________________\n",
            "conv2d_29 (Conv2D)           (None, 7, 7, 128)         73856     \n",
            "_________________________________________________________________\n",
            "batch_normalization_28 (Batc (None, 7, 7, 128)         512       \n",
            "_________________________________________________________________\n",
            "conv2d_30 (Conv2D)           (None, 7, 7, 128)         147584    \n",
            "_________________________________________________________________\n",
            "batch_normalization_29 (Batc (None, 7, 7, 128)         512       \n",
            "_________________________________________________________________\n",
            "conv2d_31 (Conv2D)           (None, 7, 7, 256)         295168    \n",
            "_________________________________________________________________\n",
            "batch_normalization_30 (Batc (None, 7, 7, 256)         1024      \n",
            "_________________________________________________________________\n",
            "conv2d_32 (Conv2D)           (None, 7, 7, 256)         590080    \n",
            "_________________________________________________________________\n",
            "batch_normalization_31 (Batc (None, 7, 7, 256)         1024      \n",
            "_________________________________________________________________\n",
            "conv2d_33 (Conv2D)           (None, 7, 7, 256)         590080    \n",
            "_________________________________________________________________\n",
            "batch_normalization_32 (Batc (None, 7, 7, 256)         1024      \n",
            "_________________________________________________________________\n",
            "conv2d_34 (Conv2D)           (None, 7, 7, 256)         590080    \n",
            "_________________________________________________________________\n",
            "batch_normalization_33 (Batc (None, 7, 7, 256)         1024      \n",
            "_________________________________________________________________\n",
            "conv2d_35 (Conv2D)           (None, 7, 7, 128)         295040    \n",
            "_________________________________________________________________\n",
            "batch_normalization_34 (Batc (None, 7, 7, 128)         512       \n",
            "_________________________________________________________________\n",
            "conv2d_36 (Conv2D)           (None, 7, 7, 128)         147584    \n",
            "_________________________________________________________________\n",
            "batch_normalization_35 (Batc (None, 7, 7, 128)         512       \n",
            "_________________________________________________________________\n",
            "up_sampling2d_2 (UpSampling2 (None, 14, 14, 128)       0         \n",
            "_________________________________________________________________\n",
            "conv2d_39 (Conv2D)           (None, 14, 14, 32)        36896     \n",
            "_________________________________________________________________\n",
            "batch_normalization_38 (Batc (None, 14, 14, 32)        128       \n",
            "_________________________________________________________________\n",
            "conv2d_40 (Conv2D)           (None, 14, 14, 32)        9248      \n",
            "_________________________________________________________________\n",
            "batch_normalization_39 (Batc (None, 14, 14, 32)        128       \n",
            "_________________________________________________________________\n",
            "up_sampling2d_3 (UpSampling2 (None, 28, 28, 32)        0         \n",
            "_________________________________________________________________\n",
            "conv2d_41 (Conv2D)           (None, 28, 28, 1)         289       \n",
            "=================================================================\n",
            "Total params: 2,848,065\n",
            "Trainable params: 2,844,481\n",
            "Non-trainable params: 3,584\n",
            "_________________________________________________________________\n"
          ],
          "name": "stdout"
        }
      ]
    },
    {
      "cell_type": "markdown",
      "metadata": {
        "id": "IIdLZ53JHrq_"
      },
      "source": [
        "It's finally time to train the model with Keras' fit() function! The model trains for 200 epochs. The fit() function will return a history object; By storing the result of this function in autoencoder_train, you can use it later to plot the loss function plot between training and validation which will help you to analyze your model's performance visually."
      ]
    },
    {
      "cell_type": "code",
      "metadata": {
        "id": "tscKaXx8HrrA",
        "outputId": "389f4782-f4e8-4b84-95e3-8abc78f2221a",
        "colab": {
          "base_uri": "https://localhost:8080/"
        }
      },
      "source": [
        "autoencoder_train = autoencoder.fit(train_X, train_ground, batch_size=batch_size,epochs=epochs,verbose=1,validation_data=(valid_X, valid_ground))"
      ],
      "execution_count": 47,
      "outputs": [
        {
          "output_type": "stream",
          "text": [
            "Epoch 1/50\n",
            "188/188 [==============================] - 20s 108ms/step - loss: 0.0734 - val_loss: 0.1049\n",
            "Epoch 2/50\n",
            "188/188 [==============================] - 19s 103ms/step - loss: 0.0244 - val_loss: 0.1089\n",
            "Epoch 3/50\n",
            "188/188 [==============================] - 19s 101ms/step - loss: 0.0152 - val_loss: 0.1077\n",
            "Epoch 4/50\n",
            "188/188 [==============================] - 19s 101ms/step - loss: 0.0112 - val_loss: 0.0959\n",
            "Epoch 5/50\n",
            "188/188 [==============================] - 19s 102ms/step - loss: 0.0089 - val_loss: 0.0109\n",
            "Epoch 6/50\n",
            "188/188 [==============================] - 19s 102ms/step - loss: 0.0074 - val_loss: 0.0059\n",
            "Epoch 7/50\n",
            "188/188 [==============================] - 19s 102ms/step - loss: 0.0064 - val_loss: 0.0072\n",
            "Epoch 8/50\n",
            "188/188 [==============================] - 19s 102ms/step - loss: 0.0057 - val_loss: 0.0055\n",
            "Epoch 9/50\n",
            "188/188 [==============================] - 19s 102ms/step - loss: 0.0051 - val_loss: 0.0075\n",
            "Epoch 10/50\n",
            "188/188 [==============================] - 19s 102ms/step - loss: 0.0047 - val_loss: 0.0046\n",
            "Epoch 11/50\n",
            "188/188 [==============================] - 19s 102ms/step - loss: 0.0043 - val_loss: 0.0052\n",
            "Epoch 12/50\n",
            "188/188 [==============================] - 19s 102ms/step - loss: 0.0040 - val_loss: 0.0054\n",
            "Epoch 13/50\n",
            "188/188 [==============================] - 19s 102ms/step - loss: 0.0038 - val_loss: 0.0037\n",
            "Epoch 14/50\n",
            "188/188 [==============================] - 19s 102ms/step - loss: 0.0035 - val_loss: 0.0049\n",
            "Epoch 15/50\n",
            "188/188 [==============================] - 19s 102ms/step - loss: 0.0034 - val_loss: 0.0038\n",
            "Epoch 16/50\n",
            "188/188 [==============================] - 19s 102ms/step - loss: 0.0032 - val_loss: 0.0032\n",
            "Epoch 17/50\n",
            "188/188 [==============================] - 19s 101ms/step - loss: 0.0031 - val_loss: 0.0047\n",
            "Epoch 18/50\n",
            "188/188 [==============================] - 19s 102ms/step - loss: 0.0029 - val_loss: 0.0038\n",
            "Epoch 19/50\n",
            "188/188 [==============================] - 19s 102ms/step - loss: 0.0028 - val_loss: 0.0035\n",
            "Epoch 20/50\n",
            "188/188 [==============================] - 19s 102ms/step - loss: 0.0027 - val_loss: 0.0032\n",
            "Epoch 21/50\n",
            "188/188 [==============================] - 19s 102ms/step - loss: 0.0026 - val_loss: 0.0030\n",
            "Epoch 22/50\n",
            "188/188 [==============================] - 19s 102ms/step - loss: 0.0025 - val_loss: 0.0032\n",
            "Epoch 23/50\n",
            "188/188 [==============================] - 19s 102ms/step - loss: 0.0024 - val_loss: 0.0023\n",
            "Epoch 24/50\n",
            "188/188 [==============================] - 19s 102ms/step - loss: 0.0024 - val_loss: 0.0035\n",
            "Epoch 25/50\n",
            "188/188 [==============================] - 19s 102ms/step - loss: 0.0023 - val_loss: 0.0021\n",
            "Epoch 26/50\n",
            "188/188 [==============================] - 19s 102ms/step - loss: 0.0023 - val_loss: 0.0024\n",
            "Epoch 27/50\n",
            "188/188 [==============================] - 19s 102ms/step - loss: 0.0022 - val_loss: 0.0028\n",
            "Epoch 28/50\n",
            "188/188 [==============================] - 19s 102ms/step - loss: 0.0021 - val_loss: 0.0022\n",
            "Epoch 29/50\n",
            "188/188 [==============================] - 19s 102ms/step - loss: 0.0021 - val_loss: 0.0020\n",
            "Epoch 30/50\n",
            "188/188 [==============================] - 19s 102ms/step - loss: 0.0020 - val_loss: 0.0025\n",
            "Epoch 31/50\n",
            "188/188 [==============================] - 19s 102ms/step - loss: 0.0020 - val_loss: 0.0020\n",
            "Epoch 32/50\n",
            "188/188 [==============================] - 19s 102ms/step - loss: 0.0020 - val_loss: 0.0019\n",
            "Epoch 33/50\n",
            "188/188 [==============================] - 19s 102ms/step - loss: 0.0019 - val_loss: 0.0021\n",
            "Epoch 34/50\n",
            "188/188 [==============================] - 19s 102ms/step - loss: 0.0019 - val_loss: 0.0020\n",
            "Epoch 35/50\n",
            "188/188 [==============================] - 19s 102ms/step - loss: 0.0018 - val_loss: 0.0017\n",
            "Epoch 36/50\n",
            "188/188 [==============================] - 19s 102ms/step - loss: 0.0018 - val_loss: 0.0019\n",
            "Epoch 37/50\n",
            "188/188 [==============================] - 19s 102ms/step - loss: 0.0018 - val_loss: 0.0018\n",
            "Epoch 38/50\n",
            "188/188 [==============================] - 19s 102ms/step - loss: 0.0018 - val_loss: 0.0019\n",
            "Epoch 39/50\n",
            "188/188 [==============================] - 19s 102ms/step - loss: 0.0017 - val_loss: 0.0018\n",
            "Epoch 40/50\n",
            "188/188 [==============================] - 19s 102ms/step - loss: 0.0017 - val_loss: 0.0019\n",
            "Epoch 41/50\n",
            "188/188 [==============================] - 19s 102ms/step - loss: 0.0017 - val_loss: 0.0020\n",
            "Epoch 42/50\n",
            "188/188 [==============================] - 19s 102ms/step - loss: 0.0017 - val_loss: 0.0016\n",
            "Epoch 43/50\n",
            "188/188 [==============================] - 19s 102ms/step - loss: 0.0016 - val_loss: 0.0016\n",
            "Epoch 44/50\n",
            "188/188 [==============================] - 19s 102ms/step - loss: 0.0016 - val_loss: 0.0021\n",
            "Epoch 45/50\n",
            "188/188 [==============================] - 19s 103ms/step - loss: 0.0016 - val_loss: 0.0015\n",
            "Epoch 46/50\n",
            "188/188 [==============================] - 19s 102ms/step - loss: 0.0015 - val_loss: 0.0016\n",
            "Epoch 47/50\n",
            "188/188 [==============================] - 19s 102ms/step - loss: 0.0015 - val_loss: 0.0015\n",
            "Epoch 48/50\n",
            "188/188 [==============================] - 19s 102ms/step - loss: 0.0015 - val_loss: 0.0016\n",
            "Epoch 49/50\n",
            "188/188 [==============================] - 19s 102ms/step - loss: 0.0015 - val_loss: 0.0025\n",
            "Epoch 50/50\n",
            "188/188 [==============================] - 19s 102ms/step - loss: 0.0015 - val_loss: 0.0020\n"
          ],
          "name": "stdout"
        }
      ]
    },
    {
      "cell_type": "markdown",
      "metadata": {
        "id": "JU1d7hHFHrrF"
      },
      "source": [
        "Now, let's plot the loss plot between training and validation data to visualize the model performance."
      ]
    },
    {
      "cell_type": "code",
      "metadata": {
        "id": "PQVQXgNOHrrG",
        "outputId": "a759d4b9-25be-4f45-9104-c5c035b35e23",
        "colab": {
          "base_uri": "https://localhost:8080/",
          "height": 281
        }
      },
      "source": [
        "loss = autoencoder_train.history['loss']\n",
        "val_loss = autoencoder_train.history['val_loss']\n",
        "epochs = range(50)\n",
        "plt.figure()\n",
        "plt.plot(epochs, loss, 'bo', label='Training loss')\n",
        "plt.plot(epochs, val_loss, 'b', label='Validation loss')\n",
        "plt.title('Training and validation loss')\n",
        "plt.legend()\n",
        "plt.show()"
      ],
      "execution_count": 48,
      "outputs": [
        {
          "output_type": "display_data",
          "data": {
            "image/png": "[encoded data removed]",
            "text/plain": [
              "<Figure size 432x288 with 1 Axes>"
            ]
          },
          "metadata": {
            "tags": [],
            "needs_background": "light"
          }
        }
      ]
    },
    {
      "cell_type": "markdown",
      "metadata": {
        "id": "E3lFxRdsHrrL"
      },
      "source": [
        "Save the Model\n",
        "\n",
        "Since you will need the encoder weights in your classification task, first let's save the complete autoencoder weights. You will learn how you can extract the encoder weights soon."
      ]
    },
    {
      "cell_type": "code",
      "metadata": {
        "id": "ZN7P1EyUHrrM"
      },
      "source": [
        "autoencoder.save_weights('autoencoder.h5')"
      ],
      "execution_count": 49,
      "outputs": []
    },
    {
      "cell_type": "markdown",
      "metadata": {
        "id": "FKFBe6EJHrrR"
      },
      "source": [
        "Segmenting the fashion mnist images\n",
        "\n",
        "Now you will be using the trained autoencoder's head, i.e., the encoder part and will be loading the weights of the autoencoder you just now trained but only in the encoder part of the model.\n",
        "\n",
        "You will add a few dense or fully connected layers to the encoder to classify fashion mnist images.\n",
        "\n",
        "    Let's first convert the labels into one-hot encoding vectors.\n",
        "\n",
        "    For those of you who do not know about one-hot encoding:\n",
        "\n",
        "    In one-hot encoding, you convert the categorical data into a vector of numbers. The reason why you convert the categorical data in one hot encoding is that machine learning algorithms cannot work with categorical data directly. You generate one boolean column for each category or class. Only one of these columns could take on the value 1 for each sample. Hence, the term one-hot encoding.\n",
        "\n",
        "    For your problem statement, the one hot encoding will be a row vector, and for each image, it will have a dimension of 1 x 10. The important thing to note here is that the vector consists of all zeros except for the class that it represents, and for that, it is 1.\n",
        "\n",
        "    So let's convert the labels into one-hot encoding vectors:"
      ]
    },
    {
      "cell_type": "code",
      "metadata": {
        "id": "3if_TZrhHrrW",
        "outputId": "ddf4865c-ac31-44bb-85a7-30ec0a05c47c",
        "colab": {
          "base_uri": "https://localhost:8080/"
        }
      },
      "source": [
        "# Change the labels from categorical to one-hot encoding\n",
        "train_Y_one_hot = to_categorical(train_labels)\n",
        "test_Y_one_hot = to_categorical(test_labels)\n",
        "\n",
        "# Display the change for category label using one-hot encoding\n",
        "print('Original label:', train_labels[0])\n",
        "print('After conversion to one-hot:', train_Y_one_hot[0])\n"
      ],
      "execution_count": 50,
      "outputs": [
        {
          "output_type": "stream",
          "text": [
            "Original label: 5\n",
            "After conversion to one-hot: [0. 0. 0. 0. 0. 1. 0. 0. 0. 0.]\n"
          ],
          "name": "stdout"
        }
      ]
    },
    {
      "cell_type": "markdown",
      "metadata": {
        "id": "wn1R8PqjHrrb"
      },
      "source": [
        "This last step is a crucial one which you all have done before as well which is splitting the data into training and validation in the autoencoder training phase. So let's quickly do that step for classification as well. Note that you will use the same random state that you used before and also this time you will pass your labels as well that you just now converted into a one-hot encoding vector."
      ]
    },
    {
      "cell_type": "code",
      "metadata": {
        "id": "pwtoRDCmHrrc"
      },
      "source": [
        "train_X,valid_X,train_label,valid_label = train_test_split(train_data,train_Y_one_hot,test_size=0.2,random_state=13)"
      ],
      "execution_count": 51,
      "outputs": []
    },
    {
      "cell_type": "markdown",
      "metadata": {
        "id": "h8TZAddzHrrh"
      },
      "source": [
        "Now, let's define the classification model. Remember that you will be using the exact same encoder part as you used in the autoencoder architecture."
      ]
    },
    {
      "cell_type": "markdown",
      "metadata": {
        "id": "2aSdELMpHrri"
      },
      "source": [
        "Let's define the fully connected layers that you will be stacking up with the encoder function."
      ]
    },
    {
      "cell_type": "code",
      "metadata": {
        "id": "dLI5BFbpHrrj"
      },
      "source": [
        "def fc(enco):\n",
        "    flat = Flatten()(enco)\n",
        "    den = Dense(128, activation='relu')(flat)\n",
        "    out = Dense(num_classes, activation='softmax')(den)\n",
        "    return out"
      ],
      "execution_count": 52,
      "outputs": []
    },
    {
      "cell_type": "code",
      "metadata": {
        "id": "SxoBnwaHHrrn"
      },
      "source": [
        "encode = encoder(input_img)\n",
        "full_model = Model(input_img,fc(encode))\n",
        "\n",
        "for l1,l2 in zip(full_model.layers[:19],autoencoder.layers[0:19]):\n",
        "    l1.set_weights(l2.get_weights())"
      ],
      "execution_count": 53,
      "outputs": []
    },
    {
      "cell_type": "markdown",
      "metadata": {
        "id": "_PoZ5IYgHrrs"
      },
      "source": [
        "Note: The next step is pretty important. In order to be sure whether the weights of the encoder part of the autoencoder are similar to the weights you loaded to the encoder function of the classification model, you should always print any one of the same layers weights of both the models. If they are not similar, then there is no use in using the autoencoder classification strategy.\n",
        "\n",
        "Let's print first layer weights of both the models."
      ]
    },
    {
      "cell_type": "code",
      "metadata": {
        "id": "bt1ShGlPHrru",
        "outputId": "fa454e6b-5b51-4fb8-9f24-c1346188cbb4",
        "colab": {
          "base_uri": "https://localhost:8080/"
        }
      },
      "source": [
        "autoencoder.get_weights()[0][1]"
      ],
      "execution_count": 54,
      "outputs": [
        {
          "output_type": "execute_result",
          "data": {
            "text/plain": [
              "array([[[-0.1271301 ,  0.04464377,  0.04155587,  0.07376833,\n",
              "          0.27619326,  0.07720964,  0.01926802,  0.03504908,\n",
              "          0.10989567,  0.21043234,  0.0783544 ,  0.10672589,\n",
              "         -0.0692504 ,  0.10043671,  0.06855409, -0.09185022,\n",
              "         -0.08920411,  0.05863911, -0.00567099, -0.0917145 ,\n",
              "          0.00117847, -0.0033527 , -0.07897843, -0.066409  ,\n",
              "         -0.09287863, -0.06093099, -0.03184461, -0.02469458,\n",
              "          0.08314957,  0.1044691 ,  0.07076368, -0.01722285]],\n",
              "\n",
              "       [[ 0.09301241, -0.20170656,  0.11584669, -0.00085603,\n",
              "         -0.01164032, -0.17290679,  0.19401716,  0.01411298,\n",
              "         -0.08317492,  0.14581569,  0.08280209, -0.02813911,\n",
              "          0.01185256,  0.06711052,  0.10288019,  0.15970063,\n",
              "          0.34258187,  0.09364795,  0.05126147, -0.14024104,\n",
              "         -0.01795956,  0.04248126,  0.05458661, -0.47985175,\n",
              "         -0.14800666, -0.214482  , -0.12796824,  0.09668915,\n",
              "          0.05827927,  0.13633804, -0.1492614 ,  0.13143082]],\n",
              "\n",
              "       [[ 0.1291521 ,  0.03883273, -0.01497069, -0.09765886,\n",
              "          0.07093555,  0.1618786 , -0.10425924,  0.03154723,\n",
              "          0.09354459, -0.0100296 , -0.06859865, -0.07003179,\n",
              "          0.00396045,  0.02615412, -0.04899715,  0.22972342,\n",
              "          0.04327442, -0.13680308,  0.14497906, -0.1433983 ,\n",
              "          0.12660074, -0.02128157, -0.10869218, -0.1087137 ,\n",
              "          0.09681448,  0.11113587,  0.11105787,  0.09063987,\n",
              "          0.00141037,  0.2395893 , -0.18723781, -0.03629175]]],\n",
              "      dtype=float32)"
            ]
          },
          "metadata": {
            "tags": []
          },
          "execution_count": 54
        }
      ]
    },
    {
      "cell_type": "code",
      "metadata": {
        "id": "khhne4sjHrrz",
        "outputId": "d4107ba2-5279-476e-f831-d0f4f6d79c37",
        "colab": {
          "base_uri": "https://localhost:8080/"
        }
      },
      "source": [
        "full_model.get_weights()[0][1]"
      ],
      "execution_count": 55,
      "outputs": [
        {
          "output_type": "execute_result",
          "data": {
            "text/plain": [
              "array([[[-0.1271301 ,  0.04464377,  0.04155587,  0.07376833,\n",
              "          0.27619326,  0.07720964,  0.01926802,  0.03504908,\n",
              "          0.10989567,  0.21043234,  0.0783544 ,  0.10672589,\n",
              "         -0.0692504 ,  0.10043671,  0.06855409, -0.09185022,\n",
              "         -0.08920411,  0.05863911, -0.00567099, -0.0917145 ,\n",
              "          0.00117847, -0.0033527 , -0.07897843, -0.066409  ,\n",
              "         -0.09287863, -0.06093099, -0.03184461, -0.02469458,\n",
              "          0.08314957,  0.1044691 ,  0.07076368, -0.01722285]],\n",
              "\n",
              "       [[ 0.09301241, -0.20170656,  0.11584669, -0.00085603,\n",
              "         -0.01164032, -0.17290679,  0.19401716,  0.01411298,\n",
              "         -0.08317492,  0.14581569,  0.08280209, -0.02813911,\n",
              "          0.01185256,  0.06711052,  0.10288019,  0.15970063,\n",
              "          0.34258187,  0.09364795,  0.05126147, -0.14024104,\n",
              "         -0.01795956,  0.04248126,  0.05458661, -0.47985175,\n",
              "         -0.14800666, -0.214482  , -0.12796824,  0.09668915,\n",
              "          0.05827927,  0.13633804, -0.1492614 ,  0.13143082]],\n",
              "\n",
              "       [[ 0.1291521 ,  0.03883273, -0.01497069, -0.09765886,\n",
              "          0.07093555,  0.1618786 , -0.10425924,  0.03154723,\n",
              "          0.09354459, -0.0100296 , -0.06859865, -0.07003179,\n",
              "          0.00396045,  0.02615412, -0.04899715,  0.22972342,\n",
              "          0.04327442, -0.13680308,  0.14497906, -0.1433983 ,\n",
              "          0.12660074, -0.02128157, -0.10869218, -0.1087137 ,\n",
              "          0.09681448,  0.11113587,  0.11105787,  0.09063987,\n",
              "          0.00141037,  0.2395893 , -0.18723781, -0.03629175]]],\n",
              "      dtype=float32)"
            ]
          },
          "metadata": {
            "tags": []
          },
          "execution_count": 55
        }
      ]
    },
    {
      "cell_type": "markdown",
      "metadata": {
        "id": "X7nyf3mzHrr3"
      },
      "source": [
        "Voila! Both the arrays look exactly similar. So, without any further ado, let's compile the model and start the training.\n",
        "\n",
        "Next, you will make the encoder part i.e.the first nineteen layers of the model trainable false. Since the encoder part is already trained, you do not need to train it. You will only be training the Fully Connected part."
      ]
    },
    {
      "cell_type": "code",
      "metadata": {
        "id": "IQLzExNwHrr5"
      },
      "source": [
        "for layer in full_model.layers[0:19]:\n",
        "    layer.trainable = False\n"
      ],
      "execution_count": 56,
      "outputs": []
    },
    {
      "cell_type": "markdown",
      "metadata": {
        "id": "ksKSr2kcHrr-"
      },
      "source": [
        "Let's compile the model!"
      ]
    },
    {
      "cell_type": "code",
      "metadata": {
        "id": "PpeRquzjHrr_"
      },
      "source": [
        "full_model.compile(loss=keras.losses.categorical_crossentropy, optimizer=keras.optimizers.Adam(),metrics=['accuracy'])"
      ],
      "execution_count": 57,
      "outputs": []
    },
    {
      "cell_type": "markdown",
      "metadata": {
        "id": "_JagbFbNHrsE"
      },
      "source": [
        "Let's print the summary of the model as well. There should be non-trainable parameters as well since you made the first fifteen layers of the model non-trainable."
      ]
    },
    {
      "cell_type": "code",
      "metadata": {
        "id": "9eSKY9wgHrsE",
        "outputId": "40b8de7d-1051-47c8-e87c-4058bb6ebd06",
        "colab": {
          "base_uri": "https://localhost:8080/"
        }
      },
      "source": [
        "full_model.summary()"
      ],
      "execution_count": 58,
      "outputs": [
        {
          "output_type": "stream",
          "text": [
            "Model: \"functional_7\"\n",
            "_________________________________________________________________\n",
            "Layer (type)                 Output Shape              Param #   \n",
            "=================================================================\n",
            "input_2 (InputLayer)         [(None, 28, 28, 1)]       0         \n",
            "_________________________________________________________________\n",
            "conv2d_42 (Conv2D)           (None, 28, 28, 32)        320       \n",
            "_________________________________________________________________\n",
            "batch_normalization_40 (Batc (None, 28, 28, 32)        128       \n",
            "_________________________________________________________________\n",
            "conv2d_43 (Conv2D)           (None, 28, 28, 32)        9248      \n",
            "_________________________________________________________________\n",
            "batch_normalization_41 (Batc (None, 28, 28, 32)        128       \n",
            "_________________________________________________________________\n",
            "max_pooling2d_6 (MaxPooling2 (None, 14, 14, 32)        0         \n",
            "_________________________________________________________________\n",
            "conv2d_44 (Conv2D)           (None, 14, 14, 64)        18496     \n",
            "_________________________________________________________________\n",
            "batch_normalization_42 (Batc (None, 14, 14, 64)        256       \n",
            "_________________________________________________________________\n",
            "conv2d_45 (Conv2D)           (None, 14, 14, 64)        36928     \n",
            "_________________________________________________________________\n",
            "batch_normalization_43 (Batc (None, 14, 14, 64)        256       \n",
            "_________________________________________________________________\n",
            "max_pooling2d_7 (MaxPooling2 (None, 7, 7, 64)          0         \n",
            "_________________________________________________________________\n",
            "conv2d_46 (Conv2D)           (None, 7, 7, 128)         73856     \n",
            "_________________________________________________________________\n",
            "batch_normalization_44 (Batc (None, 7, 7, 128)         512       \n",
            "_________________________________________________________________\n",
            "conv2d_47 (Conv2D)           (None, 7, 7, 128)         147584    \n",
            "_________________________________________________________________\n",
            "batch_normalization_45 (Batc (None, 7, 7, 128)         512       \n",
            "_________________________________________________________________\n",
            "conv2d_48 (Conv2D)           (None, 7, 7, 256)         295168    \n",
            "_________________________________________________________________\n",
            "batch_normalization_46 (Batc (None, 7, 7, 256)         1024      \n",
            "_________________________________________________________________\n",
            "conv2d_49 (Conv2D)           (None, 7, 7, 256)         590080    \n",
            "_________________________________________________________________\n",
            "batch_normalization_47 (Batc (None, 7, 7, 256)         1024      \n",
            "_________________________________________________________________\n",
            "flatten_1 (Flatten)          (None, 12544)             0         \n",
            "_________________________________________________________________\n",
            "dense_2 (Dense)              (None, 128)               1605760   \n",
            "_________________________________________________________________\n",
            "dense_3 (Dense)              (None, 10)                1290      \n",
            "=================================================================\n",
            "Total params: 2,782,570\n",
            "Trainable params: 1,607,050\n",
            "Non-trainable params: 1,175,520\n",
            "_________________________________________________________________\n"
          ],
          "name": "stdout"
        }
      ]
    },
    {
      "cell_type": "markdown",
      "metadata": {
        "id": "bVw-nVCWHrsK"
      },
      "source": [
        "Train the Model\n",
        "\n",
        "It's finally time to train the model with Keras' fit() function! The model trains for 10 epochs. The fit() function will return a history object; By storing the result of this function in fashion_train, you can use it later to plot the accuracy and loss function plots between training and validation which will help you to analyze your model's performance visually.\n",
        "\n"
      ]
    },
    {
      "cell_type": "code",
      "metadata": {
        "id": "5fEExuSjHrsL",
        "outputId": "f6f8eade-214e-4e4a-8718-5144370830e8",
        "colab": {
          "base_uri": "https://localhost:8080/"
        }
      },
      "source": [
        "classify_train = full_model.fit(train_X, train_label, batch_size=256,epochs=50,verbose=1,validation_data=(valid_X, valid_label))"
      ],
      "execution_count": 59,
      "outputs": [
        {
          "output_type": "stream",
          "text": [
            "Epoch 1/50\n",
            "188/188 [==============================] - 4s 22ms/step - loss: 0.2538 - accuracy: 0.9263 - val_loss: 0.1264 - val_accuracy: 0.9634\n",
            "Epoch 2/50\n",
            "188/188 [==============================] - 4s 21ms/step - loss: 0.0922 - accuracy: 0.9728 - val_loss: 0.0932 - val_accuracy: 0.9719\n",
            "Epoch 3/50\n",
            "188/188 [==============================] - 4s 21ms/step - loss: 0.0586 - accuracy: 0.9829 - val_loss: 0.0820 - val_accuracy: 0.9757\n",
            "Epoch 4/50\n",
            "188/188 [==============================] - 4s 21ms/step - loss: 0.0425 - accuracy: 0.9877 - val_loss: 0.0766 - val_accuracy: 0.9769\n",
            "Epoch 5/50\n",
            "188/188 [==============================] - 4s 20ms/step - loss: 0.0331 - accuracy: 0.9905 - val_loss: 0.0712 - val_accuracy: 0.9784\n",
            "Epoch 6/50\n",
            "188/188 [==============================] - 4s 21ms/step - loss: 0.0226 - accuracy: 0.9942 - val_loss: 0.0675 - val_accuracy: 0.9789\n",
            "Epoch 7/50\n",
            "188/188 [==============================] - 4s 20ms/step - loss: 0.0160 - accuracy: 0.9964 - val_loss: 0.0676 - val_accuracy: 0.9793\n",
            "Epoch 8/50\n",
            "188/188 [==============================] - 4s 21ms/step - loss: 0.0126 - accuracy: 0.9977 - val_loss: 0.0645 - val_accuracy: 0.9801\n",
            "Epoch 9/50\n",
            "188/188 [==============================] - 4s 21ms/step - loss: 0.0084 - accuracy: 0.9988 - val_loss: 0.0698 - val_accuracy: 0.9800\n",
            "Epoch 10/50\n",
            "188/188 [==============================] - 4s 20ms/step - loss: 0.0073 - accuracy: 0.9990 - val_loss: 0.0687 - val_accuracy: 0.9812\n",
            "Epoch 11/50\n",
            "188/188 [==============================] - 4s 21ms/step - loss: 0.0052 - accuracy: 0.9995 - val_loss: 0.0649 - val_accuracy: 0.9812\n",
            "Epoch 12/50\n",
            "188/188 [==============================] - 4s 21ms/step - loss: 0.0043 - accuracy: 0.9994 - val_loss: 0.0645 - val_accuracy: 0.9818\n",
            "Epoch 13/50\n",
            "188/188 [==============================] - 4s 21ms/step - loss: 0.0027 - accuracy: 0.9999 - val_loss: 0.0642 - val_accuracy: 0.9823\n",
            "Epoch 14/50\n",
            "188/188 [==============================] - 4s 21ms/step - loss: 0.0020 - accuracy: 0.9999 - val_loss: 0.0646 - val_accuracy: 0.9826\n",
            "Epoch 15/50\n",
            "188/188 [==============================] - 4s 20ms/step - loss: 0.0015 - accuracy: 1.0000 - val_loss: 0.0647 - val_accuracy: 0.9824\n",
            "Epoch 16/50\n",
            "188/188 [==============================] - 4s 20ms/step - loss: 0.0013 - accuracy: 1.0000 - val_loss: 0.0660 - val_accuracy: 0.9822\n",
            "Epoch 17/50\n",
            "188/188 [==============================] - 4s 20ms/step - loss: 0.0011 - accuracy: 1.0000 - val_loss: 0.0656 - val_accuracy: 0.9814\n",
            "Epoch 18/50\n",
            "188/188 [==============================] - 4s 20ms/step - loss: 8.9411e-04 - accuracy: 1.0000 - val_loss: 0.0667 - val_accuracy: 0.9829\n",
            "Epoch 19/50\n",
            "188/188 [==============================] - 4s 20ms/step - loss: 8.7719e-04 - accuracy: 1.0000 - val_loss: 0.0671 - val_accuracy: 0.9827\n",
            "Epoch 20/50\n",
            "188/188 [==============================] - 4s 20ms/step - loss: 6.4924e-04 - accuracy: 1.0000 - val_loss: 0.0668 - val_accuracy: 0.9829\n",
            "Epoch 21/50\n",
            "188/188 [==============================] - 4s 20ms/step - loss: 5.5585e-04 - accuracy: 1.0000 - val_loss: 0.0679 - val_accuracy: 0.9831\n",
            "Epoch 22/50\n",
            "188/188 [==============================] - 4s 20ms/step - loss: 4.8621e-04 - accuracy: 1.0000 - val_loss: 0.0694 - val_accuracy: 0.9833\n",
            "Epoch 23/50\n",
            "188/188 [==============================] - 4s 20ms/step - loss: 4.2665e-04 - accuracy: 1.0000 - val_loss: 0.0689 - val_accuracy: 0.9827\n",
            "Epoch 24/50\n",
            "188/188 [==============================] - 4s 20ms/step - loss: 3.7867e-04 - accuracy: 1.0000 - val_loss: 0.0702 - val_accuracy: 0.9824\n",
            "Epoch 25/50\n",
            "188/188 [==============================] - 4s 20ms/step - loss: 3.3819e-04 - accuracy: 1.0000 - val_loss: 0.0724 - val_accuracy: 0.9822\n",
            "Epoch 26/50\n",
            "188/188 [==============================] - 4s 21ms/step - loss: 2.9800e-04 - accuracy: 1.0000 - val_loss: 0.0705 - val_accuracy: 0.9833\n",
            "Epoch 27/50\n",
            "188/188 [==============================] - 4s 20ms/step - loss: 2.6839e-04 - accuracy: 1.0000 - val_loss: 0.0714 - val_accuracy: 0.9833\n",
            "Epoch 28/50\n",
            "188/188 [==============================] - 4s 20ms/step - loss: 2.4040e-04 - accuracy: 1.0000 - val_loss: 0.0724 - val_accuracy: 0.9827\n",
            "Epoch 29/50\n",
            "188/188 [==============================] - 4s 21ms/step - loss: 2.1489e-04 - accuracy: 1.0000 - val_loss: 0.0728 - val_accuracy: 0.9830\n",
            "Epoch 30/50\n",
            "188/188 [==============================] - 4s 21ms/step - loss: 1.9180e-04 - accuracy: 1.0000 - val_loss: 0.0737 - val_accuracy: 0.9827\n",
            "Epoch 31/50\n",
            "188/188 [==============================] - 4s 20ms/step - loss: 1.6997e-04 - accuracy: 1.0000 - val_loss: 0.0755 - val_accuracy: 0.9820\n",
            "Epoch 32/50\n",
            "188/188 [==============================] - 4s 21ms/step - loss: 1.5694e-04 - accuracy: 1.0000 - val_loss: 0.0741 - val_accuracy: 0.9833\n",
            "Epoch 33/50\n",
            "188/188 [==============================] - 4s 21ms/step - loss: 1.3532e-04 - accuracy: 1.0000 - val_loss: 0.0771 - val_accuracy: 0.9829\n",
            "Epoch 34/50\n",
            "188/188 [==============================] - 4s 20ms/step - loss: 1.1825e-04 - accuracy: 1.0000 - val_loss: 0.0759 - val_accuracy: 0.9832\n",
            "Epoch 35/50\n",
            "188/188 [==============================] - 4s 21ms/step - loss: 1.0860e-04 - accuracy: 1.0000 - val_loss: 0.0759 - val_accuracy: 0.9830\n",
            "Epoch 36/50\n",
            "188/188 [==============================] - 4s 20ms/step - loss: 9.5740e-05 - accuracy: 1.0000 - val_loss: 0.0772 - val_accuracy: 0.9837\n",
            "Epoch 37/50\n",
            "188/188 [==============================] - 4s 20ms/step - loss: 8.5152e-05 - accuracy: 1.0000 - val_loss: 0.0779 - val_accuracy: 0.9833\n",
            "Epoch 38/50\n",
            "188/188 [==============================] - 4s 21ms/step - loss: 7.7128e-05 - accuracy: 1.0000 - val_loss: 0.0789 - val_accuracy: 0.9832\n",
            "Epoch 39/50\n",
            "188/188 [==============================] - 4s 20ms/step - loss: 7.0945e-05 - accuracy: 1.0000 - val_loss: 0.0787 - val_accuracy: 0.9834\n",
            "Epoch 40/50\n",
            "188/188 [==============================] - 4s 20ms/step - loss: 6.0664e-05 - accuracy: 1.0000 - val_loss: 0.0797 - val_accuracy: 0.9832\n",
            "Epoch 41/50\n",
            "188/188 [==============================] - 4s 21ms/step - loss: 5.4683e-05 - accuracy: 1.0000 - val_loss: 0.0803 - val_accuracy: 0.9831\n",
            "Epoch 42/50\n",
            "188/188 [==============================] - 4s 21ms/step - loss: 4.9413e-05 - accuracy: 1.0000 - val_loss: 0.0809 - val_accuracy: 0.9833\n",
            "Epoch 43/50\n",
            "188/188 [==============================] - 4s 20ms/step - loss: 4.4400e-05 - accuracy: 1.0000 - val_loss: 0.0822 - val_accuracy: 0.9833\n",
            "Epoch 44/50\n",
            "188/188 [==============================] - 4s 20ms/step - loss: 3.9634e-05 - accuracy: 1.0000 - val_loss: 0.0824 - val_accuracy: 0.9836\n",
            "Epoch 45/50\n",
            "188/188 [==============================] - 4s 21ms/step - loss: 3.6854e-05 - accuracy: 1.0000 - val_loss: 0.0835 - val_accuracy: 0.9833\n",
            "Epoch 46/50\n",
            "188/188 [==============================] - 4s 21ms/step - loss: 3.2356e-05 - accuracy: 1.0000 - val_loss: 0.0848 - val_accuracy: 0.9835\n",
            "Epoch 47/50\n",
            "188/188 [==============================] - 4s 21ms/step - loss: 2.8402e-05 - accuracy: 1.0000 - val_loss: 0.0849 - val_accuracy: 0.9835\n",
            "Epoch 48/50\n",
            "188/188 [==============================] - 4s 21ms/step - loss: 2.6292e-05 - accuracy: 1.0000 - val_loss: 0.0852 - val_accuracy: 0.9834\n",
            "Epoch 49/50\n",
            "188/188 [==============================] - 4s 21ms/step - loss: 2.3576e-05 - accuracy: 1.0000 - val_loss: 0.0847 - val_accuracy: 0.9835\n",
            "Epoch 50/50\n",
            "188/188 [==============================] - 4s 20ms/step - loss: 2.1759e-05 - accuracy: 1.0000 - val_loss: 0.0866 - val_accuracy: 0.9828\n"
          ],
          "name": "stdout"
        }
      ]
    },
    {
      "cell_type": "markdown",
      "metadata": {
        "id": "O8L_moCuHrsP"
      },
      "source": [
        "Let's save the classification model"
      ]
    },
    {
      "cell_type": "code",
      "metadata": {
        "id": "BQLBeJ-DHrsQ"
      },
      "source": [
        "full_model.save_weights('autoencoder_classification.h5')"
      ],
      "execution_count": 60,
      "outputs": []
    },
    {
      "cell_type": "markdown",
      "metadata": {
        "id": "Kueq_f5zHrsV"
      },
      "source": [
        " Next, you will re-train the model by making the first nineteen layers trainable as True instead of keeping them False! So, let's quickly do that."
      ]
    },
    {
      "cell_type": "code",
      "metadata": {
        "id": "3mz-aEouHrsW"
      },
      "source": [
        "for layer in full_model.layers[0:19]:\n",
        "    layer.trainable = True\n",
        "\n",
        "    full_model.compile(loss=keras.losses.categorical_crossentropy, optimizer=keras.optimizers.Adam(),metrics=['accuracy'])"
      ],
      "execution_count": 61,
      "outputs": []
    },
    {
      "cell_type": "markdown",
      "metadata": {
        "id": "tDKfJI_MHrsb"
      },
      "source": [
        "Now let's train the entire model for one last time!"
      ]
    },
    {
      "cell_type": "code",
      "metadata": {
        "id": "I0-oHVnSHrsc",
        "outputId": "36a05d45-a9bf-40de-b0b0-90474bc69ad7",
        "colab": {
          "base_uri": "https://localhost:8080/"
        }
      },
      "source": [
        "classify_train = full_model.fit(train_X, train_label, batch_size=256,epochs=50,verbose=1,validation_data=(valid_X, valid_label))"
      ],
      "execution_count": 62,
      "outputs": [
        {
          "output_type": "stream",
          "text": [
            "Epoch 1/50\n",
            "188/188 [==============================] - 12s 62ms/step - loss: 0.0430 - accuracy: 0.9902 - val_loss: 0.1596 - val_accuracy: 0.9736\n",
            "Epoch 2/50\n",
            "188/188 [==============================] - 11s 61ms/step - loss: 0.0243 - accuracy: 0.9934 - val_loss: 0.1324 - val_accuracy: 0.9813\n",
            "Epoch 3/50\n",
            "188/188 [==============================] - 11s 61ms/step - loss: 0.0151 - accuracy: 0.9959 - val_loss: 0.1249 - val_accuracy: 0.9821\n",
            "Epoch 4/50\n",
            "188/188 [==============================] - 11s 61ms/step - loss: 0.0126 - accuracy: 0.9963 - val_loss: 0.1337 - val_accuracy: 0.9809\n",
            "Epoch 5/50\n",
            "188/188 [==============================] - 11s 61ms/step - loss: 0.0106 - accuracy: 0.9969 - val_loss: 0.1330 - val_accuracy: 0.9803\n",
            "Epoch 6/50\n",
            "188/188 [==============================] - 11s 61ms/step - loss: 0.0134 - accuracy: 0.9968 - val_loss: 0.1173 - val_accuracy: 0.9831\n",
            "Epoch 7/50\n",
            "188/188 [==============================] - 11s 61ms/step - loss: 0.0108 - accuracy: 0.9972 - val_loss: 0.1198 - val_accuracy: 0.9827\n",
            "Epoch 8/50\n",
            "188/188 [==============================] - 11s 61ms/step - loss: 0.0084 - accuracy: 0.9976 - val_loss: 0.1451 - val_accuracy: 0.9793\n",
            "Epoch 9/50\n",
            "188/188 [==============================] - 11s 61ms/step - loss: 0.0105 - accuracy: 0.9972 - val_loss: 0.1061 - val_accuracy: 0.9849\n",
            "Epoch 10/50\n",
            "188/188 [==============================] - 11s 61ms/step - loss: 0.0064 - accuracy: 0.9980 - val_loss: 0.1548 - val_accuracy: 0.9806\n",
            "Epoch 11/50\n",
            "188/188 [==============================] - 11s 61ms/step - loss: 0.0126 - accuracy: 0.9965 - val_loss: 0.1549 - val_accuracy: 0.9718\n",
            "Epoch 12/50\n",
            "188/188 [==============================] - 11s 60ms/step - loss: 0.0108 - accuracy: 0.9973 - val_loss: 0.1119 - val_accuracy: 0.9852\n",
            "Epoch 13/50\n",
            "188/188 [==============================] - 11s 60ms/step - loss: 0.0060 - accuracy: 0.9983 - val_loss: 0.1284 - val_accuracy: 0.9831\n",
            "Epoch 14/50\n",
            "188/188 [==============================] - 11s 60ms/step - loss: 0.0106 - accuracy: 0.9974 - val_loss: 0.1206 - val_accuracy: 0.9824\n",
            "Epoch 15/50\n",
            "188/188 [==============================] - 11s 61ms/step - loss: 0.0087 - accuracy: 0.9978 - val_loss: 0.1429 - val_accuracy: 0.9818\n",
            "Epoch 16/50\n",
            "188/188 [==============================] - 11s 61ms/step - loss: 0.0069 - accuracy: 0.9982 - val_loss: 0.1032 - val_accuracy: 0.9848\n",
            "Epoch 17/50\n",
            "188/188 [==============================] - 11s 61ms/step - loss: 0.0040 - accuracy: 0.9989 - val_loss: 0.1114 - val_accuracy: 0.9847\n",
            "Epoch 18/50\n",
            "188/188 [==============================] - 11s 60ms/step - loss: 0.0031 - accuracy: 0.9992 - val_loss: 0.1435 - val_accuracy: 0.9849\n",
            "Epoch 19/50\n",
            "188/188 [==============================] - 11s 61ms/step - loss: 0.0138 - accuracy: 0.9965 - val_loss: 0.1762 - val_accuracy: 0.9749\n",
            "Epoch 20/50\n",
            "188/188 [==============================] - 11s 61ms/step - loss: 0.0082 - accuracy: 0.9978 - val_loss: 0.0933 - val_accuracy: 0.9860\n",
            "Epoch 21/50\n",
            "188/188 [==============================] - 11s 61ms/step - loss: 0.0040 - accuracy: 0.9989 - val_loss: 0.1254 - val_accuracy: 0.9846\n",
            "Epoch 22/50\n",
            "188/188 [==============================] - 11s 60ms/step - loss: 0.0071 - accuracy: 0.9981 - val_loss: 0.0947 - val_accuracy: 0.9876\n",
            "Epoch 23/50\n",
            "188/188 [==============================] - 11s 61ms/step - loss: 0.0097 - accuracy: 0.9975 - val_loss: 0.1138 - val_accuracy: 0.9837\n",
            "Epoch 24/50\n",
            "188/188 [==============================] - 11s 60ms/step - loss: 0.0060 - accuracy: 0.9983 - val_loss: 0.1367 - val_accuracy: 0.9811\n",
            "Epoch 25/50\n",
            "188/188 [==============================] - 11s 60ms/step - loss: 0.0045 - accuracy: 0.9988 - val_loss: 0.0928 - val_accuracy: 0.9869\n",
            "Epoch 26/50\n",
            "188/188 [==============================] - 11s 60ms/step - loss: 0.0020 - accuracy: 0.9994 - val_loss: 0.1127 - val_accuracy: 0.9875\n",
            "Epoch 27/50\n",
            "188/188 [==============================] - 11s 61ms/step - loss: 0.0032 - accuracy: 0.9991 - val_loss: 0.1203 - val_accuracy: 0.9858\n",
            "Epoch 28/50\n",
            "188/188 [==============================] - 11s 61ms/step - loss: 0.0096 - accuracy: 0.9981 - val_loss: 0.1313 - val_accuracy: 0.9851\n",
            "Epoch 29/50\n",
            "188/188 [==============================] - 11s 60ms/step - loss: 0.0053 - accuracy: 0.9984 - val_loss: 0.1028 - val_accuracy: 0.9860\n",
            "Epoch 30/50\n",
            "188/188 [==============================] - 11s 61ms/step - loss: 0.0041 - accuracy: 0.9990 - val_loss: 0.0899 - val_accuracy: 0.9877\n",
            "Epoch 31/50\n",
            "188/188 [==============================] - 11s 61ms/step - loss: 0.0020 - accuracy: 0.9994 - val_loss: 0.1015 - val_accuracy: 0.9852\n",
            "Epoch 32/50\n",
            "188/188 [==============================] - 11s 61ms/step - loss: 0.0095 - accuracy: 0.9980 - val_loss: 0.2150 - val_accuracy: 0.9759\n",
            "Epoch 33/50\n",
            "188/188 [==============================] - 11s 61ms/step - loss: 0.0067 - accuracy: 0.9985 - val_loss: 0.1099 - val_accuracy: 0.9838\n",
            "Epoch 34/50\n",
            "188/188 [==============================] - 11s 61ms/step - loss: 0.0021 - accuracy: 0.9994 - val_loss: 0.1029 - val_accuracy: 0.9864\n",
            "Epoch 35/50\n",
            "188/188 [==============================] - 11s 61ms/step - loss: 0.0054 - accuracy: 0.9985 - val_loss: 0.2019 - val_accuracy: 0.9791\n",
            "Epoch 36/50\n",
            "188/188 [==============================] - 11s 61ms/step - loss: 0.0061 - accuracy: 0.9987 - val_loss: 0.1251 - val_accuracy: 0.9847\n",
            "Epoch 37/50\n",
            "188/188 [==============================] - 11s 61ms/step - loss: 0.0058 - accuracy: 0.9986 - val_loss: 0.1067 - val_accuracy: 0.9850\n",
            "Epoch 38/50\n",
            "188/188 [==============================] - 11s 61ms/step - loss: 0.0037 - accuracy: 0.9993 - val_loss: 0.1372 - val_accuracy: 0.9837\n",
            "Epoch 39/50\n",
            "188/188 [==============================] - 11s 61ms/step - loss: 0.0016 - accuracy: 0.9995 - val_loss: 0.1251 - val_accuracy: 0.9844\n",
            "Epoch 40/50\n",
            "188/188 [==============================] - 11s 60ms/step - loss: 0.0029 - accuracy: 0.9993 - val_loss: 0.0867 - val_accuracy: 0.9873\n",
            "Epoch 41/50\n",
            "188/188 [==============================] - 11s 61ms/step - loss: 0.0088 - accuracy: 0.9982 - val_loss: 0.1403 - val_accuracy: 0.9790\n",
            "Epoch 42/50\n",
            "188/188 [==============================] - 11s 61ms/step - loss: 0.0109 - accuracy: 0.9975 - val_loss: 0.1017 - val_accuracy: 0.9873\n",
            "Epoch 43/50\n",
            "188/188 [==============================] - 11s 61ms/step - loss: 0.0027 - accuracy: 0.9992 - val_loss: 0.0886 - val_accuracy: 0.9878\n",
            "Epoch 44/50\n",
            "188/188 [==============================] - 11s 61ms/step - loss: 0.0021 - accuracy: 0.9994 - val_loss: 0.0977 - val_accuracy: 0.9883\n",
            "Epoch 45/50\n",
            "188/188 [==============================] - 11s 61ms/step - loss: 0.0018 - accuracy: 0.9996 - val_loss: 0.1213 - val_accuracy: 0.9868\n",
            "Epoch 46/50\n",
            "188/188 [==============================] - 11s 61ms/step - loss: 0.0022 - accuracy: 0.9995 - val_loss: 0.1767 - val_accuracy: 0.9790\n",
            "Epoch 47/50\n",
            "188/188 [==============================] - 11s 61ms/step - loss: 0.0024 - accuracy: 0.9992 - val_loss: 0.0936 - val_accuracy: 0.9880\n",
            "Epoch 48/50\n",
            "188/188 [==============================] - 11s 61ms/step - loss: 0.0068 - accuracy: 0.9984 - val_loss: 0.1175 - val_accuracy: 0.9868\n",
            "Epoch 49/50\n",
            "188/188 [==============================] - 11s 61ms/step - loss: 0.0042 - accuracy: 0.9990 - val_loss: 0.1036 - val_accuracy: 0.9843\n",
            "Epoch 50/50\n",
            "188/188 [==============================] - 11s 61ms/step - loss: 0.0033 - accuracy: 0.9992 - val_loss: 0.1524 - val_accuracy: 0.9833\n"
          ],
          "name": "stdout"
        }
      ]
    },
    {
      "cell_type": "markdown",
      "metadata": {
        "id": "-poynZU_Hrsf"
      },
      "source": [
        "Let's save the model for one last time."
      ]
    },
    {
      "cell_type": "code",
      "metadata": {
        "id": "EIvW4OFZHrsg"
      },
      "source": [
        "full_model.save_weights('classification_complete.h5')"
      ],
      "execution_count": 63,
      "outputs": []
    },
    {
      "cell_type": "markdown",
      "metadata": {
        "id": "9_nWWyGLHrsj"
      },
      "source": [
        "Let's put your model evaluation into perspective and plot the accuracy and loss plots between training and validation data:"
      ]
    },
    {
      "cell_type": "code",
      "metadata": {
        "id": "2DYrgPw6Hrsk",
        "outputId": "47c90082-713c-4187-bd26-1ead7555cd4b",
        "colab": {
          "base_uri": "https://localhost:8080/",
          "height": 545
        }
      },
      "source": [
        "accuracy = classify_train.history['accuracy']\n",
        "val_accuracy = classify_train.history['val_accuracy']\n",
        "loss = classify_train.history['loss']\n",
        "val_loss = classify_train.history['val_loss']\n",
        "epochs = range(len(accuracy))\n",
        "plt.plot(epochs, accuracy, 'bo', label='Training accuracy')\n",
        "plt.plot(epochs, val_accuracy, 'b', label='Validation accuracy')\n",
        "plt.title('Training and validation accuracy')\n",
        "plt.legend()\n",
        "plt.figure()\n",
        "plt.plot(epochs, loss, 'bo', label='Training loss')\n",
        "plt.plot(epochs, val_loss, 'b', label='Validation loss')\n",
        "plt.title('Training and validation loss')\n",
        "plt.legend()\n",
        "plt.show()"
      ],
      "execution_count": 64,
      "outputs": [
        {
          "output_type": "display_data",
          "data": {
            "image/png": "[encoded data removed]",
            "text/plain": [
              "<Figure size 432x288 with 1 Axes>"
            ]
          },
          "metadata": {
            "tags": [],
            "needs_background": "light"
          }
        },
        {
          "output_type": "display_data",
          "data": {
            "image/png": "[encoded data removed]",
            "text/plain": [
              "<Figure size 432x288 with 1 Axes>"
            ]
          },
          "metadata": {
            "tags": [],
            "needs_background": "light"
          }
        }
      ]
    },
    {
      "cell_type": "markdown",
      "metadata": {
        "id": "2GA78iVoHrsn"
      },
      "source": [
        "Model Evaluation on the Test Set\n",
        "\n",
        "Finally, let's also evaluate your model on test data and see how it performs!\n",
        "\n"
      ]
    },
    {
      "cell_type": "code",
      "metadata": {
        "id": "QwRhYdbBHrsp",
        "outputId": "a722c8da-2e63-41a2-a154-5a3003851986",
        "colab": {
          "base_uri": "https://localhost:8080/"
        }
      },
      "source": [
        "test_eval = full_model.evaluate(test_data, test_Y_one_hot, verbose=0)\n",
        "\n",
        "print('Test loss:', test_eval[0])\n",
        "print('Test accuracy:', test_eval[1])"
      ],
      "execution_count": 65,
      "outputs": [
        {
          "output_type": "stream",
          "text": [
            "Test loss: 0.12970174849033356\n",
            "Test accuracy: 0.9860000014305115\n"
          ],
          "name": "stdout"
        }
      ]
    },
    {
      "cell_type": "markdown",
      "metadata": {
        "id": "qw2K9zMjHrs-"
      },
      "source": [
        "Predict Labels"
      ]
    },
    {
      "cell_type": "code",
      "metadata": {
        "id": "dLBzyUKoHrs-"
      },
      "source": [
        "predicted_classes = full_model.predict(test_data)"
      ],
      "execution_count": 66,
      "outputs": []
    },
    {
      "cell_type": "markdown",
      "metadata": {
        "id": "fNNTN7muHrtB"
      },
      "source": [
        "Since the predictions you get are floating point values, it will not be feasible to compare the predicted labels with true test labels. So, you will round off the output which will convert the float values into an integer. Further, you will use np.argmax() to select the index number which has a higher value in a row.\n",
        "\n",
        "For example, let's assume a prediction for one test image to be [0 1 0 0 0 0 0 0 0 0], the output for this should be a class label 1.\n",
        "\n"
      ]
    },
    {
      "cell_type": "code",
      "metadata": {
        "id": "CqoMjnpAHrtC",
        "outputId": "8241b08a-9942-440f-e2c6-ffaadf9f9e05",
        "colab": {
          "base_uri": "https://localhost:8080/"
        }
      },
      "source": [
        "predicted_classes = np.argmax(np.round(predicted_classes),axis=1)\n",
        "predicted_classes.shape, test_labels.shape"
      ],
      "execution_count": 67,
      "outputs": [
        {
          "output_type": "execute_result",
          "data": {
            "text/plain": [
              "((10000,), (10000,))"
            ]
          },
          "metadata": {
            "tags": []
          },
          "execution_count": 67
        }
      ]
    },
    {
      "cell_type": "code",
      "metadata": {
        "id": "M1tGqD-xHrtF",
        "outputId": "952374f0-8f85-49e7-a4c2-61fec3d06a34",
        "colab": {
          "base_uri": "https://localhost:8080/",
          "height": 314
        }
      },
      "source": [
        "correct = np.where(predicted_classes==test_labels)[0]\n",
        "print (\"Found %d correct labels\" % len(correct))\n",
        "for i, correct in enumerate(correct[:9]):\n",
        "    plt.subplot(3,3,i+1)\n",
        "    plt.imshow(test_data[correct].reshape(28,28), cmap='gray', interpolation='none')\n",
        "    plt.title(\"Predicted {}, Class {}\".format(predicted_classes[correct], test_labels[correct]))\n",
        "    plt.tight_layout()"
      ],
      "execution_count": 68,
      "outputs": [
        {
          "output_type": "stream",
          "text": [
            "Found 9860 correct labels\n"
          ],
          "name": "stdout"
        },
        {
          "output_type": "display_data",
          "data": {
            "image/png": "[encoded data removed]",
            "text/plain": [
              "<Figure size 432x288 with 9 Axes>"
            ]
          },
          "metadata": {
            "tags": [],
            "needs_background": "light"
          }
        }
      ]
    },
    {
      "cell_type": "code",
      "metadata": {
        "id": "tswuHUydHrtI",
        "outputId": "4c437b93-932b-46da-b9c3-4f6e6e5df2b6",
        "colab": {
          "base_uri": "https://localhost:8080/",
          "height": 314
        }
      },
      "source": [
        "incorrect = np.where(predicted_classes!=test_labels)[0]\n",
        "print (\"Found %d incorrect labels\" % len(incorrect))\n",
        "for i, incorrect in enumerate(incorrect[:9]):\n",
        "    plt.subplot(3,3,i+1)\n",
        "    plt.imshow(test_data[incorrect].reshape(28,28), cmap='gray', interpolation='none')\n",
        "    plt.title(\"Predicted {}, Class {}\".format(predicted_classes[incorrect], test_labels[incorrect]))\n",
        "    plt.tight_layout()"
      ],
      "execution_count": 69,
      "outputs": [
        {
          "output_type": "stream",
          "text": [
            "Found 140 incorrect labels\n"
          ],
          "name": "stdout"
        },
        {
          "output_type": "display_data",
          "data": {
            "image/png": "[encoded data removed]",
            "text/plain": [
              "<Figure size 432x288 with 9 Axes>"
            ]
          },
          "metadata": {
            "tags": [],
            "needs_background": "light"
          }
        }
      ]
    },
    {
      "cell_type": "markdown",
      "metadata": {
        "id": "r81zYC8nHrtM"
      },
      "source": [
        "Classification Report\n",
        "\n",
        "Classification report will help you in identifying the misclassified classes in more detail. You will be able to observe for which class the model performed bad out of the given ten classes.\n",
        "\n"
      ]
    },
    {
      "cell_type": "code",
      "metadata": {
        "id": "EdTA7VA4HrtN",
        "outputId": "a4e5201b-5732-4dc0-e5ba-12aa0b6b5caf",
        "colab": {
          "base_uri": "https://localhost:8080/"
        }
      },
      "source": [
        "from sklearn.metrics import classification_report\n",
        "target_names = [\"Class {}\".format(i) for i in range(num_classes)]\n",
        "print(classification_report(test_labels, predicted_classes, target_names=target_names))"
      ],
      "execution_count": 70,
      "outputs": [
        {
          "output_type": "stream",
          "text": [
            "              precision    recall  f1-score   support\n",
            "\n",
            "     Class 0       1.00      0.98      0.99       980\n",
            "     Class 1       1.00      0.98      0.99      1135\n",
            "     Class 2       0.97      0.99      0.98      1032\n",
            "     Class 3       0.98      1.00      0.99      1010\n",
            "     Class 4       0.99      0.99      0.99       982\n",
            "     Class 5       0.98      0.99      0.99       892\n",
            "     Class 6       0.98      1.00      0.99       958\n",
            "     Class 7       0.99      0.99      0.99      1028\n",
            "     Class 8       0.99      0.98      0.98       974\n",
            "     Class 9       0.99      0.97      0.98      1009\n",
            "\n",
            "    accuracy                           0.99     10000\n",
            "   macro avg       0.99      0.99      0.99     10000\n",
            "weighted avg       0.99      0.99      0.99     10000\n",
            "\n"
          ],
          "name": "stdout"
        }
      ]
    },
    {
      "cell_type": "code",
      "metadata": {
        "id": "Fp5dMAR2HrtQ"
      },
      "source": [
        ""
      ],
      "execution_count": null,
      "outputs": []
    }
  ]
}