{
  "nbformat": 4,
  "nbformat_minor": 0,
  "metadata": {
    "kernelspec": {
      "display_name": "Python 3",
      "language": "python",
      "name": "python3"
    },
    "language_info": {
      "codemirror_mode": {
        "name": "ipython",
        "version": 3
      },
      "file_extension": ".py",
      "mimetype": "text/x-python",
      "name": "python",
      "nbconvert_exporter": "python",
      "pygments_lexer": "ipython3",
      "version": "3.8.3"
    },
    "colab": {
      "name": "Untitled1.ipynb",
      "provenance": [],
      "toc_visible": true
    },
    "accelerator": "GPU"
  },
  "cells": [
    {
      "cell_type": "markdown",
      "metadata": {
        "id": "rs7PuA8iHro0"
      },
      "source": [
        "# Autoencoder as a Classifier using Fashion-MNIST Dataset"
      ]
    },
    {
      "cell_type": "markdown",
      "metadata": {
        "id": "-l7o39HTHro4"
      },
      "source": [
        "## Tous kodikes en tous etrexa giati itan na pari para polli ora.Apoti ekatalava en oti zita stin ergasia pano kato.To dataset en polla paromoio ara en nomizo na xriasti na allaksoume je polla "
      ]
    },
    {
      "cell_type": "markdown",
      "metadata": {
        "id": "P58-O9moHro7"
      },
      "source": [
        "Import necessary libraries"
      ]
    },
    {
      "cell_type": "code",
      "metadata": {
        "id": "J3gbZdYNHro9",
        "outputId": "2a8e0aff-1b64-41f4-be5f-e1ca12b6126e",
        "colab": {
          "base_uri": "https://localhost:8080/"
        }
      },
      "source": [
        "from google.colab import drive\n",
        "drive.mount('/content/drive')\n",
        "import keras\n",
        "from matplotlib import pyplot as plt\n",
        "import numpy as np\n",
        "import gzip\n",
        "%matplotlib inline\n",
        "from keras.models import Model\n",
        "from keras.optimizers import RMSprop\n",
        "from keras.layers import Input,Dense,Flatten,Dropout,merge,Reshape,Conv2D,MaxPooling2D,UpSampling2D,Conv2DTranspose\n",
        "from keras.layers.normalization import BatchNormalization\n",
        "from keras.models import Model,Sequential\n",
        "from keras.callbacks import ModelCheckpoint\n",
        "from keras.optimizers import Adadelta, RMSprop,SGD,Adam\n",
        "from keras import regularizers\n",
        "from keras import backend as K\n",
        "from keras.utils import to_categorical"
      ],
      "execution_count": 2,
      "outputs": [
        {
          "output_type": "stream",
          "text": [
            "Drive already mounted at /content/drive; to attempt to forcibly remount, call drive.mount(\"/content/drive\", force_remount=True).\n"
          ],
          "name": "stdout"
        }
      ]
    },
    {
      "cell_type": "markdown",
      "metadata": {
        "id": "PyuxiNYMHrpO"
      },
      "source": [
        "Function to read the data"
      ]
    },
    {
      "cell_type": "code",
      "metadata": {
        "id": "_sKptFtmHrpQ"
      },
      "source": [
        "def extract_data(filename, num_images):\n",
        "    with gzip.open(filename) as bytestream:\n",
        "        bytestream.read(16)\n",
        "        buf = bytestream.read(28 * 28 * num_images)\n",
        "        data = np.frombuffer(buf, dtype=np.uint8).astype(np.float32)\n",
        "        data = data.reshape(num_images, 28,28)\n",
        "        return data\n"
      ],
      "execution_count": 3,
      "outputs": []
    },
    {
      "cell_type": "code",
      "metadata": {
        "id": "gTYuUPDeHrpY"
      },
      "source": [
        "train_data = extract_data('/content/train-images-idx3-ubyte.gz',60000)\n",
        "test_data = extract_data('/content/t10k-images-idx3-ubyte.gz', 10000)"
      ],
      "execution_count": 5,
      "outputs": []
    },
    {
      "cell_type": "markdown",
      "metadata": {
        "id": "NZtzdxg1Hrph"
      },
      "source": [
        "Function to read labels"
      ]
    },
    {
      "cell_type": "code",
      "metadata": {
        "id": "v05ZippzHrpi"
      },
      "source": [
        "def extract_labels(filename, num_images):\n",
        "    with gzip.open(filename) as bytestream:\n",
        "        bytestream.read(8)\n",
        "        buf = bytestream.read(1 * num_images)\n",
        "        labels = np.frombuffer(buf, dtype=np.uint8).astype(np.int64)\n",
        "        return labels"
      ],
      "execution_count": 6,
      "outputs": []
    },
    {
      "cell_type": "code",
      "metadata": {
        "id": "OFRwx93NHrpq"
      },
      "source": [
        "train_labels = extract_labels('/content/train-labels-idx1-ubyte.gz',60000)\n",
        "test_labels = extract_labels('/content/t10k-labels-idx1-ubyte.gz',10000)"
      ],
      "execution_count": 8,
      "outputs": []
    },
    {
      "cell_type": "markdown",
      "metadata": {
        "id": "ghiZiXaZHrpz"
      },
      "source": [
        "Data Exploration\n",
        "\n",
        "Let's now analyze how images in the dataset look like and also see the dimension of the images with the help of the NumPy array attribute .shape:"
      ]
    },
    {
      "cell_type": "code",
      "metadata": {
        "id": "yH-uVRUoHrp1",
        "outputId": "9cf3588e-bcc8-4eff-f9c6-5ff7a5ab4906",
        "colab": {
          "base_uri": "https://localhost:8080/"
        }
      },
      "source": [
        "# Shapes of training set\n",
        "print(\"Training set (images) shape: {shape}\".format(shape=train_data.shape))\n",
        "\n",
        "# Shapes of test set\n",
        "print(\"Test set (images) shape: {shape}\".format(shape=test_data.shape))"
      ],
      "execution_count": 9,
      "outputs": [
        {
          "output_type": "stream",
          "text": [
            "Training set (images) shape: (60000, 28, 28)\n",
            "Test set (images) shape: (10000, 28, 28)\n"
          ],
          "name": "stdout"
        }
      ]
    },
    {
      "cell_type": "markdown",
      "metadata": {
        "id": "dWhd5zBXHrp9"
      },
      "source": [
        "From the above output, you can see that the training data has a shape of 60000 x 28 x 28 since there are 60,000 training samples each of 28 x 28 dimensional matrix. Similarly, the test data has a shape of 10000 x 28 x 28 since there are 10,000 testing samples.\n",
        "\n",
        "Note that in the task of reconstructing using convolutional autoencoder you won't need training and testing labels. Your training images will both act as the input as well as the ground truth similar to the labels you have in classification task.\n",
        "\n",
        "But for the classification task you will also need your labels along with the images which you will be doing later on in the tutorial. Even though the task at hand will only be dealing with the training and testing images. However, for exploration purposes, which might give you a better intuition about the data, you'll make use of the labels.\n",
        "\n",
        "Let's create a dictionary that will have class names with their corresponding categorical class labels:"
      ]
    },
    {
      "cell_type": "code",
      "metadata": {
        "id": "SC8HjN3hHrp_"
      },
      "source": [
        "# Create dictionary of target classes\n",
        "label_dict = {\n",
        " 0: '0',\n",
        " 1: '1',\n",
        " 2: '2',\n",
        " 3: '3',\n",
        " 4: '4',\n",
        " 5: '5',\n",
        " 6: '6',\n",
        " 7: '7',\n",
        " 8: '8',\n",
        " 9: '9',\n",
        "}"
      ],
      "execution_count": 10,
      "outputs": []
    },
    {
      "cell_type": "markdown",
      "metadata": {
        "id": "CoS6JSU3HrqE"
      },
      "source": [
        "Now, let's take a look at a couple of the images in your dataset:"
      ]
    },
    {
      "cell_type": "code",
      "metadata": {
        "id": "t6_Gv88UHrqF",
        "outputId": "cc3fd3d2-f2c5-42d5-afa6-2ec838d19251",
        "colab": {
          "base_uri": "https://localhost:8080/",
          "height": 208
        }
      },
      "source": [
        "plt.figure(figsize=[5,5])\n",
        "\n",
        "# Display the first image in training data\n",
        "plt.subplot(121)\n",
        "curr_img = np.reshape(train_data[10], (28,28))\n",
        "curr_lbl = train_labels[10]\n",
        "plt.imshow(curr_img, cmap='gray')\n",
        "plt.title(\"(Label: \" + str(label_dict[curr_lbl]) + \")\")\n",
        "\n",
        "# Display the first image in testing data\n",
        "plt.subplot(122)\n",
        "curr_img = np.reshape(test_data[10], (28,28))\n",
        "curr_lbl = test_labels[10]\n",
        "plt.imshow(curr_img, cmap='gray')\n",
        "plt.title(\"(Label: \" + str(label_dict[curr_lbl]) + \")\")\n"
      ],
      "execution_count": 11,
      "outputs": [
        {
          "output_type": "execute_result",
          "data": {
            "text/plain": [
              "Text(0.5, 1.0, '(Label: 0)')"
            ]
          },
          "metadata": {
            "tags": []
          },
          "execution_count": 11
        },
        {
          "output_type": "display_data",
          "data": {
            "image/png": "[encoded data removed]",
            "text/plain": [
              "<Figure size 360x360 with 2 Axes>"
            ]
          },
          "metadata": {
            "tags": [],
            "needs_background": "light"
          }
        }
      ]
    },
    {
      "cell_type": "markdown",
      "metadata": {
        "id": "_LvxONdVHrqN"
      },
      "source": [
        "Data Preprocessing\n",
        "\n",
        "The images of the dataset are indeed grayscale images with pixel values ranging from 0 to 255 with a dimension of 28 x 28, so before we feed the data into the model, it is very important to preprocess it. You'll first convert each 28 x 28 image of train and test set into a matrix of size 28 x 28 x 1, which you can feed into the network:"
      ]
    },
    {
      "cell_type": "code",
      "metadata": {
        "id": "k8WvDha0HrqO",
        "outputId": "a4ef5b27-eec7-4857-fcbe-664eefe85f9b",
        "colab": {
          "base_uri": "https://localhost:8080/"
        }
      },
      "source": [
        "train_data = train_data.reshape(-1, 28,28, 1)\n",
        "test_data = test_data.reshape(-1, 28,28, 1)\n",
        "train_data.shape, test_data.shape"
      ],
      "execution_count": 12,
      "outputs": [
        {
          "output_type": "execute_result",
          "data": {
            "text/plain": [
              "((60000, 28, 28, 1), (10000, 28, 28, 1))"
            ]
          },
          "metadata": {
            "tags": []
          },
          "execution_count": 12
        }
      ]
    },
    {
      "cell_type": "markdown",
      "metadata": {
        "id": "K1zNEOnHHrqU"
      },
      "source": [
        "Next, rescale the training and testing data with the maximum pixel value of the training and testing data:"
      ]
    },
    {
      "cell_type": "code",
      "metadata": {
        "id": "pm_-jJ1uHrqV"
      },
      "source": [
        "train_data = train_data / np.max(train_data)\n",
        "test_data = test_data / np.max(test_data)"
      ],
      "execution_count": 13,
      "outputs": []
    },
    {
      "cell_type": "markdown",
      "metadata": {
        "id": "IQhp-e22Hrqb"
      },
      "source": [
        "After all of this, it's important to partition the data. In order for our model to generalize well, you split the training data into two parts: a training and a validation set. You will train your model on 80% of the data and validate it on 20% of the remaining training data.\n",
        "\n",
        "This will also help you in reducing the chances of overfitting, as you will be validating your model on data it would not have seen in the training phase.\n",
        "\n",
        "You can use the train_test_split module of scikit-learn to divide the data properly:\n",
        "\n"
      ]
    },
    {
      "cell_type": "code",
      "metadata": {
        "id": "xpef6L4jHrqc"
      },
      "source": [
        "from sklearn.model_selection import train_test_split\n",
        "train_X,valid_X,train_ground,valid_ground = train_test_split(train_data,\n",
        "                                                             train_data,\n",
        "                                                             test_size=0.2,\n",
        "                                                             random_state=13)"
      ],
      "execution_count": 14,
      "outputs": []
    },
    {
      "cell_type": "markdown",
      "metadata": {
        "id": "a92LKL-EHrqk"
      },
      "source": [
        "Note: You will be using the above data splitting twice, once for the task of reconstructing using convolutional autoencoder for which you don't need training and testing labels. That's why you will pass the training images twice. Your training images will both act as the input as well as the ground truth similar to the labels you have in the classification task.\n",
        "\n",
        "But for the classification task, you will also pass your labels along with the images which you will be doing later on in the tutorial.\n",
        "\n",
        "Now you are all set to define the network and feed the data into the network. So without any further ado, let's jump to the next step!"
      ]
    },
    {
      "cell_type": "markdown",
      "metadata": {
        "id": "ItdH2aMAHrql"
      },
      "source": [
        "## The Convolutional Autoencoder"
      ]
    },
    {
      "cell_type": "markdown",
      "metadata": {
        "id": "inSDc0D_Hrqm"
      },
      "source": [
        "The images are of size 28 x 28 x 1 or a 30976-dimensional vector. You convert the image matrix to an array, rescale it between 0 and 1, reshape it so that it's of size 28 x 28 x 1, and feed this as an input to the network.\n",
        "\n",
        "Also, you will use a batch size of 128 using a higher batch size of 256 or 512 is also preferable it all depends on the system you train your model. It contributes heavily in determining the learning parameters and affects the prediction accuracy."
      ]
    },
    {
      "cell_type": "code",
      "metadata": {
        "id": "AVk7XldTHrqm"
      },
      "source": [
        "batch_size = 64\n",
        "epochs = 100\n",
        "inChannel = 1\n",
        "x, y = 28, 28\n",
        "input_img = Input(shape = (x, y, inChannel))\n",
        "num_classes = 10"
      ],
      "execution_count": 15,
      "outputs": []
    },
    {
      "cell_type": "markdown",
      "metadata": {
        "id": "mla3RAtsHrqs"
      },
      "source": [
        "As you might already know well before, the autoencoder is divided into two parts: there's an encoder and a decoder.\n",
        "\n",
        "Encoder: It has 4 Convolution blocks, each block has a convolution layer followed by a batch normalization layer. Max-pooling layer is used after the first and second convolution blocks.\n",
        "\n",
        "    The first convolution block will have 32 filters of size 3 x 3, followed by a downsampling (max-pooling) layer,\n",
        "    The second block will have 64 filters of size 3 x 3, followed by another downsampling layer,\n",
        "    The third block of encoder will have 128 filters of size 3 x 3,\n",
        "    The fourth block of encoder will have 256 filters of size 3 x 3.\n",
        "\n",
        "Decoder: It has 3 Convolution blocks, each block has a convolution layer followed by a batch normalization layer. Upsampling layer is used after the second and third convolution blocks.\n",
        "\n",
        "    The first block will have 128 filters of size 3 x 3,\n",
        "    The second block will have 64 filters of size 3 x 3 followed by another upsampling layer,\n",
        "    The third block will have 32 filters of size 3 x 3 followed by another upsampling layer,\n",
        "    The final layer of encoder will have 1 filter of size 3 x 3 which will reconstruct back the input having a single channel.\n",
        "\n",
        "The max-pooling layer will downsample the input by two times each time you use it, while the upsampling layer will upsample the input by two times each time it is used.\n",
        "\n",
        "Note: The number of filters, the filter size, the number of layers, number of epochs you train your model, are all hyperparameters and should be decided based on your own intuition, you are free to try new experiments by tweaking with these hyperparameters and measure the performance of your model. And that is how you will slowly learn the art of deep learning!\n",
        "\n",
        "Let's create separate encoder and decoder functions since you will be using encoder weights later on for classification purpose!"
      ]
    },
    {
      "cell_type": "code",
      "metadata": {
        "id": "N_20Us2MHrqt"
      },
      "source": [
        "def encoder(input_img):\n",
        "    #encoder\n",
        "    #input = 28 x 28 x 1 (wide and thin)\n",
        "    conv1 = Conv2D(32, (3, 3), activation='relu', padding='same')(input_img) #28 x 28 x 32\n",
        "    conv1 = BatchNormalization()(conv1)\n",
        "    conv1 = Conv2D(32, (3, 3), activation='relu', padding='same')(conv1)\n",
        "    conv1 = BatchNormalization()(conv1)\n",
        "    pool1 = MaxPooling2D(pool_size=(2, 2))(conv1) #14 x 14 x 32\n",
        "    conv2 = Conv2D(64, (3, 3), activation='relu', padding='same')(pool1) #14 x 14 x 64\n",
        "    conv2 = BatchNormalization()(conv2)\n",
        "    conv2 = Conv2D(64, (3, 3), activation='relu', padding='same')(conv2)\n",
        "    conv2 = BatchNormalization()(conv2)\n",
        "    pool2 = MaxPooling2D(pool_size=(2, 2))(conv2) #7 x 7 x 64\n",
        "    conv3 = Conv2D(128, (3, 3), activation='relu', padding='same')(pool2) #7 x 7 x 128 (small and thick)\n",
        "    conv3 = BatchNormalization()(conv3)\n",
        "    conv3 = Conv2D(128, (3, 3), activation='relu', padding='same')(conv3)\n",
        "    conv3 = BatchNormalization()(conv3)\n",
        "    conv4 = Conv2D(256, (3, 3), activation='relu', padding='same')(conv3) #7 x 7 x 256 (small and thick)\n",
        "    conv4 = BatchNormalization()(conv4)\n",
        "    conv4 = Conv2D(256, (3, 3), activation='relu', padding='same')(conv4)\n",
        "    conv4 = BatchNormalization()(conv4)\n",
        "    return conv4\n",
        "\n",
        "def decoder(conv4):    \n",
        "    #decoder\n",
        "    conv5 = Conv2D(128, (3, 3), activation='relu', padding='same')(conv4) #7 x 7 x 128\n",
        "    conv5 = BatchNormalization()(conv5)\n",
        "    conv5 = Conv2D(128, (3, 3), activation='relu', padding='same')(conv5)\n",
        "    conv5 = BatchNormalization()(conv5)\n",
        "    conv6 = Conv2D(64, (3, 3), activation='relu', padding='same')(conv5) #7 x 7 x 64\n",
        "    conv6 = BatchNormalization()(conv6)\n",
        "    conv6 = Conv2D(64, (3, 3), activation='relu', padding='same')(conv6)\n",
        "    conv6 = BatchNormalization()(conv6)\n",
        "    up1 = UpSampling2D((2,2))(conv6) #14 x 14 x 64\n",
        "    conv7 = Conv2D(32, (3, 3), activation='relu', padding='same')(up1) # 14 x 14 x 32\n",
        "    conv7 = BatchNormalization()(conv7)\n",
        "    conv7 = Conv2D(32, (3, 3), activation='relu', padding='same')(conv7)\n",
        "    conv7 = BatchNormalization()(conv7)\n",
        "    up2 = UpSampling2D((2,2))(conv7) # 28 x 28 x 32\n",
        "    decoded = Conv2D(1, (3, 3), activation='sigmoid', padding='same')(up2) # 28 x 28 x 1\n",
        "    return decoded"
      ],
      "execution_count": 16,
      "outputs": []
    },
    {
      "cell_type": "markdown",
      "metadata": {
        "id": "yHqPp80FHrqy"
      },
      "source": [
        "After the model is created, you have to compile it using the optimizer to be RMSProp.\n",
        "\n",
        "Note that you also have to specify the loss type via the argument loss. In this case, that's the mean squared error, since the loss after every batch will be computed between the batch of predicted output and the ground truth using mean squared error pixel by pixel:"
      ]
    },
    {
      "cell_type": "code",
      "metadata": {
        "id": "OQ9tnEf0Hrqz"
      },
      "source": [
        "autoencoder = Model(input_img, decoder(encoder(input_img)))\n",
        "autoencoder.compile(loss='mean_squared_error', optimizer = RMSprop())"
      ],
      "execution_count": 17,
      "outputs": []
    },
    {
      "cell_type": "markdown",
      "metadata": {
        "id": "m1hdlUsKHrq4"
      },
      "source": [
        "Let's visualize the layers that you created in the above step by using the summary function. This will show a number of parameters (weights and biases) in each layer and also the total parameters in your model."
      ]
    },
    {
      "cell_type": "code",
      "metadata": {
        "id": "Y8sd-XndHrq5",
        "outputId": "127033f5-cbcc-4415-9458-c5663016d901",
        "colab": {
          "base_uri": "https://localhost:8080/"
        }
      },
      "source": [
        "autoencoder.summary()"
      ],
      "execution_count": 18,
      "outputs": [
        {
          "output_type": "stream",
          "text": [
            "Model: \"functional_1\"\n",
            "_________________________________________________________________\n",
            "Layer (type)                 Output Shape              Param #   \n",
            "=================================================================\n",
            "input_1 (InputLayer)         [(None, 28, 28, 1)]       0         \n",
            "_________________________________________________________________\n",
            "conv2d (Conv2D)              (None, 28, 28, 32)        320       \n",
            "_________________________________________________________________\n",
            "batch_normalization (BatchNo (None, 28, 28, 32)        128       \n",
            "_________________________________________________________________\n",
            "conv2d_1 (Conv2D)            (None, 28, 28, 32)        9248      \n",
            "_________________________________________________________________\n",
            "batch_normalization_1 (Batch (None, 28, 28, 32)        128       \n",
            "_________________________________________________________________\n",
            "max_pooling2d (MaxPooling2D) (None, 14, 14, 32)        0         \n",
            "_________________________________________________________________\n",
            "conv2d_2 (Conv2D)            (None, 14, 14, 64)        18496     \n",
            "_________________________________________________________________\n",
            "batch_normalization_2 (Batch (None, 14, 14, 64)        256       \n",
            "_________________________________________________________________\n",
            "conv2d_3 (Conv2D)            (None, 14, 14, 64)        36928     \n",
            "_________________________________________________________________\n",
            "batch_normalization_3 (Batch (None, 14, 14, 64)        256       \n",
            "_________________________________________________________________\n",
            "max_pooling2d_1 (MaxPooling2 (None, 7, 7, 64)          0         \n",
            "_________________________________________________________________\n",
            "conv2d_4 (Conv2D)            (None, 7, 7, 128)         73856     \n",
            "_________________________________________________________________\n",
            "batch_normalization_4 (Batch (None, 7, 7, 128)         512       \n",
            "_________________________________________________________________\n",
            "conv2d_5 (Conv2D)            (None, 7, 7, 128)         147584    \n",
            "_________________________________________________________________\n",
            "batch_normalization_5 (Batch (None, 7, 7, 128)         512       \n",
            "_________________________________________________________________\n",
            "conv2d_6 (Conv2D)            (None, 7, 7, 256)         295168    \n",
            "_________________________________________________________________\n",
            "batch_normalization_6 (Batch (None, 7, 7, 256)         1024      \n",
            "_________________________________________________________________\n",
            "conv2d_7 (Conv2D)            (None, 7, 7, 256)         590080    \n",
            "_________________________________________________________________\n",
            "batch_normalization_7 (Batch (None, 7, 7, 256)         1024      \n",
            "_________________________________________________________________\n",
            "conv2d_8 (Conv2D)            (None, 7, 7, 128)         295040    \n",
            "_________________________________________________________________\n",
            "batch_normalization_8 (Batch (None, 7, 7, 128)         512       \n",
            "_________________________________________________________________\n",
            "conv2d_9 (Conv2D)            (None, 7, 7, 128)         147584    \n",
            "_________________________________________________________________\n",
            "batch_normalization_9 (Batch (None, 7, 7, 128)         512       \n",
            "_________________________________________________________________\n",
            "conv2d_10 (Conv2D)           (None, 7, 7, 64)          73792     \n",
            "_________________________________________________________________\n",
            "batch_normalization_10 (Batc (None, 7, 7, 64)          256       \n",
            "_________________________________________________________________\n",
            "conv2d_11 (Conv2D)           (None, 7, 7, 64)          36928     \n",
            "_________________________________________________________________\n",
            "batch_normalization_11 (Batc (None, 7, 7, 64)          256       \n",
            "_________________________________________________________________\n",
            "up_sampling2d (UpSampling2D) (None, 14, 14, 64)        0         \n",
            "_________________________________________________________________\n",
            "conv2d_12 (Conv2D)           (None, 14, 14, 32)        18464     \n",
            "_________________________________________________________________\n",
            "batch_normalization_12 (Batc (None, 14, 14, 32)        128       \n",
            "_________________________________________________________________\n",
            "conv2d_13 (Conv2D)           (None, 14, 14, 32)        9248      \n",
            "_________________________________________________________________\n",
            "batch_normalization_13 (Batc (None, 14, 14, 32)        128       \n",
            "_________________________________________________________________\n",
            "up_sampling2d_1 (UpSampling2 (None, 28, 28, 32)        0         \n",
            "_________________________________________________________________\n",
            "conv2d_14 (Conv2D)           (None, 28, 28, 1)         289       \n",
            "=================================================================\n",
            "Total params: 1,758,657\n",
            "Trainable params: 1,755,841\n",
            "Non-trainable params: 2,816\n",
            "_________________________________________________________________\n"
          ],
          "name": "stdout"
        }
      ]
    },
    {
      "cell_type": "markdown",
      "metadata": {
        "id": "IIdLZ53JHrq_"
      },
      "source": [
        "It's finally time to train the model with Keras' fit() function! The model trains for 200 epochs. The fit() function will return a history object; By storing the result of this function in autoencoder_train, you can use it later to plot the loss function plot between training and validation which will help you to analyze your model's performance visually."
      ]
    },
    {
      "cell_type": "code",
      "metadata": {
        "id": "tscKaXx8HrrA",
        "outputId": "03935c0a-98d7-429e-a759-e0127b65ee91",
        "colab": {
          "base_uri": "https://localhost:8080/"
        }
      },
      "source": [
        "autoencoder_train = autoencoder.fit(train_X, train_ground, batch_size=batch_size,epochs=epochs,verbose=1,validation_data=(valid_X, valid_ground))"
      ],
      "execution_count": 19,
      "outputs": [
        {
          "output_type": "stream",
          "text": [
            "Epoch 1/100\n",
            "750/750 [==============================] - 12s 16ms/step - loss: 0.0190 - val_loss: 0.0101\n",
            "Epoch 2/100\n",
            "750/750 [==============================] - 12s 16ms/step - loss: 0.0049 - val_loss: 0.0034\n",
            "Epoch 3/100\n",
            "750/750 [==============================] - 12s 16ms/step - loss: 0.0035 - val_loss: 0.0030\n",
            "Epoch 4/100\n",
            "750/750 [==============================] - 12s 16ms/step - loss: 0.0028 - val_loss: 0.0049\n",
            "Epoch 5/100\n",
            "750/750 [==============================] - 12s 16ms/step - loss: 0.0024 - val_loss: 0.0026\n",
            "Epoch 6/100\n",
            "750/750 [==============================] - 12s 16ms/step - loss: 0.0022 - val_loss: 0.0032\n",
            "Epoch 7/100\n",
            "750/750 [==============================] - 13s 17ms/step - loss: 0.0020 - val_loss: 0.0033\n",
            "Epoch 8/100\n",
            "750/750 [==============================] - 13s 17ms/step - loss: 0.0018 - val_loss: 0.0016\n",
            "Epoch 9/100\n",
            "750/750 [==============================] - 13s 17ms/step - loss: 0.0017 - val_loss: 0.0022\n",
            "Epoch 10/100\n",
            "750/750 [==============================] - 13s 17ms/step - loss: 0.0016 - val_loss: 0.0015\n",
            "Epoch 11/100\n",
            "750/750 [==============================] - 12s 17ms/step - loss: 0.0015 - val_loss: 0.0015\n",
            "Epoch 12/100\n",
            "750/750 [==============================] - 13s 17ms/step - loss: 0.0014 - val_loss: 0.0015\n",
            "Epoch 13/100\n",
            "750/750 [==============================] - 13s 17ms/step - loss: 0.0014 - val_loss: 0.0014\n",
            "Epoch 14/100\n",
            "750/750 [==============================] - 13s 17ms/step - loss: 0.0013 - val_loss: 0.0017\n",
            "Epoch 15/100\n",
            "750/750 [==============================] - 13s 17ms/step - loss: 0.0013 - val_loss: 0.0016\n",
            "Epoch 16/100\n",
            "750/750 [==============================] - 13s 17ms/step - loss: 0.0012 - val_loss: 0.0015\n",
            "Epoch 17/100\n",
            "750/750 [==============================] - 13s 17ms/step - loss: 0.0012 - val_loss: 0.0013\n",
            "Epoch 18/100\n",
            "750/750 [==============================] - 13s 17ms/step - loss: 0.0011 - val_loss: 0.0012\n",
            "Epoch 19/100\n",
            "750/750 [==============================] - 13s 17ms/step - loss: 0.0011 - val_loss: 0.0013\n",
            "Epoch 20/100\n",
            "750/750 [==============================] - 12s 17ms/step - loss: 0.0011 - val_loss: 0.0011\n",
            "Epoch 21/100\n",
            "750/750 [==============================] - 13s 17ms/step - loss: 0.0010 - val_loss: 0.0012\n",
            "Epoch 22/100\n",
            "750/750 [==============================] - 12s 17ms/step - loss: 0.0010 - val_loss: 0.0011\n",
            "Epoch 23/100\n",
            "750/750 [==============================] - 13s 17ms/step - loss: 9.9630e-04 - val_loss: 0.0011\n",
            "Epoch 24/100\n",
            "750/750 [==============================] - 13s 17ms/step - loss: 9.7031e-04 - val_loss: 0.0012\n",
            "Epoch 25/100\n",
            "750/750 [==============================] - 13s 17ms/step - loss: 9.5508e-04 - val_loss: 0.0011\n",
            "Epoch 26/100\n",
            "750/750 [==============================] - 13s 17ms/step - loss: 9.2517e-04 - val_loss: 0.0011\n",
            "Epoch 27/100\n",
            "750/750 [==============================] - 13s 17ms/step - loss: 9.0720e-04 - val_loss: 0.0010\n",
            "Epoch 28/100\n",
            "750/750 [==============================] - 13s 17ms/step - loss: 8.9313e-04 - val_loss: 0.0010\n",
            "Epoch 29/100\n",
            "750/750 [==============================] - 13s 17ms/step - loss: 8.6784e-04 - val_loss: 0.0011\n",
            "Epoch 30/100\n",
            "750/750 [==============================] - 13s 17ms/step - loss: 8.5297e-04 - val_loss: 8.5327e-04\n",
            "Epoch 31/100\n",
            "750/750 [==============================] - 13s 17ms/step - loss: 8.4199e-04 - val_loss: 0.0010\n",
            "Epoch 32/100\n",
            "750/750 [==============================] - 13s 17ms/step - loss: 8.2752e-04 - val_loss: 9.4780e-04\n",
            "Epoch 33/100\n",
            "750/750 [==============================] - 13s 17ms/step - loss: 8.0853e-04 - val_loss: 8.8132e-04\n",
            "Epoch 34/100\n",
            "750/750 [==============================] - 13s 17ms/step - loss: 7.9065e-04 - val_loss: 0.0011\n",
            "Epoch 35/100\n",
            "750/750 [==============================] - 13s 17ms/step - loss: 7.7770e-04 - val_loss: 9.0748e-04\n",
            "Epoch 36/100\n",
            "750/750 [==============================] - 13s 17ms/step - loss: 7.6316e-04 - val_loss: 0.0010\n",
            "Epoch 37/100\n",
            "750/750 [==============================] - 13s 17ms/step - loss: 7.5029e-04 - val_loss: 9.0840e-04\n",
            "Epoch 38/100\n",
            "750/750 [==============================] - 13s 17ms/step - loss: 7.3845e-04 - val_loss: 8.2430e-04\n",
            "Epoch 39/100\n",
            "750/750 [==============================] - 13s 17ms/step - loss: 7.2862e-04 - val_loss: 7.7430e-04\n",
            "Epoch 40/100\n",
            "750/750 [==============================] - 13s 17ms/step - loss: 7.1033e-04 - val_loss: 0.0010\n",
            "Epoch 41/100\n",
            "750/750 [==============================] - 13s 17ms/step - loss: 7.0612e-04 - val_loss: 8.0725e-04\n",
            "Epoch 42/100\n",
            "750/750 [==============================] - 12s 17ms/step - loss: 6.9646e-04 - val_loss: 8.3100e-04\n",
            "Epoch 43/100\n",
            "750/750 [==============================] - 13s 17ms/step - loss: 6.8406e-04 - val_loss: 0.0011\n",
            "Epoch 44/100\n",
            "750/750 [==============================] - 13s 17ms/step - loss: 6.7550e-04 - val_loss: 8.1117e-04\n",
            "Epoch 45/100\n",
            "750/750 [==============================] - 13s 17ms/step - loss: 6.6397e-04 - val_loss: 9.3493e-04\n",
            "Epoch 46/100\n",
            "750/750 [==============================] - 13s 17ms/step - loss: 6.5617e-04 - val_loss: 8.4178e-04\n",
            "Epoch 47/100\n",
            "750/750 [==============================] - 13s 17ms/step - loss: 6.4813e-04 - val_loss: 8.5936e-04\n",
            "Epoch 48/100\n",
            "750/750 [==============================] - 13s 17ms/step - loss: 6.4060e-04 - val_loss: 7.3455e-04\n",
            "Epoch 49/100\n",
            "750/750 [==============================] - 13s 17ms/step - loss: 6.2900e-04 - val_loss: 7.8186e-04\n",
            "Epoch 50/100\n",
            "750/750 [==============================] - 13s 17ms/step - loss: 6.2325e-04 - val_loss: 8.3519e-04\n",
            "Epoch 51/100\n",
            "750/750 [==============================] - 13s 17ms/step - loss: 6.1194e-04 - val_loss: 7.4880e-04\n",
            "Epoch 52/100\n",
            "750/750 [==============================] - 13s 17ms/step - loss: 6.0926e-04 - val_loss: 7.1104e-04\n",
            "Epoch 53/100\n",
            "750/750 [==============================] - 13s 17ms/step - loss: 5.9555e-04 - val_loss: 6.6613e-04\n",
            "Epoch 54/100\n",
            "750/750 [==============================] - 13s 17ms/step - loss: 5.9677e-04 - val_loss: 7.3672e-04\n",
            "Epoch 55/100\n",
            "750/750 [==============================] - 13s 17ms/step - loss: 5.8291e-04 - val_loss: 7.3553e-04\n",
            "Epoch 56/100\n",
            "750/750 [==============================] - 13s 17ms/step - loss: 5.8046e-04 - val_loss: 7.3334e-04\n",
            "Epoch 57/100\n",
            "750/750 [==============================] - 13s 17ms/step - loss: 5.7314e-04 - val_loss: 7.2738e-04\n",
            "Epoch 58/100\n",
            "750/750 [==============================] - 13s 17ms/step - loss: 5.6780e-04 - val_loss: 7.0103e-04\n",
            "Epoch 59/100\n",
            "750/750 [==============================] - 13s 17ms/step - loss: 5.5805e-04 - val_loss: 7.1006e-04\n",
            "Epoch 60/100\n",
            "750/750 [==============================] - 13s 17ms/step - loss: 5.5653e-04 - val_loss: 7.5743e-04\n",
            "Epoch 61/100\n",
            "750/750 [==============================] - 13s 17ms/step - loss: 5.4923e-04 - val_loss: 7.6181e-04\n",
            "Epoch 62/100\n",
            "750/750 [==============================] - 13s 17ms/step - loss: 5.4523e-04 - val_loss: 7.1862e-04\n",
            "Epoch 63/100\n",
            "750/750 [==============================] - 13s 17ms/step - loss: 5.3676e-04 - val_loss: 7.5673e-04\n",
            "Epoch 64/100\n",
            "750/750 [==============================] - 13s 17ms/step - loss: 5.3478e-04 - val_loss: 7.4918e-04\n",
            "Epoch 65/100\n",
            "750/750 [==============================] - 13s 17ms/step - loss: 5.2811e-04 - val_loss: 7.5389e-04\n",
            "Epoch 66/100\n",
            "750/750 [==============================] - 13s 17ms/step - loss: 5.2187e-04 - val_loss: 7.3544e-04\n",
            "Epoch 67/100\n",
            "750/750 [==============================] - 13s 17ms/step - loss: 5.1695e-04 - val_loss: 7.1677e-04\n",
            "Epoch 68/100\n",
            "750/750 [==============================] - 13s 17ms/step - loss: 5.1544e-04 - val_loss: 7.7843e-04\n",
            "Epoch 69/100\n",
            "750/750 [==============================] - 13s 17ms/step - loss: 5.0853e-04 - val_loss: 7.1351e-04\n",
            "Epoch 70/100\n",
            "750/750 [==============================] - 13s 17ms/step - loss: 5.0284e-04 - val_loss: 7.5558e-04\n",
            "Epoch 71/100\n",
            "750/750 [==============================] - 13s 17ms/step - loss: 4.9800e-04 - val_loss: 7.7310e-04\n",
            "Epoch 72/100\n",
            "750/750 [==============================] - 13s 17ms/step - loss: 4.9305e-04 - val_loss: 6.5422e-04\n",
            "Epoch 73/100\n",
            "750/750 [==============================] - 13s 17ms/step - loss: 4.9389e-04 - val_loss: 6.7436e-04\n",
            "Epoch 74/100\n",
            "750/750 [==============================] - 13s 17ms/step - loss: 4.8596e-04 - val_loss: 6.7612e-04\n",
            "Epoch 75/100\n",
            "750/750 [==============================] - 13s 17ms/step - loss: 4.8095e-04 - val_loss: 7.0960e-04\n",
            "Epoch 76/100\n",
            "750/750 [==============================] - 13s 17ms/step - loss: 4.7930e-04 - val_loss: 6.2253e-04\n",
            "Epoch 77/100\n",
            "750/750 [==============================] - 13s 17ms/step - loss: 4.7342e-04 - val_loss: 6.1583e-04\n",
            "Epoch 78/100\n",
            "750/750 [==============================] - 13s 17ms/step - loss: 4.7027e-04 - val_loss: 6.6164e-04\n",
            "Epoch 79/100\n",
            "750/750 [==============================] - 13s 17ms/step - loss: 4.6501e-04 - val_loss: 6.6371e-04\n",
            "Epoch 80/100\n",
            "750/750 [==============================] - 13s 17ms/step - loss: 4.6234e-04 - val_loss: 6.9531e-04\n",
            "Epoch 81/100\n",
            "750/750 [==============================] - 13s 17ms/step - loss: 4.6035e-04 - val_loss: 6.7849e-04\n",
            "Epoch 82/100\n",
            "750/750 [==============================] - 13s 17ms/step - loss: 4.5423e-04 - val_loss: 6.6220e-04\n",
            "Epoch 83/100\n",
            "750/750 [==============================] - 13s 17ms/step - loss: 4.5104e-04 - val_loss: 8.1948e-04\n",
            "Epoch 84/100\n",
            "750/750 [==============================] - 13s 17ms/step - loss: 4.4915e-04 - val_loss: 6.4528e-04\n",
            "Epoch 85/100\n",
            "750/750 [==============================] - 13s 17ms/step - loss: 4.4636e-04 - val_loss: 6.5115e-04\n",
            "Epoch 86/100\n",
            "750/750 [==============================] - 13s 17ms/step - loss: 4.4215e-04 - val_loss: 6.5352e-04\n",
            "Epoch 87/100\n",
            "750/750 [==============================] - 13s 17ms/step - loss: 4.3675e-04 - val_loss: 6.4459e-04\n",
            "Epoch 88/100\n",
            "750/750 [==============================] - 13s 17ms/step - loss: 4.3513e-04 - val_loss: 6.5806e-04\n",
            "Epoch 89/100\n",
            "750/750 [==============================] - 13s 17ms/step - loss: 4.3196e-04 - val_loss: 7.0070e-04\n",
            "Epoch 90/100\n",
            "750/750 [==============================] - 13s 17ms/step - loss: 4.3028e-04 - val_loss: 6.2300e-04\n",
            "Epoch 91/100\n",
            "750/750 [==============================] - 13s 17ms/step - loss: 4.2583e-04 - val_loss: 5.9934e-04\n",
            "Epoch 92/100\n",
            "750/750 [==============================] - 13s 17ms/step - loss: 4.2442e-04 - val_loss: 6.5610e-04\n",
            "Epoch 93/100\n",
            "750/750 [==============================] - 13s 17ms/step - loss: 4.1996e-04 - val_loss: 6.1972e-04\n",
            "Epoch 94/100\n",
            "750/750 [==============================] - 13s 17ms/step - loss: 4.1778e-04 - val_loss: 6.1685e-04\n",
            "Epoch 95/100\n",
            "750/750 [==============================] - 13s 17ms/step - loss: 4.1367e-04 - val_loss: 6.1139e-04\n",
            "Epoch 96/100\n",
            "750/750 [==============================] - 13s 17ms/step - loss: 4.1282e-04 - val_loss: 6.5726e-04\n",
            "Epoch 97/100\n",
            "750/750 [==============================] - 13s 17ms/step - loss: 4.0900e-04 - val_loss: 6.3512e-04\n",
            "Epoch 98/100\n",
            "750/750 [==============================] - 13s 17ms/step - loss: 4.0770e-04 - val_loss: 6.2923e-04\n",
            "Epoch 99/100\n",
            "750/750 [==============================] - 13s 17ms/step - loss: 4.0541e-04 - val_loss: 5.9631e-04\n",
            "Epoch 100/100\n",
            "750/750 [==============================] - 13s 17ms/step - loss: 4.0196e-04 - val_loss: 6.0866e-04\n"
          ],
          "name": "stdout"
        }
      ]
    },
    {
      "cell_type": "markdown",
      "metadata": {
        "id": "JU1d7hHFHrrF"
      },
      "source": [
        "Now, let's plot the loss plot between training and validation data to visualize the model performance."
      ]
    },
    {
      "cell_type": "code",
      "metadata": {
        "id": "PQVQXgNOHrrG",
        "outputId": "82dee1a8-69a7-48e5-f33d-32b589ecbf76",
        "colab": {
          "base_uri": "https://localhost:8080/",
          "height": 281
        }
      },
      "source": [
        "loss = autoencoder_train.history['loss']\n",
        "val_loss = autoencoder_train.history['val_loss']\n",
        "epochs = range(100)\n",
        "plt.figure()\n",
        "plt.plot(epochs, loss, 'bo', label='Training loss')\n",
        "plt.plot(epochs, val_loss, 'b', label='Validation loss')\n",
        "plt.title('Training and validation loss')\n",
        "plt.legend()\n",
        "plt.show()"
      ],
      "execution_count": 20,
      "outputs": [
        {
          "output_type": "display_data",
          "data": {
            "image/png": "[encoded data removed]",
            "text/plain": [
              "<Figure size 432x288 with 1 Axes>"
            ]
          },
          "metadata": {
            "tags": [],
            "needs_background": "light"
          }
        }
      ]
    },
    {
      "cell_type": "markdown",
      "metadata": {
        "id": "E3lFxRdsHrrL"
      },
      "source": [
        "Save the Model\n",
        "\n",
        "Since you will need the encoder weights in your classification task, first let's save the complete autoencoder weights. You will learn how you can extract the encoder weights soon."
      ]
    },
    {
      "cell_type": "code",
      "metadata": {
        "id": "ZN7P1EyUHrrM"
      },
      "source": [
        "autoencoder.save_weights('autoencoder.h5')"
      ],
      "execution_count": 21,
      "outputs": []
    },
    {
      "cell_type": "markdown",
      "metadata": {
        "id": "FKFBe6EJHrrR"
      },
      "source": [
        "Segmenting the fashion mnist images\n",
        "\n",
        "Now you will be using the trained autoencoder's head, i.e., the encoder part and will be loading the weights of the autoencoder you just now trained but only in the encoder part of the model.\n",
        "\n",
        "You will add a few dense or fully connected layers to the encoder to classify fashion mnist images.\n",
        "\n",
        "    Let's first convert the labels into one-hot encoding vectors.\n",
        "\n",
        "    For those of you who do not know about one-hot encoding:\n",
        "\n",
        "    In one-hot encoding, you convert the categorical data into a vector of numbers. The reason why you convert the categorical data in one hot encoding is that machine learning algorithms cannot work with categorical data directly. You generate one boolean column for each category or class. Only one of these columns could take on the value 1 for each sample. Hence, the term one-hot encoding.\n",
        "\n",
        "    For your problem statement, the one hot encoding will be a row vector, and for each image, it will have a dimension of 1 x 10. The important thing to note here is that the vector consists of all zeros except for the class that it represents, and for that, it is 1.\n",
        "\n",
        "    So let's convert the labels into one-hot encoding vectors:"
      ]
    },
    {
      "cell_type": "code",
      "metadata": {
        "id": "3if_TZrhHrrW",
        "outputId": "bdd3a0e6-ea18-46e5-ee3d-37bae0f6f9ea",
        "colab": {
          "base_uri": "https://localhost:8080/"
        }
      },
      "source": [
        "# Change the labels from categorical to one-hot encoding\n",
        "train_Y_one_hot = to_categorical(train_labels)\n",
        "test_Y_one_hot = to_categorical(test_labels)\n",
        "\n",
        "# Display the change for category label using one-hot encoding\n",
        "print('Original label:', train_labels[0])\n",
        "print('After conversion to one-hot:', train_Y_one_hot[0])\n"
      ],
      "execution_count": 22,
      "outputs": [
        {
          "output_type": "stream",
          "text": [
            "Original label: 5\n",
            "After conversion to one-hot: [0. 0. 0. 0. 0. 1. 0. 0. 0. 0.]\n"
          ],
          "name": "stdout"
        }
      ]
    },
    {
      "cell_type": "markdown",
      "metadata": {
        "id": "wn1R8PqjHrrb"
      },
      "source": [
        "This last step is a crucial one which you all have done before as well which is splitting the data into training and validation in the autoencoder training phase. So let's quickly do that step for classification as well. Note that you will use the same random state that you used before and also this time you will pass your labels as well that you just now converted into a one-hot encoding vector."
      ]
    },
    {
      "cell_type": "code",
      "metadata": {
        "id": "pwtoRDCmHrrc"
      },
      "source": [
        "train_X,valid_X,train_label,valid_label = train_test_split(train_data,train_Y_one_hot,test_size=0.2,random_state=13)"
      ],
      "execution_count": 23,
      "outputs": []
    },
    {
      "cell_type": "markdown",
      "metadata": {
        "id": "h8TZAddzHrrh"
      },
      "source": [
        "Now, let's define the classification model. Remember that you will be using the exact same encoder part as you used in the autoencoder architecture."
      ]
    },
    {
      "cell_type": "markdown",
      "metadata": {
        "id": "2aSdELMpHrri"
      },
      "source": [
        "Let's define the fully connected layers that you will be stacking up with the encoder function."
      ]
    },
    {
      "cell_type": "code",
      "metadata": {
        "id": "dLI5BFbpHrrj"
      },
      "source": [
        "def fc(enco):\n",
        "    flat = Flatten()(enco)\n",
        "    den = Dense(128, activation='relu')(flat)\n",
        "    out = Dense(num_classes, activation='softmax')(den)\n",
        "    return out"
      ],
      "execution_count": 24,
      "outputs": []
    },
    {
      "cell_type": "code",
      "metadata": {
        "id": "SxoBnwaHHrrn"
      },
      "source": [
        "encode = encoder(input_img)\n",
        "full_model = Model(input_img,fc(encode))\n",
        "\n",
        "for l1,l2 in zip(full_model.layers[:19],autoencoder.layers[0:19]):\n",
        "    l1.set_weights(l2.get_weights())"
      ],
      "execution_count": 25,
      "outputs": []
    },
    {
      "cell_type": "markdown",
      "metadata": {
        "id": "_PoZ5IYgHrrs"
      },
      "source": [
        "Note: The next step is pretty important. In order to be sure whether the weights of the encoder part of the autoencoder are similar to the weights you loaded to the encoder function of the classification model, you should always print any one of the same layers weights of both the models. If they are not similar, then there is no use in using the autoencoder classification strategy.\n",
        "\n",
        "Let's print first layer weights of both the models."
      ]
    },
    {
      "cell_type": "code",
      "metadata": {
        "id": "bt1ShGlPHrru",
        "outputId": "eab941be-bf56-462b-ce5e-8e88c78e727b",
        "colab": {
          "base_uri": "https://localhost:8080/"
        }
      },
      "source": [
        "autoencoder.get_weights()[0][1]"
      ],
      "execution_count": 26,
      "outputs": [
        {
          "output_type": "execute_result",
          "data": {
            "text/plain": [
              "array([[[-0.0395156 , -0.60527337,  0.09634656,  0.09031664,\n",
              "         -0.56085974, -0.27825293, -0.12185455, -0.31956625,\n",
              "         -0.07193491,  0.519024  , -0.124329  , -0.25968188,\n",
              "         -0.13662747,  0.05936673, -0.04688172, -0.07138458,\n",
              "          0.0697972 ,  0.24724536, -0.37297052,  0.5721935 ,\n",
              "         -0.17386411, -0.4606652 , -0.5590772 , -0.23909502,\n",
              "          0.07004853,  0.49430853,  0.01477746,  0.36425093,\n",
              "         -0.02937875, -0.31584734,  0.24845108,  0.49117517]],\n",
              "\n",
              "       [[-0.30944997, -0.89968795, -0.63379633,  2.2359195 ,\n",
              "         -0.88373077,  0.5157565 ,  0.04707294,  0.5403549 ,\n",
              "         -0.58068687, -0.15740147, -0.4808217 , -0.6608358 ,\n",
              "          0.71589094,  0.6295837 , -0.0384904 ,  0.18195452,\n",
              "          0.3003406 , -0.14328052, -0.09747163,  0.14307521,\n",
              "          0.08278932,  0.22544856,  0.26791632,  0.15092048,\n",
              "          0.14081049, -0.43558344, -0.3569052 , -0.08669135,\n",
              "          0.4392286 ,  0.29126647, -0.20228331,  0.19087426]],\n",
              "\n",
              "       [[ 0.54446274, -0.12702173,  0.26021823,  0.09757139,\n",
              "         -0.0861453 ,  0.19347422,  0.19534718, -0.53165597,\n",
              "          0.08596002, -0.3323797 ,  0.26269922,  0.02401748,\n",
              "         -0.24652764,  0.33710074,  0.0259746 , -0.01864051,\n",
              "          0.61461705, -0.31374174,  0.0060798 ,  0.36495283,\n",
              "         -0.08236546,  0.41161615,  0.5344315 , -0.26879436,\n",
              "         -0.09007338, -0.17649497, -0.05296701, -0.21287383,\n",
              "         -0.39306015,  0.2644137 , -0.2181267 , -0.3347653 ]]],\n",
              "      dtype=float32)"
            ]
          },
          "metadata": {
            "tags": []
          },
          "execution_count": 26
        }
      ]
    },
    {
      "cell_type": "code",
      "metadata": {
        "id": "khhne4sjHrrz",
        "outputId": "cb1462d6-dbe5-4479-c464-f1667ffdd60e",
        "colab": {
          "base_uri": "https://localhost:8080/"
        }
      },
      "source": [
        "full_model.get_weights()[0][1]"
      ],
      "execution_count": 27,
      "outputs": [
        {
          "output_type": "execute_result",
          "data": {
            "text/plain": [
              "array([[[-0.0395156 , -0.60527337,  0.09634656,  0.09031664,\n",
              "         -0.56085974, -0.27825293, -0.12185455, -0.31956625,\n",
              "         -0.07193491,  0.519024  , -0.124329  , -0.25968188,\n",
              "         -0.13662747,  0.05936673, -0.04688172, -0.07138458,\n",
              "          0.0697972 ,  0.24724536, -0.37297052,  0.5721935 ,\n",
              "         -0.17386411, -0.4606652 , -0.5590772 , -0.23909502,\n",
              "          0.07004853,  0.49430853,  0.01477746,  0.36425093,\n",
              "         -0.02937875, -0.31584734,  0.24845108,  0.49117517]],\n",
              "\n",
              "       [[-0.30944997, -0.89968795, -0.63379633,  2.2359195 ,\n",
              "         -0.88373077,  0.5157565 ,  0.04707294,  0.5403549 ,\n",
              "         -0.58068687, -0.15740147, -0.4808217 , -0.6608358 ,\n",
              "          0.71589094,  0.6295837 , -0.0384904 ,  0.18195452,\n",
              "          0.3003406 , -0.14328052, -0.09747163,  0.14307521,\n",
              "          0.08278932,  0.22544856,  0.26791632,  0.15092048,\n",
              "          0.14081049, -0.43558344, -0.3569052 , -0.08669135,\n",
              "          0.4392286 ,  0.29126647, -0.20228331,  0.19087426]],\n",
              "\n",
              "       [[ 0.54446274, -0.12702173,  0.26021823,  0.09757139,\n",
              "         -0.0861453 ,  0.19347422,  0.19534718, -0.53165597,\n",
              "          0.08596002, -0.3323797 ,  0.26269922,  0.02401748,\n",
              "         -0.24652764,  0.33710074,  0.0259746 , -0.01864051,\n",
              "          0.61461705, -0.31374174,  0.0060798 ,  0.36495283,\n",
              "         -0.08236546,  0.41161615,  0.5344315 , -0.26879436,\n",
              "         -0.09007338, -0.17649497, -0.05296701, -0.21287383,\n",
              "         -0.39306015,  0.2644137 , -0.2181267 , -0.3347653 ]]],\n",
              "      dtype=float32)"
            ]
          },
          "metadata": {
            "tags": []
          },
          "execution_count": 27
        }
      ]
    },
    {
      "cell_type": "markdown",
      "metadata": {
        "id": "X7nyf3mzHrr3"
      },
      "source": [
        "Voila! Both the arrays look exactly similar. So, without any further ado, let's compile the model and start the training.\n",
        "\n",
        "Next, you will make the encoder part i.e.the first nineteen layers of the model trainable false. Since the encoder part is already trained, you do not need to train it. You will only be training the Fully Connected part."
      ]
    },
    {
      "cell_type": "code",
      "metadata": {
        "id": "IQLzExNwHrr5"
      },
      "source": [
        "for layer in full_model.layers[0:19]:\n",
        "    layer.trainable = False\n"
      ],
      "execution_count": 28,
      "outputs": []
    },
    {
      "cell_type": "markdown",
      "metadata": {
        "id": "ksKSr2kcHrr-"
      },
      "source": [
        "Let's compile the model!"
      ]
    },
    {
      "cell_type": "code",
      "metadata": {
        "id": "PpeRquzjHrr_"
      },
      "source": [
        "full_model.compile(loss=keras.losses.categorical_crossentropy, optimizer=keras.optimizers.Adam(),metrics=['accuracy'])"
      ],
      "execution_count": 29,
      "outputs": []
    },
    {
      "cell_type": "markdown",
      "metadata": {
        "id": "_JagbFbNHrsE"
      },
      "source": [
        "Let's print the summary of the model as well. There should be non-trainable parameters as well since you made the first fifteen layers of the model non-trainable."
      ]
    },
    {
      "cell_type": "code",
      "metadata": {
        "id": "9eSKY9wgHrsE",
        "outputId": "4fd9552f-57c1-4208-e111-bce94171e31e",
        "colab": {
          "base_uri": "https://localhost:8080/"
        }
      },
      "source": [
        "full_model.summary()"
      ],
      "execution_count": 30,
      "outputs": [
        {
          "output_type": "stream",
          "text": [
            "Model: \"functional_3\"\n",
            "_________________________________________________________________\n",
            "Layer (type)                 Output Shape              Param #   \n",
            "=================================================================\n",
            "input_1 (InputLayer)         [(None, 28, 28, 1)]       0         \n",
            "_________________________________________________________________\n",
            "conv2d_15 (Conv2D)           (None, 28, 28, 32)        320       \n",
            "_________________________________________________________________\n",
            "batch_normalization_14 (Batc (None, 28, 28, 32)        128       \n",
            "_________________________________________________________________\n",
            "conv2d_16 (Conv2D)           (None, 28, 28, 32)        9248      \n",
            "_________________________________________________________________\n",
            "batch_normalization_15 (Batc (None, 28, 28, 32)        128       \n",
            "_________________________________________________________________\n",
            "max_pooling2d_2 (MaxPooling2 (None, 14, 14, 32)        0         \n",
            "_________________________________________________________________\n",
            "conv2d_17 (Conv2D)           (None, 14, 14, 64)        18496     \n",
            "_________________________________________________________________\n",
            "batch_normalization_16 (Batc (None, 14, 14, 64)        256       \n",
            "_________________________________________________________________\n",
            "conv2d_18 (Conv2D)           (None, 14, 14, 64)        36928     \n",
            "_________________________________________________________________\n",
            "batch_normalization_17 (Batc (None, 14, 14, 64)        256       \n",
            "_________________________________________________________________\n",
            "max_pooling2d_3 (MaxPooling2 (None, 7, 7, 64)          0         \n",
            "_________________________________________________________________\n",
            "conv2d_19 (Conv2D)           (None, 7, 7, 128)         73856     \n",
            "_________________________________________________________________\n",
            "batch_normalization_18 (Batc (None, 7, 7, 128)         512       \n",
            "_________________________________________________________________\n",
            "conv2d_20 (Conv2D)           (None, 7, 7, 128)         147584    \n",
            "_________________________________________________________________\n",
            "batch_normalization_19 (Batc (None, 7, 7, 128)         512       \n",
            "_________________________________________________________________\n",
            "conv2d_21 (Conv2D)           (None, 7, 7, 256)         295168    \n",
            "_________________________________________________________________\n",
            "batch_normalization_20 (Batc (None, 7, 7, 256)         1024      \n",
            "_________________________________________________________________\n",
            "conv2d_22 (Conv2D)           (None, 7, 7, 256)         590080    \n",
            "_________________________________________________________________\n",
            "batch_normalization_21 (Batc (None, 7, 7, 256)         1024      \n",
            "_________________________________________________________________\n",
            "flatten (Flatten)            (None, 12544)             0         \n",
            "_________________________________________________________________\n",
            "dense (Dense)                (None, 128)               1605760   \n",
            "_________________________________________________________________\n",
            "dense_1 (Dense)              (None, 10)                1290      \n",
            "=================================================================\n",
            "Total params: 2,782,570\n",
            "Trainable params: 1,607,050\n",
            "Non-trainable params: 1,175,520\n",
            "_________________________________________________________________\n"
          ],
          "name": "stdout"
        }
      ]
    },
    {
      "cell_type": "markdown",
      "metadata": {
        "id": "bVw-nVCWHrsK"
      },
      "source": [
        "Train the Model\n",
        "\n",
        "It's finally time to train the model with Keras' fit() function! The model trains for 10 epochs. The fit() function will return a history object; By storing the result of this function in fashion_train, you can use it later to plot the accuracy and loss function plots between training and validation which will help you to analyze your model's performance visually.\n",
        "\n"
      ]
    },
    {
      "cell_type": "code",
      "metadata": {
        "id": "5fEExuSjHrsL",
        "outputId": "34e4da75-cc19-4acb-dd96-6631743e44f6",
        "colab": {
          "base_uri": "https://localhost:8080/"
        }
      },
      "source": [
        "classify_train = full_model.fit(train_X, train_label, batch_size=64,epochs=100,verbose=1,validation_data=(valid_X, valid_label))"
      ],
      "execution_count": 31,
      "outputs": [
        {
          "output_type": "stream",
          "text": [
            "Epoch 1/100\n",
            "750/750 [==============================] - 4s 6ms/step - loss: 0.2236 - accuracy: 0.9389 - val_loss: 0.1781 - val_accuracy: 0.9607\n",
            "Epoch 2/100\n",
            "750/750 [==============================] - 4s 5ms/step - loss: 0.0691 - accuracy: 0.9802 - val_loss: 0.1451 - val_accuracy: 0.9628\n",
            "Epoch 3/100\n",
            "750/750 [==============================] - 4s 5ms/step - loss: 0.0414 - accuracy: 0.9865 - val_loss: 0.1323 - val_accuracy: 0.9693\n",
            "Epoch 4/100\n",
            "750/750 [==============================] - 4s 5ms/step - loss: 0.0331 - accuracy: 0.9891 - val_loss: 0.1641 - val_accuracy: 0.9667\n",
            "Epoch 5/100\n",
            "750/750 [==============================] - 4s 5ms/step - loss: 0.0371 - accuracy: 0.9892 - val_loss: 0.2070 - val_accuracy: 0.9673\n",
            "Epoch 6/100\n",
            "750/750 [==============================] - 4s 5ms/step - loss: 0.0360 - accuracy: 0.9909 - val_loss: 0.1817 - val_accuracy: 0.9700\n",
            "Epoch 7/100\n",
            "750/750 [==============================] - 4s 5ms/step - loss: 0.0230 - accuracy: 0.9931 - val_loss: 0.1643 - val_accuracy: 0.9744\n",
            "Epoch 8/100\n",
            "750/750 [==============================] - 4s 5ms/step - loss: 0.0261 - accuracy: 0.9925 - val_loss: 0.1803 - val_accuracy: 0.9706\n",
            "Epoch 9/100\n",
            "750/750 [==============================] - 4s 5ms/step - loss: 0.0206 - accuracy: 0.9939 - val_loss: 0.1877 - val_accuracy: 0.9725\n",
            "Epoch 10/100\n",
            "750/750 [==============================] - 4s 5ms/step - loss: 0.0210 - accuracy: 0.9940 - val_loss: 0.1913 - val_accuracy: 0.9712\n",
            "Epoch 11/100\n",
            "750/750 [==============================] - 4s 5ms/step - loss: 0.0249 - accuracy: 0.9937 - val_loss: 0.2250 - val_accuracy: 0.9728\n",
            "Epoch 12/100\n",
            "750/750 [==============================] - 4s 5ms/step - loss: 0.0189 - accuracy: 0.9950 - val_loss: 0.2284 - val_accuracy: 0.9729\n",
            "Epoch 13/100\n",
            "750/750 [==============================] - 4s 5ms/step - loss: 0.0190 - accuracy: 0.9948 - val_loss: 0.2322 - val_accuracy: 0.9725\n",
            "Epoch 14/100\n",
            "750/750 [==============================] - 4s 5ms/step - loss: 0.0164 - accuracy: 0.9953 - val_loss: 0.2483 - val_accuracy: 0.9714\n",
            "Epoch 15/100\n",
            "750/750 [==============================] - 4s 5ms/step - loss: 0.0170 - accuracy: 0.9956 - val_loss: 0.2592 - val_accuracy: 0.9693\n",
            "Epoch 16/100\n",
            "750/750 [==============================] - 4s 5ms/step - loss: 0.0131 - accuracy: 0.9966 - val_loss: 0.2442 - val_accuracy: 0.9743\n",
            "Epoch 17/100\n",
            "750/750 [==============================] - 4s 5ms/step - loss: 0.0117 - accuracy: 0.9970 - val_loss: 0.2343 - val_accuracy: 0.9737\n",
            "Epoch 18/100\n",
            "750/750 [==============================] - 4s 5ms/step - loss: 0.0214 - accuracy: 0.9950 - val_loss: 0.2753 - val_accuracy: 0.9737\n",
            "Epoch 19/100\n",
            "750/750 [==============================] - 4s 5ms/step - loss: 0.0156 - accuracy: 0.9963 - val_loss: 0.2786 - val_accuracy: 0.9743\n",
            "Epoch 20/100\n",
            "750/750 [==============================] - 4s 5ms/step - loss: 0.0127 - accuracy: 0.9965 - val_loss: 0.2486 - val_accuracy: 0.9768\n",
            "Epoch 21/100\n",
            "750/750 [==============================] - 4s 5ms/step - loss: 0.0107 - accuracy: 0.9972 - val_loss: 0.2508 - val_accuracy: 0.9776\n",
            "Epoch 22/100\n",
            "750/750 [==============================] - 4s 5ms/step - loss: 0.0124 - accuracy: 0.9970 - val_loss: 0.2890 - val_accuracy: 0.9738\n",
            "Epoch 23/100\n",
            "750/750 [==============================] - 4s 5ms/step - loss: 0.0171 - accuracy: 0.9967 - val_loss: 0.3332 - val_accuracy: 0.9734\n",
            "Epoch 24/100\n",
            "750/750 [==============================] - 4s 5ms/step - loss: 0.0168 - accuracy: 0.9965 - val_loss: 0.2784 - val_accuracy: 0.9765\n",
            "Epoch 25/100\n",
            "750/750 [==============================] - 4s 5ms/step - loss: 0.0079 - accuracy: 0.9984 - val_loss: 0.3135 - val_accuracy: 0.9766\n",
            "Epoch 26/100\n",
            "750/750 [==============================] - 4s 5ms/step - loss: 0.0136 - accuracy: 0.9969 - val_loss: 0.3228 - val_accuracy: 0.9755\n",
            "Epoch 27/100\n",
            "750/750 [==============================] - 4s 5ms/step - loss: 0.0084 - accuracy: 0.9981 - val_loss: 0.3117 - val_accuracy: 0.9763\n",
            "Epoch 28/100\n",
            "750/750 [==============================] - 4s 5ms/step - loss: 0.0156 - accuracy: 0.9977 - val_loss: 0.3265 - val_accuracy: 0.9749\n",
            "Epoch 29/100\n",
            "750/750 [==============================] - 4s 5ms/step - loss: 0.0095 - accuracy: 0.9978 - val_loss: 0.3533 - val_accuracy: 0.9753\n",
            "Epoch 30/100\n",
            "750/750 [==============================] - 4s 5ms/step - loss: 0.0152 - accuracy: 0.9971 - val_loss: 0.3542 - val_accuracy: 0.9744\n",
            "Epoch 31/100\n",
            "750/750 [==============================] - 4s 5ms/step - loss: 0.0138 - accuracy: 0.9973 - val_loss: 0.3316 - val_accuracy: 0.9779\n",
            "Epoch 32/100\n",
            "750/750 [==============================] - 4s 5ms/step - loss: 0.0058 - accuracy: 0.9987 - val_loss: 0.3156 - val_accuracy: 0.9772\n",
            "Epoch 33/100\n",
            "750/750 [==============================] - 4s 5ms/step - loss: 0.0080 - accuracy: 0.9982 - val_loss: 0.3506 - val_accuracy: 0.9770\n",
            "Epoch 34/100\n",
            "750/750 [==============================] - 4s 5ms/step - loss: 0.0124 - accuracy: 0.9976 - val_loss: 0.4865 - val_accuracy: 0.9743\n",
            "Epoch 35/100\n",
            "750/750 [==============================] - 4s 5ms/step - loss: 0.0279 - accuracy: 0.9974 - val_loss: 0.3872 - val_accuracy: 0.9772\n",
            "Epoch 36/100\n",
            "750/750 [==============================] - 4s 5ms/step - loss: 0.0061 - accuracy: 0.9987 - val_loss: 0.4417 - val_accuracy: 0.9753\n",
            "Epoch 37/100\n",
            "750/750 [==============================] - 4s 5ms/step - loss: 0.0158 - accuracy: 0.9975 - val_loss: 0.4244 - val_accuracy: 0.9769\n",
            "Epoch 38/100\n",
            "750/750 [==============================] - 4s 5ms/step - loss: 0.0080 - accuracy: 0.9983 - val_loss: 0.4034 - val_accuracy: 0.9768\n",
            "Epoch 39/100\n",
            "750/750 [==============================] - 4s 5ms/step - loss: 0.0072 - accuracy: 0.9986 - val_loss: 0.4147 - val_accuracy: 0.9756\n",
            "Epoch 40/100\n",
            "750/750 [==============================] - 4s 5ms/step - loss: 0.0096 - accuracy: 0.9983 - val_loss: 0.4067 - val_accuracy: 0.9763\n",
            "Epoch 41/100\n",
            "750/750 [==============================] - 4s 5ms/step - loss: 0.0117 - accuracy: 0.9981 - val_loss: 0.5040 - val_accuracy: 0.9741\n",
            "Epoch 42/100\n",
            "750/750 [==============================] - 4s 5ms/step - loss: 0.0156 - accuracy: 0.9979 - val_loss: 0.4728 - val_accuracy: 0.9747\n",
            "Epoch 43/100\n",
            "750/750 [==============================] - 4s 5ms/step - loss: 0.0078 - accuracy: 0.9989 - val_loss: 0.4518 - val_accuracy: 0.9760\n",
            "Epoch 44/100\n",
            "750/750 [==============================] - 4s 5ms/step - loss: 0.0093 - accuracy: 0.9982 - val_loss: 0.4395 - val_accuracy: 0.9762\n",
            "Epoch 45/100\n",
            "750/750 [==============================] - 4s 5ms/step - loss: 0.0143 - accuracy: 0.9978 - val_loss: 0.4467 - val_accuracy: 0.9762\n",
            "Epoch 46/100\n",
            "750/750 [==============================] - 4s 5ms/step - loss: 0.0102 - accuracy: 0.9988 - val_loss: 0.4296 - val_accuracy: 0.9772\n",
            "Epoch 47/100\n",
            "750/750 [==============================] - 4s 5ms/step - loss: 0.0088 - accuracy: 0.9985 - val_loss: 0.4988 - val_accuracy: 0.9764\n",
            "Epoch 48/100\n",
            "750/750 [==============================] - 4s 5ms/step - loss: 0.0089 - accuracy: 0.9986 - val_loss: 0.4800 - val_accuracy: 0.9781\n",
            "Epoch 49/100\n",
            "750/750 [==============================] - 4s 5ms/step - loss: 0.0086 - accuracy: 0.9986 - val_loss: 0.5369 - val_accuracy: 0.9754\n",
            "Epoch 50/100\n",
            "750/750 [==============================] - 4s 5ms/step - loss: 0.0116 - accuracy: 0.9983 - val_loss: 0.5589 - val_accuracy: 0.9743\n",
            "Epoch 51/100\n",
            "750/750 [==============================] - 4s 5ms/step - loss: 0.0102 - accuracy: 0.9985 - val_loss: 0.5262 - val_accuracy: 0.9747\n",
            "Epoch 52/100\n",
            "750/750 [==============================] - 4s 5ms/step - loss: 0.0132 - accuracy: 0.9983 - val_loss: 0.5512 - val_accuracy: 0.9737\n",
            "Epoch 53/100\n",
            "750/750 [==============================] - 4s 5ms/step - loss: 0.0094 - accuracy: 0.9987 - val_loss: 0.5601 - val_accuracy: 0.9751\n",
            "Epoch 54/100\n",
            "750/750 [==============================] - 4s 5ms/step - loss: 0.0044 - accuracy: 0.9992 - val_loss: 0.5608 - val_accuracy: 0.9753\n",
            "Epoch 55/100\n",
            "750/750 [==============================] - 4s 5ms/step - loss: 0.0094 - accuracy: 0.9989 - val_loss: 0.5841 - val_accuracy: 0.9753\n",
            "Epoch 56/100\n",
            "750/750 [==============================] - 4s 5ms/step - loss: 0.0159 - accuracy: 0.9979 - val_loss: 0.6397 - val_accuracy: 0.9750\n",
            "Epoch 57/100\n",
            "750/750 [==============================] - 4s 5ms/step - loss: 0.0124 - accuracy: 0.9984 - val_loss: 0.6624 - val_accuracy: 0.9770\n",
            "Epoch 58/100\n",
            "750/750 [==============================] - 4s 5ms/step - loss: 0.0069 - accuracy: 0.9990 - val_loss: 0.6433 - val_accuracy: 0.9758\n",
            "Epoch 59/100\n",
            "750/750 [==============================] - 4s 5ms/step - loss: 0.0080 - accuracy: 0.9987 - val_loss: 0.6685 - val_accuracy: 0.9752\n",
            "Epoch 60/100\n",
            "750/750 [==============================] - 4s 5ms/step - loss: 0.0061 - accuracy: 0.9992 - val_loss: 0.6083 - val_accuracy: 0.9766\n",
            "Epoch 61/100\n",
            "750/750 [==============================] - 4s 5ms/step - loss: 0.0135 - accuracy: 0.9985 - val_loss: 0.5950 - val_accuracy: 0.9778\n",
            "Epoch 62/100\n",
            "750/750 [==============================] - 4s 5ms/step - loss: 0.0087 - accuracy: 0.9988 - val_loss: 0.6706 - val_accuracy: 0.9758\n",
            "Epoch 63/100\n",
            "750/750 [==============================] - 4s 5ms/step - loss: 0.0093 - accuracy: 0.9986 - val_loss: 0.7439 - val_accuracy: 0.9745\n",
            "Epoch 64/100\n",
            "750/750 [==============================] - 4s 5ms/step - loss: 0.0137 - accuracy: 0.9985 - val_loss: 0.6782 - val_accuracy: 0.9759\n",
            "Epoch 65/100\n",
            "750/750 [==============================] - 4s 5ms/step - loss: 0.0054 - accuracy: 0.9992 - val_loss: 0.6758 - val_accuracy: 0.9764\n",
            "Epoch 66/100\n",
            "750/750 [==============================] - 4s 5ms/step - loss: 0.0075 - accuracy: 0.9989 - val_loss: 0.6370 - val_accuracy: 0.9774\n",
            "Epoch 67/100\n",
            "750/750 [==============================] - 4s 5ms/step - loss: 0.0073 - accuracy: 0.9988 - val_loss: 0.7523 - val_accuracy: 0.9728\n",
            "Epoch 68/100\n",
            "750/750 [==============================] - 4s 5ms/step - loss: 0.0069 - accuracy: 0.9991 - val_loss: 0.6955 - val_accuracy: 0.9775\n",
            "Epoch 69/100\n",
            "750/750 [==============================] - 4s 5ms/step - loss: 0.0086 - accuracy: 0.9991 - val_loss: 0.7575 - val_accuracy: 0.9730\n",
            "Epoch 70/100\n",
            "750/750 [==============================] - 4s 5ms/step - loss: 0.0083 - accuracy: 0.9987 - val_loss: 0.6764 - val_accuracy: 0.9761\n",
            "Epoch 71/100\n",
            "750/750 [==============================] - 4s 5ms/step - loss: 0.0118 - accuracy: 0.9986 - val_loss: 0.7000 - val_accuracy: 0.9765\n",
            "Epoch 72/100\n",
            "750/750 [==============================] - 4s 5ms/step - loss: 0.0087 - accuracy: 0.9991 - val_loss: 0.7439 - val_accuracy: 0.9766\n",
            "Epoch 73/100\n",
            "750/750 [==============================] - 4s 5ms/step - loss: 0.0057 - accuracy: 0.9992 - val_loss: 0.7616 - val_accuracy: 0.9766\n",
            "Epoch 74/100\n",
            "750/750 [==============================] - 4s 5ms/step - loss: 0.0110 - accuracy: 0.9989 - val_loss: 0.7638 - val_accuracy: 0.9764\n",
            "Epoch 75/100\n",
            "750/750 [==============================] - 4s 6ms/step - loss: 0.0139 - accuracy: 0.9987 - val_loss: 0.7633 - val_accuracy: 0.9778\n",
            "Epoch 76/100\n",
            "750/750 [==============================] - 4s 6ms/step - loss: 0.0053 - accuracy: 0.9995 - val_loss: 0.7441 - val_accuracy: 0.9776\n",
            "Epoch 77/100\n",
            "750/750 [==============================] - 4s 6ms/step - loss: 0.0062 - accuracy: 0.9990 - val_loss: 0.6493 - val_accuracy: 0.9775\n",
            "Epoch 78/100\n",
            "750/750 [==============================] - 4s 5ms/step - loss: 0.0106 - accuracy: 0.9990 - val_loss: 0.6983 - val_accuracy: 0.9772\n",
            "Epoch 79/100\n",
            "750/750 [==============================] - 4s 5ms/step - loss: 0.0063 - accuracy: 0.9992 - val_loss: 0.7235 - val_accuracy: 0.9778\n",
            "Epoch 80/100\n",
            "750/750 [==============================] - 4s 5ms/step - loss: 0.0061 - accuracy: 0.9994 - val_loss: 0.8112 - val_accuracy: 0.9758\n",
            "Epoch 81/100\n",
            "750/750 [==============================] - 4s 5ms/step - loss: 0.0185 - accuracy: 0.9985 - val_loss: 0.7377 - val_accuracy: 0.9792\n",
            "Epoch 82/100\n",
            "750/750 [==============================] - 4s 5ms/step - loss: 0.0065 - accuracy: 0.9991 - val_loss: 0.7334 - val_accuracy: 0.9777\n",
            "Epoch 83/100\n",
            "750/750 [==============================] - 4s 5ms/step - loss: 0.0037 - accuracy: 0.9996 - val_loss: 0.7544 - val_accuracy: 0.9778\n",
            "Epoch 84/100\n",
            "750/750 [==============================] - 4s 5ms/step - loss: 0.0153 - accuracy: 0.9986 - val_loss: 0.9115 - val_accuracy: 0.9737\n",
            "Epoch 85/100\n",
            "750/750 [==============================] - 4s 5ms/step - loss: 0.0059 - accuracy: 0.9994 - val_loss: 0.7848 - val_accuracy: 0.9775\n",
            "Epoch 86/100\n",
            "750/750 [==============================] - 4s 5ms/step - loss: 0.0087 - accuracy: 0.9991 - val_loss: 0.7098 - val_accuracy: 0.9777\n",
            "Epoch 87/100\n",
            "750/750 [==============================] - 4s 5ms/step - loss: 0.0091 - accuracy: 0.9992 - val_loss: 0.8021 - val_accuracy: 0.9772\n",
            "Epoch 88/100\n",
            "750/750 [==============================] - 4s 5ms/step - loss: 0.0100 - accuracy: 0.9992 - val_loss: 0.8758 - val_accuracy: 0.9767\n",
            "Epoch 89/100\n",
            "750/750 [==============================] - 4s 5ms/step - loss: 0.0068 - accuracy: 0.9992 - val_loss: 0.8039 - val_accuracy: 0.9771\n",
            "Epoch 90/100\n",
            "750/750 [==============================] - 4s 5ms/step - loss: 0.0085 - accuracy: 0.9994 - val_loss: 0.8003 - val_accuracy: 0.9768\n",
            "Epoch 91/100\n",
            "750/750 [==============================] - 4s 5ms/step - loss: 0.0131 - accuracy: 0.9989 - val_loss: 0.8376 - val_accuracy: 0.9772\n",
            "Epoch 92/100\n",
            "750/750 [==============================] - 4s 5ms/step - loss: 0.0039 - accuracy: 0.9995 - val_loss: 0.7617 - val_accuracy: 0.9793\n",
            "Epoch 93/100\n",
            "750/750 [==============================] - 4s 5ms/step - loss: 0.0117 - accuracy: 0.9988 - val_loss: 0.7719 - val_accuracy: 0.9771\n",
            "Epoch 94/100\n",
            "750/750 [==============================] - 4s 5ms/step - loss: 0.0082 - accuracy: 0.9991 - val_loss: 0.7680 - val_accuracy: 0.9790\n",
            "Epoch 95/100\n",
            "750/750 [==============================] - 4s 5ms/step - loss: 0.0097 - accuracy: 0.9993 - val_loss: 0.7718 - val_accuracy: 0.9793\n",
            "Epoch 96/100\n",
            "750/750 [==============================] - 4s 5ms/step - loss: 0.0096 - accuracy: 0.9993 - val_loss: 0.7934 - val_accuracy: 0.9787\n",
            "Epoch 97/100\n",
            "750/750 [==============================] - 4s 5ms/step - loss: 0.0077 - accuracy: 0.9993 - val_loss: 0.8114 - val_accuracy: 0.9785\n",
            "Epoch 98/100\n",
            "750/750 [==============================] - 4s 5ms/step - loss: 0.0091 - accuracy: 0.9992 - val_loss: 0.7746 - val_accuracy: 0.9782\n",
            "Epoch 99/100\n",
            "750/750 [==============================] - 4s 5ms/step - loss: 0.0051 - accuracy: 0.9994 - val_loss: 0.8234 - val_accuracy: 0.9780\n",
            "Epoch 100/100\n",
            "750/750 [==============================] - 4s 5ms/step - loss: 0.0144 - accuracy: 0.9986 - val_loss: 0.8807 - val_accuracy: 0.9788\n"
          ],
          "name": "stdout"
        }
      ]
    },
    {
      "cell_type": "markdown",
      "metadata": {
        "id": "O8L_moCuHrsP"
      },
      "source": [
        "Let's save the classification model"
      ]
    },
    {
      "cell_type": "code",
      "metadata": {
        "id": "BQLBeJ-DHrsQ"
      },
      "source": [
        "full_model.save_weights('autoencoder_classification.h5')"
      ],
      "execution_count": 32,
      "outputs": []
    },
    {
      "cell_type": "markdown",
      "metadata": {
        "id": "Kueq_f5zHrsV"
      },
      "source": [
        " Next, you will re-train the model by making the first nineteen layers trainable as True instead of keeping them False! So, let's quickly do that."
      ]
    },
    {
      "cell_type": "code",
      "metadata": {
        "id": "3mz-aEouHrsW"
      },
      "source": [
        "for layer in full_model.layers[0:19]:\n",
        "    layer.trainable = True\n",
        "\n",
        "    full_model.compile(loss=keras.losses.categorical_crossentropy, optimizer=keras.optimizers.Adam(),metrics=['accuracy'])"
      ],
      "execution_count": 33,
      "outputs": []
    },
    {
      "cell_type": "markdown",
      "metadata": {
        "id": "tDKfJI_MHrsb"
      },
      "source": [
        "Now let's train the entire model for one last time!"
      ]
    },
    {
      "cell_type": "code",
      "metadata": {
        "id": "I0-oHVnSHrsc",
        "outputId": "af468d77-5c2d-49e2-d70b-2d7fbc48b830",
        "colab": {
          "base_uri": "https://localhost:8080/"
        }
      },
      "source": [
        "classify_train = full_model.fit(train_X, train_label, batch_size=64,epochs=100,verbose=1,validation_data=(valid_X, valid_label))"
      ],
      "execution_count": 34,
      "outputs": [
        {
          "output_type": "stream",
          "text": [
            "Epoch 1/100\n",
            "  1/750 [..............................] - ETA: 7s - loss: 0.0000e+00 - accuracy: 1.0000WARNING:tensorflow:Callbacks method `on_train_batch_end` is slow compared to the batch time (batch time: 0.0050s vs `on_train_batch_end` time: 0.0118s). Check your callbacks.\n",
            "750/750 [==============================] - 9s 12ms/step - loss: 0.1547 - accuracy: 0.9924 - val_loss: 1.3024 - val_accuracy: 0.9737\n",
            "Epoch 2/100\n",
            "750/750 [==============================] - 9s 11ms/step - loss: 0.0964 - accuracy: 0.9942 - val_loss: 0.7998 - val_accuracy: 0.9772\n",
            "Epoch 3/100\n",
            "750/750 [==============================] - 9s 12ms/step - loss: 0.0931 - accuracy: 0.9945 - val_loss: 0.8482 - val_accuracy: 0.9741\n",
            "Epoch 4/100\n",
            "750/750 [==============================] - 9s 12ms/step - loss: 0.0691 - accuracy: 0.9951 - val_loss: 0.7340 - val_accuracy: 0.9768\n",
            "Epoch 5/100\n",
            "750/750 [==============================] - 9s 12ms/step - loss: 0.0647 - accuracy: 0.9952 - val_loss: 0.6142 - val_accuracy: 0.9814\n",
            "Epoch 6/100\n",
            "750/750 [==============================] - 9s 12ms/step - loss: 0.0526 - accuracy: 0.9955 - val_loss: 0.6005 - val_accuracy: 0.9784\n",
            "Epoch 7/100\n",
            "750/750 [==============================] - 9s 11ms/step - loss: 0.0580 - accuracy: 0.9951 - val_loss: 0.5953 - val_accuracy: 0.9768\n",
            "Epoch 8/100\n",
            "750/750 [==============================] - 9s 11ms/step - loss: 0.0373 - accuracy: 0.9966 - val_loss: 0.4267 - val_accuracy: 0.9827\n",
            "Epoch 9/100\n",
            "750/750 [==============================] - 9s 11ms/step - loss: 0.0397 - accuracy: 0.9959 - val_loss: 0.4659 - val_accuracy: 0.9797\n",
            "Epoch 10/100\n",
            "750/750 [==============================] - 9s 11ms/step - loss: 0.0404 - accuracy: 0.9963 - val_loss: 1.9195 - val_accuracy: 0.9805\n",
            "Epoch 11/100\n",
            "750/750 [==============================] - 9s 11ms/step - loss: 0.0302 - accuracy: 0.9970 - val_loss: 0.3640 - val_accuracy: 0.9841\n",
            "Epoch 12/100\n",
            "750/750 [==============================] - 9s 12ms/step - loss: 0.0333 - accuracy: 0.9967 - val_loss: 0.3938 - val_accuracy: 0.9812\n",
            "Epoch 13/100\n",
            "750/750 [==============================] - 9s 12ms/step - loss: 0.0400 - accuracy: 0.9962 - val_loss: 0.4151 - val_accuracy: 0.9811\n",
            "Epoch 14/100\n",
            "750/750 [==============================] - 9s 12ms/step - loss: 0.0271 - accuracy: 0.9967 - val_loss: 0.2723 - val_accuracy: 0.9840\n",
            "Epoch 15/100\n",
            "750/750 [==============================] - 9s 11ms/step - loss: 0.0296 - accuracy: 0.9970 - val_loss: 0.2993 - val_accuracy: 0.9838\n",
            "Epoch 16/100\n",
            "750/750 [==============================] - 9s 11ms/step - loss: 0.0248 - accuracy: 0.9970 - val_loss: 0.3209 - val_accuracy: 0.9826\n",
            "Epoch 17/100\n",
            "750/750 [==============================] - 9s 11ms/step - loss: 0.0243 - accuracy: 0.9968 - val_loss: 0.3627 - val_accuracy: 0.9818\n",
            "Epoch 18/100\n",
            "750/750 [==============================] - 9s 12ms/step - loss: 0.0227 - accuracy: 0.9972 - val_loss: 0.3126 - val_accuracy: 0.9855\n",
            "Epoch 19/100\n",
            "750/750 [==============================] - 9s 11ms/step - loss: 0.0246 - accuracy: 0.9972 - val_loss: 0.2558 - val_accuracy: 0.9862\n",
            "Epoch 20/100\n",
            "750/750 [==============================] - 9s 11ms/step - loss: 0.0190 - accuracy: 0.9976 - val_loss: 0.2412 - val_accuracy: 0.9867\n",
            "Epoch 21/100\n",
            "750/750 [==============================] - 9s 11ms/step - loss: 0.0234 - accuracy: 0.9972 - val_loss: 0.2442 - val_accuracy: 0.9841\n",
            "Epoch 22/100\n",
            "750/750 [==============================] - 9s 12ms/step - loss: 0.0164 - accuracy: 0.9977 - val_loss: 0.2463 - val_accuracy: 0.9871\n",
            "Epoch 23/100\n",
            "750/750 [==============================] - 9s 12ms/step - loss: 0.0150 - accuracy: 0.9984 - val_loss: 0.2952 - val_accuracy: 0.9835\n",
            "Epoch 24/100\n",
            "750/750 [==============================] - 9s 12ms/step - loss: 0.0259 - accuracy: 0.9970 - val_loss: 0.2474 - val_accuracy: 0.9855\n",
            "Epoch 25/100\n",
            "750/750 [==============================] - 9s 11ms/step - loss: 0.0155 - accuracy: 0.9979 - val_loss: 0.2475 - val_accuracy: 0.9850\n",
            "Epoch 26/100\n",
            "750/750 [==============================] - 9s 11ms/step - loss: 0.0164 - accuracy: 0.9977 - val_loss: 0.2365 - val_accuracy: 0.9856\n",
            "Epoch 27/100\n",
            "750/750 [==============================] - 9s 11ms/step - loss: 0.0128 - accuracy: 0.9982 - val_loss: 0.2233 - val_accuracy: 0.9841\n",
            "Epoch 28/100\n",
            "750/750 [==============================] - 9s 12ms/step - loss: 0.0115 - accuracy: 0.9984 - val_loss: 0.2167 - val_accuracy: 0.9862\n",
            "Epoch 29/100\n",
            "750/750 [==============================] - 9s 11ms/step - loss: 0.0166 - accuracy: 0.9978 - val_loss: 0.1963 - val_accuracy: 0.9870\n",
            "Epoch 30/100\n",
            "750/750 [==============================] - 9s 11ms/step - loss: 0.0189 - accuracy: 0.9975 - val_loss: 2.2022 - val_accuracy: 0.9851\n",
            "Epoch 31/100\n",
            "750/750 [==============================] - 9s 12ms/step - loss: 0.0153 - accuracy: 0.9983 - val_loss: 0.2701 - val_accuracy: 0.9855\n",
            "Epoch 32/100\n",
            "750/750 [==============================] - 9s 11ms/step - loss: 0.0135 - accuracy: 0.9984 - val_loss: 0.9383 - val_accuracy: 0.9882\n",
            "Epoch 33/100\n",
            "750/750 [==============================] - 9s 11ms/step - loss: 0.0057 - accuracy: 0.9991 - val_loss: 0.2344 - val_accuracy: 0.9867\n",
            "Epoch 34/100\n",
            "750/750 [==============================] - 9s 11ms/step - loss: 0.0197 - accuracy: 0.9975 - val_loss: 0.2354 - val_accuracy: 0.9837\n",
            "Epoch 35/100\n",
            "750/750 [==============================] - 9s 12ms/step - loss: 0.0123 - accuracy: 0.9983 - val_loss: 0.1930 - val_accuracy: 0.9876\n",
            "Epoch 36/100\n",
            "750/750 [==============================] - 9s 11ms/step - loss: 0.0096 - accuracy: 0.9986 - val_loss: 0.1764 - val_accuracy: 0.9878\n",
            "Epoch 37/100\n",
            "750/750 [==============================] - 9s 11ms/step - loss: 0.0090 - accuracy: 0.9987 - val_loss: 0.1819 - val_accuracy: 0.9855\n",
            "Epoch 38/100\n",
            "750/750 [==============================] - 9s 11ms/step - loss: 0.0102 - accuracy: 0.9985 - val_loss: 0.2457 - val_accuracy: 0.9847\n",
            "Epoch 39/100\n",
            "750/750 [==============================] - 9s 11ms/step - loss: 0.0108 - accuracy: 0.9985 - val_loss: 0.1952 - val_accuracy: 0.9876\n",
            "Epoch 40/100\n",
            "750/750 [==============================] - 9s 11ms/step - loss: 0.0121 - accuracy: 0.9983 - val_loss: 0.2285 - val_accuracy: 0.9862\n",
            "Epoch 41/100\n",
            "750/750 [==============================] - 9s 11ms/step - loss: 0.0155 - accuracy: 0.9979 - val_loss: 0.1794 - val_accuracy: 0.9876\n",
            "Epoch 42/100\n",
            "750/750 [==============================] - 9s 11ms/step - loss: 0.0082 - accuracy: 0.9986 - val_loss: 0.1544 - val_accuracy: 0.9889\n",
            "Epoch 43/100\n",
            "750/750 [==============================] - 9s 11ms/step - loss: 0.0054 - accuracy: 0.9989 - val_loss: 0.1649 - val_accuracy: 0.9885\n",
            "Epoch 44/100\n",
            "750/750 [==============================] - 9s 11ms/step - loss: 0.0094 - accuracy: 0.9986 - val_loss: 0.1841 - val_accuracy: 0.9868\n",
            "Epoch 45/100\n",
            "750/750 [==============================] - 9s 11ms/step - loss: 0.0088 - accuracy: 0.9985 - val_loss: 0.1820 - val_accuracy: 0.9887\n",
            "Epoch 46/100\n",
            "750/750 [==============================] - 9s 12ms/step - loss: 0.0065 - accuracy: 0.9990 - val_loss: 0.1527 - val_accuracy: 0.9889\n",
            "Epoch 47/100\n",
            "750/750 [==============================] - 9s 12ms/step - loss: 0.0040 - accuracy: 0.9992 - val_loss: 0.1792 - val_accuracy: 0.9893\n",
            "Epoch 48/100\n",
            "750/750 [==============================] - 9s 12ms/step - loss: 0.0110 - accuracy: 0.9984 - val_loss: 0.1623 - val_accuracy: 0.9892\n",
            "Epoch 49/100\n",
            "750/750 [==============================] - 9s 11ms/step - loss: 0.0089 - accuracy: 0.9988 - val_loss: 0.1761 - val_accuracy: 0.9875\n",
            "Epoch 50/100\n",
            "750/750 [==============================] - 9s 11ms/step - loss: 0.0065 - accuracy: 0.9991 - val_loss: 0.2233 - val_accuracy: 0.9872\n",
            "Epoch 51/100\n",
            "750/750 [==============================] - 9s 11ms/step - loss: 0.0104 - accuracy: 0.9985 - val_loss: 0.1516 - val_accuracy: 0.9889\n",
            "Epoch 52/100\n",
            "750/750 [==============================] - 9s 11ms/step - loss: 0.0057 - accuracy: 0.9988 - val_loss: 0.1471 - val_accuracy: 0.9889\n",
            "Epoch 53/100\n",
            "750/750 [==============================] - 9s 11ms/step - loss: 0.0042 - accuracy: 0.9992 - val_loss: 0.1486 - val_accuracy: 0.9902\n",
            "Epoch 54/100\n",
            "750/750 [==============================] - 9s 11ms/step - loss: 0.0070 - accuracy: 0.9989 - val_loss: 0.1302 - val_accuracy: 0.9893\n",
            "Epoch 55/100\n",
            "750/750 [==============================] - 9s 11ms/step - loss: 0.0057 - accuracy: 0.9991 - val_loss: 0.1763 - val_accuracy: 0.9880\n",
            "Epoch 56/100\n",
            "750/750 [==============================] - 9s 11ms/step - loss: 0.0092 - accuracy: 0.9987 - val_loss: 0.1459 - val_accuracy: 0.9889\n",
            "Epoch 57/100\n",
            "750/750 [==============================] - 9s 12ms/step - loss: 0.0061 - accuracy: 0.9991 - val_loss: 0.1305 - val_accuracy: 0.9893\n",
            "Epoch 58/100\n",
            "750/750 [==============================] - 9s 12ms/step - loss: 0.0021 - accuracy: 0.9995 - val_loss: 0.1531 - val_accuracy: 0.9888\n",
            "Epoch 59/100\n",
            "750/750 [==============================] - 9s 12ms/step - loss: 0.0089 - accuracy: 0.9989 - val_loss: 0.1832 - val_accuracy: 0.9897\n",
            "Epoch 60/100\n",
            "750/750 [==============================] - 9s 11ms/step - loss: 0.0073 - accuracy: 0.9988 - val_loss: 0.1557 - val_accuracy: 0.9887\n",
            "Epoch 61/100\n",
            "750/750 [==============================] - 9s 11ms/step - loss: 0.0064 - accuracy: 0.9992 - val_loss: 0.1380 - val_accuracy: 0.9889\n",
            "Epoch 62/100\n",
            "750/750 [==============================] - 9s 12ms/step - loss: 0.0047 - accuracy: 0.9990 - val_loss: 0.1658 - val_accuracy: 0.9908\n",
            "Epoch 63/100\n",
            "750/750 [==============================] - 9s 11ms/step - loss: 0.0029 - accuracy: 0.9996 - val_loss: 0.1765 - val_accuracy: 0.9902\n",
            "Epoch 64/100\n",
            "750/750 [==============================] - 9s 11ms/step - loss: 0.0084 - accuracy: 0.9987 - val_loss: 0.2036 - val_accuracy: 0.9866\n",
            "Epoch 65/100\n",
            "750/750 [==============================] - 9s 12ms/step - loss: 0.0071 - accuracy: 0.9987 - val_loss: 0.1809 - val_accuracy: 0.9898\n",
            "Epoch 66/100\n",
            "750/750 [==============================] - 9s 12ms/step - loss: 0.0039 - accuracy: 0.9993 - val_loss: 0.1350 - val_accuracy: 0.9893\n",
            "Epoch 67/100\n",
            "750/750 [==============================] - 9s 12ms/step - loss: 0.0032 - accuracy: 0.9994 - val_loss: 0.1543 - val_accuracy: 0.9883\n",
            "Epoch 68/100\n",
            "750/750 [==============================] - 9s 11ms/step - loss: 0.0081 - accuracy: 0.9987 - val_loss: 0.1749 - val_accuracy: 0.9874\n",
            "Epoch 69/100\n",
            "750/750 [==============================] - 9s 12ms/step - loss: 0.0032 - accuracy: 0.9995 - val_loss: 0.1510 - val_accuracy: 0.9898\n",
            "Epoch 70/100\n",
            "750/750 [==============================] - 9s 12ms/step - loss: 0.0053 - accuracy: 0.9991 - val_loss: 0.1812 - val_accuracy: 0.9878\n",
            "Epoch 71/100\n",
            "750/750 [==============================] - 9s 11ms/step - loss: 0.0076 - accuracy: 0.9986 - val_loss: 0.1452 - val_accuracy: 0.9886\n",
            "Epoch 72/100\n",
            "750/750 [==============================] - 9s 11ms/step - loss: 0.0038 - accuracy: 0.9991 - val_loss: 0.1284 - val_accuracy: 0.9902\n",
            "Epoch 73/100\n",
            "750/750 [==============================] - 9s 11ms/step - loss: 0.0011 - accuracy: 0.9996 - val_loss: 0.1172 - val_accuracy: 0.9905\n",
            "Epoch 74/100\n",
            "750/750 [==============================] - 9s 12ms/step - loss: 0.0034 - accuracy: 0.9994 - val_loss: 0.1761 - val_accuracy: 0.9905\n",
            "Epoch 75/100\n",
            "750/750 [==============================] - 9s 12ms/step - loss: 0.0049 - accuracy: 0.9990 - val_loss: 0.1428 - val_accuracy: 0.9883\n",
            "Epoch 76/100\n",
            "750/750 [==============================] - 9s 12ms/step - loss: 0.0065 - accuracy: 0.9989 - val_loss: 0.1158 - val_accuracy: 0.9892\n",
            "Epoch 77/100\n",
            "750/750 [==============================] - 9s 11ms/step - loss: 0.0025 - accuracy: 0.9994 - val_loss: 0.1082 - val_accuracy: 0.9915\n",
            "Epoch 78/100\n",
            "750/750 [==============================] - 9s 12ms/step - loss: 0.0014 - accuracy: 0.9996 - val_loss: 0.1223 - val_accuracy: 0.9916\n",
            "Epoch 79/100\n",
            "750/750 [==============================] - 9s 12ms/step - loss: 0.0038 - accuracy: 0.9991 - val_loss: 0.1814 - val_accuracy: 0.9891\n",
            "Epoch 80/100\n",
            "750/750 [==============================] - 9s 11ms/step - loss: 0.0077 - accuracy: 0.9987 - val_loss: 0.1359 - val_accuracy: 0.9903\n",
            "Epoch 81/100\n",
            "750/750 [==============================] - 9s 12ms/step - loss: 0.0042 - accuracy: 0.9992 - val_loss: 0.1377 - val_accuracy: 0.9889\n",
            "Epoch 82/100\n",
            "750/750 [==============================] - 9s 11ms/step - loss: 0.0014 - accuracy: 0.9998 - val_loss: 0.1515 - val_accuracy: 0.9873\n",
            "Epoch 83/100\n",
            "750/750 [==============================] - 9s 12ms/step - loss: 0.0025 - accuracy: 0.9994 - val_loss: 0.1529 - val_accuracy: 0.9883\n",
            "Epoch 84/100\n",
            "750/750 [==============================] - 9s 12ms/step - loss: 0.0021 - accuracy: 0.9996 - val_loss: 0.1446 - val_accuracy: 0.9891\n",
            "Epoch 85/100\n",
            "750/750 [==============================] - 9s 11ms/step - loss: 0.0068 - accuracy: 0.9990 - val_loss: 0.1421 - val_accuracy: 0.9884\n",
            "Epoch 86/100\n",
            "750/750 [==============================] - 9s 12ms/step - loss: 0.0037 - accuracy: 0.9993 - val_loss: 0.1455 - val_accuracy: 0.9902\n",
            "Epoch 87/100\n",
            "750/750 [==============================] - 9s 12ms/step - loss: 0.0058 - accuracy: 0.9990 - val_loss: 0.1271 - val_accuracy: 0.9898\n",
            "Epoch 88/100\n",
            "750/750 [==============================] - 9s 11ms/step - loss: 0.0032 - accuracy: 0.9994 - val_loss: 0.1287 - val_accuracy: 0.9911\n",
            "Epoch 89/100\n",
            "750/750 [==============================] - 9s 11ms/step - loss: 0.0031 - accuracy: 0.9996 - val_loss: 0.1541 - val_accuracy: 0.9894\n",
            "Epoch 90/100\n",
            "750/750 [==============================] - 9s 12ms/step - loss: 0.0039 - accuracy: 0.9992 - val_loss: 0.1372 - val_accuracy: 0.9886\n",
            "Epoch 91/100\n",
            "750/750 [==============================] - 9s 11ms/step - loss: 0.0040 - accuracy: 0.9993 - val_loss: 0.1481 - val_accuracy: 0.9898\n",
            "Epoch 92/100\n",
            "750/750 [==============================] - 9s 12ms/step - loss: 0.0036 - accuracy: 0.9994 - val_loss: 0.1321 - val_accuracy: 0.9901\n",
            "Epoch 93/100\n",
            "750/750 [==============================] - 9s 12ms/step - loss: 0.0017 - accuracy: 0.9996 - val_loss: 0.1646 - val_accuracy: 0.9893\n",
            "Epoch 94/100\n",
            "750/750 [==============================] - 9s 12ms/step - loss: 0.0030 - accuracy: 0.9994 - val_loss: 0.1568 - val_accuracy: 0.9891\n",
            "Epoch 95/100\n",
            "750/750 [==============================] - 9s 12ms/step - loss: 0.0024 - accuracy: 0.9995 - val_loss: 0.2017 - val_accuracy: 0.9868\n",
            "Epoch 96/100\n",
            "750/750 [==============================] - 9s 12ms/step - loss: 0.0040 - accuracy: 0.9994 - val_loss: 0.1722 - val_accuracy: 0.9899\n",
            "Epoch 97/100\n",
            "750/750 [==============================] - 9s 12ms/step - loss: 0.0052 - accuracy: 0.9991 - val_loss: 0.1663 - val_accuracy: 0.9887\n",
            "Epoch 98/100\n",
            "750/750 [==============================] - 9s 11ms/step - loss: 0.0050 - accuracy: 0.9993 - val_loss: 0.1483 - val_accuracy: 0.9897\n",
            "Epoch 99/100\n",
            "750/750 [==============================] - 9s 12ms/step - loss: 0.0018 - accuracy: 0.9996 - val_loss: 0.1489 - val_accuracy: 0.9899\n",
            "Epoch 100/100\n",
            "750/750 [==============================] - 9s 11ms/step - loss: 0.0031 - accuracy: 0.9995 - val_loss: 0.1439 - val_accuracy: 0.9895\n"
          ],
          "name": "stdout"
        }
      ]
    },
    {
      "cell_type": "markdown",
      "metadata": {
        "id": "-poynZU_Hrsf"
      },
      "source": [
        "Let's save the model for one last time."
      ]
    },
    {
      "cell_type": "code",
      "metadata": {
        "id": "EIvW4OFZHrsg"
      },
      "source": [
        "full_model.save_weights('classification_complete.h5')"
      ],
      "execution_count": 35,
      "outputs": []
    },
    {
      "cell_type": "markdown",
      "metadata": {
        "id": "9_nWWyGLHrsj"
      },
      "source": [
        "Let's put your model evaluation into perspective and plot the accuracy and loss plots between training and validation data:"
      ]
    },
    {
      "cell_type": "code",
      "metadata": {
        "id": "2DYrgPw6Hrsk",
        "outputId": "63409da6-31b2-43f2-8e37-062fc40051c4",
        "colab": {
          "base_uri": "https://localhost:8080/",
          "height": 545
        }
      },
      "source": [
        "accuracy = classify_train.history['accuracy']\n",
        "val_accuracy = classify_train.history['val_accuracy']\n",
        "loss = classify_train.history['loss']\n",
        "val_loss = classify_train.history['val_loss']\n",
        "epochs = range(len(accuracy))\n",
        "plt.plot(epochs, accuracy, 'bo', label='Training accuracy')\n",
        "plt.plot(epochs, val_accuracy, 'b', label='Validation accuracy')\n",
        "plt.title('Training and validation accuracy')\n",
        "plt.legend()\n",
        "plt.figure()\n",
        "plt.plot(epochs, loss, 'bo', label='Training loss')\n",
        "plt.plot(epochs, val_loss, 'b', label='Validation loss')\n",
        "plt.title('Training and validation loss')\n",
        "plt.legend()\n",
        "plt.show()"
      ],
      "execution_count": 36,
      "outputs": [
        {
          "output_type": "display_data",
          "data": {
            "image/png": "[encoded data removed]",
            "text/plain": [
              "<Figure size 432x288 with 1 Axes>"
            ]
          },
          "metadata": {
            "tags": [],
            "needs_background": "light"
          }
        },
        {
          "output_type": "display_data",
          "data": {
            "image/png": "[encoded data removed]",
            "text/plain": [
              "<Figure size 432x288 with 1 Axes>"
            ]
          },
          "metadata": {
            "tags": [],
            "needs_background": "light"
          }
        }
      ]
    },
    {
      "cell_type": "markdown",
      "metadata": {
        "id": "2GA78iVoHrsn"
      },
      "source": [
        "Model Evaluation on the Test Set\n",
        "\n",
        "Finally, let's also evaluate your model on test data and see how it performs!\n",
        "\n"
      ]
    },
    {
      "cell_type": "code",
      "metadata": {
        "id": "QwRhYdbBHrsp",
        "outputId": "49cddea6-4a57-4fc8-e36d-8689c193e303",
        "colab": {
          "base_uri": "https://localhost:8080/"
        }
      },
      "source": [
        "test_eval = full_model.evaluate(test_data, test_Y_one_hot, verbose=0)\n",
        "\n",
        "print('Test loss:', test_eval[0])\n",
        "print('Test accuracy:', test_eval[1])"
      ],
      "execution_count": 37,
      "outputs": [
        {
          "output_type": "stream",
          "text": [
            "Test loss: 0.10030323266983032\n",
            "Test accuracy: 0.9909999966621399\n"
          ],
          "name": "stdout"
        }
      ]
    },
    {
      "cell_type": "markdown",
      "metadata": {
        "id": "qw2K9zMjHrs-"
      },
      "source": [
        "Predict Labels"
      ]
    },
    {
      "cell_type": "code",
      "metadata": {
        "id": "dLBzyUKoHrs-"
      },
      "source": [
        "predicted_classes = full_model.predict(test_data)"
      ],
      "execution_count": 38,
      "outputs": []
    },
    {
      "cell_type": "markdown",
      "metadata": {
        "id": "fNNTN7muHrtB"
      },
      "source": [
        "Since the predictions you get are floating point values, it will not be feasible to compare the predicted labels with true test labels. So, you will round off the output which will convert the float values into an integer. Further, you will use np.argmax() to select the index number which has a higher value in a row.\n",
        "\n",
        "For example, let's assume a prediction for one test image to be [0 1 0 0 0 0 0 0 0 0], the output for this should be a class label 1.\n",
        "\n"
      ]
    },
    {
      "cell_type": "code",
      "metadata": {
        "id": "CqoMjnpAHrtC",
        "outputId": "9af8ec9c-147f-47e8-8e7b-6a7a1f53fe6e",
        "colab": {
          "base_uri": "https://localhost:8080/"
        }
      },
      "source": [
        "predicted_classes = np.argmax(np.round(predicted_classes),axis=1)\n",
        "predicted_classes.shape, test_labels.shape"
      ],
      "execution_count": 39,
      "outputs": [
        {
          "output_type": "execute_result",
          "data": {
            "text/plain": [
              "((10000,), (10000,))"
            ]
          },
          "metadata": {
            "tags": []
          },
          "execution_count": 39
        }
      ]
    },
    {
      "cell_type": "code",
      "metadata": {
        "id": "M1tGqD-xHrtF",
        "outputId": "c7237867-6a6e-4340-b44d-354491783573",
        "colab": {
          "base_uri": "https://localhost:8080/",
          "height": 314
        }
      },
      "source": [
        "correct = np.where(predicted_classes==test_labels)[0]\n",
        "print (\"Found %d correct labels\" % len(correct))\n",
        "for i, correct in enumerate(correct[:9]):\n",
        "    plt.subplot(3,3,i+1)\n",
        "    plt.imshow(test_data[correct].reshape(28,28), cmap='gray', interpolation='none')\n",
        "    plt.title(\"Predicted {}, Class {}\".format(predicted_classes[correct], test_labels[correct]))\n",
        "    plt.tight_layout()"
      ],
      "execution_count": 40,
      "outputs": [
        {
          "output_type": "stream",
          "text": [
            "Found 9909 correct labels\n"
          ],
          "name": "stdout"
        },
        {
          "output_type": "display_data",
          "data": {
            "image/png": "[encoded data removed]",
            "text/plain": [
              "<Figure size 432x288 with 9 Axes>"
            ]
          },
          "metadata": {
            "tags": [],
            "needs_background": "light"
          }
        }
      ]
    },
    {
      "cell_type": "code",
      "metadata": {
        "id": "tswuHUydHrtI",
        "outputId": "0af758b6-51d9-4786-aa0a-0ac344e3d6f4",
        "colab": {
          "base_uri": "https://localhost:8080/",
          "height": 314
        }
      },
      "source": [
        "incorrect = np.where(predicted_classes!=test_labels)[0]\n",
        "print (\"Found %d incorrect labels\" % len(incorrect))\n",
        "for i, incorrect in enumerate(incorrect[:9]):\n",
        "    plt.subplot(3,3,i+1)\n",
        "    plt.imshow(test_data[incorrect].reshape(28,28), cmap='gray', interpolation='none')\n",
        "    plt.title(\"Predicted {}, Class {}\".format(predicted_classes[incorrect], test_labels[incorrect]))\n",
        "    plt.tight_layout()"
      ],
      "execution_count": 41,
      "outputs": [
        {
          "output_type": "stream",
          "text": [
            "Found 91 incorrect labels\n"
          ],
          "name": "stdout"
        },
        {
          "output_type": "display_data",
          "data": {
            "image/png": "[encoded data removed]",
            "text/plain": [
              "<Figure size 432x288 with 9 Axes>"
            ]
          },
          "metadata": {
            "tags": [],
            "needs_background": "light"
          }
        }
      ]
    },
    {
      "cell_type": "markdown",
      "metadata": {
        "id": "r81zYC8nHrtM"
      },
      "source": [
        "Classification Report\n",
        "\n",
        "Classification report will help you in identifying the misclassified classes in more detail. You will be able to observe for which class the model performed bad out of the given ten classes.\n",
        "\n"
      ]
    },
    {
      "cell_type": "code",
      "metadata": {
        "id": "EdTA7VA4HrtN",
        "outputId": "bc354b7f-7eb7-4df1-9075-1f8e61391cb4",
        "colab": {
          "base_uri": "https://localhost:8080/"
        }
      },
      "source": [
        "from sklearn.metrics import classification_report\n",
        "target_names = [\"Class {}\".format(i) for i in range(num_classes)]\n",
        "print(classification_report(test_labels, predicted_classes, target_names=target_names))"
      ],
      "execution_count": 42,
      "outputs": [
        {
          "output_type": "stream",
          "text": [
            "              precision    recall  f1-score   support\n",
            "\n",
            "     Class 0       0.99      1.00      0.99       980\n",
            "     Class 1       1.00      1.00      1.00      1135\n",
            "     Class 2       0.99      0.99      0.99      1032\n",
            "     Class 3       0.99      0.99      0.99      1010\n",
            "     Class 4       0.99      0.99      0.99       982\n",
            "     Class 5       1.00      0.99      0.99       892\n",
            "     Class 6       0.99      0.99      0.99       958\n",
            "     Class 7       0.99      0.99      0.99      1028\n",
            "     Class 8       0.99      0.99      0.99       974\n",
            "     Class 9       0.98      0.99      0.99      1009\n",
            "\n",
            "    accuracy                           0.99     10000\n",
            "   macro avg       0.99      0.99      0.99     10000\n",
            "weighted avg       0.99      0.99      0.99     10000\n",
            "\n"
          ],
          "name": "stdout"
        }
      ]
    },
    {
      "cell_type": "code",
      "metadata": {
        "id": "Fp5dMAR2HrtQ"
      },
      "source": [
        ""
      ],
      "execution_count": null,
      "outputs": []
    }
  ]
}