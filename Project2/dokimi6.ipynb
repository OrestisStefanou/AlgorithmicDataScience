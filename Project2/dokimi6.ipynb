{
  "nbformat": 4,
  "nbformat_minor": 0,
  "metadata": {
    "kernelspec": {
      "display_name": "Python 3",
      "language": "python",
      "name": "python3"
    },
    "language_info": {
      "codemirror_mode": {
        "name": "ipython",
        "version": 3
      },
      "file_extension": ".py",
      "mimetype": "text/x-python",
      "name": "python",
      "nbconvert_exporter": "python",
      "pygments_lexer": "ipython3",
      "version": "3.8.3"
    },
    "colab": {
      "name": "Untitled1.ipynb",
      "provenance": [],
      "toc_visible": true
    },
    "accelerator": "GPU"
  },
  "cells": [
    {
      "cell_type": "markdown",
      "metadata": {
        "id": "rs7PuA8iHro0"
      },
      "source": [
        "# Autoencoder as a Classifier using Fashion-MNIST Dataset"
      ]
    },
    {
      "cell_type": "markdown",
      "metadata": {
        "id": "-l7o39HTHro4"
      },
      "source": [
        "## Tous kodikes en tous etrexa giati itan na pari para polli ora.Apoti ekatalava en oti zita stin ergasia pano kato.To dataset en polla paromoio ara en nomizo na xriasti na allaksoume je polla "
      ]
    },
    {
      "cell_type": "markdown",
      "metadata": {
        "id": "P58-O9moHro7"
      },
      "source": [
        "Import necessary libraries"
      ]
    },
    {
      "cell_type": "code",
      "metadata": {
        "id": "J3gbZdYNHro9",
        "outputId": "a4826531-1749-47de-c069-c375526923c1",
        "colab": {
          "base_uri": "https://localhost:8080/"
        }
      },
      "source": [
        "from google.colab import drive\n",
        "drive.mount('/content/drive')\n",
        "import keras\n",
        "from matplotlib import pyplot as plt\n",
        "import numpy as np\n",
        "import gzip\n",
        "%matplotlib inline\n",
        "from keras.models import Model\n",
        "from keras.optimizers import RMSprop\n",
        "from keras.layers import Input,Dense,Flatten,Dropout,merge,Reshape,Conv2D,MaxPooling2D,UpSampling2D,Conv2DTranspose\n",
        "from keras.layers.normalization import BatchNormalization\n",
        "from keras.models import Model,Sequential\n",
        "from keras.callbacks import ModelCheckpoint\n",
        "from keras.optimizers import Adadelta, RMSprop,SGD,Adam\n",
        "from keras import regularizers\n",
        "from keras import backend as K\n",
        "from keras.utils import to_categorical"
      ],
      "execution_count": 2,
      "outputs": [
        {
          "output_type": "stream",
          "text": [
            "Drive already mounted at /content/drive; to attempt to forcibly remount, call drive.mount(\"/content/drive\", force_remount=True).\n"
          ],
          "name": "stdout"
        }
      ]
    },
    {
      "cell_type": "markdown",
      "metadata": {
        "id": "PyuxiNYMHrpO"
      },
      "source": [
        "Function to read the data"
      ]
    },
    {
      "cell_type": "code",
      "metadata": {
        "id": "_sKptFtmHrpQ"
      },
      "source": [
        "def extract_data(filename, num_images):\n",
        "    with gzip.open(filename) as bytestream:\n",
        "        bytestream.read(16)\n",
        "        buf = bytestream.read(28 * 28 * num_images)\n",
        "        data = np.frombuffer(buf, dtype=np.uint8).astype(np.float32)\n",
        "        data = data.reshape(num_images, 28,28)\n",
        "        return data\n"
      ],
      "execution_count": 4,
      "outputs": []
    },
    {
      "cell_type": "code",
      "metadata": {
        "id": "gTYuUPDeHrpY"
      },
      "source": [
        "train_data = extract_data('/content/train-images-idx3-ubyte.gz',60000)\n",
        "test_data = extract_data('/content/t10k-images-idx3-ubyte.gz', 10000)"
      ],
      "execution_count": 5,
      "outputs": []
    },
    {
      "cell_type": "markdown",
      "metadata": {
        "id": "NZtzdxg1Hrph"
      },
      "source": [
        "Function to read labels"
      ]
    },
    {
      "cell_type": "code",
      "metadata": {
        "id": "v05ZippzHrpi"
      },
      "source": [
        "def extract_labels(filename, num_images):\n",
        "    with gzip.open(filename) as bytestream:\n",
        "        bytestream.read(8)\n",
        "        buf = bytestream.read(1 * num_images)\n",
        "        labels = np.frombuffer(buf, dtype=np.uint8).astype(np.int64)\n",
        "        return labels"
      ],
      "execution_count": 6,
      "outputs": []
    },
    {
      "cell_type": "code",
      "metadata": {
        "id": "OFRwx93NHrpq"
      },
      "source": [
        "train_labels = extract_labels('/content/train-labels-idx1-ubyte.gz',60000)\n",
        "test_labels = extract_labels('/content/t10k-labels-idx1-ubyte.gz',10000)"
      ],
      "execution_count": 7,
      "outputs": []
    },
    {
      "cell_type": "markdown",
      "metadata": {
        "id": "ghiZiXaZHrpz"
      },
      "source": [
        "Data Exploration\n",
        "\n",
        "Let's now analyze how images in the dataset look like and also see the dimension of the images with the help of the NumPy array attribute .shape:"
      ]
    },
    {
      "cell_type": "code",
      "metadata": {
        "id": "yH-uVRUoHrp1",
        "outputId": "b6a67d9b-1e86-4ba3-ed5c-a5ba361b2a3d",
        "colab": {
          "base_uri": "https://localhost:8080/"
        }
      },
      "source": [
        "# Shapes of training set\n",
        "print(\"Training set (images) shape: {shape}\".format(shape=train_data.shape))\n",
        "\n",
        "# Shapes of test set\n",
        "print(\"Test set (images) shape: {shape}\".format(shape=test_data.shape))"
      ],
      "execution_count": 8,
      "outputs": [
        {
          "output_type": "stream",
          "text": [
            "Training set (images) shape: (60000, 28, 28)\n",
            "Test set (images) shape: (10000, 28, 28)\n"
          ],
          "name": "stdout"
        }
      ]
    },
    {
      "cell_type": "markdown",
      "metadata": {
        "id": "dWhd5zBXHrp9"
      },
      "source": [
        "From the above output, you can see that the training data has a shape of 60000 x 28 x 28 since there are 60,000 training samples each of 28 x 28 dimensional matrix. Similarly, the test data has a shape of 10000 x 28 x 28 since there are 10,000 testing samples.\n",
        "\n",
        "Note that in the task of reconstructing using convolutional autoencoder you won't need training and testing labels. Your training images will both act as the input as well as the ground truth similar to the labels you have in classification task.\n",
        "\n",
        "But for the classification task you will also need your labels along with the images which you will be doing later on in the tutorial. Even though the task at hand will only be dealing with the training and testing images. However, for exploration purposes, which might give you a better intuition about the data, you'll make use of the labels.\n",
        "\n",
        "Let's create a dictionary that will have class names with their corresponding categorical class labels:"
      ]
    },
    {
      "cell_type": "code",
      "metadata": {
        "id": "SC8HjN3hHrp_"
      },
      "source": [
        "# Create dictionary of target classes\n",
        "label_dict = {\n",
        " 0: '0',\n",
        " 1: '1',\n",
        " 2: '2',\n",
        " 3: '3',\n",
        " 4: '4',\n",
        " 5: '5',\n",
        " 6: '6',\n",
        " 7: '7',\n",
        " 8: '8',\n",
        " 9: '9',\n",
        "}"
      ],
      "execution_count": 9,
      "outputs": []
    },
    {
      "cell_type": "markdown",
      "metadata": {
        "id": "CoS6JSU3HrqE"
      },
      "source": [
        "Now, let's take a look at a couple of the images in your dataset:"
      ]
    },
    {
      "cell_type": "code",
      "metadata": {
        "id": "t6_Gv88UHrqF",
        "outputId": "8941dd75-b62a-4415-ae18-90fdbf6e002d",
        "colab": {
          "base_uri": "https://localhost:8080/",
          "height": 208
        }
      },
      "source": [
        "plt.figure(figsize=[5,5])\n",
        "\n",
        "# Display the first image in training data\n",
        "plt.subplot(121)\n",
        "curr_img = np.reshape(train_data[10], (28,28))\n",
        "curr_lbl = train_labels[10]\n",
        "plt.imshow(curr_img, cmap='gray')\n",
        "plt.title(\"(Label: \" + str(label_dict[curr_lbl]) + \")\")\n",
        "\n",
        "# Display the first image in testing data\n",
        "plt.subplot(122)\n",
        "curr_img = np.reshape(test_data[10], (28,28))\n",
        "curr_lbl = test_labels[10]\n",
        "plt.imshow(curr_img, cmap='gray')\n",
        "plt.title(\"(Label: \" + str(label_dict[curr_lbl]) + \")\")\n"
      ],
      "execution_count": 10,
      "outputs": [
        {
          "output_type": "execute_result",
          "data": {
            "text/plain": [
              "Text(0.5, 1.0, '(Label: 0)')"
            ]
          },
          "metadata": {
            "tags": []
          },
          "execution_count": 10
        },
        {
          "output_type": "display_data",
          "data": {
            "image/png": "[encoded data removed]",
            "text/plain": [
              "<Figure size 360x360 with 2 Axes>"
            ]
          },
          "metadata": {
            "tags": [],
            "needs_background": "light"
          }
        }
      ]
    },
    {
      "cell_type": "markdown",
      "metadata": {
        "id": "_LvxONdVHrqN"
      },
      "source": [
        "Data Preprocessing\n",
        "\n",
        "The images of the dataset are indeed grayscale images with pixel values ranging from 0 to 255 with a dimension of 28 x 28, so before we feed the data into the model, it is very important to preprocess it. You'll first convert each 28 x 28 image of train and test set into a matrix of size 28 x 28 x 1, which you can feed into the network:"
      ]
    },
    {
      "cell_type": "code",
      "metadata": {
        "id": "k8WvDha0HrqO",
        "outputId": "3cff85e9-093d-4278-9b86-532e71376b60",
        "colab": {
          "base_uri": "https://localhost:8080/"
        }
      },
      "source": [
        "train_data = train_data.reshape(-1, 28,28, 1)\n",
        "test_data = test_data.reshape(-1, 28,28, 1)\n",
        "train_data.shape, test_data.shape"
      ],
      "execution_count": 11,
      "outputs": [
        {
          "output_type": "execute_result",
          "data": {
            "text/plain": [
              "((60000, 28, 28, 1), (10000, 28, 28, 1))"
            ]
          },
          "metadata": {
            "tags": []
          },
          "execution_count": 11
        }
      ]
    },
    {
      "cell_type": "markdown",
      "metadata": {
        "id": "K1zNEOnHHrqU"
      },
      "source": [
        "Next, rescale the training and testing data with the maximum pixel value of the training and testing data:"
      ]
    },
    {
      "cell_type": "code",
      "metadata": {
        "id": "pm_-jJ1uHrqV"
      },
      "source": [
        "train_data = train_data / np.max(train_data)\n",
        "test_data = test_data / np.max(test_data)"
      ],
      "execution_count": 12,
      "outputs": []
    },
    {
      "cell_type": "markdown",
      "metadata": {
        "id": "IQhp-e22Hrqb"
      },
      "source": [
        "After all of this, it's important to partition the data. In order for our model to generalize well, you split the training data into two parts: a training and a validation set. You will train your model on 80% of the data and validate it on 20% of the remaining training data.\n",
        "\n",
        "This will also help you in reducing the chances of overfitting, as you will be validating your model on data it would not have seen in the training phase.\n",
        "\n",
        "You can use the train_test_split module of scikit-learn to divide the data properly:\n",
        "\n"
      ]
    },
    {
      "cell_type": "code",
      "metadata": {
        "id": "xpef6L4jHrqc"
      },
      "source": [
        "from sklearn.model_selection import train_test_split\n",
        "train_X,valid_X,train_ground,valid_ground = train_test_split(train_data,\n",
        "                                                             train_data,\n",
        "                                                             test_size=0.2,\n",
        "                                                             random_state=13)"
      ],
      "execution_count": 13,
      "outputs": []
    },
    {
      "cell_type": "markdown",
      "metadata": {
        "id": "a92LKL-EHrqk"
      },
      "source": [
        "Note: You will be using the above data splitting twice, once for the task of reconstructing using convolutional autoencoder for which you don't need training and testing labels. That's why you will pass the training images twice. Your training images will both act as the input as well as the ground truth similar to the labels you have in the classification task.\n",
        "\n",
        "But for the classification task, you will also pass your labels along with the images which you will be doing later on in the tutorial.\n",
        "\n",
        "Now you are all set to define the network and feed the data into the network. So without any further ado, let's jump to the next step!"
      ]
    },
    {
      "cell_type": "markdown",
      "metadata": {
        "id": "ItdH2aMAHrql"
      },
      "source": [
        "## The Convolutional Autoencoder"
      ]
    },
    {
      "cell_type": "markdown",
      "metadata": {
        "id": "inSDc0D_Hrqm"
      },
      "source": [
        "The images are of size 28 x 28 x 1 or a 30976-dimensional vector. You convert the image matrix to an array, rescale it between 0 and 1, reshape it so that it's of size 28 x 28 x 1, and feed this as an input to the network.\n",
        "\n",
        "Also, you will use a batch size of 128 using a higher batch size of 256 or 512 is also preferable it all depends on the system you train your model. It contributes heavily in determining the learning parameters and affects the prediction accuracy."
      ]
    },
    {
      "cell_type": "code",
      "metadata": {
        "id": "AVk7XldTHrqm"
      },
      "source": [
        "batch_size = 512\n",
        "epochs = 100\n",
        "inChannel = 1\n",
        "x, y = 28, 28\n",
        "input_img = Input(shape = (x, y, inChannel))\n",
        "num_classes = 10"
      ],
      "execution_count": 14,
      "outputs": []
    },
    {
      "cell_type": "markdown",
      "metadata": {
        "id": "mla3RAtsHrqs"
      },
      "source": [
        "As you might already know well before, the autoencoder is divided into two parts: there's an encoder and a decoder.\n",
        "\n",
        "Encoder: It has 4 Convolution blocks, each block has a convolution layer followed by a batch normalization layer. Max-pooling layer is used after the first and second convolution blocks.\n",
        "\n",
        "    The first convolution block will have 32 filters of size 3 x 3, followed by a downsampling (max-pooling) layer,\n",
        "    The second block will have 64 filters of size 3 x 3, followed by another downsampling layer,\n",
        "    The third block of encoder will have 128 filters of size 3 x 3,\n",
        "    The fourth block of encoder will have 256 filters of size 3 x 3.\n",
        "\n",
        "Decoder: It has 3 Convolution blocks, each block has a convolution layer followed by a batch normalization layer. Upsampling layer is used after the second and third convolution blocks.\n",
        "\n",
        "    The first block will have 128 filters of size 3 x 3,\n",
        "    The second block will have 64 filters of size 3 x 3 followed by another upsampling layer,\n",
        "    The third block will have 32 filters of size 3 x 3 followed by another upsampling layer,\n",
        "    The final layer of encoder will have 1 filter of size 3 x 3 which will reconstruct back the input having a single channel.\n",
        "\n",
        "The max-pooling layer will downsample the input by two times each time you use it, while the upsampling layer will upsample the input by two times each time it is used.\n",
        "\n",
        "Note: The number of filters, the filter size, the number of layers, number of epochs you train your model, are all hyperparameters and should be decided based on your own intuition, you are free to try new experiments by tweaking with these hyperparameters and measure the performance of your model. And that is how you will slowly learn the art of deep learning!\n",
        "\n",
        "Let's create separate encoder and decoder functions since you will be using encoder weights later on for classification purpose!"
      ]
    },
    {
      "cell_type": "code",
      "metadata": {
        "id": "N_20Us2MHrqt"
      },
      "source": [
        "def encoder(input_img):\n",
        "    #encoder\n",
        "    #input = 28 x 28 x 1 (wide and thin)\n",
        "    conv1 = Conv2D(32, (3, 3), activation='softmax', padding='same')(input_img) #28 x 28 x 32\n",
        "    conv1 = BatchNormalization()(conv1)\n",
        "    conv1 = Conv2D(32, (3, 3), activation='softmax', padding='same')(conv1)\n",
        "    conv1 = BatchNormalization()(conv1)\n",
        "    pool1 = MaxPooling2D(pool_size=(2, 2))(conv1) #14 x 14 x 32\n",
        "    conv2 = Conv2D(64, (3, 3), activation='softmax', padding='same')(pool1) #14 x 14 x 64\n",
        "    conv2 = BatchNormalization()(conv2)\n",
        "    conv2 = Conv2D(64, (3, 3), activation='softmax', padding='same')(conv2)\n",
        "    conv2 = BatchNormalization()(conv2)\n",
        "    pool2 = MaxPooling2D(pool_size=(2, 2))(conv2) #7 x 7 x 64\n",
        "    conv3 = Conv2D(128, (3, 3), activation='softmax', padding='same')(pool2) #7 x 7 x 128 (small and thick)\n",
        "    conv3 = BatchNormalization()(conv3)\n",
        "    conv3 = Conv2D(128, (3, 3), activation='softmax', padding='same')(conv3)\n",
        "    conv3 = BatchNormalization()(conv3)\n",
        "    conv4 = Conv2D(256, (3, 3), activation='softmax', padding='same')(conv3) #7 x 7 x 256 (small and thick)\n",
        "    conv4 = BatchNormalization()(conv4)\n",
        "    conv4 = Conv2D(256, (3, 3), activation='softmax', padding='same')(conv4)\n",
        "    conv4 = BatchNormalization()(conv4)\n",
        "    return conv4\n",
        "\n",
        "def decoder(conv4):    \n",
        "    #decoder\n",
        "    conv5 = Conv2D(256, (3, 3), activation='softmax', padding='same')(conv4) #7 x 7 x 128\n",
        "    conv5 = BatchNormalization()(conv5)\n",
        "    conv5 = Conv2D(256, (3, 3), activation='softmax', padding='same')(conv5)\n",
        "    conv5 = BatchNormalization()(conv5)\n",
        "    conv6 = Conv2D(128, (3, 3), activation='softmax', padding='same')(conv5) #7 x 7 x 64\n",
        "    conv6 = BatchNormalization()(conv6)\n",
        "    conv6 = Conv2D(128, (3, 3), activation='softmax', padding='same')(conv6)\n",
        "    conv6 = BatchNormalization()(conv6)\n",
        "    up1 = UpSampling2D((2,2))(conv6) #14 x 14 x 64\n",
        "    conv7 = Conv2D(64, (3, 3), activation='softmax', padding='same')(up1) # 14 x 14 x 32\n",
        "    conv7 = BatchNormalization()(conv7)\n",
        "    conv7 = Conv2D(64, (3, 3), activation='softmax', padding='same')(conv7)\n",
        "    conv7 = BatchNormalization()(conv7)\n",
        "    \n",
        "    up2 = UpSampling2D((2,2))(conv7) # 28 x 28 x 32\n",
        "    decoded = Conv2D(1, (3, 3), activation='sigmoid', padding='same')(up2) # 28 x 28 x 1\n",
        "    return decoded"
      ],
      "execution_count": null,
      "outputs": []
    },
    {
      "cell_type": "code",
      "metadata": {
        "id": "iTGFAJTNexNv"
      },
      "source": [
        "def encoder(input_img):\n",
        "    #encoder\n",
        "    #input = 28 x 28 x 1 (wide and thin)\n",
        "    conv1 = Conv2D(32, (3, 3), activation='softmax', padding='same')(input_img) #28 x 28 x 32\n",
        "    conv1 = BatchNormalization()(conv1)\n",
        "    conv1 = Conv2D(32, (3, 3), activation='softmax', padding='same')(conv1)\n",
        "    conv1 = BatchNormalization()(conv1)\n",
        "    pool1 = MaxPooling2D(pool_size=(2, 2))(conv1) #14 x 14 x 32\n",
        "    conv2 = Conv2D(64, (3, 3), activation='softmax', padding='same')(pool1) #14 x 14 x 64\n",
        "    conv2 = BatchNormalization()(conv2)\n",
        "    conv2 = Conv2D(64, (3, 3), activation='softmax', padding='same')(conv2)\n",
        "    conv2 = BatchNormalization()(conv2)\n",
        "    pool2 = MaxPooling2D(pool_size=(2, 2))(conv2) #7 x 7 x 64\n",
        "    conv3 = Conv2D(128, (3, 3), activation='softmax', padding='same')(pool2) #7 x 7 x 128 (small and thick)\n",
        "    conv3 = BatchNormalization()(conv3)\n",
        "    conv3 = Conv2D(128, (3, 3), activation='softmax', padding='same')(conv3)\n",
        "    conv3 = BatchNormalization()(conv3)\n",
        "    conv4 = Conv2D(256, (3, 3), activation='softmax', padding='same')(conv3) #7 x 7 x 256 (small and thick)\n",
        "    conv4 = BatchNormalization()(conv4)\n",
        "    conv4 = Conv2D(256, (3, 3), activation='softmax', padding='same')(conv4)\n",
        "    conv4 = BatchNormalization()(conv4)\n",
        "    return conv4\n",
        "\n",
        "def decoder(conv4):    \n",
        "    #decoder\n",
        "    conv5 = Conv2D(256, (3, 3), activation='softmax', padding='same')(conv4) #7 x 7 x 128\n",
        "    conv5 = BatchNormalization()(conv5)\n",
        "    conv5 = Conv2D(256, (3, 3), activation='softmax', padding='same')(conv5)\n",
        "    conv5 = BatchNormalization()(conv5)\n",
        "    conv6 = Conv2D(128, (3, 3), activation='softmax', padding='same')(conv5) #7 x 7 x 64\n",
        "    conv6 = BatchNormalization()(conv6)\n",
        "    conv6 = Conv2D(128, (3, 3), activation='softmax', padding='same')(conv6)\n",
        "    conv6 = BatchNormalization()(conv6)\n",
        "    up1 = UpSampling2D((2,2))(conv6) #14 x 14 x 64\n",
        "    conv7 = Conv2D(64, (3, 3), activation='softmax', padding='same')(up1) # 14 x 14 x 32\n",
        "    conv7 = BatchNormalization()(conv7)\n",
        "    conv7 = Conv2D(64, (3, 3), activation='softmax', padding='same')(conv7)\n",
        "    conv7 = BatchNormalization()(conv7)\n",
        "    conv8 = Conv2D(32, (3, 3), activation='softmax', padding='same')(up1) # 14 x 14 x 32\n",
        "    conv8 = BatchNormalization()(conv8)\n",
        "    conv8 = Conv2D(32, (3, 3), activation='softmax', padding='same')(conv8)\n",
        "    conv8 = BatchNormalization()(conv8)\n",
        "    up2 = UpSampling2D((2,2))(conv8) # 28 x 28 x 32\n",
        "    decoded = Conv2D(1, (3, 3), activation='sigmoid', padding='same')(up2) # 28 x 28 x 1\n",
        "    return decoded"
      ],
      "execution_count": 15,
      "outputs": []
    },
    {
      "cell_type": "markdown",
      "metadata": {
        "id": "yHqPp80FHrqy"
      },
      "source": [
        "After the model is created, you have to compile it using the optimizer to be RMSProp.\n",
        "\n",
        "Note that you also have to specify the loss type via the argument loss. In this case, that's the mean squared error, since the loss after every batch will be computed between the batch of predicted output and the ground truth using mean squared error pixel by pixel:"
      ]
    },
    {
      "cell_type": "code",
      "metadata": {
        "id": "OQ9tnEf0Hrqz"
      },
      "source": [
        "autoencoder = Model(input_img, decoder(encoder(input_img)))\n",
        "autoencoder.compile(loss='mean_squared_error', optimizer = RMSprop())"
      ],
      "execution_count": 16,
      "outputs": []
    },
    {
      "cell_type": "markdown",
      "metadata": {
        "id": "m1hdlUsKHrq4"
      },
      "source": [
        "Let's visualize the layers that you created in the above step by using the summary function. This will show a number of parameters (weights and biases) in each layer and also the total parameters in your model."
      ]
    },
    {
      "cell_type": "code",
      "metadata": {
        "id": "Y8sd-XndHrq5",
        "outputId": "87499b8d-951e-4ec0-b8eb-50f68702c750",
        "colab": {
          "base_uri": "https://localhost:8080/"
        }
      },
      "source": [
        "autoencoder.summary()"
      ],
      "execution_count": 17,
      "outputs": [
        {
          "output_type": "stream",
          "text": [
            "Model: \"functional_1\"\n",
            "_________________________________________________________________\n",
            "Layer (type)                 Output Shape              Param #   \n",
            "=================================================================\n",
            "input_1 (InputLayer)         [(None, 28, 28, 1)]       0         \n",
            "_________________________________________________________________\n",
            "conv2d (Conv2D)              (None, 28, 28, 32)        320       \n",
            "_________________________________________________________________\n",
            "batch_normalization (BatchNo (None, 28, 28, 32)        128       \n",
            "_________________________________________________________________\n",
            "conv2d_1 (Conv2D)            (None, 28, 28, 32)        9248      \n",
            "_________________________________________________________________\n",
            "batch_normalization_1 (Batch (None, 28, 28, 32)        128       \n",
            "_________________________________________________________________\n",
            "max_pooling2d (MaxPooling2D) (None, 14, 14, 32)        0         \n",
            "_________________________________________________________________\n",
            "conv2d_2 (Conv2D)            (None, 14, 14, 64)        18496     \n",
            "_________________________________________________________________\n",
            "batch_normalization_2 (Batch (None, 14, 14, 64)        256       \n",
            "_________________________________________________________________\n",
            "conv2d_3 (Conv2D)            (None, 14, 14, 64)        36928     \n",
            "_________________________________________________________________\n",
            "batch_normalization_3 (Batch (None, 14, 14, 64)        256       \n",
            "_________________________________________________________________\n",
            "max_pooling2d_1 (MaxPooling2 (None, 7, 7, 64)          0         \n",
            "_________________________________________________________________\n",
            "conv2d_4 (Conv2D)            (None, 7, 7, 128)         73856     \n",
            "_________________________________________________________________\n",
            "batch_normalization_4 (Batch (None, 7, 7, 128)         512       \n",
            "_________________________________________________________________\n",
            "conv2d_5 (Conv2D)            (None, 7, 7, 128)         147584    \n",
            "_________________________________________________________________\n",
            "batch_normalization_5 (Batch (None, 7, 7, 128)         512       \n",
            "_________________________________________________________________\n",
            "conv2d_6 (Conv2D)            (None, 7, 7, 256)         295168    \n",
            "_________________________________________________________________\n",
            "batch_normalization_6 (Batch (None, 7, 7, 256)         1024      \n",
            "_________________________________________________________________\n",
            "conv2d_7 (Conv2D)            (None, 7, 7, 256)         590080    \n",
            "_________________________________________________________________\n",
            "batch_normalization_7 (Batch (None, 7, 7, 256)         1024      \n",
            "_________________________________________________________________\n",
            "conv2d_8 (Conv2D)            (None, 7, 7, 256)         590080    \n",
            "_________________________________________________________________\n",
            "batch_normalization_8 (Batch (None, 7, 7, 256)         1024      \n",
            "_________________________________________________________________\n",
            "conv2d_9 (Conv2D)            (None, 7, 7, 256)         590080    \n",
            "_________________________________________________________________\n",
            "batch_normalization_9 (Batch (None, 7, 7, 256)         1024      \n",
            "_________________________________________________________________\n",
            "conv2d_10 (Conv2D)           (None, 7, 7, 128)         295040    \n",
            "_________________________________________________________________\n",
            "batch_normalization_10 (Batc (None, 7, 7, 128)         512       \n",
            "_________________________________________________________________\n",
            "conv2d_11 (Conv2D)           (None, 7, 7, 128)         147584    \n",
            "_________________________________________________________________\n",
            "batch_normalization_11 (Batc (None, 7, 7, 128)         512       \n",
            "_________________________________________________________________\n",
            "up_sampling2d (UpSampling2D) (None, 14, 14, 128)       0         \n",
            "_________________________________________________________________\n",
            "conv2d_14 (Conv2D)           (None, 14, 14, 32)        36896     \n",
            "_________________________________________________________________\n",
            "batch_normalization_14 (Batc (None, 14, 14, 32)        128       \n",
            "_________________________________________________________________\n",
            "conv2d_15 (Conv2D)           (None, 14, 14, 32)        9248      \n",
            "_________________________________________________________________\n",
            "batch_normalization_15 (Batc (None, 14, 14, 32)        128       \n",
            "_________________________________________________________________\n",
            "up_sampling2d_1 (UpSampling2 (None, 28, 28, 32)        0         \n",
            "_________________________________________________________________\n",
            "conv2d_16 (Conv2D)           (None, 28, 28, 1)         289       \n",
            "=================================================================\n",
            "Total params: 2,848,065\n",
            "Trainable params: 2,844,481\n",
            "Non-trainable params: 3,584\n",
            "_________________________________________________________________\n"
          ],
          "name": "stdout"
        }
      ]
    },
    {
      "cell_type": "markdown",
      "metadata": {
        "id": "IIdLZ53JHrq_"
      },
      "source": [
        "It's finally time to train the model with Keras' fit() function! The model trains for 200 epochs. The fit() function will return a history object; By storing the result of this function in autoencoder_train, you can use it later to plot the loss function plot between training and validation which will help you to analyze your model's performance visually."
      ]
    },
    {
      "cell_type": "code",
      "metadata": {
        "id": "tscKaXx8HrrA",
        "outputId": "7c20f201-3a8d-471f-f69a-87d7e909065b",
        "colab": {
          "base_uri": "https://localhost:8080/"
        }
      },
      "source": [
        "autoencoder_train = autoencoder.fit(train_X, train_ground, batch_size=batch_size,epochs=epochs,verbose=1,validation_data=(valid_X, valid_ground))"
      ],
      "execution_count": 18,
      "outputs": [
        {
          "output_type": "stream",
          "text": [
            "Epoch 1/100\n",
            "94/94 [==============================] - 18s 196ms/step - loss: 0.1076 - val_loss: 0.0997\n",
            "Epoch 2/100\n",
            "94/94 [==============================] - 17s 185ms/step - loss: 0.0405 - val_loss: 0.1042\n",
            "Epoch 3/100\n",
            "94/94 [==============================] - 18s 186ms/step - loss: 0.0276 - val_loss: 0.1064\n",
            "Epoch 4/100\n",
            "94/94 [==============================] - 18s 189ms/step - loss: 0.0212 - val_loss: 0.1074\n",
            "Epoch 5/100\n",
            "94/94 [==============================] - 18s 191ms/step - loss: 0.0160 - val_loss: 0.1073\n",
            "Epoch 6/100\n",
            "94/94 [==============================] - 18s 193ms/step - loss: 0.0134 - val_loss: 0.1042\n",
            "Epoch 7/100\n",
            "94/94 [==============================] - 18s 191ms/step - loss: 0.0113 - val_loss: 0.0962\n",
            "Epoch 8/100\n",
            "94/94 [==============================] - 18s 191ms/step - loss: 0.0099 - val_loss: 0.0753\n",
            "Epoch 9/100\n",
            "94/94 [==============================] - 18s 190ms/step - loss: 0.0088 - val_loss: 0.0231\n",
            "Epoch 10/100\n",
            "94/94 [==============================] - 18s 191ms/step - loss: 0.0078 - val_loss: 0.0097\n",
            "Epoch 11/100\n",
            "94/94 [==============================] - 18s 192ms/step - loss: 0.0072 - val_loss: 0.0086\n",
            "Epoch 12/100\n",
            "94/94 [==============================] - 18s 192ms/step - loss: 0.0066 - val_loss: 0.0084\n",
            "Epoch 13/100\n",
            "94/94 [==============================] - 18s 192ms/step - loss: 0.0062 - val_loss: 0.0094\n",
            "Epoch 14/100\n",
            "94/94 [==============================] - 18s 192ms/step - loss: 0.0057 - val_loss: 0.0072\n",
            "Epoch 15/100\n",
            "94/94 [==============================] - 18s 191ms/step - loss: 0.0054 - val_loss: 0.0051\n",
            "Epoch 16/100\n",
            "94/94 [==============================] - 18s 191ms/step - loss: 0.0051 - val_loss: 0.0045\n",
            "Epoch 17/100\n",
            "94/94 [==============================] - 18s 192ms/step - loss: 0.0048 - val_loss: 0.0055\n",
            "Epoch 18/100\n",
            "94/94 [==============================] - 18s 192ms/step - loss: 0.0046 - val_loss: 0.0071\n",
            "Epoch 19/100\n",
            "94/94 [==============================] - 18s 191ms/step - loss: 0.0044 - val_loss: 0.0048\n",
            "Epoch 20/100\n",
            "94/94 [==============================] - 18s 192ms/step - loss: 0.0042 - val_loss: 0.0045\n",
            "Epoch 21/100\n",
            "94/94 [==============================] - 18s 192ms/step - loss: 0.0041 - val_loss: 0.0066\n",
            "Epoch 22/100\n",
            "94/94 [==============================] - 18s 192ms/step - loss: 0.0039 - val_loss: 0.0054\n",
            "Epoch 23/100\n",
            "94/94 [==============================] - 18s 192ms/step - loss: 0.0037 - val_loss: 0.0052\n",
            "Epoch 24/100\n",
            "94/94 [==============================] - 18s 192ms/step - loss: 0.0036 - val_loss: 0.0039\n",
            "Epoch 25/100\n",
            "94/94 [==============================] - 18s 192ms/step - loss: 0.0035 - val_loss: 0.0048\n",
            "Epoch 26/100\n",
            "94/94 [==============================] - 18s 192ms/step - loss: 0.0034 - val_loss: 0.0030\n",
            "Epoch 27/100\n",
            "94/94 [==============================] - 18s 192ms/step - loss: 0.0033 - val_loss: 0.0033\n",
            "Epoch 28/100\n",
            "94/94 [==============================] - 18s 192ms/step - loss: 0.0032 - val_loss: 0.0035\n",
            "Epoch 29/100\n",
            "94/94 [==============================] - 18s 191ms/step - loss: 0.0031 - val_loss: 0.0032\n",
            "Epoch 30/100\n",
            "94/94 [==============================] - 18s 192ms/step - loss: 0.0030 - val_loss: 0.0049\n",
            "Epoch 31/100\n",
            "94/94 [==============================] - 18s 192ms/step - loss: 0.0030 - val_loss: 0.0027\n",
            "Epoch 32/100\n",
            "94/94 [==============================] - 18s 192ms/step - loss: 0.0029 - val_loss: 0.0036\n",
            "Epoch 33/100\n",
            "94/94 [==============================] - 18s 191ms/step - loss: 0.0028 - val_loss: 0.0029\n",
            "Epoch 34/100\n",
            "94/94 [==============================] - 18s 192ms/step - loss: 0.0028 - val_loss: 0.0028\n",
            "Epoch 35/100\n",
            "94/94 [==============================] - 18s 191ms/step - loss: 0.0027 - val_loss: 0.0027\n",
            "Epoch 36/100\n",
            "94/94 [==============================] - 18s 192ms/step - loss: 0.0026 - val_loss: 0.0028\n",
            "Epoch 37/100\n",
            "94/94 [==============================] - 18s 192ms/step - loss: 0.0026 - val_loss: 0.0025\n",
            "Epoch 38/100\n",
            "94/94 [==============================] - 18s 192ms/step - loss: 0.0025 - val_loss: 0.0032\n",
            "Epoch 39/100\n",
            "94/94 [==============================] - 18s 192ms/step - loss: 0.0025 - val_loss: 0.0029\n",
            "Epoch 40/100\n",
            "94/94 [==============================] - 18s 192ms/step - loss: 0.0024 - val_loss: 0.0023\n",
            "Epoch 41/100\n",
            "94/94 [==============================] - 18s 192ms/step - loss: 0.0024 - val_loss: 0.0026\n",
            "Epoch 42/100\n",
            "94/94 [==============================] - 18s 192ms/step - loss: 0.0024 - val_loss: 0.0023\n",
            "Epoch 43/100\n",
            "94/94 [==============================] - 18s 192ms/step - loss: 0.0023 - val_loss: 0.0025\n",
            "Epoch 44/100\n",
            "94/94 [==============================] - 18s 192ms/step - loss: 0.0023 - val_loss: 0.0024\n",
            "Epoch 45/100\n",
            "94/94 [==============================] - 18s 192ms/step - loss: 0.0023 - val_loss: 0.0030\n",
            "Epoch 46/100\n",
            "94/94 [==============================] - 18s 192ms/step - loss: 0.0022 - val_loss: 0.0021\n",
            "Epoch 47/100\n",
            "94/94 [==============================] - 18s 192ms/step - loss: 0.0022 - val_loss: 0.0020\n",
            "Epoch 48/100\n",
            "94/94 [==============================] - 18s 192ms/step - loss: 0.0021 - val_loss: 0.0026\n",
            "Epoch 49/100\n",
            "94/94 [==============================] - 18s 192ms/step - loss: 0.0021 - val_loss: 0.0027\n",
            "Epoch 50/100\n",
            "94/94 [==============================] - 18s 192ms/step - loss: 0.0021 - val_loss: 0.0022\n",
            "Epoch 51/100\n",
            "94/94 [==============================] - 18s 192ms/step - loss: 0.0021 - val_loss: 0.0023\n",
            "Epoch 52/100\n",
            "94/94 [==============================] - 18s 192ms/step - loss: 0.0020 - val_loss: 0.0020\n",
            "Epoch 53/100\n",
            "94/94 [==============================] - 18s 192ms/step - loss: 0.0020 - val_loss: 0.0024\n",
            "Epoch 54/100\n",
            "94/94 [==============================] - 18s 192ms/step - loss: 0.0020 - val_loss: 0.0019\n",
            "Epoch 55/100\n",
            "94/94 [==============================] - 18s 192ms/step - loss: 0.0020 - val_loss: 0.0021\n",
            "Epoch 56/100\n",
            "94/94 [==============================] - 18s 192ms/step - loss: 0.0019 - val_loss: 0.0020\n",
            "Epoch 57/100\n",
            "94/94 [==============================] - 18s 192ms/step - loss: 0.0019 - val_loss: 0.0020\n",
            "Epoch 58/100\n",
            "94/94 [==============================] - 18s 192ms/step - loss: 0.0019 - val_loss: 0.0022\n",
            "Epoch 59/100\n",
            "94/94 [==============================] - 18s 192ms/step - loss: 0.0019 - val_loss: 0.0021\n",
            "Epoch 60/100\n",
            "94/94 [==============================] - 18s 192ms/step - loss: 0.0019 - val_loss: 0.0028\n",
            "Epoch 61/100\n",
            "94/94 [==============================] - 18s 191ms/step - loss: 0.0018 - val_loss: 0.0021\n",
            "Epoch 62/100\n",
            "94/94 [==============================] - 18s 192ms/step - loss: 0.0018 - val_loss: 0.0019\n",
            "Epoch 63/100\n",
            "94/94 [==============================] - 18s 192ms/step - loss: 0.0018 - val_loss: 0.0021\n",
            "Epoch 64/100\n",
            "94/94 [==============================] - 18s 192ms/step - loss: 0.0018 - val_loss: 0.0021\n",
            "Epoch 65/100\n",
            "94/94 [==============================] - 18s 192ms/step - loss: 0.0017 - val_loss: 0.0029\n",
            "Epoch 66/100\n",
            "94/94 [==============================] - 18s 192ms/step - loss: 0.0018 - val_loss: 0.0022\n",
            "Epoch 67/100\n",
            "94/94 [==============================] - 18s 192ms/step - loss: 0.0017 - val_loss: 0.0022\n",
            "Epoch 68/100\n",
            "94/94 [==============================] - 18s 192ms/step - loss: 0.0017 - val_loss: 0.0019\n",
            "Epoch 69/100\n",
            "94/94 [==============================] - 18s 192ms/step - loss: 0.0017 - val_loss: 0.0022\n",
            "Epoch 70/100\n",
            "94/94 [==============================] - 18s 192ms/step - loss: 0.0017 - val_loss: 0.0020\n",
            "Epoch 71/100\n",
            "94/94 [==============================] - 18s 192ms/step - loss: 0.0017 - val_loss: 0.0018\n",
            "Epoch 72/100\n",
            "94/94 [==============================] - 18s 192ms/step - loss: 0.0016 - val_loss: 0.0019\n",
            "Epoch 73/100\n",
            "94/94 [==============================] - 18s 192ms/step - loss: 0.0016 - val_loss: 0.0022\n",
            "Epoch 74/100\n",
            "94/94 [==============================] - 18s 192ms/step - loss: 0.0016 - val_loss: 0.0017\n",
            "Epoch 75/100\n",
            "94/94 [==============================] - 18s 192ms/step - loss: 0.0016 - val_loss: 0.0017\n",
            "Epoch 76/100\n",
            "94/94 [==============================] - 18s 192ms/step - loss: 0.0016 - val_loss: 0.0018\n",
            "Epoch 77/100\n",
            "94/94 [==============================] - 18s 192ms/step - loss: 0.0016 - val_loss: 0.0018\n",
            "Epoch 78/100\n",
            "94/94 [==============================] - 18s 192ms/step - loss: 0.0016 - val_loss: 0.0018\n",
            "Epoch 79/100\n",
            "94/94 [==============================] - 18s 192ms/step - loss: 0.0016 - val_loss: 0.0018\n",
            "Epoch 80/100\n",
            "94/94 [==============================] - 18s 192ms/step - loss: 0.0015 - val_loss: 0.0017\n",
            "Epoch 81/100\n",
            "94/94 [==============================] - 18s 192ms/step - loss: 0.0015 - val_loss: 0.0017\n",
            "Epoch 82/100\n",
            "94/94 [==============================] - 18s 192ms/step - loss: 0.0015 - val_loss: 0.0016\n",
            "Epoch 83/100\n",
            "94/94 [==============================] - 18s 191ms/step - loss: 0.0015 - val_loss: 0.0021\n",
            "Epoch 84/100\n",
            "94/94 [==============================] - 18s 192ms/step - loss: 0.0015 - val_loss: 0.0016\n",
            "Epoch 85/100\n",
            "94/94 [==============================] - 18s 192ms/step - loss: 0.0015 - val_loss: 0.0016\n",
            "Epoch 86/100\n",
            "94/94 [==============================] - 18s 192ms/step - loss: 0.0015 - val_loss: 0.0017\n",
            "Epoch 87/100\n",
            "94/94 [==============================] - 18s 192ms/step - loss: 0.0015 - val_loss: 0.0020\n",
            "Epoch 88/100\n",
            "94/94 [==============================] - 18s 192ms/step - loss: 0.0015 - val_loss: 0.0019\n",
            "Epoch 89/100\n",
            "94/94 [==============================] - 18s 192ms/step - loss: 0.0014 - val_loss: 0.0018\n",
            "Epoch 90/100\n",
            "94/94 [==============================] - 18s 192ms/step - loss: 0.0014 - val_loss: 0.0016\n",
            "Epoch 91/100\n",
            "94/94 [==============================] - 18s 192ms/step - loss: 0.0014 - val_loss: 0.0014\n",
            "Epoch 92/100\n",
            "94/94 [==============================] - 18s 192ms/step - loss: 0.0014 - val_loss: 0.0015\n",
            "Epoch 93/100\n",
            "94/94 [==============================] - 18s 192ms/step - loss: 0.0014 - val_loss: 0.0015\n",
            "Epoch 94/100\n",
            "94/94 [==============================] - 18s 192ms/step - loss: 0.0014 - val_loss: 0.0017\n",
            "Epoch 95/100\n",
            "94/94 [==============================] - 18s 192ms/step - loss: 0.0014 - val_loss: 0.0017\n",
            "Epoch 96/100\n",
            "94/94 [==============================] - 18s 192ms/step - loss: 0.0014 - val_loss: 0.0014\n",
            "Epoch 97/100\n",
            "94/94 [==============================] - 18s 192ms/step - loss: 0.0014 - val_loss: 0.0015\n",
            "Epoch 98/100\n",
            "94/94 [==============================] - 18s 192ms/step - loss: 0.0013 - val_loss: 0.0016\n",
            "Epoch 99/100\n",
            "94/94 [==============================] - 18s 191ms/step - loss: 0.0013 - val_loss: 0.0017\n",
            "Epoch 100/100\n",
            "94/94 [==============================] - 18s 191ms/step - loss: 0.0013 - val_loss: 0.0014\n"
          ],
          "name": "stdout"
        }
      ]
    },
    {
      "cell_type": "markdown",
      "metadata": {
        "id": "JU1d7hHFHrrF"
      },
      "source": [
        "Now, let's plot the loss plot between training and validation data to visualize the model performance."
      ]
    },
    {
      "cell_type": "code",
      "metadata": {
        "id": "PQVQXgNOHrrG",
        "outputId": "7e0446ee-5b82-468e-e54a-084b6a2abe12",
        "colab": {
          "base_uri": "https://localhost:8080/",
          "height": 281
        }
      },
      "source": [
        "loss = autoencoder_train.history['loss']\n",
        "val_loss = autoencoder_train.history['val_loss']\n",
        "epochs = range(100)\n",
        "plt.figure()\n",
        "plt.plot(epochs, loss, 'bo', label='Training loss')\n",
        "plt.plot(epochs, val_loss, 'b', label='Validation loss')\n",
        "plt.title('Training and validation loss')\n",
        "plt.legend()\n",
        "plt.show()"
      ],
      "execution_count": 19,
      "outputs": [
        {
          "output_type": "display_data",
          "data": {
            "image/png": "[encoded data removed]",
            "text/plain": [
              "<Figure size 432x288 with 1 Axes>"
            ]
          },
          "metadata": {
            "tags": [],
            "needs_background": "light"
          }
        }
      ]
    },
    {
      "cell_type": "markdown",
      "metadata": {
        "id": "E3lFxRdsHrrL"
      },
      "source": [
        "Save the Model\n",
        "\n",
        "Since you will need the encoder weights in your classification task, first let's save the complete autoencoder weights. You will learn how you can extract the encoder weights soon."
      ]
    },
    {
      "cell_type": "code",
      "metadata": {
        "id": "ZN7P1EyUHrrM"
      },
      "source": [
        "autoencoder.save_weights('autoencoder.h5')"
      ],
      "execution_count": 20,
      "outputs": []
    },
    {
      "cell_type": "markdown",
      "metadata": {
        "id": "FKFBe6EJHrrR"
      },
      "source": [
        "Segmenting the fashion mnist images\n",
        "\n",
        "Now you will be using the trained autoencoder's head, i.e., the encoder part and will be loading the weights of the autoencoder you just now trained but only in the encoder part of the model.\n",
        "\n",
        "You will add a few dense or fully connected layers to the encoder to classify fashion mnist images.\n",
        "\n",
        "    Let's first convert the labels into one-hot encoding vectors.\n",
        "\n",
        "    For those of you who do not know about one-hot encoding:\n",
        "\n",
        "    In one-hot encoding, you convert the categorical data into a vector of numbers. The reason why you convert the categorical data in one hot encoding is that machine learning algorithms cannot work with categorical data directly. You generate one boolean column for each category or class. Only one of these columns could take on the value 1 for each sample. Hence, the term one-hot encoding.\n",
        "\n",
        "    For your problem statement, the one hot encoding will be a row vector, and for each image, it will have a dimension of 1 x 10. The important thing to note here is that the vector consists of all zeros except for the class that it represents, and for that, it is 1.\n",
        "\n",
        "    So let's convert the labels into one-hot encoding vectors:"
      ]
    },
    {
      "cell_type": "code",
      "metadata": {
        "id": "3if_TZrhHrrW",
        "outputId": "c218d8a6-5a41-473f-c3bf-de5042a9006a",
        "colab": {
          "base_uri": "https://localhost:8080/"
        }
      },
      "source": [
        "# Change the labels from categorical to one-hot encoding\n",
        "train_Y_one_hot = to_categorical(train_labels)\n",
        "test_Y_one_hot = to_categorical(test_labels)\n",
        "\n",
        "# Display the change for category label using one-hot encoding\n",
        "print('Original label:', train_labels[0])\n",
        "print('After conversion to one-hot:', train_Y_one_hot[0])\n"
      ],
      "execution_count": 21,
      "outputs": [
        {
          "output_type": "stream",
          "text": [
            "Original label: 5\n",
            "After conversion to one-hot: [0. 0. 0. 0. 0. 1. 0. 0. 0. 0.]\n"
          ],
          "name": "stdout"
        }
      ]
    },
    {
      "cell_type": "markdown",
      "metadata": {
        "id": "wn1R8PqjHrrb"
      },
      "source": [
        "This last step is a crucial one which you all have done before as well which is splitting the data into training and validation in the autoencoder training phase. So let's quickly do that step for classification as well. Note that you will use the same random state that you used before and also this time you will pass your labels as well that you just now converted into a one-hot encoding vector."
      ]
    },
    {
      "cell_type": "code",
      "metadata": {
        "id": "pwtoRDCmHrrc"
      },
      "source": [
        "train_X,valid_X,train_label,valid_label = train_test_split(train_data,train_Y_one_hot,test_size=0.2,random_state=13)"
      ],
      "execution_count": 22,
      "outputs": []
    },
    {
      "cell_type": "markdown",
      "metadata": {
        "id": "h8TZAddzHrrh"
      },
      "source": [
        "Now, let's define the classification model. Remember that you will be using the exact same encoder part as you used in the autoencoder architecture."
      ]
    },
    {
      "cell_type": "markdown",
      "metadata": {
        "id": "2aSdELMpHrri"
      },
      "source": [
        "Let's define the fully connected layers that you will be stacking up with the encoder function."
      ]
    },
    {
      "cell_type": "code",
      "metadata": {
        "id": "dLI5BFbpHrrj"
      },
      "source": [
        "def fc(enco):\n",
        "    flat = Flatten()(enco)\n",
        "    den = Dense(128, activation='relu')(flat)\n",
        "    out = Dense(num_classes, activation='softmax')(den)\n",
        "    return out"
      ],
      "execution_count": 23,
      "outputs": []
    },
    {
      "cell_type": "code",
      "metadata": {
        "id": "SxoBnwaHHrrn"
      },
      "source": [
        "encode = encoder(input_img)\n",
        "full_model = Model(input_img,fc(encode))\n",
        "\n",
        "for l1,l2 in zip(full_model.layers[:19],autoencoder.layers[0:19]):\n",
        "    l1.set_weights(l2.get_weights())"
      ],
      "execution_count": 24,
      "outputs": []
    },
    {
      "cell_type": "markdown",
      "metadata": {
        "id": "_PoZ5IYgHrrs"
      },
      "source": [
        "Note: The next step is pretty important. In order to be sure whether the weights of the encoder part of the autoencoder are similar to the weights you loaded to the encoder function of the classification model, you should always print any one of the same layers weights of both the models. If they are not similar, then there is no use in using the autoencoder classification strategy.\n",
        "\n",
        "Let's print first layer weights of both the models."
      ]
    },
    {
      "cell_type": "code",
      "metadata": {
        "id": "bt1ShGlPHrru",
        "outputId": "41596fad-5757-4e03-a3ec-9cc908ca33b3",
        "colab": {
          "base_uri": "https://localhost:8080/"
        }
      },
      "source": [
        "autoencoder.get_weights()[0][1]"
      ],
      "execution_count": 25,
      "outputs": [
        {
          "output_type": "execute_result",
          "data": {
            "text/plain": [
              "array([[[-0.0083379 ,  0.13499899,  0.0767116 ,  0.14281382,\n",
              "          0.08690909,  0.01412672, -0.1648713 , -0.16019988,\n",
              "          0.16145569, -0.12350237,  0.11631704, -0.08246698,\n",
              "          0.01536729,  0.05924914,  0.05753591, -0.0246909 ,\n",
              "         -0.04370807, -0.09695242, -0.16863002,  0.151265  ,\n",
              "         -0.16872878, -0.15142916,  0.18508407,  0.11051865,\n",
              "          0.14291255, -0.16324595, -0.1125441 , -0.08253704,\n",
              "          0.01665224, -0.02181263, -0.05503053,  0.0628124 ]],\n",
              "\n",
              "       [[ 0.02059309, -0.09009703, -0.05844082, -0.02602769,\n",
              "         -0.14402296, -0.1080209 ,  0.06295667,  0.01508723,\n",
              "         -0.18197392,  0.08967108,  0.11531798, -0.02870249,\n",
              "          0.18389583,  0.14794375, -0.1584319 ,  0.12580602,\n",
              "          0.04684458,  0.01818597, -0.14063819,  0.16037717,\n",
              "         -0.01971513, -0.02501574, -0.1838897 ,  0.0600905 ,\n",
              "         -0.10783418,  0.05598485,  0.02454313, -0.14165959,\n",
              "          0.06939481, -0.17872022,  0.15064758,  0.10274293]],\n",
              "\n",
              "       [[-0.03834727, -0.24866226, -0.08505457, -0.15368308,\n",
              "         -0.00310907,  0.00795434,  0.05207726, -0.15589121,\n",
              "         -0.023108  ,  0.09917469, -0.04712093, -0.0535345 ,\n",
              "         -0.04930426, -0.01007832, -0.17182273,  0.04829108,\n",
              "         -0.0822337 , -0.16326548,  0.09268955,  0.08372949,\n",
              "          0.11115832, -0.13981567, -0.01050304, -0.18713522,\n",
              "         -0.09106376,  0.15586786, -0.12617196, -0.11033679,\n",
              "          0.13503572,  0.14724958,  0.18361045, -0.126945  ]]],\n",
              "      dtype=float32)"
            ]
          },
          "metadata": {
            "tags": []
          },
          "execution_count": 25
        }
      ]
    },
    {
      "cell_type": "code",
      "metadata": {
        "id": "khhne4sjHrrz",
        "outputId": "da4eb0cc-f948-4dd4-9f7b-dae4f8031fea",
        "colab": {
          "base_uri": "https://localhost:8080/"
        }
      },
      "source": [
        "full_model.get_weights()[0][1]"
      ],
      "execution_count": 26,
      "outputs": [
        {
          "output_type": "execute_result",
          "data": {
            "text/plain": [
              "array([[[-0.0083379 ,  0.13499899,  0.0767116 ,  0.14281382,\n",
              "          0.08690909,  0.01412672, -0.1648713 , -0.16019988,\n",
              "          0.16145569, -0.12350237,  0.11631704, -0.08246698,\n",
              "          0.01536729,  0.05924914,  0.05753591, -0.0246909 ,\n",
              "         -0.04370807, -0.09695242, -0.16863002,  0.151265  ,\n",
              "         -0.16872878, -0.15142916,  0.18508407,  0.11051865,\n",
              "          0.14291255, -0.16324595, -0.1125441 , -0.08253704,\n",
              "          0.01665224, -0.02181263, -0.05503053,  0.0628124 ]],\n",
              "\n",
              "       [[ 0.02059309, -0.09009703, -0.05844082, -0.02602769,\n",
              "         -0.14402296, -0.1080209 ,  0.06295667,  0.01508723,\n",
              "         -0.18197392,  0.08967108,  0.11531798, -0.02870249,\n",
              "          0.18389583,  0.14794375, -0.1584319 ,  0.12580602,\n",
              "          0.04684458,  0.01818597, -0.14063819,  0.16037717,\n",
              "         -0.01971513, -0.02501574, -0.1838897 ,  0.0600905 ,\n",
              "         -0.10783418,  0.05598485,  0.02454313, -0.14165959,\n",
              "          0.06939481, -0.17872022,  0.15064758,  0.10274293]],\n",
              "\n",
              "       [[-0.03834727, -0.24866226, -0.08505457, -0.15368308,\n",
              "         -0.00310907,  0.00795434,  0.05207726, -0.15589121,\n",
              "         -0.023108  ,  0.09917469, -0.04712093, -0.0535345 ,\n",
              "         -0.04930426, -0.01007832, -0.17182273,  0.04829108,\n",
              "         -0.0822337 , -0.16326548,  0.09268955,  0.08372949,\n",
              "          0.11115832, -0.13981567, -0.01050304, -0.18713522,\n",
              "         -0.09106376,  0.15586786, -0.12617196, -0.11033679,\n",
              "          0.13503572,  0.14724958,  0.18361045, -0.126945  ]]],\n",
              "      dtype=float32)"
            ]
          },
          "metadata": {
            "tags": []
          },
          "execution_count": 26
        }
      ]
    },
    {
      "cell_type": "markdown",
      "metadata": {
        "id": "X7nyf3mzHrr3"
      },
      "source": [
        "Voila! Both the arrays look exactly similar. So, without any further ado, let's compile the model and start the training.\n",
        "\n",
        "Next, you will make the encoder part i.e.the first nineteen layers of the model trainable false. Since the encoder part is already trained, you do not need to train it. You will only be training the Fully Connected part."
      ]
    },
    {
      "cell_type": "code",
      "metadata": {
        "id": "IQLzExNwHrr5"
      },
      "source": [
        "for layer in full_model.layers[0:19]:\n",
        "    layer.trainable = False\n"
      ],
      "execution_count": 27,
      "outputs": []
    },
    {
      "cell_type": "markdown",
      "metadata": {
        "id": "ksKSr2kcHrr-"
      },
      "source": [
        "Let's compile the model!"
      ]
    },
    {
      "cell_type": "code",
      "metadata": {
        "id": "PpeRquzjHrr_"
      },
      "source": [
        "full_model.compile(loss=keras.losses.categorical_crossentropy, optimizer=keras.optimizers.Adam(),metrics=['accuracy'])"
      ],
      "execution_count": 28,
      "outputs": []
    },
    {
      "cell_type": "markdown",
      "metadata": {
        "id": "_JagbFbNHrsE"
      },
      "source": [
        "Let's print the summary of the model as well. There should be non-trainable parameters as well since you made the first fifteen layers of the model non-trainable."
      ]
    },
    {
      "cell_type": "code",
      "metadata": {
        "id": "9eSKY9wgHrsE",
        "outputId": "bb028053-574c-430b-a2ba-e90a63a9a726",
        "colab": {
          "base_uri": "https://localhost:8080/"
        }
      },
      "source": [
        "full_model.summary()"
      ],
      "execution_count": 29,
      "outputs": [
        {
          "output_type": "stream",
          "text": [
            "Model: \"functional_3\"\n",
            "_________________________________________________________________\n",
            "Layer (type)                 Output Shape              Param #   \n",
            "=================================================================\n",
            "input_1 (InputLayer)         [(None, 28, 28, 1)]       0         \n",
            "_________________________________________________________________\n",
            "conv2d_17 (Conv2D)           (None, 28, 28, 32)        320       \n",
            "_________________________________________________________________\n",
            "batch_normalization_16 (Batc (None, 28, 28, 32)        128       \n",
            "_________________________________________________________________\n",
            "conv2d_18 (Conv2D)           (None, 28, 28, 32)        9248      \n",
            "_________________________________________________________________\n",
            "batch_normalization_17 (Batc (None, 28, 28, 32)        128       \n",
            "_________________________________________________________________\n",
            "max_pooling2d_2 (MaxPooling2 (None, 14, 14, 32)        0         \n",
            "_________________________________________________________________\n",
            "conv2d_19 (Conv2D)           (None, 14, 14, 64)        18496     \n",
            "_________________________________________________________________\n",
            "batch_normalization_18 (Batc (None, 14, 14, 64)        256       \n",
            "_________________________________________________________________\n",
            "conv2d_20 (Conv2D)           (None, 14, 14, 64)        36928     \n",
            "_________________________________________________________________\n",
            "batch_normalization_19 (Batc (None, 14, 14, 64)        256       \n",
            "_________________________________________________________________\n",
            "max_pooling2d_3 (MaxPooling2 (None, 7, 7, 64)          0         \n",
            "_________________________________________________________________\n",
            "conv2d_21 (Conv2D)           (None, 7, 7, 128)         73856     \n",
            "_________________________________________________________________\n",
            "batch_normalization_20 (Batc (None, 7, 7, 128)         512       \n",
            "_________________________________________________________________\n",
            "conv2d_22 (Conv2D)           (None, 7, 7, 128)         147584    \n",
            "_________________________________________________________________\n",
            "batch_normalization_21 (Batc (None, 7, 7, 128)         512       \n",
            "_________________________________________________________________\n",
            "conv2d_23 (Conv2D)           (None, 7, 7, 256)         295168    \n",
            "_________________________________________________________________\n",
            "batch_normalization_22 (Batc (None, 7, 7, 256)         1024      \n",
            "_________________________________________________________________\n",
            "conv2d_24 (Conv2D)           (None, 7, 7, 256)         590080    \n",
            "_________________________________________________________________\n",
            "batch_normalization_23 (Batc (None, 7, 7, 256)         1024      \n",
            "_________________________________________________________________\n",
            "flatten (Flatten)            (None, 12544)             0         \n",
            "_________________________________________________________________\n",
            "dense (Dense)                (None, 128)               1605760   \n",
            "_________________________________________________________________\n",
            "dense_1 (Dense)              (None, 10)                1290      \n",
            "=================================================================\n",
            "Total params: 2,782,570\n",
            "Trainable params: 1,607,050\n",
            "Non-trainable params: 1,175,520\n",
            "_________________________________________________________________\n"
          ],
          "name": "stdout"
        }
      ]
    },
    {
      "cell_type": "markdown",
      "metadata": {
        "id": "bVw-nVCWHrsK"
      },
      "source": [
        "Train the Model\n",
        "\n",
        "It's finally time to train the model with Keras' fit() function! The model trains for 10 epochs. The fit() function will return a history object; By storing the result of this function in fashion_train, you can use it later to plot the accuracy and loss function plots between training and validation which will help you to analyze your model's performance visually.\n",
        "\n"
      ]
    },
    {
      "cell_type": "code",
      "metadata": {
        "id": "5fEExuSjHrsL",
        "outputId": "4a477829-e916-4f5c-be6f-f96564fde0df",
        "colab": {
          "base_uri": "https://localhost:8080/"
        }
      },
      "source": [
        "classify_train = full_model.fit(train_X, train_label, batch_size=512,epochs=100,verbose=1,validation_data=(valid_X, valid_label))"
      ],
      "execution_count": 30,
      "outputs": [
        {
          "output_type": "stream",
          "text": [
            "Epoch 1/100\n",
            "94/94 [==============================] - 4s 41ms/step - loss: 0.2720 - accuracy: 0.9201 - val_loss: 0.1158 - val_accuracy: 0.9671\n",
            "Epoch 2/100\n",
            "94/94 [==============================] - 4s 38ms/step - loss: 0.0792 - accuracy: 0.9768 - val_loss: 0.0892 - val_accuracy: 0.9744\n",
            "Epoch 3/100\n",
            "94/94 [==============================] - 4s 38ms/step - loss: 0.0493 - accuracy: 0.9875 - val_loss: 0.0761 - val_accuracy: 0.9776\n",
            "Epoch 4/100\n",
            "94/94 [==============================] - 4s 38ms/step - loss: 0.0322 - accuracy: 0.9926 - val_loss: 0.0683 - val_accuracy: 0.9797\n",
            "Epoch 5/100\n",
            "94/94 [==============================] - 4s 38ms/step - loss: 0.0226 - accuracy: 0.9952 - val_loss: 0.0640 - val_accuracy: 0.9799\n",
            "Epoch 6/100\n",
            "94/94 [==============================] - 4s 38ms/step - loss: 0.0149 - accuracy: 0.9979 - val_loss: 0.0637 - val_accuracy: 0.9808\n",
            "Epoch 7/100\n",
            "94/94 [==============================] - 4s 38ms/step - loss: 0.0107 - accuracy: 0.9987 - val_loss: 0.0658 - val_accuracy: 0.9803\n",
            "Epoch 8/100\n",
            "94/94 [==============================] - 4s 38ms/step - loss: 0.0079 - accuracy: 0.9993 - val_loss: 0.0628 - val_accuracy: 0.9808\n",
            "Epoch 9/100\n",
            "94/94 [==============================] - 4s 38ms/step - loss: 0.0055 - accuracy: 0.9998 - val_loss: 0.0647 - val_accuracy: 0.9812\n",
            "Epoch 10/100\n",
            "94/94 [==============================] - 4s 38ms/step - loss: 0.0041 - accuracy: 0.9999 - val_loss: 0.0613 - val_accuracy: 0.9825\n",
            "Epoch 11/100\n",
            "94/94 [==============================] - 4s 38ms/step - loss: 0.0031 - accuracy: 1.0000 - val_loss: 0.0617 - val_accuracy: 0.9823\n",
            "Epoch 12/100\n",
            "94/94 [==============================] - 4s 38ms/step - loss: 0.0025 - accuracy: 1.0000 - val_loss: 0.0617 - val_accuracy: 0.9826\n",
            "Epoch 13/100\n",
            "94/94 [==============================] - 4s 38ms/step - loss: 0.0021 - accuracy: 1.0000 - val_loss: 0.0620 - val_accuracy: 0.9827\n",
            "Epoch 14/100\n",
            "94/94 [==============================] - 4s 38ms/step - loss: 0.0017 - accuracy: 1.0000 - val_loss: 0.0625 - val_accuracy: 0.9827\n",
            "Epoch 15/100\n",
            "94/94 [==============================] - 4s 38ms/step - loss: 0.0015 - accuracy: 1.0000 - val_loss: 0.0622 - val_accuracy: 0.9827\n",
            "Epoch 16/100\n",
            "94/94 [==============================] - 4s 38ms/step - loss: 0.0013 - accuracy: 1.0000 - val_loss: 0.0629 - val_accuracy: 0.9830\n",
            "Epoch 17/100\n",
            "94/94 [==============================] - 4s 38ms/step - loss: 0.0011 - accuracy: 1.0000 - val_loss: 0.0643 - val_accuracy: 0.9832\n",
            "Epoch 18/100\n",
            "94/94 [==============================] - 4s 37ms/step - loss: 9.8844e-04 - accuracy: 1.0000 - val_loss: 0.0644 - val_accuracy: 0.9829\n",
            "Epoch 19/100\n",
            "94/94 [==============================] - 4s 37ms/step - loss: 8.8150e-04 - accuracy: 1.0000 - val_loss: 0.0651 - val_accuracy: 0.9833\n",
            "Epoch 20/100\n",
            "94/94 [==============================] - 3s 37ms/step - loss: 7.8727e-04 - accuracy: 1.0000 - val_loss: 0.0652 - val_accuracy: 0.9830\n",
            "Epoch 21/100\n",
            "94/94 [==============================] - 4s 37ms/step - loss: 7.0599e-04 - accuracy: 1.0000 - val_loss: 0.0669 - val_accuracy: 0.9827\n",
            "Epoch 22/100\n",
            "94/94 [==============================] - 3s 37ms/step - loss: 6.3379e-04 - accuracy: 1.0000 - val_loss: 0.0662 - val_accuracy: 0.9831\n",
            "Epoch 23/100\n",
            "94/94 [==============================] - 4s 38ms/step - loss: 5.6799e-04 - accuracy: 1.0000 - val_loss: 0.0665 - val_accuracy: 0.9827\n",
            "Epoch 24/100\n",
            "94/94 [==============================] - 4s 37ms/step - loss: 5.1659e-04 - accuracy: 1.0000 - val_loss: 0.0671 - val_accuracy: 0.9826\n",
            "Epoch 25/100\n",
            "94/94 [==============================] - 4s 38ms/step - loss: 4.7189e-04 - accuracy: 1.0000 - val_loss: 0.0677 - val_accuracy: 0.9827\n",
            "Epoch 26/100\n",
            "94/94 [==============================] - 4s 38ms/step - loss: 4.2706e-04 - accuracy: 1.0000 - val_loss: 0.0685 - val_accuracy: 0.9829\n",
            "Epoch 27/100\n",
            "94/94 [==============================] - 4s 38ms/step - loss: 3.9123e-04 - accuracy: 1.0000 - val_loss: 0.0685 - val_accuracy: 0.9828\n",
            "Epoch 28/100\n",
            "94/94 [==============================] - 4s 37ms/step - loss: 3.5898e-04 - accuracy: 1.0000 - val_loss: 0.0685 - val_accuracy: 0.9832\n",
            "Epoch 29/100\n",
            "94/94 [==============================] - 4s 38ms/step - loss: 3.2724e-04 - accuracy: 1.0000 - val_loss: 0.0696 - val_accuracy: 0.9831\n",
            "Epoch 30/100\n",
            "94/94 [==============================] - 4s 37ms/step - loss: 3.0253e-04 - accuracy: 1.0000 - val_loss: 0.0697 - val_accuracy: 0.9833\n",
            "Epoch 31/100\n",
            "94/94 [==============================] - 4s 38ms/step - loss: 2.7800e-04 - accuracy: 1.0000 - val_loss: 0.0703 - val_accuracy: 0.9830\n",
            "Epoch 32/100\n",
            "94/94 [==============================] - 4s 38ms/step - loss: 2.5471e-04 - accuracy: 1.0000 - val_loss: 0.0714 - val_accuracy: 0.9830\n",
            "Epoch 33/100\n",
            "94/94 [==============================] - 4s 37ms/step - loss: 2.3773e-04 - accuracy: 1.0000 - val_loss: 0.0715 - val_accuracy: 0.9828\n",
            "Epoch 34/100\n",
            "94/94 [==============================] - 4s 37ms/step - loss: 2.1934e-04 - accuracy: 1.0000 - val_loss: 0.0718 - val_accuracy: 0.9832\n",
            "Epoch 35/100\n",
            "94/94 [==============================] - 4s 38ms/step - loss: 2.0267e-04 - accuracy: 1.0000 - val_loss: 0.0718 - val_accuracy: 0.9834\n",
            "Epoch 36/100\n",
            "94/94 [==============================] - 4s 38ms/step - loss: 1.8786e-04 - accuracy: 1.0000 - val_loss: 0.0726 - val_accuracy: 0.9836\n",
            "Epoch 37/100\n",
            "94/94 [==============================] - 4s 37ms/step - loss: 1.7534e-04 - accuracy: 1.0000 - val_loss: 0.0728 - val_accuracy: 0.9832\n",
            "Epoch 38/100\n",
            "94/94 [==============================] - 4s 37ms/step - loss: 1.6095e-04 - accuracy: 1.0000 - val_loss: 0.0732 - val_accuracy: 0.9834\n",
            "Epoch 39/100\n",
            "94/94 [==============================] - 4s 38ms/step - loss: 1.5069e-04 - accuracy: 1.0000 - val_loss: 0.0732 - val_accuracy: 0.9837\n",
            "Epoch 40/100\n",
            "94/94 [==============================] - 4s 38ms/step - loss: 1.4069e-04 - accuracy: 1.0000 - val_loss: 0.0741 - val_accuracy: 0.9834\n",
            "Epoch 41/100\n",
            "94/94 [==============================] - 4s 38ms/step - loss: 1.3241e-04 - accuracy: 1.0000 - val_loss: 0.0740 - val_accuracy: 0.9835\n",
            "Epoch 42/100\n",
            "94/94 [==============================] - 4s 38ms/step - loss: 1.2243e-04 - accuracy: 1.0000 - val_loss: 0.0750 - val_accuracy: 0.9835\n",
            "Epoch 43/100\n",
            "94/94 [==============================] - 4s 38ms/step - loss: 1.1477e-04 - accuracy: 1.0000 - val_loss: 0.0749 - val_accuracy: 0.9833\n",
            "Epoch 44/100\n",
            "94/94 [==============================] - 4s 38ms/step - loss: 1.0725e-04 - accuracy: 1.0000 - val_loss: 0.0755 - val_accuracy: 0.9835\n",
            "Epoch 45/100\n",
            "94/94 [==============================] - 4s 37ms/step - loss: 1.0068e-04 - accuracy: 1.0000 - val_loss: 0.0761 - val_accuracy: 0.9835\n",
            "Epoch 46/100\n",
            "94/94 [==============================] - 4s 38ms/step - loss: 9.4020e-05 - accuracy: 1.0000 - val_loss: 0.0764 - val_accuracy: 0.9834\n",
            "Epoch 47/100\n",
            "94/94 [==============================] - 4s 38ms/step - loss: 8.7949e-05 - accuracy: 1.0000 - val_loss: 0.0763 - val_accuracy: 0.9837\n",
            "Epoch 48/100\n",
            "94/94 [==============================] - 4s 38ms/step - loss: 8.2291e-05 - accuracy: 1.0000 - val_loss: 0.0771 - val_accuracy: 0.9836\n",
            "Epoch 49/100\n",
            "94/94 [==============================] - 4s 37ms/step - loss: 7.7394e-05 - accuracy: 1.0000 - val_loss: 0.0774 - val_accuracy: 0.9837\n",
            "Epoch 50/100\n",
            "94/94 [==============================] - 4s 37ms/step - loss: 7.2770e-05 - accuracy: 1.0000 - val_loss: 0.0783 - val_accuracy: 0.9837\n",
            "Epoch 51/100\n",
            "94/94 [==============================] - 4s 38ms/step - loss: 6.8522e-05 - accuracy: 1.0000 - val_loss: 0.0777 - val_accuracy: 0.9837\n",
            "Epoch 52/100\n",
            "94/94 [==============================] - 4s 38ms/step - loss: 6.4111e-05 - accuracy: 1.0000 - val_loss: 0.0784 - val_accuracy: 0.9835\n",
            "Epoch 53/100\n",
            "94/94 [==============================] - 4s 38ms/step - loss: 6.0522e-05 - accuracy: 1.0000 - val_loss: 0.0790 - val_accuracy: 0.9835\n",
            "Epoch 54/100\n",
            "94/94 [==============================] - 4s 37ms/step - loss: 5.6587e-05 - accuracy: 1.0000 - val_loss: 0.0796 - val_accuracy: 0.9836\n",
            "Epoch 55/100\n",
            "94/94 [==============================] - 4s 38ms/step - loss: 5.3520e-05 - accuracy: 1.0000 - val_loss: 0.0794 - val_accuracy: 0.9839\n",
            "Epoch 56/100\n",
            "94/94 [==============================] - 4s 37ms/step - loss: 5.0498e-05 - accuracy: 1.0000 - val_loss: 0.0800 - val_accuracy: 0.9837\n",
            "Epoch 57/100\n",
            "94/94 [==============================] - 4s 38ms/step - loss: 4.7444e-05 - accuracy: 1.0000 - val_loss: 0.0801 - val_accuracy: 0.9836\n",
            "Epoch 58/100\n",
            "94/94 [==============================] - 4s 38ms/step - loss: 4.4837e-05 - accuracy: 1.0000 - val_loss: 0.0804 - val_accuracy: 0.9837\n",
            "Epoch 59/100\n",
            "94/94 [==============================] - 4s 38ms/step - loss: 4.1955e-05 - accuracy: 1.0000 - val_loss: 0.0813 - val_accuracy: 0.9835\n",
            "Epoch 60/100\n",
            "94/94 [==============================] - 4s 38ms/step - loss: 3.9690e-05 - accuracy: 1.0000 - val_loss: 0.0817 - val_accuracy: 0.9835\n",
            "Epoch 61/100\n",
            "94/94 [==============================] - 4s 38ms/step - loss: 3.7338e-05 - accuracy: 1.0000 - val_loss: 0.0816 - val_accuracy: 0.9836\n",
            "Epoch 62/100\n",
            "94/94 [==============================] - 4s 38ms/step - loss: 3.5433e-05 - accuracy: 1.0000 - val_loss: 0.0826 - val_accuracy: 0.9837\n",
            "Epoch 63/100\n",
            "94/94 [==============================] - 4s 38ms/step - loss: 3.3384e-05 - accuracy: 1.0000 - val_loss: 0.0827 - val_accuracy: 0.9838\n",
            "Epoch 64/100\n",
            "94/94 [==============================] - 4s 38ms/step - loss: 3.1357e-05 - accuracy: 1.0000 - val_loss: 0.0827 - val_accuracy: 0.9837\n",
            "Epoch 65/100\n",
            "94/94 [==============================] - 4s 38ms/step - loss: 2.9796e-05 - accuracy: 1.0000 - val_loss: 0.0835 - val_accuracy: 0.9834\n",
            "Epoch 66/100\n",
            "94/94 [==============================] - 4s 38ms/step - loss: 2.7958e-05 - accuracy: 1.0000 - val_loss: 0.0835 - val_accuracy: 0.9836\n",
            "Epoch 67/100\n",
            "94/94 [==============================] - 4s 38ms/step - loss: 2.6448e-05 - accuracy: 1.0000 - val_loss: 0.0838 - val_accuracy: 0.9837\n",
            "Epoch 68/100\n",
            "94/94 [==============================] - 4s 38ms/step - loss: 2.4939e-05 - accuracy: 1.0000 - val_loss: 0.0843 - val_accuracy: 0.9836\n",
            "Epoch 69/100\n",
            "94/94 [==============================] - 4s 38ms/step - loss: 2.3748e-05 - accuracy: 1.0000 - val_loss: 0.0849 - val_accuracy: 0.9837\n",
            "Epoch 70/100\n",
            "94/94 [==============================] - 4s 38ms/step - loss: 2.2341e-05 - accuracy: 1.0000 - val_loss: 0.0854 - val_accuracy: 0.9837\n",
            "Epoch 71/100\n",
            "94/94 [==============================] - 4s 38ms/step - loss: 2.1158e-05 - accuracy: 1.0000 - val_loss: 0.0855 - val_accuracy: 0.9835\n",
            "Epoch 72/100\n",
            "94/94 [==============================] - 4s 38ms/step - loss: 1.9845e-05 - accuracy: 1.0000 - val_loss: 0.0856 - val_accuracy: 0.9836\n",
            "Epoch 73/100\n",
            "94/94 [==============================] - 4s 38ms/step - loss: 1.8834e-05 - accuracy: 1.0000 - val_loss: 0.0859 - val_accuracy: 0.9837\n",
            "Epoch 74/100\n",
            "94/94 [==============================] - 4s 38ms/step - loss: 1.7925e-05 - accuracy: 1.0000 - val_loss: 0.0860 - val_accuracy: 0.9838\n",
            "Epoch 75/100\n",
            "94/94 [==============================] - 4s 38ms/step - loss: 1.7034e-05 - accuracy: 1.0000 - val_loss: 0.0865 - val_accuracy: 0.9837\n",
            "Epoch 76/100\n",
            "94/94 [==============================] - 4s 38ms/step - loss: 1.6087e-05 - accuracy: 1.0000 - val_loss: 0.0869 - val_accuracy: 0.9836\n",
            "Epoch 77/100\n",
            "94/94 [==============================] - 4s 38ms/step - loss: 1.5210e-05 - accuracy: 1.0000 - val_loss: 0.0872 - val_accuracy: 0.9836\n",
            "Epoch 78/100\n",
            "94/94 [==============================] - 4s 38ms/step - loss: 1.4309e-05 - accuracy: 1.0000 - val_loss: 0.0876 - val_accuracy: 0.9837\n",
            "Epoch 79/100\n",
            "94/94 [==============================] - 4s 38ms/step - loss: 1.3563e-05 - accuracy: 1.0000 - val_loss: 0.0885 - val_accuracy: 0.9835\n",
            "Epoch 80/100\n",
            "94/94 [==============================] - 4s 38ms/step - loss: 1.2859e-05 - accuracy: 1.0000 - val_loss: 0.0880 - val_accuracy: 0.9839\n",
            "Epoch 81/100\n",
            "94/94 [==============================] - 4s 38ms/step - loss: 1.2164e-05 - accuracy: 1.0000 - val_loss: 0.0885 - val_accuracy: 0.9837\n",
            "Epoch 82/100\n",
            "94/94 [==============================] - 4s 38ms/step - loss: 1.1600e-05 - accuracy: 1.0000 - val_loss: 0.0890 - val_accuracy: 0.9839\n",
            "Epoch 83/100\n",
            "94/94 [==============================] - 4s 38ms/step - loss: 1.0927e-05 - accuracy: 1.0000 - val_loss: 0.0893 - val_accuracy: 0.9837\n",
            "Epoch 84/100\n",
            "94/94 [==============================] - 4s 38ms/step - loss: 1.0411e-05 - accuracy: 1.0000 - val_loss: 0.0896 - val_accuracy: 0.9840\n",
            "Epoch 85/100\n",
            "94/94 [==============================] - 4s 38ms/step - loss: 9.8026e-06 - accuracy: 1.0000 - val_loss: 0.0899 - val_accuracy: 0.9837\n",
            "Epoch 86/100\n",
            "94/94 [==============================] - 4s 38ms/step - loss: 9.3335e-06 - accuracy: 1.0000 - val_loss: 0.0905 - val_accuracy: 0.9840\n",
            "Epoch 87/100\n",
            "94/94 [==============================] - 4s 38ms/step - loss: 8.8565e-06 - accuracy: 1.0000 - val_loss: 0.0905 - val_accuracy: 0.9838\n",
            "Epoch 88/100\n",
            "94/94 [==============================] - 4s 38ms/step - loss: 8.3735e-06 - accuracy: 1.0000 - val_loss: 0.0910 - val_accuracy: 0.9836\n",
            "Epoch 89/100\n",
            "94/94 [==============================] - 4s 38ms/step - loss: 7.9830e-06 - accuracy: 1.0000 - val_loss: 0.0913 - val_accuracy: 0.9836\n",
            "Epoch 90/100\n",
            "94/94 [==============================] - 4s 38ms/step - loss: 7.5598e-06 - accuracy: 1.0000 - val_loss: 0.0917 - val_accuracy: 0.9838\n",
            "Epoch 91/100\n",
            "94/94 [==============================] - 4s 38ms/step - loss: 7.1548e-06 - accuracy: 1.0000 - val_loss: 0.0922 - val_accuracy: 0.9839\n",
            "Epoch 92/100\n",
            "94/94 [==============================] - 4s 38ms/step - loss: 6.7904e-06 - accuracy: 1.0000 - val_loss: 0.0923 - val_accuracy: 0.9839\n",
            "Epoch 93/100\n",
            "94/94 [==============================] - 4s 38ms/step - loss: 6.4431e-06 - accuracy: 1.0000 - val_loss: 0.0926 - val_accuracy: 0.9837\n",
            "Epoch 94/100\n",
            "94/94 [==============================] - 4s 38ms/step - loss: 6.1197e-06 - accuracy: 1.0000 - val_loss: 0.0931 - val_accuracy: 0.9838\n",
            "Epoch 95/100\n",
            "94/94 [==============================] - 4s 38ms/step - loss: 5.7986e-06 - accuracy: 1.0000 - val_loss: 0.0935 - val_accuracy: 0.9838\n",
            "Epoch 96/100\n",
            "94/94 [==============================] - 4s 38ms/step - loss: 5.5086e-06 - accuracy: 1.0000 - val_loss: 0.0936 - val_accuracy: 0.9839\n",
            "Epoch 97/100\n",
            "94/94 [==============================] - 4s 38ms/step - loss: 5.2268e-06 - accuracy: 1.0000 - val_loss: 0.0939 - val_accuracy: 0.9839\n",
            "Epoch 98/100\n",
            "94/94 [==============================] - 4s 38ms/step - loss: 4.9755e-06 - accuracy: 1.0000 - val_loss: 0.0943 - val_accuracy: 0.9840\n",
            "Epoch 99/100\n",
            "94/94 [==============================] - 4s 38ms/step - loss: 4.7363e-06 - accuracy: 1.0000 - val_loss: 0.0950 - val_accuracy: 0.9841\n",
            "Epoch 100/100\n",
            "94/94 [==============================] - 4s 38ms/step - loss: 4.5089e-06 - accuracy: 1.0000 - val_loss: 0.0950 - val_accuracy: 0.9838\n"
          ],
          "name": "stdout"
        }
      ]
    },
    {
      "cell_type": "markdown",
      "metadata": {
        "id": "O8L_moCuHrsP"
      },
      "source": [
        "Let's save the classification model"
      ]
    },
    {
      "cell_type": "code",
      "metadata": {
        "id": "BQLBeJ-DHrsQ"
      },
      "source": [
        "full_model.save_weights('autoencoder_classification.h5')"
      ],
      "execution_count": 31,
      "outputs": []
    },
    {
      "cell_type": "markdown",
      "metadata": {
        "id": "Kueq_f5zHrsV"
      },
      "source": [
        " Next, you will re-train the model by making the first nineteen layers trainable as True instead of keeping them False! So, let's quickly do that."
      ]
    },
    {
      "cell_type": "code",
      "metadata": {
        "id": "3mz-aEouHrsW"
      },
      "source": [
        "for layer in full_model.layers[0:19]:\n",
        "    layer.trainable = True\n",
        "\n",
        "    full_model.compile(loss=keras.losses.categorical_crossentropy, optimizer=keras.optimizers.Adam(),metrics=['accuracy'])"
      ],
      "execution_count": 32,
      "outputs": []
    },
    {
      "cell_type": "markdown",
      "metadata": {
        "id": "tDKfJI_MHrsb"
      },
      "source": [
        "Now let's train the entire model for one last time!"
      ]
    },
    {
      "cell_type": "code",
      "metadata": {
        "id": "I0-oHVnSHrsc",
        "outputId": "f6721816-14d1-4731-f7a6-58c545dbb3ee",
        "colab": {
          "base_uri": "https://localhost:8080/"
        }
      },
      "source": [
        "classify_train = full_model.fit(train_X, train_label, batch_size=512,epochs=100,verbose=1,validation_data=(valid_X, valid_label))"
      ],
      "execution_count": 33,
      "outputs": [
        {
          "output_type": "stream",
          "text": [
            "Epoch 1/100\n",
            "94/94 [==============================] - 11s 116ms/step - loss: 0.0276 - accuracy: 0.9940 - val_loss: 0.1728 - val_accuracy: 0.9728\n",
            "Epoch 2/100\n",
            "94/94 [==============================] - 11s 113ms/step - loss: 0.0228 - accuracy: 0.9947 - val_loss: 0.1245 - val_accuracy: 0.9827\n",
            "Epoch 3/100\n",
            "94/94 [==============================] - 11s 113ms/step - loss: 0.0129 - accuracy: 0.9967 - val_loss: 0.1507 - val_accuracy: 0.9776\n",
            "Epoch 4/100\n",
            "94/94 [==============================] - 11s 114ms/step - loss: 0.0071 - accuracy: 0.9979 - val_loss: 0.1385 - val_accuracy: 0.9803\n",
            "Epoch 5/100\n",
            "94/94 [==============================] - 11s 114ms/step - loss: 0.0084 - accuracy: 0.9976 - val_loss: 0.1304 - val_accuracy: 0.9820\n",
            "Epoch 6/100\n",
            "94/94 [==============================] - 11s 114ms/step - loss: 0.0125 - accuracy: 0.9967 - val_loss: 0.1671 - val_accuracy: 0.9788\n",
            "Epoch 7/100\n",
            "94/94 [==============================] - 11s 114ms/step - loss: 0.0115 - accuracy: 0.9971 - val_loss: 0.1336 - val_accuracy: 0.9794\n",
            "Epoch 8/100\n",
            "94/94 [==============================] - 11s 114ms/step - loss: 0.0063 - accuracy: 0.9982 - val_loss: 0.1301 - val_accuracy: 0.9841\n",
            "Epoch 9/100\n",
            "94/94 [==============================] - 11s 114ms/step - loss: 0.0040 - accuracy: 0.9987 - val_loss: 0.1412 - val_accuracy: 0.9835\n",
            "Epoch 10/100\n",
            "94/94 [==============================] - 11s 113ms/step - loss: 0.0032 - accuracy: 0.9993 - val_loss: 0.1246 - val_accuracy: 0.9844\n",
            "Epoch 11/100\n",
            "94/94 [==============================] - 11s 113ms/step - loss: 0.0027 - accuracy: 0.9992 - val_loss: 0.1356 - val_accuracy: 0.9831\n",
            "Epoch 12/100\n",
            "94/94 [==============================] - 11s 113ms/step - loss: 0.0042 - accuracy: 0.9990 - val_loss: 0.1290 - val_accuracy: 0.9827\n",
            "Epoch 13/100\n",
            "94/94 [==============================] - 11s 113ms/step - loss: 0.0034 - accuracy: 0.9990 - val_loss: 0.1558 - val_accuracy: 0.9829\n",
            "Epoch 14/100\n",
            "94/94 [==============================] - 11s 113ms/step - loss: 0.0058 - accuracy: 0.9983 - val_loss: 0.1502 - val_accuracy: 0.9810\n",
            "Epoch 15/100\n",
            "94/94 [==============================] - 11s 113ms/step - loss: 0.0106 - accuracy: 0.9976 - val_loss: 0.2429 - val_accuracy: 0.9659\n",
            "Epoch 16/100\n",
            "94/94 [==============================] - 11s 113ms/step - loss: 0.0140 - accuracy: 0.9967 - val_loss: 0.1286 - val_accuracy: 0.9811\n",
            "Epoch 17/100\n",
            "94/94 [==============================] - 11s 113ms/step - loss: 0.0059 - accuracy: 0.9985 - val_loss: 0.0948 - val_accuracy: 0.9850\n",
            "Epoch 18/100\n",
            "94/94 [==============================] - 11s 113ms/step - loss: 0.0036 - accuracy: 0.9991 - val_loss: 0.0862 - val_accuracy: 0.9865\n",
            "Epoch 19/100\n",
            "94/94 [==============================] - 11s 114ms/step - loss: 0.0023 - accuracy: 0.9992 - val_loss: 0.1126 - val_accuracy: 0.9868\n",
            "Epoch 20/100\n",
            "94/94 [==============================] - 11s 114ms/step - loss: 0.0041 - accuracy: 0.9989 - val_loss: 0.1309 - val_accuracy: 0.9823\n",
            "Epoch 21/100\n",
            "94/94 [==============================] - 11s 114ms/step - loss: 0.0041 - accuracy: 0.9989 - val_loss: 0.1311 - val_accuracy: 0.9847\n",
            "Epoch 22/100\n",
            "94/94 [==============================] - 11s 114ms/step - loss: 0.0054 - accuracy: 0.9986 - val_loss: 0.1135 - val_accuracy: 0.9859\n",
            "Epoch 23/100\n",
            "94/94 [==============================] - 11s 114ms/step - loss: 0.0041 - accuracy: 0.9988 - val_loss: 0.1046 - val_accuracy: 0.9862\n",
            "Epoch 24/100\n",
            "94/94 [==============================] - 11s 114ms/step - loss: 0.0052 - accuracy: 0.9986 - val_loss: 0.1148 - val_accuracy: 0.9831\n",
            "Epoch 25/100\n",
            "94/94 [==============================] - 11s 114ms/step - loss: 0.0019 - accuracy: 0.9993 - val_loss: 0.1195 - val_accuracy: 0.9865\n",
            "Epoch 26/100\n",
            "94/94 [==============================] - 11s 114ms/step - loss: 0.0025 - accuracy: 0.9991 - val_loss: 0.0971 - val_accuracy: 0.9866\n",
            "Epoch 27/100\n",
            "94/94 [==============================] - 11s 114ms/step - loss: 0.0021 - accuracy: 0.9995 - val_loss: 0.1717 - val_accuracy: 0.9805\n",
            "Epoch 28/100\n",
            "94/94 [==============================] - 11s 113ms/step - loss: 0.0027 - accuracy: 0.9991 - val_loss: 0.1127 - val_accuracy: 0.9872\n",
            "Epoch 29/100\n",
            "94/94 [==============================] - 11s 114ms/step - loss: 0.0068 - accuracy: 0.9988 - val_loss: 0.1364 - val_accuracy: 0.9851\n",
            "Epoch 30/100\n",
            "94/94 [==============================] - 11s 113ms/step - loss: 0.0059 - accuracy: 0.9985 - val_loss: 0.1078 - val_accuracy: 0.9853\n",
            "Epoch 31/100\n",
            "94/94 [==============================] - 11s 113ms/step - loss: 0.0044 - accuracy: 0.9988 - val_loss: 0.1234 - val_accuracy: 0.9852\n",
            "Epoch 32/100\n",
            "94/94 [==============================] - 11s 113ms/step - loss: 0.0032 - accuracy: 0.9992 - val_loss: 0.1256 - val_accuracy: 0.9859\n",
            "Epoch 33/100\n",
            "94/94 [==============================] - 11s 113ms/step - loss: 0.0033 - accuracy: 0.9992 - val_loss: 0.1538 - val_accuracy: 0.9848\n",
            "Epoch 34/100\n",
            "94/94 [==============================] - 11s 114ms/step - loss: 0.0037 - accuracy: 0.9993 - val_loss: 0.1330 - val_accuracy: 0.9840\n",
            "Epoch 35/100\n",
            "94/94 [==============================] - 11s 114ms/step - loss: 0.0031 - accuracy: 0.9992 - val_loss: 0.1612 - val_accuracy: 0.9814\n",
            "Epoch 36/100\n",
            "94/94 [==============================] - 11s 114ms/step - loss: 0.0071 - accuracy: 0.9986 - val_loss: 0.1274 - val_accuracy: 0.9838\n",
            "Epoch 37/100\n",
            "94/94 [==============================] - 11s 113ms/step - loss: 0.0072 - accuracy: 0.9985 - val_loss: 0.1600 - val_accuracy: 0.9778\n",
            "Epoch 38/100\n",
            "94/94 [==============================] - 11s 114ms/step - loss: 0.0049 - accuracy: 0.9989 - val_loss: 0.0874 - val_accuracy: 0.9867\n",
            "Epoch 39/100\n",
            "94/94 [==============================] - 11s 114ms/step - loss: 0.0033 - accuracy: 0.9991 - val_loss: 0.1005 - val_accuracy: 0.9869\n",
            "Epoch 40/100\n",
            "94/94 [==============================] - 11s 113ms/step - loss: 0.0035 - accuracy: 0.9992 - val_loss: 0.1646 - val_accuracy: 0.9827\n",
            "Epoch 41/100\n",
            "94/94 [==============================] - 11s 114ms/step - loss: 0.0026 - accuracy: 0.9993 - val_loss: 0.0929 - val_accuracy: 0.9870\n",
            "Epoch 42/100\n",
            "94/94 [==============================] - 11s 114ms/step - loss: 0.0023 - accuracy: 0.9994 - val_loss: 0.0992 - val_accuracy: 0.9867\n",
            "Epoch 43/100\n",
            "94/94 [==============================] - 11s 114ms/step - loss: 0.0012 - accuracy: 0.9996 - val_loss: 0.1290 - val_accuracy: 0.9822\n",
            "Epoch 44/100\n",
            "94/94 [==============================] - 11s 114ms/step - loss: 0.0016 - accuracy: 0.9996 - val_loss: 0.1068 - val_accuracy: 0.9873\n",
            "Epoch 45/100\n",
            "94/94 [==============================] - 11s 114ms/step - loss: 2.3731e-04 - accuracy: 0.9999 - val_loss: 0.1141 - val_accuracy: 0.9883\n",
            "Epoch 46/100\n",
            "94/94 [==============================] - 11s 113ms/step - loss: 2.1770e-05 - accuracy: 1.0000 - val_loss: 0.1071 - val_accuracy: 0.9885\n",
            "Epoch 47/100\n",
            "94/94 [==============================] - 11s 114ms/step - loss: 2.6434e-06 - accuracy: 1.0000 - val_loss: 0.1037 - val_accuracy: 0.9887\n",
            "Epoch 48/100\n",
            "94/94 [==============================] - 11s 113ms/step - loss: 1.9821e-06 - accuracy: 1.0000 - val_loss: 0.1027 - val_accuracy: 0.9889\n",
            "Epoch 49/100\n",
            "94/94 [==============================] - 11s 113ms/step - loss: 1.6887e-06 - accuracy: 1.0000 - val_loss: 0.1024 - val_accuracy: 0.9888\n",
            "Epoch 50/100\n",
            "94/94 [==============================] - 11s 113ms/step - loss: 1.3948e-06 - accuracy: 1.0000 - val_loss: 0.1024 - val_accuracy: 0.9888\n",
            "Epoch 51/100\n",
            "94/94 [==============================] - 11s 113ms/step - loss: 1.2838e-06 - accuracy: 1.0000 - val_loss: 0.1025 - val_accuracy: 0.9888\n",
            "Epoch 52/100\n",
            "94/94 [==============================] - 11s 113ms/step - loss: 1.1216e-06 - accuracy: 1.0000 - val_loss: 0.1026 - val_accuracy: 0.9888\n",
            "Epoch 53/100\n",
            "94/94 [==============================] - 11s 114ms/step - loss: 1.0007e-06 - accuracy: 1.0000 - val_loss: 0.1028 - val_accuracy: 0.9888\n",
            "Epoch 54/100\n",
            "94/94 [==============================] - 11s 114ms/step - loss: 9.2241e-07 - accuracy: 1.0000 - val_loss: 0.1029 - val_accuracy: 0.9888\n",
            "Epoch 55/100\n",
            "94/94 [==============================] - 11s 114ms/step - loss: 8.7484e-07 - accuracy: 1.0000 - val_loss: 0.1030 - val_accuracy: 0.9888\n",
            "Epoch 56/100\n",
            "94/94 [==============================] - 11s 113ms/step - loss: 7.8515e-07 - accuracy: 1.0000 - val_loss: 0.1031 - val_accuracy: 0.9888\n",
            "Epoch 57/100\n",
            "94/94 [==============================] - 11s 114ms/step - loss: 7.2653e-07 - accuracy: 1.0000 - val_loss: 0.1032 - val_accuracy: 0.9888\n",
            "Epoch 58/100\n",
            "94/94 [==============================] - 11s 114ms/step - loss: 6.6498e-07 - accuracy: 1.0000 - val_loss: 0.1033 - val_accuracy: 0.9888\n",
            "Epoch 59/100\n",
            "94/94 [==============================] - 11s 114ms/step - loss: 6.1050e-07 - accuracy: 1.0000 - val_loss: 0.1034 - val_accuracy: 0.9888\n",
            "Epoch 60/100\n",
            "94/94 [==============================] - 11s 114ms/step - loss: 5.9466e-07 - accuracy: 1.0000 - val_loss: 0.1035 - val_accuracy: 0.9888\n",
            "Epoch 61/100\n",
            "94/94 [==============================] - 11s 114ms/step - loss: 5.4016e-07 - accuracy: 1.0000 - val_loss: 0.1036 - val_accuracy: 0.9888\n",
            "Epoch 62/100\n",
            "94/94 [==============================] - 11s 114ms/step - loss: 5.1380e-07 - accuracy: 1.0000 - val_loss: 0.1037 - val_accuracy: 0.9888\n",
            "Epoch 63/100\n",
            "94/94 [==============================] - 11s 114ms/step - loss: 4.9448e-07 - accuracy: 1.0000 - val_loss: 0.1038 - val_accuracy: 0.9888\n",
            "Epoch 64/100\n",
            "94/94 [==============================] - 11s 114ms/step - loss: 4.7303e-07 - accuracy: 1.0000 - val_loss: 0.1039 - val_accuracy: 0.9888\n",
            "Epoch 65/100\n",
            "94/94 [==============================] - 11s 114ms/step - loss: 4.2846e-07 - accuracy: 1.0000 - val_loss: 0.1040 - val_accuracy: 0.9889\n",
            "Epoch 66/100\n",
            "94/94 [==============================] - 11s 114ms/step - loss: 4.2092e-07 - accuracy: 1.0000 - val_loss: 0.1041 - val_accuracy: 0.9889\n",
            "Epoch 67/100\n",
            "94/94 [==============================] - 11s 114ms/step - loss: 3.9957e-07 - accuracy: 1.0000 - val_loss: 0.1042 - val_accuracy: 0.9889\n",
            "Epoch 68/100\n",
            "94/94 [==============================] - 11s 114ms/step - loss: 3.6601e-07 - accuracy: 1.0000 - val_loss: 0.1043 - val_accuracy: 0.9889\n",
            "Epoch 69/100\n",
            "94/94 [==============================] - 11s 113ms/step - loss: 3.5910e-07 - accuracy: 1.0000 - val_loss: 0.1044 - val_accuracy: 0.9889\n",
            "Epoch 70/100\n",
            "94/94 [==============================] - 11s 114ms/step - loss: 3.4468e-07 - accuracy: 1.0000 - val_loss: 0.1045 - val_accuracy: 0.9889\n",
            "Epoch 71/100\n",
            "94/94 [==============================] - 11s 114ms/step - loss: 3.1271e-07 - accuracy: 1.0000 - val_loss: 0.1046 - val_accuracy: 0.9889\n",
            "Epoch 72/100\n",
            "94/94 [==============================] - 11s 114ms/step - loss: 3.0516e-07 - accuracy: 1.0000 - val_loss: 0.1047 - val_accuracy: 0.9889\n",
            "Epoch 73/100\n",
            "94/94 [==============================] - 11s 114ms/step - loss: 2.9003e-07 - accuracy: 1.0000 - val_loss: 0.1048 - val_accuracy: 0.9889\n",
            "Epoch 74/100\n",
            "94/94 [==============================] - 11s 114ms/step - loss: 2.8528e-07 - accuracy: 1.0000 - val_loss: 0.1049 - val_accuracy: 0.9890\n",
            "Epoch 75/100\n",
            "94/94 [==============================] - 11s 114ms/step - loss: 2.6731e-07 - accuracy: 1.0000 - val_loss: 0.1050 - val_accuracy: 0.9890\n",
            "Epoch 76/100\n",
            "94/94 [==============================] - 11s 114ms/step - loss: 2.4846e-07 - accuracy: 1.0000 - val_loss: 0.1051 - val_accuracy: 0.9890\n",
            "Epoch 77/100\n",
            "94/94 [==============================] - 11s 114ms/step - loss: 2.4171e-07 - accuracy: 1.0000 - val_loss: 0.1052 - val_accuracy: 0.9890\n",
            "Epoch 78/100\n",
            "94/94 [==============================] - 11s 114ms/step - loss: 2.2501e-07 - accuracy: 1.0000 - val_loss: 0.1053 - val_accuracy: 0.9890\n",
            "Epoch 79/100\n",
            "94/94 [==============================] - 11s 114ms/step - loss: 2.1034e-07 - accuracy: 1.0000 - val_loss: 0.1054 - val_accuracy: 0.9890\n",
            "Epoch 80/100\n",
            "94/94 [==============================] - 11s 114ms/step - loss: 2.0696e-07 - accuracy: 1.0000 - val_loss: 0.1055 - val_accuracy: 0.9890\n",
            "Epoch 81/100\n",
            "94/94 [==============================] - 11s 114ms/step - loss: 1.9704e-07 - accuracy: 1.0000 - val_loss: 0.1056 - val_accuracy: 0.9890\n",
            "Epoch 82/100\n",
            "94/94 [==============================] - 11s 115ms/step - loss: 1.8566e-07 - accuracy: 1.0000 - val_loss: 0.1057 - val_accuracy: 0.9890\n",
            "Epoch 83/100\n",
            "94/94 [==============================] - 11s 115ms/step - loss: 1.7771e-07 - accuracy: 1.0000 - val_loss: 0.1058 - val_accuracy: 0.9890\n",
            "Epoch 84/100\n",
            "94/94 [==============================] - 11s 114ms/step - loss: 1.6924e-07 - accuracy: 1.0000 - val_loss: 0.1059 - val_accuracy: 0.9890\n",
            "Epoch 85/100\n",
            "94/94 [==============================] - 11s 114ms/step - loss: 1.6693e-07 - accuracy: 1.0000 - val_loss: 0.1060 - val_accuracy: 0.9890\n",
            "Epoch 86/100\n",
            "94/94 [==============================] - 11s 114ms/step - loss: 1.5297e-07 - accuracy: 1.0000 - val_loss: 0.1061 - val_accuracy: 0.9889\n",
            "Epoch 87/100\n",
            "94/94 [==============================] - 11s 114ms/step - loss: 1.4927e-07 - accuracy: 1.0000 - val_loss: 0.1062 - val_accuracy: 0.9889\n",
            "Epoch 88/100\n",
            "94/94 [==============================] - 11s 114ms/step - loss: 1.4033e-07 - accuracy: 1.0000 - val_loss: 0.1063 - val_accuracy: 0.9890\n",
            "Epoch 89/100\n",
            "94/94 [==============================] - 11s 114ms/step - loss: 1.3310e-07 - accuracy: 1.0000 - val_loss: 0.1064 - val_accuracy: 0.9889\n",
            "Epoch 90/100\n",
            "94/94 [==============================] - 11s 114ms/step - loss: 1.2730e-07 - accuracy: 1.0000 - val_loss: 0.1065 - val_accuracy: 0.9889\n",
            "Epoch 91/100\n",
            "94/94 [==============================] - 11s 114ms/step - loss: 1.2303e-07 - accuracy: 1.0000 - val_loss: 0.1066 - val_accuracy: 0.9889\n",
            "Epoch 92/100\n",
            "94/94 [==============================] - 11s 114ms/step - loss: 1.1946e-07 - accuracy: 1.0000 - val_loss: 0.1067 - val_accuracy: 0.9889\n",
            "Epoch 93/100\n",
            "94/94 [==============================] - 11s 114ms/step - loss: 1.1564e-07 - accuracy: 1.0000 - val_loss: 0.1068 - val_accuracy: 0.9889\n",
            "Epoch 94/100\n",
            "94/94 [==============================] - 11s 113ms/step - loss: 1.1131e-07 - accuracy: 1.0000 - val_loss: 0.1069 - val_accuracy: 0.9889\n",
            "Epoch 95/100\n",
            "94/94 [==============================] - 11s 114ms/step - loss: 1.0530e-07 - accuracy: 1.0000 - val_loss: 0.1070 - val_accuracy: 0.9889\n",
            "Epoch 96/100\n",
            "94/94 [==============================] - 11s 114ms/step - loss: 1.0250e-07 - accuracy: 1.0000 - val_loss: 0.1071 - val_accuracy: 0.9889\n",
            "Epoch 97/100\n",
            "94/94 [==============================] - 11s 114ms/step - loss: 9.2640e-08 - accuracy: 1.0000 - val_loss: 0.1072 - val_accuracy: 0.9889\n",
            "Epoch 98/100\n",
            "94/94 [==============================] - 11s 114ms/step - loss: 8.9361e-08 - accuracy: 1.0000 - val_loss: 0.1073 - val_accuracy: 0.9889\n",
            "Epoch 99/100\n",
            "94/94 [==============================] - 11s 114ms/step - loss: 8.4876e-08 - accuracy: 1.0000 - val_loss: 0.1074 - val_accuracy: 0.9889\n",
            "Epoch 100/100\n",
            "94/94 [==============================] - 11s 114ms/step - loss: 8.3980e-08 - accuracy: 1.0000 - val_loss: 0.1075 - val_accuracy: 0.9889\n"
          ],
          "name": "stdout"
        }
      ]
    },
    {
      "cell_type": "markdown",
      "metadata": {
        "id": "-poynZU_Hrsf"
      },
      "source": [
        "Let's save the model for one last time."
      ]
    },
    {
      "cell_type": "code",
      "metadata": {
        "id": "EIvW4OFZHrsg"
      },
      "source": [
        "full_model.save_weights('classification_complete.h5')"
      ],
      "execution_count": 34,
      "outputs": []
    },
    {
      "cell_type": "markdown",
      "metadata": {
        "id": "9_nWWyGLHrsj"
      },
      "source": [
        "Let's put your model evaluation into perspective and plot the accuracy and loss plots between training and validation data:"
      ]
    },
    {
      "cell_type": "code",
      "metadata": {
        "id": "2DYrgPw6Hrsk",
        "outputId": "f2d367f5-96e0-4be4-d3e2-d63652adfdad",
        "colab": {
          "base_uri": "https://localhost:8080/",
          "height": 545
        }
      },
      "source": [
        "accuracy = classify_train.history['accuracy']\n",
        "val_accuracy = classify_train.history['val_accuracy']\n",
        "loss = classify_train.history['loss']\n",
        "val_loss = classify_train.history['val_loss']\n",
        "epochs = range(len(accuracy))\n",
        "plt.plot(epochs, accuracy, 'bo', label='Training accuracy')\n",
        "plt.plot(epochs, val_accuracy, 'b', label='Validation accuracy')\n",
        "plt.title('Training and validation accuracy')\n",
        "plt.legend()\n",
        "plt.figure()\n",
        "plt.plot(epochs, loss, 'bo', label='Training loss')\n",
        "plt.plot(epochs, val_loss, 'b', label='Validation loss')\n",
        "plt.title('Training and validation loss')\n",
        "plt.legend()\n",
        "plt.show()"
      ],
      "execution_count": 35,
      "outputs": [
        {
          "output_type": "display_data",
          "data": {
            "image/png": "[encoded data removed]",
            "text/plain": [
              "<Figure size 432x288 with 1 Axes>"
            ]
          },
          "metadata": {
            "tags": [],
            "needs_background": "light"
          }
        },
        {
          "output_type": "display_data",
          "data": {
            "image/png": "[encoded data removed]",
            "text/plain": [
              "<Figure size 432x288 with 1 Axes>"
            ]
          },
          "metadata": {
            "tags": [],
            "needs_background": "light"
          }
        }
      ]
    },
    {
      "cell_type": "markdown",
      "metadata": {
        "id": "2GA78iVoHrsn"
      },
      "source": [
        "Model Evaluation on the Test Set\n",
        "\n",
        "Finally, let's also evaluate your model on test data and see how it performs!\n",
        "\n"
      ]
    },
    {
      "cell_type": "code",
      "metadata": {
        "id": "QwRhYdbBHrsp",
        "outputId": "1ba5ae26-1a0f-4d36-fe87-4efa046ab3b3",
        "colab": {
          "base_uri": "https://localhost:8080/"
        }
      },
      "source": [
        "test_eval = full_model.evaluate(test_data, test_Y_one_hot, verbose=0)\n",
        "\n",
        "print('Test loss:', test_eval[0])\n",
        "print('Test accuracy:', test_eval[1])"
      ],
      "execution_count": 36,
      "outputs": [
        {
          "output_type": "stream",
          "text": [
            "Test loss: 0.10453889518976212\n",
            "Test accuracy: 0.9890999794006348\n"
          ],
          "name": "stdout"
        }
      ]
    },
    {
      "cell_type": "markdown",
      "metadata": {
        "id": "qw2K9zMjHrs-"
      },
      "source": [
        "Predict Labels"
      ]
    },
    {
      "cell_type": "code",
      "metadata": {
        "id": "dLBzyUKoHrs-"
      },
      "source": [
        "predicted_classes = full_model.predict(test_data)"
      ],
      "execution_count": 37,
      "outputs": []
    },
    {
      "cell_type": "markdown",
      "metadata": {
        "id": "fNNTN7muHrtB"
      },
      "source": [
        "Since the predictions you get are floating point values, it will not be feasible to compare the predicted labels with true test labels. So, you will round off the output which will convert the float values into an integer. Further, you will use np.argmax() to select the index number which has a higher value in a row.\n",
        "\n",
        "For example, let's assume a prediction for one test image to be [0 1 0 0 0 0 0 0 0 0], the output for this should be a class label 1.\n",
        "\n"
      ]
    },
    {
      "cell_type": "code",
      "metadata": {
        "id": "CqoMjnpAHrtC",
        "outputId": "eb612580-39fd-4211-e831-bc9b950980fc",
        "colab": {
          "base_uri": "https://localhost:8080/"
        }
      },
      "source": [
        "predicted_classes = np.argmax(np.round(predicted_classes),axis=1)\n",
        "predicted_classes.shape, test_labels.shape"
      ],
      "execution_count": 38,
      "outputs": [
        {
          "output_type": "execute_result",
          "data": {
            "text/plain": [
              "((10000,), (10000,))"
            ]
          },
          "metadata": {
            "tags": []
          },
          "execution_count": 38
        }
      ]
    },
    {
      "cell_type": "code",
      "metadata": {
        "id": "M1tGqD-xHrtF",
        "outputId": "0996af3f-4c27-4140-9b2e-68ec7419d54b",
        "colab": {
          "base_uri": "https://localhost:8080/",
          "height": 314
        }
      },
      "source": [
        "correct = np.where(predicted_classes==test_labels)[0]\n",
        "print (\"Found %d correct labels\" % len(correct))\n",
        "for i, correct in enumerate(correct[:9]):\n",
        "    plt.subplot(3,3,i+1)\n",
        "    plt.imshow(test_data[correct].reshape(28,28), cmap='gray', interpolation='none')\n",
        "    plt.title(\"Predicted {}, Class {}\".format(predicted_classes[correct], test_labels[correct]))\n",
        "    plt.tight_layout()"
      ],
      "execution_count": 39,
      "outputs": [
        {
          "output_type": "stream",
          "text": [
            "Found 9889 correct labels\n"
          ],
          "name": "stdout"
        },
        {
          "output_type": "display_data",
          "data": {
            "image/png": "[encoded data removed]",
            "text/plain": [
              "<Figure size 432x288 with 9 Axes>"
            ]
          },
          "metadata": {
            "tags": [],
            "needs_background": "light"
          }
        }
      ]
    },
    {
      "cell_type": "code",
      "metadata": {
        "id": "tswuHUydHrtI",
        "outputId": "dc4384b0-e873-47a6-e4e4-ada6ce1a7715",
        "colab": {
          "base_uri": "https://localhost:8080/",
          "height": 314
        }
      },
      "source": [
        "incorrect = np.where(predicted_classes!=test_labels)[0]\n",
        "print (\"Found %d incorrect labels\" % len(incorrect))\n",
        "for i, incorrect in enumerate(incorrect[:9]):\n",
        "    plt.subplot(3,3,i+1)\n",
        "    plt.imshow(test_data[incorrect].reshape(28,28), cmap='gray', interpolation='none')\n",
        "    plt.title(\"Predicted {}, Class {}\".format(predicted_classes[incorrect], test_labels[incorrect]))\n",
        "    plt.tight_layout()"
      ],
      "execution_count": 40,
      "outputs": [
        {
          "output_type": "stream",
          "text": [
            "Found 111 incorrect labels\n"
          ],
          "name": "stdout"
        },
        {
          "output_type": "display_data",
          "data": {
            "image/png": "[encoded data removed]",
            "text/plain": [
              "<Figure size 432x288 with 9 Axes>"
            ]
          },
          "metadata": {
            "tags": [],
            "needs_background": "light"
          }
        }
      ]
    },
    {
      "cell_type": "markdown",
      "metadata": {
        "id": "r81zYC8nHrtM"
      },
      "source": [
        "Classification Report\n",
        "\n",
        "Classification report will help you in identifying the misclassified classes in more detail. You will be able to observe for which class the model performed bad out of the given ten classes.\n",
        "\n"
      ]
    },
    {
      "cell_type": "code",
      "metadata": {
        "id": "EdTA7VA4HrtN",
        "outputId": "cc422016-ed70-4158-f9a9-8b10d7a13839",
        "colab": {
          "base_uri": "https://localhost:8080/"
        }
      },
      "source": [
        "from sklearn.metrics import classification_report\n",
        "target_names = [\"Class {}\".format(i) for i in range(num_classes)]\n",
        "print(classification_report(test_labels, predicted_classes, target_names=target_names))"
      ],
      "execution_count": 41,
      "outputs": [
        {
          "output_type": "stream",
          "text": [
            "              precision    recall  f1-score   support\n",
            "\n",
            "     Class 0       0.99      0.99      0.99       980\n",
            "     Class 1       1.00      0.99      1.00      1135\n",
            "     Class 2       0.99      0.99      0.99      1032\n",
            "     Class 3       0.98      0.99      0.99      1010\n",
            "     Class 4       0.99      0.99      0.99       982\n",
            "     Class 5       0.99      0.99      0.99       892\n",
            "     Class 6       0.99      0.99      0.99       958\n",
            "     Class 7       0.99      0.99      0.99      1028\n",
            "     Class 8       0.99      0.98      0.99       974\n",
            "     Class 9       0.99      0.98      0.99      1009\n",
            "\n",
            "    accuracy                           0.99     10000\n",
            "   macro avg       0.99      0.99      0.99     10000\n",
            "weighted avg       0.99      0.99      0.99     10000\n",
            "\n"
          ],
          "name": "stdout"
        }
      ]
    },
    {
      "cell_type": "code",
      "metadata": {
        "id": "Fp5dMAR2HrtQ"
      },
      "source": [
        ""
      ],
      "execution_count": null,
      "outputs": []
    }
  ]
}