{
  "nbformat": 4,
  "nbformat_minor": 0,
  "metadata": {
    "kernelspec": {
      "display_name": "Python 3",
      "language": "python",
      "name": "python3"
    },
    "language_info": {
      "codemirror_mode": {
        "name": "ipython",
        "version": 3
      },
      "file_extension": ".py",
      "mimetype": "text/x-python",
      "name": "python",
      "nbconvert_exporter": "python",
      "pygments_lexer": "ipython3",
      "version": "3.8.3"
    },
    "colab": {
      "name": "Untitled1.ipynb",
      "provenance": [],
      "toc_visible": true
    },
    "accelerator": "GPU"
  },
  "cells": [
    {
      "cell_type": "markdown",
      "metadata": {
        "id": "rs7PuA8iHro0"
      },
      "source": [
        "# Autoencoder as a Classifier using Fashion-MNIST Dataset"
      ]
    },
    {
      "cell_type": "markdown",
      "metadata": {
        "id": "-l7o39HTHro4"
      },
      "source": [
        "## Tous kodikes en tous etrexa giati itan na pari para polli ora.Apoti ekatalava en oti zita stin ergasia pano kato.To dataset en polla paromoio ara en nomizo na xriasti na allaksoume je polla "
      ]
    },
    {
      "cell_type": "markdown",
      "metadata": {
        "id": "P58-O9moHro7"
      },
      "source": [
        "Import necessary libraries"
      ]
    },
    {
      "cell_type": "code",
      "metadata": {
        "id": "J3gbZdYNHro9",
        "outputId": "8d72a54e-8c76-4975-e6ac-aed05c49cdf7",
        "colab": {
          "base_uri": "https://localhost:8080/"
        }
      },
      "source": [
        "from google.colab import drive\n",
        "drive.mount('/content/drive')\n",
        "import keras\n",
        "from matplotlib import pyplot as plt\n",
        "import numpy as np\n",
        "import gzip\n",
        "%matplotlib inline\n",
        "from keras.models import Model\n",
        "from keras.optimizers import RMSprop\n",
        "from keras.layers import Input,Dense,Flatten,Dropout,merge,Reshape,Conv2D,MaxPooling2D,UpSampling2D,Conv2DTranspose\n",
        "from keras.layers.normalization import BatchNormalization\n",
        "from keras.models import Model,Sequential\n",
        "from keras.callbacks import ModelCheckpoint\n",
        "from keras.optimizers import Adadelta, RMSprop,SGD,Adam\n",
        "from keras import regularizers\n",
        "from keras import backend as K\n",
        "from keras.utils import to_categorical"
      ],
      "execution_count": 1,
      "outputs": [
        {
          "output_type": "stream",
          "text": [
            "Mounted at /content/drive\n"
          ],
          "name": "stdout"
        }
      ]
    },
    {
      "cell_type": "markdown",
      "metadata": {
        "id": "PyuxiNYMHrpO"
      },
      "source": [
        "Function to read the data"
      ]
    },
    {
      "cell_type": "code",
      "metadata": {
        "id": "_sKptFtmHrpQ"
      },
      "source": [
        "def extract_data(filename, num_images):\n",
        "    with gzip.open(filename) as bytestream:\n",
        "        bytestream.read(16)\n",
        "        buf = bytestream.read(28 * 28 * num_images)\n",
        "        data = np.frombuffer(buf, dtype=np.uint8).astype(np.float32)\n",
        "        data = data.reshape(num_images, 28,28)\n",
        "        return data\n"
      ],
      "execution_count": 2,
      "outputs": []
    },
    {
      "cell_type": "code",
      "metadata": {
        "id": "gTYuUPDeHrpY"
      },
      "source": [
        "train_data = extract_data('/content/train-images-idx3-ubyte.gz',60000)\n",
        "test_data = extract_data('/content/t10k-images-idx3-ubyte.gz', 10000)"
      ],
      "execution_count": 5,
      "outputs": []
    },
    {
      "cell_type": "markdown",
      "metadata": {
        "id": "NZtzdxg1Hrph"
      },
      "source": [
        "Function to read labels"
      ]
    },
    {
      "cell_type": "code",
      "metadata": {
        "id": "v05ZippzHrpi"
      },
      "source": [
        "def extract_labels(filename, num_images):\n",
        "    with gzip.open(filename) as bytestream:\n",
        "        bytestream.read(8)\n",
        "        buf = bytestream.read(1 * num_images)\n",
        "        labels = np.frombuffer(buf, dtype=np.uint8).astype(np.int64)\n",
        "        return labels"
      ],
      "execution_count": 6,
      "outputs": []
    },
    {
      "cell_type": "code",
      "metadata": {
        "id": "OFRwx93NHrpq"
      },
      "source": [
        "train_labels = extract_labels('/content/train-labels-idx1-ubyte.gz',60000)\n",
        "test_labels = extract_labels('/content/t10k-labels-idx1-ubyte.gz',10000)"
      ],
      "execution_count": 7,
      "outputs": []
    },
    {
      "cell_type": "markdown",
      "metadata": {
        "id": "ghiZiXaZHrpz"
      },
      "source": [
        "Data Exploration\n",
        "\n",
        "Let's now analyze how images in the dataset look like and also see the dimension of the images with the help of the NumPy array attribute .shape:"
      ]
    },
    {
      "cell_type": "code",
      "metadata": {
        "id": "yH-uVRUoHrp1",
        "outputId": "9beb6ea8-4de5-423b-acd7-95250b8ee096",
        "colab": {
          "base_uri": "https://localhost:8080/"
        }
      },
      "source": [
        "# Shapes of training set\n",
        "print(\"Training set (images) shape: {shape}\".format(shape=train_data.shape))\n",
        "\n",
        "# Shapes of test set\n",
        "print(\"Test set (images) shape: {shape}\".format(shape=test_data.shape))"
      ],
      "execution_count": 8,
      "outputs": [
        {
          "output_type": "stream",
          "text": [
            "Training set (images) shape: (60000, 28, 28)\n",
            "Test set (images) shape: (10000, 28, 28)\n"
          ],
          "name": "stdout"
        }
      ]
    },
    {
      "cell_type": "markdown",
      "metadata": {
        "id": "dWhd5zBXHrp9"
      },
      "source": [
        "From the above output, you can see that the training data has a shape of 60000 x 28 x 28 since there are 60,000 training samples each of 28 x 28 dimensional matrix. Similarly, the test data has a shape of 10000 x 28 x 28 since there are 10,000 testing samples.\n",
        "\n",
        "Note that in the task of reconstructing using convolutional autoencoder you won't need training and testing labels. Your training images will both act as the input as well as the ground truth similar to the labels you have in classification task.\n",
        "\n",
        "But for the classification task you will also need your labels along with the images which you will be doing later on in the tutorial. Even though the task at hand will only be dealing with the training and testing images. However, for exploration purposes, which might give you a better intuition about the data, you'll make use of the labels.\n",
        "\n",
        "Let's create a dictionary that will have class names with their corresponding categorical class labels:"
      ]
    },
    {
      "cell_type": "code",
      "metadata": {
        "id": "SC8HjN3hHrp_"
      },
      "source": [
        "# Create dictionary of target classes\n",
        "label_dict = {\n",
        " 0: '0',\n",
        " 1: '1',\n",
        " 2: '2',\n",
        " 3: '3',\n",
        " 4: '4',\n",
        " 5: '5',\n",
        " 6: '6',\n",
        " 7: '7',\n",
        " 8: '8',\n",
        " 9: '9',\n",
        "}"
      ],
      "execution_count": 9,
      "outputs": []
    },
    {
      "cell_type": "markdown",
      "metadata": {
        "id": "CoS6JSU3HrqE"
      },
      "source": [
        "Now, let's take a look at a couple of the images in your dataset:"
      ]
    },
    {
      "cell_type": "code",
      "metadata": {
        "id": "t6_Gv88UHrqF",
        "outputId": "a0d0117b-72f6-4841-d945-624a14366e7b",
        "colab": {
          "base_uri": "https://localhost:8080/",
          "height": 208
        }
      },
      "source": [
        "plt.figure(figsize=[5,5])\n",
        "\n",
        "# Display the first image in training data\n",
        "plt.subplot(121)\n",
        "curr_img = np.reshape(train_data[10], (28,28))\n",
        "curr_lbl = train_labels[10]\n",
        "plt.imshow(curr_img, cmap='gray')\n",
        "plt.title(\"(Label: \" + str(label_dict[curr_lbl]) + \")\")\n",
        "\n",
        "# Display the first image in testing data\n",
        "plt.subplot(122)\n",
        "curr_img = np.reshape(test_data[10], (28,28))\n",
        "curr_lbl = test_labels[10]\n",
        "plt.imshow(curr_img, cmap='gray')\n",
        "plt.title(\"(Label: \" + str(label_dict[curr_lbl]) + \")\")\n"
      ],
      "execution_count": 10,
      "outputs": [
        {
          "output_type": "execute_result",
          "data": {
            "text/plain": [
              "Text(0.5, 1.0, '(Label: 0)')"
            ]
          },
          "metadata": {
            "tags": []
          },
          "execution_count": 10
        },
        {
          "output_type": "display_data",
          "data": {
            "image/png": "[encoded data removed]",
            "text/plain": [
              "<Figure size 360x360 with 2 Axes>"
            ]
          },
          "metadata": {
            "tags": [],
            "needs_background": "light"
          }
        }
      ]
    },
    {
      "cell_type": "markdown",
      "metadata": {
        "id": "_LvxONdVHrqN"
      },
      "source": [
        "Data Preprocessing\n",
        "\n",
        "The images of the dataset are indeed grayscale images with pixel values ranging from 0 to 255 with a dimension of 28 x 28, so before we feed the data into the model, it is very important to preprocess it. You'll first convert each 28 x 28 image of train and test set into a matrix of size 28 x 28 x 1, which you can feed into the network:"
      ]
    },
    {
      "cell_type": "code",
      "metadata": {
        "id": "k8WvDha0HrqO",
        "outputId": "ded4ed1b-73a6-4564-c5db-eca8c2e7a952",
        "colab": {
          "base_uri": "https://localhost:8080/"
        }
      },
      "source": [
        "train_data = train_data.reshape(-1, 28,28, 1)\n",
        "test_data = test_data.reshape(-1, 28,28, 1)\n",
        "train_data.shape, test_data.shape"
      ],
      "execution_count": 11,
      "outputs": [
        {
          "output_type": "execute_result",
          "data": {
            "text/plain": [
              "((60000, 28, 28, 1), (10000, 28, 28, 1))"
            ]
          },
          "metadata": {
            "tags": []
          },
          "execution_count": 11
        }
      ]
    },
    {
      "cell_type": "markdown",
      "metadata": {
        "id": "K1zNEOnHHrqU"
      },
      "source": [
        "Next, rescale the training and testing data with the maximum pixel value of the training and testing data:"
      ]
    },
    {
      "cell_type": "code",
      "metadata": {
        "id": "pm_-jJ1uHrqV"
      },
      "source": [
        "train_data = train_data / np.max(train_data)\n",
        "test_data = test_data / np.max(test_data)"
      ],
      "execution_count": 12,
      "outputs": []
    },
    {
      "cell_type": "markdown",
      "metadata": {
        "id": "IQhp-e22Hrqb"
      },
      "source": [
        "After all of this, it's important to partition the data. In order for our model to generalize well, you split the training data into two parts: a training and a validation set. You will train your model on 80% of the data and validate it on 20% of the remaining training data.\n",
        "\n",
        "This will also help you in reducing the chances of overfitting, as you will be validating your model on data it would not have seen in the training phase.\n",
        "\n",
        "You can use the train_test_split module of scikit-learn to divide the data properly:\n",
        "\n"
      ]
    },
    {
      "cell_type": "code",
      "metadata": {
        "id": "xpef6L4jHrqc"
      },
      "source": [
        "from sklearn.model_selection import train_test_split\n",
        "train_X,valid_X,train_ground,valid_ground = train_test_split(train_data,\n",
        "                                                             train_data,\n",
        "                                                             test_size=0.2,\n",
        "                                                             random_state=13)"
      ],
      "execution_count": 13,
      "outputs": []
    },
    {
      "cell_type": "markdown",
      "metadata": {
        "id": "a92LKL-EHrqk"
      },
      "source": [
        "Note: You will be using the above data splitting twice, once for the task of reconstructing using convolutional autoencoder for which you don't need training and testing labels. That's why you will pass the training images twice. Your training images will both act as the input as well as the ground truth similar to the labels you have in the classification task.\n",
        "\n",
        "But for the classification task, you will also pass your labels along with the images which you will be doing later on in the tutorial.\n",
        "\n",
        "Now you are all set to define the network and feed the data into the network. So without any further ado, let's jump to the next step!"
      ]
    },
    {
      "cell_type": "markdown",
      "metadata": {
        "id": "ItdH2aMAHrql"
      },
      "source": [
        "## The Convolutional Autoencoder"
      ]
    },
    {
      "cell_type": "markdown",
      "metadata": {
        "id": "inSDc0D_Hrqm"
      },
      "source": [
        "The images are of size 28 x 28 x 1 or a 30976-dimensional vector. You convert the image matrix to an array, rescale it between 0 and 1, reshape it so that it's of size 28 x 28 x 1, and feed this as an input to the network.\n",
        "\n",
        "Also, you will use a batch size of 128 using a higher batch size of 256 or 512 is also preferable it all depends on the system you train your model. It contributes heavily in determining the learning parameters and affects the prediction accuracy."
      ]
    },
    {
      "cell_type": "code",
      "metadata": {
        "id": "AVk7XldTHrqm"
      },
      "source": [
        "batch_size = 64\n",
        "epochs = 50\n",
        "inChannel = 1\n",
        "x, y = 28, 28\n",
        "input_img = Input(shape = (x, y, inChannel))\n",
        "num_classes = 10"
      ],
      "execution_count": 14,
      "outputs": []
    },
    {
      "cell_type": "markdown",
      "metadata": {
        "id": "mla3RAtsHrqs"
      },
      "source": [
        "As you might already know well before, the autoencoder is divided into two parts: there's an encoder and a decoder.\n",
        "\n",
        "Encoder: It has 4 Convolution blocks, each block has a convolution layer followed by a batch normalization layer. Max-pooling layer is used after the first and second convolution blocks.\n",
        "\n",
        "    The first convolution block will have 32 filters of size 3 x 3, followed by a downsampling (max-pooling) layer,\n",
        "    The second block will have 64 filters of size 3 x 3, followed by another downsampling layer,\n",
        "    The third block of encoder will have 128 filters of size 3 x 3,\n",
        "    The fourth block of encoder will have 256 filters of size 3 x 3.\n",
        "\n",
        "Decoder: It has 3 Convolution blocks, each block has a convolution layer followed by a batch normalization layer. Upsampling layer is used after the second and third convolution blocks.\n",
        "\n",
        "    The first block will have 128 filters of size 3 x 3,\n",
        "    The second block will have 64 filters of size 3 x 3 followed by another upsampling layer,\n",
        "    The third block will have 32 filters of size 3 x 3 followed by another upsampling layer,\n",
        "    The final layer of encoder will have 1 filter of size 3 x 3 which will reconstruct back the input having a single channel.\n",
        "\n",
        "The max-pooling layer will downsample the input by two times each time you use it, while the upsampling layer will upsample the input by two times each time it is used.\n",
        "\n",
        "Note: The number of filters, the filter size, the number of layers, number of epochs you train your model, are all hyperparameters and should be decided based on your own intuition, you are free to try new experiments by tweaking with these hyperparameters and measure the performance of your model. And that is how you will slowly learn the art of deep learning!\n",
        "\n",
        "Let's create separate encoder and decoder functions since you will be using encoder weights later on for classification purpose!"
      ]
    },
    {
      "cell_type": "code",
      "metadata": {
        "id": "N_20Us2MHrqt"
      },
      "source": [
        "def encoder(input_img):\n",
        "    #encoder\n",
        "    #input = 28 x 28 x 1 (wide and thin)\n",
        "    conv1 = Conv2D(32, (3, 3), activation='softmax', padding='same')(input_img) #28 x 28 x 32\n",
        "    conv1 = BatchNormalization()(conv1)\n",
        "    conv1 = Conv2D(32, (3, 3), activation='softmax', padding='same')(conv1)\n",
        "    conv1 = BatchNormalization()(conv1)\n",
        "    pool1 = MaxPooling2D(pool_size=(2, 2))(conv1) #14 x 14 x 32\n",
        "    conv2 = Conv2D(64, (3, 3), activation='softmax', padding='same')(pool1) #14 x 14 x 64\n",
        "    conv2 = BatchNormalization()(conv2)\n",
        "    conv2 = Conv2D(64, (3, 3), activation='softmax', padding='same')(conv2)\n",
        "    conv2 = BatchNormalization()(conv2)\n",
        "    pool2 = MaxPooling2D(pool_size=(2, 2))(conv2) #7 x 7 x 64\n",
        "    conv3 = Conv2D(128, (3, 3), activation='softmax', padding='same')(pool2) #7 x 7 x 128 (small and thick)\n",
        "    conv3 = BatchNormalization()(conv3)\n",
        "    conv3 = Conv2D(128, (3, 3), activation='softmax', padding='same')(conv3)\n",
        "    conv3 = BatchNormalization()(conv3)\n",
        "    conv4 = Conv2D(256, (3, 3), activation='softmax', padding='same')(conv3) #7 x 7 x 256 (small and thick)\n",
        "    conv4 = BatchNormalization()(conv4)\n",
        "    conv4 = Conv2D(256, (3, 3), activation='softmax', padding='same')(conv4)\n",
        "    conv4 = BatchNormalization()(conv4)\n",
        "    return conv4\n",
        "\n",
        "def decoder(conv4):    \n",
        "    #decoder\n",
        "    conv5 = Conv2D(256, (3, 3), activation='softmax', padding='same')(conv4) #7 x 7 x 128\n",
        "    conv5 = BatchNormalization()(conv5)\n",
        "    conv5 = Conv2D(256, (3, 3), activation='softmax', padding='same')(conv5)\n",
        "    conv5 = BatchNormalization()(conv5)\n",
        "    conv6 = Conv2D(128, (3, 3), activation='softmax', padding='same')(conv5) #7 x 7 x 64\n",
        "    conv6 = BatchNormalization()(conv6)\n",
        "    conv6 = Conv2D(128, (3, 3), activation='softmax', padding='same')(conv6)\n",
        "    conv6 = BatchNormalization()(conv6)\n",
        "    up1 = UpSampling2D((2,2))(conv6) #14 x 14 x 64\n",
        "    conv7 = Conv2D(64, (3, 3), activation='softmax', padding='same')(up1) # 14 x 14 x 32\n",
        "    conv7 = BatchNormalization()(conv7)\n",
        "    conv7 = Conv2D(64, (3, 3), activation='softmax', padding='same')(conv7)\n",
        "    conv7 = BatchNormalization()(conv7)\n",
        "    \n",
        "    up2 = UpSampling2D((2,2))(conv7) # 28 x 28 x 32\n",
        "    decoded = Conv2D(1, (3, 3), activation='sigmoid', padding='same')(up2) # 28 x 28 x 1\n",
        "    return decoded"
      ],
      "execution_count": 16,
      "outputs": []
    },
    {
      "cell_type": "code",
      "metadata": {
        "id": "iTGFAJTNexNv"
      },
      "source": [
        "def encoder(input_img):\n",
        "    #encoder\n",
        "    #input = 28 x 28 x 1 (wide and thin)\n",
        "    conv1 = Conv2D(32, (3, 3), activation='relu', padding='same')(input_img) #28 x 28 x 32\n",
        "    conv1 = BatchNormalization()(conv1)\n",
        "    conv1 = Conv2D(32, (3, 3), activation='relu', padding='same')(conv1)\n",
        "    conv1 = BatchNormalization()(conv1)\n",
        "    pool1 = MaxPooling2D(pool_size=(2, 2))(conv1) #14 x 14 x 32\n",
        "    conv2 = Conv2D(64, (3, 3), activation='relu', padding='same')(pool1) #14 x 14 x 64\n",
        "    conv2 = BatchNormalization()(conv2)\n",
        "    conv2 = Conv2D(64, (3, 3), activation='relu', padding='same')(conv2)\n",
        "    conv2 = BatchNormalization()(conv2)\n",
        "    pool2 = MaxPooling2D(pool_size=(2, 2))(conv2) #7 x 7 x 64\n",
        "    conv3 = Conv2D(128, (3, 3), activation='relu', padding='same')(pool2) #7 x 7 x 128 (small and thick)\n",
        "    conv3 = BatchNormalization()(conv3)\n",
        "    conv3 = Conv2D(128, (3, 3), activation='relu', padding='same')(conv3)\n",
        "    conv3 = BatchNormalization()(conv3)\n",
        "    conv4 = Conv2D(256, (3, 3), activation='relu', padding='same')(conv3) #7 x 7 x 256 (small and thick)\n",
        "    conv4 = BatchNormalization()(conv4)\n",
        "    conv4 = Conv2D(256, (3, 3), activation='relu', padding='same')(conv4)\n",
        "    conv4 = BatchNormalization()(conv4)\n",
        "    return conv4\n",
        "\n",
        "def decoder(conv4):    \n",
        "    #decoder\n",
        "    conv5 = Conv2D(256, (3, 3), activation='relu', padding='same')(conv4) #7 x 7 x 128\n",
        "    conv5 = BatchNormalization()(conv5)\n",
        "    conv5 = Conv2D(256, (3, 3), activation='relu', padding='same')(conv5)\n",
        "    conv5 = BatchNormalization()(conv5)\n",
        "    conv6 = Conv2D(128, (3, 3), activation='relu', padding='same')(conv5) #7 x 7 x 64\n",
        "    conv6 = BatchNormalization()(conv6)\n",
        "    conv6 = Conv2D(128, (3, 3), activation='relu', padding='same')(conv6)\n",
        "    conv6 = BatchNormalization()(conv6)\n",
        "    up1 = UpSampling2D((2,2))(conv6) #14 x 14 x 64\n",
        "    conv7 = Conv2D(64, (3, 3), activation='relu', padding='same')(up1) # 14 x 14 x 32\n",
        "    conv7 = BatchNormalization()(conv7)\n",
        "    conv7 = Conv2D(64, (3, 3), activation='relu', padding='same')(conv7)\n",
        "    conv7 = BatchNormalization()(conv7)\n",
        "    conv8 = Conv2D(32, (3, 3), activation='relu', padding='same')(up1) # 14 x 14 x 32\n",
        "    conv8 = BatchNormalization()(conv8)\n",
        "    conv8 = Conv2D(32, (3, 3), activation='relu', padding='same')(conv8)\n",
        "    conv8 = BatchNormalization()(conv8)\n",
        "    up2 = UpSampling2D((2,2))(conv8) # 28 x 28 x 32\n",
        "    decoded = Conv2D(1, (3, 3), activation='sigmoid', padding='same')(up2) # 28 x 28 x 1\n",
        "    return decoded"
      ],
      "execution_count": null,
      "outputs": []
    },
    {
      "cell_type": "markdown",
      "metadata": {
        "id": "yHqPp80FHrqy"
      },
      "source": [
        "After the model is created, you have to compile it using the optimizer to be RMSProp.\n",
        "\n",
        "Note that you also have to specify the loss type via the argument loss. In this case, that's the mean squared error, since the loss after every batch will be computed between the batch of predicted output and the ground truth using mean squared error pixel by pixel:"
      ]
    },
    {
      "cell_type": "code",
      "metadata": {
        "id": "OQ9tnEf0Hrqz"
      },
      "source": [
        "autoencoder = Model(input_img, decoder(encoder(input_img)))\n",
        "autoencoder.compile(loss='mean_squared_error', optimizer = RMSprop())"
      ],
      "execution_count": 17,
      "outputs": []
    },
    {
      "cell_type": "markdown",
      "metadata": {
        "id": "m1hdlUsKHrq4"
      },
      "source": [
        "Let's visualize the layers that you created in the above step by using the summary function. This will show a number of parameters (weights and biases) in each layer and also the total parameters in your model."
      ]
    },
    {
      "cell_type": "code",
      "metadata": {
        "id": "Y8sd-XndHrq5",
        "outputId": "ac19ba1d-9a76-4acf-ad90-1e537fae2416",
        "colab": {
          "base_uri": "https://localhost:8080/"
        }
      },
      "source": [
        "autoencoder.summary()"
      ],
      "execution_count": 18,
      "outputs": [
        {
          "output_type": "stream",
          "text": [
            "Model: \"functional_1\"\n",
            "_________________________________________________________________\n",
            "Layer (type)                 Output Shape              Param #   \n",
            "=================================================================\n",
            "input_1 (InputLayer)         [(None, 28, 28, 1)]       0         \n",
            "_________________________________________________________________\n",
            "conv2d (Conv2D)              (None, 28, 28, 32)        320       \n",
            "_________________________________________________________________\n",
            "batch_normalization (BatchNo (None, 28, 28, 32)        128       \n",
            "_________________________________________________________________\n",
            "conv2d_1 (Conv2D)            (None, 28, 28, 32)        9248      \n",
            "_________________________________________________________________\n",
            "batch_normalization_1 (Batch (None, 28, 28, 32)        128       \n",
            "_________________________________________________________________\n",
            "max_pooling2d (MaxPooling2D) (None, 14, 14, 32)        0         \n",
            "_________________________________________________________________\n",
            "conv2d_2 (Conv2D)            (None, 14, 14, 64)        18496     \n",
            "_________________________________________________________________\n",
            "batch_normalization_2 (Batch (None, 14, 14, 64)        256       \n",
            "_________________________________________________________________\n",
            "conv2d_3 (Conv2D)            (None, 14, 14, 64)        36928     \n",
            "_________________________________________________________________\n",
            "batch_normalization_3 (Batch (None, 14, 14, 64)        256       \n",
            "_________________________________________________________________\n",
            "max_pooling2d_1 (MaxPooling2 (None, 7, 7, 64)          0         \n",
            "_________________________________________________________________\n",
            "conv2d_4 (Conv2D)            (None, 7, 7, 128)         73856     \n",
            "_________________________________________________________________\n",
            "batch_normalization_4 (Batch (None, 7, 7, 128)         512       \n",
            "_________________________________________________________________\n",
            "conv2d_5 (Conv2D)            (None, 7, 7, 128)         147584    \n",
            "_________________________________________________________________\n",
            "batch_normalization_5 (Batch (None, 7, 7, 128)         512       \n",
            "_________________________________________________________________\n",
            "conv2d_6 (Conv2D)            (None, 7, 7, 256)         295168    \n",
            "_________________________________________________________________\n",
            "batch_normalization_6 (Batch (None, 7, 7, 256)         1024      \n",
            "_________________________________________________________________\n",
            "conv2d_7 (Conv2D)            (None, 7, 7, 256)         590080    \n",
            "_________________________________________________________________\n",
            "batch_normalization_7 (Batch (None, 7, 7, 256)         1024      \n",
            "_________________________________________________________________\n",
            "conv2d_8 (Conv2D)            (None, 7, 7, 256)         590080    \n",
            "_________________________________________________________________\n",
            "batch_normalization_8 (Batch (None, 7, 7, 256)         1024      \n",
            "_________________________________________________________________\n",
            "conv2d_9 (Conv2D)            (None, 7, 7, 256)         590080    \n",
            "_________________________________________________________________\n",
            "batch_normalization_9 (Batch (None, 7, 7, 256)         1024      \n",
            "_________________________________________________________________\n",
            "conv2d_10 (Conv2D)           (None, 7, 7, 128)         295040    \n",
            "_________________________________________________________________\n",
            "batch_normalization_10 (Batc (None, 7, 7, 128)         512       \n",
            "_________________________________________________________________\n",
            "conv2d_11 (Conv2D)           (None, 7, 7, 128)         147584    \n",
            "_________________________________________________________________\n",
            "batch_normalization_11 (Batc (None, 7, 7, 128)         512       \n",
            "_________________________________________________________________\n",
            "up_sampling2d (UpSampling2D) (None, 14, 14, 128)       0         \n",
            "_________________________________________________________________\n",
            "conv2d_12 (Conv2D)           (None, 14, 14, 64)        73792     \n",
            "_________________________________________________________________\n",
            "batch_normalization_12 (Batc (None, 14, 14, 64)        256       \n",
            "_________________________________________________________________\n",
            "conv2d_13 (Conv2D)           (None, 14, 14, 64)        36928     \n",
            "_________________________________________________________________\n",
            "batch_normalization_13 (Batc (None, 14, 14, 64)        256       \n",
            "_________________________________________________________________\n",
            "up_sampling2d_1 (UpSampling2 (None, 28, 28, 64)        0         \n",
            "_________________________________________________________________\n",
            "conv2d_14 (Conv2D)           (None, 28, 28, 1)         577       \n",
            "=================================================================\n",
            "Total params: 2,913,185\n",
            "Trainable params: 2,909,473\n",
            "Non-trainable params: 3,712\n",
            "_________________________________________________________________\n"
          ],
          "name": "stdout"
        }
      ]
    },
    {
      "cell_type": "markdown",
      "metadata": {
        "id": "IIdLZ53JHrq_"
      },
      "source": [
        "It's finally time to train the model with Keras' fit() function! The model trains for 200 epochs. The fit() function will return a history object; By storing the result of this function in autoencoder_train, you can use it later to plot the loss function plot between training and validation which will help you to analyze your model's performance visually."
      ]
    },
    {
      "cell_type": "code",
      "metadata": {
        "id": "tscKaXx8HrrA",
        "outputId": "b1b5f625-db59-478e-dc52-f71b723a8185",
        "colab": {
          "base_uri": "https://localhost:8080/"
        }
      },
      "source": [
        "autoencoder_train = autoencoder.fit(train_X, train_ground, batch_size=batch_size,epochs=epochs,verbose=1,validation_data=(valid_X, valid_ground))"
      ],
      "execution_count": 19,
      "outputs": [
        {
          "output_type": "stream",
          "text": [
            "Epoch 1/50\n",
            "750/750 [==============================] - 20s 26ms/step - loss: 0.0366 - val_loss: 0.0864\n",
            "Epoch 2/50\n",
            "750/750 [==============================] - 19s 26ms/step - loss: 0.0088 - val_loss: 0.0055\n",
            "Epoch 3/50\n",
            "750/750 [==============================] - 19s 26ms/step - loss: 0.0051 - val_loss: 0.0037\n",
            "Epoch 4/50\n",
            "750/750 [==============================] - 19s 26ms/step - loss: 0.0039 - val_loss: 0.0038\n",
            "Epoch 5/50\n",
            "750/750 [==============================] - 19s 26ms/step - loss: 0.0032 - val_loss: 0.0029\n",
            "Epoch 6/50\n",
            "750/750 [==============================] - 19s 26ms/step - loss: 0.0028 - val_loss: 0.0022\n",
            "Epoch 7/50\n",
            "750/750 [==============================] - 19s 26ms/step - loss: 0.0025 - val_loss: 0.0022\n",
            "Epoch 8/50\n",
            "750/750 [==============================] - 19s 26ms/step - loss: 0.0023 - val_loss: 0.0017\n",
            "Epoch 9/50\n",
            "750/750 [==============================] - 19s 26ms/step - loss: 0.0021 - val_loss: 0.0026\n",
            "Epoch 10/50\n",
            "750/750 [==============================] - 19s 26ms/step - loss: 0.0019 - val_loss: 0.0016\n",
            "Epoch 11/50\n",
            "750/750 [==============================] - 19s 26ms/step - loss: 0.0018 - val_loss: 0.0020\n",
            "Epoch 12/50\n",
            "750/750 [==============================] - 19s 26ms/step - loss: 0.0017 - val_loss: 0.0021\n",
            "Epoch 13/50\n",
            "750/750 [==============================] - 19s 26ms/step - loss: 0.0016 - val_loss: 0.0016\n",
            "Epoch 14/50\n",
            "750/750 [==============================] - 19s 26ms/step - loss: 0.0016 - val_loss: 0.0024\n",
            "Epoch 15/50\n",
            "750/750 [==============================] - 19s 26ms/step - loss: 0.0015 - val_loss: 0.0015\n",
            "Epoch 16/50\n",
            "750/750 [==============================] - 19s 26ms/step - loss: 0.0014 - val_loss: 0.0013\n",
            "Epoch 17/50\n",
            "750/750 [==============================] - 19s 26ms/step - loss: 0.0014 - val_loss: 0.0016\n",
            "Epoch 18/50\n",
            "750/750 [==============================] - 19s 26ms/step - loss: 0.0013 - val_loss: 0.0018\n",
            "Epoch 19/50\n",
            "750/750 [==============================] - 19s 26ms/step - loss: 0.0013 - val_loss: 0.0013\n",
            "Epoch 20/50\n",
            "750/750 [==============================] - 19s 26ms/step - loss: 0.0013 - val_loss: 0.0013\n",
            "Epoch 21/50\n",
            "750/750 [==============================] - 19s 26ms/step - loss: 0.0012 - val_loss: 0.0012\n",
            "Epoch 22/50\n",
            "750/750 [==============================] - 19s 26ms/step - loss: 0.0012 - val_loss: 0.0014\n",
            "Epoch 23/50\n",
            "750/750 [==============================] - 19s 26ms/step - loss: 0.0011 - val_loss: 0.0012\n",
            "Epoch 24/50\n",
            "750/750 [==============================] - 19s 26ms/step - loss: 0.0011 - val_loss: 0.0014\n",
            "Epoch 25/50\n",
            "750/750 [==============================] - 19s 26ms/step - loss: 0.0011 - val_loss: 0.0011\n",
            "Epoch 26/50\n",
            "750/750 [==============================] - 19s 26ms/step - loss: 0.0011 - val_loss: 0.0010\n",
            "Epoch 27/50\n",
            "750/750 [==============================] - 19s 26ms/step - loss: 0.0010 - val_loss: 0.0011\n",
            "Epoch 28/50\n",
            "750/750 [==============================] - 19s 26ms/step - loss: 0.0010 - val_loss: 0.0011\n",
            "Epoch 29/50\n",
            "750/750 [==============================] - 19s 26ms/step - loss: 9.8720e-04 - val_loss: 0.0013\n",
            "Epoch 30/50\n",
            "750/750 [==============================] - 19s 26ms/step - loss: 9.6314e-04 - val_loss: 9.2493e-04\n",
            "Epoch 31/50\n",
            "750/750 [==============================] - 19s 26ms/step - loss: 9.4603e-04 - val_loss: 0.0013\n",
            "Epoch 32/50\n",
            "750/750 [==============================] - 19s 26ms/step - loss: 9.2527e-04 - val_loss: 0.0011\n",
            "Epoch 33/50\n",
            "750/750 [==============================] - 19s 26ms/step - loss: 9.0634e-04 - val_loss: 0.0011\n",
            "Epoch 34/50\n",
            "750/750 [==============================] - 19s 26ms/step - loss: 8.9064e-04 - val_loss: 8.8608e-04\n",
            "Epoch 35/50\n",
            "750/750 [==============================] - 19s 26ms/step - loss: 8.7502e-04 - val_loss: 0.0015\n",
            "Epoch 36/50\n",
            "750/750 [==============================] - 19s 26ms/step - loss: 8.5596e-04 - val_loss: 7.8071e-04\n",
            "Epoch 37/50\n",
            "750/750 [==============================] - 19s 26ms/step - loss: 8.4221e-04 - val_loss: 9.6832e-04\n",
            "Epoch 38/50\n",
            "750/750 [==============================] - 19s 26ms/step - loss: 8.2924e-04 - val_loss: 9.0558e-04\n",
            "Epoch 39/50\n",
            "750/750 [==============================] - 19s 26ms/step - loss: 8.2016e-04 - val_loss: 9.4200e-04\n",
            "Epoch 40/50\n",
            "750/750 [==============================] - 19s 26ms/step - loss: 8.0110e-04 - val_loss: 7.8933e-04\n",
            "Epoch 41/50\n",
            "750/750 [==============================] - 20s 26ms/step - loss: 7.8773e-04 - val_loss: 8.4862e-04\n",
            "Epoch 42/50\n",
            "750/750 [==============================] - 19s 26ms/step - loss: 7.8455e-04 - val_loss: 0.0020\n",
            "Epoch 43/50\n",
            "750/750 [==============================] - 19s 26ms/step - loss: 7.6680e-04 - val_loss: 7.4864e-04\n",
            "Epoch 44/50\n",
            "750/750 [==============================] - 19s 26ms/step - loss: 7.5753e-04 - val_loss: 9.5745e-04\n",
            "Epoch 45/50\n",
            "750/750 [==============================] - 19s 26ms/step - loss: 7.4644e-04 - val_loss: 8.2542e-04\n",
            "Epoch 46/50\n",
            "750/750 [==============================] - 19s 26ms/step - loss: 7.3160e-04 - val_loss: 7.8939e-04\n",
            "Epoch 47/50\n",
            "750/750 [==============================] - 19s 26ms/step - loss: 7.2540e-04 - val_loss: 8.7629e-04\n",
            "Epoch 48/50\n",
            "750/750 [==============================] - 19s 26ms/step - loss: 7.1236e-04 - val_loss: 7.4666e-04\n",
            "Epoch 49/50\n",
            "750/750 [==============================] - 19s 26ms/step - loss: 7.0509e-04 - val_loss: 8.7829e-04\n",
            "Epoch 50/50\n",
            "750/750 [==============================] - 19s 26ms/step - loss: 6.9448e-04 - val_loss: 0.0014\n"
          ],
          "name": "stdout"
        }
      ]
    },
    {
      "cell_type": "markdown",
      "metadata": {
        "id": "JU1d7hHFHrrF"
      },
      "source": [
        "Now, let's plot the loss plot between training and validation data to visualize the model performance."
      ]
    },
    {
      "cell_type": "code",
      "metadata": {
        "id": "PQVQXgNOHrrG",
        "outputId": "082a2f05-3b48-48b9-ac41-309fa61b8f8a",
        "colab": {
          "base_uri": "https://localhost:8080/",
          "height": 281
        }
      },
      "source": [
        "loss = autoencoder_train.history['loss']\n",
        "val_loss = autoencoder_train.history['val_loss']\n",
        "epochs = range(50)\n",
        "plt.figure()\n",
        "plt.plot(epochs, loss, 'bo', label='Training loss')\n",
        "plt.plot(epochs, val_loss, 'b', label='Validation loss')\n",
        "plt.title('Training and validation loss')\n",
        "plt.legend()\n",
        "plt.show()"
      ],
      "execution_count": 20,
      "outputs": [
        {
          "output_type": "display_data",
          "data": {
            "image/png": "[encoded data removed]",
            "text/plain": [
              "<Figure size 432x288 with 1 Axes>"
            ]
          },
          "metadata": {
            "tags": [],
            "needs_background": "light"
          }
        }
      ]
    },
    {
      "cell_type": "markdown",
      "metadata": {
        "id": "E3lFxRdsHrrL"
      },
      "source": [
        "Save the Model\n",
        "\n",
        "Since you will need the encoder weights in your classification task, first let's save the complete autoencoder weights. You will learn how you can extract the encoder weights soon."
      ]
    },
    {
      "cell_type": "code",
      "metadata": {
        "id": "ZN7P1EyUHrrM"
      },
      "source": [
        "autoencoder.save_weights('autoencoder.h5')"
      ],
      "execution_count": 21,
      "outputs": []
    },
    {
      "cell_type": "markdown",
      "metadata": {
        "id": "FKFBe6EJHrrR"
      },
      "source": [
        "Segmenting the fashion mnist images\n",
        "\n",
        "Now you will be using the trained autoencoder's head, i.e., the encoder part and will be loading the weights of the autoencoder you just now trained but only in the encoder part of the model.\n",
        "\n",
        "You will add a few dense or fully connected layers to the encoder to classify fashion mnist images.\n",
        "\n",
        "    Let's first convert the labels into one-hot encoding vectors.\n",
        "\n",
        "    For those of you who do not know about one-hot encoding:\n",
        "\n",
        "    In one-hot encoding, you convert the categorical data into a vector of numbers. The reason why you convert the categorical data in one hot encoding is that machine learning algorithms cannot work with categorical data directly. You generate one boolean column for each category or class. Only one of these columns could take on the value 1 for each sample. Hence, the term one-hot encoding.\n",
        "\n",
        "    For your problem statement, the one hot encoding will be a row vector, and for each image, it will have a dimension of 1 x 10. The important thing to note here is that the vector consists of all zeros except for the class that it represents, and for that, it is 1.\n",
        "\n",
        "    So let's convert the labels into one-hot encoding vectors:"
      ]
    },
    {
      "cell_type": "code",
      "metadata": {
        "id": "3if_TZrhHrrW",
        "outputId": "ce38ada8-ba0c-4196-c092-8222951b28bf",
        "colab": {
          "base_uri": "https://localhost:8080/"
        }
      },
      "source": [
        "# Change the labels from categorical to one-hot encoding\n",
        "train_Y_one_hot = to_categorical(train_labels)\n",
        "test_Y_one_hot = to_categorical(test_labels)\n",
        "\n",
        "# Display the change for category label using one-hot encoding\n",
        "print('Original label:', train_labels[0])\n",
        "print('After conversion to one-hot:', train_Y_one_hot[0])\n"
      ],
      "execution_count": 22,
      "outputs": [
        {
          "output_type": "stream",
          "text": [
            "Original label: 5\n",
            "After conversion to one-hot: [0. 0. 0. 0. 0. 1. 0. 0. 0. 0.]\n"
          ],
          "name": "stdout"
        }
      ]
    },
    {
      "cell_type": "markdown",
      "metadata": {
        "id": "wn1R8PqjHrrb"
      },
      "source": [
        "This last step is a crucial one which you all have done before as well which is splitting the data into training and validation in the autoencoder training phase. So let's quickly do that step for classification as well. Note that you will use the same random state that you used before and also this time you will pass your labels as well that you just now converted into a one-hot encoding vector."
      ]
    },
    {
      "cell_type": "code",
      "metadata": {
        "id": "pwtoRDCmHrrc"
      },
      "source": [
        "train_X,valid_X,train_label,valid_label = train_test_split(train_data,train_Y_one_hot,test_size=0.2,random_state=13)"
      ],
      "execution_count": 23,
      "outputs": []
    },
    {
      "cell_type": "markdown",
      "metadata": {
        "id": "h8TZAddzHrrh"
      },
      "source": [
        "Now, let's define the classification model. Remember that you will be using the exact same encoder part as you used in the autoencoder architecture."
      ]
    },
    {
      "cell_type": "markdown",
      "metadata": {
        "id": "2aSdELMpHrri"
      },
      "source": [
        "Let's define the fully connected layers that you will be stacking up with the encoder function."
      ]
    },
    {
      "cell_type": "code",
      "metadata": {
        "id": "dLI5BFbpHrrj"
      },
      "source": [
        "def fc(enco):\n",
        "    flat = Flatten()(enco)\n",
        "    den = Dense(128, activation='relu')(flat)\n",
        "    out = Dense(num_classes, activation='softmax')(den)\n",
        "    return out"
      ],
      "execution_count": 24,
      "outputs": []
    },
    {
      "cell_type": "code",
      "metadata": {
        "id": "SxoBnwaHHrrn"
      },
      "source": [
        "encode = encoder(input_img)\n",
        "full_model = Model(input_img,fc(encode))\n",
        "\n",
        "for l1,l2 in zip(full_model.layers[:19],autoencoder.layers[0:19]):\n",
        "    l1.set_weights(l2.get_weights())"
      ],
      "execution_count": 25,
      "outputs": []
    },
    {
      "cell_type": "markdown",
      "metadata": {
        "id": "_PoZ5IYgHrrs"
      },
      "source": [
        "Note: The next step is pretty important. In order to be sure whether the weights of the encoder part of the autoencoder are similar to the weights you loaded to the encoder function of the classification model, you should always print any one of the same layers weights of both the models. If they are not similar, then there is no use in using the autoencoder classification strategy.\n",
        "\n",
        "Let's print first layer weights of both the models."
      ]
    },
    {
      "cell_type": "code",
      "metadata": {
        "id": "bt1ShGlPHrru",
        "outputId": "1baba777-189f-464c-bf4f-33d17e76d2e3",
        "colab": {
          "base_uri": "https://localhost:8080/"
        }
      },
      "source": [
        "autoencoder.get_weights()[0][1]"
      ],
      "execution_count": 26,
      "outputs": [
        {
          "output_type": "execute_result",
          "data": {
            "text/plain": [
              "array([[[-0.04606898, -0.19524454, -0.07790962, -0.08856225,\n",
              "         -0.11635388, -0.23660794, -0.07277019, -0.3436283 ,\n",
              "         -0.06772488, -0.05490743, -0.00612554, -0.04068751,\n",
              "         -0.11681596, -0.05228382, -0.03530386, -0.20027322,\n",
              "         -0.07331693, -0.23891504,  0.26938134,  0.16488625,\n",
              "         -0.04068932, -0.06870804, -0.24382432,  0.2186639 ,\n",
              "          0.49232534, -0.11849684,  0.12324956,  0.3152816 ,\n",
              "          0.15679766, -0.19076654, -0.04519388, -0.12163024]],\n",
              "\n",
              "       [[ 0.16088891,  0.1071473 ,  0.08908781,  0.0151182 ,\n",
              "          0.12073413,  0.2583204 , -0.08789084, -0.762701  ,\n",
              "         -0.18632203, -0.16674511,  0.11686961,  0.04674031,\n",
              "          0.182506  ,  0.06107299,  0.06588513,  0.09425166,\n",
              "          0.12165878, -0.40043223,  0.03387596,  0.2010101 ,\n",
              "          0.04651793,  0.06013785, -0.03650872, -0.19403832,\n",
              "         -0.13867453,  0.09963024,  0.15935141,  0.35043043,\n",
              "         -0.25187466,  0.24856319,  0.05076095,  0.07524464]],\n",
              "\n",
              "       [[ 0.27308375, -0.04172416,  0.06278657,  0.2646333 ,\n",
              "          0.06075674,  0.28115284,  0.18094078, -0.32235584,\n",
              "          0.17102   , -0.19776002,  0.10276855,  0.10517803,\n",
              "         -0.08909187,  0.09420025,  0.13661292,  0.24183154,\n",
              "          0.02693121, -0.22929198,  0.00382667,  0.02945425,\n",
              "          0.10652972,  0.10005469,  0.7107653 ,  0.12867439,\n",
              "         -0.34701297, -0.04114243,  0.28165102,  0.06970191,\n",
              "         -0.09111176, -0.19411665,  0.10473377,  0.1490487 ]]],\n",
              "      dtype=float32)"
            ]
          },
          "metadata": {
            "tags": []
          },
          "execution_count": 26
        }
      ]
    },
    {
      "cell_type": "code",
      "metadata": {
        "id": "khhne4sjHrrz",
        "outputId": "12cccc3a-5655-4508-e89c-4a45a0d46f90",
        "colab": {
          "base_uri": "https://localhost:8080/"
        }
      },
      "source": [
        "full_model.get_weights()[0][1]"
      ],
      "execution_count": 27,
      "outputs": [
        {
          "output_type": "execute_result",
          "data": {
            "text/plain": [
              "array([[[-0.04606898, -0.19524454, -0.07790962, -0.08856225,\n",
              "         -0.11635388, -0.23660794, -0.07277019, -0.3436283 ,\n",
              "         -0.06772488, -0.05490743, -0.00612554, -0.04068751,\n",
              "         -0.11681596, -0.05228382, -0.03530386, -0.20027322,\n",
              "         -0.07331693, -0.23891504,  0.26938134,  0.16488625,\n",
              "         -0.04068932, -0.06870804, -0.24382432,  0.2186639 ,\n",
              "          0.49232534, -0.11849684,  0.12324956,  0.3152816 ,\n",
              "          0.15679766, -0.19076654, -0.04519388, -0.12163024]],\n",
              "\n",
              "       [[ 0.16088891,  0.1071473 ,  0.08908781,  0.0151182 ,\n",
              "          0.12073413,  0.2583204 , -0.08789084, -0.762701  ,\n",
              "         -0.18632203, -0.16674511,  0.11686961,  0.04674031,\n",
              "          0.182506  ,  0.06107299,  0.06588513,  0.09425166,\n",
              "          0.12165878, -0.40043223,  0.03387596,  0.2010101 ,\n",
              "          0.04651793,  0.06013785, -0.03650872, -0.19403832,\n",
              "         -0.13867453,  0.09963024,  0.15935141,  0.35043043,\n",
              "         -0.25187466,  0.24856319,  0.05076095,  0.07524464]],\n",
              "\n",
              "       [[ 0.27308375, -0.04172416,  0.06278657,  0.2646333 ,\n",
              "          0.06075674,  0.28115284,  0.18094078, -0.32235584,\n",
              "          0.17102   , -0.19776002,  0.10276855,  0.10517803,\n",
              "         -0.08909187,  0.09420025,  0.13661292,  0.24183154,\n",
              "          0.02693121, -0.22929198,  0.00382667,  0.02945425,\n",
              "          0.10652972,  0.10005469,  0.7107653 ,  0.12867439,\n",
              "         -0.34701297, -0.04114243,  0.28165102,  0.06970191,\n",
              "         -0.09111176, -0.19411665,  0.10473377,  0.1490487 ]]],\n",
              "      dtype=float32)"
            ]
          },
          "metadata": {
            "tags": []
          },
          "execution_count": 27
        }
      ]
    },
    {
      "cell_type": "markdown",
      "metadata": {
        "id": "X7nyf3mzHrr3"
      },
      "source": [
        "Voila! Both the arrays look exactly similar. So, without any further ado, let's compile the model and start the training.\n",
        "\n",
        "Next, you will make the encoder part i.e.the first nineteen layers of the model trainable false. Since the encoder part is already trained, you do not need to train it. You will only be training the Fully Connected part."
      ]
    },
    {
      "cell_type": "code",
      "metadata": {
        "id": "IQLzExNwHrr5"
      },
      "source": [
        "for layer in full_model.layers[0:19]:\n",
        "    layer.trainable = False\n"
      ],
      "execution_count": 28,
      "outputs": []
    },
    {
      "cell_type": "markdown",
      "metadata": {
        "id": "ksKSr2kcHrr-"
      },
      "source": [
        "Let's compile the model!"
      ]
    },
    {
      "cell_type": "code",
      "metadata": {
        "id": "PpeRquzjHrr_"
      },
      "source": [
        "full_model.compile(loss=keras.losses.categorical_crossentropy, optimizer=keras.optimizers.Adam(),metrics=['accuracy'])"
      ],
      "execution_count": 29,
      "outputs": []
    },
    {
      "cell_type": "markdown",
      "metadata": {
        "id": "_JagbFbNHrsE"
      },
      "source": [
        "Let's print the summary of the model as well. There should be non-trainable parameters as well since you made the first fifteen layers of the model non-trainable."
      ]
    },
    {
      "cell_type": "code",
      "metadata": {
        "id": "9eSKY9wgHrsE",
        "outputId": "96c278cd-3622-4bbf-cda2-5cafed309ba9",
        "colab": {
          "base_uri": "https://localhost:8080/"
        }
      },
      "source": [
        "full_model.summary()"
      ],
      "execution_count": 30,
      "outputs": [
        {
          "output_type": "stream",
          "text": [
            "Model: \"functional_3\"\n",
            "_________________________________________________________________\n",
            "Layer (type)                 Output Shape              Param #   \n",
            "=================================================================\n",
            "input_1 (InputLayer)         [(None, 28, 28, 1)]       0         \n",
            "_________________________________________________________________\n",
            "conv2d_15 (Conv2D)           (None, 28, 28, 32)        320       \n",
            "_________________________________________________________________\n",
            "batch_normalization_14 (Batc (None, 28, 28, 32)        128       \n",
            "_________________________________________________________________\n",
            "conv2d_16 (Conv2D)           (None, 28, 28, 32)        9248      \n",
            "_________________________________________________________________\n",
            "batch_normalization_15 (Batc (None, 28, 28, 32)        128       \n",
            "_________________________________________________________________\n",
            "max_pooling2d_2 (MaxPooling2 (None, 14, 14, 32)        0         \n",
            "_________________________________________________________________\n",
            "conv2d_17 (Conv2D)           (None, 14, 14, 64)        18496     \n",
            "_________________________________________________________________\n",
            "batch_normalization_16 (Batc (None, 14, 14, 64)        256       \n",
            "_________________________________________________________________\n",
            "conv2d_18 (Conv2D)           (None, 14, 14, 64)        36928     \n",
            "_________________________________________________________________\n",
            "batch_normalization_17 (Batc (None, 14, 14, 64)        256       \n",
            "_________________________________________________________________\n",
            "max_pooling2d_3 (MaxPooling2 (None, 7, 7, 64)          0         \n",
            "_________________________________________________________________\n",
            "conv2d_19 (Conv2D)           (None, 7, 7, 128)         73856     \n",
            "_________________________________________________________________\n",
            "batch_normalization_18 (Batc (None, 7, 7, 128)         512       \n",
            "_________________________________________________________________\n",
            "conv2d_20 (Conv2D)           (None, 7, 7, 128)         147584    \n",
            "_________________________________________________________________\n",
            "batch_normalization_19 (Batc (None, 7, 7, 128)         512       \n",
            "_________________________________________________________________\n",
            "conv2d_21 (Conv2D)           (None, 7, 7, 256)         295168    \n",
            "_________________________________________________________________\n",
            "batch_normalization_20 (Batc (None, 7, 7, 256)         1024      \n",
            "_________________________________________________________________\n",
            "conv2d_22 (Conv2D)           (None, 7, 7, 256)         590080    \n",
            "_________________________________________________________________\n",
            "batch_normalization_21 (Batc (None, 7, 7, 256)         1024      \n",
            "_________________________________________________________________\n",
            "flatten (Flatten)            (None, 12544)             0         \n",
            "_________________________________________________________________\n",
            "dense (Dense)                (None, 128)               1605760   \n",
            "_________________________________________________________________\n",
            "dense_1 (Dense)              (None, 10)                1290      \n",
            "=================================================================\n",
            "Total params: 2,782,570\n",
            "Trainable params: 1,607,050\n",
            "Non-trainable params: 1,175,520\n",
            "_________________________________________________________________\n"
          ],
          "name": "stdout"
        }
      ]
    },
    {
      "cell_type": "markdown",
      "metadata": {
        "id": "bVw-nVCWHrsK"
      },
      "source": [
        "Train the Model\n",
        "\n",
        "It's finally time to train the model with Keras' fit() function! The model trains for 10 epochs. The fit() function will return a history object; By storing the result of this function in fashion_train, you can use it later to plot the accuracy and loss function plots between training and validation which will help you to analyze your model's performance visually.\n",
        "\n"
      ]
    },
    {
      "cell_type": "code",
      "metadata": {
        "id": "5fEExuSjHrsL",
        "outputId": "5a2889bd-26c3-4894-f277-520071729df2",
        "colab": {
          "base_uri": "https://localhost:8080/"
        }
      },
      "source": [
        "classify_train = full_model.fit(train_X, train_label, batch_size=64,epochs=50,verbose=1,validation_data=(valid_X, valid_label))"
      ],
      "execution_count": 31,
      "outputs": [
        {
          "output_type": "stream",
          "text": [
            "Epoch 1/50\n",
            "750/750 [==============================] - 5s 7ms/step - loss: 0.2404 - accuracy: 0.9310 - val_loss: 0.1321 - val_accuracy: 0.9620\n",
            "Epoch 2/50\n",
            "750/750 [==============================] - 5s 6ms/step - loss: 0.1006 - accuracy: 0.9698 - val_loss: 0.1092 - val_accuracy: 0.9673\n",
            "Epoch 3/50\n",
            "750/750 [==============================] - 5s 6ms/step - loss: 0.0668 - accuracy: 0.9794 - val_loss: 0.0880 - val_accuracy: 0.9745\n",
            "Epoch 4/50\n",
            "750/750 [==============================] - 5s 6ms/step - loss: 0.0487 - accuracy: 0.9850 - val_loss: 0.0833 - val_accuracy: 0.9754\n",
            "Epoch 5/50\n",
            "750/750 [==============================] - 5s 6ms/step - loss: 0.0393 - accuracy: 0.9875 - val_loss: 0.0848 - val_accuracy: 0.9744\n",
            "Epoch 6/50\n",
            "750/750 [==============================] - 5s 6ms/step - loss: 0.0285 - accuracy: 0.9914 - val_loss: 0.0831 - val_accuracy: 0.9748\n",
            "Epoch 7/50\n",
            "750/750 [==============================] - 5s 6ms/step - loss: 0.0231 - accuracy: 0.9928 - val_loss: 0.0845 - val_accuracy: 0.9766\n",
            "Epoch 8/50\n",
            "750/750 [==============================] - 5s 6ms/step - loss: 0.0183 - accuracy: 0.9943 - val_loss: 0.0866 - val_accuracy: 0.9767\n",
            "Epoch 9/50\n",
            "750/750 [==============================] - 5s 6ms/step - loss: 0.0151 - accuracy: 0.9952 - val_loss: 0.0824 - val_accuracy: 0.9778\n",
            "Epoch 10/50\n",
            "750/750 [==============================] - 5s 6ms/step - loss: 0.0155 - accuracy: 0.9951 - val_loss: 0.0896 - val_accuracy: 0.9784\n",
            "Epoch 11/50\n",
            "750/750 [==============================] - 5s 6ms/step - loss: 0.0125 - accuracy: 0.9961 - val_loss: 0.0910 - val_accuracy: 0.9770\n",
            "Epoch 12/50\n",
            "750/750 [==============================] - 5s 6ms/step - loss: 0.0105 - accuracy: 0.9967 - val_loss: 0.0931 - val_accuracy: 0.9781\n",
            "Epoch 13/50\n",
            "750/750 [==============================] - 5s 6ms/step - loss: 0.0068 - accuracy: 0.9980 - val_loss: 0.0983 - val_accuracy: 0.9772\n",
            "Epoch 14/50\n",
            "750/750 [==============================] - 5s 6ms/step - loss: 0.0092 - accuracy: 0.9969 - val_loss: 0.0995 - val_accuracy: 0.9781\n",
            "Epoch 15/50\n",
            "750/750 [==============================] - 5s 6ms/step - loss: 0.0114 - accuracy: 0.9960 - val_loss: 0.0984 - val_accuracy: 0.9788\n",
            "Epoch 16/50\n",
            "750/750 [==============================] - 5s 6ms/step - loss: 0.0073 - accuracy: 0.9975 - val_loss: 0.0929 - val_accuracy: 0.9808\n",
            "Epoch 17/50\n",
            "750/750 [==============================] - 5s 6ms/step - loss: 0.0057 - accuracy: 0.9982 - val_loss: 0.1149 - val_accuracy: 0.9761\n",
            "Epoch 18/50\n",
            "750/750 [==============================] - 5s 7ms/step - loss: 0.0074 - accuracy: 0.9976 - val_loss: 0.0953 - val_accuracy: 0.9803\n",
            "Epoch 19/50\n",
            "750/750 [==============================] - 5s 6ms/step - loss: 0.0075 - accuracy: 0.9975 - val_loss: 0.1212 - val_accuracy: 0.9749\n",
            "Epoch 20/50\n",
            "750/750 [==============================] - 5s 6ms/step - loss: 0.0088 - accuracy: 0.9968 - val_loss: 0.1112 - val_accuracy: 0.9784\n",
            "Epoch 21/50\n",
            "750/750 [==============================] - 5s 6ms/step - loss: 0.0052 - accuracy: 0.9983 - val_loss: 0.1081 - val_accuracy: 0.9796\n",
            "Epoch 22/50\n",
            "750/750 [==============================] - 5s 6ms/step - loss: 0.0044 - accuracy: 0.9988 - val_loss: 0.1026 - val_accuracy: 0.9808\n",
            "Epoch 23/50\n",
            "750/750 [==============================] - 5s 6ms/step - loss: 0.0012 - accuracy: 0.9998 - val_loss: 0.0974 - val_accuracy: 0.9818\n",
            "Epoch 24/50\n",
            "750/750 [==============================] - 5s 6ms/step - loss: 0.0127 - accuracy: 0.9953 - val_loss: 0.1104 - val_accuracy: 0.9787\n",
            "Epoch 25/50\n",
            "750/750 [==============================] - 5s 6ms/step - loss: 0.0052 - accuracy: 0.9983 - val_loss: 0.1522 - val_accuracy: 0.9731\n",
            "Epoch 26/50\n",
            "750/750 [==============================] - 5s 6ms/step - loss: 0.0031 - accuracy: 0.9990 - val_loss: 0.1315 - val_accuracy: 0.9761\n",
            "Epoch 27/50\n",
            "750/750 [==============================] - 5s 6ms/step - loss: 0.0051 - accuracy: 0.9984 - val_loss: 0.1229 - val_accuracy: 0.9779\n",
            "Epoch 28/50\n",
            "750/750 [==============================] - 5s 6ms/step - loss: 0.0049 - accuracy: 0.9984 - val_loss: 0.1259 - val_accuracy: 0.9807\n",
            "Epoch 29/50\n",
            "750/750 [==============================] - 5s 6ms/step - loss: 0.0036 - accuracy: 0.9987 - val_loss: 0.1230 - val_accuracy: 0.9791\n",
            "Epoch 30/50\n",
            "750/750 [==============================] - 5s 6ms/step - loss: 0.0051 - accuracy: 0.9981 - val_loss: 0.1474 - val_accuracy: 0.9756\n",
            "Epoch 31/50\n",
            "750/750 [==============================] - 5s 6ms/step - loss: 0.0068 - accuracy: 0.9976 - val_loss: 0.1210 - val_accuracy: 0.9801\n",
            "Epoch 32/50\n",
            "750/750 [==============================] - 5s 6ms/step - loss: 0.0030 - accuracy: 0.9991 - val_loss: 0.1311 - val_accuracy: 0.9785\n",
            "Epoch 33/50\n",
            "750/750 [==============================] - 5s 6ms/step - loss: 0.0013 - accuracy: 0.9996 - val_loss: 0.1207 - val_accuracy: 0.9808\n",
            "Epoch 34/50\n",
            "750/750 [==============================] - 5s 6ms/step - loss: 0.0071 - accuracy: 0.9976 - val_loss: 0.1525 - val_accuracy: 0.9752\n",
            "Epoch 35/50\n",
            "750/750 [==============================] - 5s 6ms/step - loss: 0.0076 - accuracy: 0.9977 - val_loss: 0.1248 - val_accuracy: 0.9794\n",
            "Epoch 36/50\n",
            "750/750 [==============================] - 5s 6ms/step - loss: 0.0027 - accuracy: 0.9994 - val_loss: 0.1657 - val_accuracy: 0.9727\n",
            "Epoch 37/50\n",
            "750/750 [==============================] - 5s 6ms/step - loss: 0.0020 - accuracy: 0.9992 - val_loss: 0.1180 - val_accuracy: 0.9807\n",
            "Epoch 38/50\n",
            "750/750 [==============================] - 5s 6ms/step - loss: 0.0060 - accuracy: 0.9981 - val_loss: 0.1512 - val_accuracy: 0.9747\n",
            "Epoch 39/50\n",
            "750/750 [==============================] - 5s 6ms/step - loss: 0.0045 - accuracy: 0.9985 - val_loss: 0.1329 - val_accuracy: 0.9809\n",
            "Epoch 40/50\n",
            "750/750 [==============================] - 5s 6ms/step - loss: 2.2135e-04 - accuracy: 1.0000 - val_loss: 0.1260 - val_accuracy: 0.9813\n",
            "Epoch 41/50\n",
            "750/750 [==============================] - 5s 6ms/step - loss: 1.3772e-04 - accuracy: 1.0000 - val_loss: 0.1202 - val_accuracy: 0.9832\n",
            "Epoch 42/50\n",
            "750/750 [==============================] - 5s 6ms/step - loss: 2.6255e-05 - accuracy: 1.0000 - val_loss: 0.1212 - val_accuracy: 0.9829\n",
            "Epoch 43/50\n",
            "750/750 [==============================] - 5s 6ms/step - loss: 1.7486e-05 - accuracy: 1.0000 - val_loss: 0.1215 - val_accuracy: 0.9831\n",
            "Epoch 44/50\n",
            "750/750 [==============================] - 5s 6ms/step - loss: 1.3871e-05 - accuracy: 1.0000 - val_loss: 0.1217 - val_accuracy: 0.9834\n",
            "Epoch 45/50\n",
            "750/750 [==============================] - 5s 6ms/step - loss: 1.0791e-05 - accuracy: 1.0000 - val_loss: 0.1225 - val_accuracy: 0.9834\n",
            "Epoch 46/50\n",
            "750/750 [==============================] - 5s 6ms/step - loss: 8.8606e-06 - accuracy: 1.0000 - val_loss: 0.1233 - val_accuracy: 0.9833\n",
            "Epoch 47/50\n",
            "750/750 [==============================] - 5s 6ms/step - loss: 7.1767e-06 - accuracy: 1.0000 - val_loss: 0.1242 - val_accuracy: 0.9834\n",
            "Epoch 48/50\n",
            "750/750 [==============================] - 5s 6ms/step - loss: 5.7457e-06 - accuracy: 1.0000 - val_loss: 0.1241 - val_accuracy: 0.9837\n",
            "Epoch 49/50\n",
            "750/750 [==============================] - 5s 6ms/step - loss: 4.6899e-06 - accuracy: 1.0000 - val_loss: 0.1258 - val_accuracy: 0.9834\n",
            "Epoch 50/50\n",
            "750/750 [==============================] - 5s 6ms/step - loss: 3.8987e-06 - accuracy: 1.0000 - val_loss: 0.1255 - val_accuracy: 0.9837\n"
          ],
          "name": "stdout"
        }
      ]
    },
    {
      "cell_type": "markdown",
      "metadata": {
        "id": "O8L_moCuHrsP"
      },
      "source": [
        "Let's save the classification model"
      ]
    },
    {
      "cell_type": "code",
      "metadata": {
        "id": "BQLBeJ-DHrsQ"
      },
      "source": [
        "full_model.save_weights('autoencoder_classification.h5')"
      ],
      "execution_count": 32,
      "outputs": []
    },
    {
      "cell_type": "markdown",
      "metadata": {
        "id": "Kueq_f5zHrsV"
      },
      "source": [
        " Next, you will re-train the model by making the first nineteen layers trainable as True instead of keeping them False! So, let's quickly do that."
      ]
    },
    {
      "cell_type": "code",
      "metadata": {
        "id": "3mz-aEouHrsW"
      },
      "source": [
        "for layer in full_model.layers[0:19]:\n",
        "    layer.trainable = True\n",
        "\n",
        "    full_model.compile(loss=keras.losses.categorical_crossentropy, optimizer=keras.optimizers.Adam(),metrics=['accuracy'])"
      ],
      "execution_count": 33,
      "outputs": []
    },
    {
      "cell_type": "markdown",
      "metadata": {
        "id": "tDKfJI_MHrsb"
      },
      "source": [
        "Now let's train the entire model for one last time!"
      ]
    },
    {
      "cell_type": "code",
      "metadata": {
        "id": "I0-oHVnSHrsc",
        "outputId": "0a8aca70-0844-421b-d152-6f17784196f3",
        "colab": {
          "base_uri": "https://localhost:8080/"
        }
      },
      "source": [
        "classify_train = full_model.fit(train_X, train_label, batch_size=64,epochs=50,verbose=1,validation_data=(valid_X, valid_label))"
      ],
      "execution_count": 34,
      "outputs": [
        {
          "output_type": "stream",
          "text": [
            "Epoch 1/50\n",
            "750/750 [==============================] - 11s 15ms/step - loss: 0.0563 - accuracy: 0.9911 - val_loss: 0.4201 - val_accuracy: 0.9581\n",
            "Epoch 2/50\n",
            "750/750 [==============================] - 11s 15ms/step - loss: 0.0378 - accuracy: 0.9928 - val_loss: 0.1885 - val_accuracy: 0.9763\n",
            "Epoch 3/50\n",
            "750/750 [==============================] - 11s 15ms/step - loss: 0.0285 - accuracy: 0.9938 - val_loss: 0.1266 - val_accuracy: 0.9822\n",
            "Epoch 4/50\n",
            "750/750 [==============================] - 11s 15ms/step - loss: 0.0165 - accuracy: 0.9960 - val_loss: 0.2825 - val_accuracy: 0.9617\n",
            "Epoch 5/50\n",
            "750/750 [==============================] - 11s 15ms/step - loss: 0.0224 - accuracy: 0.9941 - val_loss: 0.1262 - val_accuracy: 0.9827\n",
            "Epoch 6/50\n",
            "750/750 [==============================] - 11s 15ms/step - loss: 0.0187 - accuracy: 0.9955 - val_loss: 0.1561 - val_accuracy: 0.9804\n",
            "Epoch 7/50\n",
            "750/750 [==============================] - 11s 15ms/step - loss: 0.0174 - accuracy: 0.9956 - val_loss: 0.1496 - val_accuracy: 0.9792\n",
            "Epoch 8/50\n",
            "750/750 [==============================] - 11s 15ms/step - loss: 0.0159 - accuracy: 0.9956 - val_loss: 0.1440 - val_accuracy: 0.9822\n",
            "Epoch 9/50\n",
            "750/750 [==============================] - 11s 15ms/step - loss: 0.0167 - accuracy: 0.9958 - val_loss: 0.1055 - val_accuracy: 0.9832\n",
            "Epoch 10/50\n",
            "750/750 [==============================] - 11s 15ms/step - loss: 0.0161 - accuracy: 0.9956 - val_loss: 0.1573 - val_accuracy: 0.9772\n",
            "Epoch 11/50\n",
            "750/750 [==============================] - 11s 15ms/step - loss: 0.0126 - accuracy: 0.9968 - val_loss: 0.1791 - val_accuracy: 0.9728\n",
            "Epoch 12/50\n",
            "750/750 [==============================] - 11s 15ms/step - loss: 0.0094 - accuracy: 0.9976 - val_loss: 0.1902 - val_accuracy: 0.9766\n",
            "Epoch 13/50\n",
            "750/750 [==============================] - 11s 15ms/step - loss: 0.0173 - accuracy: 0.9953 - val_loss: 0.1114 - val_accuracy: 0.9835\n",
            "Epoch 14/50\n",
            "750/750 [==============================] - 11s 15ms/step - loss: 0.0130 - accuracy: 0.9964 - val_loss: 0.0960 - val_accuracy: 0.9847\n",
            "Epoch 15/50\n",
            "750/750 [==============================] - 11s 15ms/step - loss: 0.0088 - accuracy: 0.9974 - val_loss: 0.1072 - val_accuracy: 0.9853\n",
            "Epoch 16/50\n",
            "750/750 [==============================] - 11s 15ms/step - loss: 0.0099 - accuracy: 0.9974 - val_loss: 2.0242 - val_accuracy: 0.7197\n",
            "Epoch 17/50\n",
            "750/750 [==============================] - 11s 15ms/step - loss: 0.0092 - accuracy: 0.9978 - val_loss: 0.1109 - val_accuracy: 0.9803\n",
            "Epoch 18/50\n",
            "750/750 [==============================] - 11s 15ms/step - loss: 0.0127 - accuracy: 0.9964 - val_loss: 0.1404 - val_accuracy: 0.9794\n",
            "Epoch 19/50\n",
            "750/750 [==============================] - 11s 15ms/step - loss: 0.0080 - accuracy: 0.9979 - val_loss: 0.2834 - val_accuracy: 0.9632\n",
            "Epoch 20/50\n",
            "750/750 [==============================] - 11s 15ms/step - loss: 0.0110 - accuracy: 0.9973 - val_loss: 0.0874 - val_accuracy: 0.9876\n",
            "Epoch 21/50\n",
            "750/750 [==============================] - 11s 15ms/step - loss: 0.0072 - accuracy: 0.9983 - val_loss: 0.1546 - val_accuracy: 0.9832\n",
            "Epoch 22/50\n",
            "750/750 [==============================] - 11s 15ms/step - loss: 0.0139 - accuracy: 0.9967 - val_loss: 0.0784 - val_accuracy: 0.9862\n",
            "Epoch 23/50\n",
            "750/750 [==============================] - 11s 15ms/step - loss: 0.0067 - accuracy: 0.9985 - val_loss: 0.2409 - val_accuracy: 0.9643\n",
            "Epoch 24/50\n",
            "750/750 [==============================] - 11s 15ms/step - loss: 0.0104 - accuracy: 0.9975 - val_loss: 0.1065 - val_accuracy: 0.9866\n",
            "Epoch 25/50\n",
            "750/750 [==============================] - 11s 15ms/step - loss: 0.0065 - accuracy: 0.9983 - val_loss: 0.4716 - val_accuracy: 0.9190\n",
            "Epoch 26/50\n",
            "750/750 [==============================] - 11s 15ms/step - loss: 0.0101 - accuracy: 0.9973 - val_loss: 0.2014 - val_accuracy: 0.9803\n",
            "Epoch 27/50\n",
            "750/750 [==============================] - 11s 15ms/step - loss: 0.0079 - accuracy: 0.9984 - val_loss: 0.1509 - val_accuracy: 0.9820\n",
            "Epoch 28/50\n",
            "750/750 [==============================] - 11s 15ms/step - loss: 0.0090 - accuracy: 0.9980 - val_loss: 0.1472 - val_accuracy: 0.9837\n",
            "Epoch 29/50\n",
            "750/750 [==============================] - 11s 15ms/step - loss: 0.0063 - accuracy: 0.9985 - val_loss: 0.1914 - val_accuracy: 0.9789\n",
            "Epoch 30/50\n",
            "750/750 [==============================] - 11s 15ms/step - loss: 0.0116 - accuracy: 0.9975 - val_loss: 0.1296 - val_accuracy: 0.9850\n",
            "Epoch 31/50\n",
            "750/750 [==============================] - 11s 15ms/step - loss: 0.0062 - accuracy: 0.9985 - val_loss: 0.1175 - val_accuracy: 0.9887\n",
            "Epoch 32/50\n",
            "750/750 [==============================] - 11s 15ms/step - loss: 0.0019 - accuracy: 0.9995 - val_loss: 0.1868 - val_accuracy: 0.9796\n",
            "Epoch 33/50\n",
            "750/750 [==============================] - 11s 15ms/step - loss: 0.0136 - accuracy: 0.9972 - val_loss: 0.1404 - val_accuracy: 0.9818\n",
            "Epoch 34/50\n",
            "750/750 [==============================] - 11s 15ms/step - loss: 0.0067 - accuracy: 0.9985 - val_loss: 0.0995 - val_accuracy: 0.9867\n",
            "Epoch 35/50\n",
            "750/750 [==============================] - 11s 15ms/step - loss: 0.0031 - accuracy: 0.9991 - val_loss: 0.1784 - val_accuracy: 0.9722\n",
            "Epoch 36/50\n",
            "750/750 [==============================] - 11s 15ms/step - loss: 0.0125 - accuracy: 0.9973 - val_loss: 1.2682 - val_accuracy: 0.9142\n",
            "Epoch 37/50\n",
            "750/750 [==============================] - 11s 15ms/step - loss: 0.0100 - accuracy: 0.9980 - val_loss: 0.2240 - val_accuracy: 0.9806\n",
            "Epoch 38/50\n",
            "750/750 [==============================] - 11s 15ms/step - loss: 0.0110 - accuracy: 0.9979 - val_loss: 0.1520 - val_accuracy: 0.9829\n",
            "Epoch 39/50\n",
            "750/750 [==============================] - 11s 15ms/step - loss: 0.0066 - accuracy: 0.9986 - val_loss: 0.2015 - val_accuracy: 0.9780\n",
            "Epoch 40/50\n",
            "750/750 [==============================] - 11s 15ms/step - loss: 0.0083 - accuracy: 0.9983 - val_loss: 0.1155 - val_accuracy: 0.9848\n",
            "Epoch 41/50\n",
            "750/750 [==============================] - 11s 15ms/step - loss: 0.0051 - accuracy: 0.9987 - val_loss: 0.1005 - val_accuracy: 0.9886\n",
            "Epoch 42/50\n",
            "750/750 [==============================] - 11s 15ms/step - loss: 0.0067 - accuracy: 0.9986 - val_loss: 0.1144 - val_accuracy: 0.9855\n",
            "Epoch 43/50\n",
            "750/750 [==============================] - 11s 15ms/step - loss: 0.0084 - accuracy: 0.9981 - val_loss: 0.1319 - val_accuracy: 0.9868\n",
            "Epoch 44/50\n",
            "750/750 [==============================] - 11s 15ms/step - loss: 0.0105 - accuracy: 0.9981 - val_loss: 0.1049 - val_accuracy: 0.9858\n",
            "Epoch 45/50\n",
            "750/750 [==============================] - 11s 15ms/step - loss: 0.0051 - accuracy: 0.9989 - val_loss: 0.1525 - val_accuracy: 0.9876\n",
            "Epoch 46/50\n",
            "750/750 [==============================] - 11s 15ms/step - loss: 0.0073 - accuracy: 0.9986 - val_loss: 0.2025 - val_accuracy: 0.9797\n",
            "Epoch 47/50\n",
            "750/750 [==============================] - 11s 15ms/step - loss: 0.0074 - accuracy: 0.9986 - val_loss: 0.1107 - val_accuracy: 0.9881\n",
            "Epoch 48/50\n",
            "750/750 [==============================] - 11s 15ms/step - loss: 0.0077 - accuracy: 0.9986 - val_loss: 0.1415 - val_accuracy: 0.9882\n",
            "Epoch 49/50\n",
            "750/750 [==============================] - 11s 15ms/step - loss: 0.0056 - accuracy: 0.9988 - val_loss: 0.1101 - val_accuracy: 0.9887\n",
            "Epoch 50/50\n",
            "750/750 [==============================] - 11s 15ms/step - loss: 0.0072 - accuracy: 0.9985 - val_loss: 0.1145 - val_accuracy: 0.9881\n"
          ],
          "name": "stdout"
        }
      ]
    },
    {
      "cell_type": "markdown",
      "metadata": {
        "id": "-poynZU_Hrsf"
      },
      "source": [
        "Let's save the model for one last time."
      ]
    },
    {
      "cell_type": "code",
      "metadata": {
        "id": "EIvW4OFZHrsg"
      },
      "source": [
        "full_model.save_weights('classification_complete.h5')"
      ],
      "execution_count": 35,
      "outputs": []
    },
    {
      "cell_type": "markdown",
      "metadata": {
        "id": "9_nWWyGLHrsj"
      },
      "source": [
        "Let's put your model evaluation into perspective and plot the accuracy and loss plots between training and validation data:"
      ]
    },
    {
      "cell_type": "code",
      "metadata": {
        "id": "2DYrgPw6Hrsk",
        "outputId": "d247900e-e03d-449d-9d1f-20cec0bde3f3",
        "colab": {
          "base_uri": "https://localhost:8080/",
          "height": 545
        }
      },
      "source": [
        "accuracy = classify_train.history['accuracy']\n",
        "val_accuracy = classify_train.history['val_accuracy']\n",
        "loss = classify_train.history['loss']\n",
        "val_loss = classify_train.history['val_loss']\n",
        "epochs = range(len(accuracy))\n",
        "plt.plot(epochs, accuracy, 'bo', label='Training accuracy')\n",
        "plt.plot(epochs, val_accuracy, 'b', label='Validation accuracy')\n",
        "plt.title('Training and validation accuracy')\n",
        "plt.legend()\n",
        "plt.figure()\n",
        "plt.plot(epochs, loss, 'bo', label='Training loss')\n",
        "plt.plot(epochs, val_loss, 'b', label='Validation loss')\n",
        "plt.title('Training and validation loss')\n",
        "plt.legend()\n",
        "plt.show()"
      ],
      "execution_count": 36,
      "outputs": [
        {
          "output_type": "display_data",
          "data": {
            "image/png": "[encoded data removed]",
            "text/plain": [
              "<Figure size 432x288 with 1 Axes>"
            ]
          },
          "metadata": {
            "tags": [],
            "needs_background": "light"
          }
        },
        {
          "output_type": "display_data",
          "data": {
            "image/png": "[encoded data removed]",
            "text/plain": [
              "<Figure size 432x288 with 1 Axes>"
            ]
          },
          "metadata": {
            "tags": [],
            "needs_background": "light"
          }
        }
      ]
    },
    {
      "cell_type": "markdown",
      "metadata": {
        "id": "2GA78iVoHrsn"
      },
      "source": [
        "Model Evaluation on the Test Set\n",
        "\n",
        "Finally, let's also evaluate your model on test data and see how it performs!\n",
        "\n"
      ]
    },
    {
      "cell_type": "code",
      "metadata": {
        "id": "QwRhYdbBHrsp",
        "outputId": "a46e413f-7576-4e82-eedf-9c4a11787f3a",
        "colab": {
          "base_uri": "https://localhost:8080/"
        }
      },
      "source": [
        "test_eval = full_model.evaluate(test_data, test_Y_one_hot, verbose=0)\n",
        "\n",
        "print('Test loss:', test_eval[0])\n",
        "print('Test accuracy:', test_eval[1])"
      ],
      "execution_count": 37,
      "outputs": [
        {
          "output_type": "stream",
          "text": [
            "Test loss: 0.11752324551343918\n",
            "Test accuracy: 0.9876000285148621\n"
          ],
          "name": "stdout"
        }
      ]
    },
    {
      "cell_type": "markdown",
      "metadata": {
        "id": "qw2K9zMjHrs-"
      },
      "source": [
        "Predict Labels"
      ]
    },
    {
      "cell_type": "code",
      "metadata": {
        "id": "dLBzyUKoHrs-"
      },
      "source": [
        "predicted_classes = full_model.predict(test_data)"
      ],
      "execution_count": 38,
      "outputs": []
    },
    {
      "cell_type": "markdown",
      "metadata": {
        "id": "fNNTN7muHrtB"
      },
      "source": [
        "Since the predictions you get are floating point values, it will not be feasible to compare the predicted labels with true test labels. So, you will round off the output which will convert the float values into an integer. Further, you will use np.argmax() to select the index number which has a higher value in a row.\n",
        "\n",
        "For example, let's assume a prediction for one test image to be [0 1 0 0 0 0 0 0 0 0], the output for this should be a class label 1.\n",
        "\n"
      ]
    },
    {
      "cell_type": "code",
      "metadata": {
        "id": "CqoMjnpAHrtC",
        "outputId": "70bb611f-ea0e-4b1f-b1f1-f1a542582b9e",
        "colab": {
          "base_uri": "https://localhost:8080/"
        }
      },
      "source": [
        "predicted_classes = np.argmax(np.round(predicted_classes),axis=1)\n",
        "predicted_classes.shape, test_labels.shape"
      ],
      "execution_count": 39,
      "outputs": [
        {
          "output_type": "execute_result",
          "data": {
            "text/plain": [
              "((10000,), (10000,))"
            ]
          },
          "metadata": {
            "tags": []
          },
          "execution_count": 39
        }
      ]
    },
    {
      "cell_type": "code",
      "metadata": {
        "id": "M1tGqD-xHrtF",
        "outputId": "dfcb813a-1927-4c9a-8e3a-bdad2fc08cc4",
        "colab": {
          "base_uri": "https://localhost:8080/",
          "height": 314
        }
      },
      "source": [
        "correct = np.where(predicted_classes==test_labels)[0]\n",
        "print (\"Found %d correct labels\" % len(correct))\n",
        "for i, correct in enumerate(correct[:9]):\n",
        "    plt.subplot(3,3,i+1)\n",
        "    plt.imshow(test_data[correct].reshape(28,28), cmap='gray', interpolation='none')\n",
        "    plt.title(\"Predicted {}, Class {}\".format(predicted_classes[correct], test_labels[correct]))\n",
        "    plt.tight_layout()"
      ],
      "execution_count": 40,
      "outputs": [
        {
          "output_type": "stream",
          "text": [
            "Found 9876 correct labels\n"
          ],
          "name": "stdout"
        },
        {
          "output_type": "display_data",
          "data": {
            "image/png": "[encoded data removed]",
            "text/plain": [
              "<Figure size 432x288 with 9 Axes>"
            ]
          },
          "metadata": {
            "tags": [],
            "needs_background": "light"
          }
        }
      ]
    },
    {
      "cell_type": "code",
      "metadata": {
        "id": "tswuHUydHrtI",
        "outputId": "3ca5fb23-f7de-42f1-f1a7-fb43560862a8",
        "colab": {
          "base_uri": "https://localhost:8080/",
          "height": 314
        }
      },
      "source": [
        "incorrect = np.where(predicted_classes!=test_labels)[0]\n",
        "print (\"Found %d incorrect labels\" % len(incorrect))\n",
        "for i, incorrect in enumerate(incorrect[:9]):\n",
        "    plt.subplot(3,3,i+1)\n",
        "    plt.imshow(test_data[incorrect].reshape(28,28), cmap='gray', interpolation='none')\n",
        "    plt.title(\"Predicted {}, Class {}\".format(predicted_classes[incorrect], test_labels[incorrect]))\n",
        "    plt.tight_layout()"
      ],
      "execution_count": 41,
      "outputs": [
        {
          "output_type": "stream",
          "text": [
            "Found 124 incorrect labels\n"
          ],
          "name": "stdout"
        },
        {
          "output_type": "display_data",
          "data": {
            "image/png": "[encoded data removed]",
            "text/plain": [
              "<Figure size 432x288 with 9 Axes>"
            ]
          },
          "metadata": {
            "tags": [],
            "needs_background": "light"
          }
        }
      ]
    },
    {
      "cell_type": "markdown",
      "metadata": {
        "id": "r81zYC8nHrtM"
      },
      "source": [
        "Classification Report\n",
        "\n",
        "Classification report will help you in identifying the misclassified classes in more detail. You will be able to observe for which class the model performed bad out of the given ten classes.\n",
        "\n"
      ]
    },
    {
      "cell_type": "code",
      "metadata": {
        "id": "EdTA7VA4HrtN",
        "outputId": "6f99b1fb-3cc0-4596-d55e-cb3ba668a07c",
        "colab": {
          "base_uri": "https://localhost:8080/"
        }
      },
      "source": [
        "from sklearn.metrics import classification_report\n",
        "target_names = [\"Class {}\".format(i) for i in range(num_classes)]\n",
        "print(classification_report(test_labels, predicted_classes, target_names=target_names))"
      ],
      "execution_count": 42,
      "outputs": [
        {
          "output_type": "stream",
          "text": [
            "              precision    recall  f1-score   support\n",
            "\n",
            "     Class 0       0.99      0.99      0.99       980\n",
            "     Class 1       0.99      1.00      0.99      1135\n",
            "     Class 2       1.00      0.98      0.99      1032\n",
            "     Class 3       0.99      0.99      0.99      1010\n",
            "     Class 4       0.99      0.99      0.99       982\n",
            "     Class 5       0.99      0.98      0.99       892\n",
            "     Class 6       0.99      0.99      0.99       958\n",
            "     Class 7       0.98      0.99      0.99      1028\n",
            "     Class 8       0.97      1.00      0.98       974\n",
            "     Class 9       0.99      0.97      0.98      1009\n",
            "\n",
            "    accuracy                           0.99     10000\n",
            "   macro avg       0.99      0.99      0.99     10000\n",
            "weighted avg       0.99      0.99      0.99     10000\n",
            "\n"
          ],
          "name": "stdout"
        }
      ]
    },
    {
      "cell_type": "code",
      "metadata": {
        "id": "Fp5dMAR2HrtQ"
      },
      "source": [
        ""
      ],
      "execution_count": null,
      "outputs": []
    }
  ]
}